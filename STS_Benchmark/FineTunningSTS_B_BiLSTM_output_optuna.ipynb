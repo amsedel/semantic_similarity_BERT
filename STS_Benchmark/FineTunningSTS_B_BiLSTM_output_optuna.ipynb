{
  "cells": [
    {
      "cell_type": "code",
      "source": [
        "import locale\n",
        "def getpreferredencoding(do_setlocale = True):\n",
        "    return \"UTF-8\"\n",
        "locale.getpreferredencoding = getpreferredencoding"
      ],
      "metadata": {
        "id": "qc0QMDk40uHK"
      },
      "execution_count": 1,
      "outputs": []
    },
    {
      "cell_type": "code",
      "execution_count": 2,
      "metadata": {
        "id": "-bc_vxzLzGWU",
        "colab": {
          "base_uri": "https://localhost:8080/"
        },
        "outputId": "11206ca8-cb9b-40dc-e68a-fcca3562ba0d"
      },
      "outputs": [
        {
          "output_type": "stream",
          "name": "stdout",
          "text": [
            "Looking in indexes: https://pypi.org/simple, https://us-python.pkg.dev/colab-wheels/public/simple/\n",
            "Collecting transformers\n",
            "  Downloading transformers-4.29.1-py3-none-any.whl (7.1 MB)\n",
            "\u001b[2K     \u001b[90m━━━━━━━━━━━━━━━━━━━━━━━━━━━━━━━━━━━━━━━━\u001b[0m \u001b[32m7.1/7.1 MB\u001b[0m \u001b[31m55.5 MB/s\u001b[0m eta \u001b[36m0:00:00\u001b[0m\n",
            "\u001b[?25hRequirement already satisfied: filelock in /usr/local/lib/python3.10/dist-packages (from transformers) (3.12.0)\n",
            "Collecting huggingface-hub<1.0,>=0.14.1 (from transformers)\n",
            "  Downloading huggingface_hub-0.14.1-py3-none-any.whl (224 kB)\n",
            "\u001b[2K     \u001b[90m━━━━━━━━━━━━━━━━━━━━━━━━━━━━━━━━━━━━━━\u001b[0m \u001b[32m224.5/224.5 kB\u001b[0m \u001b[31m30.1 MB/s\u001b[0m eta \u001b[36m0:00:00\u001b[0m\n",
            "\u001b[?25hRequirement already satisfied: numpy>=1.17 in /usr/local/lib/python3.10/dist-packages (from transformers) (1.22.4)\n",
            "Requirement already satisfied: packaging>=20.0 in /usr/local/lib/python3.10/dist-packages (from transformers) (23.1)\n",
            "Requirement already satisfied: pyyaml>=5.1 in /usr/local/lib/python3.10/dist-packages (from transformers) (6.0)\n",
            "Requirement already satisfied: regex!=2019.12.17 in /usr/local/lib/python3.10/dist-packages (from transformers) (2022.10.31)\n",
            "Requirement already satisfied: requests in /usr/local/lib/python3.10/dist-packages (from transformers) (2.27.1)\n",
            "Collecting tokenizers!=0.11.3,<0.14,>=0.11.1 (from transformers)\n",
            "  Downloading tokenizers-0.13.3-cp310-cp310-manylinux_2_17_x86_64.manylinux2014_x86_64.whl (7.8 MB)\n",
            "\u001b[2K     \u001b[90m━━━━━━━━━━━━━━━━━━━━━━━━━━━━━━━━━━━━━━━━\u001b[0m \u001b[32m7.8/7.8 MB\u001b[0m \u001b[31m77.0 MB/s\u001b[0m eta \u001b[36m0:00:00\u001b[0m\n",
            "\u001b[?25hRequirement already satisfied: tqdm>=4.27 in /usr/local/lib/python3.10/dist-packages (from transformers) (4.65.0)\n",
            "Requirement already satisfied: fsspec in /usr/local/lib/python3.10/dist-packages (from huggingface-hub<1.0,>=0.14.1->transformers) (2023.4.0)\n",
            "Requirement already satisfied: typing-extensions>=3.7.4.3 in /usr/local/lib/python3.10/dist-packages (from huggingface-hub<1.0,>=0.14.1->transformers) (4.5.0)\n",
            "Requirement already satisfied: urllib3<1.27,>=1.21.1 in /usr/local/lib/python3.10/dist-packages (from requests->transformers) (1.26.15)\n",
            "Requirement already satisfied: certifi>=2017.4.17 in /usr/local/lib/python3.10/dist-packages (from requests->transformers) (2022.12.7)\n",
            "Requirement already satisfied: charset-normalizer~=2.0.0 in /usr/local/lib/python3.10/dist-packages (from requests->transformers) (2.0.12)\n",
            "Requirement already satisfied: idna<4,>=2.5 in /usr/local/lib/python3.10/dist-packages (from requests->transformers) (3.4)\n",
            "Installing collected packages: tokenizers, huggingface-hub, transformers\n",
            "Successfully installed huggingface-hub-0.14.1 tokenizers-0.13.3 transformers-4.29.1\n",
            "Looking in indexes: https://pypi.org/simple, https://us-python.pkg.dev/colab-wheels/public/simple/\n",
            "Collecting optuna\n",
            "  Downloading optuna-3.1.1-py3-none-any.whl (365 kB)\n",
            "\u001b[2K     \u001b[90m━━━━━━━━━━━━━━━━━━━━━━━━━━━━━━━━━━━━━━━\u001b[0m \u001b[32m365.7/365.7 kB\u001b[0m \u001b[31m7.5 MB/s\u001b[0m eta \u001b[36m0:00:00\u001b[0m\n",
            "\u001b[?25hCollecting alembic>=1.5.0 (from optuna)\n",
            "  Downloading alembic-1.10.4-py3-none-any.whl (212 kB)\n",
            "\u001b[2K     \u001b[90m━━━━━━━━━━━━━━━━━━━━━━━━━━━━━━━━━━━━━━\u001b[0m \u001b[32m212.9/212.9 kB\u001b[0m \u001b[31m28.0 MB/s\u001b[0m eta \u001b[36m0:00:00\u001b[0m\n",
            "\u001b[?25hCollecting cmaes>=0.9.1 (from optuna)\n",
            "  Downloading cmaes-0.9.1-py3-none-any.whl (21 kB)\n",
            "Collecting colorlog (from optuna)\n",
            "  Downloading colorlog-6.7.0-py2.py3-none-any.whl (11 kB)\n",
            "Requirement already satisfied: numpy in /usr/local/lib/python3.10/dist-packages (from optuna) (1.22.4)\n",
            "Requirement already satisfied: packaging>=20.0 in /usr/local/lib/python3.10/dist-packages (from optuna) (23.1)\n",
            "Requirement already satisfied: sqlalchemy>=1.3.0 in /usr/local/lib/python3.10/dist-packages (from optuna) (2.0.10)\n",
            "Requirement already satisfied: tqdm in /usr/local/lib/python3.10/dist-packages (from optuna) (4.65.0)\n",
            "Requirement already satisfied: PyYAML in /usr/local/lib/python3.10/dist-packages (from optuna) (6.0)\n",
            "Collecting Mako (from alembic>=1.5.0->optuna)\n",
            "  Downloading Mako-1.2.4-py3-none-any.whl (78 kB)\n",
            "\u001b[2K     \u001b[90m━━━━━━━━━━━━━━━━━━━━━━━━━━━━━━━━━━━━━━━━\u001b[0m \u001b[32m78.7/78.7 kB\u001b[0m \u001b[31m9.9 MB/s\u001b[0m eta \u001b[36m0:00:00\u001b[0m\n",
            "\u001b[?25hRequirement already satisfied: typing-extensions>=4 in /usr/local/lib/python3.10/dist-packages (from alembic>=1.5.0->optuna) (4.5.0)\n",
            "Requirement already satisfied: greenlet!=0.4.17 in /usr/local/lib/python3.10/dist-packages (from sqlalchemy>=1.3.0->optuna) (2.0.2)\n",
            "Requirement already satisfied: MarkupSafe>=0.9.2 in /usr/local/lib/python3.10/dist-packages (from Mako->alembic>=1.5.0->optuna) (2.1.2)\n",
            "Installing collected packages: Mako, colorlog, cmaes, alembic, optuna\n",
            "Successfully installed Mako-1.2.4 alembic-1.10.4 cmaes-0.9.1 colorlog-6.7.0 optuna-3.1.1\n",
            "Mounted at /content/drive\n"
          ]
        }
      ],
      "source": [
        "import pandas as pd\n",
        "import torch\n",
        "import numpy as np\n",
        "import random\n",
        "import re\n",
        "import spacy\n",
        "import shutil\n",
        "import matplotlib.pyplot as plt\n",
        "!pip install transformers\n",
        "!pip install optuna\n",
        "import torch.nn as nn\n",
        "import torch.optim as optim\n",
        "from transformers import AutoTokenizer, BertTokenizer, AutoModel, BertModel\n",
        "from torch.utils.data import Dataset, TensorDataset, DataLoader, random_split, RandomSampler, SequentialSampler\n",
        "import time\n",
        "import optuna\n",
        "from scipy.stats import spearmanr\n",
        "import psycopg2\n",
        "import csv\n",
        "import math\n",
        "import os\n",
        "from sqlalchemy import create_engine\n",
        "from optuna.storages import RDBStorage\n",
        "from google.colab import drive\n",
        "from google.colab import files\n",
        "drive.mount('/content/drive')"
      ]
    },
    {
      "cell_type": "code",
      "source": [
        "path_base = '/content/drive/MyDrive/Tesis/STS_Benchmark/transformer_tunned_BERT/uncase_base/study_optuna/'"
      ],
      "metadata": {
        "id": "pHJ0GN88YjNV"
      },
      "execution_count": 3,
      "outputs": []
    },
    {
      "cell_type": "code",
      "execution_count": null,
      "metadata": {
        "colab": {
          "base_uri": "https://localhost:8080/"
        },
        "id": "Dy2Cy1hZz_JJ",
        "outputId": "e2d7eed4-dc00-4aa0-ac67-7e7fee9f581d"
      },
      "outputs": [
        {
          "name": "stdout",
          "output_type": "stream",
          "text": [
            "Mounted at /content/drive\n"
          ]
        }
      ],
      "source": [
        "#from google.colab import drive\n",
        "#drive.mount('/content/drive')"
      ]
    },
    {
      "cell_type": "code",
      "source": [
        "!wget -O Stsbenchmark.tar.gz http://ixa2.si.ehu.es/stswiki/images/4/48/Stsbenchmark.tar.gz\n",
        "shutil.unpack_archive('./Stsbenchmark.tar.gz', extract_dir='./', format='gztar')"
      ],
      "metadata": {
        "colab": {
          "base_uri": "https://localhost:8080/"
        },
        "id": "uZ5dtmBFZ5kN",
        "outputId": "39edde94-5759-4921-c4d3-be93c1320e51"
      },
      "execution_count": 4,
      "outputs": [
        {
          "output_type": "stream",
          "name": "stdout",
          "text": [
            "--2023-05-11 23:03:09--  http://ixa2.si.ehu.es/stswiki/images/4/48/Stsbenchmark.tar.gz\n",
            "Resolving ixa2.si.ehu.es (ixa2.si.ehu.es)... 158.227.106.100\n",
            "Connecting to ixa2.si.ehu.es (ixa2.si.ehu.es)|158.227.106.100|:80... connected.\n",
            "HTTP request sent, awaiting response... 302 Found\n",
            "Location: http://ixa2.si.ehu.eus/stswiki/images/4/48/Stsbenchmark.tar.gz [following]\n",
            "--2023-05-11 23:03:10--  http://ixa2.si.ehu.eus/stswiki/images/4/48/Stsbenchmark.tar.gz\n",
            "Resolving ixa2.si.ehu.eus (ixa2.si.ehu.eus)... 158.227.106.100\n",
            "Connecting to ixa2.si.ehu.eus (ixa2.si.ehu.eus)|158.227.106.100|:80... connected.\n",
            "HTTP request sent, awaiting response... 200 OK\n",
            "Length: 409630 (400K) [application/x-gzip]\n",
            "Saving to: ‘Stsbenchmark.tar.gz’\n",
            "\n",
            "Stsbenchmark.tar.gz 100%[===================>] 400.03K   532KB/s    in 0.8s    \n",
            "\n",
            "2023-05-11 23:03:11 (532 KB/s) - ‘Stsbenchmark.tar.gz’ saved [409630/409630]\n",
            "\n"
          ]
        }
      ]
    },
    {
      "cell_type": "code",
      "source": [
        "def getSTSBenchmarkSents(filename='sts-train.csv', root='stsbenchmark/', encoding='utf-8'):\n",
        "  f = open(root+filename, 'r', encoding=encoding)\n",
        "  s1, s2, target = [], [], []\n",
        "  for line in f:\n",
        "    example = re.split(r'\\t+', line)\n",
        "    if len(example) > 7:\n",
        "      example = example[:-2]\n",
        "    s2.append(example[-1])\n",
        "    s1.append(example[-2])\n",
        "    target.append(float(example[-3]))\n",
        "  print(\"{} samples: {}\".format(filename, len(target)))\n",
        "  return s1, s2, target"
      ],
      "metadata": {
        "id": "jaSIxSSCw5AY"
      },
      "execution_count": 5,
      "outputs": []
    },
    {
      "cell_type": "code",
      "source": [
        "s1_train,s2_train,target_train = getSTSBenchmarkSents(filename='sts-train.csv')"
      ],
      "metadata": {
        "colab": {
          "base_uri": "https://localhost:8080/"
        },
        "id": "F_j7JTGEzZyz",
        "outputId": "b01e908a-553f-404d-8f11-0de73c392887"
      },
      "execution_count": 6,
      "outputs": [
        {
          "output_type": "stream",
          "name": "stdout",
          "text": [
            "sts-train.csv samples: 5749\n"
          ]
        }
      ]
    },
    {
      "cell_type": "code",
      "source": [
        "s1_test,s2_test,target_test= getSTSBenchmarkSents(filename='sts-test.csv')"
      ],
      "metadata": {
        "colab": {
          "base_uri": "https://localhost:8080/"
        },
        "id": "u_wBVbk6zwRF",
        "outputId": "5caf55f7-eb93-4705-9e04-f7703c2523f1"
      },
      "execution_count": 7,
      "outputs": [
        {
          "output_type": "stream",
          "name": "stdout",
          "text": [
            "sts-test.csv samples: 1379\n"
          ]
        }
      ]
    },
    {
      "cell_type": "code",
      "source": [
        "s1_dev,s2_dev,target_dev= getSTSBenchmarkSents(filename='sts-dev.csv')"
      ],
      "metadata": {
        "colab": {
          "base_uri": "https://localhost:8080/"
        },
        "id": "HCAYUG03z14L",
        "outputId": "d4d7451b-c22d-4dfb-8fec-d0c6dba44382"
      },
      "execution_count": 8,
      "outputs": [
        {
          "output_type": "stream",
          "name": "stdout",
          "text": [
            "sts-dev.csv samples: 1500\n"
          ]
        }
      ]
    },
    {
      "cell_type": "code",
      "execution_count": 9,
      "metadata": {
        "id": "X8TBNqYyCj-u",
        "colab": {
          "base_uri": "https://localhost:8080/"
        },
        "outputId": "63d068cc-11a6-4cd3-fa9e-14a7c3e24fb4"
      },
      "outputs": [
        {
          "output_type": "stream",
          "name": "stdout",
          "text": [
            "Device: cuda\n"
          ]
        }
      ],
      "source": [
        "device = 'cuda' if torch.cuda.is_available() else 'cpu'\n",
        "print(f'Device: {device}')"
      ]
    },
    {
      "cell_type": "code",
      "execution_count": 10,
      "metadata": {
        "id": "HQf5A_IsCu9I"
      },
      "outputs": [],
      "source": [
        "BATCH_SIZE = 32\n",
        "MAX_LEN = 128\n",
        "CORPUS = 'STS-B'\n",
        "BERT_PATH = \"bert-base-uncased\""
      ]
    },
    {
      "cell_type": "code",
      "execution_count": 11,
      "metadata": {
        "id": "z600WMjxHnOJ",
        "colab": {
          "base_uri": "https://localhost:8080/",
          "height": 113,
          "referenced_widgets": [
            "d1b166ccc9bf4dd08d8dfac4ef18f44d",
            "e35df03c5d7f4d28a6e8e2957fd2b0fc",
            "ef1173495a2a4d2989b9f0451927810b",
            "780a93e8bdef4ace8d4678b2d2be8ab6",
            "20bd9c0f83984797a7a7ddfec5447456",
            "7d296d49c59443f5b487b9b161d9acc6",
            "03f52d7a27334979a07d9851cdc022a8",
            "1f1f94f623f746a98f7e722b7c69525f",
            "cfb9a36291e34bbfa3710fcd7ee05e20",
            "f014934568dc4331a571ba5d3da0e9b6",
            "ce8dc1909bd4426f95e45b414c6a1e01",
            "3b594bc0988a4a34b14ebe348a5c3da5",
            "1c741af47c5642798ab97d6416207919",
            "3e212fb296f0443b8db1caa8a99f9a67",
            "6c393821a3f04ba0a272cec34fbeaaa2",
            "fb66caa3640e4345bcf14f36a5e32471",
            "81d24ebab93a4bd2bc7e205fb0b6e9aa",
            "7b786eaf2faf4c3e81da6b1a81e913fc",
            "75d4357b5dc448f084241c72d3da4751",
            "c1991cebdc9b4c6d98193951735ffe12",
            "f245105064fd48908407e1679f2371ea",
            "6b7606e3330f454a88e2d4573e474055",
            "f988d4e60c8e4b669696c1fc80d6af8e",
            "de1a9ca5250f49e1a3fb54c8d46bc528",
            "2bdeb11dda4e4eaa822079bc0d41cba3",
            "b9cc6cf7c20d4a6a9863c0eda67baa8f",
            "6a80a3ea0cf94ad2b2b788eadfbfd3b9",
            "9b0c66e7b7044488a71d1167c64286f5",
            "b209738b989f40759956ffd4ca5b4b42",
            "9ee41b38884a4f98b855dca1c183752f",
            "ef9947ef16d645b2a744472c1a168dba",
            "88526c6723e84d3da0ff1de5e9c5c67b",
            "e121afc4e4894e6681fc57d04253bb25"
          ]
        },
        "outputId": "f9614aea-6206-468c-ef9d-a4919e0eeef3"
      },
      "outputs": [
        {
          "output_type": "display_data",
          "data": {
            "text/plain": [
              "Downloading (…)solve/main/vocab.txt:   0%|          | 0.00/232k [00:00<?, ?B/s]"
            ],
            "application/vnd.jupyter.widget-view+json": {
              "version_major": 2,
              "version_minor": 0,
              "model_id": "d1b166ccc9bf4dd08d8dfac4ef18f44d"
            }
          },
          "metadata": {}
        },
        {
          "output_type": "display_data",
          "data": {
            "text/plain": [
              "Downloading (…)okenizer_config.json:   0%|          | 0.00/28.0 [00:00<?, ?B/s]"
            ],
            "application/vnd.jupyter.widget-view+json": {
              "version_major": 2,
              "version_minor": 0,
              "model_id": "3b594bc0988a4a34b14ebe348a5c3da5"
            }
          },
          "metadata": {}
        },
        {
          "output_type": "display_data",
          "data": {
            "text/plain": [
              "Downloading (…)lve/main/config.json:   0%|          | 0.00/570 [00:00<?, ?B/s]"
            ],
            "application/vnd.jupyter.widget-view+json": {
              "version_major": 2,
              "version_minor": 0,
              "model_id": "f988d4e60c8e4b669696c1fc80d6af8e"
            }
          },
          "metadata": {}
        }
      ],
      "source": [
        "TOKENIZER = BertTokenizer.from_pretrained(BERT_PATH, do_lower_case=True)"
      ]
    },
    {
      "cell_type": "code",
      "execution_count": 12,
      "metadata": {
        "id": "pVdOQNbvVnln"
      },
      "outputs": [],
      "source": [
        "def encode_sents(sents1, sents2):\n",
        "    input_ids_ = []\n",
        "    attention_masks_ = []\n",
        "    type_ids_ = []\n",
        "    for i, sent1 in enumerate(sents1):\n",
        "        encoded_dict = TOKENIZER.encode_plus(\n",
        "                            sent1,                      # Sentence 1 to encode.\n",
        "                            sents2[i],                  # Sentence 2 to encode.\n",
        "                            add_special_tokens = True,  # Add '[CLS]' and '[SEP]'\n",
        "                            truncation = True,\n",
        "                            max_length = MAX_LEN,       # Pad & truncate all sentences.\n",
        "                            pad_to_max_length = True,\n",
        "                            return_attention_mask = True,   # Construct attn. masks.\n",
        "                            return_tensors = 'pt',     # Return pytorch tensors.\n",
        "                      )\n",
        "        \n",
        "        # Add the encoded sentence to the list.    \n",
        "        input_ids_.append(encoded_dict['input_ids'])\n",
        "            \n",
        "        # And its attention mask (simply differentiates padding from non-padding).\n",
        "        attention_masks_.append(encoded_dict['attention_mask'])\n",
        "\n",
        "        type_ids_.append(encoded_dict['token_type_ids'])\n",
        "    return input_ids_, attention_masks_, type_ids_"
      ]
    },
    {
      "cell_type": "code",
      "source": [
        "def getEncodedTensors(s1, s2, labels):\n",
        "    input_ids, attention_masks, type_ids = encode_sents(s1, s2)\n",
        "    input_ids = torch.cat(input_ids, dim=0)\n",
        "    attention_masks = torch.cat(attention_masks, dim=0)\n",
        "    type_ids = torch.cat(type_ids, dim=0)\n",
        "    labels = torch.tensor(labels)\n",
        "    return input_ids, attention_masks, type_ids, labels"
      ],
      "metadata": {
        "id": "906LtLLC9Y_Z"
      },
      "execution_count": 13,
      "outputs": []
    },
    {
      "cell_type": "code",
      "source": [
        "input_ids_train,attention_masks_train,type_ids_train,labels_train = getEncodedTensors(s1_train,s2_train,target_train)"
      ],
      "metadata": {
        "id": "t6ru4f5S9-qd",
        "colab": {
          "base_uri": "https://localhost:8080/"
        },
        "outputId": "0b48aa78-a059-45a8-ebf7-cb375738931f"
      },
      "execution_count": 14,
      "outputs": [
        {
          "output_type": "stream",
          "name": "stderr",
          "text": [
            "/usr/local/lib/python3.10/dist-packages/transformers/tokenization_utils_base.py:2364: FutureWarning: The `pad_to_max_length` argument is deprecated and will be removed in a future version, use `padding=True` or `padding='longest'` to pad to the longest sequence in the batch, or use `padding='max_length'` to pad to a max length. In this case, you can give a specific length with `max_length` (e.g. `max_length=45`) or leave max_length to None to pad to the maximal input size of the model (e.g. 512 for Bert).\n",
            "  warnings.warn(\n"
          ]
        }
      ]
    },
    {
      "cell_type": "code",
      "source": [
        "input_ids_eval, attention_masks_eval, type_ids_eval, labels_eval = getEncodedTensors(s1_dev, s2_dev, target_dev)"
      ],
      "metadata": {
        "id": "-bL1MWnB_-9d"
      },
      "execution_count": 15,
      "outputs": []
    },
    {
      "cell_type": "code",
      "execution_count": 16,
      "metadata": {
        "id": "adsDoOZNdgVR"
      },
      "outputs": [],
      "source": [
        "# Combine the training inputs into a TensorDataset.\n",
        "train_dataset = TensorDataset(input_ids_train, attention_masks_train, type_ids_train, labels_train)\n",
        "val_dataset = TensorDataset(input_ids_eval, attention_masks_eval, type_ids_eval, labels_eval)"
      ]
    },
    {
      "cell_type": "code",
      "execution_count": 17,
      "metadata": {
        "id": "4L0SrB_JlaCY"
      },
      "outputs": [],
      "source": [
        "# Create the DataLoaders for our training and test sets.\n",
        "# We'll take training samples in random order. \n",
        "torch.manual_seed(42)\n",
        "train_loader = DataLoader(\n",
        "            train_dataset,  # The training samples.\n",
        "            sampler = RandomSampler(train_dataset), # Select batches randomly\n",
        "            batch_size = BATCH_SIZE # Trains with this batch size.\n",
        "            #num_workers=2\n",
        "        )\n",
        "torch.manual_seed(42)\n",
        "val_loader = DataLoader(\n",
        "            val_dataset, # The validation samples.\n",
        "            sampler = SequentialSampler(val_dataset), # Pull out batches sequentially.\n",
        "            batch_size = BATCH_SIZE # Evaluate with this batch size.\n",
        "            #num_workers=2\n",
        "        )"
      ]
    },
    {
      "cell_type": "code",
      "execution_count": 18,
      "metadata": {
        "id": "nMWrY0KxnEMi",
        "colab": {
          "base_uri": "https://localhost:8080/"
        },
        "outputId": "3c1443c0-2099-4234-dd56-14d05991e64a"
      },
      "outputs": [
        {
          "output_type": "stream",
          "name": "stdout",
          "text": [
            "Number of train batches: 180\n",
            "Number of evaluation batches: 47\n"
          ]
        }
      ],
      "source": [
        "# See first batch\n",
        "#batch = next(iter(train_loader))\n",
        "#print(batch[0]) # 0 -> input_ids , 1 -> attention_masks, 2 -> type_ids, 3 -> targets\n",
        "#print(train_loader.batch_size) #tamaño del batch\n",
        "print('Number of train batches: {}'.format(len(train_loader)))# número de batches\n",
        "print('Number of evaluation batches: {}'.format(len(val_loader)))"
      ]
    },
    {
      "cell_type": "code",
      "execution_count": 19,
      "metadata": {
        "id": "KkXY8l6PqLwi"
      },
      "outputs": [],
      "source": [
        "class BertBaseUncasedBiLSTMRegressor(nn.Module):\n",
        "  def __init__(self, output_dim=1, attentions=True, hidden_dim=768, dropout_output=0.1, dropout_lstm=0.1, n_layers = 1, bidirectional=True, freeze=True, batch_first=True):\n",
        "      super().__init__()\n",
        "      self.bert = BertModel.from_pretrained(BERT_PATH, output_attentions=attentions) #load the model\n",
        "      for param in self.bert.parameters():\n",
        "          param.requires_grad = not freeze #True -> variable, False -> fixed\n",
        "      self.bilstm = nn.LSTM(input_size=self.bert.config.hidden_size, hidden_size=hidden_dim, num_layers=n_layers, bidirectional=bidirectional, dropout=dropout_lstm, batch_first=batch_first)\n",
        "      self.regressor = nn.Linear(hidden_dim * 2, output_dim)\n",
        "      self.dropout = nn.Dropout(dropout_output)\n",
        "\n",
        "\n",
        "  def forward(self, input_ids, type_ids, mask):\n",
        "\n",
        "      bert_output = self.bert(input_ids=input_ids, token_type_ids = type_ids, attention_mask= mask)\n",
        "      attention_mask = mask.unsqueeze(-1).expand(bert_output.last_hidden_state.shape).float()\n",
        "      masked_last_hidden_state = bert_output.last_hidden_state * attention_mask\n",
        "      \"\"\"\n",
        "      The bilstm_output is the tensor of all the hidden state from each time step in the RNN(LSTM), and the hidden state (h_n) returned \n",
        "      by the RNN(LSTM) is the last hidden state from the last time step from the input sequence\n",
        "      \"\"\"\n",
        "      bilstm_output, (h_n, _) = self.bilstm(masked_last_hidden_state)\n",
        "      #h_n = [num layers * num directions, batch size, hid dim]\n",
        "      # obtain the final hidden states from both directions of the BiLSTM\n",
        "      bilstm_output = self.dropout(bilstm_output)\n",
        "\n",
        "      # obtain the final hidden states from both directions of the BiLSTM\n",
        "      final_hidden_state = torch.cat((bilstm_output[:, -1, :self.bilstm.hidden_size], \n",
        "                                      bilstm_output[:, 0, self.bilstm.hidden_size:]), dim=1)\n",
        "\n",
        "      logits = self.regressor(final_hidden_state)\n",
        "      return logits, bert_output"
      ]
    },
    {
      "cell_type": "code",
      "source": [
        "def pearson_corr(y_pred, y_true):\n",
        "    all_preds = np.concatenate(y_pred)\n",
        "    all_targets = np.concatenate(y_true)\n",
        "    return np.corrcoef(all_preds, all_targets)[0, 1]"
      ],
      "metadata": {
        "id": "n3ur6ZV3_Gb6"
      },
      "execution_count": 20,
      "outputs": []
    },
    {
      "cell_type": "code",
      "source": [
        "def spearman_corr(y_pred, y_true):\n",
        "    all_preds = np.concatenate(y_pred)\n",
        "    all_targets = np.concatenate(y_true)\n",
        "\n",
        "    corr, _ = spearmanr(all_preds, all_targets)\n",
        "    return corr"
      ],
      "metadata": {
        "id": "P6-Jax0r_Mhf"
      },
      "execution_count": 21,
      "outputs": []
    },
    {
      "cell_type": "code",
      "execution_count": 22,
      "metadata": {
        "id": "fdInbGmYrUfw"
      },
      "outputs": [],
      "source": [
        "def train_loop(model,loader,optimizer,criterion,device,clip = 1.0):\n",
        "    #Training loop\n",
        "    model.train()\n",
        "    loss_sum = 0\n",
        "    all_preds = []\n",
        "    all_targets = []\n",
        "    seed = 42\n",
        "    np.random.seed(seed)\n",
        "    random.seed(seed)\n",
        "    torch.manual_seed(seed)\n",
        "    torch.cuda.manual_seed_all(seed)\n",
        "\n",
        "    for i, batch in enumerate(loader):\n",
        "        \n",
        "        b_input_ids = batch[0].to(device)\n",
        "        b_attention_mask = batch[1].to(device)\n",
        "        b_type_ids = batch[2].to(device)\n",
        "        labels = batch[3].to(device)\n",
        "\n",
        "        optimizer.zero_grad()\n",
        "        #Forward \n",
        "        outputs, _ = model(input_ids=b_input_ids, type_ids = b_type_ids, mask = b_attention_mask)\n",
        "        outputs = outputs.squeeze(-1)\n",
        "        #Loss\n",
        "        loss = criterion(outputs.view(-1), labels.float())\n",
        "        #Backprop\n",
        "        loss.backward()\n",
        "        #prevent gradients from exploding\n",
        "        torch.nn.utils.clip_grad_norm_(model.parameters(), clip)\n",
        "        #Update params\n",
        "        optimizer.step()\n",
        "\n",
        "        loss_sum += loss.item()\n",
        "\n",
        "        all_preds.append(outputs.detach().cpu().numpy())\n",
        "        all_targets.append(labels.float().detach().cpu().numpy())\n",
        "\n",
        "    epoch_train_loss = loss_sum / len(loader)\n",
        "    epoch_train_pearson = pearson_corr(all_preds, all_targets)\n",
        "    epoch_train_spearman = spearman_corr(all_preds, all_targets)\n",
        "\n",
        "    return epoch_train_loss, epoch_train_pearson, epoch_train_spearman\n"
      ]
    },
    {
      "cell_type": "code",
      "execution_count": 23,
      "metadata": {
        "id": "CxO7AgRRtnnk"
      },
      "outputs": [],
      "source": [
        "def evaluation_loop(model,loader,criterion,device):\n",
        "    #Evaluation loop\n",
        "    seed = 42\n",
        "    np.random.seed(seed)\n",
        "    random.seed(seed)\n",
        "    torch.manual_seed(seed)\n",
        "    torch.cuda.manual_seed_all(seed)\n",
        "    model.eval()\n",
        "    with torch.no_grad():\n",
        "        loss_sum = 0\n",
        "        all_preds = []\n",
        "        all_targets = []\n",
        "\n",
        "        for i, batch in enumerate(loader):\n",
        "            b_input_ids = batch[0].to(device)\n",
        "            b_attention_mask = batch[1].to(device)\n",
        "            b_type_ids = batch[2].to(device)\n",
        "            labels = batch[3].to(device)\n",
        "\n",
        "            #Forward\n",
        "            outputs, _ = model(input_ids=b_input_ids, type_ids = b_type_ids, mask = b_attention_mask)\n",
        "            outputs = outputs.squeeze(-1)\n",
        "            #Loss\n",
        "            loss = criterion(outputs.view(-1), labels.float())\n",
        "\n",
        "            loss_sum += loss.item()\n",
        "\n",
        "            all_preds.append(outputs.detach().cpu().numpy())\n",
        "            all_targets.append(labels.float().detach().cpu().numpy())\n",
        "        \n",
        "        epoch_dev_loss = loss_sum / len(loader)\n",
        "        epoch_dev_pearson = pearson_corr(all_preds, all_targets)\n",
        "        epoch_dev_spearman = spearman_corr(all_preds, all_targets)\n",
        "        \n",
        "    return epoch_dev_loss, epoch_dev_pearson, epoch_dev_spearman"
      ]
    },
    {
      "cell_type": "code",
      "source": [
        "def save_metrics_dataframe(metrics_dict, study_name, path_base):\n",
        "  # Abrir archivo en modo escritura y especificar el separador de campos\n",
        "  path = path_base + 'metrics_' + study_name + \".csv\"\n",
        "  with open(path, \"a+\", newline=\"\") as f:\n",
        "      metrics = [metrics_dict]\n",
        "      # Crear objeto escritor CSV y especificar el separador de campos\n",
        "      metrics_csv = csv.DictWriter(f, fieldnames=['train_loss','valid_loss','spearman_train','spearman_val','pearson_train','pearson_val'],delimiter=\",\")\n",
        "      \n",
        "      # Verificar si se ha escrito el encabezado del archivo\n",
        "      if f.tell() == 0:\n",
        "        metrics_csv.writeheader()\n",
        "      \n",
        "      # Escribir cada fila de datos\n",
        "      for metric in metrics:\n",
        "          metrics_csv.writerow(metric)"
      ],
      "metadata": {
        "id": "dxgbOy7GY0I_"
      },
      "execution_count": 24,
      "outputs": []
    },
    {
      "cell_type": "code",
      "source": [
        "study_name = 'study-bert-bilstm-output-base'"
      ],
      "metadata": {
        "id": "Meh7L_p3ZXm-"
      },
      "execution_count": 25,
      "outputs": []
    },
    {
      "cell_type": "code",
      "source": [
        "def isNan(value):\n",
        "  return 0 if math.isnan(value) else value"
      ],
      "metadata": {
        "id": "9dZeuPPWZV-R"
      },
      "execution_count": 26,
      "outputs": []
    },
    {
      "cell_type": "code",
      "source": [
        "def objective(trial):\n",
        "  params = {\n",
        "      \"num_layers\": trial.suggest_int(\"num_layer\", 1, 3),\n",
        "      \"dropout_output\": trial.suggest_uniform(\"dropout_output\", 0, 0.8),\n",
        "      \"dropout_lstm\": trial.suggest_uniform(\"dropout_lstm\", 0, 0.8),\n",
        "      \"freeze\" : trial.suggest_categorical('freeze', [True, False]),\n",
        "      \"optimizer\": trial.suggest_categorical(\"optimizer\", [\"Adam\", \"RMSprop\", \"SGD\"]),\n",
        "      \"learning_rate\": trial.suggest_loguniform(\"learning_rate\",1e-5, 1e-4)\n",
        "  }\n",
        "\n",
        "  model = BertBaseUncasedBiLSTMRegressor(dropout_output=params[\"dropout_output\"],dropout_lstm=params[\"dropout_lstm\"],freeze=params[\"freeze\"],n_layers = params[\"num_layers\"]).to(device)\n",
        "  criterion = nn.MSELoss()\n",
        "  optimizer = getattr(optim, params[\"optimizer\"])(model.parameters(), lr=params[\"learning_rate\"])\n",
        "  \n",
        "  NUM_EPOCHS = 4\n",
        "  best_valid_loss = float('inf')\n",
        "  MODEL_FILE_NAME = CORPUS+'_'+BERT_PATH+'_'+str(MAX_LEN)+'_tunned_model.pt'\n",
        "  history = {\"train\": {\"loss\": []}, \"test\": {\"loss\": []}}\n",
        "\n",
        "  torch.cuda.empty_cache()\n",
        "  seed = 42\n",
        "  np.random.seed(seed)\n",
        "  random.seed(seed)\n",
        "  torch.manual_seed(seed)\n",
        "  torch.cuda.manual_seed_all(seed)\n",
        "\n",
        "  train_loss_list, val_loss_list, spearman_train, spearman_val, pearson_train, pearson_val = [], [], [], [], [], []\n",
        "\n",
        "  for epoch in range(NUM_EPOCHS):\n",
        "    \n",
        "    start_time = time.time()\n",
        "\n",
        "    epoch_train_loss, epoch_train_pearson, epoch_train_spearman = train_loop(model,train_loader,optimizer,criterion,device)\n",
        "    epoch_dev_loss, epoch_dev_pearson, epoch_dev_spearman = evaluation_loop(model,val_loader,criterion,device)\n",
        "\n",
        "    elapsed_time = time.time() - start_time\n",
        "\n",
        "    if trial.should_prune():\n",
        "      raise optuna.exceptions.TrialPruned()\n",
        "\n",
        "    #nos quedamos con el modelo que tiene mejor pérdida de validación\n",
        "    if epoch_dev_loss < best_valid_loss:\n",
        "      best_valid_loss = epoch_dev_loss\n",
        "      torch.save(model.state_dict(), MODEL_FILE_NAME)\n",
        "\n",
        "    train_loss_list.append(isNan(epoch_train_loss))\n",
        "    val_loss_list.append(isNan(epoch_dev_loss))\n",
        "    spearman_train.append(isNan(epoch_train_spearman))\n",
        "    spearman_val.append(isNan(epoch_dev_spearman))\n",
        "    pearson_train.append(isNan(epoch_train_pearson))\n",
        "    pearson_val.append(isNan(epoch_dev_pearson))\n",
        "\n",
        "    history[\"train\"][\"loss\"].append(epoch_train_loss)\n",
        "    history[\"test\"][\"loss\"].append(epoch_dev_loss)\n",
        "\n",
        "    print('-' * 80)\n",
        "    print(f'Epoch: {epoch+1:03}/{NUM_EPOCHS} | Time: {elapsed_time:.4f}s | Train loss: {epoch_train_loss:.4f} | Dev loss: {epoch_dev_loss:.4f}')\n",
        "    print(f'Train Pearson Coef: {epoch_train_pearson:.4f} | Dev Pearson Coef: {epoch_dev_pearson:.4f}')\n",
        "    print(f'Train Spearman Coef: {epoch_train_spearman:.4f} | Dev Spearman Coef: {epoch_dev_spearman:.4f}')\n",
        "\n",
        "  metrics_dict = {\n",
        "      'train_loss' : train_loss_list,\n",
        "      'valid_loss' : val_loss_list,\n",
        "      'spearman_train': spearman_train,\n",
        "      'spearman_val': spearman_val,\n",
        "      'pearson_train': pearson_train,\n",
        "      'pearson_val': pearson_val\n",
        "  }\n",
        "\n",
        "  save_metrics_dataframe(metrics_dict, study_name, path_base)\n",
        "\n",
        "  return best_valid_loss"
      ],
      "metadata": {
        "id": "owIEB8g8YyFT"
      },
      "execution_count": 27,
      "outputs": []
    },
    {
      "cell_type": "code",
      "source": [
        "#obtener ip de colab para dar acceso a la DB\n",
        "!curl ipecho.net/plain"
      ],
      "metadata": {
        "id": "10Qj8EqSZEiD",
        "colab": {
          "base_uri": "https://localhost:8080/"
        },
        "outputId": "cc5ec9a4-7708-46fd-8975-61943820cc56"
      },
      "execution_count": 28,
      "outputs": [
        {
          "output_type": "stream",
          "name": "stdout",
          "text": [
            "34.136.118.119"
          ]
        }
      ]
    },
    {
      "cell_type": "code",
      "source": [
        "# Define the connection URL.\n",
        "url = \"postgresql://{user}:{password}@{host}:{port}/{database}\"\n",
        "url = url.format(\n",
        "    user='postgres',\n",
        "    password=\"password\",\n",
        "    host='35.184.132.46',\n",
        "    port='5432',\n",
        "    database='stsb-base-bilstm-output',\n",
        ")\n",
        "\n",
        "# Create the engine and the database (if it doesn't exist yet).\n",
        "engine = create_engine(url)\n",
        "\n",
        "\n",
        "# Define the storage.\n",
        "storage = RDBStorage(url)"
      ],
      "metadata": {
        "id": "g0axO59jZGj_"
      },
      "execution_count": 29,
      "outputs": []
    },
    {
      "cell_type": "code",
      "source": [
        "# Define el estudio de Optuna utilizando el storage\n",
        "study = optuna.create_study(study_name=study_name, direction=\"minimize\", storage=storage, load_if_exists=True)"
      ],
      "metadata": {
        "id": "kFkzJHFSZRAz",
        "colab": {
          "base_uri": "https://localhost:8080/"
        },
        "outputId": "f4de2a4f-dbeb-44fa-bb6a-0c3504736a62"
      },
      "execution_count": 39,
      "outputs": [
        {
          "output_type": "stream",
          "name": "stderr",
          "text": [
            "\u001b[32m[I 2023-05-12 02:25:50,490]\u001b[0m Using an existing study with name 'study-bert-bilstm-output-base' instead of creating a new one.\u001b[0m\n"
          ]
        }
      ]
    },
    {
      "cell_type": "code",
      "source": [
        "study.optimize(objective, n_trials=18)"
      ],
      "metadata": {
        "id": "Cun6M9lVY1WH",
        "colab": {
          "base_uri": "https://localhost:8080/"
        },
        "outputId": "b9fa99af-fd21-410d-cfe9-b4e8b190fb7e"
      },
      "execution_count": 40,
      "outputs": [
        {
          "output_type": "stream",
          "name": "stderr",
          "text": [
            "<ipython-input-27-3b67103ce24d>:4: FutureWarning: suggest_uniform has been deprecated in v3.0.0. This feature will be removed in v6.0.0. See https://github.com/optuna/optuna/releases/tag/v3.0.0. Use :func:`~optuna.trial.Trial.suggest_float` instead.\n",
            "  \"dropout_output\": trial.suggest_uniform(\"dropout_output\", 0, 0.8),\n",
            "<ipython-input-27-3b67103ce24d>:5: FutureWarning: suggest_uniform has been deprecated in v3.0.0. This feature will be removed in v6.0.0. See https://github.com/optuna/optuna/releases/tag/v3.0.0. Use :func:`~optuna.trial.Trial.suggest_float` instead.\n",
            "  \"dropout_lstm\": trial.suggest_uniform(\"dropout_lstm\", 0, 0.8),\n",
            "<ipython-input-27-3b67103ce24d>:8: FutureWarning: suggest_loguniform has been deprecated in v3.0.0. This feature will be removed in v6.0.0. See https://github.com/optuna/optuna/releases/tag/v3.0.0. Use :func:`~optuna.trial.Trial.suggest_float` instead.\n",
            "  \"learning_rate\": trial.suggest_loguniform(\"learning_rate\",1e-5, 1e-4)\n",
            "Some weights of the model checkpoint at bert-base-uncased were not used when initializing BertModel: ['cls.seq_relationship.bias', 'cls.predictions.transform.dense.bias', 'cls.predictions.transform.LayerNorm.bias', 'cls.seq_relationship.weight', 'cls.predictions.decoder.weight', 'cls.predictions.bias', 'cls.predictions.transform.dense.weight', 'cls.predictions.transform.LayerNorm.weight']\n",
            "- This IS expected if you are initializing BertModel from the checkpoint of a model trained on another task or with another architecture (e.g. initializing a BertForSequenceClassification model from a BertForPreTraining model).\n",
            "- This IS NOT expected if you are initializing BertModel from the checkpoint of a model that you expect to be exactly identical (initializing a BertForSequenceClassification model from a BertForSequenceClassification model).\n"
          ]
        },
        {
          "output_type": "stream",
          "name": "stdout",
          "text": [
            "--------------------------------------------------------------------------------\n",
            "Epoch: 001/4 | Time: 162.7814s | Train loss: 0.8995 | Dev loss: 0.5711\n",
            "Train Pearson Coef: 0.7680 | Dev Pearson Coef: 0.8846\n",
            "Train Spearman Coef: 0.7403 | Dev Spearman Coef: 0.8819\n",
            "--------------------------------------------------------------------------------\n",
            "Epoch: 002/4 | Time: 162.4972s | Train loss: 0.2737 | Dev loss: 0.4680\n",
            "Train Pearson Coef: 0.9340 | Dev Pearson Coef: 0.8903\n",
            "Train Spearman Coef: 0.9177 | Dev Spearman Coef: 0.8852\n",
            "--------------------------------------------------------------------------------\n",
            "Epoch: 003/4 | Time: 162.6727s | Train loss: 0.1602 | Dev loss: 0.5314\n",
            "Train Pearson Coef: 0.9621 | Dev Pearson Coef: 0.8933\n",
            "Train Spearman Coef: 0.9534 | Dev Spearman Coef: 0.8889\n"
          ]
        },
        {
          "output_type": "stream",
          "name": "stderr",
          "text": [
            "\u001b[32m[I 2023-05-12 02:36:58,659]\u001b[0m Trial 46 finished with value: 0.4561272976880378 and parameters: {'num_layer': 2, 'dropout_output': 0.4984523556422707, 'dropout_lstm': 0.329954696213424, 'freeze': False, 'optimizer': 'RMSprop', 'learning_rate': 2.087521178068059e-05}. Best is trial 45 with value: 0.45089147128957385.\u001b[0m\n"
          ]
        },
        {
          "output_type": "stream",
          "name": "stdout",
          "text": [
            "--------------------------------------------------------------------------------\n",
            "Epoch: 004/4 | Time: 162.4959s | Train loss: 0.1072 | Dev loss: 0.4561\n",
            "Train Pearson Coef: 0.9747 | Dev Pearson Coef: 0.8933\n",
            "Train Spearman Coef: 0.9703 | Dev Spearman Coef: 0.8881\n"
          ]
        },
        {
          "output_type": "stream",
          "name": "stderr",
          "text": [
            "Some weights of the model checkpoint at bert-base-uncased were not used when initializing BertModel: ['cls.seq_relationship.bias', 'cls.predictions.transform.dense.bias', 'cls.predictions.transform.LayerNorm.bias', 'cls.seq_relationship.weight', 'cls.predictions.decoder.weight', 'cls.predictions.bias', 'cls.predictions.transform.dense.weight', 'cls.predictions.transform.LayerNorm.weight']\n",
            "- This IS expected if you are initializing BertModel from the checkpoint of a model trained on another task or with another architecture (e.g. initializing a BertForSequenceClassification model from a BertForPreTraining model).\n",
            "- This IS NOT expected if you are initializing BertModel from the checkpoint of a model that you expect to be exactly identical (initializing a BertForSequenceClassification model from a BertForSequenceClassification model).\n"
          ]
        },
        {
          "output_type": "stream",
          "name": "stdout",
          "text": [
            "--------------------------------------------------------------------------------\n",
            "Epoch: 001/4 | Time: 162.3923s | Train loss: 0.9217 | Dev loss: 0.5559\n",
            "Train Pearson Coef: 0.7614 | Dev Pearson Coef: 0.8829\n",
            "Train Spearman Coef: 0.7325 | Dev Spearman Coef: 0.8813\n",
            "--------------------------------------------------------------------------------\n",
            "Epoch: 002/4 | Time: 162.4391s | Train loss: 0.2747 | Dev loss: 0.4909\n",
            "Train Pearson Coef: 0.9338 | Dev Pearson Coef: 0.8908\n",
            "Train Spearman Coef: 0.9178 | Dev Spearman Coef: 0.8863\n",
            "--------------------------------------------------------------------------------\n",
            "Epoch: 003/4 | Time: 162.5064s | Train loss: 0.1580 | Dev loss: 0.5440\n",
            "Train Pearson Coef: 0.9627 | Dev Pearson Coef: 0.8912\n",
            "Train Spearman Coef: 0.9544 | Dev Spearman Coef: 0.8870\n",
            "--------------------------------------------------------------------------------\n",
            "Epoch: 004/4 | Time: 162.6088s | Train loss: 0.1119 | Dev loss: 0.4586\n",
            "Train Pearson Coef: 0.9736 | Dev Pearson Coef: 0.8927\n",
            "Train Spearman Coef: 0.9682 | Dev Spearman Coef: 0.8878\n"
          ]
        },
        {
          "output_type": "stream",
          "name": "stderr",
          "text": [
            "\u001b[32m[I 2023-05-12 02:47:56,100]\u001b[0m Trial 47 finished with value: 0.4585883950299405 and parameters: {'num_layer': 2, 'dropout_output': 0.47839509293171895, 'dropout_lstm': 0.3646986422036824, 'freeze': False, 'optimizer': 'RMSprop', 'learning_rate': 2.0192258860764478e-05}. Best is trial 45 with value: 0.45089147128957385.\u001b[0m\n",
            "Some weights of the model checkpoint at bert-base-uncased were not used when initializing BertModel: ['cls.seq_relationship.bias', 'cls.predictions.transform.dense.bias', 'cls.predictions.transform.LayerNorm.bias', 'cls.seq_relationship.weight', 'cls.predictions.decoder.weight', 'cls.predictions.bias', 'cls.predictions.transform.dense.weight', 'cls.predictions.transform.LayerNorm.weight']\n",
            "- This IS expected if you are initializing BertModel from the checkpoint of a model trained on another task or with another architecture (e.g. initializing a BertForSequenceClassification model from a BertForPreTraining model).\n",
            "- This IS NOT expected if you are initializing BertModel from the checkpoint of a model that you expect to be exactly identical (initializing a BertForSequenceClassification model from a BertForSequenceClassification model).\n"
          ]
        },
        {
          "output_type": "stream",
          "name": "stdout",
          "text": [
            "--------------------------------------------------------------------------------\n",
            "Epoch: 001/4 | Time: 162.6100s | Train loss: 0.9323 | Dev loss: 0.5706\n",
            "Train Pearson Coef: 0.7589 | Dev Pearson Coef: 0.8826\n",
            "Train Spearman Coef: 0.7295 | Dev Spearman Coef: 0.8816\n",
            "--------------------------------------------------------------------------------\n",
            "Epoch: 002/4 | Time: 162.6752s | Train loss: 0.2803 | Dev loss: 0.4858\n",
            "Train Pearson Coef: 0.9325 | Dev Pearson Coef: 0.8888\n",
            "Train Spearman Coef: 0.9161 | Dev Spearman Coef: 0.8849\n",
            "--------------------------------------------------------------------------------\n",
            "Epoch: 003/4 | Time: 162.4398s | Train loss: 0.1471 | Dev loss: 0.5413\n",
            "Train Pearson Coef: 0.9653 | Dev Pearson Coef: 0.8921\n",
            "Train Spearman Coef: 0.9578 | Dev Spearman Coef: 0.8888\n"
          ]
        },
        {
          "output_type": "stream",
          "name": "stderr",
          "text": [
            "\u001b[32m[I 2023-05-12 02:58:53,995]\u001b[0m Trial 48 finished with value: 0.47250377973343466 and parameters: {'num_layer': 2, 'dropout_output': 0.4925031665643408, 'dropout_lstm': 0.38226716861185167, 'freeze': False, 'optimizer': 'RMSprop', 'learning_rate': 1.996931639173165e-05}. Best is trial 45 with value: 0.45089147128957385.\u001b[0m\n"
          ]
        },
        {
          "output_type": "stream",
          "name": "stdout",
          "text": [
            "--------------------------------------------------------------------------------\n",
            "Epoch: 004/4 | Time: 162.7506s | Train loss: 0.1126 | Dev loss: 0.4725\n",
            "Train Pearson Coef: 0.9735 | Dev Pearson Coef: 0.8891\n",
            "Train Spearman Coef: 0.9680 | Dev Spearman Coef: 0.8850\n"
          ]
        },
        {
          "output_type": "stream",
          "name": "stderr",
          "text": [
            "Some weights of the model checkpoint at bert-base-uncased were not used when initializing BertModel: ['cls.seq_relationship.bias', 'cls.predictions.transform.dense.bias', 'cls.predictions.transform.LayerNorm.bias', 'cls.seq_relationship.weight', 'cls.predictions.decoder.weight', 'cls.predictions.bias', 'cls.predictions.transform.dense.weight', 'cls.predictions.transform.LayerNorm.weight']\n",
            "- This IS expected if you are initializing BertModel from the checkpoint of a model trained on another task or with another architecture (e.g. initializing a BertForSequenceClassification model from a BertForPreTraining model).\n",
            "- This IS NOT expected if you are initializing BertModel from the checkpoint of a model that you expect to be exactly identical (initializing a BertForSequenceClassification model from a BertForSequenceClassification model).\n"
          ]
        },
        {
          "output_type": "stream",
          "name": "stdout",
          "text": [
            "--------------------------------------------------------------------------------\n",
            "Epoch: 001/4 | Time: 162.4812s | Train loss: 0.9473 | Dev loss: 0.6473\n",
            "Train Pearson Coef: 0.7538 | Dev Pearson Coef: 0.8840\n",
            "Train Spearman Coef: 0.7241 | Dev Spearman Coef: 0.8828\n",
            "--------------------------------------------------------------------------------\n",
            "Epoch: 002/4 | Time: 162.6093s | Train loss: 0.2822 | Dev loss: 0.4943\n",
            "Train Pearson Coef: 0.9320 | Dev Pearson Coef: 0.8886\n",
            "Train Spearman Coef: 0.9149 | Dev Spearman Coef: 0.8841\n",
            "--------------------------------------------------------------------------------\n",
            "Epoch: 003/4 | Time: 162.6235s | Train loss: 0.1534 | Dev loss: 0.5268\n",
            "Train Pearson Coef: 0.9637 | Dev Pearson Coef: 0.8930\n",
            "Train Spearman Coef: 0.9555 | Dev Spearman Coef: 0.8885\n"
          ]
        },
        {
          "output_type": "stream",
          "name": "stderr",
          "text": [
            "\u001b[32m[I 2023-05-12 03:09:51,621]\u001b[0m Trial 49 finished with value: 0.46112900528501954 and parameters: {'num_layer': 2, 'dropout_output': 0.41616836196541385, 'dropout_lstm': 0.4562237327167903, 'freeze': False, 'optimizer': 'RMSprop', 'learning_rate': 1.7739016074749835e-05}. Best is trial 45 with value: 0.45089147128957385.\u001b[0m\n"
          ]
        },
        {
          "output_type": "stream",
          "name": "stdout",
          "text": [
            "--------------------------------------------------------------------------------\n",
            "Epoch: 004/4 | Time: 162.4820s | Train loss: 0.1135 | Dev loss: 0.4611\n",
            "Train Pearson Coef: 0.9733 | Dev Pearson Coef: 0.8925\n",
            "Train Spearman Coef: 0.9676 | Dev Spearman Coef: 0.8872\n"
          ]
        },
        {
          "output_type": "stream",
          "name": "stderr",
          "text": [
            "Some weights of the model checkpoint at bert-base-uncased were not used when initializing BertModel: ['cls.seq_relationship.bias', 'cls.predictions.transform.dense.bias', 'cls.predictions.transform.LayerNorm.bias', 'cls.seq_relationship.weight', 'cls.predictions.decoder.weight', 'cls.predictions.bias', 'cls.predictions.transform.dense.weight', 'cls.predictions.transform.LayerNorm.weight']\n",
            "- This IS expected if you are initializing BertModel from the checkpoint of a model trained on another task or with another architecture (e.g. initializing a BertForSequenceClassification model from a BertForPreTraining model).\n",
            "- This IS NOT expected if you are initializing BertModel from the checkpoint of a model that you expect to be exactly identical (initializing a BertForSequenceClassification model from a BertForSequenceClassification model).\n"
          ]
        },
        {
          "output_type": "stream",
          "name": "stdout",
          "text": [
            "--------------------------------------------------------------------------------\n",
            "Epoch: 001/4 | Time: 162.4801s | Train loss: 1.0439 | Dev loss: 0.5329\n",
            "Train Pearson Coef: 0.7253 | Dev Pearson Coef: 0.8771\n",
            "Train Spearman Coef: 0.7001 | Dev Spearman Coef: 0.8738\n",
            "--------------------------------------------------------------------------------\n",
            "Epoch: 002/4 | Time: 162.6519s | Train loss: 0.3377 | Dev loss: 0.6861\n",
            "Train Pearson Coef: 0.9180 | Dev Pearson Coef: 0.8820\n",
            "Train Spearman Coef: 0.8984 | Dev Spearman Coef: 0.8789\n",
            "--------------------------------------------------------------------------------\n",
            "Epoch: 003/4 | Time: 162.2862s | Train loss: 0.1777 | Dev loss: 0.5299\n",
            "Train Pearson Coef: 0.9577 | Dev Pearson Coef: 0.8864\n",
            "Train Spearman Coef: 0.9489 | Dev Spearman Coef: 0.8820\n"
          ]
        },
        {
          "output_type": "stream",
          "name": "stderr",
          "text": [
            "\u001b[32m[I 2023-05-12 03:20:49,198]\u001b[0m Trial 50 finished with value: 0.4834033672479873 and parameters: {'num_layer': 2, 'dropout_output': 0.5077954621925268, 'dropout_lstm': 0.409410871709451, 'freeze': False, 'optimizer': 'RMSprop', 'learning_rate': 1.4234541836847132e-05}. Best is trial 45 with value: 0.45089147128957385.\u001b[0m\n"
          ]
        },
        {
          "output_type": "stream",
          "name": "stdout",
          "text": [
            "--------------------------------------------------------------------------------\n",
            "Epoch: 004/4 | Time: 162.4398s | Train loss: 0.1275 | Dev loss: 0.4834\n",
            "Train Pearson Coef: 0.9699 | Dev Pearson Coef: 0.8874\n",
            "Train Spearman Coef: 0.9641 | Dev Spearman Coef: 0.8846\n"
          ]
        },
        {
          "output_type": "stream",
          "name": "stderr",
          "text": [
            "Some weights of the model checkpoint at bert-base-uncased were not used when initializing BertModel: ['cls.seq_relationship.bias', 'cls.predictions.transform.dense.bias', 'cls.predictions.transform.LayerNorm.bias', 'cls.seq_relationship.weight', 'cls.predictions.decoder.weight', 'cls.predictions.bias', 'cls.predictions.transform.dense.weight', 'cls.predictions.transform.LayerNorm.weight']\n",
            "- This IS expected if you are initializing BertModel from the checkpoint of a model trained on another task or with another architecture (e.g. initializing a BertForSequenceClassification model from a BertForPreTraining model).\n",
            "- This IS NOT expected if you are initializing BertModel from the checkpoint of a model that you expect to be exactly identical (initializing a BertForSequenceClassification model from a BertForSequenceClassification model).\n"
          ]
        },
        {
          "output_type": "stream",
          "name": "stdout",
          "text": [
            "--------------------------------------------------------------------------------\n",
            "Epoch: 001/4 | Time: 158.4225s | Train loss: 9.5145 | Dev loss: 7.8968\n",
            "Train Pearson Coef: 0.0177 | Dev Pearson Coef: 0.1271\n",
            "Train Spearman Coef: 0.0163 | Dev Spearman Coef: 0.1196\n",
            "--------------------------------------------------------------------------------\n",
            "Epoch: 002/4 | Time: 158.5369s | Train loss: 9.4796 | Dev loss: 7.8654\n",
            "Train Pearson Coef: 0.0179 | Dev Pearson Coef: 0.1411\n",
            "Train Spearman Coef: 0.0167 | Dev Spearman Coef: 0.1332\n",
            "--------------------------------------------------------------------------------\n",
            "Epoch: 003/4 | Time: 158.6318s | Train loss: 9.4448 | Dev loss: 7.8342\n",
            "Train Pearson Coef: 0.0180 | Dev Pearson Coef: 0.1549\n",
            "Train Spearman Coef: 0.0171 | Dev Spearman Coef: 0.1463\n",
            "--------------------------------------------------------------------------------\n",
            "Epoch: 004/4 | Time: 158.4981s | Train loss: 9.4101 | Dev loss: 7.8030\n",
            "Train Pearson Coef: 0.0182 | Dev Pearson Coef: 0.1684\n",
            "Train Spearman Coef: 0.0175 | Dev Spearman Coef: 0.1592\n"
          ]
        },
        {
          "output_type": "stream",
          "name": "stderr",
          "text": [
            "\u001b[32m[I 2023-05-12 03:31:32,257]\u001b[0m Trial 51 finished with value: 7.803002636483375 and parameters: {'num_layer': 2, 'dropout_output': 0.45842022521170317, 'dropout_lstm': 0.28106506148333454, 'freeze': False, 'optimizer': 'SGD', 'learning_rate': 2.1329788346546425e-05}. Best is trial 45 with value: 0.45089147128957385.\u001b[0m\n",
            "Some weights of the model checkpoint at bert-base-uncased were not used when initializing BertModel: ['cls.seq_relationship.bias', 'cls.predictions.transform.dense.bias', 'cls.predictions.transform.LayerNorm.bias', 'cls.seq_relationship.weight', 'cls.predictions.decoder.weight', 'cls.predictions.bias', 'cls.predictions.transform.dense.weight', 'cls.predictions.transform.LayerNorm.weight']\n",
            "- This IS expected if you are initializing BertModel from the checkpoint of a model trained on another task or with another architecture (e.g. initializing a BertForSequenceClassification model from a BertForPreTraining model).\n",
            "- This IS NOT expected if you are initializing BertModel from the checkpoint of a model that you expect to be exactly identical (initializing a BertForSequenceClassification model from a BertForSequenceClassification model).\n"
          ]
        },
        {
          "output_type": "stream",
          "name": "stdout",
          "text": [
            "--------------------------------------------------------------------------------\n",
            "Epoch: 001/4 | Time: 162.0289s | Train loss: 0.9461 | Dev loss: 0.5639\n",
            "Train Pearson Coef: 0.7546 | Dev Pearson Coef: 0.8880\n",
            "Train Spearman Coef: 0.7242 | Dev Spearman Coef: 0.8864\n",
            "--------------------------------------------------------------------------------\n",
            "Epoch: 002/4 | Time: 162.1875s | Train loss: 0.2798 | Dev loss: 0.4923\n",
            "Train Pearson Coef: 0.9326 | Dev Pearson Coef: 0.8901\n",
            "Train Spearman Coef: 0.9164 | Dev Spearman Coef: 0.8860\n",
            "--------------------------------------------------------------------------------\n",
            "Epoch: 003/4 | Time: 161.9479s | Train loss: 0.1549 | Dev loss: 0.5357\n",
            "Train Pearson Coef: 0.9634 | Dev Pearson Coef: 0.8933\n",
            "Train Spearman Coef: 0.9549 | Dev Spearman Coef: 0.8894\n"
          ]
        },
        {
          "output_type": "stream",
          "name": "stderr",
          "text": [
            "\u001b[32m[I 2023-05-12 03:42:27,803]\u001b[0m Trial 52 finished with value: 0.45909763904328044 and parameters: {'num_layer': 2, 'dropout_output': 0.5627297960817169, 'dropout_lstm': 0.5199964833544846, 'freeze': False, 'optimizer': 'RMSprop', 'learning_rate': 1.9193118315894433e-05}. Best is trial 45 with value: 0.45089147128957385.\u001b[0m\n"
          ]
        },
        {
          "output_type": "stream",
          "name": "stdout",
          "text": [
            "--------------------------------------------------------------------------------\n",
            "Epoch: 004/4 | Time: 161.8756s | Train loss: 0.1139 | Dev loss: 0.4591\n",
            "Train Pearson Coef: 0.9731 | Dev Pearson Coef: 0.8925\n",
            "Train Spearman Coef: 0.9681 | Dev Spearman Coef: 0.8880\n"
          ]
        },
        {
          "output_type": "stream",
          "name": "stderr",
          "text": [
            "Some weights of the model checkpoint at bert-base-uncased were not used when initializing BertModel: ['cls.seq_relationship.bias', 'cls.predictions.transform.dense.bias', 'cls.predictions.transform.LayerNorm.bias', 'cls.seq_relationship.weight', 'cls.predictions.decoder.weight', 'cls.predictions.bias', 'cls.predictions.transform.dense.weight', 'cls.predictions.transform.LayerNorm.weight']\n",
            "- This IS expected if you are initializing BertModel from the checkpoint of a model trained on another task or with another architecture (e.g. initializing a BertForSequenceClassification model from a BertForPreTraining model).\n",
            "- This IS NOT expected if you are initializing BertModel from the checkpoint of a model that you expect to be exactly identical (initializing a BertForSequenceClassification model from a BertForSequenceClassification model).\n",
            "/usr/local/lib/python3.10/dist-packages/torch/nn/modules/rnn.py:71: UserWarning: dropout option adds dropout after all but last recurrent layer, so non-zero dropout expects num_layers greater than 1, but got dropout=0.4616597553494647 and num_layers=1\n",
            "  warnings.warn(\"dropout option adds dropout after all but last \"\n"
          ]
        },
        {
          "output_type": "stream",
          "name": "stdout",
          "text": [
            "--------------------------------------------------------------------------------\n",
            "Epoch: 001/4 | Time: 135.9408s | Train loss: 0.9620 | Dev loss: 0.5221\n",
            "Train Pearson Coef: 0.7462 | Dev Pearson Coef: 0.8778\n",
            "Train Spearman Coef: 0.7128 | Dev Spearman Coef: 0.8739\n",
            "--------------------------------------------------------------------------------\n",
            "Epoch: 002/4 | Time: 135.9953s | Train loss: 0.3196 | Dev loss: 0.5155\n",
            "Train Pearson Coef: 0.9224 | Dev Pearson Coef: 0.8810\n",
            "Train Spearman Coef: 0.9053 | Dev Spearman Coef: 0.8776\n",
            "--------------------------------------------------------------------------------\n",
            "Epoch: 003/4 | Time: 135.9916s | Train loss: 0.1651 | Dev loss: 0.5181\n",
            "Train Pearson Coef: 0.9608 | Dev Pearson Coef: 0.8852\n",
            "Train Spearman Coef: 0.9521 | Dev Spearman Coef: 0.8803\n",
            "--------------------------------------------------------------------------------\n",
            "Epoch: 004/4 | Time: 136.0571s | Train loss: 0.1140 | Dev loss: 0.4968\n",
            "Train Pearson Coef: 0.9731 | Dev Pearson Coef: 0.8863\n",
            "Train Spearman Coef: 0.9678 | Dev Spearman Coef: 0.8817\n"
          ]
        },
        {
          "output_type": "stream",
          "name": "stderr",
          "text": [
            "\u001b[32m[I 2023-05-12 03:51:38,747]\u001b[0m Trial 53 finished with value: 0.49676079065241713 and parameters: {'num_layer': 1, 'dropout_output': 0.3805649947309219, 'dropout_lstm': 0.4616597553494647, 'freeze': False, 'optimizer': 'RMSprop', 'learning_rate': 1.7331766067009006e-05}. Best is trial 45 with value: 0.45089147128957385.\u001b[0m\n",
            "Some weights of the model checkpoint at bert-base-uncased were not used when initializing BertModel: ['cls.seq_relationship.bias', 'cls.predictions.transform.dense.bias', 'cls.predictions.transform.LayerNorm.bias', 'cls.seq_relationship.weight', 'cls.predictions.decoder.weight', 'cls.predictions.bias', 'cls.predictions.transform.dense.weight', 'cls.predictions.transform.LayerNorm.weight']\n",
            "- This IS expected if you are initializing BertModel from the checkpoint of a model trained on another task or with another architecture (e.g. initializing a BertForSequenceClassification model from a BertForPreTraining model).\n",
            "- This IS NOT expected if you are initializing BertModel from the checkpoint of a model that you expect to be exactly identical (initializing a BertForSequenceClassification model from a BertForSequenceClassification model).\n"
          ]
        },
        {
          "output_type": "stream",
          "name": "stdout",
          "text": [
            "--------------------------------------------------------------------------------\n",
            "Epoch: 001/4 | Time: 162.1484s | Train loss: 0.9492 | Dev loss: 0.5153\n",
            "Train Pearson Coef: 0.7530 | Dev Pearson Coef: 0.8805\n",
            "Train Spearman Coef: 0.7185 | Dev Spearman Coef: 0.8782\n",
            "--------------------------------------------------------------------------------\n",
            "Epoch: 002/4 | Time: 162.1897s | Train loss: 0.3037 | Dev loss: 0.5344\n",
            "Train Pearson Coef: 0.9267 | Dev Pearson Coef: 0.8747\n",
            "Train Spearman Coef: 0.9096 | Dev Spearman Coef: 0.8769\n",
            "--------------------------------------------------------------------------------\n",
            "Epoch: 003/4 | Time: 161.7980s | Train loss: 0.1726 | Dev loss: 0.5114\n",
            "Train Pearson Coef: 0.9592 | Dev Pearson Coef: 0.8908\n",
            "Train Spearman Coef: 0.9505 | Dev Spearman Coef: 0.8872\n"
          ]
        },
        {
          "output_type": "stream",
          "name": "stderr",
          "text": [
            "\u001b[32m[I 2023-05-12 04:02:34,332]\u001b[0m Trial 54 finished with value: 0.4699284576989235 and parameters: {'num_layer': 2, 'dropout_output': 0.5296364956307119, 'dropout_lstm': 0.31814458720715155, 'freeze': False, 'optimizer': 'RMSprop', 'learning_rate': 2.7878981592916588e-05}. Best is trial 45 with value: 0.45089147128957385.\u001b[0m\n"
          ]
        },
        {
          "output_type": "stream",
          "name": "stdout",
          "text": [
            "--------------------------------------------------------------------------------\n",
            "Epoch: 004/4 | Time: 162.0889s | Train loss: 0.1194 | Dev loss: 0.4699\n",
            "Train Pearson Coef: 0.9718 | Dev Pearson Coef: 0.8898\n",
            "Train Spearman Coef: 0.9666 | Dev Spearman Coef: 0.8848\n"
          ]
        },
        {
          "output_type": "stream",
          "name": "stderr",
          "text": [
            "Some weights of the model checkpoint at bert-base-uncased were not used when initializing BertModel: ['cls.seq_relationship.bias', 'cls.predictions.transform.dense.bias', 'cls.predictions.transform.LayerNorm.bias', 'cls.seq_relationship.weight', 'cls.predictions.decoder.weight', 'cls.predictions.bias', 'cls.predictions.transform.dense.weight', 'cls.predictions.transform.LayerNorm.weight']\n",
            "- This IS expected if you are initializing BertModel from the checkpoint of a model trained on another task or with another architecture (e.g. initializing a BertForSequenceClassification model from a BertForPreTraining model).\n",
            "- This IS NOT expected if you are initializing BertModel from the checkpoint of a model that you expect to be exactly identical (initializing a BertForSequenceClassification model from a BertForSequenceClassification model).\n"
          ]
        },
        {
          "output_type": "stream",
          "name": "stdout",
          "text": [
            "--------------------------------------------------------------------------------\n",
            "Epoch: 001/4 | Time: 162.1356s | Train loss: 0.9368 | Dev loss: 0.5551\n",
            "Train Pearson Coef: 0.7576 | Dev Pearson Coef: 0.8866\n",
            "Train Spearman Coef: 0.7291 | Dev Spearman Coef: 0.8849\n",
            "--------------------------------------------------------------------------------\n",
            "Epoch: 002/4 | Time: 162.4181s | Train loss: 0.2858 | Dev loss: 0.4712\n",
            "Train Pearson Coef: 0.9310 | Dev Pearson Coef: 0.8900\n",
            "Train Spearman Coef: 0.9146 | Dev Spearman Coef: 0.8859\n",
            "--------------------------------------------------------------------------------\n",
            "Epoch: 003/4 | Time: 162.2370s | Train loss: 0.1546 | Dev loss: 0.5366\n",
            "Train Pearson Coef: 0.9634 | Dev Pearson Coef: 0.8948\n",
            "Train Spearman Coef: 0.9546 | Dev Spearman Coef: 0.8908\n",
            "--------------------------------------------------------------------------------\n",
            "Epoch: 004/4 | Time: 161.9964s | Train loss: 0.1108 | Dev loss: 0.4556\n",
            "Train Pearson Coef: 0.9739 | Dev Pearson Coef: 0.8935\n",
            "Train Spearman Coef: 0.9687 | Dev Spearman Coef: 0.8891\n"
          ]
        },
        {
          "output_type": "stream",
          "name": "stderr",
          "text": [
            "\u001b[32m[I 2023-05-12 04:13:30,757]\u001b[0m Trial 55 finished with value: 0.4556191665060977 and parameters: {'num_layer': 2, 'dropout_output': 0.572102481275549, 'dropout_lstm': 0.5360386791289372, 'freeze': False, 'optimizer': 'RMSprop', 'learning_rate': 1.9994101339518535e-05}. Best is trial 45 with value: 0.45089147128957385.\u001b[0m\n",
            "Some weights of the model checkpoint at bert-base-uncased were not used when initializing BertModel: ['cls.seq_relationship.bias', 'cls.predictions.transform.dense.bias', 'cls.predictions.transform.LayerNorm.bias', 'cls.seq_relationship.weight', 'cls.predictions.decoder.weight', 'cls.predictions.bias', 'cls.predictions.transform.dense.weight', 'cls.predictions.transform.LayerNorm.weight']\n",
            "- This IS expected if you are initializing BertModel from the checkpoint of a model trained on another task or with another architecture (e.g. initializing a BertForSequenceClassification model from a BertForPreTraining model).\n",
            "- This IS NOT expected if you are initializing BertModel from the checkpoint of a model that you expect to be exactly identical (initializing a BertForSequenceClassification model from a BertForSequenceClassification model).\n"
          ]
        },
        {
          "output_type": "stream",
          "name": "stdout",
          "text": [
            "--------------------------------------------------------------------------------\n",
            "Epoch: 001/4 | Time: 161.9531s | Train loss: 0.9149 | Dev loss: 0.5560\n",
            "Train Pearson Coef: 0.7635 | Dev Pearson Coef: 0.8859\n",
            "Train Spearman Coef: 0.7332 | Dev Spearman Coef: 0.8838\n",
            "--------------------------------------------------------------------------------\n",
            "Epoch: 002/4 | Time: 162.5121s | Train loss: 0.2784 | Dev loss: 0.4748\n",
            "Train Pearson Coef: 0.9329 | Dev Pearson Coef: 0.8916\n",
            "Train Spearman Coef: 0.9171 | Dev Spearman Coef: 0.8863\n",
            "--------------------------------------------------------------------------------\n",
            "Epoch: 003/4 | Time: 162.4302s | Train loss: 0.1587 | Dev loss: 0.5517\n",
            "Train Pearson Coef: 0.9624 | Dev Pearson Coef: 0.8926\n",
            "Train Spearman Coef: 0.9538 | Dev Spearman Coef: 0.8879\n",
            "--------------------------------------------------------------------------------\n",
            "Epoch: 004/4 | Time: 162.1234s | Train loss: 0.1170 | Dev loss: 0.4593\n",
            "Train Pearson Coef: 0.9724 | Dev Pearson Coef: 0.8927\n",
            "Train Spearman Coef: 0.9671 | Dev Spearman Coef: 0.8870\n"
          ]
        },
        {
          "output_type": "stream",
          "name": "stderr",
          "text": [
            "\u001b[32m[I 2023-05-12 04:24:27,291]\u001b[0m Trial 56 finished with value: 0.45934365499526897 and parameters: {'num_layer': 2, 'dropout_output': 0.4816639715022256, 'dropout_lstm': 0.5353047695440878, 'freeze': False, 'optimizer': 'RMSprop', 'learning_rate': 2.165903394183378e-05}. Best is trial 45 with value: 0.45089147128957385.\u001b[0m\n",
            "Some weights of the model checkpoint at bert-base-uncased were not used when initializing BertModel: ['cls.seq_relationship.bias', 'cls.predictions.transform.dense.bias', 'cls.predictions.transform.LayerNorm.bias', 'cls.seq_relationship.weight', 'cls.predictions.decoder.weight', 'cls.predictions.bias', 'cls.predictions.transform.dense.weight', 'cls.predictions.transform.LayerNorm.weight']\n",
            "- This IS expected if you are initializing BertModel from the checkpoint of a model trained on another task or with another architecture (e.g. initializing a BertForSequenceClassification model from a BertForPreTraining model).\n",
            "- This IS NOT expected if you are initializing BertModel from the checkpoint of a model that you expect to be exactly identical (initializing a BertForSequenceClassification model from a BertForSequenceClassification model).\n"
          ]
        },
        {
          "output_type": "stream",
          "name": "stdout",
          "text": [
            "--------------------------------------------------------------------------------\n",
            "Epoch: 001/4 | Time: 162.1729s | Train loss: 0.9334 | Dev loss: 0.5393\n",
            "Train Pearson Coef: 0.7585 | Dev Pearson Coef: 0.8859\n",
            "Train Spearman Coef: 0.7299 | Dev Spearman Coef: 0.8846\n",
            "--------------------------------------------------------------------------------\n",
            "Epoch: 002/4 | Time: 162.5217s | Train loss: 0.2865 | Dev loss: 0.4714\n",
            "Train Pearson Coef: 0.9309 | Dev Pearson Coef: 0.8895\n",
            "Train Spearman Coef: 0.9130 | Dev Spearman Coef: 0.8860\n",
            "--------------------------------------------------------------------------------\n",
            "Epoch: 003/4 | Time: 162.6507s | Train loss: 0.1586 | Dev loss: 0.5229\n",
            "Train Pearson Coef: 0.9625 | Dev Pearson Coef: 0.8928\n",
            "Train Spearman Coef: 0.9541 | Dev Spearman Coef: 0.8892\n"
          ]
        },
        {
          "output_type": "stream",
          "name": "stderr",
          "text": [
            "\u001b[32m[I 2023-05-12 04:35:24,199]\u001b[0m Trial 57 finished with value: 0.46358967620007535 and parameters: {'num_layer': 2, 'dropout_output': 0.5613329393618194, 'dropout_lstm': 0.4257532858337274, 'freeze': False, 'optimizer': 'RMSprop', 'learning_rate': 1.9839738763581702e-05}. Best is trial 45 with value: 0.45089147128957385.\u001b[0m\n"
          ]
        },
        {
          "output_type": "stream",
          "name": "stdout",
          "text": [
            "--------------------------------------------------------------------------------\n",
            "Epoch: 004/4 | Time: 162.2008s | Train loss: 0.1106 | Dev loss: 0.4636\n",
            "Train Pearson Coef: 0.9740 | Dev Pearson Coef: 0.8931\n",
            "Train Spearman Coef: 0.9689 | Dev Spearman Coef: 0.8881\n"
          ]
        },
        {
          "output_type": "stream",
          "name": "stderr",
          "text": [
            "Some weights of the model checkpoint at bert-base-uncased were not used when initializing BertModel: ['cls.seq_relationship.bias', 'cls.predictions.transform.dense.bias', 'cls.predictions.transform.LayerNorm.bias', 'cls.seq_relationship.weight', 'cls.predictions.decoder.weight', 'cls.predictions.bias', 'cls.predictions.transform.dense.weight', 'cls.predictions.transform.LayerNorm.weight']\n",
            "- This IS expected if you are initializing BertModel from the checkpoint of a model trained on another task or with another architecture (e.g. initializing a BertForSequenceClassification model from a BertForPreTraining model).\n",
            "- This IS NOT expected if you are initializing BertModel from the checkpoint of a model that you expect to be exactly identical (initializing a BertForSequenceClassification model from a BertForSequenceClassification model).\n"
          ]
        },
        {
          "output_type": "stream",
          "name": "stdout",
          "text": [
            "--------------------------------------------------------------------------------\n",
            "Epoch: 001/4 | Time: 162.7579s | Train loss: 0.9699 | Dev loss: 0.5433\n",
            "Train Pearson Coef: 0.7485 | Dev Pearson Coef: 0.8828\n",
            "Train Spearman Coef: 0.7219 | Dev Spearman Coef: 0.8806\n",
            "--------------------------------------------------------------------------------\n",
            "Epoch: 002/4 | Time: 162.6498s | Train loss: 0.2883 | Dev loss: 0.4930\n",
            "Train Pearson Coef: 0.9304 | Dev Pearson Coef: 0.8880\n",
            "Train Spearman Coef: 0.9125 | Dev Spearman Coef: 0.8840\n",
            "--------------------------------------------------------------------------------\n",
            "Epoch: 003/4 | Time: 162.0966s | Train loss: 0.1541 | Dev loss: 0.5383\n",
            "Train Pearson Coef: 0.9635 | Dev Pearson Coef: 0.8939\n",
            "Train Spearman Coef: 0.9544 | Dev Spearman Coef: 0.8897\n",
            "--------------------------------------------------------------------------------\n",
            "Epoch: 004/4 | Time: 162.1761s | Train loss: 0.1184 | Dev loss: 0.4579\n",
            "Train Pearson Coef: 0.9721 | Dev Pearson Coef: 0.8928\n",
            "Train Spearman Coef: 0.9658 | Dev Spearman Coef: 0.8879\n"
          ]
        },
        {
          "output_type": "stream",
          "name": "stderr",
          "text": [
            "\u001b[32m[I 2023-05-12 04:46:22,124]\u001b[0m Trial 58 finished with value: 0.45793514017094955 and parameters: {'num_layer': 2, 'dropout_output': 0.5090540098413376, 'dropout_lstm': 0.3772025429981243, 'freeze': False, 'optimizer': 'RMSprop', 'learning_rate': 1.5305853829243307e-05}. Best is trial 45 with value: 0.45089147128957385.\u001b[0m\n",
            "Some weights of the model checkpoint at bert-base-uncased were not used when initializing BertModel: ['cls.seq_relationship.bias', 'cls.predictions.transform.dense.bias', 'cls.predictions.transform.LayerNorm.bias', 'cls.seq_relationship.weight', 'cls.predictions.decoder.weight', 'cls.predictions.bias', 'cls.predictions.transform.dense.weight', 'cls.predictions.transform.LayerNorm.weight']\n",
            "- This IS expected if you are initializing BertModel from the checkpoint of a model trained on another task or with another architecture (e.g. initializing a BertForSequenceClassification model from a BertForPreTraining model).\n",
            "- This IS NOT expected if you are initializing BertModel from the checkpoint of a model that you expect to be exactly identical (initializing a BertForSequenceClassification model from a BertForSequenceClassification model).\n"
          ]
        },
        {
          "output_type": "stream",
          "name": "stdout",
          "text": [
            "--------------------------------------------------------------------------------\n",
            "Epoch: 001/4 | Time: 162.2324s | Train loss: 1.0072 | Dev loss: 0.5263\n",
            "Train Pearson Coef: 0.7369 | Dev Pearson Coef: 0.8825\n",
            "Train Spearman Coef: 0.7105 | Dev Spearman Coef: 0.8799\n",
            "--------------------------------------------------------------------------------\n",
            "Epoch: 002/4 | Time: 162.3522s | Train loss: 0.3151 | Dev loss: 0.5821\n",
            "Train Pearson Coef: 0.9237 | Dev Pearson Coef: 0.8873\n",
            "Train Spearman Coef: 0.9046 | Dev Spearman Coef: 0.8838\n",
            "--------------------------------------------------------------------------------\n",
            "Epoch: 003/4 | Time: 162.0446s | Train loss: 0.1657 | Dev loss: 0.5113\n",
            "Train Pearson Coef: 0.9607 | Dev Pearson Coef: 0.8892\n",
            "Train Spearman Coef: 0.9514 | Dev Spearman Coef: 0.8851\n",
            "--------------------------------------------------------------------------------\n",
            "Epoch: 004/4 | Time: 162.2832s | Train loss: 0.1172 | Dev loss: 0.4825\n",
            "Train Pearson Coef: 0.9724 | Dev Pearson Coef: 0.8888\n",
            "Train Spearman Coef: 0.9666 | Dev Spearman Coef: 0.8865\n"
          ]
        },
        {
          "output_type": "stream",
          "name": "stderr",
          "text": [
            "\u001b[32m[I 2023-05-12 04:57:18,523]\u001b[0m Trial 59 finished with value: 0.4825486607374029 and parameters: {'num_layer': 2, 'dropout_output': 0.5154968959638248, 'dropout_lstm': 0.438455082624019, 'freeze': False, 'optimizer': 'RMSprop', 'learning_rate': 1.4773685322202739e-05}. Best is trial 45 with value: 0.45089147128957385.\u001b[0m\n",
            "Some weights of the model checkpoint at bert-base-uncased were not used when initializing BertModel: ['cls.seq_relationship.bias', 'cls.predictions.transform.dense.bias', 'cls.predictions.transform.LayerNorm.bias', 'cls.seq_relationship.weight', 'cls.predictions.decoder.weight', 'cls.predictions.bias', 'cls.predictions.transform.dense.weight', 'cls.predictions.transform.LayerNorm.weight']\n",
            "- This IS expected if you are initializing BertModel from the checkpoint of a model trained on another task or with another architecture (e.g. initializing a BertForSequenceClassification model from a BertForPreTraining model).\n",
            "- This IS NOT expected if you are initializing BertModel from the checkpoint of a model that you expect to be exactly identical (initializing a BertForSequenceClassification model from a BertForSequenceClassification model).\n"
          ]
        },
        {
          "output_type": "stream",
          "name": "stdout",
          "text": [
            "--------------------------------------------------------------------------------\n",
            "Epoch: 001/4 | Time: 162.2616s | Train loss: 1.0681 | Dev loss: 0.5375\n",
            "Train Pearson Coef: 0.7201 | Dev Pearson Coef: 0.8776\n",
            "Train Spearman Coef: 0.6944 | Dev Spearman Coef: 0.8749\n",
            "--------------------------------------------------------------------------------\n",
            "Epoch: 002/4 | Time: 162.4205s | Train loss: 0.3289 | Dev loss: 0.6877\n",
            "Train Pearson Coef: 0.9201 | Dev Pearson Coef: 0.8818\n",
            "Train Spearman Coef: 0.8996 | Dev Spearman Coef: 0.8790\n",
            "--------------------------------------------------------------------------------\n",
            "Epoch: 003/4 | Time: 162.2131s | Train loss: 0.1613 | Dev loss: 0.5349\n",
            "Train Pearson Coef: 0.9617 | Dev Pearson Coef: 0.8853\n",
            "Train Spearman Coef: 0.9527 | Dev Spearman Coef: 0.8813\n"
          ]
        },
        {
          "output_type": "stream",
          "name": "stderr",
          "text": [
            "\u001b[32m[I 2023-05-12 05:08:14,761]\u001b[0m Trial 60 finished with value: 0.48590259349092524 and parameters: {'num_layer': 2, 'dropout_output': 0.5926634164686039, 'dropout_lstm': 0.4072219537528079, 'freeze': False, 'optimizer': 'RMSprop', 'learning_rate': 1.2418695111160936e-05}. Best is trial 45 with value: 0.45089147128957385.\u001b[0m\n"
          ]
        },
        {
          "output_type": "stream",
          "name": "stdout",
          "text": [
            "--------------------------------------------------------------------------------\n",
            "Epoch: 004/4 | Time: 162.1182s | Train loss: 0.1252 | Dev loss: 0.4859\n",
            "Train Pearson Coef: 0.9704 | Dev Pearson Coef: 0.8857\n",
            "Train Spearman Coef: 0.9639 | Dev Spearman Coef: 0.8821\n"
          ]
        },
        {
          "output_type": "stream",
          "name": "stderr",
          "text": [
            "Some weights of the model checkpoint at bert-base-uncased were not used when initializing BertModel: ['cls.seq_relationship.bias', 'cls.predictions.transform.dense.bias', 'cls.predictions.transform.LayerNorm.bias', 'cls.seq_relationship.weight', 'cls.predictions.decoder.weight', 'cls.predictions.bias', 'cls.predictions.transform.dense.weight', 'cls.predictions.transform.LayerNorm.weight']\n",
            "- This IS expected if you are initializing BertModel from the checkpoint of a model trained on another task or with another architecture (e.g. initializing a BertForSequenceClassification model from a BertForPreTraining model).\n",
            "- This IS NOT expected if you are initializing BertModel from the checkpoint of a model that you expect to be exactly identical (initializing a BertForSequenceClassification model from a BertForSequenceClassification model).\n"
          ]
        },
        {
          "output_type": "stream",
          "name": "stdout",
          "text": [
            "--------------------------------------------------------------------------------\n",
            "Epoch: 001/4 | Time: 164.5789s | Train loss: 1.9296 | Dev loss: 0.7614\n",
            "Train Pearson Coef: 0.5325 | Dev Pearson Coef: 0.8615\n",
            "Train Spearman Coef: 0.5271 | Dev Spearman Coef: 0.8606\n",
            "--------------------------------------------------------------------------------\n",
            "Epoch: 002/4 | Time: 164.3419s | Train loss: 0.4721 | Dev loss: 0.6626\n",
            "Train Pearson Coef: 0.8833 | Dev Pearson Coef: 0.8671\n",
            "Train Spearman Coef: 0.8598 | Dev Spearman Coef: 0.8686\n",
            "--------------------------------------------------------------------------------\n",
            "Epoch: 003/4 | Time: 164.3037s | Train loss: 0.3097 | Dev loss: 0.7087\n",
            "Train Pearson Coef: 0.9253 | Dev Pearson Coef: 0.8780\n",
            "Train Spearman Coef: 0.9106 | Dev Spearman Coef: 0.8758\n"
          ]
        },
        {
          "output_type": "stream",
          "name": "stderr",
          "text": [
            "\u001b[32m[I 2023-05-12 05:19:19,689]\u001b[0m Trial 61 finished with value: 0.5807043294957344 and parameters: {'num_layer': 2, 'dropout_output': 0.4444740406485652, 'dropout_lstm': 0.5443616254641065, 'freeze': False, 'optimizer': 'Adam', 'learning_rate': 1.6341615231968413e-05}. Best is trial 45 with value: 0.45089147128957385.\u001b[0m\n"
          ]
        },
        {
          "output_type": "stream",
          "name": "stdout",
          "text": [
            "--------------------------------------------------------------------------------\n",
            "Epoch: 004/4 | Time: 164.2898s | Train loss: 0.2321 | Dev loss: 0.5807\n",
            "Train Pearson Coef: 0.9446 | Dev Pearson Coef: 0.8834\n",
            "Train Spearman Coef: 0.9371 | Dev Spearman Coef: 0.8790\n"
          ]
        },
        {
          "output_type": "stream",
          "name": "stderr",
          "text": [
            "Some weights of the model checkpoint at bert-base-uncased were not used when initializing BertModel: ['cls.seq_relationship.bias', 'cls.predictions.transform.dense.bias', 'cls.predictions.transform.LayerNorm.bias', 'cls.seq_relationship.weight', 'cls.predictions.decoder.weight', 'cls.predictions.bias', 'cls.predictions.transform.dense.weight', 'cls.predictions.transform.LayerNorm.weight']\n",
            "- This IS expected if you are initializing BertModel from the checkpoint of a model trained on another task or with another architecture (e.g. initializing a BertForSequenceClassification model from a BertForPreTraining model).\n",
            "- This IS NOT expected if you are initializing BertModel from the checkpoint of a model that you expect to be exactly identical (initializing a BertForSequenceClassification model from a BertForSequenceClassification model).\n"
          ]
        },
        {
          "output_type": "stream",
          "name": "stdout",
          "text": [
            "--------------------------------------------------------------------------------\n",
            "Epoch: 001/4 | Time: 161.8025s | Train loss: 0.9506 | Dev loss: 0.5130\n",
            "Train Pearson Coef: 0.7538 | Dev Pearson Coef: 0.8842\n",
            "Train Spearman Coef: 0.7238 | Dev Spearman Coef: 0.8819\n",
            "--------------------------------------------------------------------------------\n",
            "Epoch: 002/4 | Time: 161.9412s | Train loss: 0.2909 | Dev loss: 0.4826\n",
            "Train Pearson Coef: 0.9297 | Dev Pearson Coef: 0.8882\n",
            "Train Spearman Coef: 0.9133 | Dev Spearman Coef: 0.8844\n",
            "--------------------------------------------------------------------------------\n",
            "Epoch: 003/4 | Time: 162.0730s | Train loss: 0.1597 | Dev loss: 0.6132\n",
            "Train Pearson Coef: 0.9622 | Dev Pearson Coef: 0.8926\n",
            "Train Spearman Coef: 0.9538 | Dev Spearman Coef: 0.8889\n"
          ]
        },
        {
          "output_type": "stream",
          "name": "stderr",
          "text": [
            "\u001b[32m[I 2023-05-12 05:30:14,907]\u001b[0m Trial 62 finished with value: 0.4495483177139404 and parameters: {'num_layer': 2, 'dropout_output': 0.5765680645223765, 'dropout_lstm': 0.5897480109434928, 'freeze': False, 'optimizer': 'RMSprop', 'learning_rate': 1.823057161033995e-05}. Best is trial 62 with value: 0.4495483177139404.\u001b[0m\n"
          ]
        },
        {
          "output_type": "stream",
          "name": "stdout",
          "text": [
            "--------------------------------------------------------------------------------\n",
            "Epoch: 004/4 | Time: 161.8036s | Train loss: 0.1147 | Dev loss: 0.4495\n",
            "Train Pearson Coef: 0.9730 | Dev Pearson Coef: 0.8954\n",
            "Train Spearman Coef: 0.9675 | Dev Spearman Coef: 0.8904\n"
          ]
        },
        {
          "output_type": "stream",
          "name": "stderr",
          "text": [
            "Some weights of the model checkpoint at bert-base-uncased were not used when initializing BertModel: ['cls.seq_relationship.bias', 'cls.predictions.transform.dense.bias', 'cls.predictions.transform.LayerNorm.bias', 'cls.seq_relationship.weight', 'cls.predictions.decoder.weight', 'cls.predictions.bias', 'cls.predictions.transform.dense.weight', 'cls.predictions.transform.LayerNorm.weight']\n",
            "- This IS expected if you are initializing BertModel from the checkpoint of a model trained on another task or with another architecture (e.g. initializing a BertForSequenceClassification model from a BertForPreTraining model).\n",
            "- This IS NOT expected if you are initializing BertModel from the checkpoint of a model that you expect to be exactly identical (initializing a BertForSequenceClassification model from a BertForSequenceClassification model).\n"
          ]
        },
        {
          "output_type": "stream",
          "name": "stdout",
          "text": [
            "--------------------------------------------------------------------------------\n",
            "Epoch: 001/4 | Time: 91.1471s | Train loss: 1.6883 | Dev loss: 1.3786\n",
            "Train Pearson Coef: 0.4774 | Dev Pearson Coef: 0.7455\n",
            "Train Spearman Coef: 0.4830 | Dev Spearman Coef: 0.7447\n",
            "--------------------------------------------------------------------------------\n",
            "Epoch: 002/4 | Time: 91.1465s | Train loss: 0.9226 | Dev loss: 1.2486\n",
            "Train Pearson Coef: 0.7548 | Dev Pearson Coef: 0.7868\n",
            "Train Spearman Coef: 0.7095 | Dev Spearman Coef: 0.7954\n",
            "--------------------------------------------------------------------------------\n",
            "Epoch: 003/4 | Time: 91.1770s | Train loss: 0.7981 | Dev loss: 1.1736\n",
            "Train Pearson Coef: 0.7922 | Dev Pearson Coef: 0.8011\n",
            "Train Spearman Coef: 0.7491 | Dev Spearman Coef: 0.8093\n"
          ]
        },
        {
          "output_type": "stream",
          "name": "stderr",
          "text": [
            "\u001b[32m[I 2023-05-12 05:36:28,954]\u001b[0m Trial 63 finished with value: 1.093554937459053 and parameters: {'num_layer': 2, 'dropout_output': 0.5673521714569336, 'dropout_lstm': 0.6226478240448107, 'freeze': True, 'optimizer': 'RMSprop', 'learning_rate': 1.707044947142562e-05}. Best is trial 62 with value: 0.4495483177139404.\u001b[0m\n"
          ]
        },
        {
          "output_type": "stream",
          "name": "stdout",
          "text": [
            "--------------------------------------------------------------------------------\n",
            "Epoch: 004/4 | Time: 91.2782s | Train loss: 0.7273 | Dev loss: 1.0936\n",
            "Train Pearson Coef: 0.8127 | Dev Pearson Coef: 0.8092\n",
            "Train Spearman Coef: 0.7732 | Dev Spearman Coef: 0.8157\n"
          ]
        }
      ]
    },
    {
      "cell_type": "code",
      "source": [
        "df_optuna = study.trials_dataframe(attrs=(\"number\", \"value\", \"params\", \"state\")).dropna(subset=['value']) #eliminar valores NaN\n",
        "# Leer el archivo metrics.CSV y crear un DataFrame\n",
        "path_metrics = path_base + 'metrics_' + study_name + \".csv\"\n",
        "df_metrics = pd.read_csv(path_metrics).dropna(subset=['train_loss'])\n",
        "print(len(df_optuna))\n",
        "print(len(df_metrics ))"
      ],
      "metadata": {
        "id": "QgLFZ3WuZnpZ",
        "colab": {
          "base_uri": "https://localhost:8080/"
        },
        "outputId": "4cba3be8-684b-4e09-b6d2-70440c5de819"
      },
      "execution_count": 41,
      "outputs": [
        {
          "output_type": "stream",
          "name": "stdout",
          "text": [
            "60\n",
            "18\n"
          ]
        }
      ]
    },
    {
      "cell_type": "code",
      "source": [
        "#df_metrics = df_metrics[['train_loss', 'valid_loss', 'pearson_train', 'pearson_val', 'spearman_train', 'spearman_val']]"
      ],
      "metadata": {
        "id": "EUzeE8-9R-Jm"
      },
      "execution_count": null,
      "outputs": []
    },
    {
      "cell_type": "code",
      "source": [
        "#df_metrics = df_metrics.rename(columns={'train_loss': 'train_loss', 'valid_loss': 'val_loss', 'pearson_train': 'Pearson_train','pearson_val': 'Pearson_val', 'spearman_train': 'Spearman_train', 'spearman_val': 'Spearman_val'})"
      ],
      "metadata": {
        "id": "4zknzTnaL17p"
      },
      "execution_count": null,
      "outputs": []
    },
    {
      "cell_type": "code",
      "source": [
        "df_metrics"
      ],
      "metadata": {
        "id": "beciGKSGSu-U"
      },
      "execution_count": null,
      "outputs": []
    },
    {
      "cell_type": "code",
      "source": [
        "df_old = pd.DataFrame()"
      ],
      "metadata": {
        "id": "9K7DZrvnZt70"
      },
      "execution_count": null,
      "outputs": []
    },
    {
      "cell_type": "code",
      "source": [
        "df_old = pd.read_csv(path_base + study_name + \"_COMPLETE_SORT.csv\")\n",
        "print(\"Old trials: \", len(df_old))"
      ],
      "metadata": {
        "id": "x9nvclWeZ1gc",
        "colab": {
          "base_uri": "https://localhost:8080/"
        },
        "outputId": "f7088e99-5098-4da1-ef6e-1d9adea85048"
      },
      "execution_count": 42,
      "outputs": [
        {
          "output_type": "stream",
          "name": "stdout",
          "text": [
            "Old trials:  42\n"
          ]
        }
      ]
    },
    {
      "cell_type": "code",
      "source": [
        "# Seleccionar los valores de df_optuna que no están ya en df_old\n",
        "if len(df_optuna)-len(df_metrics) == len(df_old):\n",
        "    df_optuna_filter = df_optuna.tail(len(df_metrics)).reset_index(drop=True)\n",
        "else:\n",
        "    # Seleccionar los valores de df_optuna que no están ya en df_old\n",
        "    mask = ~df_optuna['value'].isin(df_old['value'])\n",
        "    df_optuna_filter = df_optuna[mask].reset_index(drop=True)\n",
        "    print(len(df_optuna_filter))"
      ],
      "metadata": {
        "id": "d8OF3gFAZ3Nk"
      },
      "execution_count": 43,
      "outputs": []
    },
    {
      "cell_type": "code",
      "source": [
        "def concat(df_optuna_filter, df_metrics, df_old):\n",
        "  # Unir dataframe de metrics con dataframe de optuna de forma horizontal y manejar los valores inexistentes\n",
        "  df_join = pd.concat([df_optuna_filter, df_metrics], axis=1, sort=False)\n",
        "  # Unir dataframe de metrics con dataframe de optuna de forma vertical y manejar los valores inexistentes\n",
        "  df_complete_updated = pd.concat([df_old, df_join], axis=0, sort=False).drop_duplicates()\n",
        "  print(\"All trials: \", len(df_complete_updated))\n",
        "  assert len(df_join) + len(df_old) == len(df_complete_updated)\n",
        "  return df_complete_updated"
      ],
      "metadata": {
        "id": "wS3H4F8GZ5iB"
      },
      "execution_count": 44,
      "outputs": []
    },
    {
      "cell_type": "code",
      "source": [
        "if len(df_optuna_filter) == len(df_metrics):\n",
        "  df_complete_updated = concat(df_optuna_filter, df_metrics, df_old).dropna(subset=['train_loss', 'value'])\n",
        "\n",
        "if len(df_optuna_filter) > len(df_metrics):\n",
        "  num_rows_to_add = len(df_optuna_filter) - len(df_metrics)\n",
        "  new_rows = [[np.nan] * len(df_metrics.columns) for i in range(num_rows_to_add)]\n",
        "  new_df = pd.DataFrame(new_rows, columns=df_metrics.columns)\n",
        "  df_metrics = pd.concat([new_df, df_metrics], ignore_index=True)\n",
        "  df_complete_updated = concat(df_optuna_filter, df_metrics, df_old).dropna(subset=['train_loss','value'])"
      ],
      "metadata": {
        "id": "7dAZ3rhaZ8O8",
        "colab": {
          "base_uri": "https://localhost:8080/"
        },
        "outputId": "769327ec-cd65-44ce-d7e0-cad2d0b99575"
      },
      "execution_count": 45,
      "outputs": [
        {
          "output_type": "stream",
          "name": "stdout",
          "text": [
            "All trials:  60\n"
          ]
        }
      ]
    },
    {
      "cell_type": "code",
      "source": [
        "df_complete_updated"
      ],
      "metadata": {
        "id": "1sOhGFHTLPf2"
      },
      "execution_count": null,
      "outputs": []
    },
    {
      "cell_type": "code",
      "source": [
        "# Ordenar el DataFrame unido por valor\n",
        "df = df_complete_updated.sort_values(by='value', ascending=True)\n",
        "# Obtener la prueba con el mejor valor\n",
        "best_trial = df.iloc[0]\n",
        "print(\"Best trial: \")\n",
        "print(best_trial)"
      ],
      "metadata": {
        "id": "MxQ5fxnEaAGo",
        "colab": {
          "base_uri": "https://localhost:8080/"
        },
        "outputId": "1ac0a3fc-3e7a-4e45-b399-7f549b51f912"
      },
      "execution_count": 46,
      "outputs": [
        {
          "output_type": "stream",
          "name": "stdout",
          "text": [
            "Best trial: \n",
            "number                                                                  62\n",
            "value                                                             0.449548\n",
            "params_dropout_lstm                                               0.589748\n",
            "params_dropout_output                                             0.576568\n",
            "params_freeze                                                        False\n",
            "params_learning_rate                                              0.000018\n",
            "params_num_layer                                                         2\n",
            "params_optimizer                                                   RMSprop\n",
            "state                                                             COMPLETE\n",
            "train_loss               [0.9506454552213351, 0.29086934758557215, 0.15...\n",
            "valid_loss               [0.5129756255352751, 0.48257170268829835, 0.61...\n",
            "spearman_train           [0.7238082046182259, 0.9132737696940708, 0.953...\n",
            "spearman_val             [0.8819175597940894, 0.8844000312559526, 0.888...\n",
            "pearson_train            [0.7537934410531969, 0.9297306629500248, 0.962...\n",
            "pearson_val              [0.8841520447426181, 0.8882020373208477, 0.892...\n",
            "Name: 16, dtype: object\n"
          ]
        }
      ]
    },
    {
      "cell_type": "code",
      "source": [
        "#Guardar CSV completo y ordenado\n",
        "# ruta de acceso a la carpeta de Google Drive montada\n",
        "os.remove(path_base + study_name + \"_COMPLETE_SORT.csv\")\n",
        "path_ = path_base + study_name + \"_COMPLETE_SORT.csv\"\n",
        "# guardar el archivo CSV en Google Drive\n",
        "df.to_csv(path_, index=False)\n",
        "files.download(path_)\n",
        "os.remove(path_metrics)"
      ],
      "metadata": {
        "id": "IKMYJGgMaCCY",
        "colab": {
          "base_uri": "https://localhost:8080/",
          "height": 17
        },
        "outputId": "699c364b-936e-44dc-cb03-8b1b7db0ed70"
      },
      "execution_count": 47,
      "outputs": [
        {
          "output_type": "display_data",
          "data": {
            "text/plain": [
              "<IPython.core.display.Javascript object>"
            ],
            "application/javascript": [
              "\n",
              "    async function download(id, filename, size) {\n",
              "      if (!google.colab.kernel.accessAllowed) {\n",
              "        return;\n",
              "      }\n",
              "      const div = document.createElement('div');\n",
              "      const label = document.createElement('label');\n",
              "      label.textContent = `Downloading \"${filename}\": `;\n",
              "      div.appendChild(label);\n",
              "      const progress = document.createElement('progress');\n",
              "      progress.max = size;\n",
              "      div.appendChild(progress);\n",
              "      document.body.appendChild(div);\n",
              "\n",
              "      const buffers = [];\n",
              "      let downloaded = 0;\n",
              "\n",
              "      const channel = await google.colab.kernel.comms.open(id);\n",
              "      // Send a message to notify the kernel that we're ready.\n",
              "      channel.send({})\n",
              "\n",
              "      for await (const message of channel.messages) {\n",
              "        // Send a message to notify the kernel that we're ready.\n",
              "        channel.send({})\n",
              "        if (message.buffers) {\n",
              "          for (const buffer of message.buffers) {\n",
              "            buffers.push(buffer);\n",
              "            downloaded += buffer.byteLength;\n",
              "            progress.value = downloaded;\n",
              "          }\n",
              "        }\n",
              "      }\n",
              "      const blob = new Blob(buffers, {type: 'application/binary'});\n",
              "      const a = document.createElement('a');\n",
              "      a.href = window.URL.createObjectURL(blob);\n",
              "      a.download = filename;\n",
              "      div.appendChild(a);\n",
              "      a.click();\n",
              "      div.remove();\n",
              "    }\n",
              "  "
            ]
          },
          "metadata": {}
        },
        {
          "output_type": "display_data",
          "data": {
            "text/plain": [
              "<IPython.core.display.Javascript object>"
            ],
            "application/javascript": [
              "download(\"download_63336369-bcad-4dc5-b346-e6b0474f0216\", \"study-bert-bilstm-output-base_COMPLETE_SORT.csv\", 36526)"
            ]
          },
          "metadata": {}
        }
      ]
    }
  ],
  "metadata": {
    "colab": {
      "provenance": [],
      "gpuType": "T4"
    },
    "gpuClass": "standard",
    "kernelspec": {
      "display_name": "Python 3",
      "name": "python3"
    },
    "language_info": {
      "codemirror_mode": {
        "name": "ipython",
        "version": 3
      },
      "file_extension": ".py",
      "mimetype": "text/x-python",
      "name": "python",
      "nbconvert_exporter": "python",
      "pygments_lexer": "ipython3",
      "version": "3.9.4"
    },
    "accelerator": "GPU",
    "widgets": {
      "application/vnd.jupyter.widget-state+json": {
        "d1b166ccc9bf4dd08d8dfac4ef18f44d": {
          "model_module": "@jupyter-widgets/controls",
          "model_name": "HBoxModel",
          "model_module_version": "1.5.0",
          "state": {
            "_dom_classes": [],
            "_model_module": "@jupyter-widgets/controls",
            "_model_module_version": "1.5.0",
            "_model_name": "HBoxModel",
            "_view_count": null,
            "_view_module": "@jupyter-widgets/controls",
            "_view_module_version": "1.5.0",
            "_view_name": "HBoxView",
            "box_style": "",
            "children": [
              "IPY_MODEL_e35df03c5d7f4d28a6e8e2957fd2b0fc",
              "IPY_MODEL_ef1173495a2a4d2989b9f0451927810b",
              "IPY_MODEL_780a93e8bdef4ace8d4678b2d2be8ab6"
            ],
            "layout": "IPY_MODEL_20bd9c0f83984797a7a7ddfec5447456"
          }
        },
        "e35df03c5d7f4d28a6e8e2957fd2b0fc": {
          "model_module": "@jupyter-widgets/controls",
          "model_name": "HTMLModel",
          "model_module_version": "1.5.0",
          "state": {
            "_dom_classes": [],
            "_model_module": "@jupyter-widgets/controls",
            "_model_module_version": "1.5.0",
            "_model_name": "HTMLModel",
            "_view_count": null,
            "_view_module": "@jupyter-widgets/controls",
            "_view_module_version": "1.5.0",
            "_view_name": "HTMLView",
            "description": "",
            "description_tooltip": null,
            "layout": "IPY_MODEL_7d296d49c59443f5b487b9b161d9acc6",
            "placeholder": "​",
            "style": "IPY_MODEL_03f52d7a27334979a07d9851cdc022a8",
            "value": "Downloading (…)solve/main/vocab.txt: 100%"
          }
        },
        "ef1173495a2a4d2989b9f0451927810b": {
          "model_module": "@jupyter-widgets/controls",
          "model_name": "FloatProgressModel",
          "model_module_version": "1.5.0",
          "state": {
            "_dom_classes": [],
            "_model_module": "@jupyter-widgets/controls",
            "_model_module_version": "1.5.0",
            "_model_name": "FloatProgressModel",
            "_view_count": null,
            "_view_module": "@jupyter-widgets/controls",
            "_view_module_version": "1.5.0",
            "_view_name": "ProgressView",
            "bar_style": "success",
            "description": "",
            "description_tooltip": null,
            "layout": "IPY_MODEL_1f1f94f623f746a98f7e722b7c69525f",
            "max": 231508,
            "min": 0,
            "orientation": "horizontal",
            "style": "IPY_MODEL_cfb9a36291e34bbfa3710fcd7ee05e20",
            "value": 231508
          }
        },
        "780a93e8bdef4ace8d4678b2d2be8ab6": {
          "model_module": "@jupyter-widgets/controls",
          "model_name": "HTMLModel",
          "model_module_version": "1.5.0",
          "state": {
            "_dom_classes": [],
            "_model_module": "@jupyter-widgets/controls",
            "_model_module_version": "1.5.0",
            "_model_name": "HTMLModel",
            "_view_count": null,
            "_view_module": "@jupyter-widgets/controls",
            "_view_module_version": "1.5.0",
            "_view_name": "HTMLView",
            "description": "",
            "description_tooltip": null,
            "layout": "IPY_MODEL_f014934568dc4331a571ba5d3da0e9b6",
            "placeholder": "​",
            "style": "IPY_MODEL_ce8dc1909bd4426f95e45b414c6a1e01",
            "value": " 232k/232k [00:00&lt;00:00, 4.92MB/s]"
          }
        },
        "20bd9c0f83984797a7a7ddfec5447456": {
          "model_module": "@jupyter-widgets/base",
          "model_name": "LayoutModel",
          "model_module_version": "1.2.0",
          "state": {
            "_model_module": "@jupyter-widgets/base",
            "_model_module_version": "1.2.0",
            "_model_name": "LayoutModel",
            "_view_count": null,
            "_view_module": "@jupyter-widgets/base",
            "_view_module_version": "1.2.0",
            "_view_name": "LayoutView",
            "align_content": null,
            "align_items": null,
            "align_self": null,
            "border": null,
            "bottom": null,
            "display": null,
            "flex": null,
            "flex_flow": null,
            "grid_area": null,
            "grid_auto_columns": null,
            "grid_auto_flow": null,
            "grid_auto_rows": null,
            "grid_column": null,
            "grid_gap": null,
            "grid_row": null,
            "grid_template_areas": null,
            "grid_template_columns": null,
            "grid_template_rows": null,
            "height": null,
            "justify_content": null,
            "justify_items": null,
            "left": null,
            "margin": null,
            "max_height": null,
            "max_width": null,
            "min_height": null,
            "min_width": null,
            "object_fit": null,
            "object_position": null,
            "order": null,
            "overflow": null,
            "overflow_x": null,
            "overflow_y": null,
            "padding": null,
            "right": null,
            "top": null,
            "visibility": null,
            "width": null
          }
        },
        "7d296d49c59443f5b487b9b161d9acc6": {
          "model_module": "@jupyter-widgets/base",
          "model_name": "LayoutModel",
          "model_module_version": "1.2.0",
          "state": {
            "_model_module": "@jupyter-widgets/base",
            "_model_module_version": "1.2.0",
            "_model_name": "LayoutModel",
            "_view_count": null,
            "_view_module": "@jupyter-widgets/base",
            "_view_module_version": "1.2.0",
            "_view_name": "LayoutView",
            "align_content": null,
            "align_items": null,
            "align_self": null,
            "border": null,
            "bottom": null,
            "display": null,
            "flex": null,
            "flex_flow": null,
            "grid_area": null,
            "grid_auto_columns": null,
            "grid_auto_flow": null,
            "grid_auto_rows": null,
            "grid_column": null,
            "grid_gap": null,
            "grid_row": null,
            "grid_template_areas": null,
            "grid_template_columns": null,
            "grid_template_rows": null,
            "height": null,
            "justify_content": null,
            "justify_items": null,
            "left": null,
            "margin": null,
            "max_height": null,
            "max_width": null,
            "min_height": null,
            "min_width": null,
            "object_fit": null,
            "object_position": null,
            "order": null,
            "overflow": null,
            "overflow_x": null,
            "overflow_y": null,
            "padding": null,
            "right": null,
            "top": null,
            "visibility": null,
            "width": null
          }
        },
        "03f52d7a27334979a07d9851cdc022a8": {
          "model_module": "@jupyter-widgets/controls",
          "model_name": "DescriptionStyleModel",
          "model_module_version": "1.5.0",
          "state": {
            "_model_module": "@jupyter-widgets/controls",
            "_model_module_version": "1.5.0",
            "_model_name": "DescriptionStyleModel",
            "_view_count": null,
            "_view_module": "@jupyter-widgets/base",
            "_view_module_version": "1.2.0",
            "_view_name": "StyleView",
            "description_width": ""
          }
        },
        "1f1f94f623f746a98f7e722b7c69525f": {
          "model_module": "@jupyter-widgets/base",
          "model_name": "LayoutModel",
          "model_module_version": "1.2.0",
          "state": {
            "_model_module": "@jupyter-widgets/base",
            "_model_module_version": "1.2.0",
            "_model_name": "LayoutModel",
            "_view_count": null,
            "_view_module": "@jupyter-widgets/base",
            "_view_module_version": "1.2.0",
            "_view_name": "LayoutView",
            "align_content": null,
            "align_items": null,
            "align_self": null,
            "border": null,
            "bottom": null,
            "display": null,
            "flex": null,
            "flex_flow": null,
            "grid_area": null,
            "grid_auto_columns": null,
            "grid_auto_flow": null,
            "grid_auto_rows": null,
            "grid_column": null,
            "grid_gap": null,
            "grid_row": null,
            "grid_template_areas": null,
            "grid_template_columns": null,
            "grid_template_rows": null,
            "height": null,
            "justify_content": null,
            "justify_items": null,
            "left": null,
            "margin": null,
            "max_height": null,
            "max_width": null,
            "min_height": null,
            "min_width": null,
            "object_fit": null,
            "object_position": null,
            "order": null,
            "overflow": null,
            "overflow_x": null,
            "overflow_y": null,
            "padding": null,
            "right": null,
            "top": null,
            "visibility": null,
            "width": null
          }
        },
        "cfb9a36291e34bbfa3710fcd7ee05e20": {
          "model_module": "@jupyter-widgets/controls",
          "model_name": "ProgressStyleModel",
          "model_module_version": "1.5.0",
          "state": {
            "_model_module": "@jupyter-widgets/controls",
            "_model_module_version": "1.5.0",
            "_model_name": "ProgressStyleModel",
            "_view_count": null,
            "_view_module": "@jupyter-widgets/base",
            "_view_module_version": "1.2.0",
            "_view_name": "StyleView",
            "bar_color": null,
            "description_width": ""
          }
        },
        "f014934568dc4331a571ba5d3da0e9b6": {
          "model_module": "@jupyter-widgets/base",
          "model_name": "LayoutModel",
          "model_module_version": "1.2.0",
          "state": {
            "_model_module": "@jupyter-widgets/base",
            "_model_module_version": "1.2.0",
            "_model_name": "LayoutModel",
            "_view_count": null,
            "_view_module": "@jupyter-widgets/base",
            "_view_module_version": "1.2.0",
            "_view_name": "LayoutView",
            "align_content": null,
            "align_items": null,
            "align_self": null,
            "border": null,
            "bottom": null,
            "display": null,
            "flex": null,
            "flex_flow": null,
            "grid_area": null,
            "grid_auto_columns": null,
            "grid_auto_flow": null,
            "grid_auto_rows": null,
            "grid_column": null,
            "grid_gap": null,
            "grid_row": null,
            "grid_template_areas": null,
            "grid_template_columns": null,
            "grid_template_rows": null,
            "height": null,
            "justify_content": null,
            "justify_items": null,
            "left": null,
            "margin": null,
            "max_height": null,
            "max_width": null,
            "min_height": null,
            "min_width": null,
            "object_fit": null,
            "object_position": null,
            "order": null,
            "overflow": null,
            "overflow_x": null,
            "overflow_y": null,
            "padding": null,
            "right": null,
            "top": null,
            "visibility": null,
            "width": null
          }
        },
        "ce8dc1909bd4426f95e45b414c6a1e01": {
          "model_module": "@jupyter-widgets/controls",
          "model_name": "DescriptionStyleModel",
          "model_module_version": "1.5.0",
          "state": {
            "_model_module": "@jupyter-widgets/controls",
            "_model_module_version": "1.5.0",
            "_model_name": "DescriptionStyleModel",
            "_view_count": null,
            "_view_module": "@jupyter-widgets/base",
            "_view_module_version": "1.2.0",
            "_view_name": "StyleView",
            "description_width": ""
          }
        },
        "3b594bc0988a4a34b14ebe348a5c3da5": {
          "model_module": "@jupyter-widgets/controls",
          "model_name": "HBoxModel",
          "model_module_version": "1.5.0",
          "state": {
            "_dom_classes": [],
            "_model_module": "@jupyter-widgets/controls",
            "_model_module_version": "1.5.0",
            "_model_name": "HBoxModel",
            "_view_count": null,
            "_view_module": "@jupyter-widgets/controls",
            "_view_module_version": "1.5.0",
            "_view_name": "HBoxView",
            "box_style": "",
            "children": [
              "IPY_MODEL_1c741af47c5642798ab97d6416207919",
              "IPY_MODEL_3e212fb296f0443b8db1caa8a99f9a67",
              "IPY_MODEL_6c393821a3f04ba0a272cec34fbeaaa2"
            ],
            "layout": "IPY_MODEL_fb66caa3640e4345bcf14f36a5e32471"
          }
        },
        "1c741af47c5642798ab97d6416207919": {
          "model_module": "@jupyter-widgets/controls",
          "model_name": "HTMLModel",
          "model_module_version": "1.5.0",
          "state": {
            "_dom_classes": [],
            "_model_module": "@jupyter-widgets/controls",
            "_model_module_version": "1.5.0",
            "_model_name": "HTMLModel",
            "_view_count": null,
            "_view_module": "@jupyter-widgets/controls",
            "_view_module_version": "1.5.0",
            "_view_name": "HTMLView",
            "description": "",
            "description_tooltip": null,
            "layout": "IPY_MODEL_81d24ebab93a4bd2bc7e205fb0b6e9aa",
            "placeholder": "​",
            "style": "IPY_MODEL_7b786eaf2faf4c3e81da6b1a81e913fc",
            "value": "Downloading (…)okenizer_config.json: 100%"
          }
        },
        "3e212fb296f0443b8db1caa8a99f9a67": {
          "model_module": "@jupyter-widgets/controls",
          "model_name": "FloatProgressModel",
          "model_module_version": "1.5.0",
          "state": {
            "_dom_classes": [],
            "_model_module": "@jupyter-widgets/controls",
            "_model_module_version": "1.5.0",
            "_model_name": "FloatProgressModel",
            "_view_count": null,
            "_view_module": "@jupyter-widgets/controls",
            "_view_module_version": "1.5.0",
            "_view_name": "ProgressView",
            "bar_style": "success",
            "description": "",
            "description_tooltip": null,
            "layout": "IPY_MODEL_75d4357b5dc448f084241c72d3da4751",
            "max": 28,
            "min": 0,
            "orientation": "horizontal",
            "style": "IPY_MODEL_c1991cebdc9b4c6d98193951735ffe12",
            "value": 28
          }
        },
        "6c393821a3f04ba0a272cec34fbeaaa2": {
          "model_module": "@jupyter-widgets/controls",
          "model_name": "HTMLModel",
          "model_module_version": "1.5.0",
          "state": {
            "_dom_classes": [],
            "_model_module": "@jupyter-widgets/controls",
            "_model_module_version": "1.5.0",
            "_model_name": "HTMLModel",
            "_view_count": null,
            "_view_module": "@jupyter-widgets/controls",
            "_view_module_version": "1.5.0",
            "_view_name": "HTMLView",
            "description": "",
            "description_tooltip": null,
            "layout": "IPY_MODEL_f245105064fd48908407e1679f2371ea",
            "placeholder": "​",
            "style": "IPY_MODEL_6b7606e3330f454a88e2d4573e474055",
            "value": " 28.0/28.0 [00:00&lt;00:00, 2.26kB/s]"
          }
        },
        "fb66caa3640e4345bcf14f36a5e32471": {
          "model_module": "@jupyter-widgets/base",
          "model_name": "LayoutModel",
          "model_module_version": "1.2.0",
          "state": {
            "_model_module": "@jupyter-widgets/base",
            "_model_module_version": "1.2.0",
            "_model_name": "LayoutModel",
            "_view_count": null,
            "_view_module": "@jupyter-widgets/base",
            "_view_module_version": "1.2.0",
            "_view_name": "LayoutView",
            "align_content": null,
            "align_items": null,
            "align_self": null,
            "border": null,
            "bottom": null,
            "display": null,
            "flex": null,
            "flex_flow": null,
            "grid_area": null,
            "grid_auto_columns": null,
            "grid_auto_flow": null,
            "grid_auto_rows": null,
            "grid_column": null,
            "grid_gap": null,
            "grid_row": null,
            "grid_template_areas": null,
            "grid_template_columns": null,
            "grid_template_rows": null,
            "height": null,
            "justify_content": null,
            "justify_items": null,
            "left": null,
            "margin": null,
            "max_height": null,
            "max_width": null,
            "min_height": null,
            "min_width": null,
            "object_fit": null,
            "object_position": null,
            "order": null,
            "overflow": null,
            "overflow_x": null,
            "overflow_y": null,
            "padding": null,
            "right": null,
            "top": null,
            "visibility": null,
            "width": null
          }
        },
        "81d24ebab93a4bd2bc7e205fb0b6e9aa": {
          "model_module": "@jupyter-widgets/base",
          "model_name": "LayoutModel",
          "model_module_version": "1.2.0",
          "state": {
            "_model_module": "@jupyter-widgets/base",
            "_model_module_version": "1.2.0",
            "_model_name": "LayoutModel",
            "_view_count": null,
            "_view_module": "@jupyter-widgets/base",
            "_view_module_version": "1.2.0",
            "_view_name": "LayoutView",
            "align_content": null,
            "align_items": null,
            "align_self": null,
            "border": null,
            "bottom": null,
            "display": null,
            "flex": null,
            "flex_flow": null,
            "grid_area": null,
            "grid_auto_columns": null,
            "grid_auto_flow": null,
            "grid_auto_rows": null,
            "grid_column": null,
            "grid_gap": null,
            "grid_row": null,
            "grid_template_areas": null,
            "grid_template_columns": null,
            "grid_template_rows": null,
            "height": null,
            "justify_content": null,
            "justify_items": null,
            "left": null,
            "margin": null,
            "max_height": null,
            "max_width": null,
            "min_height": null,
            "min_width": null,
            "object_fit": null,
            "object_position": null,
            "order": null,
            "overflow": null,
            "overflow_x": null,
            "overflow_y": null,
            "padding": null,
            "right": null,
            "top": null,
            "visibility": null,
            "width": null
          }
        },
        "7b786eaf2faf4c3e81da6b1a81e913fc": {
          "model_module": "@jupyter-widgets/controls",
          "model_name": "DescriptionStyleModel",
          "model_module_version": "1.5.0",
          "state": {
            "_model_module": "@jupyter-widgets/controls",
            "_model_module_version": "1.5.0",
            "_model_name": "DescriptionStyleModel",
            "_view_count": null,
            "_view_module": "@jupyter-widgets/base",
            "_view_module_version": "1.2.0",
            "_view_name": "StyleView",
            "description_width": ""
          }
        },
        "75d4357b5dc448f084241c72d3da4751": {
          "model_module": "@jupyter-widgets/base",
          "model_name": "LayoutModel",
          "model_module_version": "1.2.0",
          "state": {
            "_model_module": "@jupyter-widgets/base",
            "_model_module_version": "1.2.0",
            "_model_name": "LayoutModel",
            "_view_count": null,
            "_view_module": "@jupyter-widgets/base",
            "_view_module_version": "1.2.0",
            "_view_name": "LayoutView",
            "align_content": null,
            "align_items": null,
            "align_self": null,
            "border": null,
            "bottom": null,
            "display": null,
            "flex": null,
            "flex_flow": null,
            "grid_area": null,
            "grid_auto_columns": null,
            "grid_auto_flow": null,
            "grid_auto_rows": null,
            "grid_column": null,
            "grid_gap": null,
            "grid_row": null,
            "grid_template_areas": null,
            "grid_template_columns": null,
            "grid_template_rows": null,
            "height": null,
            "justify_content": null,
            "justify_items": null,
            "left": null,
            "margin": null,
            "max_height": null,
            "max_width": null,
            "min_height": null,
            "min_width": null,
            "object_fit": null,
            "object_position": null,
            "order": null,
            "overflow": null,
            "overflow_x": null,
            "overflow_y": null,
            "padding": null,
            "right": null,
            "top": null,
            "visibility": null,
            "width": null
          }
        },
        "c1991cebdc9b4c6d98193951735ffe12": {
          "model_module": "@jupyter-widgets/controls",
          "model_name": "ProgressStyleModel",
          "model_module_version": "1.5.0",
          "state": {
            "_model_module": "@jupyter-widgets/controls",
            "_model_module_version": "1.5.0",
            "_model_name": "ProgressStyleModel",
            "_view_count": null,
            "_view_module": "@jupyter-widgets/base",
            "_view_module_version": "1.2.0",
            "_view_name": "StyleView",
            "bar_color": null,
            "description_width": ""
          }
        },
        "f245105064fd48908407e1679f2371ea": {
          "model_module": "@jupyter-widgets/base",
          "model_name": "LayoutModel",
          "model_module_version": "1.2.0",
          "state": {
            "_model_module": "@jupyter-widgets/base",
            "_model_module_version": "1.2.0",
            "_model_name": "LayoutModel",
            "_view_count": null,
            "_view_module": "@jupyter-widgets/base",
            "_view_module_version": "1.2.0",
            "_view_name": "LayoutView",
            "align_content": null,
            "align_items": null,
            "align_self": null,
            "border": null,
            "bottom": null,
            "display": null,
            "flex": null,
            "flex_flow": null,
            "grid_area": null,
            "grid_auto_columns": null,
            "grid_auto_flow": null,
            "grid_auto_rows": null,
            "grid_column": null,
            "grid_gap": null,
            "grid_row": null,
            "grid_template_areas": null,
            "grid_template_columns": null,
            "grid_template_rows": null,
            "height": null,
            "justify_content": null,
            "justify_items": null,
            "left": null,
            "margin": null,
            "max_height": null,
            "max_width": null,
            "min_height": null,
            "min_width": null,
            "object_fit": null,
            "object_position": null,
            "order": null,
            "overflow": null,
            "overflow_x": null,
            "overflow_y": null,
            "padding": null,
            "right": null,
            "top": null,
            "visibility": null,
            "width": null
          }
        },
        "6b7606e3330f454a88e2d4573e474055": {
          "model_module": "@jupyter-widgets/controls",
          "model_name": "DescriptionStyleModel",
          "model_module_version": "1.5.0",
          "state": {
            "_model_module": "@jupyter-widgets/controls",
            "_model_module_version": "1.5.0",
            "_model_name": "DescriptionStyleModel",
            "_view_count": null,
            "_view_module": "@jupyter-widgets/base",
            "_view_module_version": "1.2.0",
            "_view_name": "StyleView",
            "description_width": ""
          }
        },
        "f988d4e60c8e4b669696c1fc80d6af8e": {
          "model_module": "@jupyter-widgets/controls",
          "model_name": "HBoxModel",
          "model_module_version": "1.5.0",
          "state": {
            "_dom_classes": [],
            "_model_module": "@jupyter-widgets/controls",
            "_model_module_version": "1.5.0",
            "_model_name": "HBoxModel",
            "_view_count": null,
            "_view_module": "@jupyter-widgets/controls",
            "_view_module_version": "1.5.0",
            "_view_name": "HBoxView",
            "box_style": "",
            "children": [
              "IPY_MODEL_de1a9ca5250f49e1a3fb54c8d46bc528",
              "IPY_MODEL_2bdeb11dda4e4eaa822079bc0d41cba3",
              "IPY_MODEL_b9cc6cf7c20d4a6a9863c0eda67baa8f"
            ],
            "layout": "IPY_MODEL_6a80a3ea0cf94ad2b2b788eadfbfd3b9"
          }
        },
        "de1a9ca5250f49e1a3fb54c8d46bc528": {
          "model_module": "@jupyter-widgets/controls",
          "model_name": "HTMLModel",
          "model_module_version": "1.5.0",
          "state": {
            "_dom_classes": [],
            "_model_module": "@jupyter-widgets/controls",
            "_model_module_version": "1.5.0",
            "_model_name": "HTMLModel",
            "_view_count": null,
            "_view_module": "@jupyter-widgets/controls",
            "_view_module_version": "1.5.0",
            "_view_name": "HTMLView",
            "description": "",
            "description_tooltip": null,
            "layout": "IPY_MODEL_9b0c66e7b7044488a71d1167c64286f5",
            "placeholder": "​",
            "style": "IPY_MODEL_b209738b989f40759956ffd4ca5b4b42",
            "value": "Downloading (…)lve/main/config.json: 100%"
          }
        },
        "2bdeb11dda4e4eaa822079bc0d41cba3": {
          "model_module": "@jupyter-widgets/controls",
          "model_name": "FloatProgressModel",
          "model_module_version": "1.5.0",
          "state": {
            "_dom_classes": [],
            "_model_module": "@jupyter-widgets/controls",
            "_model_module_version": "1.5.0",
            "_model_name": "FloatProgressModel",
            "_view_count": null,
            "_view_module": "@jupyter-widgets/controls",
            "_view_module_version": "1.5.0",
            "_view_name": "ProgressView",
            "bar_style": "success",
            "description": "",
            "description_tooltip": null,
            "layout": "IPY_MODEL_9ee41b38884a4f98b855dca1c183752f",
            "max": 570,
            "min": 0,
            "orientation": "horizontal",
            "style": "IPY_MODEL_ef9947ef16d645b2a744472c1a168dba",
            "value": 570
          }
        },
        "b9cc6cf7c20d4a6a9863c0eda67baa8f": {
          "model_module": "@jupyter-widgets/controls",
          "model_name": "HTMLModel",
          "model_module_version": "1.5.0",
          "state": {
            "_dom_classes": [],
            "_model_module": "@jupyter-widgets/controls",
            "_model_module_version": "1.5.0",
            "_model_name": "HTMLModel",
            "_view_count": null,
            "_view_module": "@jupyter-widgets/controls",
            "_view_module_version": "1.5.0",
            "_view_name": "HTMLView",
            "description": "",
            "description_tooltip": null,
            "layout": "IPY_MODEL_88526c6723e84d3da0ff1de5e9c5c67b",
            "placeholder": "​",
            "style": "IPY_MODEL_e121afc4e4894e6681fc57d04253bb25",
            "value": " 570/570 [00:00&lt;00:00, 25.9kB/s]"
          }
        },
        "6a80a3ea0cf94ad2b2b788eadfbfd3b9": {
          "model_module": "@jupyter-widgets/base",
          "model_name": "LayoutModel",
          "model_module_version": "1.2.0",
          "state": {
            "_model_module": "@jupyter-widgets/base",
            "_model_module_version": "1.2.0",
            "_model_name": "LayoutModel",
            "_view_count": null,
            "_view_module": "@jupyter-widgets/base",
            "_view_module_version": "1.2.0",
            "_view_name": "LayoutView",
            "align_content": null,
            "align_items": null,
            "align_self": null,
            "border": null,
            "bottom": null,
            "display": null,
            "flex": null,
            "flex_flow": null,
            "grid_area": null,
            "grid_auto_columns": null,
            "grid_auto_flow": null,
            "grid_auto_rows": null,
            "grid_column": null,
            "grid_gap": null,
            "grid_row": null,
            "grid_template_areas": null,
            "grid_template_columns": null,
            "grid_template_rows": null,
            "height": null,
            "justify_content": null,
            "justify_items": null,
            "left": null,
            "margin": null,
            "max_height": null,
            "max_width": null,
            "min_height": null,
            "min_width": null,
            "object_fit": null,
            "object_position": null,
            "order": null,
            "overflow": null,
            "overflow_x": null,
            "overflow_y": null,
            "padding": null,
            "right": null,
            "top": null,
            "visibility": null,
            "width": null
          }
        },
        "9b0c66e7b7044488a71d1167c64286f5": {
          "model_module": "@jupyter-widgets/base",
          "model_name": "LayoutModel",
          "model_module_version": "1.2.0",
          "state": {
            "_model_module": "@jupyter-widgets/base",
            "_model_module_version": "1.2.0",
            "_model_name": "LayoutModel",
            "_view_count": null,
            "_view_module": "@jupyter-widgets/base",
            "_view_module_version": "1.2.0",
            "_view_name": "LayoutView",
            "align_content": null,
            "align_items": null,
            "align_self": null,
            "border": null,
            "bottom": null,
            "display": null,
            "flex": null,
            "flex_flow": null,
            "grid_area": null,
            "grid_auto_columns": null,
            "grid_auto_flow": null,
            "grid_auto_rows": null,
            "grid_column": null,
            "grid_gap": null,
            "grid_row": null,
            "grid_template_areas": null,
            "grid_template_columns": null,
            "grid_template_rows": null,
            "height": null,
            "justify_content": null,
            "justify_items": null,
            "left": null,
            "margin": null,
            "max_height": null,
            "max_width": null,
            "min_height": null,
            "min_width": null,
            "object_fit": null,
            "object_position": null,
            "order": null,
            "overflow": null,
            "overflow_x": null,
            "overflow_y": null,
            "padding": null,
            "right": null,
            "top": null,
            "visibility": null,
            "width": null
          }
        },
        "b209738b989f40759956ffd4ca5b4b42": {
          "model_module": "@jupyter-widgets/controls",
          "model_name": "DescriptionStyleModel",
          "model_module_version": "1.5.0",
          "state": {
            "_model_module": "@jupyter-widgets/controls",
            "_model_module_version": "1.5.0",
            "_model_name": "DescriptionStyleModel",
            "_view_count": null,
            "_view_module": "@jupyter-widgets/base",
            "_view_module_version": "1.2.0",
            "_view_name": "StyleView",
            "description_width": ""
          }
        },
        "9ee41b38884a4f98b855dca1c183752f": {
          "model_module": "@jupyter-widgets/base",
          "model_name": "LayoutModel",
          "model_module_version": "1.2.0",
          "state": {
            "_model_module": "@jupyter-widgets/base",
            "_model_module_version": "1.2.0",
            "_model_name": "LayoutModel",
            "_view_count": null,
            "_view_module": "@jupyter-widgets/base",
            "_view_module_version": "1.2.0",
            "_view_name": "LayoutView",
            "align_content": null,
            "align_items": null,
            "align_self": null,
            "border": null,
            "bottom": null,
            "display": null,
            "flex": null,
            "flex_flow": null,
            "grid_area": null,
            "grid_auto_columns": null,
            "grid_auto_flow": null,
            "grid_auto_rows": null,
            "grid_column": null,
            "grid_gap": null,
            "grid_row": null,
            "grid_template_areas": null,
            "grid_template_columns": null,
            "grid_template_rows": null,
            "height": null,
            "justify_content": null,
            "justify_items": null,
            "left": null,
            "margin": null,
            "max_height": null,
            "max_width": null,
            "min_height": null,
            "min_width": null,
            "object_fit": null,
            "object_position": null,
            "order": null,
            "overflow": null,
            "overflow_x": null,
            "overflow_y": null,
            "padding": null,
            "right": null,
            "top": null,
            "visibility": null,
            "width": null
          }
        },
        "ef9947ef16d645b2a744472c1a168dba": {
          "model_module": "@jupyter-widgets/controls",
          "model_name": "ProgressStyleModel",
          "model_module_version": "1.5.0",
          "state": {
            "_model_module": "@jupyter-widgets/controls",
            "_model_module_version": "1.5.0",
            "_model_name": "ProgressStyleModel",
            "_view_count": null,
            "_view_module": "@jupyter-widgets/base",
            "_view_module_version": "1.2.0",
            "_view_name": "StyleView",
            "bar_color": null,
            "description_width": ""
          }
        },
        "88526c6723e84d3da0ff1de5e9c5c67b": {
          "model_module": "@jupyter-widgets/base",
          "model_name": "LayoutModel",
          "model_module_version": "1.2.0",
          "state": {
            "_model_module": "@jupyter-widgets/base",
            "_model_module_version": "1.2.0",
            "_model_name": "LayoutModel",
            "_view_count": null,
            "_view_module": "@jupyter-widgets/base",
            "_view_module_version": "1.2.0",
            "_view_name": "LayoutView",
            "align_content": null,
            "align_items": null,
            "align_self": null,
            "border": null,
            "bottom": null,
            "display": null,
            "flex": null,
            "flex_flow": null,
            "grid_area": null,
            "grid_auto_columns": null,
            "grid_auto_flow": null,
            "grid_auto_rows": null,
            "grid_column": null,
            "grid_gap": null,
            "grid_row": null,
            "grid_template_areas": null,
            "grid_template_columns": null,
            "grid_template_rows": null,
            "height": null,
            "justify_content": null,
            "justify_items": null,
            "left": null,
            "margin": null,
            "max_height": null,
            "max_width": null,
            "min_height": null,
            "min_width": null,
            "object_fit": null,
            "object_position": null,
            "order": null,
            "overflow": null,
            "overflow_x": null,
            "overflow_y": null,
            "padding": null,
            "right": null,
            "top": null,
            "visibility": null,
            "width": null
          }
        },
        "e121afc4e4894e6681fc57d04253bb25": {
          "model_module": "@jupyter-widgets/controls",
          "model_name": "DescriptionStyleModel",
          "model_module_version": "1.5.0",
          "state": {
            "_model_module": "@jupyter-widgets/controls",
            "_model_module_version": "1.5.0",
            "_model_name": "DescriptionStyleModel",
            "_view_count": null,
            "_view_module": "@jupyter-widgets/base",
            "_view_module_version": "1.2.0",
            "_view_name": "StyleView",
            "description_width": ""
          }
        }
      }
    }
  },
  "nbformat": 4,
  "nbformat_minor": 0
}