{
  "cells": [
    {
      "cell_type": "code",
      "execution_count": 1,
      "metadata": {
        "id": "qc0QMDk40uHK"
      },
      "outputs": [],
      "source": [
        "import locale\n",
        "def getpreferredencoding(do_setlocale = True):\n",
        "    return \"UTF-8\"\n",
        "locale.getpreferredencoding = getpreferredencoding"
      ]
    },
    {
      "cell_type": "code",
      "execution_count": 2,
      "metadata": {
        "id": "-bc_vxzLzGWU",
        "colab": {
          "base_uri": "https://localhost:8080/"
        },
        "outputId": "2cd4c930-3fc2-4fbe-fe20-45eafb75603a"
      },
      "outputs": [
        {
          "output_type": "stream",
          "name": "stdout",
          "text": [
            "Requirement already satisfied: transformers in /usr/local/lib/python3.10/dist-packages (4.35.2)\n",
            "Requirement already satisfied: filelock in /usr/local/lib/python3.10/dist-packages (from transformers) (3.13.1)\n",
            "Requirement already satisfied: huggingface-hub<1.0,>=0.16.4 in /usr/local/lib/python3.10/dist-packages (from transformers) (0.20.3)\n",
            "Requirement already satisfied: numpy>=1.17 in /usr/local/lib/python3.10/dist-packages (from transformers) (1.23.5)\n",
            "Requirement already satisfied: packaging>=20.0 in /usr/local/lib/python3.10/dist-packages (from transformers) (23.2)\n",
            "Requirement already satisfied: pyyaml>=5.1 in /usr/local/lib/python3.10/dist-packages (from transformers) (6.0.1)\n",
            "Requirement already satisfied: regex!=2019.12.17 in /usr/local/lib/python3.10/dist-packages (from transformers) (2023.6.3)\n",
            "Requirement already satisfied: requests in /usr/local/lib/python3.10/dist-packages (from transformers) (2.31.0)\n",
            "Requirement already satisfied: tokenizers<0.19,>=0.14 in /usr/local/lib/python3.10/dist-packages (from transformers) (0.15.1)\n",
            "Requirement already satisfied: safetensors>=0.3.1 in /usr/local/lib/python3.10/dist-packages (from transformers) (0.4.1)\n",
            "Requirement already satisfied: tqdm>=4.27 in /usr/local/lib/python3.10/dist-packages (from transformers) (4.66.1)\n",
            "Requirement already satisfied: fsspec>=2023.5.0 in /usr/local/lib/python3.10/dist-packages (from huggingface-hub<1.0,>=0.16.4->transformers) (2023.6.0)\n",
            "Requirement already satisfied: typing-extensions>=3.7.4.3 in /usr/local/lib/python3.10/dist-packages (from huggingface-hub<1.0,>=0.16.4->transformers) (4.5.0)\n",
            "Requirement already satisfied: charset-normalizer<4,>=2 in /usr/local/lib/python3.10/dist-packages (from requests->transformers) (3.3.2)\n",
            "Requirement already satisfied: idna<4,>=2.5 in /usr/local/lib/python3.10/dist-packages (from requests->transformers) (3.6)\n",
            "Requirement already satisfied: urllib3<3,>=1.21.1 in /usr/local/lib/python3.10/dist-packages (from requests->transformers) (2.0.7)\n",
            "Requirement already satisfied: certifi>=2017.4.17 in /usr/local/lib/python3.10/dist-packages (from requests->transformers) (2023.11.17)\n",
            "Collecting bertviz\n",
            "  Downloading bertviz-1.4.0-py3-none-any.whl (157 kB)\n",
            "\u001b[2K     \u001b[90m━━━━━━━━━━━━━━━━━━━━━━━━━━━━━━━━━━━━━━━━\u001b[0m \u001b[32m157.6/157.6 kB\u001b[0m \u001b[31m1.7 MB/s\u001b[0m eta \u001b[36m0:00:00\u001b[0m\n",
            "\u001b[?25hRequirement already satisfied: transformers>=2.0 in /usr/local/lib/python3.10/dist-packages (from bertviz) (4.35.2)\n",
            "Requirement already satisfied: torch>=1.0 in /usr/local/lib/python3.10/dist-packages (from bertviz) (2.1.0+cu121)\n",
            "Requirement already satisfied: tqdm in /usr/local/lib/python3.10/dist-packages (from bertviz) (4.66.1)\n",
            "Collecting boto3 (from bertviz)\n",
            "  Downloading boto3-1.34.28-py3-none-any.whl (139 kB)\n",
            "\u001b[2K     \u001b[90m━━━━━━━━━━━━━━━━━━━━━━━━━━━━━━━━━━━━━━━━\u001b[0m \u001b[32m139.3/139.3 kB\u001b[0m \u001b[31m5.9 MB/s\u001b[0m eta \u001b[36m0:00:00\u001b[0m\n",
            "\u001b[?25hRequirement already satisfied: requests in /usr/local/lib/python3.10/dist-packages (from bertviz) (2.31.0)\n",
            "Requirement already satisfied: regex in /usr/local/lib/python3.10/dist-packages (from bertviz) (2023.6.3)\n",
            "Collecting sentencepiece (from bertviz)\n",
            "  Downloading sentencepiece-0.1.99-cp310-cp310-manylinux_2_17_x86_64.manylinux2014_x86_64.whl (1.3 MB)\n",
            "\u001b[2K     \u001b[90m━━━━━━━━━━━━━━━━━━━━━━━━━━━━━━━━━━━━━━━━\u001b[0m \u001b[32m1.3/1.3 MB\u001b[0m \u001b[31m10.8 MB/s\u001b[0m eta \u001b[36m0:00:00\u001b[0m\n",
            "\u001b[?25hRequirement already satisfied: filelock in /usr/local/lib/python3.10/dist-packages (from torch>=1.0->bertviz) (3.13.1)\n",
            "Requirement already satisfied: typing-extensions in /usr/local/lib/python3.10/dist-packages (from torch>=1.0->bertviz) (4.5.0)\n",
            "Requirement already satisfied: sympy in /usr/local/lib/python3.10/dist-packages (from torch>=1.0->bertviz) (1.12)\n",
            "Requirement already satisfied: networkx in /usr/local/lib/python3.10/dist-packages (from torch>=1.0->bertviz) (3.2.1)\n",
            "Requirement already satisfied: jinja2 in /usr/local/lib/python3.10/dist-packages (from torch>=1.0->bertviz) (3.1.3)\n",
            "Requirement already satisfied: fsspec in /usr/local/lib/python3.10/dist-packages (from torch>=1.0->bertviz) (2023.6.0)\n",
            "Requirement already satisfied: triton==2.1.0 in /usr/local/lib/python3.10/dist-packages (from torch>=1.0->bertviz) (2.1.0)\n",
            "Requirement already satisfied: huggingface-hub<1.0,>=0.16.4 in /usr/local/lib/python3.10/dist-packages (from transformers>=2.0->bertviz) (0.20.3)\n",
            "Requirement already satisfied: numpy>=1.17 in /usr/local/lib/python3.10/dist-packages (from transformers>=2.0->bertviz) (1.23.5)\n",
            "Requirement already satisfied: packaging>=20.0 in /usr/local/lib/python3.10/dist-packages (from transformers>=2.0->bertviz) (23.2)\n",
            "Requirement already satisfied: pyyaml>=5.1 in /usr/local/lib/python3.10/dist-packages (from transformers>=2.0->bertviz) (6.0.1)\n",
            "Requirement already satisfied: tokenizers<0.19,>=0.14 in /usr/local/lib/python3.10/dist-packages (from transformers>=2.0->bertviz) (0.15.1)\n",
            "Requirement already satisfied: safetensors>=0.3.1 in /usr/local/lib/python3.10/dist-packages (from transformers>=2.0->bertviz) (0.4.1)\n",
            "Collecting botocore<1.35.0,>=1.34.28 (from boto3->bertviz)\n",
            "  Downloading botocore-1.34.28-py3-none-any.whl (11.9 MB)\n",
            "\u001b[2K     \u001b[90m━━━━━━━━━━━━━━━━━━━━━━━━━━━━━━━━━━━━━━━━\u001b[0m \u001b[32m11.9/11.9 MB\u001b[0m \u001b[31m41.9 MB/s\u001b[0m eta \u001b[36m0:00:00\u001b[0m\n",
            "\u001b[?25hCollecting jmespath<2.0.0,>=0.7.1 (from boto3->bertviz)\n",
            "  Downloading jmespath-1.0.1-py3-none-any.whl (20 kB)\n",
            "Collecting s3transfer<0.11.0,>=0.10.0 (from boto3->bertviz)\n",
            "  Downloading s3transfer-0.10.0-py3-none-any.whl (82 kB)\n",
            "\u001b[2K     \u001b[90m━━━━━━━━━━━━━━━━━━━━━━━━━━━━━━━━━━━━━━━━\u001b[0m \u001b[32m82.1/82.1 kB\u001b[0m \u001b[31m12.7 MB/s\u001b[0m eta \u001b[36m0:00:00\u001b[0m\n",
            "\u001b[?25hRequirement already satisfied: charset-normalizer<4,>=2 in /usr/local/lib/python3.10/dist-packages (from requests->bertviz) (3.3.2)\n",
            "Requirement already satisfied: idna<4,>=2.5 in /usr/local/lib/python3.10/dist-packages (from requests->bertviz) (3.6)\n",
            "Requirement already satisfied: urllib3<3,>=1.21.1 in /usr/local/lib/python3.10/dist-packages (from requests->bertviz) (2.0.7)\n",
            "Requirement already satisfied: certifi>=2017.4.17 in /usr/local/lib/python3.10/dist-packages (from requests->bertviz) (2023.11.17)\n",
            "Requirement already satisfied: python-dateutil<3.0.0,>=2.1 in /usr/local/lib/python3.10/dist-packages (from botocore<1.35.0,>=1.34.28->boto3->bertviz) (2.8.2)\n",
            "Requirement already satisfied: MarkupSafe>=2.0 in /usr/local/lib/python3.10/dist-packages (from jinja2->torch>=1.0->bertviz) (2.1.4)\n",
            "Requirement already satisfied: mpmath>=0.19 in /usr/local/lib/python3.10/dist-packages (from sympy->torch>=1.0->bertviz) (1.3.0)\n",
            "Requirement already satisfied: six>=1.5 in /usr/local/lib/python3.10/dist-packages (from python-dateutil<3.0.0,>=2.1->botocore<1.35.0,>=1.34.28->boto3->bertviz) (1.16.0)\n",
            "Installing collected packages: sentencepiece, jmespath, botocore, s3transfer, boto3, bertviz\n",
            "Successfully installed bertviz-1.4.0 boto3-1.34.28 botocore-1.34.28 jmespath-1.0.1 s3transfer-0.10.0 sentencepiece-0.1.99\n"
          ]
        }
      ],
      "source": [
        "import pandas as pd\n",
        "import torch\n",
        "import numpy as np\n",
        "import random\n",
        "import re\n",
        "import spacy\n",
        "import shutil\n",
        "import matplotlib.pyplot as plt\n",
        "!pip install transformers\n",
        "!pip install bertviz\n",
        "import torch.nn as nn\n",
        "import torch.optim as optim\n",
        "from transformers import AutoTokenizer, BertTokenizer, AutoModel, BertModel\n",
        "from torch.utils.data import Dataset, TensorDataset, DataLoader, random_split, RandomSampler, SequentialSampler\n",
        "import time\n",
        "from scipy.stats import spearmanr\n",
        "import h5py\n",
        "import ast\n",
        "import json"
      ]
    },
    {
      "cell_type": "code",
      "execution_count": 3,
      "metadata": {
        "colab": {
          "base_uri": "https://localhost:8080/"
        },
        "id": "Dy2Cy1hZz_JJ",
        "outputId": "b580d854-d2b2-4e80-b8cc-9a89e367c663"
      },
      "outputs": [
        {
          "output_type": "stream",
          "name": "stdout",
          "text": [
            "Mounted at /content/drive\n"
          ]
        }
      ],
      "source": [
        "from google.colab import drive\n",
        "\n",
        "drive.mount('/content/drive')"
      ]
    },
    {
      "cell_type": "code",
      "execution_count": 4,
      "metadata": {
        "id": "uZ5dtmBFZ5kN",
        "colab": {
          "base_uri": "https://localhost:8080/"
        },
        "outputId": "fe11c491-5ab0-4f01-979a-4199a4100b4c"
      },
      "outputs": [
        {
          "output_type": "stream",
          "name": "stdout",
          "text": [
            "--2024-01-26 03:12:42--  http://ixa2.si.ehu.es/stswiki/images/4/48/Stsbenchmark.tar.gz\n",
            "Resolving ixa2.si.ehu.es (ixa2.si.ehu.es)... 158.227.106.100\n",
            "Connecting to ixa2.si.ehu.es (ixa2.si.ehu.es)|158.227.106.100|:80... connected.\n",
            "HTTP request sent, awaiting response... 302 Found\n",
            "Location: http://ixa2.si.ehu.eus/stswiki/images/4/48/Stsbenchmark.tar.gz [following]\n",
            "--2024-01-26 03:12:42--  http://ixa2.si.ehu.eus/stswiki/images/4/48/Stsbenchmark.tar.gz\n",
            "Resolving ixa2.si.ehu.eus (ixa2.si.ehu.eus)... 158.227.106.100\n",
            "Connecting to ixa2.si.ehu.eus (ixa2.si.ehu.eus)|158.227.106.100|:80... connected.\n",
            "HTTP request sent, awaiting response... 200 OK\n",
            "Length: 409630 (400K) [application/x-gzip]\n",
            "Saving to: ‘Stsbenchmark.tar.gz’\n",
            "\n",
            "Stsbenchmark.tar.gz 100%[===================>] 400.03K   342KB/s    in 1.2s    \n",
            "\n",
            "2024-01-26 03:12:44 (342 KB/s) - ‘Stsbenchmark.tar.gz’ saved [409630/409630]\n",
            "\n"
          ]
        }
      ],
      "source": [
        "!wget -O Stsbenchmark.tar.gz http://ixa2.si.ehu.es/stswiki/images/4/48/Stsbenchmark.tar.gz\n",
        "shutil.unpack_archive('./Stsbenchmark.tar.gz', extract_dir='./', format='gztar')"
      ]
    },
    {
      "cell_type": "code",
      "execution_count": 5,
      "metadata": {
        "id": "jaSIxSSCw5AY"
      },
      "outputs": [],
      "source": [
        "def getSTSBenchmarkSents(filename='sts-train.csv', root='stsbenchmark/', encoding='utf-8'):\n",
        "  f = open(root+filename, 'r', encoding=encoding)\n",
        "  s1, s2, target = [], [], []\n",
        "  for line in f:\n",
        "    example = re.split(r'\\t+', line)\n",
        "    if len(example) > 7:\n",
        "      example = example[:-2]\n",
        "    s2.append(example[-1])\n",
        "    s1.append(example[-2])\n",
        "    target.append(float(example[-3]))\n",
        "  print(\"{} samples: {}\".format(filename, len(target)))\n",
        "  return s1, s2, target"
      ]
    },
    {
      "cell_type": "code",
      "execution_count": 6,
      "metadata": {
        "colab": {
          "base_uri": "https://localhost:8080/"
        },
        "id": "F_j7JTGEzZyz",
        "outputId": "a2099fbd-b0d3-482e-8bba-9d8cfe037664"
      },
      "outputs": [
        {
          "output_type": "stream",
          "name": "stdout",
          "text": [
            "sts-train.csv samples: 5749\n"
          ]
        }
      ],
      "source": [
        "s1_train,s2_train,target_train = getSTSBenchmarkSents(filename='sts-train.csv')"
      ]
    },
    {
      "cell_type": "code",
      "execution_count": 7,
      "metadata": {
        "colab": {
          "base_uri": "https://localhost:8080/"
        },
        "id": "u_wBVbk6zwRF",
        "outputId": "b0de1896-136d-4ae2-f732-042917cfcea9"
      },
      "outputs": [
        {
          "output_type": "stream",
          "name": "stdout",
          "text": [
            "sts-test.csv samples: 1379\n"
          ]
        }
      ],
      "source": [
        "s1_test,s2_test,target_test= getSTSBenchmarkSents(filename='sts-test.csv')"
      ]
    },
    {
      "cell_type": "code",
      "execution_count": 8,
      "metadata": {
        "colab": {
          "base_uri": "https://localhost:8080/"
        },
        "id": "HCAYUG03z14L",
        "outputId": "a1197945-b4c1-461a-c74c-9a97fa5a427d"
      },
      "outputs": [
        {
          "output_type": "stream",
          "name": "stdout",
          "text": [
            "sts-dev.csv samples: 1500\n"
          ]
        }
      ],
      "source": [
        "s1_dev,s2_dev,target_dev= getSTSBenchmarkSents(filename='sts-dev.csv')"
      ]
    },
    {
      "cell_type": "code",
      "execution_count": 9,
      "metadata": {
        "colab": {
          "base_uri": "https://localhost:8080/"
        },
        "id": "X8TBNqYyCj-u",
        "outputId": "ca656a86-e97e-4f77-e82a-20ca48d4cbbc"
      },
      "outputs": [
        {
          "output_type": "stream",
          "name": "stdout",
          "text": [
            "Device: cuda\n"
          ]
        }
      ],
      "source": [
        "device = 'cuda' if torch.cuda.is_available() else 'cpu'\n",
        "print(f'Device: {device}')"
      ]
    },
    {
      "cell_type": "code",
      "execution_count": 10,
      "metadata": {
        "id": "HQf5A_IsCu9I"
      },
      "outputs": [],
      "source": [
        "BATCH_SIZE = 32\n",
        "MAX_LEN = 128\n",
        "CORPUS = 'STS-B'\n",
        "BERT_PATH = \"bert-base-uncased\"\n",
        "root_drive = '/content/drive/MyDrive/Tesis/STS_Benchmark/transformer_tunned_BERT/uncase_base/'\n",
        "MODEL_FILE_NAME = CORPUS+'_'+BERT_PATH+'_'+str(MAX_LEN)+'_tunned_model.pt'"
      ]
    },
    {
      "cell_type": "code",
      "execution_count": 11,
      "metadata": {
        "id": "z600WMjxHnOJ",
        "colab": {
          "base_uri": "https://localhost:8080/",
          "height": 269,
          "referenced_widgets": [
            "9b9a1032148f43a7a333d920a5796427",
            "fc7e67e8dd3b4d73bbf87f93fff25238",
            "7784f4a34cde4dfc9666284e8e0aa8a9",
            "73ba33f522494b87b66290926181ead5",
            "d69638e1cb9a4274bf06f871af1b2ac8",
            "c89ae22086094da19573f0812867b638",
            "654777de7a894033be98699c1fb6849b",
            "e3a4820722874c0bb7633682333113bc",
            "ed8a275b68eb446782b5fce31f424699",
            "2054450a35074b64a4a4b4adfda41bfb",
            "913ac283518343c6873a029dc5fa4560",
            "acf5980dc11443ffa4ed224c8182658a",
            "d3c95aaa6062402285e91e186ad1e422",
            "0251235f227b4dc99f7f52ee8be29253",
            "d1a6b1ec33024a4cbc6c66436051324a",
            "eae9a4f4a7eb480e8af223f490fb676a",
            "19553db0b4c94894a1b09fffd475393a",
            "8019db6375274f8c8a8a615f0f02c4c3",
            "c3f4a460c37048f99c709e4d1b798aba",
            "0800b653e797476b9b2a51b728fee7f6",
            "b82d80cde0ce4a45ac676a60c2fa99a3",
            "27f4f515158644ea80a1ce9800e576ad",
            "0edb182e8e8245759df68e9953d254cf",
            "eaed358f010645f9bce7229ac3269b19",
            "1853f66dcfa843c7b062d1c7166982e2",
            "46f878a34c254169a0d0dba55d2c1c3b",
            "bd0d18dff93749358f5d0ea70b45a0bd",
            "a450c95073024add9bbc4cf60718ddef",
            "a74bd7df2ae34c91ad77607ceafc7337",
            "b0888c0f822f4e8f872333a6d80bffae",
            "959106b1dbf74528b2c8a8e8ef1f3753",
            "26df9ca95c3d41219a5ea788b08b74a4",
            "b2fa306d5f404824acbb1f53faac4521",
            "3a9a2898b61540ca8e4d54fb1c58a693",
            "649beff4ac9e4365822829492dec7368",
            "9be6e82159874c8b968134b8a9fef95c",
            "80667657435046f3a66d2bf43d5666db",
            "5edaaddeead3453da72830879f3d37cb",
            "01c0b20973f442f5a0078ffc554ff8ff",
            "4b2da41d40fa4034a13641fdd79ca932",
            "27b08e23904a43979f0d9135fffb8ecf",
            "81f49c1697114c98b781c112babf2caa",
            "f49cf68120ea4b96b10cfe751a7ed032",
            "816a2271bc2040acbef87c985f2c68e4"
          ]
        },
        "outputId": "8e530ac0-66ff-417b-8a43-f1a4b2650664"
      },
      "outputs": [
        {
          "output_type": "stream",
          "name": "stderr",
          "text": [
            "/usr/local/lib/python3.10/dist-packages/huggingface_hub/utils/_token.py:88: UserWarning: \n",
            "The secret `HF_TOKEN` does not exist in your Colab secrets.\n",
            "To authenticate with the Hugging Face Hub, create a token in your settings tab (https://huggingface.co/settings/tokens), set it as secret in your Google Colab and restart your session.\n",
            "You will be able to reuse this secret in all of your notebooks.\n",
            "Please note that authentication is recommended but still optional to access public models or datasets.\n",
            "  warnings.warn(\n"
          ]
        },
        {
          "output_type": "display_data",
          "data": {
            "text/plain": [
              "tokenizer_config.json:   0%|          | 0.00/28.0 [00:00<?, ?B/s]"
            ],
            "application/vnd.jupyter.widget-view+json": {
              "version_major": 2,
              "version_minor": 0,
              "model_id": "9b9a1032148f43a7a333d920a5796427"
            }
          },
          "metadata": {}
        },
        {
          "output_type": "display_data",
          "data": {
            "text/plain": [
              "vocab.txt:   0%|          | 0.00/232k [00:00<?, ?B/s]"
            ],
            "application/vnd.jupyter.widget-view+json": {
              "version_major": 2,
              "version_minor": 0,
              "model_id": "acf5980dc11443ffa4ed224c8182658a"
            }
          },
          "metadata": {}
        },
        {
          "output_type": "display_data",
          "data": {
            "text/plain": [
              "tokenizer.json:   0%|          | 0.00/466k [00:00<?, ?B/s]"
            ],
            "application/vnd.jupyter.widget-view+json": {
              "version_major": 2,
              "version_minor": 0,
              "model_id": "0edb182e8e8245759df68e9953d254cf"
            }
          },
          "metadata": {}
        },
        {
          "output_type": "display_data",
          "data": {
            "text/plain": [
              "config.json:   0%|          | 0.00/570 [00:00<?, ?B/s]"
            ],
            "application/vnd.jupyter.widget-view+json": {
              "version_major": 2,
              "version_minor": 0,
              "model_id": "3a9a2898b61540ca8e4d54fb1c58a693"
            }
          },
          "metadata": {}
        }
      ],
      "source": [
        "TOKENIZER = BertTokenizer.from_pretrained(BERT_PATH, do_lower_case=True)"
      ]
    },
    {
      "cell_type": "code",
      "execution_count": 12,
      "metadata": {
        "id": "pVdOQNbvVnln"
      },
      "outputs": [],
      "source": [
        "def encode_sents(sents1, sents2):\n",
        "    input_ids_ = []\n",
        "    attention_masks_ = []\n",
        "    type_ids_ = []\n",
        "    for i, sent1 in enumerate(sents1):\n",
        "        encoded_dict = TOKENIZER.encode_plus(\n",
        "                            sent1,                      # Sentence 1 to encode.\n",
        "                            sents2[i],                  # Sentence 2 to encode.\n",
        "                            add_special_tokens = True,  # Add '[CLS]' and '[SEP]'\n",
        "                            truncation = True,\n",
        "                            max_length = MAX_LEN,       # Pad & truncate all sentences.\n",
        "                            pad_to_max_length = True,\n",
        "                            return_attention_mask = True,   # Construct attn. masks.\n",
        "                            return_tensors = 'pt',     # Return pytorch tensors.\n",
        "                      )\n",
        "\n",
        "        # Add the encoded sentence to the list.\n",
        "        input_ids_.append(encoded_dict['input_ids'])\n",
        "\n",
        "        # And its attention mask (simply differentiates padding from non-padding).\n",
        "        attention_masks_.append(encoded_dict['attention_mask'])\n",
        "\n",
        "        type_ids_.append(encoded_dict['token_type_ids'])\n",
        "    return input_ids_, attention_masks_, type_ids_"
      ]
    },
    {
      "cell_type": "code",
      "execution_count": 13,
      "metadata": {
        "id": "906LtLLC9Y_Z"
      },
      "outputs": [],
      "source": [
        "def getEncodedTensors(s1, s2, labels):\n",
        "    input_ids, attention_masks, type_ids = encode_sents(s1, s2)\n",
        "    input_ids = torch.cat(input_ids, dim=0)\n",
        "    attention_masks = torch.cat(attention_masks, dim=0)\n",
        "    type_ids = torch.cat(type_ids, dim=0)\n",
        "    labels = torch.tensor(labels)\n",
        "    return input_ids, attention_masks, type_ids, labels"
      ]
    },
    {
      "cell_type": "code",
      "execution_count": 14,
      "metadata": {
        "colab": {
          "base_uri": "https://localhost:8080/"
        },
        "id": "t6ru4f5S9-qd",
        "outputId": "90d4acab-2f95-438a-97e3-9825f267debe"
      },
      "outputs": [
        {
          "output_type": "stream",
          "name": "stderr",
          "text": [
            "/usr/local/lib/python3.10/dist-packages/transformers/tokenization_utils_base.py:2614: FutureWarning: The `pad_to_max_length` argument is deprecated and will be removed in a future version, use `padding=True` or `padding='longest'` to pad to the longest sequence in the batch, or use `padding='max_length'` to pad to a max length. In this case, you can give a specific length with `max_length` (e.g. `max_length=45`) or leave max_length to None to pad to the maximal input size of the model (e.g. 512 for Bert).\n",
            "  warnings.warn(\n"
          ]
        }
      ],
      "source": [
        "input_ids_train,attention_masks_train,type_ids_train,labels_train = getEncodedTensors(s1_train,s2_train,target_train)"
      ]
    },
    {
      "cell_type": "code",
      "execution_count": 15,
      "metadata": {
        "id": "-bL1MWnB_-9d"
      },
      "outputs": [],
      "source": [
        "input_ids_eval, attention_masks_eval, type_ids_eval, labels_eval = getEncodedTensors(s1_dev, s2_dev, target_dev)"
      ]
    },
    {
      "cell_type": "code",
      "execution_count": 16,
      "metadata": {
        "id": "adsDoOZNdgVR"
      },
      "outputs": [],
      "source": [
        "# Combine the training inputs into a TensorDataset.\n",
        "train_dataset = TensorDataset(input_ids_train, attention_masks_train, type_ids_train, labels_train)\n",
        "val_dataset = TensorDataset(input_ids_eval, attention_masks_eval, type_ids_eval, labels_eval)"
      ]
    },
    {
      "cell_type": "code",
      "execution_count": 17,
      "metadata": {
        "id": "4L0SrB_JlaCY"
      },
      "outputs": [],
      "source": [
        "# Create the DataLoaders for our training and test sets.\n",
        "# We'll take training samples in random order.\n",
        "torch.manual_seed(42)\n",
        "train_loader = DataLoader(\n",
        "            train_dataset,  # The training samples.\n",
        "            sampler = RandomSampler(train_dataset), # Select batches randomly\n",
        "            batch_size = BATCH_SIZE # Trains with this batch size.\n",
        "            #num_workers=2\n",
        "        )\n",
        "torch.manual_seed(42)\n",
        "val_loader = DataLoader(\n",
        "            val_dataset, # The validation samples.\n",
        "            sampler = SequentialSampler(val_dataset), # Pull out batches sequentially.\n",
        "            batch_size = BATCH_SIZE # Evaluate with this batch size.\n",
        "            #num_workers=2\n",
        "        )"
      ]
    },
    {
      "cell_type": "code",
      "execution_count": 18,
      "metadata": {
        "colab": {
          "base_uri": "https://localhost:8080/"
        },
        "id": "nMWrY0KxnEMi",
        "outputId": "f7127581-aa8e-42ad-9c35-9d4632a8a7a8"
      },
      "outputs": [
        {
          "output_type": "stream",
          "name": "stdout",
          "text": [
            "Number of train batches: 180\n",
            "Number of evaluation batches: 47\n"
          ]
        }
      ],
      "source": [
        "# See first batch\n",
        "#batch = next(iter(train_loader))\n",
        "#print(batch[0]) # 0 -> input_ids , 1 -> attention_masks, 2 -> type_ids, 3 -> targets\n",
        "#print(train_loader.batch_size) #tamaño del batch\n",
        "print('Number of train batches: {}'.format(len(train_loader)))# número de batches\n",
        "print('Number of evaluation batches: {}'.format(len(val_loader)))"
      ]
    },
    {
      "cell_type": "code",
      "execution_count": 21,
      "metadata": {
        "id": "KkXY8l6PqLwi"
      },
      "outputs": [],
      "source": [
        "class BertBaseUncasedRegressor(nn.Module):\n",
        "  def __init__(self, num_classes = 1, dropout=0.1, has_attentions=True, has_hidden_states = True, n_layers = 0):\n",
        "      super().__init__()\n",
        "      self.bert = BertModel.from_pretrained(BERT_PATH, output_attentions=has_attentions, output_hidden_states = has_hidden_states) #load the model\n",
        "      # Return:\n",
        "      # last_hidden_state.shape -> [batch_size, num_tokens_in_sequence,hidden_size] (bert_base hidden_size = 768)\n",
        "      # pooler_output.shape -> [batch_size, hidden_size] se utiliza una capa de pooling simple que aplica una transformación\n",
        "      # lineal seguida de una función de activación tangente hiperbólica (tanh) a la última representación oculta (last_hidden_state) del token [CLS].\n",
        "      layers = []\n",
        "      for _ in range(n_layers):\n",
        "          layers.append(nn.Linear(self.bert.config.hidden_size, self.bert.config.hidden_size)) #self.bert.config.hidden_size -> nos da el tamaño oculto\n",
        "          layers.append(nn.Dropout(dropout))\n",
        "      layers.append(nn.Linear(self.bert.config.hidden_size, num_classes)) #self.bert.config.hidden_size -> nos da el tamaño oculto\n",
        "\n",
        "      self.regressor = nn.Sequential(*layers)\n",
        "\n",
        "\n",
        "  def forward(self, input_ids, type_ids, mask, layer_index_HS=12):\n",
        "      bert_output =self.bert(input_ids=input_ids, token_type_ids = type_ids, attention_mask= mask)\n",
        "\n",
        "      #output = bert_output.pooler_output\n",
        "      if type(layer_index_HS) == str:\n",
        "        output = bert_output.last_hidden_state[:, 0, :] # CLS token\n",
        "      else:\n",
        "        output = bert_output.hidden_states[layer_index_HS][:, 0, :]\n",
        "      logits = self.regressor(output)\n",
        "      #logits = self.regressor(output_drop)\n",
        "      return logits, bert_output"
      ]
    },
    {
      "cell_type": "code",
      "execution_count": 20,
      "metadata": {
        "id": "gm5OXHZoGZ6V",
        "colab": {
          "base_uri": "https://localhost:8080/",
          "height": 49,
          "referenced_widgets": [
            "8f3854a5e0ed4da192eddded721235f0",
            "2019343ffdac4644b786668450657b1f",
            "d0676ad54e0f4683817c346734e53620",
            "9a607a70363e4dd586c6719b80563bd3",
            "6edf2095407f41b7abd57f2aa999d0ca",
            "8b8691100b7e47d6a7f5c025dae4343d",
            "2ee38fe9c95c4b5e9d5e06b37cf5573b",
            "2648f54c02d749988c7e5ef9bcca87e8",
            "71278c2d5cf54b9cb45ebc6d106c8e90",
            "dc94251a766a4b00954af98112cb5d09",
            "7c866623c3da493d82ca9eee4db23048"
          ]
        },
        "outputId": "d21513f9-0bd5-4066-d226-3b3945c309c1"
      },
      "outputs": [
        {
          "output_type": "display_data",
          "data": {
            "text/plain": [
              "model.safetensors:   0%|          | 0.00/440M [00:00<?, ?B/s]"
            ],
            "application/vnd.jupyter.widget-view+json": {
              "version_major": 2,
              "version_minor": 0,
              "model_id": "8f3854a5e0ed4da192eddded721235f0"
            }
          },
          "metadata": {}
        }
      ],
      "source": [
        "model = BertBaseUncasedRegressor(n_layers = 2, dropout=0.132).to(device)\n",
        "#model = BertBaseUncasedRegressor(n_layers = 2, dropout=0.0152).to(device)"
      ]
    },
    {
      "cell_type": "code",
      "execution_count": 37,
      "metadata": {
        "id": "vx7UQjL5GJLu"
      },
      "outputs": [],
      "source": [
        "criterion = nn.MSELoss()\n",
        "LEARNING_RATE = 2.45e-05 #3.36e-5\n",
        "optimizer = optim.RMSprop(model.parameters(), lr=LEARNING_RATE)"
      ]
    },
    {
      "cell_type": "code",
      "execution_count": 38,
      "metadata": {
        "id": "n3ur6ZV3_Gb6"
      },
      "outputs": [],
      "source": [
        "def pearson_corr(y_pred, y_true):\n",
        "    all_preds = np.concatenate(y_pred)\n",
        "    all_targets = np.concatenate(y_true)\n",
        "    return np.corrcoef(all_preds, all_targets)[0, 1]"
      ]
    },
    {
      "cell_type": "code",
      "execution_count": 39,
      "metadata": {
        "id": "P6-Jax0r_Mhf"
      },
      "outputs": [],
      "source": [
        "def spearman_corr(y_pred, y_true):\n",
        "    all_preds = np.concatenate(y_pred)\n",
        "    all_targets = np.concatenate(y_true)\n",
        "\n",
        "    corr, _ = spearmanr(all_preds, all_targets)\n",
        "    return corr"
      ]
    },
    {
      "cell_type": "code",
      "execution_count": 40,
      "metadata": {
        "id": "fdInbGmYrUfw"
      },
      "outputs": [],
      "source": [
        "def train_loop(model,loader,optimizer,criterion,device,layer_idx ='last_hidden_state',clip = 1.0):\n",
        "    #Training loop\n",
        "    model.train()\n",
        "    loss_sum = 0\n",
        "    all_preds = []\n",
        "    all_targets = []\n",
        "    seed = 42\n",
        "    np.random.seed(seed)\n",
        "    random.seed(seed)\n",
        "    torch.manual_seed(seed)\n",
        "    torch.cuda.manual_seed_all(seed)\n",
        "\n",
        "    for i, batch in enumerate(loader):\n",
        "\n",
        "        b_input_ids = batch[0].to(device)\n",
        "        b_attention_mask = batch[1].to(device)\n",
        "        b_type_ids = batch[2].to(device)\n",
        "        labels = batch[3].to(device)\n",
        "\n",
        "        optimizer.zero_grad()\n",
        "        #Forward\n",
        "        outputs, _ = model(input_ids=b_input_ids, type_ids = b_type_ids, mask = b_attention_mask, layer_index_HS=layer_idx)\n",
        "        outputs = outputs.squeeze(-1)\n",
        "        #Loss\n",
        "        loss = criterion(outputs.view(-1), labels.float())\n",
        "        #Backprop\n",
        "        loss.backward()\n",
        "        #prevent gradients from exploding\n",
        "        torch.nn.utils.clip_grad_norm_(model.parameters(), clip)\n",
        "        #Update params\n",
        "        optimizer.step()\n",
        "\n",
        "        loss_sum += loss.item()\n",
        "\n",
        "        all_preds.append(outputs.detach().cpu().numpy())\n",
        "        all_targets.append(labels.float().detach().cpu().numpy())\n",
        "\n",
        "    epoch_train_loss = loss_sum / len(loader)\n",
        "    epoch_train_pearson = pearson_corr(all_preds, all_targets)\n",
        "    epoch_train_spearman = spearman_corr(all_preds, all_targets)\n",
        "\n",
        "    return epoch_train_loss, epoch_train_pearson, epoch_train_spearman\n"
      ]
    },
    {
      "cell_type": "code",
      "execution_count": 41,
      "metadata": {
        "id": "CxO7AgRRtnnk"
      },
      "outputs": [],
      "source": [
        "def evaluation_loop(model,loader,criterion,device,layer_idx ='last_hidden_state'):\n",
        "    #Evaluation loop\n",
        "    seed = 42\n",
        "    np.random.seed(seed)\n",
        "    random.seed(seed)\n",
        "    torch.manual_seed(seed)\n",
        "    torch.cuda.manual_seed_all(seed)\n",
        "    model.eval()\n",
        "    with torch.no_grad():\n",
        "        loss_sum = 0\n",
        "        all_preds = []\n",
        "        all_targets = []\n",
        "\n",
        "        for i, batch in enumerate(loader):\n",
        "            b_input_ids = batch[0].to(device)\n",
        "            b_attention_mask = batch[1].to(device)\n",
        "            b_type_ids = batch[2].to(device)\n",
        "            labels = batch[3].to(device)\n",
        "\n",
        "            #Forward\n",
        "            outputs, _ = model(input_ids=b_input_ids, type_ids = b_type_ids, mask = b_attention_mask, layer_index_HS=layer_idx)\n",
        "            outputs = outputs.squeeze(-1)\n",
        "            #Loss\n",
        "            loss = criterion(outputs.view(-1), labels.float())\n",
        "\n",
        "            loss_sum += loss.item()\n",
        "\n",
        "            all_preds.append(outputs.detach().cpu().numpy())\n",
        "            all_targets.append(labels.float().detach().cpu().numpy())\n",
        "\n",
        "        epoch_dev_loss = loss_sum / len(loader)\n",
        "        epoch_dev_pearson = pearson_corr(all_preds, all_targets)\n",
        "        epoch_dev_spearman = spearman_corr(all_preds, all_targets)\n",
        "\n",
        "    return epoch_dev_loss, epoch_dev_pearson, epoch_dev_spearman"
      ]
    },
    {
      "cell_type": "code",
      "execution_count": 42,
      "metadata": {
        "colab": {
          "base_uri": "https://localhost:8080/"
        },
        "id": "cZV4ok1BImGs",
        "outputId": "58921901-f405-4f52-881e-43a2ff551387"
      },
      "outputs": [
        {
          "output_type": "stream",
          "name": "stdout",
          "text": [
            "--------------------------------------------------------------------------------\n",
            "Epoch: 001/5 | Time: 114.9766s | Train loss: 0.1666 | Dev loss: 0.4563\n",
            "Train Pearson Coef: 0.9611 | Dev Pearson Coef: 0.8972\n",
            "Train Spearman Coef: 0.9564 | Dev Spearman Coef: 0.8932\n",
            "--------------------------------------------------------------------------------\n",
            "Epoch: 002/5 | Time: 116.2401s | Train loss: 0.1202 | Dev loss: 0.4372\n",
            "Train Pearson Coef: 0.9718 | Dev Pearson Coef: 0.8980\n",
            "Train Spearman Coef: 0.9668 | Dev Spearman Coef: 0.8943\n",
            "--------------------------------------------------------------------------------\n",
            "Epoch: 003/5 | Time: 116.9783s | Train loss: 0.0609 | Dev loss: 0.5891\n",
            "Train Pearson Coef: 0.9858 | Dev Pearson Coef: 0.8973\n",
            "Train Spearman Coef: 0.9830 | Dev Spearman Coef: 0.8927\n",
            "--------------------------------------------------------------------------------\n",
            "Epoch: 004/5 | Time: 116.8036s | Train loss: 0.0612 | Dev loss: 0.4512\n",
            "Train Pearson Coef: 0.9857 | Dev Pearson Coef: 0.8978\n",
            "Train Spearman Coef: 0.9827 | Dev Spearman Coef: 0.8942\n",
            "--------------------------------------------------------------------------------\n",
            "Epoch: 005/5 | Time: 116.8332s | Train loss: 0.0432 | Dev loss: 0.4421\n",
            "Train Pearson Coef: 0.9899 | Dev Pearson Coef: 0.8977\n",
            "Train Spearman Coef: 0.9877 | Dev Spearman Coef: 0.8942\n"
          ]
        }
      ],
      "source": [
        "NUM_EPOCHS = 5\n",
        "root_drive = '/content/drive/MyDrive/Tesis/STS_Benchmark/transformer_tunned_BERT/uncase_base/'\n",
        "best_valid_loss = float('inf')\n",
        "MODEL_FILE_NAME = CORPUS+'_'+BERT_PATH+'_'+str(MAX_LEN)+'_tunned_model.pt'\n",
        "history = {\"train\": {\"loss\": [],\"pearson\": [],'spearman':[]}, \"val\": {\"loss\": [],\"pearson\": [],'spearman':[]}}\n",
        "layer_HS_idx = 12 # from 1 to 12 in the base model\n",
        "torch.cuda.empty_cache()\n",
        "\n",
        "seed = 42\n",
        "torch.backends.cudnn.deterministic = True\n",
        "torch.backends.cudnn.benchmark = False\n",
        "torch.manual_seed(seed)\n",
        "torch.cuda.manual_seed_all(seed)\n",
        "np.random.seed(seed)\n",
        "random.seed(seed)\n",
        "torch.cuda.set_device(0)\n",
        "\n",
        "for epoch in range(NUM_EPOCHS):\n",
        "\n",
        "    start_time = time.time()\n",
        "\n",
        "    epoch_train_loss, epoch_train_pearson, epoch_train_spearman = train_loop(model,train_loader,optimizer,criterion,device,layer_HS_idx)\n",
        "    epoch_dev_loss, epoch_dev_pearson, epoch_dev_spearman = evaluation_loop(model,val_loader,criterion,device,layer_HS_idx)\n",
        "\n",
        "    elapsed_time = time.time() - start_time\n",
        "\n",
        "    #nos quedamos con el modelo que tiene mejor pérdida de validación\n",
        "    if epoch_dev_loss < best_valid_loss:\n",
        "      best_valid_loss = epoch_dev_loss\n",
        "      torch.save(model.state_dict(), root_drive + MODEL_FILE_NAME)\n",
        "\n",
        "\n",
        "    history[\"train\"][\"loss\"].append(round(epoch_train_loss,4))\n",
        "    history[\"val\"][\"loss\"].append(round(epoch_dev_loss,4))\n",
        "    history[\"train\"][\"pearson\"].append(round(epoch_train_pearson,4))\n",
        "    history[\"val\"][\"pearson\"].append(round(epoch_dev_pearson,4))\n",
        "    history[\"train\"][\"spearman\"].append(round(epoch_train_spearman,4))\n",
        "    history[\"val\"][\"spearman\"].append(round(epoch_dev_spearman,4))\n",
        "\n",
        "    print('-' * 80)\n",
        "    print(f'Epoch: {epoch+1:03}/{NUM_EPOCHS} | Time: {elapsed_time:.4f}s | Train loss: {epoch_train_loss:.4f} | Dev loss: {epoch_dev_loss:.4f}')\n",
        "    print(f'Train Pearson Coef: {epoch_train_pearson:.4f} | Dev Pearson Coef: {epoch_dev_pearson:.4f}')\n",
        "    print(f'Train Spearman Coef: {epoch_train_spearman:.4f} | Dev Spearman Coef: {epoch_dev_spearman:.4f}')"
      ]
    },
    {
      "cell_type": "markdown",
      "metadata": {
        "id": "9f9fTylvyepB"
      },
      "source": [
        "TEST"
      ]
    },
    {
      "cell_type": "code",
      "execution_count": 43,
      "metadata": {
        "id": "T-6FZZEiyepD",
        "colab": {
          "base_uri": "https://localhost:8080/"
        },
        "outputId": "9bc15bf0-fffe-40da-a713-31245733bb8e"
      },
      "outputs": [
        {
          "output_type": "stream",
          "name": "stdout",
          "text": [
            "Test Loss: 0.602\n",
            "Test Pearson: 0.859\n",
            "Test Spearman: 0.849\n"
          ]
        }
      ],
      "source": [
        "model.load_state_dict(torch.load(root_drive + MODEL_FILE_NAME, map_location=torch.device(device)))\n",
        "layer_HS_idx = 12\n",
        "input_ids_test, attention_masks_test, type_ids_test, labels_test = getEncodedTensors(s1_test, s2_test, target_test)\n",
        "test_dataset = TensorDataset(input_ids_test, attention_masks_test, type_ids_test, labels_test)\n",
        "\n",
        "torch.manual_seed(42)\n",
        "test_iterator = DataLoader(\n",
        "                test_dataset, # The validation samples.\n",
        "                sampler = SequentialSampler(test_dataset), # Pull out batches sequentially.\n",
        "                batch_size = BATCH_SIZE # Evaluate with this batch size.\n",
        "                #num_workers=2\n",
        "                )\n",
        "\n",
        "test_loss, test_pearson, test_spearman = evaluation_loop(model,test_iterator,criterion,device,layer_HS_idx)\n",
        "print(f'Test Loss: {test_loss:.3f}')\n",
        "print(f'Test Pearson: {test_pearson:.3f}')\n",
        "print(f'Test Spearman: {test_spearman:.3f}')"
      ]
    },
    {
      "cell_type": "code",
      "execution_count": 44,
      "metadata": {
        "id": "yj-d6AF_K-0P"
      },
      "outputs": [],
      "source": [
        "test = list(zip(s1_test,s2_test,target_test))"
      ]
    },
    {
      "cell_type": "code",
      "execution_count": 45,
      "metadata": {
        "id": "jjA4BgefCFxb"
      },
      "outputs": [],
      "source": [
        "def similarity_test(test_dataset, num_example, model, device, layer_idx):\n",
        "\n",
        "    sents1, sents2, targets = zip(*test_dataset)\n",
        "    print(\"Sent 1: \", sents1[num_example])\n",
        "    print(\"Sent 2: \", sents2[num_example])\n",
        "    encode_inputs, encode_att_mask, encode_type = encode_sents([sents1[num_example]], [sents2[num_example]])\n",
        "\n",
        "    input_ids_test = torch.cat(encode_inputs, dim=0)\n",
        "    attention_masks_test = torch.cat(encode_att_mask, dim=0)\n",
        "    type_ids_test = torch.cat(encode_type, dim=0)\n",
        "    labels_test = torch.tensor(targets[num_example])\n",
        "\n",
        "    #ejecución de encoder con oración origen y máscara origen\n",
        "    with torch.no_grad():\n",
        "        output, bert = model(input_ids=input_ids_test.to(device),type_ids=type_ids_test.to(device),mask=attention_masks_test.to(device),layer_index_HS=layer_idx)\n",
        "        output =output.squeeze(1)\n",
        "\n",
        "    print(\"Predicted Class: \", round(output.item(),3))\n",
        "    print(\"Target Class: \", round(labels_test.item(),3))\n",
        "    return sents1[num_example], sents2[num_example], bert, input_ids_test\n"
      ]
    },
    {
      "cell_type": "code",
      "execution_count": 46,
      "metadata": {
        "id": "NZwwEqZcgWBK"
      },
      "outputs": [],
      "source": [
        "def trim_attention(att, input_ids):\n",
        "    # Get the length of the input sequence without padding\n",
        "    input_len = np.count_nonzero(input_ids != 0)\n",
        "\n",
        "    # Trim the attention to remove padding\n",
        "    att_trimmed = att[:input_len, :input_len]\n",
        "\n",
        "    # Normalize the attention so that rows sum to 1\n",
        "    att_trimmed = att_trimmed / att_trimmed.sum(axis=-1, keepdims=True)\n",
        "\n",
        "    return att_trimmed, input_len"
      ]
    },
    {
      "cell_type": "code",
      "execution_count": 47,
      "metadata": {
        "id": "NJHBHDZfcvBE"
      },
      "outputs": [],
      "source": [
        "def view_attention(bert, input_ids, attention_layer):\n",
        "    \"\"\"\n",
        "    When a word is not in the vocabulary, the BERT tokenizer breaks it down into\n",
        "    smaller subwords and adds the \"#\" prefix to each subword to indicate that it is part of the\n",
        "    same original word. For example, the word \"running\" could be divided into \"run\" and \"##ning\".\n",
        "    \"\"\"\n",
        "    # Get attention weights (batch_size, num_heads, sequence_length, sequence_length)\n",
        "    batch_idx = 0  # always 0 for testing a sequence\n",
        "    num_head = 0\n",
        "    fig, axs = plt.subplots(3, 4, figsize=(12, 9))\n",
        "    for i, ax in enumerate(axs.flat):\n",
        "        attention = bert.attentions[attention_layer][batch_idx][i].cpu().detach().numpy()\n",
        "        # Trim the attention matrix\n",
        "        att_trimmed, sent_dim = trim_attention(attention, input_ids)\n",
        "        sent = TOKENIZER.convert_ids_to_tokens(input_ids.squeeze().tolist())[:sent_dim]\n",
        "        # Visualize the trimmed attention matrix\n",
        "        ax.matshow(att_trimmed, cmap='viridis')\n",
        "        ax.set_title('Head ' + str(i + 1))\n",
        "        # axs[0].matshow(att_trimmed, cmap='hot')\n",
        "        ax.set_xticks(np.arange(len(sent)), sent, rotation=90)\n",
        "        ax.set_yticks(np.arange(len(sent)), sent)\n",
        "        # plt.title('BERT model attention for two sentences')\n",
        "    plt.tight_layout()\n",
        "    plt.show()"
      ]
    },
    {
      "cell_type": "code",
      "execution_count": 48,
      "metadata": {
        "id": "3C0pw40xkFzN"
      },
      "outputs": [],
      "source": [
        "def save_attentions(test_dataset, model, device, layer_idx = 12):\n",
        "    sents1, sents2, targets = zip(*test_dataset)\n",
        "    all_attentions = {}\n",
        "    dimensions = {}\n",
        "    for i in range(len(test_dataset)):\n",
        "      encode_inputs, encode_att_mask, encode_type = encode_sents([sents1[i]], [sents2[i]])\n",
        "      input_ids = torch.cat(encode_inputs, dim=0)\n",
        "      attention_masks = torch.cat(encode_att_mask, dim=0)\n",
        "      type_ids = torch.cat(encode_type, dim=0)\n",
        "      labels = torch.tensor(targets[i])\n",
        "\n",
        "      # Execute encoder with source sentence and source mask\n",
        "      with torch.no_grad():\n",
        "          output, bert = model(input_ids=input_ids.to(device),type_ids=type_ids.to(device),mask=attention_masks.to(device),layer_index_HS=layer_idx)\n",
        "          output =output.squeeze(1)\n",
        "\n",
        "      for attention_layer in range(12):\n",
        "          for head in range(12):\n",
        "              attention = bert.attentions[attention_layer][0][head].cpu().detach().numpy()\n",
        "              # Trim the attention matrix\n",
        "              att_trimmed, sent_dim = trim_attention(attention, input_ids)\n",
        "              all_attentions[(i,attention_layer,head)] = {'vectors' : att_trimmed, 'sequence': 's1: ' + sents1[i] + ' s2: ' + sents2[i].replace(\"\\n\", \"\"), 'label' : targets[i], 'dimension' : sent_dim}\n",
        "              dimensions[i] = sent_dim\n",
        "    return all_attentions"
      ]
    },
    {
      "cell_type": "code",
      "execution_count": 49,
      "metadata": {
        "id": "VXVkHH-g65nl"
      },
      "outputs": [],
      "source": [
        "def save_outputs(test_dataset, model, device, layer_idx = 12): #save encoder outputs\n",
        "    sents1, sents2, targets = zip(*test_dataset)\n",
        "    hidden_states_outputs = {}\n",
        "    for i in range(len(test_dataset)):\n",
        "      encode_inputs, encode_att_mask, encode_type = encode_sents([sents1[i]], [sents2[i]])\n",
        "      input_ids = torch.cat(encode_inputs, dim=0)\n",
        "      attention_masks = torch.cat(encode_att_mask, dim=0)\n",
        "      type_ids = torch.cat(encode_type, dim=0)\n",
        "      labels = torch.tensor(targets[i])\n",
        "\n",
        "      # Execute encoder with source sentence and source mask\n",
        "      with torch.no_grad():\n",
        "          output, bert = model(input_ids=input_ids.to(device),type_ids=type_ids.to(device),mask=attention_masks.to(device),layer_index_HS=layer_idx)\n",
        "          output =output.squeeze(1)\n",
        "\n",
        "      for layer, hidden_state in enumerate(bert.hidden_states):\n",
        "          if layer > 0 : #the first layer is embedding\n",
        "            hidden_states_outputs[(i,layer)] = {'hidden_state' : hidden_state, 'label' : targets[i]} #all outputs have (1,128,768)\n",
        "    return hidden_states_outputs"
      ]
    },
    {
      "cell_type": "code",
      "source": [
        "def save_CLS_outputs(test_dataset, model, device, layer_idx = 12): #save encoder outputs\n",
        "    sents1, sents2, targets = zip(*test_dataset)\n",
        "    CLS_outputs_vectors, CLS_outputs = {}, {}\n",
        "    sent_dim = 0\n",
        "    for i in range(len(test_dataset)):\n",
        "      encode_inputs, encode_att_mask, encode_type = encode_sents([sents1[i]], [sents2[i]])\n",
        "      input_ids = torch.cat(encode_inputs, dim=0)\n",
        "      attention_masks = torch.cat(encode_att_mask, dim=0)\n",
        "      type_ids = torch.cat(encode_type, dim=0)\n",
        "      labels = torch.tensor(targets[i])\n",
        "\n",
        "      # Execute encoder with source sentence and source mask\n",
        "      with torch.no_grad():\n",
        "          output, bert = model(input_ids=input_ids.to(device),type_ids=type_ids.to(device),mask=attention_masks.to(device),layer_index_HS=layer_idx)\n",
        "          output =output.squeeze(1)\n",
        "\n",
        "      for attention_layer in range(12):\n",
        "          for head in range(12):\n",
        "              attention = bert.attentions[attention_layer][0][head].cpu().detach().numpy()\n",
        "              # Trim the attention matrix\n",
        "              att_trimmed, sent_dim = trim_attention(attention, input_ids)\n",
        "\n",
        "      for layer, hidden_state in enumerate(bert.hidden_states):\n",
        "          if layer > 0 : #the first layer is embedding\n",
        "            CLS_outputs_vectors[(i,layer-1)] = {'vectors' : hidden_state[:, 0, :], 'sequence': 's1: ' + sents1[i] + ' s2: ' + sents2[i].replace(\"\\n\", \"\"), 'label' : targets[i], 'dimension' : sent_dim}\n",
        "            #CLS_outputs[(i,layer-1)] = {'CLS_vectors' : hidden_state[:, 0, :], 'sequence': 's1: ' + sents1[i] + ' s2: ' + sents2[i].replace(\"\\n\", \"\"), 'label' : targets[i], 'dimension' : sent_dim}\n",
        "    return CLS_outputs_vectors"
      ],
      "metadata": {
        "id": "M4Ix6LeKawfE"
      },
      "execution_count": 50,
      "outputs": []
    },
    {
      "cell_type": "code",
      "source": [
        "CLS_outputs_vectors = save_CLS_outputs(test, model, device)"
      ],
      "metadata": {
        "id": "UcACGVkbiMHt"
      },
      "execution_count": null,
      "outputs": []
    },
    {
      "cell_type": "code",
      "execution_count": null,
      "metadata": {
        "id": "gL8P3wre68Su"
      },
      "outputs": [],
      "source": [
        "hidden_states_outputs = save_outputs(test, model, device)"
      ]
    },
    {
      "cell_type": "code",
      "execution_count": 51,
      "metadata": {
        "id": "1WriRf0orKsn"
      },
      "outputs": [],
      "source": [
        "all_attentions = save_attentions(test, model, device)"
      ]
    },
    {
      "cell_type": "code",
      "execution_count": 52,
      "metadata": {
        "colab": {
          "base_uri": "https://localhost:8080/"
        },
        "id": "bOCPR8S-1ksU",
        "outputId": "343322d2-e0e0-49fc-8d86-abac98282138"
      },
      "outputs": [
        {
          "output_type": "execute_result",
          "data": {
            "text/plain": [
              "{'vectors': array([[1.50586097e-02, 3.61832295e-04, 2.97799357e-04, 5.38227148e-04,\n",
              "         2.56233593e-03, 4.05949249e-04, 5.69995551e-04, 9.65356769e-04,\n",
              "         1.41209349e-01, 4.38355505e-02, 5.73635288e-02, 1.09668888e-01,\n",
              "         2.51616776e-01, 1.47769123e-01, 5.88519461e-02, 3.06893922e-02,\n",
              "         1.38235271e-01],\n",
              "        [1.52388157e-03, 5.30413410e-04, 1.34817898e-01, 3.50452662e-02,\n",
              "         4.19157557e-03, 7.32167275e-04, 3.51839885e-03, 1.76969019e-03,\n",
              "         4.22646403e-01, 2.23457228e-05, 1.76440377e-03, 5.74794307e-04,\n",
              "         6.09808718e-04, 3.24637294e-05, 1.15516486e-04, 4.79139890e-05,\n",
              "         3.92057061e-01],\n",
              "        [7.08082298e-05, 1.64573154e-04, 2.20526615e-03, 1.34855346e-03,\n",
              "         7.60508468e-03, 3.84600629e-04, 5.59357693e-03, 8.18138360e-05,\n",
              "         5.17271519e-01, 1.74146430e-06, 7.35187768e-06, 5.03655747e-06,\n",
              "         2.33623170e-04, 3.45294029e-06, 4.33451714e-05, 1.53082931e-06,\n",
              "         4.64978188e-01],\n",
              "        [1.63988105e-03, 5.87702310e-03, 4.03313413e-02, 2.70322040e-02,\n",
              "         2.35974953e-01, 1.46365734e-02, 8.77764821e-02, 7.16944644e-03,\n",
              "         2.99672186e-01, 1.10038040e-04, 2.02510448e-04, 1.50792010e-04,\n",
              "         2.98312237e-03, 7.98356341e-05, 2.67683965e-04, 7.94688240e-05,\n",
              "         2.76016474e-01],\n",
              "        [6.07145521e-05, 1.50284804e-05, 1.30688975e-04, 1.44733203e-04,\n",
              "         5.66506432e-03, 6.21850137e-04, 1.26240160e-02, 1.17412135e-04,\n",
              "         5.11813283e-01, 2.21681489e-06, 7.51486641e-06, 5.78040681e-06,\n",
              "         2.45802657e-04, 1.41134142e-05, 1.10445537e-04, 6.62229741e-06,\n",
              "         4.68414694e-01],\n",
              "        [1.30651271e-04, 6.08023620e-05, 3.55429412e-03, 1.14715088e-03,\n",
              "         9.09509659e-02, 4.10889246e-04, 6.61349356e-01, 1.93292552e-04,\n",
              "         1.23890758e-01, 3.73493640e-06, 5.70352531e-05, 1.96297988e-05,\n",
              "         1.30682625e-03, 4.48399715e-06, 3.05294991e-03, 5.72582894e-06,\n",
              "         1.13861404e-01],\n",
              "        [5.29288445e-05, 5.15397005e-05, 1.42890972e-03, 1.03945343e-03,\n",
              "         3.38875800e-01, 6.15475001e-04, 7.68624153e-03, 8.32915539e-05,\n",
              "         3.38491589e-01, 4.50952302e-06, 2.06229088e-05, 1.75202204e-05,\n",
              "         5.38322283e-03, 4.91143464e-06, 3.49519505e-05, 4.36233449e-06,\n",
              "         3.06204677e-01],\n",
              "        [2.36158501e-02, 1.74586230e-03, 3.23719718e-03, 1.44280819e-02,\n",
              "         1.14890737e-02, 2.83590937e-03, 4.61967569e-03, 4.33737133e-03,\n",
              "         1.84225067e-01, 2.96162944e-02, 1.63391419e-02, 2.95678973e-01,\n",
              "         1.56491816e-01, 6.31798878e-02, 6.99560763e-03, 4.14264621e-03,\n",
              "         1.77021593e-01],\n",
              "        [4.60487849e-04, 1.44115184e-05, 5.50775003e-05, 6.47820125e-05,\n",
              "         1.04845036e-03, 2.32651910e-05, 1.95274988e-04, 6.18006961e-05,\n",
              "         5.13383210e-01, 8.12584913e-05, 2.70549295e-04, 2.94027064e-04,\n",
              "         4.04764106e-03, 1.66227052e-04, 4.78659029e-04, 1.16170195e-04,\n",
              "         4.79238689e-01],\n",
              "        [3.41927167e-03, 1.02070699e-05, 3.30116687e-04, 1.84717806e-04,\n",
              "         1.25157312e-04, 7.90221475e-06, 3.48035501e-05, 5.58475207e-04,\n",
              "         2.73725331e-01, 3.60165420e-03, 2.80600667e-01, 1.06334642e-01,\n",
              "         4.32059430e-02, 5.58990473e-03, 6.99455990e-03, 6.29623793e-03,\n",
              "         2.68980414e-01],\n",
              "        [3.40248342e-04, 6.33248828e-06, 3.90198011e-06, 7.15607666e-06,\n",
              "         2.59272842e-04, 3.62878586e-06, 2.64921237e-05, 3.18594102e-05,\n",
              "         4.71000314e-01, 4.68471466e-04, 1.46247540e-03, 1.68724626e-03,\n",
              "         6.08808286e-02, 2.77545839e-03, 7.15822447e-03, 8.50520737e-04,\n",
              "         4.53037590e-01],\n",
              "        [4.86770365e-03, 1.98338428e-04, 1.09056033e-04, 1.39117459e-04,\n",
              "         2.86423741e-03, 4.65983831e-05, 1.90696737e-04, 1.58300437e-03,\n",
              "         3.77816796e-01, 5.24763297e-03, 1.05774328e-02, 1.06288865e-02,\n",
              "         1.70276895e-01, 1.27109913e-02, 2.13504862e-02, 1.55546712e-02,\n",
              "         3.65837425e-01],\n",
              "        [4.80363698e-04, 1.13140941e-05, 1.19170390e-05, 1.00125926e-05,\n",
              "         4.86865261e-04, 9.84074632e-06, 2.47324147e-04, 7.26062135e-05,\n",
              "         4.74394590e-01, 1.85862853e-04, 9.12315852e-04, 5.56447310e-04,\n",
              "         2.16554459e-02, 2.79297098e-03, 3.62749919e-02, 1.01971917e-03,\n",
              "         4.60877448e-01],\n",
              "        [4.70767700e-04, 6.79227878e-06, 4.42481578e-05, 1.59254323e-05,\n",
              "         1.54877617e-03, 2.67183873e-06, 2.03336659e-03, 5.37792585e-05,\n",
              "         8.03420544e-02, 1.51132757e-04, 3.59403435e-03, 9.48819157e-04,\n",
              "         8.75988305e-02, 1.76539854e-03, 7.41693199e-01, 1.54786441e-03,\n",
              "         7.81823099e-02],\n",
              "        [1.30962784e-04, 3.62152696e-06, 3.01752625e-05, 1.50551268e-05,\n",
              "         9.97470785e-03, 4.92958998e-06, 3.99661185e-05, 7.63844128e-06,\n",
              "         3.58742595e-01, 7.80647897e-05, 9.76750744e-04, 4.88206599e-04,\n",
              "         2.80277282e-01, 8.02008319e-04, 6.06911723e-03, 4.62614553e-04,\n",
              "         3.41896325e-01],\n",
              "        [2.18986459e-02, 1.22779034e-04, 1.07362815e-04, 4.55395348e-04,\n",
              "         7.25876656e-04, 8.29143610e-05, 2.55063409e-04, 1.83205455e-04,\n",
              "         3.19533825e-01, 1.88326202e-02, 2.04608720e-02, 1.09504886e-01,\n",
              "         7.73439929e-02, 4.78762984e-02, 5.28312251e-02, 1.79982595e-02,\n",
              "         3.11786801e-01],\n",
              "        [4.13865608e-04, 1.24089129e-05, 4.72809807e-05, 5.61848356e-05,\n",
              "         9.41161241e-04, 1.98914531e-05, 1.70945452e-04, 5.55150618e-05,\n",
              "         5.13885558e-01, 7.16113791e-05, 2.42898066e-04, 2.60897563e-04,\n",
              "         3.67491809e-03, 1.46268154e-04, 4.28488769e-04, 1.07104664e-04,\n",
              "         4.79465008e-01]], dtype=float32),\n",
              " 'sequence': 's1: A girl is styling her hair. s2: A girl is brushing her hair.',\n",
              " 'label': 2.5,\n",
              " 'dimension': 17}"
            ]
          },
          "metadata": {},
          "execution_count": 52
        }
      ],
      "source": [
        "all_attentions[(0,6,5)]"
      ]
    },
    {
      "cell_type": "code",
      "source": [
        "def save_with_hdf5(file_path, data_dict):\n",
        "    # Save data in HDF5 format\n",
        "    with h5py.File(file_path, 'w') as hf:\n",
        "        # Iterate through the dictionary and save the data to the HDF5 file\n",
        "        def save_dict(group, data):\n",
        "            for key, value in data.items():\n",
        "                key_str = str(key)  # Convert the key to a string\n",
        "                if isinstance(value, dict):\n",
        "                    # If the value is a dictionary, create a new group and save the data inside it\n",
        "                    subgroup = group.create_group(key_str)\n",
        "                    save_dict(subgroup, value)\n",
        "                elif isinstance(value, np.ndarray):\n",
        "                    # If the value is a NumPy array, save it as a dataset\n",
        "                    group.create_dataset(key_str, data=value)\n",
        "                else:\n",
        "                    # For other data types, save them as attributes\n",
        "                    group.attrs[key_str] = str(value)  # Convert the value to a string and save it as an attribute\n",
        "\n",
        "        save_dict(hf, data_dict)"
      ],
      "metadata": {
        "id": "MEgO4UOPelcq"
      },
      "execution_count": 53,
      "outputs": []
    },
    {
      "cell_type": "code",
      "source": [
        "\"\"\"\n",
        "#Toy example\n",
        "example = {\n",
        "    (0,1) : {\n",
        "        'vectors': np.array([[1, 2, 3], [4, 5, 6]]),\n",
        "        'sequence': 's1...',\n",
        "    },\n",
        "    (0,2) : {\n",
        "        'vectors': np.array([[2, 2, 2], [3, 3, 3]]),\n",
        "        'sequence': 's2...',\n",
        "    }\n",
        "}\n",
        "\n",
        "save_with_hdf5('example.h5', example)\n",
        "\"\"\""
      ],
      "metadata": {
        "id": "DO9iKIOaAQ0W"
      },
      "execution_count": null,
      "outputs": []
    },
    {
      "cell_type": "code",
      "source": [
        "file_name = 'embeddings_att_sts_b.h5'"
      ],
      "metadata": {
        "id": "DplXBGznOvLB"
      },
      "execution_count": 54,
      "outputs": []
    },
    {
      "cell_type": "code",
      "source": [
        "save_with_hdf5(file_name, all_attentions)"
      ],
      "metadata": {
        "id": "y1wjo2TLiCgB"
      },
      "execution_count": 55,
      "outputs": []
    },
    {
      "cell_type": "code",
      "source": [
        "def is_tuple(string):\n",
        "    try:\n",
        "        result = ast.literal_eval(string)\n",
        "        return isinstance(result, tuple)\n",
        "    except (SyntaxError, ValueError):\n",
        "        return False"
      ],
      "metadata": {
        "id": "MwuEFhlhDcQ6"
      },
      "execution_count": 56,
      "outputs": []
    },
    {
      "cell_type": "code",
      "source": [
        "def load_with_hdf5(file_path):\n",
        "    loaded_data = {}\n",
        "\n",
        "    # Load data from the HDF5 file\n",
        "    with h5py.File(file_path, 'r') as hf:\n",
        "        # Recursive function to load data from the HDF5 file\n",
        "        def load_dict(group):\n",
        "            result = {}\n",
        "            for key, item in group.items():\n",
        "                # Use the key directly if it is a string, otherwise, convert back to tuple\n",
        "                key_obj = ast.literal_eval(key) if is_tuple(key) else key\n",
        "                if isinstance(item, h5py.Group):\n",
        "                    # If it's a group, load its data recursively\n",
        "                    result[key_obj] = load_dict(item)\n",
        "                    # Retrieve attributes from the group\n",
        "                    for attr_key, attr_value in item.attrs.items():\n",
        "                        result[key_obj][attr_key] = attr_value\n",
        "                else:\n",
        "                    # If it's a dataset, load its values\n",
        "                    result[key_obj] = torch.tensor(np.array(item))\n",
        "            return result\n",
        "\n",
        "        loaded_data = load_dict(hf)\n",
        "\n",
        "    return loaded_data"
      ],
      "metadata": {
        "id": "uT-_uG8UmYoq"
      },
      "execution_count": 57,
      "outputs": []
    },
    {
      "cell_type": "code",
      "source": [
        "# Load data\n",
        "loaded_data_embeddings = load_with_hdf5(file_name)"
      ],
      "metadata": {
        "id": "Tx_BRWzunjf8"
      },
      "execution_count": 58,
      "outputs": []
    },
    {
      "cell_type": "code",
      "source": [
        "loaded_dict = loaded_data_embeddings"
      ],
      "metadata": {
        "id": "RRkfDlBcIfIl"
      },
      "execution_count": 59,
      "outputs": []
    },
    {
      "cell_type": "code",
      "source": [
        "loaded_dict[(100,6,5)]"
      ],
      "metadata": {
        "colab": {
          "base_uri": "https://localhost:8080/"
        },
        "id": "Imt63rEi47Wl",
        "outputId": "3671281e-3073-4e12-c229-9ad36335dac2"
      },
      "execution_count": 64,
      "outputs": [
        {
          "output_type": "execute_result",
          "data": {
            "text/plain": [
              "{'vectors': tensor([[1.6196e-03, 2.7198e-04, 2.7493e-04, 3.4435e-04, 7.1982e-04, 1.3362e-03,\n",
              "          1.9165e-04, 2.2783e-04, 2.3817e-04, 4.7490e-01, 7.0693e-03, 2.4012e-02,\n",
              "          1.3970e-02, 1.5914e-02, 4.2691e-03, 2.0217e-03, 4.5262e-01],\n",
              "         [2.9286e-04, 6.4306e-04, 4.6194e-01, 2.4523e-02, 1.6265e-01, 2.0754e-02,\n",
              "          1.7591e-04, 5.8353e-03, 1.1483e-03, 1.6391e-01, 1.3203e-05, 2.8889e-03,\n",
              "          4.8692e-04, 4.6128e-04, 1.8538e-03, 6.6142e-05, 1.5236e-01],\n",
              "         [2.2125e-04, 7.8481e-04, 6.4532e-03, 8.0052e-03, 3.1463e-02, 8.5297e-03,\n",
              "          2.5495e-04, 1.1069e-03, 8.8157e-04, 4.9307e-01, 7.6001e-06, 1.6685e-05,\n",
              "          4.6035e-05, 2.0861e-04, 7.9519e-05, 2.1833e-05, 4.4885e-01],\n",
              "         [1.1315e-03, 9.7504e-03, 2.0254e-01, 1.2680e-02, 4.6729e-01, 1.4496e-01,\n",
              "          8.7558e-03, 2.5535e-02, 1.0358e-02, 5.9003e-02, 5.5017e-05, 1.0173e-04,\n",
              "          1.1557e-04, 2.1910e-03, 6.2860e-04, 1.1426e-04, 5.4785e-02],\n",
              "         [7.2407e-04, 8.2247e-04, 1.0882e-02, 2.1520e-03, 3.1825e-02, 9.7946e-02,\n",
              "          4.0764e-03, 1.2090e-02, 4.8948e-03, 4.3062e-01, 2.1913e-05, 9.4286e-05,\n",
              "          7.5326e-05, 3.6376e-03, 5.9532e-04, 8.6929e-05, 3.9945e-01],\n",
              "         [2.3148e-03, 2.9519e-04, 6.2816e-03, 5.3332e-03, 5.5246e-02, 1.3541e-02,\n",
              "          5.9026e-03, 1.4621e-02, 5.7669e-03, 4.6095e-01, 3.0787e-05, 3.2834e-04,\n",
              "          2.0440e-04, 1.5035e-03, 1.0913e-03, 1.3076e-04, 4.2646e-01],\n",
              "         [5.1086e-04, 7.9482e-05, 7.2815e-02, 7.1116e-03, 5.6487e-02, 3.4733e-02,\n",
              "          1.0692e-03, 6.6172e-01, 5.1799e-03, 7.7396e-02, 1.1467e-05, 3.2879e-03,\n",
              "          4.0274e-04, 1.1396e-03, 4.4257e-03, 7.1600e-05, 7.3562e-02],\n",
              "         [1.2467e-04, 9.7118e-05, 2.2444e-03, 4.2911e-04, 9.0796e-03, 1.4651e-02,\n",
              "          2.0290e-03, 2.2035e-02, 1.8870e-03, 4.9026e-01, 5.6467e-06, 4.3222e-05,\n",
              "          1.6560e-05, 1.9360e-03, 1.5639e-03, 2.9439e-05, 4.5357e-01],\n",
              "         [2.3080e-03, 1.1248e-02, 5.7642e-03, 1.1972e-02, 1.3251e-02, 1.2145e-02,\n",
              "          1.6922e-02, 7.7023e-03, 4.0148e-03, 3.7693e-01, 8.1915e-03, 2.2979e-02,\n",
              "          7.0003e-02, 3.9716e-02, 4.0022e-02, 1.5987e-03, 3.5523e-01],\n",
              "         [1.6869e-04, 3.5429e-05, 1.8646e-04, 5.7133e-05, 3.2536e-04, 4.1469e-04,\n",
              "          7.9754e-05, 1.7050e-04, 7.4377e-05, 5.1442e-01, 6.8771e-05, 4.8995e-04,\n",
              "          1.9802e-04, 1.7195e-03, 1.1291e-03, 1.0789e-04, 4.8035e-01],\n",
              "         [7.0560e-04, 1.6004e-05, 1.1419e-03, 1.2254e-04, 9.3339e-04, 7.0442e-04,\n",
              "          9.8216e-06, 2.9983e-04, 1.5790e-04, 1.8002e-01, 3.8748e-03, 4.7671e-01,\n",
              "          1.0053e-01, 2.7897e-02, 2.9481e-02, 1.8360e-03, 1.7557e-01],\n",
              "         [6.7538e-04, 1.8906e-05, 2.7320e-05, 1.1772e-05, 1.9662e-04, 2.2169e-04,\n",
              "          4.0952e-06, 4.4451e-05, 8.1094e-05, 4.9959e-01, 1.1266e-03, 3.7186e-03,\n",
              "          3.9577e-03, 5.4806e-03, 1.1846e-03, 6.9157e-04, 4.8297e-01],\n",
              "         [2.4960e-03, 4.5293e-04, 1.2048e-03, 8.4801e-05, 1.7008e-03, 1.4224e-03,\n",
              "          2.3618e-04, 1.6040e-04, 6.2619e-04, 3.4716e-01, 7.8391e-03, 8.7349e-03,\n",
              "          2.0473e-02, 2.4218e-01, 2.6307e-02, 5.5605e-03, 3.3337e-01],\n",
              "         [1.6224e-04, 2.2480e-06, 1.4742e-05, 5.5751e-06, 2.7128e-05, 1.0038e-04,\n",
              "          1.1393e-05, 1.1693e-05, 1.6250e-05, 5.0655e-01, 4.1549e-05, 1.2943e-04,\n",
              "          4.2805e-04, 2.8991e-03, 3.4935e-03, 4.3655e-04, 4.8567e-01],\n",
              "         [1.7432e-04, 1.4711e-05, 7.5976e-05, 2.2627e-05, 2.9639e-04, 2.2284e-04,\n",
              "          1.2462e-05, 9.8782e-05, 6.2079e-05, 5.0341e-01, 9.8290e-05, 6.0864e-04,\n",
              "          2.9296e-04, 1.1266e-02, 3.7498e-03, 6.2410e-04, 4.7897e-01],\n",
              "         [1.3111e-03, 1.0384e-03, 6.0482e-04, 1.2968e-03, 1.1586e-03, 1.2932e-03,\n",
              "          1.0941e-03, 2.6366e-04, 9.2772e-05, 3.8356e-01, 9.5209e-03, 1.3576e-02,\n",
              "          4.2464e-02, 8.1836e-02, 9.2323e-02, 3.6602e-03, 3.6491e-01],\n",
              "         [1.5276e-04, 3.0661e-05, 1.6501e-04, 4.9805e-05, 2.8682e-04, 3.7374e-04,\n",
              "          7.0061e-05, 1.5385e-04, 6.8913e-05, 5.1482e-01, 6.0528e-05, 4.4193e-04,\n",
              "          1.7403e-04, 1.5702e-03, 1.0065e-03, 9.9584e-05, 4.8047e-01]]),\n",
              " 'dimension': '17',\n",
              " 'label': '0.0',\n",
              " 'sequence': 's1: A cat is walking around a house. s2: A woman is peeling potato.'}"
            ]
          },
          "metadata": {},
          "execution_count": 64
        }
      ]
    },
    {
      "cell_type": "code",
      "source": [
        "loaded_dict[(0,6,5)] #[(example_number, layer, head)]"
      ],
      "metadata": {
        "colab": {
          "base_uri": "https://localhost:8080/"
        },
        "id": "NOCyUoJQIyT9",
        "outputId": "d21f3873-3f92-428a-df3b-035db96fca0c"
      },
      "execution_count": 66,
      "outputs": [
        {
          "output_type": "execute_result",
          "data": {
            "text/plain": [
              "{'vectors': tensor([[1.5059e-02, 3.6183e-04, 2.9780e-04, 5.3823e-04, 2.5623e-03, 4.0595e-04,\n",
              "          5.7000e-04, 9.6536e-04, 1.4121e-01, 4.3836e-02, 5.7364e-02, 1.0967e-01,\n",
              "          2.5162e-01, 1.4777e-01, 5.8852e-02, 3.0689e-02, 1.3824e-01],\n",
              "         [1.5239e-03, 5.3041e-04, 1.3482e-01, 3.5045e-02, 4.1916e-03, 7.3217e-04,\n",
              "          3.5184e-03, 1.7697e-03, 4.2265e-01, 2.2346e-05, 1.7644e-03, 5.7479e-04,\n",
              "          6.0981e-04, 3.2464e-05, 1.1552e-04, 4.7914e-05, 3.9206e-01],\n",
              "         [7.0808e-05, 1.6457e-04, 2.2053e-03, 1.3486e-03, 7.6051e-03, 3.8460e-04,\n",
              "          5.5936e-03, 8.1814e-05, 5.1727e-01, 1.7415e-06, 7.3519e-06, 5.0366e-06,\n",
              "          2.3362e-04, 3.4529e-06, 4.3345e-05, 1.5308e-06, 4.6498e-01],\n",
              "         [1.6399e-03, 5.8770e-03, 4.0331e-02, 2.7032e-02, 2.3597e-01, 1.4637e-02,\n",
              "          8.7776e-02, 7.1694e-03, 2.9967e-01, 1.1004e-04, 2.0251e-04, 1.5079e-04,\n",
              "          2.9831e-03, 7.9836e-05, 2.6768e-04, 7.9469e-05, 2.7602e-01],\n",
              "         [6.0715e-05, 1.5028e-05, 1.3069e-04, 1.4473e-04, 5.6651e-03, 6.2185e-04,\n",
              "          1.2624e-02, 1.1741e-04, 5.1181e-01, 2.2168e-06, 7.5149e-06, 5.7804e-06,\n",
              "          2.4580e-04, 1.4113e-05, 1.1045e-04, 6.6223e-06, 4.6841e-01],\n",
              "         [1.3065e-04, 6.0802e-05, 3.5543e-03, 1.1472e-03, 9.0951e-02, 4.1089e-04,\n",
              "          6.6135e-01, 1.9329e-04, 1.2389e-01, 3.7349e-06, 5.7035e-05, 1.9630e-05,\n",
              "          1.3068e-03, 4.4840e-06, 3.0529e-03, 5.7258e-06, 1.1386e-01],\n",
              "         [5.2929e-05, 5.1540e-05, 1.4289e-03, 1.0395e-03, 3.3888e-01, 6.1548e-04,\n",
              "          7.6862e-03, 8.3292e-05, 3.3849e-01, 4.5095e-06, 2.0623e-05, 1.7520e-05,\n",
              "          5.3832e-03, 4.9114e-06, 3.4952e-05, 4.3623e-06, 3.0620e-01],\n",
              "         [2.3616e-02, 1.7459e-03, 3.2372e-03, 1.4428e-02, 1.1489e-02, 2.8359e-03,\n",
              "          4.6197e-03, 4.3374e-03, 1.8423e-01, 2.9616e-02, 1.6339e-02, 2.9568e-01,\n",
              "          1.5649e-01, 6.3180e-02, 6.9956e-03, 4.1426e-03, 1.7702e-01],\n",
              "         [4.6049e-04, 1.4412e-05, 5.5078e-05, 6.4782e-05, 1.0485e-03, 2.3265e-05,\n",
              "          1.9527e-04, 6.1801e-05, 5.1338e-01, 8.1258e-05, 2.7055e-04, 2.9403e-04,\n",
              "          4.0476e-03, 1.6623e-04, 4.7866e-04, 1.1617e-04, 4.7924e-01],\n",
              "         [3.4193e-03, 1.0207e-05, 3.3012e-04, 1.8472e-04, 1.2516e-04, 7.9022e-06,\n",
              "          3.4804e-05, 5.5848e-04, 2.7373e-01, 3.6017e-03, 2.8060e-01, 1.0633e-01,\n",
              "          4.3206e-02, 5.5899e-03, 6.9946e-03, 6.2962e-03, 2.6898e-01],\n",
              "         [3.4025e-04, 6.3325e-06, 3.9020e-06, 7.1561e-06, 2.5927e-04, 3.6288e-06,\n",
              "          2.6492e-05, 3.1859e-05, 4.7100e-01, 4.6847e-04, 1.4625e-03, 1.6872e-03,\n",
              "          6.0881e-02, 2.7755e-03, 7.1582e-03, 8.5052e-04, 4.5304e-01],\n",
              "         [4.8677e-03, 1.9834e-04, 1.0906e-04, 1.3912e-04, 2.8642e-03, 4.6598e-05,\n",
              "          1.9070e-04, 1.5830e-03, 3.7782e-01, 5.2476e-03, 1.0577e-02, 1.0629e-02,\n",
              "          1.7028e-01, 1.2711e-02, 2.1350e-02, 1.5555e-02, 3.6584e-01],\n",
              "         [4.8036e-04, 1.1314e-05, 1.1917e-05, 1.0013e-05, 4.8687e-04, 9.8407e-06,\n",
              "          2.4732e-04, 7.2606e-05, 4.7439e-01, 1.8586e-04, 9.1232e-04, 5.5645e-04,\n",
              "          2.1655e-02, 2.7930e-03, 3.6275e-02, 1.0197e-03, 4.6088e-01],\n",
              "         [4.7077e-04, 6.7923e-06, 4.4248e-05, 1.5925e-05, 1.5488e-03, 2.6718e-06,\n",
              "          2.0334e-03, 5.3779e-05, 8.0342e-02, 1.5113e-04, 3.5940e-03, 9.4882e-04,\n",
              "          8.7599e-02, 1.7654e-03, 7.4169e-01, 1.5479e-03, 7.8182e-02],\n",
              "         [1.3096e-04, 3.6215e-06, 3.0175e-05, 1.5055e-05, 9.9747e-03, 4.9296e-06,\n",
              "          3.9966e-05, 7.6384e-06, 3.5874e-01, 7.8065e-05, 9.7675e-04, 4.8821e-04,\n",
              "          2.8028e-01, 8.0201e-04, 6.0691e-03, 4.6261e-04, 3.4190e-01],\n",
              "         [2.1899e-02, 1.2278e-04, 1.0736e-04, 4.5540e-04, 7.2588e-04, 8.2914e-05,\n",
              "          2.5506e-04, 1.8321e-04, 3.1953e-01, 1.8833e-02, 2.0461e-02, 1.0950e-01,\n",
              "          7.7344e-02, 4.7876e-02, 5.2831e-02, 1.7998e-02, 3.1179e-01],\n",
              "         [4.1387e-04, 1.2409e-05, 4.7281e-05, 5.6185e-05, 9.4116e-04, 1.9891e-05,\n",
              "          1.7095e-04, 5.5515e-05, 5.1389e-01, 7.1611e-05, 2.4290e-04, 2.6090e-04,\n",
              "          3.6749e-03, 1.4627e-04, 4.2849e-04, 1.0710e-04, 4.7947e-01]]),\n",
              " 'dimension': '17',\n",
              " 'label': '2.5',\n",
              " 'sequence': 's1: A girl is styling her hair. s2: A girl is brushing her hair.'}"
            ]
          },
          "metadata": {},
          "execution_count": 66
        }
      ]
    },
    {
      "cell_type": "code",
      "execution_count": 72,
      "metadata": {
        "id": "pEUdAY6-Ciov",
        "colab": {
          "base_uri": "https://localhost:8080/"
        },
        "outputId": "1fd72539-9685-4e43-c35f-0c6266905fb5"
      },
      "outputs": [
        {
          "output_type": "stream",
          "name": "stdout",
          "text": [
            "Sent 1:  The dog is chasing the geese.\n",
            "Sent 2:  One dog is chasing the other.\n",
            "\n",
            "Predicted Class:  2.772\n",
            "Target Class:  1.6\n"
          ]
        }
      ],
      "source": [
        "example = 621\n",
        "s1, s2, bert, inputs = similarity_test(test, example, model, device, 12)"
      ]
    },
    {
      "cell_type": "code",
      "source": [
        "path = '/content/drive/MyDrive/Tesis/STS_Benchmark/transformer_tunned_BERT/uncase_base'"
      ],
      "metadata": {
        "id": "dHMIoz-9RJTK"
      },
      "execution_count": 69,
      "outputs": []
    },
    {
      "cell_type": "code",
      "source": [
        "#!mv file_name path\n",
        "!cp {file_name} {path}"
      ],
      "metadata": {
        "id": "2103fCmeMzqB"
      },
      "execution_count": 70,
      "outputs": []
    },
    {
      "cell_type": "code",
      "source": [
        "view_attention(bert, inputs, 0) # (bert, example_inputs, layer)"
      ],
      "metadata": {
        "colab": {
          "base_uri": "https://localhost:8080/",
          "height": 794
        },
        "id": "G84Ejd-H6TTv",
        "outputId": "d1feb8b1-47c9-4a91-8718-792efbe424f2"
      },
      "execution_count": 73,
      "outputs": [
        {
          "output_type": "display_data",
          "data": {
            "text/plain": [
              "<Figure size 1200x900 with 12 Axes>"
            ],
            "image/png": "[encoded data removed]"
          },
          "metadata": {}
        }
      ]
    }
  ],
  "metadata": {
    "colab": {
      "provenance": [],
      "gpuType": "T4"
    },
    "kernelspec": {
      "display_name": "Python 3",
      "name": "python3"
    },
    "language_info": {
      "codemirror_mode": {
        "name": "ipython",
        "version": 3
      },
      "file_extension": ".py",
      "mimetype": "text/x-python",
      "name": "python",
      "nbconvert_exporter": "python",
      "pygments_lexer": "ipython3",
      "version": "3.9.4"
    },
    "accelerator": "GPU",
    "widgets": {
      "application/vnd.jupyter.widget-state+json": {
        "9b9a1032148f43a7a333d920a5796427": {
          "model_module": "@jupyter-widgets/controls",
          "model_name": "HBoxModel",
          "model_module_version": "1.5.0",
          "state": {
            "_dom_classes": [],
            "_model_module": "@jupyter-widgets/controls",
            "_model_module_version": "1.5.0",
            "_model_name": "HBoxModel",
            "_view_count": null,
            "_view_module": "@jupyter-widgets/controls",
            "_view_module_version": "1.5.0",
            "_view_name": "HBoxView",
            "box_style": "",
            "children": [
              "IPY_MODEL_fc7e67e8dd3b4d73bbf87f93fff25238",
              "IPY_MODEL_7784f4a34cde4dfc9666284e8e0aa8a9",
              "IPY_MODEL_73ba33f522494b87b66290926181ead5"
            ],
            "layout": "IPY_MODEL_d69638e1cb9a4274bf06f871af1b2ac8"
          }
        },
        "fc7e67e8dd3b4d73bbf87f93fff25238": {
          "model_module": "@jupyter-widgets/controls",
          "model_name": "HTMLModel",
          "model_module_version": "1.5.0",
          "state": {
            "_dom_classes": [],
            "_model_module": "@jupyter-widgets/controls",
            "_model_module_version": "1.5.0",
            "_model_name": "HTMLModel",
            "_view_count": null,
            "_view_module": "@jupyter-widgets/controls",
            "_view_module_version": "1.5.0",
            "_view_name": "HTMLView",
            "description": "",
            "description_tooltip": null,
            "layout": "IPY_MODEL_c89ae22086094da19573f0812867b638",
            "placeholder": "​",
            "style": "IPY_MODEL_654777de7a894033be98699c1fb6849b",
            "value": "tokenizer_config.json: 100%"
          }
        },
        "7784f4a34cde4dfc9666284e8e0aa8a9": {
          "model_module": "@jupyter-widgets/controls",
          "model_name": "FloatProgressModel",
          "model_module_version": "1.5.0",
          "state": {
            "_dom_classes": [],
            "_model_module": "@jupyter-widgets/controls",
            "_model_module_version": "1.5.0",
            "_model_name": "FloatProgressModel",
            "_view_count": null,
            "_view_module": "@jupyter-widgets/controls",
            "_view_module_version": "1.5.0",
            "_view_name": "ProgressView",
            "bar_style": "success",
            "description": "",
            "description_tooltip": null,
            "layout": "IPY_MODEL_e3a4820722874c0bb7633682333113bc",
            "max": 28,
            "min": 0,
            "orientation": "horizontal",
            "style": "IPY_MODEL_ed8a275b68eb446782b5fce31f424699",
            "value": 28
          }
        },
        "73ba33f522494b87b66290926181ead5": {
          "model_module": "@jupyter-widgets/controls",
          "model_name": "HTMLModel",
          "model_module_version": "1.5.0",
          "state": {
            "_dom_classes": [],
            "_model_module": "@jupyter-widgets/controls",
            "_model_module_version": "1.5.0",
            "_model_name": "HTMLModel",
            "_view_count": null,
            "_view_module": "@jupyter-widgets/controls",
            "_view_module_version": "1.5.0",
            "_view_name": "HTMLView",
            "description": "",
            "description_tooltip": null,
            "layout": "IPY_MODEL_2054450a35074b64a4a4b4adfda41bfb",
            "placeholder": "​",
            "style": "IPY_MODEL_913ac283518343c6873a029dc5fa4560",
            "value": " 28.0/28.0 [00:00&lt;00:00, 1.25kB/s]"
          }
        },
        "d69638e1cb9a4274bf06f871af1b2ac8": {
          "model_module": "@jupyter-widgets/base",
          "model_name": "LayoutModel",
          "model_module_version": "1.2.0",
          "state": {
            "_model_module": "@jupyter-widgets/base",
            "_model_module_version": "1.2.0",
            "_model_name": "LayoutModel",
            "_view_count": null,
            "_view_module": "@jupyter-widgets/base",
            "_view_module_version": "1.2.0",
            "_view_name": "LayoutView",
            "align_content": null,
            "align_items": null,
            "align_self": null,
            "border": null,
            "bottom": null,
            "display": null,
            "flex": null,
            "flex_flow": null,
            "grid_area": null,
            "grid_auto_columns": null,
            "grid_auto_flow": null,
            "grid_auto_rows": null,
            "grid_column": null,
            "grid_gap": null,
            "grid_row": null,
            "grid_template_areas": null,
            "grid_template_columns": null,
            "grid_template_rows": null,
            "height": null,
            "justify_content": null,
            "justify_items": null,
            "left": null,
            "margin": null,
            "max_height": null,
            "max_width": null,
            "min_height": null,
            "min_width": null,
            "object_fit": null,
            "object_position": null,
            "order": null,
            "overflow": null,
            "overflow_x": null,
            "overflow_y": null,
            "padding": null,
            "right": null,
            "top": null,
            "visibility": null,
            "width": null
          }
        },
        "c89ae22086094da19573f0812867b638": {
          "model_module": "@jupyter-widgets/base",
          "model_name": "LayoutModel",
          "model_module_version": "1.2.0",
          "state": {
            "_model_module": "@jupyter-widgets/base",
            "_model_module_version": "1.2.0",
            "_model_name": "LayoutModel",
            "_view_count": null,
            "_view_module": "@jupyter-widgets/base",
            "_view_module_version": "1.2.0",
            "_view_name": "LayoutView",
            "align_content": null,
            "align_items": null,
            "align_self": null,
            "border": null,
            "bottom": null,
            "display": null,
            "flex": null,
            "flex_flow": null,
            "grid_area": null,
            "grid_auto_columns": null,
            "grid_auto_flow": null,
            "grid_auto_rows": null,
            "grid_column": null,
            "grid_gap": null,
            "grid_row": null,
            "grid_template_areas": null,
            "grid_template_columns": null,
            "grid_template_rows": null,
            "height": null,
            "justify_content": null,
            "justify_items": null,
            "left": null,
            "margin": null,
            "max_height": null,
            "max_width": null,
            "min_height": null,
            "min_width": null,
            "object_fit": null,
            "object_position": null,
            "order": null,
            "overflow": null,
            "overflow_x": null,
            "overflow_y": null,
            "padding": null,
            "right": null,
            "top": null,
            "visibility": null,
            "width": null
          }
        },
        "654777de7a894033be98699c1fb6849b": {
          "model_module": "@jupyter-widgets/controls",
          "model_name": "DescriptionStyleModel",
          "model_module_version": "1.5.0",
          "state": {
            "_model_module": "@jupyter-widgets/controls",
            "_model_module_version": "1.5.0",
            "_model_name": "DescriptionStyleModel",
            "_view_count": null,
            "_view_module": "@jupyter-widgets/base",
            "_view_module_version": "1.2.0",
            "_view_name": "StyleView",
            "description_width": ""
          }
        },
        "e3a4820722874c0bb7633682333113bc": {
          "model_module": "@jupyter-widgets/base",
          "model_name": "LayoutModel",
          "model_module_version": "1.2.0",
          "state": {
            "_model_module": "@jupyter-widgets/base",
            "_model_module_version": "1.2.0",
            "_model_name": "LayoutModel",
            "_view_count": null,
            "_view_module": "@jupyter-widgets/base",
            "_view_module_version": "1.2.0",
            "_view_name": "LayoutView",
            "align_content": null,
            "align_items": null,
            "align_self": null,
            "border": null,
            "bottom": null,
            "display": null,
            "flex": null,
            "flex_flow": null,
            "grid_area": null,
            "grid_auto_columns": null,
            "grid_auto_flow": null,
            "grid_auto_rows": null,
            "grid_column": null,
            "grid_gap": null,
            "grid_row": null,
            "grid_template_areas": null,
            "grid_template_columns": null,
            "grid_template_rows": null,
            "height": null,
            "justify_content": null,
            "justify_items": null,
            "left": null,
            "margin": null,
            "max_height": null,
            "max_width": null,
            "min_height": null,
            "min_width": null,
            "object_fit": null,
            "object_position": null,
            "order": null,
            "overflow": null,
            "overflow_x": null,
            "overflow_y": null,
            "padding": null,
            "right": null,
            "top": null,
            "visibility": null,
            "width": null
          }
        },
        "ed8a275b68eb446782b5fce31f424699": {
          "model_module": "@jupyter-widgets/controls",
          "model_name": "ProgressStyleModel",
          "model_module_version": "1.5.0",
          "state": {
            "_model_module": "@jupyter-widgets/controls",
            "_model_module_version": "1.5.0",
            "_model_name": "ProgressStyleModel",
            "_view_count": null,
            "_view_module": "@jupyter-widgets/base",
            "_view_module_version": "1.2.0",
            "_view_name": "StyleView",
            "bar_color": null,
            "description_width": ""
          }
        },
        "2054450a35074b64a4a4b4adfda41bfb": {
          "model_module": "@jupyter-widgets/base",
          "model_name": "LayoutModel",
          "model_module_version": "1.2.0",
          "state": {
            "_model_module": "@jupyter-widgets/base",
            "_model_module_version": "1.2.0",
            "_model_name": "LayoutModel",
            "_view_count": null,
            "_view_module": "@jupyter-widgets/base",
            "_view_module_version": "1.2.0",
            "_view_name": "LayoutView",
            "align_content": null,
            "align_items": null,
            "align_self": null,
            "border": null,
            "bottom": null,
            "display": null,
            "flex": null,
            "flex_flow": null,
            "grid_area": null,
            "grid_auto_columns": null,
            "grid_auto_flow": null,
            "grid_auto_rows": null,
            "grid_column": null,
            "grid_gap": null,
            "grid_row": null,
            "grid_template_areas": null,
            "grid_template_columns": null,
            "grid_template_rows": null,
            "height": null,
            "justify_content": null,
            "justify_items": null,
            "left": null,
            "margin": null,
            "max_height": null,
            "max_width": null,
            "min_height": null,
            "min_width": null,
            "object_fit": null,
            "object_position": null,
            "order": null,
            "overflow": null,
            "overflow_x": null,
            "overflow_y": null,
            "padding": null,
            "right": null,
            "top": null,
            "visibility": null,
            "width": null
          }
        },
        "913ac283518343c6873a029dc5fa4560": {
          "model_module": "@jupyter-widgets/controls",
          "model_name": "DescriptionStyleModel",
          "model_module_version": "1.5.0",
          "state": {
            "_model_module": "@jupyter-widgets/controls",
            "_model_module_version": "1.5.0",
            "_model_name": "DescriptionStyleModel",
            "_view_count": null,
            "_view_module": "@jupyter-widgets/base",
            "_view_module_version": "1.2.0",
            "_view_name": "StyleView",
            "description_width": ""
          }
        },
        "acf5980dc11443ffa4ed224c8182658a": {
          "model_module": "@jupyter-widgets/controls",
          "model_name": "HBoxModel",
          "model_module_version": "1.5.0",
          "state": {
            "_dom_classes": [],
            "_model_module": "@jupyter-widgets/controls",
            "_model_module_version": "1.5.0",
            "_model_name": "HBoxModel",
            "_view_count": null,
            "_view_module": "@jupyter-widgets/controls",
            "_view_module_version": "1.5.0",
            "_view_name": "HBoxView",
            "box_style": "",
            "children": [
              "IPY_MODEL_d3c95aaa6062402285e91e186ad1e422",
              "IPY_MODEL_0251235f227b4dc99f7f52ee8be29253",
              "IPY_MODEL_d1a6b1ec33024a4cbc6c66436051324a"
            ],
            "layout": "IPY_MODEL_eae9a4f4a7eb480e8af223f490fb676a"
          }
        },
        "d3c95aaa6062402285e91e186ad1e422": {
          "model_module": "@jupyter-widgets/controls",
          "model_name": "HTMLModel",
          "model_module_version": "1.5.0",
          "state": {
            "_dom_classes": [],
            "_model_module": "@jupyter-widgets/controls",
            "_model_module_version": "1.5.0",
            "_model_name": "HTMLModel",
            "_view_count": null,
            "_view_module": "@jupyter-widgets/controls",
            "_view_module_version": "1.5.0",
            "_view_name": "HTMLView",
            "description": "",
            "description_tooltip": null,
            "layout": "IPY_MODEL_19553db0b4c94894a1b09fffd475393a",
            "placeholder": "​",
            "style": "IPY_MODEL_8019db6375274f8c8a8a615f0f02c4c3",
            "value": "vocab.txt: 100%"
          }
        },
        "0251235f227b4dc99f7f52ee8be29253": {
          "model_module": "@jupyter-widgets/controls",
          "model_name": "FloatProgressModel",
          "model_module_version": "1.5.0",
          "state": {
            "_dom_classes": [],
            "_model_module": "@jupyter-widgets/controls",
            "_model_module_version": "1.5.0",
            "_model_name": "FloatProgressModel",
            "_view_count": null,
            "_view_module": "@jupyter-widgets/controls",
            "_view_module_version": "1.5.0",
            "_view_name": "ProgressView",
            "bar_style": "success",
            "description": "",
            "description_tooltip": null,
            "layout": "IPY_MODEL_c3f4a460c37048f99c709e4d1b798aba",
            "max": 231508,
            "min": 0,
            "orientation": "horizontal",
            "style": "IPY_MODEL_0800b653e797476b9b2a51b728fee7f6",
            "value": 231508
          }
        },
        "d1a6b1ec33024a4cbc6c66436051324a": {
          "model_module": "@jupyter-widgets/controls",
          "model_name": "HTMLModel",
          "model_module_version": "1.5.0",
          "state": {
            "_dom_classes": [],
            "_model_module": "@jupyter-widgets/controls",
            "_model_module_version": "1.5.0",
            "_model_name": "HTMLModel",
            "_view_count": null,
            "_view_module": "@jupyter-widgets/controls",
            "_view_module_version": "1.5.0",
            "_view_name": "HTMLView",
            "description": "",
            "description_tooltip": null,
            "layout": "IPY_MODEL_b82d80cde0ce4a45ac676a60c2fa99a3",
            "placeholder": "​",
            "style": "IPY_MODEL_27f4f515158644ea80a1ce9800e576ad",
            "value": " 232k/232k [00:00&lt;00:00, 3.02MB/s]"
          }
        },
        "eae9a4f4a7eb480e8af223f490fb676a": {
          "model_module": "@jupyter-widgets/base",
          "model_name": "LayoutModel",
          "model_module_version": "1.2.0",
          "state": {
            "_model_module": "@jupyter-widgets/base",
            "_model_module_version": "1.2.0",
            "_model_name": "LayoutModel",
            "_view_count": null,
            "_view_module": "@jupyter-widgets/base",
            "_view_module_version": "1.2.0",
            "_view_name": "LayoutView",
            "align_content": null,
            "align_items": null,
            "align_self": null,
            "border": null,
            "bottom": null,
            "display": null,
            "flex": null,
            "flex_flow": null,
            "grid_area": null,
            "grid_auto_columns": null,
            "grid_auto_flow": null,
            "grid_auto_rows": null,
            "grid_column": null,
            "grid_gap": null,
            "grid_row": null,
            "grid_template_areas": null,
            "grid_template_columns": null,
            "grid_template_rows": null,
            "height": null,
            "justify_content": null,
            "justify_items": null,
            "left": null,
            "margin": null,
            "max_height": null,
            "max_width": null,
            "min_height": null,
            "min_width": null,
            "object_fit": null,
            "object_position": null,
            "order": null,
            "overflow": null,
            "overflow_x": null,
            "overflow_y": null,
            "padding": null,
            "right": null,
            "top": null,
            "visibility": null,
            "width": null
          }
        },
        "19553db0b4c94894a1b09fffd475393a": {
          "model_module": "@jupyter-widgets/base",
          "model_name": "LayoutModel",
          "model_module_version": "1.2.0",
          "state": {
            "_model_module": "@jupyter-widgets/base",
            "_model_module_version": "1.2.0",
            "_model_name": "LayoutModel",
            "_view_count": null,
            "_view_module": "@jupyter-widgets/base",
            "_view_module_version": "1.2.0",
            "_view_name": "LayoutView",
            "align_content": null,
            "align_items": null,
            "align_self": null,
            "border": null,
            "bottom": null,
            "display": null,
            "flex": null,
            "flex_flow": null,
            "grid_area": null,
            "grid_auto_columns": null,
            "grid_auto_flow": null,
            "grid_auto_rows": null,
            "grid_column": null,
            "grid_gap": null,
            "grid_row": null,
            "grid_template_areas": null,
            "grid_template_columns": null,
            "grid_template_rows": null,
            "height": null,
            "justify_content": null,
            "justify_items": null,
            "left": null,
            "margin": null,
            "max_height": null,
            "max_width": null,
            "min_height": null,
            "min_width": null,
            "object_fit": null,
            "object_position": null,
            "order": null,
            "overflow": null,
            "overflow_x": null,
            "overflow_y": null,
            "padding": null,
            "right": null,
            "top": null,
            "visibility": null,
            "width": null
          }
        },
        "8019db6375274f8c8a8a615f0f02c4c3": {
          "model_module": "@jupyter-widgets/controls",
          "model_name": "DescriptionStyleModel",
          "model_module_version": "1.5.0",
          "state": {
            "_model_module": "@jupyter-widgets/controls",
            "_model_module_version": "1.5.0",
            "_model_name": "DescriptionStyleModel",
            "_view_count": null,
            "_view_module": "@jupyter-widgets/base",
            "_view_module_version": "1.2.0",
            "_view_name": "StyleView",
            "description_width": ""
          }
        },
        "c3f4a460c37048f99c709e4d1b798aba": {
          "model_module": "@jupyter-widgets/base",
          "model_name": "LayoutModel",
          "model_module_version": "1.2.0",
          "state": {
            "_model_module": "@jupyter-widgets/base",
            "_model_module_version": "1.2.0",
            "_model_name": "LayoutModel",
            "_view_count": null,
            "_view_module": "@jupyter-widgets/base",
            "_view_module_version": "1.2.0",
            "_view_name": "LayoutView",
            "align_content": null,
            "align_items": null,
            "align_self": null,
            "border": null,
            "bottom": null,
            "display": null,
            "flex": null,
            "flex_flow": null,
            "grid_area": null,
            "grid_auto_columns": null,
            "grid_auto_flow": null,
            "grid_auto_rows": null,
            "grid_column": null,
            "grid_gap": null,
            "grid_row": null,
            "grid_template_areas": null,
            "grid_template_columns": null,
            "grid_template_rows": null,
            "height": null,
            "justify_content": null,
            "justify_items": null,
            "left": null,
            "margin": null,
            "max_height": null,
            "max_width": null,
            "min_height": null,
            "min_width": null,
            "object_fit": null,
            "object_position": null,
            "order": null,
            "overflow": null,
            "overflow_x": null,
            "overflow_y": null,
            "padding": null,
            "right": null,
            "top": null,
            "visibility": null,
            "width": null
          }
        },
        "0800b653e797476b9b2a51b728fee7f6": {
          "model_module": "@jupyter-widgets/controls",
          "model_name": "ProgressStyleModel",
          "model_module_version": "1.5.0",
          "state": {
            "_model_module": "@jupyter-widgets/controls",
            "_model_module_version": "1.5.0",
            "_model_name": "ProgressStyleModel",
            "_view_count": null,
            "_view_module": "@jupyter-widgets/base",
            "_view_module_version": "1.2.0",
            "_view_name": "StyleView",
            "bar_color": null,
            "description_width": ""
          }
        },
        "b82d80cde0ce4a45ac676a60c2fa99a3": {
          "model_module": "@jupyter-widgets/base",
          "model_name": "LayoutModel",
          "model_module_version": "1.2.0",
          "state": {
            "_model_module": "@jupyter-widgets/base",
            "_model_module_version": "1.2.0",
            "_model_name": "LayoutModel",
            "_view_count": null,
            "_view_module": "@jupyter-widgets/base",
            "_view_module_version": "1.2.0",
            "_view_name": "LayoutView",
            "align_content": null,
            "align_items": null,
            "align_self": null,
            "border": null,
            "bottom": null,
            "display": null,
            "flex": null,
            "flex_flow": null,
            "grid_area": null,
            "grid_auto_columns": null,
            "grid_auto_flow": null,
            "grid_auto_rows": null,
            "grid_column": null,
            "grid_gap": null,
            "grid_row": null,
            "grid_template_areas": null,
            "grid_template_columns": null,
            "grid_template_rows": null,
            "height": null,
            "justify_content": null,
            "justify_items": null,
            "left": null,
            "margin": null,
            "max_height": null,
            "max_width": null,
            "min_height": null,
            "min_width": null,
            "object_fit": null,
            "object_position": null,
            "order": null,
            "overflow": null,
            "overflow_x": null,
            "overflow_y": null,
            "padding": null,
            "right": null,
            "top": null,
            "visibility": null,
            "width": null
          }
        },
        "27f4f515158644ea80a1ce9800e576ad": {
          "model_module": "@jupyter-widgets/controls",
          "model_name": "DescriptionStyleModel",
          "model_module_version": "1.5.0",
          "state": {
            "_model_module": "@jupyter-widgets/controls",
            "_model_module_version": "1.5.0",
            "_model_name": "DescriptionStyleModel",
            "_view_count": null,
            "_view_module": "@jupyter-widgets/base",
            "_view_module_version": "1.2.0",
            "_view_name": "StyleView",
            "description_width": ""
          }
        },
        "0edb182e8e8245759df68e9953d254cf": {
          "model_module": "@jupyter-widgets/controls",
          "model_name": "HBoxModel",
          "model_module_version": "1.5.0",
          "state": {
            "_dom_classes": [],
            "_model_module": "@jupyter-widgets/controls",
            "_model_module_version": "1.5.0",
            "_model_name": "HBoxModel",
            "_view_count": null,
            "_view_module": "@jupyter-widgets/controls",
            "_view_module_version": "1.5.0",
            "_view_name": "HBoxView",
            "box_style": "",
            "children": [
              "IPY_MODEL_eaed358f010645f9bce7229ac3269b19",
              "IPY_MODEL_1853f66dcfa843c7b062d1c7166982e2",
              "IPY_MODEL_46f878a34c254169a0d0dba55d2c1c3b"
            ],
            "layout": "IPY_MODEL_bd0d18dff93749358f5d0ea70b45a0bd"
          }
        },
        "eaed358f010645f9bce7229ac3269b19": {
          "model_module": "@jupyter-widgets/controls",
          "model_name": "HTMLModel",
          "model_module_version": "1.5.0",
          "state": {
            "_dom_classes": [],
            "_model_module": "@jupyter-widgets/controls",
            "_model_module_version": "1.5.0",
            "_model_name": "HTMLModel",
            "_view_count": null,
            "_view_module": "@jupyter-widgets/controls",
            "_view_module_version": "1.5.0",
            "_view_name": "HTMLView",
            "description": "",
            "description_tooltip": null,
            "layout": "IPY_MODEL_a450c95073024add9bbc4cf60718ddef",
            "placeholder": "​",
            "style": "IPY_MODEL_a74bd7df2ae34c91ad77607ceafc7337",
            "value": "tokenizer.json: 100%"
          }
        },
        "1853f66dcfa843c7b062d1c7166982e2": {
          "model_module": "@jupyter-widgets/controls",
          "model_name": "FloatProgressModel",
          "model_module_version": "1.5.0",
          "state": {
            "_dom_classes": [],
            "_model_module": "@jupyter-widgets/controls",
            "_model_module_version": "1.5.0",
            "_model_name": "FloatProgressModel",
            "_view_count": null,
            "_view_module": "@jupyter-widgets/controls",
            "_view_module_version": "1.5.0",
            "_view_name": "ProgressView",
            "bar_style": "success",
            "description": "",
            "description_tooltip": null,
            "layout": "IPY_MODEL_b0888c0f822f4e8f872333a6d80bffae",
            "max": 466062,
            "min": 0,
            "orientation": "horizontal",
            "style": "IPY_MODEL_959106b1dbf74528b2c8a8e8ef1f3753",
            "value": 466062
          }
        },
        "46f878a34c254169a0d0dba55d2c1c3b": {
          "model_module": "@jupyter-widgets/controls",
          "model_name": "HTMLModel",
          "model_module_version": "1.5.0",
          "state": {
            "_dom_classes": [],
            "_model_module": "@jupyter-widgets/controls",
            "_model_module_version": "1.5.0",
            "_model_name": "HTMLModel",
            "_view_count": null,
            "_view_module": "@jupyter-widgets/controls",
            "_view_module_version": "1.5.0",
            "_view_name": "HTMLView",
            "description": "",
            "description_tooltip": null,
            "layout": "IPY_MODEL_26df9ca95c3d41219a5ea788b08b74a4",
            "placeholder": "​",
            "style": "IPY_MODEL_b2fa306d5f404824acbb1f53faac4521",
            "value": " 466k/466k [00:00&lt;00:00, 3.60MB/s]"
          }
        },
        "bd0d18dff93749358f5d0ea70b45a0bd": {
          "model_module": "@jupyter-widgets/base",
          "model_name": "LayoutModel",
          "model_module_version": "1.2.0",
          "state": {
            "_model_module": "@jupyter-widgets/base",
            "_model_module_version": "1.2.0",
            "_model_name": "LayoutModel",
            "_view_count": null,
            "_view_module": "@jupyter-widgets/base",
            "_view_module_version": "1.2.0",
            "_view_name": "LayoutView",
            "align_content": null,
            "align_items": null,
            "align_self": null,
            "border": null,
            "bottom": null,
            "display": null,
            "flex": null,
            "flex_flow": null,
            "grid_area": null,
            "grid_auto_columns": null,
            "grid_auto_flow": null,
            "grid_auto_rows": null,
            "grid_column": null,
            "grid_gap": null,
            "grid_row": null,
            "grid_template_areas": null,
            "grid_template_columns": null,
            "grid_template_rows": null,
            "height": null,
            "justify_content": null,
            "justify_items": null,
            "left": null,
            "margin": null,
            "max_height": null,
            "max_width": null,
            "min_height": null,
            "min_width": null,
            "object_fit": null,
            "object_position": null,
            "order": null,
            "overflow": null,
            "overflow_x": null,
            "overflow_y": null,
            "padding": null,
            "right": null,
            "top": null,
            "visibility": null,
            "width": null
          }
        },
        "a450c95073024add9bbc4cf60718ddef": {
          "model_module": "@jupyter-widgets/base",
          "model_name": "LayoutModel",
          "model_module_version": "1.2.0",
          "state": {
            "_model_module": "@jupyter-widgets/base",
            "_model_module_version": "1.2.0",
            "_model_name": "LayoutModel",
            "_view_count": null,
            "_view_module": "@jupyter-widgets/base",
            "_view_module_version": "1.2.0",
            "_view_name": "LayoutView",
            "align_content": null,
            "align_items": null,
            "align_self": null,
            "border": null,
            "bottom": null,
            "display": null,
            "flex": null,
            "flex_flow": null,
            "grid_area": null,
            "grid_auto_columns": null,
            "grid_auto_flow": null,
            "grid_auto_rows": null,
            "grid_column": null,
            "grid_gap": null,
            "grid_row": null,
            "grid_template_areas": null,
            "grid_template_columns": null,
            "grid_template_rows": null,
            "height": null,
            "justify_content": null,
            "justify_items": null,
            "left": null,
            "margin": null,
            "max_height": null,
            "max_width": null,
            "min_height": null,
            "min_width": null,
            "object_fit": null,
            "object_position": null,
            "order": null,
            "overflow": null,
            "overflow_x": null,
            "overflow_y": null,
            "padding": null,
            "right": null,
            "top": null,
            "visibility": null,
            "width": null
          }
        },
        "a74bd7df2ae34c91ad77607ceafc7337": {
          "model_module": "@jupyter-widgets/controls",
          "model_name": "DescriptionStyleModel",
          "model_module_version": "1.5.0",
          "state": {
            "_model_module": "@jupyter-widgets/controls",
            "_model_module_version": "1.5.0",
            "_model_name": "DescriptionStyleModel",
            "_view_count": null,
            "_view_module": "@jupyter-widgets/base",
            "_view_module_version": "1.2.0",
            "_view_name": "StyleView",
            "description_width": ""
          }
        },
        "b0888c0f822f4e8f872333a6d80bffae": {
          "model_module": "@jupyter-widgets/base",
          "model_name": "LayoutModel",
          "model_module_version": "1.2.0",
          "state": {
            "_model_module": "@jupyter-widgets/base",
            "_model_module_version": "1.2.0",
            "_model_name": "LayoutModel",
            "_view_count": null,
            "_view_module": "@jupyter-widgets/base",
            "_view_module_version": "1.2.0",
            "_view_name": "LayoutView",
            "align_content": null,
            "align_items": null,
            "align_self": null,
            "border": null,
            "bottom": null,
            "display": null,
            "flex": null,
            "flex_flow": null,
            "grid_area": null,
            "grid_auto_columns": null,
            "grid_auto_flow": null,
            "grid_auto_rows": null,
            "grid_column": null,
            "grid_gap": null,
            "grid_row": null,
            "grid_template_areas": null,
            "grid_template_columns": null,
            "grid_template_rows": null,
            "height": null,
            "justify_content": null,
            "justify_items": null,
            "left": null,
            "margin": null,
            "max_height": null,
            "max_width": null,
            "min_height": null,
            "min_width": null,
            "object_fit": null,
            "object_position": null,
            "order": null,
            "overflow": null,
            "overflow_x": null,
            "overflow_y": null,
            "padding": null,
            "right": null,
            "top": null,
            "visibility": null,
            "width": null
          }
        },
        "959106b1dbf74528b2c8a8e8ef1f3753": {
          "model_module": "@jupyter-widgets/controls",
          "model_name": "ProgressStyleModel",
          "model_module_version": "1.5.0",
          "state": {
            "_model_module": "@jupyter-widgets/controls",
            "_model_module_version": "1.5.0",
            "_model_name": "ProgressStyleModel",
            "_view_count": null,
            "_view_module": "@jupyter-widgets/base",
            "_view_module_version": "1.2.0",
            "_view_name": "StyleView",
            "bar_color": null,
            "description_width": ""
          }
        },
        "26df9ca95c3d41219a5ea788b08b74a4": {
          "model_module": "@jupyter-widgets/base",
          "model_name": "LayoutModel",
          "model_module_version": "1.2.0",
          "state": {
            "_model_module": "@jupyter-widgets/base",
            "_model_module_version": "1.2.0",
            "_model_name": "LayoutModel",
            "_view_count": null,
            "_view_module": "@jupyter-widgets/base",
            "_view_module_version": "1.2.0",
            "_view_name": "LayoutView",
            "align_content": null,
            "align_items": null,
            "align_self": null,
            "border": null,
            "bottom": null,
            "display": null,
            "flex": null,
            "flex_flow": null,
            "grid_area": null,
            "grid_auto_columns": null,
            "grid_auto_flow": null,
            "grid_auto_rows": null,
            "grid_column": null,
            "grid_gap": null,
            "grid_row": null,
            "grid_template_areas": null,
            "grid_template_columns": null,
            "grid_template_rows": null,
            "height": null,
            "justify_content": null,
            "justify_items": null,
            "left": null,
            "margin": null,
            "max_height": null,
            "max_width": null,
            "min_height": null,
            "min_width": null,
            "object_fit": null,
            "object_position": null,
            "order": null,
            "overflow": null,
            "overflow_x": null,
            "overflow_y": null,
            "padding": null,
            "right": null,
            "top": null,
            "visibility": null,
            "width": null
          }
        },
        "b2fa306d5f404824acbb1f53faac4521": {
          "model_module": "@jupyter-widgets/controls",
          "model_name": "DescriptionStyleModel",
          "model_module_version": "1.5.0",
          "state": {
            "_model_module": "@jupyter-widgets/controls",
            "_model_module_version": "1.5.0",
            "_model_name": "DescriptionStyleModel",
            "_view_count": null,
            "_view_module": "@jupyter-widgets/base",
            "_view_module_version": "1.2.0",
            "_view_name": "StyleView",
            "description_width": ""
          }
        },
        "3a9a2898b61540ca8e4d54fb1c58a693": {
          "model_module": "@jupyter-widgets/controls",
          "model_name": "HBoxModel",
          "model_module_version": "1.5.0",
          "state": {
            "_dom_classes": [],
            "_model_module": "@jupyter-widgets/controls",
            "_model_module_version": "1.5.0",
            "_model_name": "HBoxModel",
            "_view_count": null,
            "_view_module": "@jupyter-widgets/controls",
            "_view_module_version": "1.5.0",
            "_view_name": "HBoxView",
            "box_style": "",
            "children": [
              "IPY_MODEL_649beff4ac9e4365822829492dec7368",
              "IPY_MODEL_9be6e82159874c8b968134b8a9fef95c",
              "IPY_MODEL_80667657435046f3a66d2bf43d5666db"
            ],
            "layout": "IPY_MODEL_5edaaddeead3453da72830879f3d37cb"
          }
        },
        "649beff4ac9e4365822829492dec7368": {
          "model_module": "@jupyter-widgets/controls",
          "model_name": "HTMLModel",
          "model_module_version": "1.5.0",
          "state": {
            "_dom_classes": [],
            "_model_module": "@jupyter-widgets/controls",
            "_model_module_version": "1.5.0",
            "_model_name": "HTMLModel",
            "_view_count": null,
            "_view_module": "@jupyter-widgets/controls",
            "_view_module_version": "1.5.0",
            "_view_name": "HTMLView",
            "description": "",
            "description_tooltip": null,
            "layout": "IPY_MODEL_01c0b20973f442f5a0078ffc554ff8ff",
            "placeholder": "​",
            "style": "IPY_MODEL_4b2da41d40fa4034a13641fdd79ca932",
            "value": "config.json: 100%"
          }
        },
        "9be6e82159874c8b968134b8a9fef95c": {
          "model_module": "@jupyter-widgets/controls",
          "model_name": "FloatProgressModel",
          "model_module_version": "1.5.0",
          "state": {
            "_dom_classes": [],
            "_model_module": "@jupyter-widgets/controls",
            "_model_module_version": "1.5.0",
            "_model_name": "FloatProgressModel",
            "_view_count": null,
            "_view_module": "@jupyter-widgets/controls",
            "_view_module_version": "1.5.0",
            "_view_name": "ProgressView",
            "bar_style": "success",
            "description": "",
            "description_tooltip": null,
            "layout": "IPY_MODEL_27b08e23904a43979f0d9135fffb8ecf",
            "max": 570,
            "min": 0,
            "orientation": "horizontal",
            "style": "IPY_MODEL_81f49c1697114c98b781c112babf2caa",
            "value": 570
          }
        },
        "80667657435046f3a66d2bf43d5666db": {
          "model_module": "@jupyter-widgets/controls",
          "model_name": "HTMLModel",
          "model_module_version": "1.5.0",
          "state": {
            "_dom_classes": [],
            "_model_module": "@jupyter-widgets/controls",
            "_model_module_version": "1.5.0",
            "_model_name": "HTMLModel",
            "_view_count": null,
            "_view_module": "@jupyter-widgets/controls",
            "_view_module_version": "1.5.0",
            "_view_name": "HTMLView",
            "description": "",
            "description_tooltip": null,
            "layout": "IPY_MODEL_f49cf68120ea4b96b10cfe751a7ed032",
            "placeholder": "​",
            "style": "IPY_MODEL_816a2271bc2040acbef87c985f2c68e4",
            "value": " 570/570 [00:00&lt;00:00, 36.3kB/s]"
          }
        },
        "5edaaddeead3453da72830879f3d37cb": {
          "model_module": "@jupyter-widgets/base",
          "model_name": "LayoutModel",
          "model_module_version": "1.2.0",
          "state": {
            "_model_module": "@jupyter-widgets/base",
            "_model_module_version": "1.2.0",
            "_model_name": "LayoutModel",
            "_view_count": null,
            "_view_module": "@jupyter-widgets/base",
            "_view_module_version": "1.2.0",
            "_view_name": "LayoutView",
            "align_content": null,
            "align_items": null,
            "align_self": null,
            "border": null,
            "bottom": null,
            "display": null,
            "flex": null,
            "flex_flow": null,
            "grid_area": null,
            "grid_auto_columns": null,
            "grid_auto_flow": null,
            "grid_auto_rows": null,
            "grid_column": null,
            "grid_gap": null,
            "grid_row": null,
            "grid_template_areas": null,
            "grid_template_columns": null,
            "grid_template_rows": null,
            "height": null,
            "justify_content": null,
            "justify_items": null,
            "left": null,
            "margin": null,
            "max_height": null,
            "max_width": null,
            "min_height": null,
            "min_width": null,
            "object_fit": null,
            "object_position": null,
            "order": null,
            "overflow": null,
            "overflow_x": null,
            "overflow_y": null,
            "padding": null,
            "right": null,
            "top": null,
            "visibility": null,
            "width": null
          }
        },
        "01c0b20973f442f5a0078ffc554ff8ff": {
          "model_module": "@jupyter-widgets/base",
          "model_name": "LayoutModel",
          "model_module_version": "1.2.0",
          "state": {
            "_model_module": "@jupyter-widgets/base",
            "_model_module_version": "1.2.0",
            "_model_name": "LayoutModel",
            "_view_count": null,
            "_view_module": "@jupyter-widgets/base",
            "_view_module_version": "1.2.0",
            "_view_name": "LayoutView",
            "align_content": null,
            "align_items": null,
            "align_self": null,
            "border": null,
            "bottom": null,
            "display": null,
            "flex": null,
            "flex_flow": null,
            "grid_area": null,
            "grid_auto_columns": null,
            "grid_auto_flow": null,
            "grid_auto_rows": null,
            "grid_column": null,
            "grid_gap": null,
            "grid_row": null,
            "grid_template_areas": null,
            "grid_template_columns": null,
            "grid_template_rows": null,
            "height": null,
            "justify_content": null,
            "justify_items": null,
            "left": null,
            "margin": null,
            "max_height": null,
            "max_width": null,
            "min_height": null,
            "min_width": null,
            "object_fit": null,
            "object_position": null,
            "order": null,
            "overflow": null,
            "overflow_x": null,
            "overflow_y": null,
            "padding": null,
            "right": null,
            "top": null,
            "visibility": null,
            "width": null
          }
        },
        "4b2da41d40fa4034a13641fdd79ca932": {
          "model_module": "@jupyter-widgets/controls",
          "model_name": "DescriptionStyleModel",
          "model_module_version": "1.5.0",
          "state": {
            "_model_module": "@jupyter-widgets/controls",
            "_model_module_version": "1.5.0",
            "_model_name": "DescriptionStyleModel",
            "_view_count": null,
            "_view_module": "@jupyter-widgets/base",
            "_view_module_version": "1.2.0",
            "_view_name": "StyleView",
            "description_width": ""
          }
        },
        "27b08e23904a43979f0d9135fffb8ecf": {
          "model_module": "@jupyter-widgets/base",
          "model_name": "LayoutModel",
          "model_module_version": "1.2.0",
          "state": {
            "_model_module": "@jupyter-widgets/base",
            "_model_module_version": "1.2.0",
            "_model_name": "LayoutModel",
            "_view_count": null,
            "_view_module": "@jupyter-widgets/base",
            "_view_module_version": "1.2.0",
            "_view_name": "LayoutView",
            "align_content": null,
            "align_items": null,
            "align_self": null,
            "border": null,
            "bottom": null,
            "display": null,
            "flex": null,
            "flex_flow": null,
            "grid_area": null,
            "grid_auto_columns": null,
            "grid_auto_flow": null,
            "grid_auto_rows": null,
            "grid_column": null,
            "grid_gap": null,
            "grid_row": null,
            "grid_template_areas": null,
            "grid_template_columns": null,
            "grid_template_rows": null,
            "height": null,
            "justify_content": null,
            "justify_items": null,
            "left": null,
            "margin": null,
            "max_height": null,
            "max_width": null,
            "min_height": null,
            "min_width": null,
            "object_fit": null,
            "object_position": null,
            "order": null,
            "overflow": null,
            "overflow_x": null,
            "overflow_y": null,
            "padding": null,
            "right": null,
            "top": null,
            "visibility": null,
            "width": null
          }
        },
        "81f49c1697114c98b781c112babf2caa": {
          "model_module": "@jupyter-widgets/controls",
          "model_name": "ProgressStyleModel",
          "model_module_version": "1.5.0",
          "state": {
            "_model_module": "@jupyter-widgets/controls",
            "_model_module_version": "1.5.0",
            "_model_name": "ProgressStyleModel",
            "_view_count": null,
            "_view_module": "@jupyter-widgets/base",
            "_view_module_version": "1.2.0",
            "_view_name": "StyleView",
            "bar_color": null,
            "description_width": ""
          }
        },
        "f49cf68120ea4b96b10cfe751a7ed032": {
          "model_module": "@jupyter-widgets/base",
          "model_name": "LayoutModel",
          "model_module_version": "1.2.0",
          "state": {
            "_model_module": "@jupyter-widgets/base",
            "_model_module_version": "1.2.0",
            "_model_name": "LayoutModel",
            "_view_count": null,
            "_view_module": "@jupyter-widgets/base",
            "_view_module_version": "1.2.0",
            "_view_name": "LayoutView",
            "align_content": null,
            "align_items": null,
            "align_self": null,
            "border": null,
            "bottom": null,
            "display": null,
            "flex": null,
            "flex_flow": null,
            "grid_area": null,
            "grid_auto_columns": null,
            "grid_auto_flow": null,
            "grid_auto_rows": null,
            "grid_column": null,
            "grid_gap": null,
            "grid_row": null,
            "grid_template_areas": null,
            "grid_template_columns": null,
            "grid_template_rows": null,
            "height": null,
            "justify_content": null,
            "justify_items": null,
            "left": null,
            "margin": null,
            "max_height": null,
            "max_width": null,
            "min_height": null,
            "min_width": null,
            "object_fit": null,
            "object_position": null,
            "order": null,
            "overflow": null,
            "overflow_x": null,
            "overflow_y": null,
            "padding": null,
            "right": null,
            "top": null,
            "visibility": null,
            "width": null
          }
        },
        "816a2271bc2040acbef87c985f2c68e4": {
          "model_module": "@jupyter-widgets/controls",
          "model_name": "DescriptionStyleModel",
          "model_module_version": "1.5.0",
          "state": {
            "_model_module": "@jupyter-widgets/controls",
            "_model_module_version": "1.5.0",
            "_model_name": "DescriptionStyleModel",
            "_view_count": null,
            "_view_module": "@jupyter-widgets/base",
            "_view_module_version": "1.2.0",
            "_view_name": "StyleView",
            "description_width": ""
          }
        },
        "8f3854a5e0ed4da192eddded721235f0": {
          "model_module": "@jupyter-widgets/controls",
          "model_name": "HBoxModel",
          "model_module_version": "1.5.0",
          "state": {
            "_dom_classes": [],
            "_model_module": "@jupyter-widgets/controls",
            "_model_module_version": "1.5.0",
            "_model_name": "HBoxModel",
            "_view_count": null,
            "_view_module": "@jupyter-widgets/controls",
            "_view_module_version": "1.5.0",
            "_view_name": "HBoxView",
            "box_style": "",
            "children": [
              "IPY_MODEL_2019343ffdac4644b786668450657b1f",
              "IPY_MODEL_d0676ad54e0f4683817c346734e53620",
              "IPY_MODEL_9a607a70363e4dd586c6719b80563bd3"
            ],
            "layout": "IPY_MODEL_6edf2095407f41b7abd57f2aa999d0ca"
          }
        },
        "2019343ffdac4644b786668450657b1f": {
          "model_module": "@jupyter-widgets/controls",
          "model_name": "HTMLModel",
          "model_module_version": "1.5.0",
          "state": {
            "_dom_classes": [],
            "_model_module": "@jupyter-widgets/controls",
            "_model_module_version": "1.5.0",
            "_model_name": "HTMLModel",
            "_view_count": null,
            "_view_module": "@jupyter-widgets/controls",
            "_view_module_version": "1.5.0",
            "_view_name": "HTMLView",
            "description": "",
            "description_tooltip": null,
            "layout": "IPY_MODEL_8b8691100b7e47d6a7f5c025dae4343d",
            "placeholder": "​",
            "style": "IPY_MODEL_2ee38fe9c95c4b5e9d5e06b37cf5573b",
            "value": "model.safetensors: 100%"
          }
        },
        "d0676ad54e0f4683817c346734e53620": {
          "model_module": "@jupyter-widgets/controls",
          "model_name": "FloatProgressModel",
          "model_module_version": "1.5.0",
          "state": {
            "_dom_classes": [],
            "_model_module": "@jupyter-widgets/controls",
            "_model_module_version": "1.5.0",
            "_model_name": "FloatProgressModel",
            "_view_count": null,
            "_view_module": "@jupyter-widgets/controls",
            "_view_module_version": "1.5.0",
            "_view_name": "ProgressView",
            "bar_style": "success",
            "description": "",
            "description_tooltip": null,
            "layout": "IPY_MODEL_2648f54c02d749988c7e5ef9bcca87e8",
            "max": 440449768,
            "min": 0,
            "orientation": "horizontal",
            "style": "IPY_MODEL_71278c2d5cf54b9cb45ebc6d106c8e90",
            "value": 440449768
          }
        },
        "9a607a70363e4dd586c6719b80563bd3": {
          "model_module": "@jupyter-widgets/controls",
          "model_name": "HTMLModel",
          "model_module_version": "1.5.0",
          "state": {
            "_dom_classes": [],
            "_model_module": "@jupyter-widgets/controls",
            "_model_module_version": "1.5.0",
            "_model_name": "HTMLModel",
            "_view_count": null,
            "_view_module": "@jupyter-widgets/controls",
            "_view_module_version": "1.5.0",
            "_view_name": "HTMLView",
            "description": "",
            "description_tooltip": null,
            "layout": "IPY_MODEL_dc94251a766a4b00954af98112cb5d09",
            "placeholder": "​",
            "style": "IPY_MODEL_7c866623c3da493d82ca9eee4db23048",
            "value": " 440M/440M [00:05&lt;00:00, 66.2MB/s]"
          }
        },
        "6edf2095407f41b7abd57f2aa999d0ca": {
          "model_module": "@jupyter-widgets/base",
          "model_name": "LayoutModel",
          "model_module_version": "1.2.0",
          "state": {
            "_model_module": "@jupyter-widgets/base",
            "_model_module_version": "1.2.0",
            "_model_name": "LayoutModel",
            "_view_count": null,
            "_view_module": "@jupyter-widgets/base",
            "_view_module_version": "1.2.0",
            "_view_name": "LayoutView",
            "align_content": null,
            "align_items": null,
            "align_self": null,
            "border": null,
            "bottom": null,
            "display": null,
            "flex": null,
            "flex_flow": null,
            "grid_area": null,
            "grid_auto_columns": null,
            "grid_auto_flow": null,
            "grid_auto_rows": null,
            "grid_column": null,
            "grid_gap": null,
            "grid_row": null,
            "grid_template_areas": null,
            "grid_template_columns": null,
            "grid_template_rows": null,
            "height": null,
            "justify_content": null,
            "justify_items": null,
            "left": null,
            "margin": null,
            "max_height": null,
            "max_width": null,
            "min_height": null,
            "min_width": null,
            "object_fit": null,
            "object_position": null,
            "order": null,
            "overflow": null,
            "overflow_x": null,
            "overflow_y": null,
            "padding": null,
            "right": null,
            "top": null,
            "visibility": null,
            "width": null
          }
        },
        "8b8691100b7e47d6a7f5c025dae4343d": {
          "model_module": "@jupyter-widgets/base",
          "model_name": "LayoutModel",
          "model_module_version": "1.2.0",
          "state": {
            "_model_module": "@jupyter-widgets/base",
            "_model_module_version": "1.2.0",
            "_model_name": "LayoutModel",
            "_view_count": null,
            "_view_module": "@jupyter-widgets/base",
            "_view_module_version": "1.2.0",
            "_view_name": "LayoutView",
            "align_content": null,
            "align_items": null,
            "align_self": null,
            "border": null,
            "bottom": null,
            "display": null,
            "flex": null,
            "flex_flow": null,
            "grid_area": null,
            "grid_auto_columns": null,
            "grid_auto_flow": null,
            "grid_auto_rows": null,
            "grid_column": null,
            "grid_gap": null,
            "grid_row": null,
            "grid_template_areas": null,
            "grid_template_columns": null,
            "grid_template_rows": null,
            "height": null,
            "justify_content": null,
            "justify_items": null,
            "left": null,
            "margin": null,
            "max_height": null,
            "max_width": null,
            "min_height": null,
            "min_width": null,
            "object_fit": null,
            "object_position": null,
            "order": null,
            "overflow": null,
            "overflow_x": null,
            "overflow_y": null,
            "padding": null,
            "right": null,
            "top": null,
            "visibility": null,
            "width": null
          }
        },
        "2ee38fe9c95c4b5e9d5e06b37cf5573b": {
          "model_module": "@jupyter-widgets/controls",
          "model_name": "DescriptionStyleModel",
          "model_module_version": "1.5.0",
          "state": {
            "_model_module": "@jupyter-widgets/controls",
            "_model_module_version": "1.5.0",
            "_model_name": "DescriptionStyleModel",
            "_view_count": null,
            "_view_module": "@jupyter-widgets/base",
            "_view_module_version": "1.2.0",
            "_view_name": "StyleView",
            "description_width": ""
          }
        },
        "2648f54c02d749988c7e5ef9bcca87e8": {
          "model_module": "@jupyter-widgets/base",
          "model_name": "LayoutModel",
          "model_module_version": "1.2.0",
          "state": {
            "_model_module": "@jupyter-widgets/base",
            "_model_module_version": "1.2.0",
            "_model_name": "LayoutModel",
            "_view_count": null,
            "_view_module": "@jupyter-widgets/base",
            "_view_module_version": "1.2.0",
            "_view_name": "LayoutView",
            "align_content": null,
            "align_items": null,
            "align_self": null,
            "border": null,
            "bottom": null,
            "display": null,
            "flex": null,
            "flex_flow": null,
            "grid_area": null,
            "grid_auto_columns": null,
            "grid_auto_flow": null,
            "grid_auto_rows": null,
            "grid_column": null,
            "grid_gap": null,
            "grid_row": null,
            "grid_template_areas": null,
            "grid_template_columns": null,
            "grid_template_rows": null,
            "height": null,
            "justify_content": null,
            "justify_items": null,
            "left": null,
            "margin": null,
            "max_height": null,
            "max_width": null,
            "min_height": null,
            "min_width": null,
            "object_fit": null,
            "object_position": null,
            "order": null,
            "overflow": null,
            "overflow_x": null,
            "overflow_y": null,
            "padding": null,
            "right": null,
            "top": null,
            "visibility": null,
            "width": null
          }
        },
        "71278c2d5cf54b9cb45ebc6d106c8e90": {
          "model_module": "@jupyter-widgets/controls",
          "model_name": "ProgressStyleModel",
          "model_module_version": "1.5.0",
          "state": {
            "_model_module": "@jupyter-widgets/controls",
            "_model_module_version": "1.5.0",
            "_model_name": "ProgressStyleModel",
            "_view_count": null,
            "_view_module": "@jupyter-widgets/base",
            "_view_module_version": "1.2.0",
            "_view_name": "StyleView",
            "bar_color": null,
            "description_width": ""
          }
        },
        "dc94251a766a4b00954af98112cb5d09": {
          "model_module": "@jupyter-widgets/base",
          "model_name": "LayoutModel",
          "model_module_version": "1.2.0",
          "state": {
            "_model_module": "@jupyter-widgets/base",
            "_model_module_version": "1.2.0",
            "_model_name": "LayoutModel",
            "_view_count": null,
            "_view_module": "@jupyter-widgets/base",
            "_view_module_version": "1.2.0",
            "_view_name": "LayoutView",
            "align_content": null,
            "align_items": null,
            "align_self": null,
            "border": null,
            "bottom": null,
            "display": null,
            "flex": null,
            "flex_flow": null,
            "grid_area": null,
            "grid_auto_columns": null,
            "grid_auto_flow": null,
            "grid_auto_rows": null,
            "grid_column": null,
            "grid_gap": null,
            "grid_row": null,
            "grid_template_areas": null,
            "grid_template_columns": null,
            "grid_template_rows": null,
            "height": null,
            "justify_content": null,
            "justify_items": null,
            "left": null,
            "margin": null,
            "max_height": null,
            "max_width": null,
            "min_height": null,
            "min_width": null,
            "object_fit": null,
            "object_position": null,
            "order": null,
            "overflow": null,
            "overflow_x": null,
            "overflow_y": null,
            "padding": null,
            "right": null,
            "top": null,
            "visibility": null,
            "width": null
          }
        },
        "7c866623c3da493d82ca9eee4db23048": {
          "model_module": "@jupyter-widgets/controls",
          "model_name": "DescriptionStyleModel",
          "model_module_version": "1.5.0",
          "state": {
            "_model_module": "@jupyter-widgets/controls",
            "_model_module_version": "1.5.0",
            "_model_name": "DescriptionStyleModel",
            "_view_count": null,
            "_view_module": "@jupyter-widgets/base",
            "_view_module_version": "1.2.0",
            "_view_name": "StyleView",
            "description_width": ""
          }
        }
      }
    }
  },
  "nbformat": 4,
  "nbformat_minor": 0
}