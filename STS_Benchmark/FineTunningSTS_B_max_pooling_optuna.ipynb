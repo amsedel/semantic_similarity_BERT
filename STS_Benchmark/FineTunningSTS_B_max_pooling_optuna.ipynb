{
  "cells": [
    {
      "cell_type": "code",
      "source": [
        "import locale\n",
        "def getpreferredencoding(do_setlocale = True):\n",
        "    return \"UTF-8\"\n",
        "locale.getpreferredencoding = getpreferredencoding"
      ],
      "metadata": {
        "id": "qc0QMDk40uHK"
      },
      "execution_count": 2,
      "outputs": []
    },
    {
      "cell_type": "code",
      "execution_count": 3,
      "metadata": {
        "id": "-bc_vxzLzGWU",
        "colab": {
          "base_uri": "https://localhost:8080/"
        },
        "outputId": "3bac4ef0-6852-4887-ec61-3eb6085a53ed"
      },
      "outputs": [
        {
          "output_type": "stream",
          "name": "stdout",
          "text": [
            "Looking in indexes: https://pypi.org/simple, https://us-python.pkg.dev/colab-wheels/public/simple/\n",
            "Collecting transformers\n",
            "  Downloading transformers-4.28.1-py3-none-any.whl (7.0 MB)\n",
            "\u001b[2K     \u001b[90m━━━━━━━━━━━━━━━━━━━━━━━━━━━━━━━━━━━━━━━━\u001b[0m \u001b[32m7.0/7.0 MB\u001b[0m \u001b[31m58.9 MB/s\u001b[0m eta \u001b[36m0:00:00\u001b[0m\n",
            "\u001b[?25hRequirement already satisfied: regex!=2019.12.17 in /usr/local/lib/python3.10/dist-packages (from transformers) (2022.10.31)\n",
            "Requirement already satisfied: requests in /usr/local/lib/python3.10/dist-packages (from transformers) (2.27.1)\n",
            "Collecting huggingface-hub<1.0,>=0.11.0\n",
            "  Downloading huggingface_hub-0.14.1-py3-none-any.whl (224 kB)\n",
            "\u001b[2K     \u001b[90m━━━━━━━━━━━━━━━━━━━━━━━━━━━━━━━━━━━━━━\u001b[0m \u001b[32m224.5/224.5 kB\u001b[0m \u001b[31m26.6 MB/s\u001b[0m eta \u001b[36m0:00:00\u001b[0m\n",
            "\u001b[?25hRequirement already satisfied: tqdm>=4.27 in /usr/local/lib/python3.10/dist-packages (from transformers) (4.65.0)\n",
            "Collecting tokenizers!=0.11.3,<0.14,>=0.11.1\n",
            "  Downloading tokenizers-0.13.3-cp310-cp310-manylinux_2_17_x86_64.manylinux2014_x86_64.whl (7.8 MB)\n",
            "\u001b[2K     \u001b[90m━━━━━━━━━━━━━━━━━━━━━━━━━━━━━━━━━━━━━━━━\u001b[0m \u001b[32m7.8/7.8 MB\u001b[0m \u001b[31m98.2 MB/s\u001b[0m eta \u001b[36m0:00:00\u001b[0m\n",
            "\u001b[?25hRequirement already satisfied: packaging>=20.0 in /usr/local/lib/python3.10/dist-packages (from transformers) (23.1)\n",
            "Requirement already satisfied: filelock in /usr/local/lib/python3.10/dist-packages (from transformers) (3.12.0)\n",
            "Requirement already satisfied: numpy>=1.17 in /usr/local/lib/python3.10/dist-packages (from transformers) (1.22.4)\n",
            "Requirement already satisfied: pyyaml>=5.1 in /usr/local/lib/python3.10/dist-packages (from transformers) (6.0)\n",
            "Requirement already satisfied: fsspec in /usr/local/lib/python3.10/dist-packages (from huggingface-hub<1.0,>=0.11.0->transformers) (2023.4.0)\n",
            "Requirement already satisfied: typing-extensions>=3.7.4.3 in /usr/local/lib/python3.10/dist-packages (from huggingface-hub<1.0,>=0.11.0->transformers) (4.5.0)\n",
            "Requirement already satisfied: certifi>=2017.4.17 in /usr/local/lib/python3.10/dist-packages (from requests->transformers) (2022.12.7)\n",
            "Requirement already satisfied: urllib3<1.27,>=1.21.1 in /usr/local/lib/python3.10/dist-packages (from requests->transformers) (1.26.15)\n",
            "Requirement already satisfied: idna<4,>=2.5 in /usr/local/lib/python3.10/dist-packages (from requests->transformers) (3.4)\n",
            "Requirement already satisfied: charset-normalizer~=2.0.0 in /usr/local/lib/python3.10/dist-packages (from requests->transformers) (2.0.12)\n",
            "Installing collected packages: tokenizers, huggingface-hub, transformers\n",
            "Successfully installed huggingface-hub-0.14.1 tokenizers-0.13.3 transformers-4.28.1\n",
            "Looking in indexes: https://pypi.org/simple, https://us-python.pkg.dev/colab-wheels/public/simple/\n",
            "Collecting optuna\n",
            "  Downloading optuna-3.1.1-py3-none-any.whl (365 kB)\n",
            "\u001b[2K     \u001b[90m━━━━━━━━━━━━━━━━━━━━━━━━━━━━━━━━━━━━━━\u001b[0m \u001b[32m365.7/365.7 kB\u001b[0m \u001b[31m24.7 MB/s\u001b[0m eta \u001b[36m0:00:00\u001b[0m\n",
            "\u001b[?25hCollecting cmaes>=0.9.1\n",
            "  Downloading cmaes-0.9.1-py3-none-any.whl (21 kB)\n",
            "Requirement already satisfied: tqdm in /usr/local/lib/python3.10/dist-packages (from optuna) (4.65.0)\n",
            "Requirement already satisfied: PyYAML in /usr/local/lib/python3.10/dist-packages (from optuna) (6.0)\n",
            "Collecting colorlog\n",
            "  Downloading colorlog-6.7.0-py2.py3-none-any.whl (11 kB)\n",
            "Requirement already satisfied: sqlalchemy>=1.3.0 in /usr/local/lib/python3.10/dist-packages (from optuna) (2.0.10)\n",
            "Collecting alembic>=1.5.0\n",
            "  Downloading alembic-1.10.4-py3-none-any.whl (212 kB)\n",
            "\u001b[2K     \u001b[90m━━━━━━━━━━━━━━━━━━━━━━━━━━━━━━━━━━━━━━\u001b[0m \u001b[32m212.9/212.9 kB\u001b[0m \u001b[31m24.5 MB/s\u001b[0m eta \u001b[36m0:00:00\u001b[0m\n",
            "\u001b[?25hRequirement already satisfied: numpy in /usr/local/lib/python3.10/dist-packages (from optuna) (1.22.4)\n",
            "Requirement already satisfied: packaging>=20.0 in /usr/local/lib/python3.10/dist-packages (from optuna) (23.1)\n",
            "Collecting Mako\n",
            "  Downloading Mako-1.2.4-py3-none-any.whl (78 kB)\n",
            "\u001b[2K     \u001b[90m━━━━━━━━━━━━━━━━━━━━━━━━━━━━━━━━━━━━━━━━\u001b[0m \u001b[32m78.7/78.7 kB\u001b[0m \u001b[31m10.1 MB/s\u001b[0m eta \u001b[36m0:00:00\u001b[0m\n",
            "\u001b[?25hRequirement already satisfied: typing-extensions>=4 in /usr/local/lib/python3.10/dist-packages (from alembic>=1.5.0->optuna) (4.5.0)\n",
            "Requirement already satisfied: greenlet!=0.4.17 in /usr/local/lib/python3.10/dist-packages (from sqlalchemy>=1.3.0->optuna) (2.0.2)\n",
            "Requirement already satisfied: MarkupSafe>=0.9.2 in /usr/local/lib/python3.10/dist-packages (from Mako->alembic>=1.5.0->optuna) (2.1.2)\n",
            "Installing collected packages: Mako, colorlog, cmaes, alembic, optuna\n",
            "Successfully installed Mako-1.2.4 alembic-1.10.4 cmaes-0.9.1 colorlog-6.7.0 optuna-3.1.1\n",
            "Mounted at /content/drive\n"
          ]
        }
      ],
      "source": [
        "import pandas as pd\n",
        "import torch\n",
        "import numpy as np\n",
        "import random\n",
        "import re\n",
        "import spacy\n",
        "import shutil\n",
        "import matplotlib.pyplot as plt\n",
        "!pip install transformers\n",
        "!pip install optuna\n",
        "import torch.nn as nn\n",
        "import torch.optim as optim\n",
        "from transformers import AutoTokenizer, BertTokenizer, AutoModel, BertModel\n",
        "from torch.utils.data import Dataset, TensorDataset, DataLoader, random_split, RandomSampler, SequentialSampler\n",
        "import time\n",
        "import optuna\n",
        "from scipy.stats import spearmanr\n",
        "import psycopg2\n",
        "import csv\n",
        "import math\n",
        "import os\n",
        "from sqlalchemy import create_engine\n",
        "from optuna.storages import RDBStorage\n",
        "from google.colab import drive\n",
        "from google.colab import files\n",
        "drive.mount('/content/drive')"
      ]
    },
    {
      "cell_type": "code",
      "source": [
        "path_base = '/content/drive/MyDrive/Tesis/STS_Benchmark/transformer_tunned_BERT/uncase_base/study_optuna/'"
      ],
      "metadata": {
        "id": "duVmaTBQsdFv"
      },
      "execution_count": 4,
      "outputs": []
    },
    {
      "cell_type": "code",
      "execution_count": null,
      "metadata": {
        "colab": {
          "base_uri": "https://localhost:8080/"
        },
        "id": "Dy2Cy1hZz_JJ",
        "outputId": "e2d7eed4-dc00-4aa0-ac67-7e7fee9f581d"
      },
      "outputs": [
        {
          "name": "stdout",
          "output_type": "stream",
          "text": [
            "Mounted at /content/drive\n"
          ]
        }
      ],
      "source": [
        "#from google.colab import drive\n",
        "#drive.mount('/content/drive')"
      ]
    },
    {
      "cell_type": "code",
      "source": [
        "!wget -O Stsbenchmark.tar.gz http://ixa2.si.ehu.es/stswiki/images/4/48/Stsbenchmark.tar.gz\n",
        "shutil.unpack_archive('./Stsbenchmark.tar.gz', extract_dir='./', format='gztar')"
      ],
      "metadata": {
        "colab": {
          "base_uri": "https://localhost:8080/"
        },
        "id": "uZ5dtmBFZ5kN",
        "outputId": "2077d851-b14c-4979-e344-3926453d783a"
      },
      "execution_count": 5,
      "outputs": [
        {
          "output_type": "stream",
          "name": "stdout",
          "text": [
            "--2023-05-09 01:05:26--  http://ixa2.si.ehu.es/stswiki/images/4/48/Stsbenchmark.tar.gz\n",
            "Resolving ixa2.si.ehu.es (ixa2.si.ehu.es)... 158.227.106.100\n",
            "Connecting to ixa2.si.ehu.es (ixa2.si.ehu.es)|158.227.106.100|:80... connected.\n",
            "HTTP request sent, awaiting response... 302 Found\n",
            "Location: http://ixa2.si.ehu.eus/stswiki/images/4/48/Stsbenchmark.tar.gz [following]\n",
            "--2023-05-09 01:05:27--  http://ixa2.si.ehu.eus/stswiki/images/4/48/Stsbenchmark.tar.gz\n",
            "Resolving ixa2.si.ehu.eus (ixa2.si.ehu.eus)... 158.227.106.100\n",
            "Connecting to ixa2.si.ehu.eus (ixa2.si.ehu.eus)|158.227.106.100|:80... connected.\n",
            "HTTP request sent, awaiting response... 200 OK\n",
            "Length: 409630 (400K) [application/x-gzip]\n",
            "Saving to: ‘Stsbenchmark.tar.gz’\n",
            "\n",
            "Stsbenchmark.tar.gz 100%[===================>] 400.03K   300KB/s    in 1.3s    \n",
            "\n",
            "2023-05-09 01:05:29 (300 KB/s) - ‘Stsbenchmark.tar.gz’ saved [409630/409630]\n",
            "\n"
          ]
        }
      ]
    },
    {
      "cell_type": "code",
      "source": [
        "def getSTSBenchmarkSents(filename='sts-train.csv', root='stsbenchmark/', encoding='utf-8'):\n",
        "  f = open(root+filename, 'r', encoding=encoding)\n",
        "  s1, s2, target = [], [], []\n",
        "  for line in f:\n",
        "    example = re.split(r'\\t+', line)\n",
        "    if len(example) > 7:\n",
        "      example = example[:-2]\n",
        "    s2.append(example[-1])\n",
        "    s1.append(example[-2])\n",
        "    target.append(float(example[-3]))\n",
        "  print(\"{} samples: {}\".format(filename, len(target)))\n",
        "  return s1, s2, target"
      ],
      "metadata": {
        "id": "jaSIxSSCw5AY"
      },
      "execution_count": 6,
      "outputs": []
    },
    {
      "cell_type": "code",
      "source": [
        "s1_train,s2_train,target_train = getSTSBenchmarkSents(filename='sts-train.csv')"
      ],
      "metadata": {
        "colab": {
          "base_uri": "https://localhost:8080/"
        },
        "id": "F_j7JTGEzZyz",
        "outputId": "d3b9b125-ff92-42fa-924d-e50d4d6539cb"
      },
      "execution_count": 7,
      "outputs": [
        {
          "output_type": "stream",
          "name": "stdout",
          "text": [
            "sts-train.csv samples: 5749\n"
          ]
        }
      ]
    },
    {
      "cell_type": "code",
      "source": [
        "s1_test,s2_test,target_test= getSTSBenchmarkSents(filename='sts-test.csv')"
      ],
      "metadata": {
        "colab": {
          "base_uri": "https://localhost:8080/"
        },
        "id": "u_wBVbk6zwRF",
        "outputId": "5b457321-3e9c-4190-de68-985450beeff9"
      },
      "execution_count": 8,
      "outputs": [
        {
          "output_type": "stream",
          "name": "stdout",
          "text": [
            "sts-test.csv samples: 1379\n"
          ]
        }
      ]
    },
    {
      "cell_type": "code",
      "source": [
        "s1_dev,s2_dev,target_dev= getSTSBenchmarkSents(filename='sts-dev.csv')"
      ],
      "metadata": {
        "colab": {
          "base_uri": "https://localhost:8080/"
        },
        "id": "HCAYUG03z14L",
        "outputId": "ec8d3616-2a34-42e1-d219-987c3dcaba85"
      },
      "execution_count": 9,
      "outputs": [
        {
          "output_type": "stream",
          "name": "stdout",
          "text": [
            "sts-dev.csv samples: 1500\n"
          ]
        }
      ]
    },
    {
      "cell_type": "code",
      "execution_count": 10,
      "metadata": {
        "id": "X8TBNqYyCj-u",
        "colab": {
          "base_uri": "https://localhost:8080/"
        },
        "outputId": "57b76fab-b0ff-4abe-94b6-0994fd2ed3df"
      },
      "outputs": [
        {
          "output_type": "stream",
          "name": "stdout",
          "text": [
            "Device: cuda\n"
          ]
        }
      ],
      "source": [
        "device = 'cuda' if torch.cuda.is_available() else 'cpu'\n",
        "print(f'Device: {device}')"
      ]
    },
    {
      "cell_type": "code",
      "execution_count": 11,
      "metadata": {
        "id": "HQf5A_IsCu9I"
      },
      "outputs": [],
      "source": [
        "BATCH_SIZE = 32\n",
        "MAX_LEN = 128\n",
        "CORPUS = 'STS-B'\n",
        "BERT_PATH = \"bert-base-uncased\""
      ]
    },
    {
      "cell_type": "code",
      "execution_count": 12,
      "metadata": {
        "id": "z600WMjxHnOJ",
        "colab": {
          "base_uri": "https://localhost:8080/",
          "height": 113,
          "referenced_widgets": [
            "146fefa8980444dea434bef5c1fa269c",
            "61da46e6d94a44cdb0c40298e88fba0f",
            "4418bb8a7cfb49fc9e53e7d5c56432f6",
            "8c74fb2ffa5a43f9af80c00215d26155",
            "d080b297ba364cf5a9b9e24cef6d9924",
            "7d438b5d86b941bbafb9230b6d2f1071",
            "df2e2676ac6545d19fdf418fedbdfc7a",
            "883c72c2501c49a78991824f79f1c873",
            "a02cb181479142d295c8f9bc55d4e01a",
            "97d55a6ed2544777b5092728667f857f",
            "006e2119110a4356a6cf15191aa96abc",
            "1f045e041b04449fbb6eee866488d8dd",
            "5bf653baa4874db68fe15e83ee86ba92",
            "e4e0b8bf96c54a44a1376105774798f5",
            "1b04671ce17149cc9977a5f9b37667a9",
            "5e182a70972d434890d419c0b0c029f9",
            "a32ee94dada54cd0ab609c710ec58140",
            "6c2d044d61014a548551e6b7f0eafa38",
            "be379679af00420cb9e7e0bd8068eb29",
            "81e3450d154941939743065bbce5267e",
            "c36bd59cb6f2471da871906715c480ec",
            "fd52aa4710bd4f4180a78e355e2b24b1",
            "ed159341f483442bb34f0c237e7603fe",
            "0edadac0043942c0b0dc6754606d9d70",
            "6e1d91d86c8543b88f790c90c0649390",
            "ec32f4b5c9964ac1813da5b70876fcf9",
            "ccfe7459ee984670b39f2a70b1c92468",
            "b24a40d3049b43ff81ffa50c1ae12025",
            "864e34c502f447db8b9bf6a0e38afd7b",
            "688b1e0ac556400cb3cc28a4b8ca97c7",
            "2ca75c456f9748df8450abdb3a84e448",
            "d4a2ef8965ed40d2a40c4a1c4325be03",
            "014279bde74e407a92d176c28826d56c"
          ]
        },
        "outputId": "143e0d51-2670-4e63-b3eb-b2650a3dd0d4"
      },
      "outputs": [
        {
          "output_type": "display_data",
          "data": {
            "text/plain": [
              "Downloading (…)solve/main/vocab.txt:   0%|          | 0.00/232k [00:00<?, ?B/s]"
            ],
            "application/vnd.jupyter.widget-view+json": {
              "version_major": 2,
              "version_minor": 0,
              "model_id": "146fefa8980444dea434bef5c1fa269c"
            }
          },
          "metadata": {}
        },
        {
          "output_type": "display_data",
          "data": {
            "text/plain": [
              "Downloading (…)okenizer_config.json:   0%|          | 0.00/28.0 [00:00<?, ?B/s]"
            ],
            "application/vnd.jupyter.widget-view+json": {
              "version_major": 2,
              "version_minor": 0,
              "model_id": "1f045e041b04449fbb6eee866488d8dd"
            }
          },
          "metadata": {}
        },
        {
          "output_type": "display_data",
          "data": {
            "text/plain": [
              "Downloading (…)lve/main/config.json:   0%|          | 0.00/570 [00:00<?, ?B/s]"
            ],
            "application/vnd.jupyter.widget-view+json": {
              "version_major": 2,
              "version_minor": 0,
              "model_id": "ed159341f483442bb34f0c237e7603fe"
            }
          },
          "metadata": {}
        }
      ],
      "source": [
        "TOKENIZER = BertTokenizer.from_pretrained(BERT_PATH, do_lower_case=True)"
      ]
    },
    {
      "cell_type": "code",
      "execution_count": 13,
      "metadata": {
        "id": "pVdOQNbvVnln"
      },
      "outputs": [],
      "source": [
        "def encode_sents(sents1, sents2):\n",
        "    input_ids_ = []\n",
        "    attention_masks_ = []\n",
        "    type_ids_ = []\n",
        "    for i, sent1 in enumerate(sents1):\n",
        "        encoded_dict = TOKENIZER.encode_plus(\n",
        "                            sent1,                      # Sentence 1 to encode.\n",
        "                            sents2[i],                  # Sentence 2 to encode.\n",
        "                            add_special_tokens = True,  # Add '[CLS]' and '[SEP]'\n",
        "                            truncation = True,\n",
        "                            max_length = MAX_LEN,       # Pad & truncate all sentences.\n",
        "                            pad_to_max_length = True,\n",
        "                            return_attention_mask = True,   # Construct attn. masks.\n",
        "                            return_tensors = 'pt',     # Return pytorch tensors.\n",
        "                      )\n",
        "        \n",
        "        # Add the encoded sentence to the list.    \n",
        "        input_ids_.append(encoded_dict['input_ids'])\n",
        "            \n",
        "        # And its attention mask (simply differentiates padding from non-padding).\n",
        "        attention_masks_.append(encoded_dict['attention_mask'])\n",
        "\n",
        "        type_ids_.append(encoded_dict['token_type_ids'])\n",
        "    return input_ids_, attention_masks_, type_ids_"
      ]
    },
    {
      "cell_type": "code",
      "source": [
        "def getEncodedTensors(s1, s2, labels):\n",
        "    input_ids, attention_masks, type_ids = encode_sents(s1, s2)\n",
        "    input_ids = torch.cat(input_ids, dim=0)\n",
        "    attention_masks = torch.cat(attention_masks, dim=0)\n",
        "    type_ids = torch.cat(type_ids, dim=0)\n",
        "    labels = torch.tensor(labels)\n",
        "    return input_ids, attention_masks, type_ids, labels"
      ],
      "metadata": {
        "id": "906LtLLC9Y_Z"
      },
      "execution_count": 14,
      "outputs": []
    },
    {
      "cell_type": "code",
      "source": [
        "input_ids_train,attention_masks_train,type_ids_train,labels_train = getEncodedTensors(s1_train,s2_train,target_train)"
      ],
      "metadata": {
        "id": "t6ru4f5S9-qd",
        "colab": {
          "base_uri": "https://localhost:8080/"
        },
        "outputId": "77873e9f-efb1-41b2-e3a8-1b6abf7020fb"
      },
      "execution_count": 15,
      "outputs": [
        {
          "output_type": "stream",
          "name": "stderr",
          "text": [
            "/usr/local/lib/python3.10/dist-packages/transformers/tokenization_utils_base.py:2354: FutureWarning: The `pad_to_max_length` argument is deprecated and will be removed in a future version, use `padding=True` or `padding='longest'` to pad to the longest sequence in the batch, or use `padding='max_length'` to pad to a max length. In this case, you can give a specific length with `max_length` (e.g. `max_length=45`) or leave max_length to None to pad to the maximal input size of the model (e.g. 512 for Bert).\n",
            "  warnings.warn(\n"
          ]
        }
      ]
    },
    {
      "cell_type": "code",
      "source": [
        "input_ids_eval, attention_masks_eval, type_ids_eval, labels_eval = getEncodedTensors(s1_dev, s2_dev, target_dev)"
      ],
      "metadata": {
        "id": "-bL1MWnB_-9d"
      },
      "execution_count": 16,
      "outputs": []
    },
    {
      "cell_type": "code",
      "execution_count": 17,
      "metadata": {
        "id": "adsDoOZNdgVR"
      },
      "outputs": [],
      "source": [
        "# Combine the training inputs into a TensorDataset.\n",
        "train_dataset = TensorDataset(input_ids_train, attention_masks_train, type_ids_train, labels_train)\n",
        "val_dataset = TensorDataset(input_ids_eval, attention_masks_eval, type_ids_eval, labels_eval)"
      ]
    },
    {
      "cell_type": "code",
      "execution_count": 18,
      "metadata": {
        "id": "4L0SrB_JlaCY"
      },
      "outputs": [],
      "source": [
        "# Create the DataLoaders for our training and test sets.\n",
        "# We'll take training samples in random order. \n",
        "torch.manual_seed(42)\n",
        "train_loader = DataLoader(\n",
        "            train_dataset,  # The training samples.\n",
        "            sampler = RandomSampler(train_dataset), # Select batches randomly\n",
        "            batch_size = BATCH_SIZE # Trains with this batch size.\n",
        "            #num_workers=2\n",
        "        )\n",
        "torch.manual_seed(42)\n",
        "val_loader = DataLoader(\n",
        "            val_dataset, # The validation samples.\n",
        "            sampler = SequentialSampler(val_dataset), # Pull out batches sequentially.\n",
        "            batch_size = BATCH_SIZE # Evaluate with this batch size.\n",
        "            #num_workers=2\n",
        "        )"
      ]
    },
    {
      "cell_type": "code",
      "execution_count": 19,
      "metadata": {
        "id": "nMWrY0KxnEMi",
        "colab": {
          "base_uri": "https://localhost:8080/"
        },
        "outputId": "24119433-0a70-41ef-adc5-007c8f70470f"
      },
      "outputs": [
        {
          "output_type": "stream",
          "name": "stdout",
          "text": [
            "Number of train batches: 180\n",
            "Number of evaluation batches: 47\n"
          ]
        }
      ],
      "source": [
        "# See first batch\n",
        "#batch = next(iter(train_loader))\n",
        "#print(batch[0]) # 0 -> input_ids , 1 -> attention_masks, 2 -> type_ids, 3 -> targets\n",
        "#print(train_loader.batch_size) #tamaño del batch\n",
        "print('Number of train batches: {}'.format(len(train_loader)))# número de batches\n",
        "print('Number of evaluation batches: {}'.format(len(val_loader)))"
      ]
    },
    {
      "cell_type": "code",
      "execution_count": 20,
      "metadata": {
        "id": "KkXY8l6PqLwi"
      },
      "outputs": [],
      "source": [
        "class BertBaseUncasedRegressor(nn.Module):\n",
        "  def __init__(self, num_classes = 1, dropout=0.1, attentions=True, n_layers = 0):\n",
        "      super().__init__()\n",
        "      self.bert = BertModel.from_pretrained(BERT_PATH, output_attentions=attentions) #load the model\n",
        "      # Return: \n",
        "      # last_hidden_state.shape -> [batch_size, num_tokens_in_sequence,hidden_size] (bert_base hidden_size = 768)\n",
        "      # pooler_output.shape -> [batch_size, hidden_size] se utiliza una capa de pooling simple que aplica una transformación \n",
        "      # lineal seguida de una función de activación tangente hiperbólica (tanh) a la última representación oculta (last_hidden_state) del token [CLS].\n",
        "      layers = []\n",
        "      for _ in range(n_layers):\n",
        "          layers.append(nn.Linear(self.bert.config.hidden_size, self.bert.config.hidden_size)) #self.bert.config.hidden_size -> nos da el tamaño oculto\n",
        "          layers.append(nn.Dropout(dropout))\n",
        "      layers.append(nn.Linear(self.bert.config.hidden_size, num_classes)) #self.bert.config.hidden_size -> nos da el tamaño oculto\n",
        "\n",
        "      self.regressor = nn.Sequential(*layers)\n",
        "\n",
        "\n",
        "  def forward(self, input_ids, type_ids, mask):\n",
        "      bert_output =self.bert(input_ids=input_ids, token_type_ids = type_ids, attention_mask= mask)\n",
        "      output_max_pooling = torch.max(bert_output.last_hidden_state, dim=1)[0]\n",
        "      #output = bert_output.pooler_output\n",
        "      #output = bert_output.last_hidden_state[:, 0, :]\n",
        "      logits = self.regressor(output_max_pooling)\n",
        "      #logits = self.regressor(output_drop)\n",
        "      return logits, bert_output"
      ]
    },
    {
      "cell_type": "code",
      "source": [
        "def pearson_corr(y_pred, y_true):\n",
        "    all_preds = np.concatenate(y_pred)\n",
        "    all_targets = np.concatenate(y_true)\n",
        "    return np.corrcoef(all_preds, all_targets)[0, 1]"
      ],
      "metadata": {
        "id": "n3ur6ZV3_Gb6"
      },
      "execution_count": 21,
      "outputs": []
    },
    {
      "cell_type": "code",
      "source": [
        "def spearman_corr(y_pred, y_true):\n",
        "    all_preds = np.concatenate(y_pred)\n",
        "    all_targets = np.concatenate(y_true)\n",
        "\n",
        "    corr, _ = spearmanr(all_preds, all_targets)\n",
        "    return corr"
      ],
      "metadata": {
        "id": "P6-Jax0r_Mhf"
      },
      "execution_count": 22,
      "outputs": []
    },
    {
      "cell_type": "code",
      "execution_count": 23,
      "metadata": {
        "id": "fdInbGmYrUfw"
      },
      "outputs": [],
      "source": [
        "def train_loop(model,loader,optimizer,criterion,device,clip = 1.0):\n",
        "    #Training loop\n",
        "    model.train()\n",
        "    loss_sum = 0\n",
        "    all_preds = []\n",
        "    all_targets = []\n",
        "    seed = 42\n",
        "    np.random.seed(seed)\n",
        "    random.seed(seed)\n",
        "    torch.manual_seed(seed)\n",
        "    torch.cuda.manual_seed_all(seed)\n",
        "\n",
        "    for i, batch in enumerate(loader):\n",
        "        \n",
        "        b_input_ids = batch[0].to(device)\n",
        "        b_attention_mask = batch[1].to(device)\n",
        "        b_type_ids = batch[2].to(device)\n",
        "        labels = batch[3].to(device)\n",
        "\n",
        "        optimizer.zero_grad()\n",
        "        #Forward \n",
        "        outputs, _ = model(input_ids=b_input_ids, type_ids = b_type_ids, mask = b_attention_mask)\n",
        "        outputs = outputs.squeeze(-1)\n",
        "        #Loss\n",
        "        loss = criterion(outputs.view(-1), labels.float())\n",
        "        #Backprop\n",
        "        loss.backward()\n",
        "        #prevent gradients from exploding\n",
        "        torch.nn.utils.clip_grad_norm_(model.parameters(), clip)\n",
        "        #Update params\n",
        "        optimizer.step()\n",
        "\n",
        "        loss_sum += loss.item()\n",
        "\n",
        "        all_preds.append(outputs.detach().cpu().numpy())\n",
        "        all_targets.append(labels.float().detach().cpu().numpy())\n",
        "\n",
        "    epoch_train_loss = loss_sum / len(loader)\n",
        "    epoch_train_pearson = pearson_corr(all_preds, all_targets)\n",
        "    epoch_train_spearman = spearman_corr(all_preds, all_targets)\n",
        "\n",
        "    return epoch_train_loss, epoch_train_pearson, epoch_train_spearman\n"
      ]
    },
    {
      "cell_type": "code",
      "execution_count": 24,
      "metadata": {
        "id": "CxO7AgRRtnnk"
      },
      "outputs": [],
      "source": [
        "def evaluation_loop(model,loader,criterion,device):\n",
        "    #Evaluation loop\n",
        "    seed = 42\n",
        "    np.random.seed(seed)\n",
        "    random.seed(seed)\n",
        "    torch.manual_seed(seed)\n",
        "    torch.cuda.manual_seed_all(seed)\n",
        "    model.eval()\n",
        "    with torch.no_grad():\n",
        "        loss_sum = 0\n",
        "        all_preds = []\n",
        "        all_targets = []\n",
        "\n",
        "        for i, batch in enumerate(loader):\n",
        "            b_input_ids = batch[0].to(device)\n",
        "            b_attention_mask = batch[1].to(device)\n",
        "            b_type_ids = batch[2].to(device)\n",
        "            labels = batch[3].to(device)\n",
        "\n",
        "            #Forward\n",
        "            outputs, _ = model(input_ids=b_input_ids, type_ids = b_type_ids, mask = b_attention_mask)\n",
        "            outputs = outputs.squeeze(-1)\n",
        "            #Loss\n",
        "            loss = criterion(outputs.view(-1), labels.float())\n",
        "\n",
        "            loss_sum += loss.item()\n",
        "\n",
        "            all_preds.append(outputs.detach().cpu().numpy())\n",
        "            all_targets.append(labels.float().detach().cpu().numpy())\n",
        "        \n",
        "        epoch_dev_loss = loss_sum / len(loader)\n",
        "        epoch_dev_pearson = pearson_corr(all_preds, all_targets)\n",
        "        epoch_dev_spearman = spearman_corr(all_preds, all_targets)\n",
        "        \n",
        "    return epoch_dev_loss, epoch_dev_pearson, epoch_dev_spearman"
      ]
    },
    {
      "cell_type": "code",
      "source": [
        "def save_metrics_dataframe(metrics_dict, study_name, path_base):\n",
        "  # Abrir archivo en modo escritura y especificar el separador de campos\n",
        "  path = path_base + 'metrics_' + study_name + \".csv\"\n",
        "  with open(path, \"a+\", newline=\"\") as f:\n",
        "      metrics = [metrics_dict]\n",
        "      # Crear objeto escritor CSV y especificar el separador de campos\n",
        "      metrics_csv = csv.DictWriter(f, fieldnames=['train_loss','valid_loss','spearman_train','spearman_val','pearson_train','pearson_val'],delimiter=\",\")\n",
        "      \n",
        "      # Verificar si se ha escrito el encabezado del archivo\n",
        "      if f.tell() == 0:\n",
        "        metrics_csv.writeheader()\n",
        "      \n",
        "      # Escribir cada fila de datos\n",
        "      for metric in metrics:\n",
        "          metrics_csv.writerow(metric)"
      ],
      "metadata": {
        "id": "R67tlbo3snro"
      },
      "execution_count": 25,
      "outputs": []
    },
    {
      "cell_type": "code",
      "source": [
        "study_name = 'study-bert-max-pooling-base'"
      ],
      "metadata": {
        "id": "SQe54SodsuMj"
      },
      "execution_count": 26,
      "outputs": []
    },
    {
      "cell_type": "code",
      "source": [
        "def isNan(value):\n",
        "  return 0 if math.isnan(value) else value"
      ],
      "metadata": {
        "id": "mcJIIS69s5RR"
      },
      "execution_count": 27,
      "outputs": []
    },
    {
      "cell_type": "code",
      "source": [
        "def objective(trial):\n",
        "  params = {\n",
        "      \"num_layers\": trial.suggest_int(\"num_layer\", 0, 3),\n",
        "      \"dropout\": trial.suggest_uniform(\"dropout\", 0, 0.7),\n",
        "      \"optimizer\": trial.suggest_categorical(\"optimizer\", [\"Adam\", \"RMSprop\", \"SGD\"]),\n",
        "      \"learning_rate\": trial.suggest_loguniform(\"learning_rate\",1e-5, 1e-4)\n",
        "  }\n",
        "\n",
        "  model = BertBaseUncasedRegressor(dropout=params[\"dropout\"], n_layers = params[\"num_layers\"]).to(device)\n",
        "  criterion = nn.MSELoss()\n",
        "  optimizer = getattr(optim, params[\"optimizer\"])(model.parameters(), lr=params[\"learning_rate\"])\n",
        "  \n",
        "  NUM_EPOCHS = 4\n",
        "  best_valid_loss = float('inf')\n",
        "  MODEL_FILE_NAME = CORPUS+'_'+BERT_PATH+'_'+str(MAX_LEN)+'_tunned_model.pt'\n",
        "  history = {\"train\": {\"loss\": []}, \"test\": {\"loss\": []}}\n",
        "\n",
        "  torch.cuda.empty_cache()\n",
        "  seed = 42\n",
        "  np.random.seed(seed)\n",
        "  random.seed(seed)\n",
        "  torch.manual_seed(seed)\n",
        "  torch.cuda.manual_seed_all(seed)\n",
        "\n",
        "  train_loss_list, val_loss_list, spearman_train, spearman_val, pearson_train, pearson_val = [], [], [], [], [], []\n",
        "\n",
        "  for epoch in range(NUM_EPOCHS):\n",
        "    \n",
        "    start_time = time.time()\n",
        "\n",
        "    epoch_train_loss, epoch_train_pearson, epoch_train_spearman = train_loop(model,train_loader,optimizer,criterion,device)\n",
        "    epoch_dev_loss, epoch_dev_pearson, epoch_dev_spearman = evaluation_loop(model,val_loader,criterion,device)\n",
        "\n",
        "    elapsed_time = time.time() - start_time\n",
        "\n",
        "    if trial.should_prune():\n",
        "      raise optuna.exceptions.TrialPruned()\n",
        "\n",
        "    #nos quedamos con el modelo que tiene mejor pérdida de validación\n",
        "    if epoch_dev_loss < best_valid_loss:\n",
        "      best_valid_loss = epoch_dev_loss\n",
        "      torch.save(model.state_dict(), MODEL_FILE_NAME)\n",
        "\n",
        "    train_loss_list.append(isNan(epoch_train_loss))\n",
        "    val_loss_list.append(isNan(epoch_dev_loss))\n",
        "    spearman_train.append(isNan(epoch_train_spearman))\n",
        "    spearman_val.append(isNan(epoch_dev_spearman))\n",
        "    pearson_train.append(isNan(epoch_train_pearson))\n",
        "    pearson_val.append(isNan(epoch_dev_pearson))\n",
        "\n",
        "    history[\"train\"][\"loss\"].append(epoch_train_loss)\n",
        "    history[\"test\"][\"loss\"].append(epoch_dev_loss)\n",
        "\n",
        "    print('-' * 80)\n",
        "    print(f'Epoch: {epoch+1:03}/{NUM_EPOCHS} | Time: {elapsed_time:.4f}s | Train loss: {epoch_train_loss:.4f} | Dev loss: {epoch_dev_loss:.4f}')\n",
        "    print(f'Train Pearson Coef: {epoch_train_pearson:.4f} | Dev Pearson Coef: {epoch_dev_pearson:.4f}')\n",
        "    print(f'Train Spearman Coef: {epoch_train_spearman:.4f} | Dev Spearman Coef: {epoch_dev_spearman:.4f}')\n",
        "\n",
        "  metrics_dict = {\n",
        "      'train_loss' : train_loss_list,\n",
        "      'valid_loss' : val_loss_list,\n",
        "      'spearman_train': spearman_train,\n",
        "      'spearman_val': spearman_val,\n",
        "      'pearson_train': pearson_train,\n",
        "      'pearson_val': pearson_val\n",
        "  }\n",
        "\n",
        "  save_metrics_dataframe(metrics_dict, study_name, path_base)\n",
        "\n",
        "  return best_valid_loss"
      ],
      "metadata": {
        "id": "ywf8IKPdS-mY"
      },
      "execution_count": 28,
      "outputs": []
    },
    {
      "cell_type": "code",
      "source": [
        "#obtener ip de colab para dar acceso a la DB\n",
        "!curl ipecho.net/plain"
      ],
      "metadata": {
        "id": "bE6qtRPGeMeA",
        "colab": {
          "base_uri": "https://localhost:8080/"
        },
        "outputId": "97807b09-5d3e-4562-8a29-cf55a64dd41e"
      },
      "execution_count": 29,
      "outputs": [
        {
          "output_type": "stream",
          "name": "stdout",
          "text": [
            "34.126.184.82"
          ]
        }
      ]
    },
    {
      "cell_type": "code",
      "source": [
        "# Define the connection URL.\n",
        "url = \"postgresql://{user}:{password}@{host}:{port}/{database}\"\n",
        "url = url.format(\n",
        "    user='postgres',\n",
        "    password=\"password\",\n",
        "    host='35.184.132.46',\n",
        "    port='5432',\n",
        "    database='stsb-base-max-pooling',\n",
        ")\n",
        "\n",
        "# Create the engine and the database (if it doesn't exist yet).\n",
        "engine = create_engine(url)\n",
        "\n",
        "\n",
        "# Define the storage.\n",
        "storage = RDBStorage(url)"
      ],
      "metadata": {
        "id": "Nxntut24eR3E"
      },
      "execution_count": 30,
      "outputs": []
    },
    {
      "cell_type": "code",
      "source": [
        "# Define el estudio de Optuna utilizando el storage\n",
        "study = optuna.create_study(study_name=study_name, direction=\"minimize\", storage=storage, load_if_exists=True)"
      ],
      "metadata": {
        "id": "XudOqZAleZFF",
        "colab": {
          "base_uri": "https://localhost:8080/"
        },
        "outputId": "e536709e-0830-47dd-8008-55418f38e97b"
      },
      "execution_count": 31,
      "outputs": [
        {
          "output_type": "stream",
          "name": "stderr",
          "text": [
            "\u001b[32m[I 2023-05-09 01:06:23,460]\u001b[0m Using an existing study with name 'study-bert-max-pooling-base' instead of creating a new one.\u001b[0m\n"
          ]
        }
      ]
    },
    {
      "cell_type": "code",
      "source": [
        "study.optimize(objective, n_trials=16)"
      ],
      "metadata": {
        "id": "Epupqgy_TGfc",
        "colab": {
          "base_uri": "https://localhost:8080/",
          "height": 1000,
          "referenced_widgets": [
            "3e90b29bf15d42538ca7ada797ef8945",
            "9fce0ed392ce4ee6b5c44eb8c9f2e5f8",
            "b6ef4301e3d24dd9b86476924c1982a1",
            "d39abc4a411e477fbc5063d3a3a957c7",
            "5ab44508a1124ddeb26d9038f407f504",
            "6a9994cb75d64e1cbdc491b7d878282c",
            "86bcbeec3f3b4776837f8a9504c5f779",
            "fcf4daa790dd40f583ef2f5b118832dc",
            "5bbee68f8f0b441fbff7b23742da84a6",
            "5df5b411b1734cde9cf49b6c8adafaa2",
            "0d4ecab29cef4fe29afeca79b4a9288d"
          ]
        },
        "outputId": "aca6eb01-f57a-4861-c4a5-53179a8fba3d"
      },
      "execution_count": 40,
      "outputs": [
        {
          "output_type": "stream",
          "name": "stderr",
          "text": [
            "<ipython-input-28-53008359ab4f>:4: FutureWarning: suggest_uniform has been deprecated in v3.0.0. This feature will be removed in v6.0.0. See https://github.com/optuna/optuna/releases/tag/v3.0.0. Use :func:`~optuna.trial.Trial.suggest_float` instead.\n",
            "  \"dropout\": trial.suggest_uniform(\"dropout\", 0, 0.7),\n",
            "<ipython-input-28-53008359ab4f>:6: FutureWarning: suggest_loguniform has been deprecated in v3.0.0. This feature will be removed in v6.0.0. See https://github.com/optuna/optuna/releases/tag/v3.0.0. Use :func:`~optuna.trial.Trial.suggest_float` instead.\n",
            "  \"learning_rate\": trial.suggest_loguniform(\"learning_rate\",1e-5, 1e-4)\n"
          ]
        },
        {
          "output_type": "display_data",
          "data": {
            "text/plain": [
              "Downloading pytorch_model.bin:   0%|          | 0.00/440M [00:00<?, ?B/s]"
            ],
            "application/vnd.jupyter.widget-view+json": {
              "version_major": 2,
              "version_minor": 0,
              "model_id": "3e90b29bf15d42538ca7ada797ef8945"
            }
          },
          "metadata": {}
        },
        {
          "output_type": "stream",
          "name": "stderr",
          "text": [
            "Some weights of the model checkpoint at bert-base-uncased were not used when initializing BertModel: ['cls.predictions.transform.dense.weight', 'cls.predictions.bias', 'cls.seq_relationship.bias', 'cls.predictions.transform.LayerNorm.bias', 'cls.predictions.transform.dense.bias', 'cls.predictions.transform.LayerNorm.weight', 'cls.seq_relationship.weight', 'cls.predictions.decoder.weight']\n",
            "- This IS expected if you are initializing BertModel from the checkpoint of a model trained on another task or with another architecture (e.g. initializing a BertForSequenceClassification model from a BertForPreTraining model).\n",
            "- This IS NOT expected if you are initializing BertModel from the checkpoint of a model that you expect to be exactly identical (initializing a BertForSequenceClassification model from a BertForSequenceClassification model).\n"
          ]
        },
        {
          "output_type": "stream",
          "name": "stdout",
          "text": [
            "--------------------------------------------------------------------------------\n",
            "Epoch: 001/4 | Time: 128.2051s | Train loss: 1.0034 | Dev loss: 0.5212\n",
            "Train Pearson Coef: 0.7346 | Dev Pearson Coef: 0.8784\n",
            "Train Spearman Coef: 0.6966 | Dev Spearman Coef: 0.8742\n",
            "--------------------------------------------------------------------------------\n",
            "Epoch: 002/4 | Time: 125.0104s | Train loss: 0.3448 | Dev loss: 0.4984\n",
            "Train Pearson Coef: 0.9162 | Dev Pearson Coef: 0.8834\n",
            "Train Spearman Coef: 0.8995 | Dev Spearman Coef: 0.8791\n",
            "--------------------------------------------------------------------------------\n",
            "Epoch: 003/4 | Time: 125.0868s | Train loss: 0.1871 | Dev loss: 0.5248\n",
            "Train Pearson Coef: 0.9555 | Dev Pearson Coef: 0.8897\n",
            "Train Spearman Coef: 0.9475 | Dev Spearman Coef: 0.8851\n"
          ]
        },
        {
          "output_type": "stream",
          "name": "stderr",
          "text": [
            "\u001b[32m[I 2023-05-08 21:53:48,068]\u001b[0m Trial 137 finished with value: 0.4984043405411091 and parameters: {'num_layer': 1, 'dropout': 0.37677472243781807, 'optimizer': 'RMSprop', 'learning_rate': 2.4502958717086527e-05}. Best is trial 65 with value: 0.44401334099313045.\u001b[0m\n"
          ]
        },
        {
          "output_type": "stream",
          "name": "stdout",
          "text": [
            "--------------------------------------------------------------------------------\n",
            "Epoch: 004/4 | Time: 124.9021s | Train loss: 0.1402 | Dev loss: 0.5534\n",
            "Train Pearson Coef: 0.9669 | Dev Pearson Coef: 0.8780\n",
            "Train Spearman Coef: 0.9618 | Dev Spearman Coef: 0.8740\n"
          ]
        },
        {
          "output_type": "stream",
          "name": "stderr",
          "text": [
            "Some weights of the model checkpoint at bert-base-uncased were not used when initializing BertModel: ['cls.predictions.transform.dense.weight', 'cls.predictions.bias', 'cls.seq_relationship.bias', 'cls.predictions.transform.LayerNorm.bias', 'cls.predictions.transform.dense.bias', 'cls.predictions.transform.LayerNorm.weight', 'cls.seq_relationship.weight', 'cls.predictions.decoder.weight']\n",
            "- This IS expected if you are initializing BertModel from the checkpoint of a model trained on another task or with another architecture (e.g. initializing a BertForSequenceClassification model from a BertForPreTraining model).\n",
            "- This IS NOT expected if you are initializing BertModel from the checkpoint of a model that you expect to be exactly identical (initializing a BertForSequenceClassification model from a BertForSequenceClassification model).\n"
          ]
        },
        {
          "output_type": "stream",
          "name": "stdout",
          "text": [
            "--------------------------------------------------------------------------------\n",
            "Epoch: 001/4 | Time: 124.4579s | Train loss: 0.9163 | Dev loss: 0.4764\n",
            "Train Pearson Coef: 0.7596 | Dev Pearson Coef: 0.8887\n",
            "Train Spearman Coef: 0.7280 | Dev Spearman Coef: 0.8832\n",
            "--------------------------------------------------------------------------------\n",
            "Epoch: 002/4 | Time: 124.8049s | Train loss: 0.2891 | Dev loss: 0.5761\n",
            "Train Pearson Coef: 0.9302 | Dev Pearson Coef: 0.8922\n",
            "Train Spearman Coef: 0.9153 | Dev Spearman Coef: 0.8869\n",
            "--------------------------------------------------------------------------------\n",
            "Epoch: 003/4 | Time: 124.5417s | Train loss: 0.1633 | Dev loss: 0.5004\n",
            "Train Pearson Coef: 0.9613 | Dev Pearson Coef: 0.8951\n",
            "Train Spearman Coef: 0.9544 | Dev Spearman Coef: 0.8902\n"
          ]
        },
        {
          "output_type": "stream",
          "name": "stderr",
          "text": [
            "\u001b[32m[I 2023-05-08 22:02:10,611]\u001b[0m Trial 138 finished with value: 0.4763908798390247 and parameters: {'num_layer': 1, 'dropout': 0.04828534421456803, 'optimizer': 'RMSprop', 'learning_rate': 2.2600485139323286e-05}. Best is trial 65 with value: 0.44401334099313045.\u001b[0m\n"
          ]
        },
        {
          "output_type": "stream",
          "name": "stdout",
          "text": [
            "--------------------------------------------------------------------------------\n",
            "Epoch: 004/4 | Time: 124.5202s | Train loss: 0.1104 | Dev loss: 0.5085\n",
            "Train Pearson Coef: 0.9741 | Dev Pearson Coef: 0.8938\n",
            "Train Spearman Coef: 0.9695 | Dev Spearman Coef: 0.8901\n"
          ]
        },
        {
          "output_type": "stream",
          "name": "stderr",
          "text": [
            "Some weights of the model checkpoint at bert-base-uncased were not used when initializing BertModel: ['cls.predictions.transform.dense.weight', 'cls.predictions.bias', 'cls.seq_relationship.bias', 'cls.predictions.transform.LayerNorm.bias', 'cls.predictions.transform.dense.bias', 'cls.predictions.transform.LayerNorm.weight', 'cls.seq_relationship.weight', 'cls.predictions.decoder.weight']\n",
            "- This IS expected if you are initializing BertModel from the checkpoint of a model trained on another task or with another architecture (e.g. initializing a BertForSequenceClassification model from a BertForPreTraining model).\n",
            "- This IS NOT expected if you are initializing BertModel from the checkpoint of a model that you expect to be exactly identical (initializing a BertForSequenceClassification model from a BertForSequenceClassification model).\n"
          ]
        },
        {
          "output_type": "stream",
          "name": "stdout",
          "text": [
            "--------------------------------------------------------------------------------\n",
            "Epoch: 001/4 | Time: 125.9216s | Train loss: 0.9604 | Dev loss: 0.5148\n",
            "Train Pearson Coef: 0.7464 | Dev Pearson Coef: 0.8826\n",
            "Train Spearman Coef: 0.7168 | Dev Spearman Coef: 0.8802\n",
            "--------------------------------------------------------------------------------\n",
            "Epoch: 002/4 | Time: 126.2330s | Train loss: 0.3160 | Dev loss: 0.4830\n",
            "Train Pearson Coef: 0.9235 | Dev Pearson Coef: 0.8891\n",
            "Train Spearman Coef: 0.9080 | Dev Spearman Coef: 0.8844\n",
            "--------------------------------------------------------------------------------\n",
            "Epoch: 003/4 | Time: 126.3904s | Train loss: 0.1682 | Dev loss: 0.5271\n",
            "Train Pearson Coef: 0.9601 | Dev Pearson Coef: 0.8909\n",
            "Train Spearman Coef: 0.9530 | Dev Spearman Coef: 0.8883\n"
          ]
        },
        {
          "output_type": "stream",
          "name": "stderr",
          "text": [
            "\u001b[32m[I 2023-05-08 22:10:40,210]\u001b[0m Trial 139 finished with value: 0.4829746700347738 and parameters: {'num_layer': 1, 'dropout': 0.028556059051709083, 'optimizer': 'RMSprop', 'learning_rate': 2.570182887116639e-05}. Best is trial 65 with value: 0.44401334099313045.\u001b[0m\n"
          ]
        },
        {
          "output_type": "stream",
          "name": "stdout",
          "text": [
            "--------------------------------------------------------------------------------\n",
            "Epoch: 004/4 | Time: 126.4357s | Train loss: 0.1240 | Dev loss: 0.4843\n",
            "Train Pearson Coef: 0.9708 | Dev Pearson Coef: 0.8863\n",
            "Train Spearman Coef: 0.9654 | Dev Spearman Coef: 0.8821\n"
          ]
        },
        {
          "output_type": "stream",
          "name": "stderr",
          "text": [
            "Some weights of the model checkpoint at bert-base-uncased were not used when initializing BertModel: ['cls.predictions.transform.dense.weight', 'cls.predictions.bias', 'cls.seq_relationship.bias', 'cls.predictions.transform.LayerNorm.bias', 'cls.predictions.transform.dense.bias', 'cls.predictions.transform.LayerNorm.weight', 'cls.seq_relationship.weight', 'cls.predictions.decoder.weight']\n",
            "- This IS expected if you are initializing BertModel from the checkpoint of a model trained on another task or with another architecture (e.g. initializing a BertForSequenceClassification model from a BertForPreTraining model).\n",
            "- This IS NOT expected if you are initializing BertModel from the checkpoint of a model that you expect to be exactly identical (initializing a BertForSequenceClassification model from a BertForSequenceClassification model).\n"
          ]
        },
        {
          "output_type": "stream",
          "name": "stdout",
          "text": [
            "--------------------------------------------------------------------------------\n",
            "Epoch: 001/4 | Time: 126.0342s | Train loss: 0.9754 | Dev loss: 0.5301\n",
            "Train Pearson Coef: 0.7427 | Dev Pearson Coef: 0.8812\n",
            "Train Spearman Coef: 0.7087 | Dev Spearman Coef: 0.8772\n",
            "--------------------------------------------------------------------------------\n",
            "Epoch: 002/4 | Time: 126.3310s | Train loss: 0.3215 | Dev loss: 0.6053\n",
            "Train Pearson Coef: 0.9221 | Dev Pearson Coef: 0.8882\n",
            "Train Spearman Coef: 0.9063 | Dev Spearman Coef: 0.8850\n",
            "--------------------------------------------------------------------------------\n",
            "Epoch: 003/4 | Time: 126.2258s | Train loss: 0.1738 | Dev loss: 0.4745\n",
            "Train Pearson Coef: 0.9589 | Dev Pearson Coef: 0.8936\n",
            "Train Spearman Coef: 0.9511 | Dev Spearman Coef: 0.8884\n"
          ]
        },
        {
          "output_type": "stream",
          "name": "stderr",
          "text": [
            "\u001b[32m[I 2023-05-08 22:19:09,917]\u001b[0m Trial 140 finished with value: 0.4745017061842249 and parameters: {'num_layer': 1, 'dropout': 0.08343314512083841, 'optimizer': 'RMSprop', 'learning_rate': 2.693694055797516e-05}. Best is trial 65 with value: 0.44401334099313045.\u001b[0m\n"
          ]
        },
        {
          "output_type": "stream",
          "name": "stdout",
          "text": [
            "--------------------------------------------------------------------------------\n",
            "Epoch: 004/4 | Time: 126.3876s | Train loss: 0.1320 | Dev loss: 0.4780\n",
            "Train Pearson Coef: 0.9690 | Dev Pearson Coef: 0.8952\n",
            "Train Spearman Coef: 0.9632 | Dev Spearman Coef: 0.8886\n"
          ]
        },
        {
          "output_type": "stream",
          "name": "stderr",
          "text": [
            "Some weights of the model checkpoint at bert-base-uncased were not used when initializing BertModel: ['cls.predictions.transform.dense.weight', 'cls.predictions.bias', 'cls.seq_relationship.bias', 'cls.predictions.transform.LayerNorm.bias', 'cls.predictions.transform.dense.bias', 'cls.predictions.transform.LayerNorm.weight', 'cls.seq_relationship.weight', 'cls.predictions.decoder.weight']\n",
            "- This IS expected if you are initializing BertModel from the checkpoint of a model trained on another task or with another architecture (e.g. initializing a BertForSequenceClassification model from a BertForPreTraining model).\n",
            "- This IS NOT expected if you are initializing BertModel from the checkpoint of a model that you expect to be exactly identical (initializing a BertForSequenceClassification model from a BertForSequenceClassification model).\n"
          ]
        },
        {
          "output_type": "stream",
          "name": "stdout",
          "text": [
            "--------------------------------------------------------------------------------\n",
            "Epoch: 001/4 | Time: 125.1245s | Train loss: 0.9898 | Dev loss: 0.5065\n",
            "Train Pearson Coef: 0.7384 | Dev Pearson Coef: 0.8820\n",
            "Train Spearman Coef: 0.7047 | Dev Spearman Coef: 0.8772\n",
            "--------------------------------------------------------------------------------\n",
            "Epoch: 002/4 | Time: 125.4539s | Train loss: 0.3266 | Dev loss: 0.5358\n",
            "Train Pearson Coef: 0.9209 | Dev Pearson Coef: 0.8875\n",
            "Train Spearman Coef: 0.9054 | Dev Spearman Coef: 0.8823\n",
            "--------------------------------------------------------------------------------\n",
            "Epoch: 003/4 | Time: 125.4286s | Train loss: 0.1739 | Dev loss: 0.4660\n",
            "Train Pearson Coef: 0.9588 | Dev Pearson Coef: 0.8945\n",
            "Train Spearman Coef: 0.9511 | Dev Spearman Coef: 0.8899\n"
          ]
        },
        {
          "output_type": "stream",
          "name": "stderr",
          "text": [
            "\u001b[32m[I 2023-05-08 22:27:36,304]\u001b[0m Trial 141 finished with value: 0.46604147933899087 and parameters: {'num_layer': 1, 'dropout': 0.06052382349360265, 'optimizer': 'RMSprop', 'learning_rate': 2.93163534595711e-05}. Best is trial 65 with value: 0.44401334099313045.\u001b[0m\n"
          ]
        },
        {
          "output_type": "stream",
          "name": "stdout",
          "text": [
            "--------------------------------------------------------------------------------\n",
            "Epoch: 004/4 | Time: 125.4427s | Train loss: 0.1337 | Dev loss: 0.5783\n",
            "Train Pearson Coef: 0.9684 | Dev Pearson Coef: 0.8969\n",
            "Train Spearman Coef: 0.9629 | Dev Spearman Coef: 0.8923\n"
          ]
        },
        {
          "output_type": "stream",
          "name": "stderr",
          "text": [
            "Some weights of the model checkpoint at bert-base-uncased were not used when initializing BertModel: ['cls.predictions.transform.dense.weight', 'cls.predictions.bias', 'cls.seq_relationship.bias', 'cls.predictions.transform.LayerNorm.bias', 'cls.predictions.transform.dense.bias', 'cls.predictions.transform.LayerNorm.weight', 'cls.seq_relationship.weight', 'cls.predictions.decoder.weight']\n",
            "- This IS expected if you are initializing BertModel from the checkpoint of a model trained on another task or with another architecture (e.g. initializing a BertForSequenceClassification model from a BertForPreTraining model).\n",
            "- This IS NOT expected if you are initializing BertModel from the checkpoint of a model that you expect to be exactly identical (initializing a BertForSequenceClassification model from a BertForSequenceClassification model).\n"
          ]
        },
        {
          "output_type": "stream",
          "name": "stdout",
          "text": [
            "--------------------------------------------------------------------------------\n",
            "Epoch: 001/4 | Time: 124.3285s | Train loss: 0.8956 | Dev loss: 0.5210\n",
            "Train Pearson Coef: 0.7653 | Dev Pearson Coef: 0.8843\n",
            "Train Spearman Coef: 0.7336 | Dev Spearman Coef: 0.8779\n",
            "--------------------------------------------------------------------------------\n",
            "Epoch: 002/4 | Time: 124.8597s | Train loss: 0.2921 | Dev loss: 0.4686\n",
            "Train Pearson Coef: 0.9295 | Dev Pearson Coef: 0.8942\n",
            "Train Spearman Coef: 0.9148 | Dev Spearman Coef: 0.8887\n",
            "--------------------------------------------------------------------------------\n",
            "Epoch: 003/4 | Time: 124.7083s | Train loss: 0.1522 | Dev loss: 0.5139\n",
            "Train Pearson Coef: 0.9641 | Dev Pearson Coef: 0.8922\n",
            "Train Spearman Coef: 0.9572 | Dev Spearman Coef: 0.8864\n"
          ]
        },
        {
          "output_type": "stream",
          "name": "stderr",
          "text": [
            "\u001b[32m[I 2023-05-08 22:36:00,075]\u001b[0m Trial 142 finished with value: 0.4686286576250766 and parameters: {'num_layer': 1, 'dropout': 0.03387632995080816, 'optimizer': 'RMSprop', 'learning_rate': 2.1422823699141358e-05}. Best is trial 65 with value: 0.44401334099313045.\u001b[0m\n"
          ]
        },
        {
          "output_type": "stream",
          "name": "stdout",
          "text": [
            "--------------------------------------------------------------------------------\n",
            "Epoch: 004/4 | Time: 124.7401s | Train loss: 0.1207 | Dev loss: 0.5070\n",
            "Train Pearson Coef: 0.9716 | Dev Pearson Coef: 0.8934\n",
            "Train Spearman Coef: 0.9666 | Dev Spearman Coef: 0.8885\n"
          ]
        },
        {
          "output_type": "stream",
          "name": "stderr",
          "text": [
            "Some weights of the model checkpoint at bert-base-uncased were not used when initializing BertModel: ['cls.predictions.transform.dense.weight', 'cls.predictions.bias', 'cls.seq_relationship.bias', 'cls.predictions.transform.LayerNorm.bias', 'cls.predictions.transform.dense.bias', 'cls.predictions.transform.LayerNorm.weight', 'cls.seq_relationship.weight', 'cls.predictions.decoder.weight']\n",
            "- This IS expected if you are initializing BertModel from the checkpoint of a model trained on another task or with another architecture (e.g. initializing a BertForSequenceClassification model from a BertForPreTraining model).\n",
            "- This IS NOT expected if you are initializing BertModel from the checkpoint of a model that you expect to be exactly identical (initializing a BertForSequenceClassification model from a BertForSequenceClassification model).\n"
          ]
        },
        {
          "output_type": "stream",
          "name": "stdout",
          "text": [
            "--------------------------------------------------------------------------------\n",
            "Epoch: 001/4 | Time: 125.0100s | Train loss: 0.9442 | Dev loss: 0.4963\n",
            "Train Pearson Coef: 0.7525 | Dev Pearson Coef: 0.8844\n",
            "Train Spearman Coef: 0.7181 | Dev Spearman Coef: 0.8784\n",
            "--------------------------------------------------------------------------------\n",
            "Epoch: 002/4 | Time: 125.2263s | Train loss: 0.3150 | Dev loss: 0.4542\n",
            "Train Pearson Coef: 0.9237 | Dev Pearson Coef: 0.8949\n",
            "Train Spearman Coef: 0.9091 | Dev Spearman Coef: 0.8886\n",
            "--------------------------------------------------------------------------------\n",
            "Epoch: 003/4 | Time: 125.2890s | Train loss: 0.1728 | Dev loss: 0.5741\n",
            "Train Pearson Coef: 0.9592 | Dev Pearson Coef: 0.8898\n",
            "Train Spearman Coef: 0.9513 | Dev Spearman Coef: 0.8842\n"
          ]
        },
        {
          "output_type": "stream",
          "name": "stderr",
          "text": [
            "\u001b[32m[I 2023-05-08 22:44:26,953]\u001b[0m Trial 143 finished with value: 0.4535485585319235 and parameters: {'num_layer': 1, 'dropout': 0.01372941754675492, 'optimizer': 'RMSprop', 'learning_rate': 2.7973884738155308e-05}. Best is trial 65 with value: 0.44401334099313045.\u001b[0m\n"
          ]
        },
        {
          "output_type": "stream",
          "name": "stdout",
          "text": [
            "--------------------------------------------------------------------------------\n",
            "Epoch: 004/4 | Time: 125.4408s | Train loss: 0.1285 | Dev loss: 0.4535\n",
            "Train Pearson Coef: 0.9698 | Dev Pearson Coef: 0.8947\n",
            "Train Spearman Coef: 0.9651 | Dev Spearman Coef: 0.8895\n"
          ]
        },
        {
          "output_type": "stream",
          "name": "stderr",
          "text": [
            "Some weights of the model checkpoint at bert-base-uncased were not used when initializing BertModel: ['cls.predictions.transform.dense.weight', 'cls.predictions.bias', 'cls.seq_relationship.bias', 'cls.predictions.transform.LayerNorm.bias', 'cls.predictions.transform.dense.bias', 'cls.predictions.transform.LayerNorm.weight', 'cls.seq_relationship.weight', 'cls.predictions.decoder.weight']\n",
            "- This IS expected if you are initializing BertModel from the checkpoint of a model trained on another task or with another architecture (e.g. initializing a BertForSequenceClassification model from a BertForPreTraining model).\n",
            "- This IS NOT expected if you are initializing BertModel from the checkpoint of a model that you expect to be exactly identical (initializing a BertForSequenceClassification model from a BertForSequenceClassification model).\n"
          ]
        },
        {
          "output_type": "stream",
          "name": "stdout",
          "text": [
            "--------------------------------------------------------------------------------\n",
            "Epoch: 001/4 | Time: 124.4145s | Train loss: 0.9406 | Dev loss: 0.4898\n",
            "Train Pearson Coef: 0.7532 | Dev Pearson Coef: 0.8864\n",
            "Train Spearman Coef: 0.7212 | Dev Spearman Coef: 0.8812\n",
            "--------------------------------------------------------------------------------\n",
            "Epoch: 002/4 | Time: 124.8870s | Train loss: 0.3100 | Dev loss: 0.5674\n",
            "Train Pearson Coef: 0.9250 | Dev Pearson Coef: 0.8920\n",
            "Train Spearman Coef: 0.9100 | Dev Spearman Coef: 0.8868\n",
            "--------------------------------------------------------------------------------\n",
            "Epoch: 003/4 | Time: 124.6988s | Train loss: 0.1616 | Dev loss: 0.5431\n",
            "Train Pearson Coef: 0.9618 | Dev Pearson Coef: 0.8961\n",
            "Train Spearman Coef: 0.9544 | Dev Spearman Coef: 0.8907\n"
          ]
        },
        {
          "output_type": "stream",
          "name": "stderr",
          "text": [
            "\u001b[32m[I 2023-05-08 22:52:49,005]\u001b[0m Trial 144 finished with value: 0.4898288256310402 and parameters: {'num_layer': 1, 'dropout': 0.02180253134153127, 'optimizer': 'RMSprop', 'learning_rate': 2.7863490255805737e-05}. Best is trial 65 with value: 0.44401334099313045.\u001b[0m\n"
          ]
        },
        {
          "output_type": "stream",
          "name": "stdout",
          "text": [
            "--------------------------------------------------------------------------------\n",
            "Epoch: 004/4 | Time: 124.8752s | Train loss: 0.1305 | Dev loss: 0.5098\n",
            "Train Pearson Coef: 0.9692 | Dev Pearson Coef: 0.8936\n",
            "Train Spearman Coef: 0.9637 | Dev Spearman Coef: 0.8890\n"
          ]
        },
        {
          "output_type": "stream",
          "name": "stderr",
          "text": [
            "Some weights of the model checkpoint at bert-base-uncased were not used when initializing BertModel: ['cls.predictions.transform.dense.weight', 'cls.predictions.bias', 'cls.seq_relationship.bias', 'cls.predictions.transform.LayerNorm.bias', 'cls.predictions.transform.dense.bias', 'cls.predictions.transform.LayerNorm.weight', 'cls.seq_relationship.weight', 'cls.predictions.decoder.weight']\n",
            "- This IS expected if you are initializing BertModel from the checkpoint of a model trained on another task or with another architecture (e.g. initializing a BertForSequenceClassification model from a BertForPreTraining model).\n",
            "- This IS NOT expected if you are initializing BertModel from the checkpoint of a model that you expect to be exactly identical (initializing a BertForSequenceClassification model from a BertForSequenceClassification model).\n"
          ]
        },
        {
          "output_type": "stream",
          "name": "stdout",
          "text": [
            "--------------------------------------------------------------------------------\n",
            "Epoch: 001/4 | Time: 124.6390s | Train loss: 0.9208 | Dev loss: 0.5119\n",
            "Train Pearson Coef: 0.7589 | Dev Pearson Coef: 0.8894\n",
            "Train Spearman Coef: 0.7286 | Dev Spearman Coef: 0.8836\n",
            "--------------------------------------------------------------------------------\n",
            "Epoch: 002/4 | Time: 124.9541s | Train loss: 0.3095 | Dev loss: 0.4616\n",
            "Train Pearson Coef: 0.9251 | Dev Pearson Coef: 0.8947\n",
            "Train Spearman Coef: 0.9105 | Dev Spearman Coef: 0.8894\n",
            "--------------------------------------------------------------------------------\n",
            "Epoch: 003/4 | Time: 124.5391s | Train loss: 0.1563 | Dev loss: 0.5357\n",
            "Train Pearson Coef: 0.9630 | Dev Pearson Coef: 0.8960\n",
            "Train Spearman Coef: 0.9566 | Dev Spearman Coef: 0.8899\n"
          ]
        },
        {
          "output_type": "stream",
          "name": "stderr",
          "text": [
            "\u001b[32m[I 2023-05-08 23:01:13,779]\u001b[0m Trial 145 finished with value: 0.45997005257200685 and parameters: {'num_layer': 1, 'dropout': 0.015177428319256918, 'optimizer': 'RMSprop', 'learning_rate': 2.6042541009707905e-05}. Best is trial 65 with value: 0.44401334099313045.\u001b[0m\n"
          ]
        },
        {
          "output_type": "stream",
          "name": "stdout",
          "text": [
            "--------------------------------------------------------------------------------\n",
            "Epoch: 004/4 | Time: 124.8692s | Train loss: 0.1280 | Dev loss: 0.4600\n",
            "Train Pearson Coef: 0.9699 | Dev Pearson Coef: 0.8943\n",
            "Train Spearman Coef: 0.9645 | Dev Spearman Coef: 0.8882\n"
          ]
        },
        {
          "output_type": "stream",
          "name": "stderr",
          "text": [
            "Some weights of the model checkpoint at bert-base-uncased were not used when initializing BertModel: ['cls.predictions.transform.dense.weight', 'cls.predictions.bias', 'cls.seq_relationship.bias', 'cls.predictions.transform.LayerNorm.bias', 'cls.predictions.transform.dense.bias', 'cls.predictions.transform.LayerNorm.weight', 'cls.seq_relationship.weight', 'cls.predictions.decoder.weight']\n",
            "- This IS expected if you are initializing BertModel from the checkpoint of a model trained on another task or with another architecture (e.g. initializing a BertForSequenceClassification model from a BertForPreTraining model).\n",
            "- This IS NOT expected if you are initializing BertModel from the checkpoint of a model that you expect to be exactly identical (initializing a BertForSequenceClassification model from a BertForSequenceClassification model).\n"
          ]
        },
        {
          "output_type": "stream",
          "name": "stdout",
          "text": [
            "--------------------------------------------------------------------------------\n",
            "Epoch: 001/4 | Time: 124.4521s | Train loss: 0.9241 | Dev loss: 0.5668\n",
            "Train Pearson Coef: 0.7575 | Dev Pearson Coef: 0.8856\n",
            "Train Spearman Coef: 0.7237 | Dev Spearman Coef: 0.8807\n",
            "--------------------------------------------------------------------------------\n",
            "Epoch: 002/4 | Time: 125.0652s | Train loss: 0.3128 | Dev loss: 0.4503\n",
            "Train Pearson Coef: 0.9243 | Dev Pearson Coef: 0.8946\n",
            "Train Spearman Coef: 0.9092 | Dev Spearman Coef: 0.8895\n",
            "--------------------------------------------------------------------------------\n",
            "Epoch: 003/4 | Time: 124.8845s | Train loss: 0.1595 | Dev loss: 0.5060\n",
            "Train Pearson Coef: 0.9622 | Dev Pearson Coef: 0.8930\n",
            "Train Spearman Coef: 0.9554 | Dev Spearman Coef: 0.8869\n"
          ]
        },
        {
          "output_type": "stream",
          "name": "stderr",
          "text": [
            "\u001b[32m[I 2023-05-08 23:09:37,559]\u001b[0m Trial 146 finished with value: 0.45027893496320603 and parameters: {'num_layer': 1, 'dropout': 0.042564604703328617, 'optimizer': 'RMSprop', 'learning_rate': 2.416644735232646e-05}. Best is trial 65 with value: 0.44401334099313045.\u001b[0m\n"
          ]
        },
        {
          "output_type": "stream",
          "name": "stdout",
          "text": [
            "--------------------------------------------------------------------------------\n",
            "Epoch: 004/4 | Time: 124.8649s | Train loss: 0.1190 | Dev loss: 0.4596\n",
            "Train Pearson Coef: 0.9720 | Dev Pearson Coef: 0.8925\n",
            "Train Spearman Coef: 0.9668 | Dev Spearman Coef: 0.8875\n"
          ]
        },
        {
          "output_type": "stream",
          "name": "stderr",
          "text": [
            "Some weights of the model checkpoint at bert-base-uncased were not used when initializing BertModel: ['cls.predictions.transform.dense.weight', 'cls.predictions.bias', 'cls.seq_relationship.bias', 'cls.predictions.transform.LayerNorm.bias', 'cls.predictions.transform.dense.bias', 'cls.predictions.transform.LayerNorm.weight', 'cls.seq_relationship.weight', 'cls.predictions.decoder.weight']\n",
            "- This IS expected if you are initializing BertModel from the checkpoint of a model trained on another task or with another architecture (e.g. initializing a BertForSequenceClassification model from a BertForPreTraining model).\n",
            "- This IS NOT expected if you are initializing BertModel from the checkpoint of a model that you expect to be exactly identical (initializing a BertForSequenceClassification model from a BertForSequenceClassification model).\n"
          ]
        },
        {
          "output_type": "stream",
          "name": "stdout",
          "text": [
            "--------------------------------------------------------------------------------\n",
            "Epoch: 001/4 | Time: 124.8111s | Train loss: 0.9001 | Dev loss: 0.5067\n",
            "Train Pearson Coef: 0.7645 | Dev Pearson Coef: 0.8857\n",
            "Train Spearman Coef: 0.7338 | Dev Spearman Coef: 0.8796\n",
            "--------------------------------------------------------------------------------\n",
            "Epoch: 002/4 | Time: 125.3787s | Train loss: 0.3078 | Dev loss: 0.5836\n",
            "Train Pearson Coef: 0.9256 | Dev Pearson Coef: 0.8914\n",
            "Train Spearman Coef: 0.9099 | Dev Spearman Coef: 0.8871\n",
            "--------------------------------------------------------------------------------\n",
            "Epoch: 003/4 | Time: 124.9575s | Train loss: 0.1609 | Dev loss: 0.5070\n",
            "Train Pearson Coef: 0.9620 | Dev Pearson Coef: 0.8915\n",
            "Train Spearman Coef: 0.9545 | Dev Spearman Coef: 0.8854\n",
            "--------------------------------------------------------------------------------\n",
            "Epoch: 004/4 | Time: 125.3066s | Train loss: 0.1236 | Dev loss: 0.5003\n",
            "Train Pearson Coef: 0.9709 | Dev Pearson Coef: 0.8910\n",
            "Train Spearman Coef: 0.9659 | Dev Spearman Coef: 0.8860\n"
          ]
        },
        {
          "output_type": "stream",
          "name": "stderr",
          "text": [
            "\u001b[32m[I 2023-05-08 23:18:03,576]\u001b[0m Trial 147 finished with value: 0.5003401954123314 and parameters: {'num_layer': 1, 'dropout': 0.05071384398839074, 'optimizer': 'RMSprop', 'learning_rate': 2.3177460445546778e-05}. Best is trial 65 with value: 0.44401334099313045.\u001b[0m\n",
            "Some weights of the model checkpoint at bert-base-uncased were not used when initializing BertModel: ['cls.predictions.transform.dense.weight', 'cls.predictions.bias', 'cls.seq_relationship.bias', 'cls.predictions.transform.LayerNorm.bias', 'cls.predictions.transform.dense.bias', 'cls.predictions.transform.LayerNorm.weight', 'cls.seq_relationship.weight', 'cls.predictions.decoder.weight']\n",
            "- This IS expected if you are initializing BertModel from the checkpoint of a model trained on another task or with another architecture (e.g. initializing a BertForSequenceClassification model from a BertForPreTraining model).\n",
            "- This IS NOT expected if you are initializing BertModel from the checkpoint of a model that you expect to be exactly identical (initializing a BertForSequenceClassification model from a BertForSequenceClassification model).\n"
          ]
        },
        {
          "output_type": "stream",
          "name": "stdout",
          "text": [
            "--------------------------------------------------------------------------------\n",
            "Epoch: 001/4 | Time: 124.7827s | Train loss: 0.9424 | Dev loss: 0.5034\n",
            "Train Pearson Coef: 0.7519 | Dev Pearson Coef: 0.8846\n",
            "Train Spearman Coef: 0.7197 | Dev Spearman Coef: 0.8798\n",
            "--------------------------------------------------------------------------------\n",
            "Epoch: 002/4 | Time: 125.2232s | Train loss: 0.3044 | Dev loss: 0.5395\n",
            "Train Pearson Coef: 0.9264 | Dev Pearson Coef: 0.8907\n",
            "Train Spearman Coef: 0.9109 | Dev Spearman Coef: 0.8858\n",
            "--------------------------------------------------------------------------------\n",
            "Epoch: 003/4 | Time: 124.9841s | Train loss: 0.1576 | Dev loss: 0.5100\n",
            "Train Pearson Coef: 0.9627 | Dev Pearson Coef: 0.8923\n",
            "Train Spearman Coef: 0.9559 | Dev Spearman Coef: 0.8882\n"
          ]
        },
        {
          "output_type": "stream",
          "name": "stderr",
          "text": [
            "\u001b[32m[I 2023-05-08 23:26:28,449]\u001b[0m Trial 148 finished with value: 0.5012845790132563 and parameters: {'num_layer': 1, 'dropout': 0.06657305325664553, 'optimizer': 'RMSprop', 'learning_rate': 2.4523961515122553e-05}. Best is trial 65 with value: 0.44401334099313045.\u001b[0m\n"
          ]
        },
        {
          "output_type": "stream",
          "name": "stdout",
          "text": [
            "--------------------------------------------------------------------------------\n",
            "Epoch: 004/4 | Time: 125.3436s | Train loss: 0.1301 | Dev loss: 0.5013\n",
            "Train Pearson Coef: 0.9695 | Dev Pearson Coef: 0.8929\n",
            "Train Spearman Coef: 0.9644 | Dev Spearman Coef: 0.8897\n"
          ]
        },
        {
          "output_type": "stream",
          "name": "stderr",
          "text": [
            "Some weights of the model checkpoint at bert-base-uncased were not used when initializing BertModel: ['cls.predictions.transform.dense.weight', 'cls.predictions.bias', 'cls.seq_relationship.bias', 'cls.predictions.transform.LayerNorm.bias', 'cls.predictions.transform.dense.bias', 'cls.predictions.transform.LayerNorm.weight', 'cls.seq_relationship.weight', 'cls.predictions.decoder.weight']\n",
            "- This IS expected if you are initializing BertModel from the checkpoint of a model trained on another task or with another architecture (e.g. initializing a BertForSequenceClassification model from a BertForPreTraining model).\n",
            "- This IS NOT expected if you are initializing BertModel from the checkpoint of a model that you expect to be exactly identical (initializing a BertForSequenceClassification model from a BertForSequenceClassification model).\n"
          ]
        },
        {
          "output_type": "stream",
          "name": "stdout",
          "text": [
            "--------------------------------------------------------------------------------\n",
            "Epoch: 001/4 | Time: 124.8991s | Train loss: 0.9398 | Dev loss: 0.5251\n",
            "Train Pearson Coef: 0.7532 | Dev Pearson Coef: 0.8871\n",
            "Train Spearman Coef: 0.7224 | Dev Spearman Coef: 0.8814\n",
            "--------------------------------------------------------------------------------\n",
            "Epoch: 002/4 | Time: 125.5059s | Train loss: 0.3188 | Dev loss: 0.4560\n",
            "Train Pearson Coef: 0.9228 | Dev Pearson Coef: 0.8949\n",
            "Train Spearman Coef: 0.9074 | Dev Spearman Coef: 0.8896\n",
            "--------------------------------------------------------------------------------\n",
            "Epoch: 003/4 | Time: 125.4138s | Train loss: 0.1669 | Dev loss: 0.5442\n",
            "Train Pearson Coef: 0.9604 | Dev Pearson Coef: 0.8932\n",
            "Train Spearman Coef: 0.9525 | Dev Spearman Coef: 0.8883\n"
          ]
        },
        {
          "output_type": "stream",
          "name": "stderr",
          "text": [
            "\u001b[32m[I 2023-05-08 23:34:54,174]\u001b[0m Trial 149 finished with value: 0.45604145717113576 and parameters: {'num_layer': 1, 'dropout': 0.012598334870066239, 'optimizer': 'RMSprop', 'learning_rate': 2.5383437309903707e-05}. Best is trial 65 with value: 0.44401334099313045.\u001b[0m\n"
          ]
        },
        {
          "output_type": "stream",
          "name": "stdout",
          "text": [
            "--------------------------------------------------------------------------------\n",
            "Epoch: 004/4 | Time: 125.2223s | Train loss: 0.1248 | Dev loss: 0.5032\n",
            "Train Pearson Coef: 0.9706 | Dev Pearson Coef: 0.8915\n",
            "Train Spearman Coef: 0.9657 | Dev Spearman Coef: 0.8871\n"
          ]
        },
        {
          "output_type": "stream",
          "name": "stderr",
          "text": [
            "Some weights of the model checkpoint at bert-base-uncased were not used when initializing BertModel: ['cls.predictions.transform.dense.weight', 'cls.predictions.bias', 'cls.seq_relationship.bias', 'cls.predictions.transform.LayerNorm.bias', 'cls.predictions.transform.dense.bias', 'cls.predictions.transform.LayerNorm.weight', 'cls.seq_relationship.weight', 'cls.predictions.decoder.weight']\n",
            "- This IS expected if you are initializing BertModel from the checkpoint of a model trained on another task or with another architecture (e.g. initializing a BertForSequenceClassification model from a BertForPreTraining model).\n",
            "- This IS NOT expected if you are initializing BertModel from the checkpoint of a model that you expect to be exactly identical (initializing a BertForSequenceClassification model from a BertForSequenceClassification model).\n"
          ]
        },
        {
          "output_type": "stream",
          "name": "stdout",
          "text": [
            "--------------------------------------------------------------------------------\n",
            "Epoch: 001/4 | Time: 120.8699s | Train loss: 9.1406 | Dev loss: 7.3416\n",
            "Train Pearson Coef: 0.0497 | Dev Pearson Coef: -0.0074\n",
            "Train Spearman Coef: 0.0483 | Dev Spearman Coef: -0.0047\n",
            "--------------------------------------------------------------------------------\n",
            "Epoch: 002/4 | Time: 120.9234s | Train loss: 8.6775 | Dev loss: 6.9615\n",
            "Train Pearson Coef: 0.0676 | Dev Pearson Coef: 0.0046\n",
            "Train Spearman Coef: 0.0649 | Dev Spearman Coef: 0.0082\n",
            "--------------------------------------------------------------------------------\n",
            "Epoch: 003/4 | Time: 120.8256s | Train loss: 8.2302 | Dev loss: 6.5965\n",
            "Train Pearson Coef: 0.0846 | Dev Pearson Coef: 0.0157\n",
            "Train Spearman Coef: 0.0807 | Dev Spearman Coef: 0.0199\n"
          ]
        },
        {
          "output_type": "stream",
          "name": "stderr",
          "text": [
            "\u001b[32m[I 2023-05-08 23:43:06,019]\u001b[0m Trial 150 finished with value: 6.246364928306417 and parameters: {'num_layer': 1, 'dropout': 0.09594595947301413, 'optimizer': 'SGD', 'learning_rate': 2.4987955019125373e-05}. Best is trial 65 with value: 0.44401334099313045.\u001b[0m\n"
          ]
        },
        {
          "output_type": "stream",
          "name": "stdout",
          "text": [
            "--------------------------------------------------------------------------------\n",
            "Epoch: 004/4 | Time: 120.9167s | Train loss: 7.7985 | Dev loss: 6.2464\n",
            "Train Pearson Coef: 0.1006 | Dev Pearson Coef: 0.0256\n",
            "Train Spearman Coef: 0.0957 | Dev Spearman Coef: 0.0298\n"
          ]
        },
        {
          "output_type": "stream",
          "name": "stderr",
          "text": [
            "Some weights of the model checkpoint at bert-base-uncased were not used when initializing BertModel: ['cls.predictions.transform.dense.weight', 'cls.predictions.bias', 'cls.seq_relationship.bias', 'cls.predictions.transform.LayerNorm.bias', 'cls.predictions.transform.dense.bias', 'cls.predictions.transform.LayerNorm.weight', 'cls.seq_relationship.weight', 'cls.predictions.decoder.weight']\n",
            "- This IS expected if you are initializing BertModel from the checkpoint of a model trained on another task or with another architecture (e.g. initializing a BertForSequenceClassification model from a BertForPreTraining model).\n",
            "- This IS NOT expected if you are initializing BertModel from the checkpoint of a model that you expect to be exactly identical (initializing a BertForSequenceClassification model from a BertForSequenceClassification model).\n"
          ]
        },
        {
          "output_type": "stream",
          "name": "stdout",
          "text": [
            "--------------------------------------------------------------------------------\n",
            "Epoch: 001/4 | Time: 124.4925s | Train loss: 0.9356 | Dev loss: 0.4878\n",
            "Train Pearson Coef: 0.7537 | Dev Pearson Coef: 0.8894\n",
            "Train Spearman Coef: 0.7236 | Dev Spearman Coef: 0.8850\n",
            "--------------------------------------------------------------------------------\n",
            "Epoch: 002/4 | Time: 124.8126s | Train loss: 0.3004 | Dev loss: 0.4834\n",
            "Train Pearson Coef: 0.9274 | Dev Pearson Coef: 0.8919\n",
            "Train Spearman Coef: 0.9126 | Dev Spearman Coef: 0.8874\n",
            "--------------------------------------------------------------------------------\n",
            "Epoch: 003/4 | Time: 124.7104s | Train loss: 0.1657 | Dev loss: 0.5299\n",
            "Train Pearson Coef: 0.9609 | Dev Pearson Coef: 0.8952\n",
            "Train Spearman Coef: 0.9528 | Dev Spearman Coef: 0.8898\n"
          ]
        },
        {
          "output_type": "stream",
          "name": "stderr",
          "text": [
            "\u001b[32m[I 2023-05-08 23:51:30,671]\u001b[0m Trial 151 finished with value: 0.47114593583218595 and parameters: {'num_layer': 1, 'dropout': 0.0839025270463016, 'optimizer': 'RMSprop', 'learning_rate': 2.3808290641946965e-05}. Best is trial 65 with value: 0.44401334099313045.\u001b[0m\n"
          ]
        },
        {
          "output_type": "stream",
          "name": "stdout",
          "text": [
            "--------------------------------------------------------------------------------\n",
            "Epoch: 004/4 | Time: 124.4705s | Train loss: 0.1145 | Dev loss: 0.4711\n",
            "Train Pearson Coef: 0.9730 | Dev Pearson Coef: 0.8948\n",
            "Train Spearman Coef: 0.9687 | Dev Spearman Coef: 0.8899\n"
          ]
        },
        {
          "output_type": "stream",
          "name": "stderr",
          "text": [
            "Some weights of the model checkpoint at bert-base-uncased were not used when initializing BertModel: ['cls.predictions.transform.dense.weight', 'cls.predictions.bias', 'cls.seq_relationship.bias', 'cls.predictions.transform.LayerNorm.bias', 'cls.predictions.transform.dense.bias', 'cls.predictions.transform.LayerNorm.weight', 'cls.seq_relationship.weight', 'cls.predictions.decoder.weight']\n",
            "- This IS expected if you are initializing BertModel from the checkpoint of a model trained on another task or with another architecture (e.g. initializing a BertForSequenceClassification model from a BertForPreTraining model).\n",
            "- This IS NOT expected if you are initializing BertModel from the checkpoint of a model that you expect to be exactly identical (initializing a BertForSequenceClassification model from a BertForSequenceClassification model).\n"
          ]
        },
        {
          "output_type": "stream",
          "name": "stdout",
          "text": [
            "--------------------------------------------------------------------------------\n",
            "Epoch: 001/4 | Time: 124.6527s | Train loss: 0.9514 | Dev loss: 0.4923\n",
            "Train Pearson Coef: 0.7502 | Dev Pearson Coef: 0.8847\n",
            "Train Spearman Coef: 0.7173 | Dev Spearman Coef: 0.8788\n",
            "--------------------------------------------------------------------------------\n",
            "Epoch: 002/4 | Time: 124.8661s | Train loss: 0.3129 | Dev loss: 0.5472\n",
            "Train Pearson Coef: 0.9244 | Dev Pearson Coef: 0.8884\n",
            "Train Spearman Coef: 0.9093 | Dev Spearman Coef: 0.8828\n",
            "--------------------------------------------------------------------------------\n",
            "Epoch: 003/4 | Time: 124.8267s | Train loss: 0.1706 | Dev loss: 0.5252\n",
            "Train Pearson Coef: 0.9597 | Dev Pearson Coef: 0.8925\n",
            "Train Spearman Coef: 0.9525 | Dev Spearman Coef: 0.8871\n",
            "--------------------------------------------------------------------------------\n",
            "Epoch: 004/4 | Time: 124.9446s | Train loss: 0.1279 | Dev loss: 0.4776\n",
            "Train Pearson Coef: 0.9698 | Dev Pearson Coef: 0.8934\n",
            "Train Spearman Coef: 0.9643 | Dev Spearman Coef: 0.8882\n"
          ]
        },
        {
          "output_type": "stream",
          "name": "stderr",
          "text": [
            "\u001b[32m[I 2023-05-08 23:59:54,930]\u001b[0m Trial 152 finished with value: 0.4775777018450676 and parameters: {'num_layer': 1, 'dropout': 0.045299314981724854, 'optimizer': 'RMSprop', 'learning_rate': 2.8405766568646606e-05}. Best is trial 65 with value: 0.44401334099313045.\u001b[0m\n"
          ]
        }
      ]
    },
    {
      "cell_type": "code",
      "source": [
        "df_optuna = study.trials_dataframe(attrs=(\"number\", \"value\", \"params\", \"state\")).dropna(subset=['value']) #eliminar valores NaN\n",
        "# Leer el archivo metrics.CSV y crear un DataFrame\n",
        "path_metrics = path_base + 'metrics_' + study_name + \".csv\"\n",
        "df_metrics = pd.read_csv(path_metrics)\n",
        "print(len(df_optuna))\n",
        "print(len(df_metrics ))"
      ],
      "metadata": {
        "id": "CgbiyUtpetOy",
        "colab": {
          "base_uri": "https://localhost:8080/"
        },
        "outputId": "259ff235-4fd4-4c3e-c622-eea245fe6836"
      },
      "execution_count": 32,
      "outputs": [
        {
          "output_type": "stream",
          "name": "stdout",
          "text": [
            "150\n",
            "16\n"
          ]
        }
      ]
    },
    {
      "cell_type": "code",
      "source": [
        "df_old = pd.read_csv(path_base + study_name + \"_COMPLETE_SORT.csv\")\n",
        "print(\"Old trials: \", len(df_old))"
      ],
      "metadata": {
        "id": "lSsJtgroev53",
        "colab": {
          "base_uri": "https://localhost:8080/"
        },
        "outputId": "5add3969-8aea-44ca-ebfd-91a33ca69ffe"
      },
      "execution_count": 33,
      "outputs": [
        {
          "output_type": "stream",
          "name": "stdout",
          "text": [
            "Old trials:  134\n"
          ]
        }
      ]
    },
    {
      "cell_type": "code",
      "source": [
        "if len(df_optuna)-len(df_metrics) == len(df_old):\n",
        "    df_optuna_filter = df_optuna.tail(len(df_metrics)).reset_index(drop=True)\n",
        "else:\n",
        "    # Seleccionar los valores de df_optuna que no están ya en df_old\n",
        "    mask = ~df_optuna['value'].isin(df_old['value'])\n",
        "    df_optuna_filter = df_optuna[mask].reset_index(drop=True)\n",
        "    print(len(df_optuna_filter))"
      ],
      "metadata": {
        "id": "DJSP7MqaexnQ"
      },
      "execution_count": 34,
      "outputs": []
    },
    {
      "cell_type": "code",
      "source": [
        "def concat(df_optuna_filter, df_metrics, df_old):\n",
        "  # Unir dataframe de metrics con dataframe de optuna de forma horizontal y manejar los valores inexistentes\n",
        "  df_join = pd.concat([df_optuna_filter, df_metrics], axis=1, sort=False)\n",
        "  # Unir dataframe de metrics con dataframe de optuna de forma vertical y manejar los valores inexistentes\n",
        "  df_complete_updated = pd.concat([df_old, df_join], axis=0, sort=False).drop_duplicates()\n",
        "  print(\"All trials: \", len(df_complete_updated))\n",
        "  assert len(df_join) + len(df_old) == len(df_complete_updated)\n",
        "  return df_complete_updated"
      ],
      "metadata": {
        "id": "KDNOiKPYezm2"
      },
      "execution_count": 35,
      "outputs": []
    },
    {
      "cell_type": "code",
      "source": [
        "if len(df_optuna_filter) == len(df_metrics):\n",
        "  df_complete_updated = concat(df_optuna_filter, df_metrics, df_old).dropna(subset=['train_loss', 'value'])\n",
        "\n",
        "if len(df_optuna_filter) > len(df_metrics):\n",
        "  num_rows_to_add = len(df_optuna_filter) - len(df_metrics)\n",
        "  new_rows = [[np.nan] * len(df_metrics.columns) for i in range(num_rows_to_add)]\n",
        "  new_df = pd.DataFrame(new_rows, columns=df_metrics.columns)\n",
        "  df_metrics = pd.concat([new_df, df_metrics], ignore_index=True)\n",
        "  df_complete_updated = concat(df_optuna_filter, df_metrics, df_old).dropna(subset=['train_loss','value'])"
      ],
      "metadata": {
        "id": "VoGP8TyGe1vk",
        "colab": {
          "base_uri": "https://localhost:8080/"
        },
        "outputId": "7c3aeb0e-91d2-48d9-c2d4-fe357b5cb811"
      },
      "execution_count": 36,
      "outputs": [
        {
          "output_type": "stream",
          "name": "stdout",
          "text": [
            "All trials:  150\n"
          ]
        }
      ]
    },
    {
      "cell_type": "code",
      "source": [
        "# Ordenar el DataFrame unido por valor\n",
        "df = df_complete_updated.sort_values(by='value', ascending=True)\n",
        "# Obtener la prueba con el mejor valor\n",
        "best_trial = df.iloc[0]\n",
        "print(\"Best trial: \")\n",
        "print(best_trial)"
      ],
      "metadata": {
        "id": "MctGOZOOe3Z3",
        "colab": {
          "base_uri": "https://localhost:8080/"
        },
        "outputId": "5a851872-7e9d-4944-b27a-2da236d5f27a"
      },
      "execution_count": 37,
      "outputs": [
        {
          "output_type": "stream",
          "name": "stdout",
          "text": [
            "Best trial: \n",
            "number                                                                 65\n",
            "value                                                            0.444013\n",
            "params_dropout                                                   0.040977\n",
            "params_learning_rate                                             0.000027\n",
            "params_num_layer                                                        1\n",
            "params_optimizer                                                  RMSprop\n",
            "state                                                            COMPLETE\n",
            "train_loss              [0.9399796831938956, 0.31914767573277153, 0.15...\n",
            "valid_loss              [0.4946415408494625, 0.44401334099313045, 0.46...\n",
            "spearman_train          [0.72040739366564, 0.9079949280250031, 0.95543...\n",
            "spearman_val            [0.8794414655608209, 0.8908084182350301, 0.887...\n",
            "pearson_train           [0.7535351939300079, 0.9227468811080068, 0.962...\n",
            "pearson_val             [0.8844358753652594, 0.8961513733899313, 0.892...\n",
            "Name: 0, dtype: object\n"
          ]
        }
      ]
    },
    {
      "cell_type": "code",
      "source": [
        "#Guardar CSV completo y ordenado\n",
        "# ruta de acceso a la carpeta de Google Drive montada\n",
        "os.remove(path_base + study_name + \"_COMPLETE_SORT.csv\")\n",
        "path_ = path_base + study_name + \"_COMPLETE_SORT.csv\"\n",
        "# guardar el archivo CSV en Google Drive\n",
        "df.to_csv(path_, index=False)\n",
        "files.download(path_)\n",
        "os.remove(path_metrics)"
      ],
      "metadata": {
        "id": "YJ4973iMe5C1",
        "colab": {
          "base_uri": "https://localhost:8080/",
          "height": 17
        },
        "outputId": "96084729-7a19-4e80-ad27-cb07a7cdd06e"
      },
      "execution_count": 38,
      "outputs": [
        {
          "output_type": "display_data",
          "data": {
            "text/plain": [
              "<IPython.core.display.Javascript object>"
            ],
            "application/javascript": [
              "\n",
              "    async function download(id, filename, size) {\n",
              "      if (!google.colab.kernel.accessAllowed) {\n",
              "        return;\n",
              "      }\n",
              "      const div = document.createElement('div');\n",
              "      const label = document.createElement('label');\n",
              "      label.textContent = `Downloading \"${filename}\": `;\n",
              "      div.appendChild(label);\n",
              "      const progress = document.createElement('progress');\n",
              "      progress.max = size;\n",
              "      div.appendChild(progress);\n",
              "      document.body.appendChild(div);\n",
              "\n",
              "      const buffers = [];\n",
              "      let downloaded = 0;\n",
              "\n",
              "      const channel = await google.colab.kernel.comms.open(id);\n",
              "      // Send a message to notify the kernel that we're ready.\n",
              "      channel.send({})\n",
              "\n",
              "      for await (const message of channel.messages) {\n",
              "        // Send a message to notify the kernel that we're ready.\n",
              "        channel.send({})\n",
              "        if (message.buffers) {\n",
              "          for (const buffer of message.buffers) {\n",
              "            buffers.push(buffer);\n",
              "            downloaded += buffer.byteLength;\n",
              "            progress.value = downloaded;\n",
              "          }\n",
              "        }\n",
              "      }\n",
              "      const blob = new Blob(buffers, {type: 'application/binary'});\n",
              "      const a = document.createElement('a');\n",
              "      a.href = window.URL.createObjectURL(blob);\n",
              "      a.download = filename;\n",
              "      div.appendChild(a);\n",
              "      a.click();\n",
              "      div.remove();\n",
              "    }\n",
              "  "
            ]
          },
          "metadata": {}
        },
        {
          "output_type": "display_data",
          "data": {
            "text/plain": [
              "<IPython.core.display.Javascript object>"
            ],
            "application/javascript": [
              "download(\"download_e70910b8-5ae5-4cc9-b3fd-c1a98bfd22e9\", \"study-bert-max-pooling-base_COMPLETE_SORT.csv\", 87043)"
            ]
          },
          "metadata": {}
        }
      ]
    }
  ],
  "metadata": {
    "colab": {
      "provenance": []
    },
    "gpuClass": "standard",
    "kernelspec": {
      "display_name": "Python 3",
      "name": "python3"
    },
    "language_info": {
      "codemirror_mode": {
        "name": "ipython",
        "version": 3
      },
      "file_extension": ".py",
      "mimetype": "text/x-python",
      "name": "python",
      "nbconvert_exporter": "python",
      "pygments_lexer": "ipython3",
      "version": "3.9.4"
    },
    "accelerator": "GPU",
    "widgets": {
      "application/vnd.jupyter.widget-state+json": {
        "146fefa8980444dea434bef5c1fa269c": {
          "model_module": "@jupyter-widgets/controls",
          "model_name": "HBoxModel",
          "model_module_version": "1.5.0",
          "state": {
            "_dom_classes": [],
            "_model_module": "@jupyter-widgets/controls",
            "_model_module_version": "1.5.0",
            "_model_name": "HBoxModel",
            "_view_count": null,
            "_view_module": "@jupyter-widgets/controls",
            "_view_module_version": "1.5.0",
            "_view_name": "HBoxView",
            "box_style": "",
            "children": [
              "IPY_MODEL_61da46e6d94a44cdb0c40298e88fba0f",
              "IPY_MODEL_4418bb8a7cfb49fc9e53e7d5c56432f6",
              "IPY_MODEL_8c74fb2ffa5a43f9af80c00215d26155"
            ],
            "layout": "IPY_MODEL_d080b297ba364cf5a9b9e24cef6d9924"
          }
        },
        "61da46e6d94a44cdb0c40298e88fba0f": {
          "model_module": "@jupyter-widgets/controls",
          "model_name": "HTMLModel",
          "model_module_version": "1.5.0",
          "state": {
            "_dom_classes": [],
            "_model_module": "@jupyter-widgets/controls",
            "_model_module_version": "1.5.0",
            "_model_name": "HTMLModel",
            "_view_count": null,
            "_view_module": "@jupyter-widgets/controls",
            "_view_module_version": "1.5.0",
            "_view_name": "HTMLView",
            "description": "",
            "description_tooltip": null,
            "layout": "IPY_MODEL_7d438b5d86b941bbafb9230b6d2f1071",
            "placeholder": "​",
            "style": "IPY_MODEL_df2e2676ac6545d19fdf418fedbdfc7a",
            "value": "Downloading (…)solve/main/vocab.txt: 100%"
          }
        },
        "4418bb8a7cfb49fc9e53e7d5c56432f6": {
          "model_module": "@jupyter-widgets/controls",
          "model_name": "FloatProgressModel",
          "model_module_version": "1.5.0",
          "state": {
            "_dom_classes": [],
            "_model_module": "@jupyter-widgets/controls",
            "_model_module_version": "1.5.0",
            "_model_name": "FloatProgressModel",
            "_view_count": null,
            "_view_module": "@jupyter-widgets/controls",
            "_view_module_version": "1.5.0",
            "_view_name": "ProgressView",
            "bar_style": "success",
            "description": "",
            "description_tooltip": null,
            "layout": "IPY_MODEL_883c72c2501c49a78991824f79f1c873",
            "max": 231508,
            "min": 0,
            "orientation": "horizontal",
            "style": "IPY_MODEL_a02cb181479142d295c8f9bc55d4e01a",
            "value": 231508
          }
        },
        "8c74fb2ffa5a43f9af80c00215d26155": {
          "model_module": "@jupyter-widgets/controls",
          "model_name": "HTMLModel",
          "model_module_version": "1.5.0",
          "state": {
            "_dom_classes": [],
            "_model_module": "@jupyter-widgets/controls",
            "_model_module_version": "1.5.0",
            "_model_name": "HTMLModel",
            "_view_count": null,
            "_view_module": "@jupyter-widgets/controls",
            "_view_module_version": "1.5.0",
            "_view_name": "HTMLView",
            "description": "",
            "description_tooltip": null,
            "layout": "IPY_MODEL_97d55a6ed2544777b5092728667f857f",
            "placeholder": "​",
            "style": "IPY_MODEL_006e2119110a4356a6cf15191aa96abc",
            "value": " 232k/232k [00:00&lt;00:00, 561kB/s]"
          }
        },
        "d080b297ba364cf5a9b9e24cef6d9924": {
          "model_module": "@jupyter-widgets/base",
          "model_name": "LayoutModel",
          "model_module_version": "1.2.0",
          "state": {
            "_model_module": "@jupyter-widgets/base",
            "_model_module_version": "1.2.0",
            "_model_name": "LayoutModel",
            "_view_count": null,
            "_view_module": "@jupyter-widgets/base",
            "_view_module_version": "1.2.0",
            "_view_name": "LayoutView",
            "align_content": null,
            "align_items": null,
            "align_self": null,
            "border": null,
            "bottom": null,
            "display": null,
            "flex": null,
            "flex_flow": null,
            "grid_area": null,
            "grid_auto_columns": null,
            "grid_auto_flow": null,
            "grid_auto_rows": null,
            "grid_column": null,
            "grid_gap": null,
            "grid_row": null,
            "grid_template_areas": null,
            "grid_template_columns": null,
            "grid_template_rows": null,
            "height": null,
            "justify_content": null,
            "justify_items": null,
            "left": null,
            "margin": null,
            "max_height": null,
            "max_width": null,
            "min_height": null,
            "min_width": null,
            "object_fit": null,
            "object_position": null,
            "order": null,
            "overflow": null,
            "overflow_x": null,
            "overflow_y": null,
            "padding": null,
            "right": null,
            "top": null,
            "visibility": null,
            "width": null
          }
        },
        "7d438b5d86b941bbafb9230b6d2f1071": {
          "model_module": "@jupyter-widgets/base",
          "model_name": "LayoutModel",
          "model_module_version": "1.2.0",
          "state": {
            "_model_module": "@jupyter-widgets/base",
            "_model_module_version": "1.2.0",
            "_model_name": "LayoutModel",
            "_view_count": null,
            "_view_module": "@jupyter-widgets/base",
            "_view_module_version": "1.2.0",
            "_view_name": "LayoutView",
            "align_content": null,
            "align_items": null,
            "align_self": null,
            "border": null,
            "bottom": null,
            "display": null,
            "flex": null,
            "flex_flow": null,
            "grid_area": null,
            "grid_auto_columns": null,
            "grid_auto_flow": null,
            "grid_auto_rows": null,
            "grid_column": null,
            "grid_gap": null,
            "grid_row": null,
            "grid_template_areas": null,
            "grid_template_columns": null,
            "grid_template_rows": null,
            "height": null,
            "justify_content": null,
            "justify_items": null,
            "left": null,
            "margin": null,
            "max_height": null,
            "max_width": null,
            "min_height": null,
            "min_width": null,
            "object_fit": null,
            "object_position": null,
            "order": null,
            "overflow": null,
            "overflow_x": null,
            "overflow_y": null,
            "padding": null,
            "right": null,
            "top": null,
            "visibility": null,
            "width": null
          }
        },
        "df2e2676ac6545d19fdf418fedbdfc7a": {
          "model_module": "@jupyter-widgets/controls",
          "model_name": "DescriptionStyleModel",
          "model_module_version": "1.5.0",
          "state": {
            "_model_module": "@jupyter-widgets/controls",
            "_model_module_version": "1.5.0",
            "_model_name": "DescriptionStyleModel",
            "_view_count": null,
            "_view_module": "@jupyter-widgets/base",
            "_view_module_version": "1.2.0",
            "_view_name": "StyleView",
            "description_width": ""
          }
        },
        "883c72c2501c49a78991824f79f1c873": {
          "model_module": "@jupyter-widgets/base",
          "model_name": "LayoutModel",
          "model_module_version": "1.2.0",
          "state": {
            "_model_module": "@jupyter-widgets/base",
            "_model_module_version": "1.2.0",
            "_model_name": "LayoutModel",
            "_view_count": null,
            "_view_module": "@jupyter-widgets/base",
            "_view_module_version": "1.2.0",
            "_view_name": "LayoutView",
            "align_content": null,
            "align_items": null,
            "align_self": null,
            "border": null,
            "bottom": null,
            "display": null,
            "flex": null,
            "flex_flow": null,
            "grid_area": null,
            "grid_auto_columns": null,
            "grid_auto_flow": null,
            "grid_auto_rows": null,
            "grid_column": null,
            "grid_gap": null,
            "grid_row": null,
            "grid_template_areas": null,
            "grid_template_columns": null,
            "grid_template_rows": null,
            "height": null,
            "justify_content": null,
            "justify_items": null,
            "left": null,
            "margin": null,
            "max_height": null,
            "max_width": null,
            "min_height": null,
            "min_width": null,
            "object_fit": null,
            "object_position": null,
            "order": null,
            "overflow": null,
            "overflow_x": null,
            "overflow_y": null,
            "padding": null,
            "right": null,
            "top": null,
            "visibility": null,
            "width": null
          }
        },
        "a02cb181479142d295c8f9bc55d4e01a": {
          "model_module": "@jupyter-widgets/controls",
          "model_name": "ProgressStyleModel",
          "model_module_version": "1.5.0",
          "state": {
            "_model_module": "@jupyter-widgets/controls",
            "_model_module_version": "1.5.0",
            "_model_name": "ProgressStyleModel",
            "_view_count": null,
            "_view_module": "@jupyter-widgets/base",
            "_view_module_version": "1.2.0",
            "_view_name": "StyleView",
            "bar_color": null,
            "description_width": ""
          }
        },
        "97d55a6ed2544777b5092728667f857f": {
          "model_module": "@jupyter-widgets/base",
          "model_name": "LayoutModel",
          "model_module_version": "1.2.0",
          "state": {
            "_model_module": "@jupyter-widgets/base",
            "_model_module_version": "1.2.0",
            "_model_name": "LayoutModel",
            "_view_count": null,
            "_view_module": "@jupyter-widgets/base",
            "_view_module_version": "1.2.0",
            "_view_name": "LayoutView",
            "align_content": null,
            "align_items": null,
            "align_self": null,
            "border": null,
            "bottom": null,
            "display": null,
            "flex": null,
            "flex_flow": null,
            "grid_area": null,
            "grid_auto_columns": null,
            "grid_auto_flow": null,
            "grid_auto_rows": null,
            "grid_column": null,
            "grid_gap": null,
            "grid_row": null,
            "grid_template_areas": null,
            "grid_template_columns": null,
            "grid_template_rows": null,
            "height": null,
            "justify_content": null,
            "justify_items": null,
            "left": null,
            "margin": null,
            "max_height": null,
            "max_width": null,
            "min_height": null,
            "min_width": null,
            "object_fit": null,
            "object_position": null,
            "order": null,
            "overflow": null,
            "overflow_x": null,
            "overflow_y": null,
            "padding": null,
            "right": null,
            "top": null,
            "visibility": null,
            "width": null
          }
        },
        "006e2119110a4356a6cf15191aa96abc": {
          "model_module": "@jupyter-widgets/controls",
          "model_name": "DescriptionStyleModel",
          "model_module_version": "1.5.0",
          "state": {
            "_model_module": "@jupyter-widgets/controls",
            "_model_module_version": "1.5.0",
            "_model_name": "DescriptionStyleModel",
            "_view_count": null,
            "_view_module": "@jupyter-widgets/base",
            "_view_module_version": "1.2.0",
            "_view_name": "StyleView",
            "description_width": ""
          }
        },
        "1f045e041b04449fbb6eee866488d8dd": {
          "model_module": "@jupyter-widgets/controls",
          "model_name": "HBoxModel",
          "model_module_version": "1.5.0",
          "state": {
            "_dom_classes": [],
            "_model_module": "@jupyter-widgets/controls",
            "_model_module_version": "1.5.0",
            "_model_name": "HBoxModel",
            "_view_count": null,
            "_view_module": "@jupyter-widgets/controls",
            "_view_module_version": "1.5.0",
            "_view_name": "HBoxView",
            "box_style": "",
            "children": [
              "IPY_MODEL_5bf653baa4874db68fe15e83ee86ba92",
              "IPY_MODEL_e4e0b8bf96c54a44a1376105774798f5",
              "IPY_MODEL_1b04671ce17149cc9977a5f9b37667a9"
            ],
            "layout": "IPY_MODEL_5e182a70972d434890d419c0b0c029f9"
          }
        },
        "5bf653baa4874db68fe15e83ee86ba92": {
          "model_module": "@jupyter-widgets/controls",
          "model_name": "HTMLModel",
          "model_module_version": "1.5.0",
          "state": {
            "_dom_classes": [],
            "_model_module": "@jupyter-widgets/controls",
            "_model_module_version": "1.5.0",
            "_model_name": "HTMLModel",
            "_view_count": null,
            "_view_module": "@jupyter-widgets/controls",
            "_view_module_version": "1.5.0",
            "_view_name": "HTMLView",
            "description": "",
            "description_tooltip": null,
            "layout": "IPY_MODEL_a32ee94dada54cd0ab609c710ec58140",
            "placeholder": "​",
            "style": "IPY_MODEL_6c2d044d61014a548551e6b7f0eafa38",
            "value": "Downloading (…)okenizer_config.json: 100%"
          }
        },
        "e4e0b8bf96c54a44a1376105774798f5": {
          "model_module": "@jupyter-widgets/controls",
          "model_name": "FloatProgressModel",
          "model_module_version": "1.5.0",
          "state": {
            "_dom_classes": [],
            "_model_module": "@jupyter-widgets/controls",
            "_model_module_version": "1.5.0",
            "_model_name": "FloatProgressModel",
            "_view_count": null,
            "_view_module": "@jupyter-widgets/controls",
            "_view_module_version": "1.5.0",
            "_view_name": "ProgressView",
            "bar_style": "success",
            "description": "",
            "description_tooltip": null,
            "layout": "IPY_MODEL_be379679af00420cb9e7e0bd8068eb29",
            "max": 28,
            "min": 0,
            "orientation": "horizontal",
            "style": "IPY_MODEL_81e3450d154941939743065bbce5267e",
            "value": 28
          }
        },
        "1b04671ce17149cc9977a5f9b37667a9": {
          "model_module": "@jupyter-widgets/controls",
          "model_name": "HTMLModel",
          "model_module_version": "1.5.0",
          "state": {
            "_dom_classes": [],
            "_model_module": "@jupyter-widgets/controls",
            "_model_module_version": "1.5.0",
            "_model_name": "HTMLModel",
            "_view_count": null,
            "_view_module": "@jupyter-widgets/controls",
            "_view_module_version": "1.5.0",
            "_view_name": "HTMLView",
            "description": "",
            "description_tooltip": null,
            "layout": "IPY_MODEL_c36bd59cb6f2471da871906715c480ec",
            "placeholder": "​",
            "style": "IPY_MODEL_fd52aa4710bd4f4180a78e355e2b24b1",
            "value": " 28.0/28.0 [00:00&lt;00:00, 1.67kB/s]"
          }
        },
        "5e182a70972d434890d419c0b0c029f9": {
          "model_module": "@jupyter-widgets/base",
          "model_name": "LayoutModel",
          "model_module_version": "1.2.0",
          "state": {
            "_model_module": "@jupyter-widgets/base",
            "_model_module_version": "1.2.0",
            "_model_name": "LayoutModel",
            "_view_count": null,
            "_view_module": "@jupyter-widgets/base",
            "_view_module_version": "1.2.0",
            "_view_name": "LayoutView",
            "align_content": null,
            "align_items": null,
            "align_self": null,
            "border": null,
            "bottom": null,
            "display": null,
            "flex": null,
            "flex_flow": null,
            "grid_area": null,
            "grid_auto_columns": null,
            "grid_auto_flow": null,
            "grid_auto_rows": null,
            "grid_column": null,
            "grid_gap": null,
            "grid_row": null,
            "grid_template_areas": null,
            "grid_template_columns": null,
            "grid_template_rows": null,
            "height": null,
            "justify_content": null,
            "justify_items": null,
            "left": null,
            "margin": null,
            "max_height": null,
            "max_width": null,
            "min_height": null,
            "min_width": null,
            "object_fit": null,
            "object_position": null,
            "order": null,
            "overflow": null,
            "overflow_x": null,
            "overflow_y": null,
            "padding": null,
            "right": null,
            "top": null,
            "visibility": null,
            "width": null
          }
        },
        "a32ee94dada54cd0ab609c710ec58140": {
          "model_module": "@jupyter-widgets/base",
          "model_name": "LayoutModel",
          "model_module_version": "1.2.0",
          "state": {
            "_model_module": "@jupyter-widgets/base",
            "_model_module_version": "1.2.0",
            "_model_name": "LayoutModel",
            "_view_count": null,
            "_view_module": "@jupyter-widgets/base",
            "_view_module_version": "1.2.0",
            "_view_name": "LayoutView",
            "align_content": null,
            "align_items": null,
            "align_self": null,
            "border": null,
            "bottom": null,
            "display": null,
            "flex": null,
            "flex_flow": null,
            "grid_area": null,
            "grid_auto_columns": null,
            "grid_auto_flow": null,
            "grid_auto_rows": null,
            "grid_column": null,
            "grid_gap": null,
            "grid_row": null,
            "grid_template_areas": null,
            "grid_template_columns": null,
            "grid_template_rows": null,
            "height": null,
            "justify_content": null,
            "justify_items": null,
            "left": null,
            "margin": null,
            "max_height": null,
            "max_width": null,
            "min_height": null,
            "min_width": null,
            "object_fit": null,
            "object_position": null,
            "order": null,
            "overflow": null,
            "overflow_x": null,
            "overflow_y": null,
            "padding": null,
            "right": null,
            "top": null,
            "visibility": null,
            "width": null
          }
        },
        "6c2d044d61014a548551e6b7f0eafa38": {
          "model_module": "@jupyter-widgets/controls",
          "model_name": "DescriptionStyleModel",
          "model_module_version": "1.5.0",
          "state": {
            "_model_module": "@jupyter-widgets/controls",
            "_model_module_version": "1.5.0",
            "_model_name": "DescriptionStyleModel",
            "_view_count": null,
            "_view_module": "@jupyter-widgets/base",
            "_view_module_version": "1.2.0",
            "_view_name": "StyleView",
            "description_width": ""
          }
        },
        "be379679af00420cb9e7e0bd8068eb29": {
          "model_module": "@jupyter-widgets/base",
          "model_name": "LayoutModel",
          "model_module_version": "1.2.0",
          "state": {
            "_model_module": "@jupyter-widgets/base",
            "_model_module_version": "1.2.0",
            "_model_name": "LayoutModel",
            "_view_count": null,
            "_view_module": "@jupyter-widgets/base",
            "_view_module_version": "1.2.0",
            "_view_name": "LayoutView",
            "align_content": null,
            "align_items": null,
            "align_self": null,
            "border": null,
            "bottom": null,
            "display": null,
            "flex": null,
            "flex_flow": null,
            "grid_area": null,
            "grid_auto_columns": null,
            "grid_auto_flow": null,
            "grid_auto_rows": null,
            "grid_column": null,
            "grid_gap": null,
            "grid_row": null,
            "grid_template_areas": null,
            "grid_template_columns": null,
            "grid_template_rows": null,
            "height": null,
            "justify_content": null,
            "justify_items": null,
            "left": null,
            "margin": null,
            "max_height": null,
            "max_width": null,
            "min_height": null,
            "min_width": null,
            "object_fit": null,
            "object_position": null,
            "order": null,
            "overflow": null,
            "overflow_x": null,
            "overflow_y": null,
            "padding": null,
            "right": null,
            "top": null,
            "visibility": null,
            "width": null
          }
        },
        "81e3450d154941939743065bbce5267e": {
          "model_module": "@jupyter-widgets/controls",
          "model_name": "ProgressStyleModel",
          "model_module_version": "1.5.0",
          "state": {
            "_model_module": "@jupyter-widgets/controls",
            "_model_module_version": "1.5.0",
            "_model_name": "ProgressStyleModel",
            "_view_count": null,
            "_view_module": "@jupyter-widgets/base",
            "_view_module_version": "1.2.0",
            "_view_name": "StyleView",
            "bar_color": null,
            "description_width": ""
          }
        },
        "c36bd59cb6f2471da871906715c480ec": {
          "model_module": "@jupyter-widgets/base",
          "model_name": "LayoutModel",
          "model_module_version": "1.2.0",
          "state": {
            "_model_module": "@jupyter-widgets/base",
            "_model_module_version": "1.2.0",
            "_model_name": "LayoutModel",
            "_view_count": null,
            "_view_module": "@jupyter-widgets/base",
            "_view_module_version": "1.2.0",
            "_view_name": "LayoutView",
            "align_content": null,
            "align_items": null,
            "align_self": null,
            "border": null,
            "bottom": null,
            "display": null,
            "flex": null,
            "flex_flow": null,
            "grid_area": null,
            "grid_auto_columns": null,
            "grid_auto_flow": null,
            "grid_auto_rows": null,
            "grid_column": null,
            "grid_gap": null,
            "grid_row": null,
            "grid_template_areas": null,
            "grid_template_columns": null,
            "grid_template_rows": null,
            "height": null,
            "justify_content": null,
            "justify_items": null,
            "left": null,
            "margin": null,
            "max_height": null,
            "max_width": null,
            "min_height": null,
            "min_width": null,
            "object_fit": null,
            "object_position": null,
            "order": null,
            "overflow": null,
            "overflow_x": null,
            "overflow_y": null,
            "padding": null,
            "right": null,
            "top": null,
            "visibility": null,
            "width": null
          }
        },
        "fd52aa4710bd4f4180a78e355e2b24b1": {
          "model_module": "@jupyter-widgets/controls",
          "model_name": "DescriptionStyleModel",
          "model_module_version": "1.5.0",
          "state": {
            "_model_module": "@jupyter-widgets/controls",
            "_model_module_version": "1.5.0",
            "_model_name": "DescriptionStyleModel",
            "_view_count": null,
            "_view_module": "@jupyter-widgets/base",
            "_view_module_version": "1.2.0",
            "_view_name": "StyleView",
            "description_width": ""
          }
        },
        "ed159341f483442bb34f0c237e7603fe": {
          "model_module": "@jupyter-widgets/controls",
          "model_name": "HBoxModel",
          "model_module_version": "1.5.0",
          "state": {
            "_dom_classes": [],
            "_model_module": "@jupyter-widgets/controls",
            "_model_module_version": "1.5.0",
            "_model_name": "HBoxModel",
            "_view_count": null,
            "_view_module": "@jupyter-widgets/controls",
            "_view_module_version": "1.5.0",
            "_view_name": "HBoxView",
            "box_style": "",
            "children": [
              "IPY_MODEL_0edadac0043942c0b0dc6754606d9d70",
              "IPY_MODEL_6e1d91d86c8543b88f790c90c0649390",
              "IPY_MODEL_ec32f4b5c9964ac1813da5b70876fcf9"
            ],
            "layout": "IPY_MODEL_ccfe7459ee984670b39f2a70b1c92468"
          }
        },
        "0edadac0043942c0b0dc6754606d9d70": {
          "model_module": "@jupyter-widgets/controls",
          "model_name": "HTMLModel",
          "model_module_version": "1.5.0",
          "state": {
            "_dom_classes": [],
            "_model_module": "@jupyter-widgets/controls",
            "_model_module_version": "1.5.0",
            "_model_name": "HTMLModel",
            "_view_count": null,
            "_view_module": "@jupyter-widgets/controls",
            "_view_module_version": "1.5.0",
            "_view_name": "HTMLView",
            "description": "",
            "description_tooltip": null,
            "layout": "IPY_MODEL_b24a40d3049b43ff81ffa50c1ae12025",
            "placeholder": "​",
            "style": "IPY_MODEL_864e34c502f447db8b9bf6a0e38afd7b",
            "value": "Downloading (…)lve/main/config.json: 100%"
          }
        },
        "6e1d91d86c8543b88f790c90c0649390": {
          "model_module": "@jupyter-widgets/controls",
          "model_name": "FloatProgressModel",
          "model_module_version": "1.5.0",
          "state": {
            "_dom_classes": [],
            "_model_module": "@jupyter-widgets/controls",
            "_model_module_version": "1.5.0",
            "_model_name": "FloatProgressModel",
            "_view_count": null,
            "_view_module": "@jupyter-widgets/controls",
            "_view_module_version": "1.5.0",
            "_view_name": "ProgressView",
            "bar_style": "success",
            "description": "",
            "description_tooltip": null,
            "layout": "IPY_MODEL_688b1e0ac556400cb3cc28a4b8ca97c7",
            "max": 570,
            "min": 0,
            "orientation": "horizontal",
            "style": "IPY_MODEL_2ca75c456f9748df8450abdb3a84e448",
            "value": 570
          }
        },
        "ec32f4b5c9964ac1813da5b70876fcf9": {
          "model_module": "@jupyter-widgets/controls",
          "model_name": "HTMLModel",
          "model_module_version": "1.5.0",
          "state": {
            "_dom_classes": [],
            "_model_module": "@jupyter-widgets/controls",
            "_model_module_version": "1.5.0",
            "_model_name": "HTMLModel",
            "_view_count": null,
            "_view_module": "@jupyter-widgets/controls",
            "_view_module_version": "1.5.0",
            "_view_name": "HTMLView",
            "description": "",
            "description_tooltip": null,
            "layout": "IPY_MODEL_d4a2ef8965ed40d2a40c4a1c4325be03",
            "placeholder": "​",
            "style": "IPY_MODEL_014279bde74e407a92d176c28826d56c",
            "value": " 570/570 [00:00&lt;00:00, 37.5kB/s]"
          }
        },
        "ccfe7459ee984670b39f2a70b1c92468": {
          "model_module": "@jupyter-widgets/base",
          "model_name": "LayoutModel",
          "model_module_version": "1.2.0",
          "state": {
            "_model_module": "@jupyter-widgets/base",
            "_model_module_version": "1.2.0",
            "_model_name": "LayoutModel",
            "_view_count": null,
            "_view_module": "@jupyter-widgets/base",
            "_view_module_version": "1.2.0",
            "_view_name": "LayoutView",
            "align_content": null,
            "align_items": null,
            "align_self": null,
            "border": null,
            "bottom": null,
            "display": null,
            "flex": null,
            "flex_flow": null,
            "grid_area": null,
            "grid_auto_columns": null,
            "grid_auto_flow": null,
            "grid_auto_rows": null,
            "grid_column": null,
            "grid_gap": null,
            "grid_row": null,
            "grid_template_areas": null,
            "grid_template_columns": null,
            "grid_template_rows": null,
            "height": null,
            "justify_content": null,
            "justify_items": null,
            "left": null,
            "margin": null,
            "max_height": null,
            "max_width": null,
            "min_height": null,
            "min_width": null,
            "object_fit": null,
            "object_position": null,
            "order": null,
            "overflow": null,
            "overflow_x": null,
            "overflow_y": null,
            "padding": null,
            "right": null,
            "top": null,
            "visibility": null,
            "width": null
          }
        },
        "b24a40d3049b43ff81ffa50c1ae12025": {
          "model_module": "@jupyter-widgets/base",
          "model_name": "LayoutModel",
          "model_module_version": "1.2.0",
          "state": {
            "_model_module": "@jupyter-widgets/base",
            "_model_module_version": "1.2.0",
            "_model_name": "LayoutModel",
            "_view_count": null,
            "_view_module": "@jupyter-widgets/base",
            "_view_module_version": "1.2.0",
            "_view_name": "LayoutView",
            "align_content": null,
            "align_items": null,
            "align_self": null,
            "border": null,
            "bottom": null,
            "display": null,
            "flex": null,
            "flex_flow": null,
            "grid_area": null,
            "grid_auto_columns": null,
            "grid_auto_flow": null,
            "grid_auto_rows": null,
            "grid_column": null,
            "grid_gap": null,
            "grid_row": null,
            "grid_template_areas": null,
            "grid_template_columns": null,
            "grid_template_rows": null,
            "height": null,
            "justify_content": null,
            "justify_items": null,
            "left": null,
            "margin": null,
            "max_height": null,
            "max_width": null,
            "min_height": null,
            "min_width": null,
            "object_fit": null,
            "object_position": null,
            "order": null,
            "overflow": null,
            "overflow_x": null,
            "overflow_y": null,
            "padding": null,
            "right": null,
            "top": null,
            "visibility": null,
            "width": null
          }
        },
        "864e34c502f447db8b9bf6a0e38afd7b": {
          "model_module": "@jupyter-widgets/controls",
          "model_name": "DescriptionStyleModel",
          "model_module_version": "1.5.0",
          "state": {
            "_model_module": "@jupyter-widgets/controls",
            "_model_module_version": "1.5.0",
            "_model_name": "DescriptionStyleModel",
            "_view_count": null,
            "_view_module": "@jupyter-widgets/base",
            "_view_module_version": "1.2.0",
            "_view_name": "StyleView",
            "description_width": ""
          }
        },
        "688b1e0ac556400cb3cc28a4b8ca97c7": {
          "model_module": "@jupyter-widgets/base",
          "model_name": "LayoutModel",
          "model_module_version": "1.2.0",
          "state": {
            "_model_module": "@jupyter-widgets/base",
            "_model_module_version": "1.2.0",
            "_model_name": "LayoutModel",
            "_view_count": null,
            "_view_module": "@jupyter-widgets/base",
            "_view_module_version": "1.2.0",
            "_view_name": "LayoutView",
            "align_content": null,
            "align_items": null,
            "align_self": null,
            "border": null,
            "bottom": null,
            "display": null,
            "flex": null,
            "flex_flow": null,
            "grid_area": null,
            "grid_auto_columns": null,
            "grid_auto_flow": null,
            "grid_auto_rows": null,
            "grid_column": null,
            "grid_gap": null,
            "grid_row": null,
            "grid_template_areas": null,
            "grid_template_columns": null,
            "grid_template_rows": null,
            "height": null,
            "justify_content": null,
            "justify_items": null,
            "left": null,
            "margin": null,
            "max_height": null,
            "max_width": null,
            "min_height": null,
            "min_width": null,
            "object_fit": null,
            "object_position": null,
            "order": null,
            "overflow": null,
            "overflow_x": null,
            "overflow_y": null,
            "padding": null,
            "right": null,
            "top": null,
            "visibility": null,
            "width": null
          }
        },
        "2ca75c456f9748df8450abdb3a84e448": {
          "model_module": "@jupyter-widgets/controls",
          "model_name": "ProgressStyleModel",
          "model_module_version": "1.5.0",
          "state": {
            "_model_module": "@jupyter-widgets/controls",
            "_model_module_version": "1.5.0",
            "_model_name": "ProgressStyleModel",
            "_view_count": null,
            "_view_module": "@jupyter-widgets/base",
            "_view_module_version": "1.2.0",
            "_view_name": "StyleView",
            "bar_color": null,
            "description_width": ""
          }
        },
        "d4a2ef8965ed40d2a40c4a1c4325be03": {
          "model_module": "@jupyter-widgets/base",
          "model_name": "LayoutModel",
          "model_module_version": "1.2.0",
          "state": {
            "_model_module": "@jupyter-widgets/base",
            "_model_module_version": "1.2.0",
            "_model_name": "LayoutModel",
            "_view_count": null,
            "_view_module": "@jupyter-widgets/base",
            "_view_module_version": "1.2.0",
            "_view_name": "LayoutView",
            "align_content": null,
            "align_items": null,
            "align_self": null,
            "border": null,
            "bottom": null,
            "display": null,
            "flex": null,
            "flex_flow": null,
            "grid_area": null,
            "grid_auto_columns": null,
            "grid_auto_flow": null,
            "grid_auto_rows": null,
            "grid_column": null,
            "grid_gap": null,
            "grid_row": null,
            "grid_template_areas": null,
            "grid_template_columns": null,
            "grid_template_rows": null,
            "height": null,
            "justify_content": null,
            "justify_items": null,
            "left": null,
            "margin": null,
            "max_height": null,
            "max_width": null,
            "min_height": null,
            "min_width": null,
            "object_fit": null,
            "object_position": null,
            "order": null,
            "overflow": null,
            "overflow_x": null,
            "overflow_y": null,
            "padding": null,
            "right": null,
            "top": null,
            "visibility": null,
            "width": null
          }
        },
        "014279bde74e407a92d176c28826d56c": {
          "model_module": "@jupyter-widgets/controls",
          "model_name": "DescriptionStyleModel",
          "model_module_version": "1.5.0",
          "state": {
            "_model_module": "@jupyter-widgets/controls",
            "_model_module_version": "1.5.0",
            "_model_name": "DescriptionStyleModel",
            "_view_count": null,
            "_view_module": "@jupyter-widgets/base",
            "_view_module_version": "1.2.0",
            "_view_name": "StyleView",
            "description_width": ""
          }
        },
        "3e90b29bf15d42538ca7ada797ef8945": {
          "model_module": "@jupyter-widgets/controls",
          "model_name": "HBoxModel",
          "model_module_version": "1.5.0",
          "state": {
            "_dom_classes": [],
            "_model_module": "@jupyter-widgets/controls",
            "_model_module_version": "1.5.0",
            "_model_name": "HBoxModel",
            "_view_count": null,
            "_view_module": "@jupyter-widgets/controls",
            "_view_module_version": "1.5.0",
            "_view_name": "HBoxView",
            "box_style": "",
            "children": [
              "IPY_MODEL_9fce0ed392ce4ee6b5c44eb8c9f2e5f8",
              "IPY_MODEL_b6ef4301e3d24dd9b86476924c1982a1",
              "IPY_MODEL_d39abc4a411e477fbc5063d3a3a957c7"
            ],
            "layout": "IPY_MODEL_5ab44508a1124ddeb26d9038f407f504"
          }
        },
        "9fce0ed392ce4ee6b5c44eb8c9f2e5f8": {
          "model_module": "@jupyter-widgets/controls",
          "model_name": "HTMLModel",
          "model_module_version": "1.5.0",
          "state": {
            "_dom_classes": [],
            "_model_module": "@jupyter-widgets/controls",
            "_model_module_version": "1.5.0",
            "_model_name": "HTMLModel",
            "_view_count": null,
            "_view_module": "@jupyter-widgets/controls",
            "_view_module_version": "1.5.0",
            "_view_name": "HTMLView",
            "description": "",
            "description_tooltip": null,
            "layout": "IPY_MODEL_6a9994cb75d64e1cbdc491b7d878282c",
            "placeholder": "​",
            "style": "IPY_MODEL_86bcbeec3f3b4776837f8a9504c5f779",
            "value": "Downloading pytorch_model.bin: 100%"
          }
        },
        "b6ef4301e3d24dd9b86476924c1982a1": {
          "model_module": "@jupyter-widgets/controls",
          "model_name": "FloatProgressModel",
          "model_module_version": "1.5.0",
          "state": {
            "_dom_classes": [],
            "_model_module": "@jupyter-widgets/controls",
            "_model_module_version": "1.5.0",
            "_model_name": "FloatProgressModel",
            "_view_count": null,
            "_view_module": "@jupyter-widgets/controls",
            "_view_module_version": "1.5.0",
            "_view_name": "ProgressView",
            "bar_style": "success",
            "description": "",
            "description_tooltip": null,
            "layout": "IPY_MODEL_fcf4daa790dd40f583ef2f5b118832dc",
            "max": 440473133,
            "min": 0,
            "orientation": "horizontal",
            "style": "IPY_MODEL_5bbee68f8f0b441fbff7b23742da84a6",
            "value": 440473133
          }
        },
        "d39abc4a411e477fbc5063d3a3a957c7": {
          "model_module": "@jupyter-widgets/controls",
          "model_name": "HTMLModel",
          "model_module_version": "1.5.0",
          "state": {
            "_dom_classes": [],
            "_model_module": "@jupyter-widgets/controls",
            "_model_module_version": "1.5.0",
            "_model_name": "HTMLModel",
            "_view_count": null,
            "_view_module": "@jupyter-widgets/controls",
            "_view_module_version": "1.5.0",
            "_view_name": "HTMLView",
            "description": "",
            "description_tooltip": null,
            "layout": "IPY_MODEL_5df5b411b1734cde9cf49b6c8adafaa2",
            "placeholder": "​",
            "style": "IPY_MODEL_0d4ecab29cef4fe29afeca79b4a9288d",
            "value": " 440M/440M [00:02&lt;00:00, 183MB/s]"
          }
        },
        "5ab44508a1124ddeb26d9038f407f504": {
          "model_module": "@jupyter-widgets/base",
          "model_name": "LayoutModel",
          "model_module_version": "1.2.0",
          "state": {
            "_model_module": "@jupyter-widgets/base",
            "_model_module_version": "1.2.0",
            "_model_name": "LayoutModel",
            "_view_count": null,
            "_view_module": "@jupyter-widgets/base",
            "_view_module_version": "1.2.0",
            "_view_name": "LayoutView",
            "align_content": null,
            "align_items": null,
            "align_self": null,
            "border": null,
            "bottom": null,
            "display": null,
            "flex": null,
            "flex_flow": null,
            "grid_area": null,
            "grid_auto_columns": null,
            "grid_auto_flow": null,
            "grid_auto_rows": null,
            "grid_column": null,
            "grid_gap": null,
            "grid_row": null,
            "grid_template_areas": null,
            "grid_template_columns": null,
            "grid_template_rows": null,
            "height": null,
            "justify_content": null,
            "justify_items": null,
            "left": null,
            "margin": null,
            "max_height": null,
            "max_width": null,
            "min_height": null,
            "min_width": null,
            "object_fit": null,
            "object_position": null,
            "order": null,
            "overflow": null,
            "overflow_x": null,
            "overflow_y": null,
            "padding": null,
            "right": null,
            "top": null,
            "visibility": null,
            "width": null
          }
        },
        "6a9994cb75d64e1cbdc491b7d878282c": {
          "model_module": "@jupyter-widgets/base",
          "model_name": "LayoutModel",
          "model_module_version": "1.2.0",
          "state": {
            "_model_module": "@jupyter-widgets/base",
            "_model_module_version": "1.2.0",
            "_model_name": "LayoutModel",
            "_view_count": null,
            "_view_module": "@jupyter-widgets/base",
            "_view_module_version": "1.2.0",
            "_view_name": "LayoutView",
            "align_content": null,
            "align_items": null,
            "align_self": null,
            "border": null,
            "bottom": null,
            "display": null,
            "flex": null,
            "flex_flow": null,
            "grid_area": null,
            "grid_auto_columns": null,
            "grid_auto_flow": null,
            "grid_auto_rows": null,
            "grid_column": null,
            "grid_gap": null,
            "grid_row": null,
            "grid_template_areas": null,
            "grid_template_columns": null,
            "grid_template_rows": null,
            "height": null,
            "justify_content": null,
            "justify_items": null,
            "left": null,
            "margin": null,
            "max_height": null,
            "max_width": null,
            "min_height": null,
            "min_width": null,
            "object_fit": null,
            "object_position": null,
            "order": null,
            "overflow": null,
            "overflow_x": null,
            "overflow_y": null,
            "padding": null,
            "right": null,
            "top": null,
            "visibility": null,
            "width": null
          }
        },
        "86bcbeec3f3b4776837f8a9504c5f779": {
          "model_module": "@jupyter-widgets/controls",
          "model_name": "DescriptionStyleModel",
          "model_module_version": "1.5.0",
          "state": {
            "_model_module": "@jupyter-widgets/controls",
            "_model_module_version": "1.5.0",
            "_model_name": "DescriptionStyleModel",
            "_view_count": null,
            "_view_module": "@jupyter-widgets/base",
            "_view_module_version": "1.2.0",
            "_view_name": "StyleView",
            "description_width": ""
          }
        },
        "fcf4daa790dd40f583ef2f5b118832dc": {
          "model_module": "@jupyter-widgets/base",
          "model_name": "LayoutModel",
          "model_module_version": "1.2.0",
          "state": {
            "_model_module": "@jupyter-widgets/base",
            "_model_module_version": "1.2.0",
            "_model_name": "LayoutModel",
            "_view_count": null,
            "_view_module": "@jupyter-widgets/base",
            "_view_module_version": "1.2.0",
            "_view_name": "LayoutView",
            "align_content": null,
            "align_items": null,
            "align_self": null,
            "border": null,
            "bottom": null,
            "display": null,
            "flex": null,
            "flex_flow": null,
            "grid_area": null,
            "grid_auto_columns": null,
            "grid_auto_flow": null,
            "grid_auto_rows": null,
            "grid_column": null,
            "grid_gap": null,
            "grid_row": null,
            "grid_template_areas": null,
            "grid_template_columns": null,
            "grid_template_rows": null,
            "height": null,
            "justify_content": null,
            "justify_items": null,
            "left": null,
            "margin": null,
            "max_height": null,
            "max_width": null,
            "min_height": null,
            "min_width": null,
            "object_fit": null,
            "object_position": null,
            "order": null,
            "overflow": null,
            "overflow_x": null,
            "overflow_y": null,
            "padding": null,
            "right": null,
            "top": null,
            "visibility": null,
            "width": null
          }
        },
        "5bbee68f8f0b441fbff7b23742da84a6": {
          "model_module": "@jupyter-widgets/controls",
          "model_name": "ProgressStyleModel",
          "model_module_version": "1.5.0",
          "state": {
            "_model_module": "@jupyter-widgets/controls",
            "_model_module_version": "1.5.0",
            "_model_name": "ProgressStyleModel",
            "_view_count": null,
            "_view_module": "@jupyter-widgets/base",
            "_view_module_version": "1.2.0",
            "_view_name": "StyleView",
            "bar_color": null,
            "description_width": ""
          }
        },
        "5df5b411b1734cde9cf49b6c8adafaa2": {
          "model_module": "@jupyter-widgets/base",
          "model_name": "LayoutModel",
          "model_module_version": "1.2.0",
          "state": {
            "_model_module": "@jupyter-widgets/base",
            "_model_module_version": "1.2.0",
            "_model_name": "LayoutModel",
            "_view_count": null,
            "_view_module": "@jupyter-widgets/base",
            "_view_module_version": "1.2.0",
            "_view_name": "LayoutView",
            "align_content": null,
            "align_items": null,
            "align_self": null,
            "border": null,
            "bottom": null,
            "display": null,
            "flex": null,
            "flex_flow": null,
            "grid_area": null,
            "grid_auto_columns": null,
            "grid_auto_flow": null,
            "grid_auto_rows": null,
            "grid_column": null,
            "grid_gap": null,
            "grid_row": null,
            "grid_template_areas": null,
            "grid_template_columns": null,
            "grid_template_rows": null,
            "height": null,
            "justify_content": null,
            "justify_items": null,
            "left": null,
            "margin": null,
            "max_height": null,
            "max_width": null,
            "min_height": null,
            "min_width": null,
            "object_fit": null,
            "object_position": null,
            "order": null,
            "overflow": null,
            "overflow_x": null,
            "overflow_y": null,
            "padding": null,
            "right": null,
            "top": null,
            "visibility": null,
            "width": null
          }
        },
        "0d4ecab29cef4fe29afeca79b4a9288d": {
          "model_module": "@jupyter-widgets/controls",
          "model_name": "DescriptionStyleModel",
          "model_module_version": "1.5.0",
          "state": {
            "_model_module": "@jupyter-widgets/controls",
            "_model_module_version": "1.5.0",
            "_model_name": "DescriptionStyleModel",
            "_view_count": null,
            "_view_module": "@jupyter-widgets/base",
            "_view_module_version": "1.2.0",
            "_view_name": "StyleView",
            "description_width": ""
          }
        }
      }
    }
  },
  "nbformat": 4,
  "nbformat_minor": 0
}