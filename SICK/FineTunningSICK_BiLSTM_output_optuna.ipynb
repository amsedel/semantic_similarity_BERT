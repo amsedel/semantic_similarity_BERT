{
  "cells": [
    {
      "cell_type": "code",
      "source": [
        "import locale\n",
        "def getpreferredencoding(do_setlocale = True):\n",
        "    return \"UTF-8\"\n",
        "locale.getpreferredencoding = getpreferredencoding"
      ],
      "metadata": {
        "id": "qc0QMDk40uHK"
      },
      "execution_count": null,
      "outputs": []
    },
    {
      "cell_type": "code",
      "execution_count": null,
      "metadata": {
        "id": "-bc_vxzLzGWU",
        "colab": {
          "base_uri": "https://localhost:8080/"
        },
        "outputId": "d4451294-af72-419b-af66-9af01cf2872c"
      },
      "outputs": [
        {
          "output_type": "stream",
          "name": "stdout",
          "text": [
            "Collecting transformers\n",
            "  Downloading transformers-4.35.2-py3-none-any.whl (7.9 MB)\n",
            "\u001b[2K     \u001b[90m━━━━━━━━━━━━━━━━━━━━━━━━━━━━━━━━━━━━━━━━\u001b[0m \u001b[32m7.9/7.9 MB\u001b[0m \u001b[31m35.1 MB/s\u001b[0m eta \u001b[36m0:00:00\u001b[0m\n",
            "\u001b[?25hRequirement already satisfied: filelock in /usr/local/lib/python3.10/dist-packages (from transformers) (3.13.1)\n",
            "Collecting huggingface-hub<1.0,>=0.16.4 (from transformers)\n",
            "  Downloading huggingface_hub-0.19.4-py3-none-any.whl (311 kB)\n",
            "\u001b[2K     \u001b[90m━━━━━━━━━━━━━━━━━━━━━━━━━━━━━━━━━━━━━━━━\u001b[0m \u001b[32m311.7/311.7 kB\u001b[0m \u001b[31m39.0 MB/s\u001b[0m eta \u001b[36m0:00:00\u001b[0m\n",
            "\u001b[?25hRequirement already satisfied: numpy>=1.17 in /usr/local/lib/python3.10/dist-packages (from transformers) (1.23.5)\n",
            "Requirement already satisfied: packaging>=20.0 in /usr/local/lib/python3.10/dist-packages (from transformers) (23.2)\n",
            "Requirement already satisfied: pyyaml>=5.1 in /usr/local/lib/python3.10/dist-packages (from transformers) (6.0.1)\n",
            "Requirement already satisfied: regex!=2019.12.17 in /usr/local/lib/python3.10/dist-packages (from transformers) (2023.6.3)\n",
            "Requirement already satisfied: requests in /usr/local/lib/python3.10/dist-packages (from transformers) (2.31.0)\n",
            "Collecting tokenizers<0.19,>=0.14 (from transformers)\n",
            "  Downloading tokenizers-0.15.0-cp310-cp310-manylinux_2_17_x86_64.manylinux2014_x86_64.whl (3.8 MB)\n",
            "\u001b[2K     \u001b[90m━━━━━━━━━━━━━━━━━━━━━━━━━━━━━━━━━━━━━━━━\u001b[0m \u001b[32m3.8/3.8 MB\u001b[0m \u001b[31m109.0 MB/s\u001b[0m eta \u001b[36m0:00:00\u001b[0m\n",
            "\u001b[?25hCollecting safetensors>=0.3.1 (from transformers)\n",
            "  Downloading safetensors-0.4.0-cp310-cp310-manylinux_2_17_x86_64.manylinux2014_x86_64.whl (1.3 MB)\n",
            "\u001b[2K     \u001b[90m━━━━━━━━━━━━━━━━━━━━━━━━━━━━━━━━━━━━━━━━\u001b[0m \u001b[32m1.3/1.3 MB\u001b[0m \u001b[31m85.1 MB/s\u001b[0m eta \u001b[36m0:00:00\u001b[0m\n",
            "\u001b[?25hRequirement already satisfied: tqdm>=4.27 in /usr/local/lib/python3.10/dist-packages (from transformers) (4.66.1)\n",
            "Requirement already satisfied: fsspec>=2023.5.0 in /usr/local/lib/python3.10/dist-packages (from huggingface-hub<1.0,>=0.16.4->transformers) (2023.6.0)\n",
            "Requirement already satisfied: typing-extensions>=3.7.4.3 in /usr/local/lib/python3.10/dist-packages (from huggingface-hub<1.0,>=0.16.4->transformers) (4.5.0)\n",
            "Requirement already satisfied: charset-normalizer<4,>=2 in /usr/local/lib/python3.10/dist-packages (from requests->transformers) (3.3.2)\n",
            "Requirement already satisfied: idna<4,>=2.5 in /usr/local/lib/python3.10/dist-packages (from requests->transformers) (3.4)\n",
            "Requirement already satisfied: urllib3<3,>=1.21.1 in /usr/local/lib/python3.10/dist-packages (from requests->transformers) (2.0.7)\n",
            "Requirement already satisfied: certifi>=2017.4.17 in /usr/local/lib/python3.10/dist-packages (from requests->transformers) (2023.7.22)\n",
            "Installing collected packages: safetensors, huggingface-hub, tokenizers, transformers\n",
            "Successfully installed huggingface-hub-0.19.4 safetensors-0.4.0 tokenizers-0.15.0 transformers-4.35.2\n",
            "Collecting optuna\n",
            "  Downloading optuna-3.4.0-py3-none-any.whl (409 kB)\n",
            "\u001b[2K     \u001b[90m━━━━━━━━━━━━━━━━━━━━━━━━━━━━━━━━━━━━━━━━\u001b[0m \u001b[32m409.6/409.6 kB\u001b[0m \u001b[31m9.3 MB/s\u001b[0m eta \u001b[36m0:00:00\u001b[0m\n",
            "\u001b[?25hCollecting alembic>=1.5.0 (from optuna)\n",
            "  Downloading alembic-1.12.1-py3-none-any.whl (226 kB)\n",
            "\u001b[2K     \u001b[90m━━━━━━━━━━━━━━━━━━━━━━━━━━━━━━━━━━━━━━━━\u001b[0m \u001b[32m226.8/226.8 kB\u001b[0m \u001b[31m31.5 MB/s\u001b[0m eta \u001b[36m0:00:00\u001b[0m\n",
            "\u001b[?25hCollecting colorlog (from optuna)\n",
            "  Downloading colorlog-6.7.0-py2.py3-none-any.whl (11 kB)\n",
            "Requirement already satisfied: numpy in /usr/local/lib/python3.10/dist-packages (from optuna) (1.23.5)\n",
            "Requirement already satisfied: packaging>=20.0 in /usr/local/lib/python3.10/dist-packages (from optuna) (23.2)\n",
            "Requirement already satisfied: sqlalchemy>=1.3.0 in /usr/local/lib/python3.10/dist-packages (from optuna) (2.0.23)\n",
            "Requirement already satisfied: tqdm in /usr/local/lib/python3.10/dist-packages (from optuna) (4.66.1)\n",
            "Requirement already satisfied: PyYAML in /usr/local/lib/python3.10/dist-packages (from optuna) (6.0.1)\n",
            "Collecting Mako (from alembic>=1.5.0->optuna)\n",
            "  Downloading Mako-1.3.0-py3-none-any.whl (78 kB)\n",
            "\u001b[2K     \u001b[90m━━━━━━━━━━━━━━━━━━━━━━━━━━━━━━━━━━━━━━━━\u001b[0m \u001b[32m78.6/78.6 kB\u001b[0m \u001b[31m12.9 MB/s\u001b[0m eta \u001b[36m0:00:00\u001b[0m\n",
            "\u001b[?25hRequirement already satisfied: typing-extensions>=4 in /usr/local/lib/python3.10/dist-packages (from alembic>=1.5.0->optuna) (4.5.0)\n",
            "Requirement already satisfied: greenlet!=0.4.17 in /usr/local/lib/python3.10/dist-packages (from sqlalchemy>=1.3.0->optuna) (3.0.1)\n",
            "Requirement already satisfied: MarkupSafe>=0.9.2 in /usr/local/lib/python3.10/dist-packages (from Mako->alembic>=1.5.0->optuna) (2.1.3)\n",
            "Installing collected packages: Mako, colorlog, alembic, optuna\n",
            "Successfully installed Mako-1.3.0 alembic-1.12.1 colorlog-6.7.0 optuna-3.4.0\n",
            "Mounted at /content/drive\n"
          ]
        }
      ],
      "source": [
        "import pandas as pd\n",
        "import torch\n",
        "import numpy as np\n",
        "import random\n",
        "import re\n",
        "import spacy\n",
        "import shutil\n",
        "import matplotlib.pyplot as plt\n",
        "!pip install transformers\n",
        "!pip install optuna\n",
        "import torch.nn as nn\n",
        "import torch.optim as optim\n",
        "from transformers import AutoTokenizer, BertTokenizer, AutoModel, BertModel\n",
        "from torch.utils.data import Dataset, TensorDataset, DataLoader, random_split, RandomSampler, SequentialSampler\n",
        "import time\n",
        "import optuna\n",
        "from scipy.stats import spearmanr\n",
        "import psycopg2\n",
        "import csv\n",
        "import math\n",
        "import os\n",
        "from sqlalchemy import create_engine\n",
        "from optuna.storages import RDBStorage\n",
        "from google.colab import drive\n",
        "from google.colab import files\n",
        "drive.mount('/content/drive')"
      ]
    },
    {
      "cell_type": "code",
      "source": [
        "path_base = '/content/drive/MyDrive/Tesis/SICK/transformer_tunned_BERT/uncase_base/study_optuna/'\n",
        "file_root = '/content/drive/MyDrive/Tesis/SICK/uncase_based/SICK.txt'\n",
        "with open(file_root, 'r') as temp_f:\n",
        "    # get No of columns in each line\n",
        "    col_count = [ len(l.split(\"\\t\")) for l in temp_f.readlines() ]"
      ],
      "metadata": {
        "id": "pHJ0GN88YjNV"
      },
      "execution_count": null,
      "outputs": []
    },
    {
      "cell_type": "code",
      "execution_count": null,
      "metadata": {
        "colab": {
          "base_uri": "https://localhost:8080/"
        },
        "id": "Dy2Cy1hZz_JJ",
        "outputId": "4f1968ee-d72c-4f5c-c0bd-a64b111999a0"
      },
      "outputs": [
        {
          "output_type": "stream",
          "name": "stdout",
          "text": [
            "Drive already mounted at /content/drive; to attempt to forcibly remount, call drive.mount(\"/content/drive\", force_remount=True).\n"
          ]
        }
      ],
      "source": [
        "from google.colab import drive\n",
        "drive.mount('/content/drive')"
      ]
    },
    {
      "cell_type": "code",
      "source": [
        "def getSICKSents(filename='sts-train.csv', set_type='TRAIN', encoding='utf-8'):\n",
        "  f = open(filename, 'r', encoding=encoding)\n",
        "  s1, s2, target = [], [], []\n",
        "  for i, line in enumerate(f):\n",
        "    example = re.split(r'\\t+', line)\n",
        "    if i >= 1:\n",
        "      if example[-1].strip() == set_type:\n",
        "        s2.append(example[1])\n",
        "        s1.append(example[2])\n",
        "        target.append(float(example[4]))\n",
        "  print(\"samples: {}\".format(len(target)))\n",
        "  return s1, s2, target"
      ],
      "metadata": {
        "id": "jaSIxSSCw5AY"
      },
      "execution_count": null,
      "outputs": []
    },
    {
      "cell_type": "code",
      "source": [
        "s1_train,s2_train,target_train = getSICKSents(file_root, 'TRAIN')"
      ],
      "metadata": {
        "colab": {
          "base_uri": "https://localhost:8080/"
        },
        "id": "F_j7JTGEzZyz",
        "outputId": "8b063af5-2de1-4c19-9f2f-58c2ae6cfadc"
      },
      "execution_count": null,
      "outputs": [
        {
          "output_type": "stream",
          "name": "stdout",
          "text": [
            "samples: 4439\n"
          ]
        }
      ]
    },
    {
      "cell_type": "code",
      "source": [
        "s1_test,s2_test,target_test= getSICKSents(file_root, 'TEST')"
      ],
      "metadata": {
        "colab": {
          "base_uri": "https://localhost:8080/"
        },
        "id": "u_wBVbk6zwRF",
        "outputId": "252a0dd0-224b-4671-a237-6211af4804b4"
      },
      "execution_count": null,
      "outputs": [
        {
          "output_type": "stream",
          "name": "stdout",
          "text": [
            "samples: 4906\n"
          ]
        }
      ]
    },
    {
      "cell_type": "code",
      "source": [
        "s1_dev,s2_dev,target_dev= getSICKSents(file_root, 'TRIAL')"
      ],
      "metadata": {
        "colab": {
          "base_uri": "https://localhost:8080/"
        },
        "id": "HCAYUG03z14L",
        "outputId": "48fff4bd-f784-41e5-9695-5aa5a6394e06"
      },
      "execution_count": null,
      "outputs": [
        {
          "output_type": "stream",
          "name": "stdout",
          "text": [
            "samples: 495\n"
          ]
        }
      ]
    },
    {
      "cell_type": "code",
      "execution_count": null,
      "metadata": {
        "id": "X8TBNqYyCj-u",
        "colab": {
          "base_uri": "https://localhost:8080/"
        },
        "outputId": "c27b97be-4fac-4817-94b6-1a0789b78c08"
      },
      "outputs": [
        {
          "output_type": "stream",
          "name": "stdout",
          "text": [
            "Device: cuda\n"
          ]
        }
      ],
      "source": [
        "device = 'cuda' if torch.cuda.is_available() else 'cpu'\n",
        "print(f'Device: {device}')"
      ]
    },
    {
      "cell_type": "code",
      "execution_count": null,
      "metadata": {
        "id": "HQf5A_IsCu9I"
      },
      "outputs": [],
      "source": [
        "BATCH_SIZE = 32\n",
        "MAX_LEN = 128\n",
        "CORPUS = 'SICK'\n",
        "BERT_PATH = \"bert-base-uncased\""
      ]
    },
    {
      "cell_type": "code",
      "execution_count": null,
      "metadata": {
        "id": "z600WMjxHnOJ",
        "colab": {
          "base_uri": "https://localhost:8080/",
          "height": 201,
          "referenced_widgets": [
            "2f6e1294acd44f86b72c709a357671ad",
            "768713e0a65b4cd98ea3b83b789679c3",
            "824a031ea49e4c12badc3674b95b41fb",
            "85fd19def15b47ba81fc963dada0edb8",
            "137d3a84f4d54950b7edcf807308f87e",
            "7d848c9e1e954fcd85df24545ad8afa2",
            "e9489429753c461b9840ab1e6368c0cc",
            "12b91d73b10643f8b3da6211b37cdafd",
            "7501299b35fd47719b1594d7b9316f73",
            "40f47ff73f8546d9a445d8e67cb8b364",
            "4507db709c7249d28a77fc6562bb7874",
            "8361bac0312040889209f93193c10bdd",
            "3093d53a7eba4c26871c1a4a2912aa66",
            "f9cd94541fb1479d8571a02443332fa5",
            "4c1ac874eba542faa3abe438b8aaa3d7",
            "0fdf642868ad48f8b6a9bc74b91ffb66",
            "f4fa097cc9674870ba873918764fb8c7",
            "1a315acfd5584b91b79b30e08dbfbded",
            "e23a64e5b9734b338f68133c07c1b16d",
            "a26513e3b9854c8985c081a94d732ead",
            "ed633994e17a4ab5b52893a15cf64385",
            "4f3022ad722546068d560c304bc14258",
            "56cc475bcba14870a4ac39f96487a28d",
            "3c5f81cff8f649a58d17f367d44ffde9",
            "abcdda39f69a414da44ae9f25624f25c",
            "c73372b91f16448095eddbe87a48d251",
            "4b5ae52372204b70a54e5c0aa50a4548",
            "f9f8730bf7a947f3a779fdbd45769cdf",
            "4c36f81e2fcf450aa4e1c9d707282803",
            "44067936fb384728ad43141d739b803a",
            "ff6a8cc8667848df981d15c1cec28c93",
            "ea8d07fb0e8c4acab45e9c8d3c515bab",
            "9b0d0a5e4dea4d0bbce56cdd9cc906db",
            "8ea27db2dc164c858e6def90d6111664",
            "68c562266357419189d77dbb5b581ce4",
            "08fb3434e36b4378a22e8b0b8d5690ef",
            "41fbd2c80e444a8b849adcdae8b105e6",
            "b968ee6d52b14981a7905602215f4200",
            "632e09c855f74936a538b9023d9ffc98",
            "609cb1393393418ba99bf9ac70eda655",
            "970cb3e27c2548018574accab309441c",
            "16f5f467423342afb830b956ade4cdc6",
            "908b686199724fde9c1ed7dac8776015",
            "1af41a29b3084665a1affd040914b212"
          ]
        },
        "outputId": "20a70187-1ffb-4725-8b9b-5a680d83186b"
      },
      "outputs": [
        {
          "output_type": "display_data",
          "data": {
            "text/plain": [
              "(…)cased/resolve/main/tokenizer_config.json:   0%|          | 0.00/28.0 [00:00<?, ?B/s]"
            ],
            "application/vnd.jupyter.widget-view+json": {
              "version_major": 2,
              "version_minor": 0,
              "model_id": "2f6e1294acd44f86b72c709a357671ad"
            }
          },
          "metadata": {}
        },
        {
          "output_type": "display_data",
          "data": {
            "text/plain": [
              "(…)bert-base-uncased/resolve/main/vocab.txt:   0%|          | 0.00/232k [00:00<?, ?B/s]"
            ],
            "application/vnd.jupyter.widget-view+json": {
              "version_major": 2,
              "version_minor": 0,
              "model_id": "8361bac0312040889209f93193c10bdd"
            }
          },
          "metadata": {}
        },
        {
          "output_type": "display_data",
          "data": {
            "text/plain": [
              "(…)base-uncased/resolve/main/tokenizer.json:   0%|          | 0.00/466k [00:00<?, ?B/s]"
            ],
            "application/vnd.jupyter.widget-view+json": {
              "version_major": 2,
              "version_minor": 0,
              "model_id": "56cc475bcba14870a4ac39f96487a28d"
            }
          },
          "metadata": {}
        },
        {
          "output_type": "display_data",
          "data": {
            "text/plain": [
              "(…)rt-base-uncased/resolve/main/config.json:   0%|          | 0.00/570 [00:00<?, ?B/s]"
            ],
            "application/vnd.jupyter.widget-view+json": {
              "version_major": 2,
              "version_minor": 0,
              "model_id": "8ea27db2dc164c858e6def90d6111664"
            }
          },
          "metadata": {}
        }
      ],
      "source": [
        "TOKENIZER = BertTokenizer.from_pretrained(BERT_PATH, do_lower_case=True)"
      ]
    },
    {
      "cell_type": "code",
      "execution_count": null,
      "metadata": {
        "id": "pVdOQNbvVnln"
      },
      "outputs": [],
      "source": [
        "def encode_sents(sents1, sents2):\n",
        "    input_ids_ = []\n",
        "    attention_masks_ = []\n",
        "    type_ids_ = []\n",
        "    for i, sent1 in enumerate(sents1):\n",
        "        encoded_dict = TOKENIZER.encode_plus(\n",
        "                            sent1,                      # Sentence 1 to encode.\n",
        "                            sents2[i],                  # Sentence 2 to encode.\n",
        "                            add_special_tokens = True,  # Add '[CLS]' and '[SEP]'\n",
        "                            truncation = True,\n",
        "                            max_length = MAX_LEN,       # Pad & truncate all sentences.\n",
        "                            pad_to_max_length = True,\n",
        "                            return_attention_mask = True,   # Construct attn. masks.\n",
        "                            return_tensors = 'pt',     # Return pytorch tensors.\n",
        "                      )\n",
        "\n",
        "        # Add the encoded sentence to the list.\n",
        "        input_ids_.append(encoded_dict['input_ids'])\n",
        "\n",
        "        # And its attention mask (simply differentiates padding from non-padding).\n",
        "        attention_masks_.append(encoded_dict['attention_mask'])\n",
        "\n",
        "        type_ids_.append(encoded_dict['token_type_ids'])\n",
        "    return input_ids_, attention_masks_, type_ids_"
      ]
    },
    {
      "cell_type": "code",
      "source": [
        "def getEncodedTensors(s1, s2, labels):\n",
        "    input_ids, attention_masks, type_ids = encode_sents(s1, s2)\n",
        "    input_ids = torch.cat(input_ids, dim=0)\n",
        "    attention_masks = torch.cat(attention_masks, dim=0)\n",
        "    type_ids = torch.cat(type_ids, dim=0)\n",
        "    labels = torch.tensor(labels)\n",
        "    return input_ids, attention_masks, type_ids, labels"
      ],
      "metadata": {
        "id": "906LtLLC9Y_Z"
      },
      "execution_count": null,
      "outputs": []
    },
    {
      "cell_type": "code",
      "source": [
        "input_ids_train,attention_masks_train,type_ids_train,labels_train = getEncodedTensors(s1_train,s2_train,target_train)"
      ],
      "metadata": {
        "id": "t6ru4f5S9-qd",
        "colab": {
          "base_uri": "https://localhost:8080/"
        },
        "outputId": "7f2dbda1-d830-4a44-e2f9-3b4e12234c92"
      },
      "execution_count": null,
      "outputs": [
        {
          "output_type": "stream",
          "name": "stderr",
          "text": [
            "/usr/local/lib/python3.10/dist-packages/transformers/tokenization_utils_base.py:2614: FutureWarning: The `pad_to_max_length` argument is deprecated and will be removed in a future version, use `padding=True` or `padding='longest'` to pad to the longest sequence in the batch, or use `padding='max_length'` to pad to a max length. In this case, you can give a specific length with `max_length` (e.g. `max_length=45`) or leave max_length to None to pad to the maximal input size of the model (e.g. 512 for Bert).\n",
            "  warnings.warn(\n"
          ]
        }
      ]
    },
    {
      "cell_type": "code",
      "source": [
        "input_ids_eval, attention_masks_eval, type_ids_eval, labels_eval = getEncodedTensors(s1_dev, s2_dev, target_dev)"
      ],
      "metadata": {
        "id": "-bL1MWnB_-9d"
      },
      "execution_count": null,
      "outputs": []
    },
    {
      "cell_type": "code",
      "execution_count": null,
      "metadata": {
        "id": "adsDoOZNdgVR"
      },
      "outputs": [],
      "source": [
        "# Combine the training inputs into a TensorDataset.\n",
        "train_dataset = TensorDataset(input_ids_train, attention_masks_train, type_ids_train, labels_train)\n",
        "val_dataset = TensorDataset(input_ids_eval, attention_masks_eval, type_ids_eval, labels_eval)"
      ]
    },
    {
      "cell_type": "code",
      "execution_count": null,
      "metadata": {
        "id": "4L0SrB_JlaCY"
      },
      "outputs": [],
      "source": [
        "# Create the DataLoaders for our training and test sets.\n",
        "# We'll take training samples in random order.\n",
        "torch.manual_seed(42)\n",
        "train_loader = DataLoader(\n",
        "            train_dataset,  # The training samples.\n",
        "            sampler = RandomSampler(train_dataset), # Select batches randomly\n",
        "            batch_size = BATCH_SIZE # Trains with this batch size.\n",
        "            #num_workers=2\n",
        "        )\n",
        "torch.manual_seed(42)\n",
        "val_loader = DataLoader(\n",
        "            val_dataset, # The validation samples.\n",
        "            sampler = SequentialSampler(val_dataset), # Pull out batches sequentially.\n",
        "            batch_size = BATCH_SIZE # Evaluate with this batch size.\n",
        "            #num_workers=2\n",
        "        )"
      ]
    },
    {
      "cell_type": "code",
      "execution_count": null,
      "metadata": {
        "id": "nMWrY0KxnEMi",
        "colab": {
          "base_uri": "https://localhost:8080/"
        },
        "outputId": "21d9a74d-168f-4fe5-8527-f786b9a112d2"
      },
      "outputs": [
        {
          "output_type": "stream",
          "name": "stdout",
          "text": [
            "Number of train batches: 139\n",
            "Number of evaluation batches: 16\n"
          ]
        }
      ],
      "source": [
        "# See first batch\n",
        "#batch = next(iter(train_loader))\n",
        "#print(batch[0]) # 0 -> input_ids , 1 -> attention_masks, 2 -> type_ids, 3 -> targets\n",
        "#print(train_loader.batch_size) #tamaño del batch\n",
        "print('Number of train batches: {}'.format(len(train_loader)))# número de batches\n",
        "print('Number of evaluation batches: {}'.format(len(val_loader)))"
      ]
    },
    {
      "cell_type": "code",
      "execution_count": null,
      "metadata": {
        "id": "KkXY8l6PqLwi"
      },
      "outputs": [],
      "source": [
        "class BertBaseUncasedBiLSTMRegressor(nn.Module):\n",
        "  def __init__(self, output_dim=1, attentions=True, hidden_dim=768, dropout_output=0.1, dropout_lstm=0.1, n_layers = 1, bidirectional=True, freeze=True, batch_first=True):\n",
        "      super().__init__()\n",
        "      self.bert = BertModel.from_pretrained(BERT_PATH, output_attentions=attentions) #load the model\n",
        "      for param in self.bert.parameters():\n",
        "          param.requires_grad = not freeze #True -> variable, False -> fixed\n",
        "      self.bilstm = nn.LSTM(input_size=self.bert.config.hidden_size, hidden_size=hidden_dim, num_layers=n_layers, bidirectional=bidirectional, dropout=dropout_lstm, batch_first=batch_first)\n",
        "      self.regressor = nn.Linear(hidden_dim * 2, output_dim)\n",
        "      self.dropout = nn.Dropout(dropout_output)\n",
        "\n",
        "\n",
        "  def forward(self, input_ids, type_ids, mask):\n",
        "\n",
        "      bert_output = self.bert(input_ids=input_ids, token_type_ids = type_ids, attention_mask= mask)\n",
        "      attention_mask = mask.unsqueeze(-1).expand(bert_output.last_hidden_state.shape).float()\n",
        "      masked_last_hidden_state = bert_output.last_hidden_state * attention_mask\n",
        "      \"\"\"\n",
        "      The bilstm_output is the tensor of all the hidden state from each time step in the RNN(LSTM), and the hidden state (h_n) returned\n",
        "      by the RNN(LSTM) is the last hidden state from the last time step from the input sequence\n",
        "      \"\"\"\n",
        "      bilstm_output, (h_n, _) = self.bilstm(masked_last_hidden_state)\n",
        "      #h_n = [num layers * num directions, batch size, hid dim]\n",
        "      # obtain the final hidden states from both directions of the BiLSTM\n",
        "      bilstm_output = self.dropout(bilstm_output)\n",
        "\n",
        "      # obtain the final hidden states from both directions of the BiLSTM\n",
        "      final_hidden_state = torch.cat((bilstm_output[:, -1, :self.bilstm.hidden_size],\n",
        "                                      bilstm_output[:, 0, self.bilstm.hidden_size:]), dim=1)\n",
        "\n",
        "      logits = self.regressor(final_hidden_state)\n",
        "      return logits, bert_output"
      ]
    },
    {
      "cell_type": "code",
      "source": [
        "def pearson_corr(y_pred, y_true):\n",
        "    all_preds = np.concatenate(y_pred)\n",
        "    all_targets = np.concatenate(y_true)\n",
        "    return np.corrcoef(all_preds, all_targets)[0, 1]"
      ],
      "metadata": {
        "id": "n3ur6ZV3_Gb6"
      },
      "execution_count": null,
      "outputs": []
    },
    {
      "cell_type": "code",
      "source": [
        "def spearman_corr(y_pred, y_true):\n",
        "    all_preds = np.concatenate(y_pred)\n",
        "    all_targets = np.concatenate(y_true)\n",
        "\n",
        "    corr, _ = spearmanr(all_preds, all_targets)\n",
        "    return corr"
      ],
      "metadata": {
        "id": "P6-Jax0r_Mhf"
      },
      "execution_count": null,
      "outputs": []
    },
    {
      "cell_type": "code",
      "execution_count": null,
      "metadata": {
        "id": "fdInbGmYrUfw"
      },
      "outputs": [],
      "source": [
        "def train_loop(model,loader,optimizer,criterion,device,clip = 1.0):\n",
        "    #Training loop\n",
        "    model.train()\n",
        "    loss_sum = 0\n",
        "    all_preds = []\n",
        "    all_targets = []\n",
        "    seed = 42\n",
        "    np.random.seed(seed)\n",
        "    random.seed(seed)\n",
        "    torch.manual_seed(seed)\n",
        "    torch.cuda.manual_seed_all(seed)\n",
        "\n",
        "    for i, batch in enumerate(loader):\n",
        "\n",
        "        b_input_ids = batch[0].to(device)\n",
        "        b_attention_mask = batch[1].to(device)\n",
        "        b_type_ids = batch[2].to(device)\n",
        "        labels = batch[3].to(device)\n",
        "\n",
        "        optimizer.zero_grad()\n",
        "        #Forward\n",
        "        outputs, _ = model(input_ids=b_input_ids, type_ids = b_type_ids, mask = b_attention_mask)\n",
        "        outputs = outputs.squeeze(-1)\n",
        "        #Loss\n",
        "        loss = criterion(outputs.view(-1), labels.float())\n",
        "        #Backprop\n",
        "        loss.backward()\n",
        "        #prevent gradients from exploding\n",
        "        torch.nn.utils.clip_grad_norm_(model.parameters(), clip)\n",
        "        #Update params\n",
        "        optimizer.step()\n",
        "\n",
        "        loss_sum += loss.item()\n",
        "\n",
        "        all_preds.append(outputs.detach().cpu().numpy())\n",
        "        all_targets.append(labels.float().detach().cpu().numpy())\n",
        "\n",
        "    epoch_train_loss = loss_sum / len(loader)\n",
        "    epoch_train_pearson = pearson_corr(all_preds, all_targets)\n",
        "    epoch_train_spearman = spearman_corr(all_preds, all_targets)\n",
        "\n",
        "    return epoch_train_loss, epoch_train_pearson, epoch_train_spearman\n"
      ]
    },
    {
      "cell_type": "code",
      "execution_count": null,
      "metadata": {
        "id": "CxO7AgRRtnnk"
      },
      "outputs": [],
      "source": [
        "def evaluation_loop(model,loader,criterion,device):\n",
        "    #Evaluation loop\n",
        "    seed = 42\n",
        "    np.random.seed(seed)\n",
        "    random.seed(seed)\n",
        "    torch.manual_seed(seed)\n",
        "    torch.cuda.manual_seed_all(seed)\n",
        "    model.eval()\n",
        "    with torch.no_grad():\n",
        "        loss_sum = 0\n",
        "        all_preds = []\n",
        "        all_targets = []\n",
        "\n",
        "        for i, batch in enumerate(loader):\n",
        "            b_input_ids = batch[0].to(device)\n",
        "            b_attention_mask = batch[1].to(device)\n",
        "            b_type_ids = batch[2].to(device)\n",
        "            labels = batch[3].to(device)\n",
        "\n",
        "            #Forward\n",
        "            outputs, _ = model(input_ids=b_input_ids, type_ids = b_type_ids, mask = b_attention_mask)\n",
        "            outputs = outputs.squeeze(-1)\n",
        "            #Loss\n",
        "            loss = criterion(outputs.view(-1), labels.float())\n",
        "\n",
        "            loss_sum += loss.item()\n",
        "\n",
        "            all_preds.append(outputs.detach().cpu().numpy())\n",
        "            all_targets.append(labels.float().detach().cpu().numpy())\n",
        "\n",
        "        epoch_dev_loss = loss_sum / len(loader)\n",
        "        epoch_dev_pearson = pearson_corr(all_preds, all_targets)\n",
        "        epoch_dev_spearman = spearman_corr(all_preds, all_targets)\n",
        "\n",
        "    return epoch_dev_loss, epoch_dev_pearson, epoch_dev_spearman"
      ]
    },
    {
      "cell_type": "code",
      "source": [
        "def save_metrics_dataframe(metrics_dict, study_name, path_base):\n",
        "  # Abrir archivo en modo escritura y especificar el separador de campos\n",
        "  path = path_base + 'metrics_' + study_name + \".csv\"\n",
        "  with open(path, \"a+\", newline=\"\") as f:\n",
        "      metrics = [metrics_dict]\n",
        "      # Crear objeto escritor CSV y especificar el separador de campos\n",
        "      metrics_csv = csv.DictWriter(f, fieldnames=['train_loss','valid_loss','spearman_train','spearman_val','pearson_train','pearson_val'],delimiter=\",\")\n",
        "\n",
        "      # Verificar si se ha escrito el encabezado del archivo\n",
        "      if f.tell() == 0:\n",
        "        metrics_csv.writeheader()\n",
        "\n",
        "      # Escribir cada fila de datos\n",
        "      for metric in metrics:\n",
        "          metrics_csv.writerow(metric)"
      ],
      "metadata": {
        "id": "dxgbOy7GY0I_"
      },
      "execution_count": null,
      "outputs": []
    },
    {
      "cell_type": "code",
      "source": [
        "study_name = 'study-bert-bilstm-output-base-sick'"
      ],
      "metadata": {
        "id": "Meh7L_p3ZXm-"
      },
      "execution_count": null,
      "outputs": []
    },
    {
      "cell_type": "code",
      "source": [
        "def isNan(value):\n",
        "  return 0 if math.isnan(value) else value"
      ],
      "metadata": {
        "id": "9dZeuPPWZV-R"
      },
      "execution_count": null,
      "outputs": []
    },
    {
      "cell_type": "code",
      "source": [
        "def objective(trial):\n",
        "  params = {\n",
        "      \"num_layers\": trial.suggest_int(\"num_layer\", 1, 3),\n",
        "      \"dropout_output\": trial.suggest_uniform(\"dropout_output\", 0, 0.8),\n",
        "      \"dropout_lstm\": trial.suggest_uniform(\"dropout_lstm\", 0, 0.8),\n",
        "      \"freeze\" : trial.suggest_categorical('freeze', [True, False]),\n",
        "      \"optimizer\": trial.suggest_categorical(\"optimizer\", [\"Adam\", \"RMSprop\", \"SGD\"]),\n",
        "      \"learning_rate\": trial.suggest_loguniform(\"learning_rate\",1e-5, 1e-4)\n",
        "  }\n",
        "\n",
        "  model = BertBaseUncasedBiLSTMRegressor(dropout_output=params[\"dropout_output\"],dropout_lstm=params[\"dropout_lstm\"],freeze=params[\"freeze\"],n_layers = params[\"num_layers\"]).to(device)\n",
        "  criterion = nn.MSELoss()\n",
        "  optimizer = getattr(optim, params[\"optimizer\"])(model.parameters(), lr=params[\"learning_rate\"])\n",
        "\n",
        "  NUM_EPOCHS = 5\n",
        "  best_valid_loss = float('inf')\n",
        "  MODEL_FILE_NAME = CORPUS+'_'+BERT_PATH+'_'+str(MAX_LEN)+'_tunned_model.pt'\n",
        "  history = {\"train\": {\"loss\": []}, \"test\": {\"loss\": []}}\n",
        "\n",
        "  torch.cuda.empty_cache()\n",
        "  seed = 42\n",
        "  np.random.seed(seed)\n",
        "  random.seed(seed)\n",
        "  torch.manual_seed(seed)\n",
        "  torch.cuda.manual_seed_all(seed)\n",
        "\n",
        "  train_loss_list, val_loss_list, spearman_train, spearman_val, pearson_train, pearson_val = [], [], [], [], [], []\n",
        "\n",
        "  for epoch in range(NUM_EPOCHS):\n",
        "\n",
        "    start_time = time.time()\n",
        "\n",
        "    epoch_train_loss, epoch_train_pearson, epoch_train_spearman = train_loop(model,train_loader,optimizer,criterion,device)\n",
        "    epoch_dev_loss, epoch_dev_pearson, epoch_dev_spearman = evaluation_loop(model,val_loader,criterion,device)\n",
        "\n",
        "    elapsed_time = time.time() - start_time\n",
        "\n",
        "    if trial.should_prune():\n",
        "      raise optuna.exceptions.TrialPruned()\n",
        "\n",
        "    #nos quedamos con el modelo que tiene mejor pérdida de validación\n",
        "    if epoch_dev_loss < best_valid_loss:\n",
        "      best_valid_loss = epoch_dev_loss\n",
        "      torch.save(model.state_dict(), MODEL_FILE_NAME)\n",
        "\n",
        "    train_loss_list.append(isNan(epoch_train_loss))\n",
        "    val_loss_list.append(isNan(epoch_dev_loss))\n",
        "    spearman_train.append(isNan(epoch_train_spearman))\n",
        "    spearman_val.append(isNan(epoch_dev_spearman))\n",
        "    pearson_train.append(isNan(epoch_train_pearson))\n",
        "    pearson_val.append(isNan(epoch_dev_pearson))\n",
        "\n",
        "    history[\"train\"][\"loss\"].append(epoch_train_loss)\n",
        "    history[\"test\"][\"loss\"].append(epoch_dev_loss)\n",
        "\n",
        "    print('-' * 80)\n",
        "    print(f'Epoch: {epoch+1:03}/{NUM_EPOCHS} | Time: {elapsed_time:.4f}s | Train loss: {epoch_train_loss:.4f} | Dev loss: {epoch_dev_loss:.4f}')\n",
        "    print(f'Train Pearson Coef: {epoch_train_pearson:.4f} | Dev Pearson Coef: {epoch_dev_pearson:.4f}')\n",
        "    print(f'Train Spearman Coef: {epoch_train_spearman:.4f} | Dev Spearman Coef: {epoch_dev_spearman:.4f}')\n",
        "\n",
        "  metrics_dict = {\n",
        "      'train_loss' : train_loss_list,\n",
        "      'valid_loss' : val_loss_list,\n",
        "      'spearman_train': spearman_train,\n",
        "      'spearman_val': spearman_val,\n",
        "      'pearson_train': pearson_train,\n",
        "      'pearson_val': pearson_val\n",
        "  }\n",
        "\n",
        "  save_metrics_dataframe(metrics_dict, study_name, path_base)\n",
        "\n",
        "  return best_valid_loss"
      ],
      "metadata": {
        "id": "owIEB8g8YyFT"
      },
      "execution_count": null,
      "outputs": []
    },
    {
      "cell_type": "code",
      "source": [
        "storage_path = path_base + \"optuna_study_bilstm_output_SICK_.db\""
      ],
      "metadata": {
        "id": "dbSAC6YFfqgC"
      },
      "execution_count": null,
      "outputs": []
    },
    {
      "cell_type": "code",
      "source": [
        "# Define el estudio de Optuna utilizando el storage\n",
        "study = optuna.create_study(study_name=study_name, direction=\"minimize\", storage=f\"sqlite:///{storage_path}\", load_if_exists=True)"
      ],
      "metadata": {
        "id": "kFkzJHFSZRAz",
        "colab": {
          "base_uri": "https://localhost:8080/"
        },
        "outputId": "d26042e1-daf5-4f9d-e6e6-5526d96e4912"
      },
      "execution_count": null,
      "outputs": [
        {
          "output_type": "stream",
          "name": "stderr",
          "text": [
            "[I 2023-11-17 04:17:08,744] A new study created in RDB with name: study-bert-bilstm-output-base-sick\n"
          ]
        }
      ]
    },
    {
      "cell_type": "code",
      "source": [
        "study.optimize(objective, n_trials=15)"
      ],
      "metadata": {
        "id": "Cun6M9lVY1WH",
        "colab": {
          "base_uri": "https://localhost:8080/",
          "height": 1000,
          "referenced_widgets": [
            "753f0b0a8f934fe0896a90b1dc78fea0",
            "2520c88f25d24468b364c40fb3e346f6",
            "8a44de35ee87462294b6365e71a31f7d",
            "e25a734e51c34fad801236ab79afd5e5",
            "327fccb192c546ee9c431e99e56a8689",
            "3d420828ed0f481a91c13714973defa4",
            "442e4efff1f74cf8bb37e7d73b4db1be",
            "ee90bda9d54e4933a29fa96ef771f4dc",
            "54aa496529c0453792710eb3c77e50d2",
            "90944623496f47d781634c9bfa2a0797",
            "08209f5fdef94e168dd5a918a1ef57f0"
          ]
        },
        "outputId": "417ecaf3-d12b-4cf0-90d2-95c66aa79590"
      },
      "execution_count": null,
      "outputs": [
        {
          "metadata": {
            "tags": null
          },
          "name": "stderr",
          "output_type": "stream",
          "text": [
            "<ipython-input-31-b4102fbb518e>:4: FutureWarning: suggest_uniform has been deprecated in v3.0.0. This feature will be removed in v6.0.0. See https://github.com/optuna/optuna/releases/tag/v3.0.0. Use suggest_float instead.\n",
            "  \"dropout_output\": trial.suggest_uniform(\"dropout_output\", 0, 0.8),\n",
            "<ipython-input-31-b4102fbb518e>:5: FutureWarning: suggest_uniform has been deprecated in v3.0.0. This feature will be removed in v6.0.0. See https://github.com/optuna/optuna/releases/tag/v3.0.0. Use suggest_float instead.\n",
            "  \"dropout_lstm\": trial.suggest_uniform(\"dropout_lstm\", 0, 0.8),\n",
            "<ipython-input-31-b4102fbb518e>:8: FutureWarning: suggest_loguniform has been deprecated in v3.0.0. This feature will be removed in v6.0.0. See https://github.com/optuna/optuna/releases/tag/v3.0.0. Use suggest_float(..., log=True) instead.\n",
            "  \"learning_rate\": trial.suggest_loguniform(\"learning_rate\",1e-5, 1e-4)\n"
          ]
        },
        {
          "data": {
            "application/vnd.jupyter.widget-view+json": {
              "model_id": "753f0b0a8f934fe0896a90b1dc78fea0",
              "version_major": 2,
              "version_minor": 0
            },
            "text/plain": [
              "model.safetensors:   0%|          | 0.00/440M [00:00<?, ?B/s]"
            ]
          },
          "metadata": {},
          "output_type": "display_data"
        },
        {
          "metadata": {
            "tags": null
          },
          "name": "stdout",
          "output_type": "stream",
          "text": [
            "--------------------------------------------------------------------------------\n",
            "Epoch: 001/5 | Time: 60.9189s | Train loss: 1.7793 | Dev loss: 1.0892\n",
            "Train Pearson Coef: 0.1382 | Dev Pearson Coef: 0.6470\n",
            "Train Spearman Coef: 0.2623 | Dev Spearman Coef: 0.6174\n",
            "--------------------------------------------------------------------------------\n",
            "Epoch: 002/5 | Time: 63.4619s | Train loss: 0.6074 | Dev loss: 0.9898\n",
            "Train Pearson Coef: 0.6503 | Dev Pearson Coef: 0.7235\n",
            "Train Spearman Coef: 0.5945 | Dev Spearman Coef: 0.6795\n",
            "--------------------------------------------------------------------------------\n",
            "Epoch: 003/5 | Time: 63.0831s | Train loss: 0.5017 | Dev loss: 0.8895\n",
            "Train Pearson Coef: 0.7235 | Dev Pearson Coef: 0.7530\n",
            "Train Spearman Coef: 0.6555 | Dev Spearman Coef: 0.7055\n",
            "--------------------------------------------------------------------------------\n",
            "Epoch: 004/5 | Time: 63.0584s | Train loss: 0.4373 | Dev loss: 0.8124\n",
            "Train Pearson Coef: 0.7645 | Dev Pearson Coef: 0.7715\n",
            "Train Spearman Coef: 0.6896 | Dev Spearman Coef: 0.7248\n"
          ]
        },
        {
          "metadata": {
            "tags": null
          },
          "name": "stderr",
          "output_type": "stream",
          "text": [
            "[I 2023-11-17 04:22:58,427] Trial 0 finished with value: 0.780758436769247 and parameters: {'num_layer': 2, 'dropout_output': 0.5431572854028318, 'dropout_lstm': 0.7387679569266918, 'freeze': True, 'optimizer': 'RMSprop', 'learning_rate': 1.074781853666988e-05}. Best is trial 0 with value: 0.780758436769247.\n"
          ]
        },
        {
          "metadata": {
            "tags": null
          },
          "name": "stdout",
          "output_type": "stream",
          "text": [
            "--------------------------------------------------------------------------------\n",
            "Epoch: 005/5 | Time: 63.2334s | Train loss: 0.3890 | Dev loss: 0.7808\n",
            "Train Pearson Coef: 0.7940 | Dev Pearson Coef: 0.7827\n",
            "Train Spearman Coef: 0.7171 | Dev Spearman Coef: 0.7379\n"
          ]
        },
        {
          "metadata": {
            "tags": null
          },
          "name": "stderr",
          "output_type": "stream",
          "text": [
            "<ipython-input-31-b4102fbb518e>:4: FutureWarning: suggest_uniform has been deprecated in v3.0.0. This feature will be removed in v6.0.0. See https://github.com/optuna/optuna/releases/tag/v3.0.0. Use suggest_float instead.\n",
            "  \"dropout_output\": trial.suggest_uniform(\"dropout_output\", 0, 0.8),\n",
            "<ipython-input-31-b4102fbb518e>:5: FutureWarning: suggest_uniform has been deprecated in v3.0.0. This feature will be removed in v6.0.0. See https://github.com/optuna/optuna/releases/tag/v3.0.0. Use suggest_float instead.\n",
            "  \"dropout_lstm\": trial.suggest_uniform(\"dropout_lstm\", 0, 0.8),\n",
            "<ipython-input-31-b4102fbb518e>:8: FutureWarning: suggest_loguniform has been deprecated in v3.0.0. This feature will be removed in v6.0.0. See https://github.com/optuna/optuna/releases/tag/v3.0.0. Use suggest_float(..., log=True) instead.\n",
            "  \"learning_rate\": trial.suggest_loguniform(\"learning_rate\",1e-5, 1e-4)\n"
          ]
        },
        {
          "metadata": {
            "tags": null
          },
          "name": "stdout",
          "output_type": "stream",
          "text": [
            "--------------------------------------------------------------------------------\n",
            "Epoch: 001/5 | Time: 82.3912s | Train loss: 0.9646 | Dev loss: 0.4272\n",
            "Train Pearson Coef: 0.4545 | Dev Pearson Coef: 0.7569\n",
            "Train Spearman Coef: 0.4440 | Dev Spearman Coef: 0.7006\n",
            "--------------------------------------------------------------------------------\n",
            "Epoch: 002/5 | Time: 82.2712s | Train loss: 0.4723 | Dev loss: 0.4110\n",
            "Train Pearson Coef: 0.7446 | Dev Pearson Coef: 0.7827\n",
            "Train Spearman Coef: 0.6432 | Dev Spearman Coef: 0.7345\n",
            "--------------------------------------------------------------------------------\n",
            "Epoch: 003/5 | Time: 82.3726s | Train loss: 0.4078 | Dev loss: 0.3802\n",
            "Train Pearson Coef: 0.7839 | Dev Pearson Coef: 0.8009\n",
            "Train Spearman Coef: 0.6870 | Dev Spearman Coef: 0.7536\n",
            "--------------------------------------------------------------------------------\n",
            "Epoch: 004/5 | Time: 82.3976s | Train loss: 0.3580 | Dev loss: 0.3536\n",
            "Train Pearson Coef: 0.8129 | Dev Pearson Coef: 0.8159\n",
            "Train Spearman Coef: 0.7263 | Dev Spearman Coef: 0.7608\n"
          ]
        },
        {
          "metadata": {
            "tags": null
          },
          "name": "stderr",
          "output_type": "stream",
          "text": [
            "[I 2023-11-17 04:30:04,812] Trial 1 finished with value: 0.3415426192805171 and parameters: {'num_layer': 3, 'dropout_output': 0.4015470165327483, 'dropout_lstm': 0.10402369861768115, 'freeze': True, 'optimizer': 'RMSprop', 'learning_rate': 3.897931596672327e-05}. Best is trial 1 with value: 0.3415426192805171.\n"
          ]
        },
        {
          "metadata": {
            "tags": null
          },
          "name": "stdout",
          "output_type": "stream",
          "text": [
            "--------------------------------------------------------------------------------\n",
            "Epoch: 005/5 | Time: 82.3109s | Train loss: 0.3223 | Dev loss: 0.3415\n",
            "Train Pearson Coef: 0.8334 | Dev Pearson Coef: 0.8217\n",
            "Train Spearman Coef: 0.7538 | Dev Spearman Coef: 0.7656\n",
            "--------------------------------------------------------------------------------\n",
            "Epoch: 001/5 | Time: 114.7086s | Train loss: 13.5050 | Dev loss: 13.6062\n",
            "Train Pearson Coef: 0.0261 | Dev Pearson Coef: 0.0937\n",
            "Train Spearman Coef: 0.0250 | Dev Spearman Coef: 0.1130\n",
            "--------------------------------------------------------------------------------\n",
            "Epoch: 002/5 | Time: 114.4626s | Train loss: 13.4078 | Dev loss: 13.5051\n",
            "Train Pearson Coef: 0.0278 | Dev Pearson Coef: 0.0956\n",
            "Train Spearman Coef: 0.0267 | Dev Spearman Coef: 0.1179\n",
            "--------------------------------------------------------------------------------\n",
            "Epoch: 003/5 | Time: 114.5697s | Train loss: 13.3108 | Dev loss: 13.4043\n",
            "Train Pearson Coef: 0.0295 | Dev Pearson Coef: 0.0965\n",
            "Train Spearman Coef: 0.0283 | Dev Spearman Coef: 0.1198\n",
            "--------------------------------------------------------------------------------\n",
            "Epoch: 004/5 | Time: 114.6941s | Train loss: 13.2142 | Dev loss: 13.3038\n",
            "Train Pearson Coef: 0.0310 | Dev Pearson Coef: 0.0964\n",
            "Train Spearman Coef: 0.0297 | Dev Spearman Coef: 0.1215\n"
          ]
        },
        {
          "metadata": {
            "tags": null
          },
          "name": "stderr",
          "output_type": "stream",
          "text": [
            "[I 2023-11-17 04:39:49,064] Trial 2 finished with value: 13.20359157025814 and parameters: {'num_layer': 2, 'dropout_output': 0.5874610739083589, 'dropout_lstm': 0.5392979373589087, 'freeze': False, 'optimizer': 'SGD', 'learning_rate': 5.5702799385623e-05}. Best is trial 1 with value: 0.3415426192805171.\n"
          ]
        },
        {
          "metadata": {
            "tags": null
          },
          "name": "stdout",
          "output_type": "stream",
          "text": [
            "--------------------------------------------------------------------------------\n",
            "Epoch: 005/5 | Time: 114.5151s | Train loss: 13.1177 | Dev loss: 13.2036\n",
            "Train Pearson Coef: 0.0324 | Dev Pearson Coef: 0.0955\n",
            "Train Spearman Coef: 0.0311 | Dev Spearman Coef: 0.1217\n",
            "--------------------------------------------------------------------------------\n",
            "Epoch: 001/5 | Time: 118.7728s | Train loss: 1.7146 | Dev loss: 0.4952\n",
            "Train Pearson Coef: 0.3261 | Dev Pearson Coef: 0.8332\n",
            "Train Spearman Coef: 0.3722 | Dev Spearman Coef: 0.7862\n",
            "--------------------------------------------------------------------------------\n",
            "Epoch: 002/5 | Time: 118.8547s | Train loss: 0.2848 | Dev loss: 0.4761\n",
            "Train Pearson Coef: 0.8545 | Dev Pearson Coef: 0.8562\n",
            "Train Spearman Coef: 0.7832 | Dev Spearman Coef: 0.8018\n",
            "--------------------------------------------------------------------------------\n",
            "Epoch: 003/5 | Time: 118.8341s | Train loss: 0.1873 | Dev loss: 0.4752\n",
            "Train Pearson Coef: 0.9070 | Dev Pearson Coef: 0.8551\n",
            "Train Spearman Coef: 0.8610 | Dev Spearman Coef: 0.8052\n",
            "--------------------------------------------------------------------------------\n",
            "Epoch: 004/5 | Time: 118.8914s | Train loss: 0.1220 | Dev loss: 0.3597\n",
            "Train Pearson Coef: 0.9405 | Dev Pearson Coef: 0.8641\n",
            "Train Spearman Coef: 0.9137 | Dev Spearman Coef: 0.8095\n"
          ]
        },
        {
          "metadata": {
            "tags": null
          },
          "name": "stderr",
          "output_type": "stream",
          "text": [
            "[I 2023-11-17 04:49:55,646] Trial 3 finished with value: 0.27301567047834396 and parameters: {'num_layer': 2, 'dropout_output': 0.36893790498113327, 'dropout_lstm': 0.7076720294734357, 'freeze': False, 'optimizer': 'Adam', 'learning_rate': 3.506616281221756e-05}. Best is trial 3 with value: 0.27301567047834396.\n"
          ]
        },
        {
          "metadata": {
            "tags": null
          },
          "name": "stdout",
          "output_type": "stream",
          "text": [
            "--------------------------------------------------------------------------------\n",
            "Epoch: 005/5 | Time: 118.7649s | Train loss: 0.0994 | Dev loss: 0.2730\n",
            "Train Pearson Coef: 0.9519 | Dev Pearson Coef: 0.8614\n",
            "Train Spearman Coef: 0.9313 | Dev Spearman Coef: 0.8123\n",
            "--------------------------------------------------------------------------------\n",
            "Epoch: 001/5 | Time: 114.6872s | Train loss: 13.5390 | Dev loss: 13.6745\n",
            "Train Pearson Coef: 0.0085 | Dev Pearson Coef: 0.0918\n",
            "Train Spearman Coef: 0.0112 | Dev Spearman Coef: 0.1082\n",
            "--------------------------------------------------------------------------------\n",
            "Epoch: 002/5 | Time: 114.5973s | Train loss: 13.5070 | Dev loss: 13.6414\n",
            "Train Pearson Coef: 0.0093 | Dev Pearson Coef: 0.0927\n",
            "Train Spearman Coef: 0.0120 | Dev Spearman Coef: 0.1101\n",
            "--------------------------------------------------------------------------------\n",
            "Epoch: 003/5 | Time: 114.6590s | Train loss: 13.4751 | Dev loss: 13.6083\n",
            "Train Pearson Coef: 0.0102 | Dev Pearson Coef: 0.0935\n",
            "Train Spearman Coef: 0.0128 | Dev Spearman Coef: 0.1127\n",
            "--------------------------------------------------------------------------------\n",
            "Epoch: 004/5 | Time: 114.6854s | Train loss: 13.4433 | Dev loss: 13.5753\n",
            "Train Pearson Coef: 0.0110 | Dev Pearson Coef: 0.0942\n",
            "Train Spearman Coef: 0.0137 | Dev Spearman Coef: 0.1147\n"
          ]
        },
        {
          "metadata": {
            "tags": null
          },
          "name": "stderr",
          "output_type": "stream",
          "text": [
            "[I 2023-11-17 04:59:40,675] Trial 4 finished with value: 13.542259708046913 and parameters: {'num_layer': 2, 'dropout_output': 0.5063220122342169, 'dropout_lstm': 0.37161384272300624, 'freeze': False, 'optimizer': 'SGD', 'learning_rate': 1.8037525626111206e-05}. Best is trial 3 with value: 0.27301567047834396.\n"
          ]
        },
        {
          "metadata": {
            "tags": null
          },
          "name": "stdout",
          "output_type": "stream",
          "text": [
            "--------------------------------------------------------------------------------\n",
            "Epoch: 005/5 | Time: 114.7177s | Train loss: 13.4114 | Dev loss: 13.5423\n",
            "Train Pearson Coef: 0.0118 | Dev Pearson Coef: 0.0949\n",
            "Train Spearman Coef: 0.0144 | Dev Spearman Coef: 0.1158\n"
          ]
        },
        {
          "metadata": {
            "tags": null
          },
          "name": "stderr",
          "output_type": "stream",
          "text": [
            "/usr/local/lib/python3.10/dist-packages/torch/nn/modules/rnn.py:82: UserWarning: dropout option adds dropout after all but last recurrent layer, so non-zero dropout expects num_layers greater than 1, but got dropout=0.041483761313284885 and num_layers=1\n",
            "  warnings.warn(\"dropout option adds dropout after all but last \"\n"
          ]
        },
        {
          "metadata": {
            "tags": null
          },
          "name": "stdout",
          "output_type": "stream",
          "text": [
            "--------------------------------------------------------------------------------\n",
            "Epoch: 001/5 | Time: 98.5919s | Train loss: 0.7451 | Dev loss: 0.3262\n",
            "Train Pearson Coef: 0.6053 | Dev Pearson Coef: 0.8393\n",
            "Train Spearman Coef: 0.5581 | Dev Spearman Coef: 0.7895\n",
            "--------------------------------------------------------------------------------\n",
            "Epoch: 002/5 | Time: 98.4829s | Train loss: 0.2225 | Dev loss: 0.3616\n",
            "Train Pearson Coef: 0.8884 | Dev Pearson Coef: 0.8603\n",
            "Train Spearman Coef: 0.8292 | Dev Spearman Coef: 0.7990\n",
            "--------------------------------------------------------------------------------\n",
            "Epoch: 003/5 | Time: 98.4459s | Train loss: 0.1343 | Dev loss: 0.3526\n",
            "Train Pearson Coef: 0.9342 | Dev Pearson Coef: 0.8640\n",
            "Train Spearman Coef: 0.8980 | Dev Spearman Coef: 0.8159\n",
            "--------------------------------------------------------------------------------\n",
            "Epoch: 004/5 | Time: 98.3481s | Train loss: 0.0826 | Dev loss: 0.3260\n",
            "Train Pearson Coef: 0.9601 | Dev Pearson Coef: 0.8677\n",
            "Train Spearman Coef: 0.9380 | Dev Spearman Coef: 0.8166\n"
          ]
        },
        {
          "metadata": {
            "tags": null
          },
          "name": "stderr",
          "output_type": "stream",
          "text": [
            "[I 2023-11-17 05:07:59,299] Trial 5 finished with value: 0.29406844079494476 and parameters: {'num_layer': 1, 'dropout_output': 0.013291558058221398, 'dropout_lstm': 0.041483761313284885, 'freeze': False, 'optimizer': 'RMSprop', 'learning_rate': 3.234037652191672e-05}. Best is trial 3 with value: 0.27301567047834396.\n"
          ]
        },
        {
          "metadata": {
            "tags": null
          },
          "name": "stdout",
          "output_type": "stream",
          "text": [
            "--------------------------------------------------------------------------------\n",
            "Epoch: 005/5 | Time: 98.4962s | Train loss: 0.0598 | Dev loss: 0.2941\n",
            "Train Pearson Coef: 0.9713 | Dev Pearson Coef: 0.8696\n",
            "Train Spearman Coef: 0.9572 | Dev Spearman Coef: 0.8133\n",
            "--------------------------------------------------------------------------------\n",
            "Epoch: 001/5 | Time: 137.7323s | Train loss: 1.6693 | Dev loss: 0.4102\n",
            "Train Pearson Coef: 0.3283 | Dev Pearson Coef: 0.8211\n",
            "Train Spearman Coef: 0.3726 | Dev Spearman Coef: 0.7608\n",
            "--------------------------------------------------------------------------------\n",
            "Epoch: 002/5 | Time: 137.8989s | Train loss: 0.3171 | Dev loss: 0.2875\n",
            "Train Pearson Coef: 0.8374 | Dev Pearson Coef: 0.8553\n",
            "Train Spearman Coef: 0.7572 | Dev Spearman Coef: 0.7967\n",
            "--------------------------------------------------------------------------------\n",
            "Epoch: 003/5 | Time: 137.5749s | Train loss: 0.2324 | Dev loss: 0.2833\n",
            "Train Pearson Coef: 0.8846 | Dev Pearson Coef: 0.8626\n",
            "Train Spearman Coef: 0.8267 | Dev Spearman Coef: 0.8070\n",
            "--------------------------------------------------------------------------------\n",
            "Epoch: 004/5 | Time: 137.9392s | Train loss: 0.1621 | Dev loss: 0.3910\n",
            "Train Pearson Coef: 0.9206 | Dev Pearson Coef: 0.8382\n",
            "Train Spearman Coef: 0.8827 | Dev Spearman Coef: 0.7793\n"
          ]
        },
        {
          "metadata": {
            "tags": null
          },
          "name": "stderr",
          "output_type": "stream",
          "text": [
            "[I 2023-11-17 05:19:39,728] Trial 6 finished with value: 0.27583751175552607 and parameters: {'num_layer': 3, 'dropout_output': 0.44801642825808524, 'dropout_lstm': 0.26764010625038875, 'freeze': False, 'optimizer': 'Adam', 'learning_rate': 3.862217450819051e-05}. Best is trial 3 with value: 0.27301567047834396.\n"
          ]
        },
        {
          "metadata": {
            "tags": null
          },
          "name": "stdout",
          "output_type": "stream",
          "text": [
            "--------------------------------------------------------------------------------\n",
            "Epoch: 005/5 | Time: 137.6969s | Train loss: 0.1224 | Dev loss: 0.2758\n",
            "Train Pearson Coef: 0.9404 | Dev Pearson Coef: 0.8571\n",
            "Train Spearman Coef: 0.9090 | Dev Spearman Coef: 0.8002\n",
            "--------------------------------------------------------------------------------\n",
            "Epoch: 001/5 | Time: 62.9155s | Train loss: 13.5335 | Dev loss: 13.6722\n",
            "Train Pearson Coef: 0.0276 | Dev Pearson Coef: 0.0922\n",
            "Train Spearman Coef: 0.0257 | Dev Spearman Coef: 0.1087\n",
            "--------------------------------------------------------------------------------\n",
            "Epoch: 002/5 | Time: 62.7237s | Train loss: 13.4998 | Dev loss: 13.6369\n",
            "Train Pearson Coef: 0.0281 | Dev Pearson Coef: 0.0934\n",
            "Train Spearman Coef: 0.0262 | Dev Spearman Coef: 0.1115\n",
            "--------------------------------------------------------------------------------\n",
            "Epoch: 003/5 | Time: 62.8264s | Train loss: 13.4662 | Dev loss: 13.6015\n",
            "Train Pearson Coef: 0.0286 | Dev Pearson Coef: 0.0946\n",
            "Train Spearman Coef: 0.0267 | Dev Spearman Coef: 0.1143\n",
            "--------------------------------------------------------------------------------\n",
            "Epoch: 004/5 | Time: 62.9475s | Train loss: 13.4326 | Dev loss: 13.5663\n",
            "Train Pearson Coef: 0.0291 | Dev Pearson Coef: 0.0957\n",
            "Train Spearman Coef: 0.0271 | Dev Spearman Coef: 0.1170\n"
          ]
        },
        {
          "metadata": {
            "tags": null
          },
          "name": "stderr",
          "output_type": "stream",
          "text": [
            "[I 2023-11-17 05:25:05,742] Trial 7 finished with value: 13.531066998839378 and parameters: {'num_layer': 2, 'dropout_output': 0.6038971661735207, 'dropout_lstm': 0.7690799827886746, 'freeze': True, 'optimizer': 'SGD', 'learning_rate': 2.0528541513570805e-05}. Best is trial 3 with value: 0.27301567047834396.\n"
          ]
        },
        {
          "metadata": {
            "tags": null
          },
          "name": "stdout",
          "output_type": "stream",
          "text": [
            "--------------------------------------------------------------------------------\n",
            "Epoch: 005/5 | Time: 62.8193s | Train loss: 13.3991 | Dev loss: 13.5311\n",
            "Train Pearson Coef: 0.0295 | Dev Pearson Coef: 0.0968\n",
            "Train Spearman Coef: 0.0274 | Dev Spearman Coef: 0.1187\n",
            "--------------------------------------------------------------------------------\n",
            "Epoch: 001/5 | Time: 63.5387s | Train loss: 0.8687 | Dev loss: 0.4501\n",
            "Train Pearson Coef: 0.5190 | Dev Pearson Coef: 0.7652\n",
            "Train Spearman Coef: 0.4848 | Dev Spearman Coef: 0.7148\n",
            "--------------------------------------------------------------------------------\n",
            "Epoch: 002/5 | Time: 63.3509s | Train loss: 0.4517 | Dev loss: 0.4834\n",
            "Train Pearson Coef: 0.7576 | Dev Pearson Coef: 0.7971\n",
            "Train Spearman Coef: 0.6595 | Dev Spearman Coef: 0.7571\n",
            "--------------------------------------------------------------------------------\n",
            "Epoch: 003/5 | Time: 63.5404s | Train loss: 0.3800 | Dev loss: 0.4224\n",
            "Train Pearson Coef: 0.8003 | Dev Pearson Coef: 0.8043\n",
            "Train Spearman Coef: 0.7097 | Dev Spearman Coef: 0.7540\n",
            "--------------------------------------------------------------------------------\n",
            "Epoch: 004/5 | Time: 63.4437s | Train loss: 0.3220 | Dev loss: 0.3881\n",
            "Train Pearson Coef: 0.8335 | Dev Pearson Coef: 0.8184\n",
            "Train Spearman Coef: 0.7609 | Dev Spearman Coef: 0.7622\n"
          ]
        },
        {
          "metadata": {
            "tags": null
          },
          "name": "stderr",
          "output_type": "stream",
          "text": [
            "[I 2023-11-17 05:30:34,643] Trial 8 finished with value: 0.3880930421873927 and parameters: {'num_layer': 2, 'dropout_output': 0.04220333480683776, 'dropout_lstm': 0.30486339104969445, 'freeze': True, 'optimizer': 'RMSprop', 'learning_rate': 6.986941872137882e-05}. Best is trial 3 with value: 0.27301567047834396.\n"
          ]
        },
        {
          "metadata": {
            "tags": null
          },
          "name": "stdout",
          "output_type": "stream",
          "text": [
            "--------------------------------------------------------------------------------\n",
            "Epoch: 005/5 | Time: 63.6255s | Train loss: 0.2902 | Dev loss: 0.4104\n",
            "Train Pearson Coef: 0.8514 | Dev Pearson Coef: 0.8188\n",
            "Train Spearman Coef: 0.7794 | Dev Spearman Coef: 0.7638\n",
            "--------------------------------------------------------------------------------\n",
            "Epoch: 001/5 | Time: 63.4205s | Train loss: 0.8993 | Dev loss: 0.4764\n",
            "Train Pearson Coef: 0.4908 | Dev Pearson Coef: 0.7548\n",
            "Train Spearman Coef: 0.4952 | Dev Spearman Coef: 0.7051\n",
            "--------------------------------------------------------------------------------\n",
            "Epoch: 002/5 | Time: 63.4370s | Train loss: 0.4660 | Dev loss: 0.4200\n",
            "Train Pearson Coef: 0.7471 | Dev Pearson Coef: 0.7915\n",
            "Train Spearman Coef: 0.6542 | Dev Spearman Coef: 0.7442\n",
            "--------------------------------------------------------------------------------\n",
            "Epoch: 003/5 | Time: 63.4035s | Train loss: 0.4089 | Dev loss: 0.4040\n",
            "Train Pearson Coef: 0.7829 | Dev Pearson Coef: 0.8048\n",
            "Train Spearman Coef: 0.6933 | Dev Spearman Coef: 0.7559\n",
            "--------------------------------------------------------------------------------\n",
            "Epoch: 004/5 | Time: 63.3824s | Train loss: 0.3713 | Dev loss: 0.3476\n",
            "Train Pearson Coef: 0.8054 | Dev Pearson Coef: 0.8146\n",
            "Train Spearman Coef: 0.7178 | Dev Spearman Coef: 0.7605\n"
          ]
        },
        {
          "metadata": {
            "tags": null
          },
          "name": "stderr",
          "output_type": "stream",
          "text": [
            "[I 2023-11-17 05:36:02,381] Trial 9 finished with value: 0.34755153954029083 and parameters: {'num_layer': 2, 'dropout_output': 0.06771415231149468, 'dropout_lstm': 0.14430125305601785, 'freeze': True, 'optimizer': 'RMSprop', 'learning_rate': 3.9669030154941894e-05}. Best is trial 3 with value: 0.27301567047834396.\n"
          ]
        },
        {
          "metadata": {
            "tags": null
          },
          "name": "stdout",
          "output_type": "stream",
          "text": [
            "--------------------------------------------------------------------------------\n",
            "Epoch: 005/5 | Time: 63.5900s | Train loss: 0.3421 | Dev loss: 0.3761\n",
            "Train Pearson Coef: 0.8228 | Dev Pearson Coef: 0.8159\n",
            "Train Spearman Coef: 0.7385 | Dev Spearman Coef: 0.7585\n"
          ]
        },
        {
          "metadata": {
            "tags": null
          },
          "name": "stderr",
          "output_type": "stream",
          "text": [
            "/usr/local/lib/python3.10/dist-packages/torch/nn/modules/rnn.py:82: UserWarning: dropout option adds dropout after all but last recurrent layer, so non-zero dropout expects num_layers greater than 1, but got dropout=0.549029062484871 and num_layers=1\n",
            "  warnings.warn(\"dropout option adds dropout after all but last \"\n"
          ]
        },
        {
          "metadata": {
            "tags": null
          },
          "name": "stdout",
          "output_type": "stream",
          "text": [
            "--------------------------------------------------------------------------------\n",
            "Epoch: 001/5 | Time: 100.0950s | Train loss: 1.0899 | Dev loss: 0.5289\n",
            "Train Pearson Coef: 0.4252 | Dev Pearson Coef: 0.7370\n",
            "Train Spearman Coef: 0.3820 | Dev Spearman Coef: 0.7192\n",
            "--------------------------------------------------------------------------------\n",
            "Epoch: 002/5 | Time: 99.9414s | Train loss: 0.3577 | Dev loss: 0.4136\n",
            "Train Pearson Coef: 0.8158 | Dev Pearson Coef: 0.8215\n",
            "Train Spearman Coef: 0.7385 | Dev Spearman Coef: 0.7634\n",
            "--------------------------------------------------------------------------------\n",
            "Epoch: 003/5 | Time: 99.9299s | Train loss: 0.2312 | Dev loss: 0.3841\n",
            "Train Pearson Coef: 0.8847 | Dev Pearson Coef: 0.8229\n",
            "Train Spearman Coef: 0.8335 | Dev Spearman Coef: 0.7184\n",
            "--------------------------------------------------------------------------------\n",
            "Epoch: 004/5 | Time: 99.9587s | Train loss: 0.1745 | Dev loss: 0.3007\n",
            "Train Pearson Coef: 0.9146 | Dev Pearson Coef: 0.8445\n",
            "Train Spearman Coef: 0.8820 | Dev Spearman Coef: 0.7904\n"
          ]
        },
        {
          "metadata": {
            "tags": null
          },
          "name": "stderr",
          "output_type": "stream",
          "text": [
            "[I 2023-11-17 05:44:34,468] Trial 10 finished with value: 0.30069773737341166 and parameters: {'num_layer': 1, 'dropout_output': 0.7241130904634926, 'dropout_lstm': 0.549029062484871, 'freeze': False, 'optimizer': 'Adam', 'learning_rate': 8.74755107159403e-05}. Best is trial 3 with value: 0.27301567047834396.\n"
          ]
        },
        {
          "metadata": {
            "tags": null
          },
          "name": "stdout",
          "output_type": "stream",
          "text": [
            "--------------------------------------------------------------------------------\n",
            "Epoch: 005/5 | Time: 99.8535s | Train loss: 0.1509 | Dev loss: 0.3475\n",
            "Train Pearson Coef: 0.9264 | Dev Pearson Coef: 0.8278\n",
            "Train Spearman Coef: 0.8967 | Dev Spearman Coef: 0.7776\n",
            "--------------------------------------------------------------------------------\n",
            "Epoch: 001/5 | Time: 137.7209s | Train loss: 1.4255 | Dev loss: 0.4526\n",
            "Train Pearson Coef: 0.3687 | Dev Pearson Coef: 0.8083\n",
            "Train Spearman Coef: 0.4075 | Dev Spearman Coef: 0.7755\n",
            "--------------------------------------------------------------------------------\n",
            "Epoch: 002/5 | Time: 137.7858s | Train loss: 0.3083 | Dev loss: 0.3082\n",
            "Train Pearson Coef: 0.8420 | Dev Pearson Coef: 0.8437\n",
            "Train Spearman Coef: 0.7736 | Dev Spearman Coef: 0.7971\n",
            "--------------------------------------------------------------------------------\n",
            "Epoch: 003/5 | Time: 137.7386s | Train loss: 0.1997 | Dev loss: 0.4101\n",
            "Train Pearson Coef: 0.9008 | Dev Pearson Coef: 0.8383\n",
            "Train Spearman Coef: 0.8495 | Dev Spearman Coef: 0.7785\n",
            "--------------------------------------------------------------------------------\n",
            "Epoch: 004/5 | Time: 138.0432s | Train loss: 0.1766 | Dev loss: 0.3781\n",
            "Train Pearson Coef: 0.9129 | Dev Pearson Coef: 0.8393\n",
            "Train Spearman Coef: 0.8741 | Dev Spearman Coef: 0.7993\n",
            "--------------------------------------------------------------------------------\n",
            "Epoch: 005/5 | Time: 137.7551s | Train loss: 0.1247 | Dev loss: 0.2799\n",
            "Train Pearson Coef: 0.9392 | Dev Pearson Coef: 0.8521\n",
            "Train Spearman Coef: 0.9175 | Dev Spearman Coef: 0.8016\n"
          ]
        },
        {
          "metadata": {
            "tags": null
          },
          "name": "stderr",
          "output_type": "stream",
          "text": [
            "[I 2023-11-17 05:56:14,200] Trial 11 finished with value: 0.2799097103998065 and parameters: {'num_layer': 3, 'dropout_output': 0.270412931088546, 'dropout_lstm': 0.2480997208019064, 'freeze': False, 'optimizer': 'Adam', 'learning_rate': 5.25275351860605e-05}. Best is trial 3 with value: 0.27301567047834396.\n"
          ]
        },
        {
          "metadata": {
            "tags": null
          },
          "name": "stdout",
          "output_type": "stream",
          "text": [
            "--------------------------------------------------------------------------------\n",
            "Epoch: 001/5 | Time: 137.5823s | Train loss: 2.0952 | Dev loss: 0.3689\n",
            "Train Pearson Coef: 0.2926 | Dev Pearson Coef: 0.8187\n",
            "Train Spearman Coef: 0.3466 | Dev Spearman Coef: 0.7724\n",
            "--------------------------------------------------------------------------------\n",
            "Epoch: 002/5 | Time: 137.4887s | Train loss: 0.3271 | Dev loss: 0.4038\n",
            "Train Pearson Coef: 0.8318 | Dev Pearson Coef: 0.8491\n",
            "Train Spearman Coef: 0.7430 | Dev Spearman Coef: 0.8021\n",
            "--------------------------------------------------------------------------------\n",
            "Epoch: 003/5 | Time: 137.4972s | Train loss: 0.2016 | Dev loss: 0.6466\n",
            "Train Pearson Coef: 0.8999 | Dev Pearson Coef: 0.8366\n",
            "Train Spearman Coef: 0.8437 | Dev Spearman Coef: 0.7529\n",
            "--------------------------------------------------------------------------------\n",
            "Epoch: 004/5 | Time: 137.2299s | Train loss: 0.1821 | Dev loss: 0.2758\n",
            "Train Pearson Coef: 0.9112 | Dev Pearson Coef: 0.8600\n",
            "Train Spearman Coef: 0.8698 | Dev Spearman Coef: 0.8031\n"
          ]
        },
        {
          "metadata": {
            "tags": null
          },
          "name": "stderr",
          "output_type": "stream",
          "text": [
            "[I 2023-11-17 06:07:48,706] Trial 12 finished with value: 0.2757650874555111 and parameters: {'num_layer': 3, 'dropout_output': 0.3389912628566967, 'dropout_lstm': 0.47755229632532487, 'freeze': False, 'optimizer': 'Adam', 'learning_rate': 2.5701177394765944e-05}. Best is trial 3 with value: 0.27301567047834396.\n"
          ]
        },
        {
          "metadata": {
            "tags": null
          },
          "name": "stdout",
          "output_type": "stream",
          "text": [
            "--------------------------------------------------------------------------------\n",
            "Epoch: 005/5 | Time: 137.5644s | Train loss: 0.1154 | Dev loss: 0.3266\n",
            "Train Pearson Coef: 0.9443 | Dev Pearson Coef: 0.8505\n",
            "Train Spearman Coef: 0.9191 | Dev Spearman Coef: 0.8086\n",
            "--------------------------------------------------------------------------------\n",
            "Epoch: 001/5 | Time: 137.2917s | Train loss: 2.1463 | Dev loss: 0.4028\n",
            "Train Pearson Coef: 0.2845 | Dev Pearson Coef: 0.8177\n",
            "Train Spearman Coef: 0.3369 | Dev Spearman Coef: 0.7611\n",
            "--------------------------------------------------------------------------------\n",
            "Epoch: 002/5 | Time: 137.4383s | Train loss: 0.2932 | Dev loss: 0.3647\n",
            "Train Pearson Coef: 0.8501 | Dev Pearson Coef: 0.8599\n",
            "Train Spearman Coef: 0.7714 | Dev Spearman Coef: 0.8069\n",
            "--------------------------------------------------------------------------------\n",
            "Epoch: 003/5 | Time: 137.3600s | Train loss: 0.1832 | Dev loss: 0.3268\n",
            "Train Pearson Coef: 0.9093 | Dev Pearson Coef: 0.8616\n",
            "Train Spearman Coef: 0.8579 | Dev Spearman Coef: 0.8107\n",
            "--------------------------------------------------------------------------------\n",
            "Epoch: 004/5 | Time: 137.5714s | Train loss: 0.1380 | Dev loss: 0.5710\n",
            "Train Pearson Coef: 0.9327 | Dev Pearson Coef: 0.8618\n",
            "Train Spearman Coef: 0.8970 | Dev Spearman Coef: 0.8028\n"
          ]
        },
        {
          "metadata": {
            "tags": null
          },
          "name": "stderr",
          "output_type": "stream",
          "text": [
            "[I 2023-11-17 06:19:28,911] Trial 13 finished with value: 0.3267843909561634 and parameters: {'num_layer': 3, 'dropout_output': 0.293655884146204, 'dropout_lstm': 0.5316458283622821, 'freeze': False, 'optimizer': 'Adam', 'learning_rate': 2.5135414426012366e-05}. Best is trial 3 with value: 0.27301567047834396.\n"
          ]
        },
        {
          "metadata": {
            "tags": null
          },
          "name": "stdout",
          "output_type": "stream",
          "text": [
            "--------------------------------------------------------------------------------\n",
            "Epoch: 005/5 | Time: 137.6865s | Train loss: 0.1199 | Dev loss: 0.4141\n",
            "Train Pearson Coef: 0.9420 | Dev Pearson Coef: 0.8607\n",
            "Train Spearman Coef: 0.9190 | Dev Spearman Coef: 0.8090\n"
          ]
        },
        {
          "metadata": {
            "tags": null
          },
          "name": "stderr",
          "output_type": "stream",
          "text": [
            "/usr/local/lib/python3.10/dist-packages/torch/nn/modules/rnn.py:82: UserWarning: dropout option adds dropout after all but last recurrent layer, so non-zero dropout expects num_layers greater than 1, but got dropout=0.6737725688481486 and num_layers=1\n",
            "  warnings.warn(\"dropout option adds dropout after all but last \"\n"
          ]
        },
        {
          "output_type": "stream",
          "name": "stdout",
          "text": [
            "--------------------------------------------------------------------------------\n",
            "Epoch: 001/5 | Time: 100.0243s | Train loss: 1.4989 | Dev loss: 0.4139\n",
            "Train Pearson Coef: 0.3774 | Dev Pearson Coef: 0.8461\n",
            "Train Spearman Coef: 0.4174 | Dev Spearman Coef: 0.7989\n",
            "--------------------------------------------------------------------------------\n",
            "Epoch: 002/5 | Time: 100.0643s | Train loss: 0.2629 | Dev loss: 0.2690\n",
            "Train Pearson Coef: 0.8668 | Dev Pearson Coef: 0.8608\n",
            "Train Spearman Coef: 0.7949 | Dev Spearman Coef: 0.8120\n",
            "--------------------------------------------------------------------------------\n",
            "Epoch: 003/5 | Time: 100.1080s | Train loss: 0.1661 | Dev loss: 0.3094\n",
            "Train Pearson Coef: 0.9180 | Dev Pearson Coef: 0.8608\n",
            "Train Spearman Coef: 0.8741 | Dev Spearman Coef: 0.8071\n",
            "--------------------------------------------------------------------------------\n",
            "Epoch: 004/5 | Time: 100.0970s | Train loss: 0.1168 | Dev loss: 0.2502\n",
            "Train Pearson Coef: 0.9433 | Dev Pearson Coef: 0.8714\n",
            "Train Spearman Coef: 0.9131 | Dev Spearman Coef: 0.8187\n"
          ]
        },
        {
          "output_type": "stream",
          "name": "stderr",
          "text": [
            "[I 2023-11-17 06:27:56,959] Trial 14 finished with value: 0.25021771527826786 and parameters: {'num_layer': 1, 'dropout_output': 0.3245200551166244, 'dropout_lstm': 0.6737725688481486, 'freeze': False, 'optimizer': 'Adam', 'learning_rate': 2.4959606327728666e-05}. Best is trial 14 with value: 0.25021771527826786.\n"
          ]
        },
        {
          "output_type": "stream",
          "name": "stdout",
          "text": [
            "--------------------------------------------------------------------------------\n",
            "Epoch: 005/5 | Time: 100.1456s | Train loss: 0.0862 | Dev loss: 0.3371\n",
            "Train Pearson Coef: 0.9586 | Dev Pearson Coef: 0.8694\n",
            "Train Spearman Coef: 0.9394 | Dev Spearman Coef: 0.8166\n"
          ]
        }
      ]
    },
    {
      "cell_type": "code",
      "source": [
        "df_optuna = study.trials_dataframe(attrs=(\"number\", \"value\", \"params\", \"state\")).dropna(subset=['value']) #eliminar valores NaN\n",
        "# Leer el archivo metrics.CSV y crear un DataFrame\n",
        "path_metrics = path_base + 'metrics_' + study_name + \".csv\"\n",
        "df_metrics = pd.read_csv(path_metrics).dropna(subset=['train_loss'])\n",
        "print(len(df_optuna))\n",
        "print(len(df_metrics ))"
      ],
      "metadata": {
        "id": "QgLFZ3WuZnpZ"
      },
      "execution_count": null,
      "outputs": []
    },
    {
      "cell_type": "code",
      "source": [
        "#df_metrics = df_metrics[['train_loss', 'valid_loss', 'pearson_train', 'pearson_val', 'spearman_train', 'spearman_val']]"
      ],
      "metadata": {
        "id": "EUzeE8-9R-Jm"
      },
      "execution_count": null,
      "outputs": []
    },
    {
      "cell_type": "code",
      "source": [
        "#df_metrics = df_metrics.rename(columns={'train_loss': 'train_loss', 'valid_loss': 'val_loss', 'pearson_train': 'Pearson_train','pearson_val': 'Pearson_val', 'spearman_train': 'Spearman_train', 'spearman_val': 'Spearman_val'})"
      ],
      "metadata": {
        "id": "4zknzTnaL17p"
      },
      "execution_count": null,
      "outputs": []
    },
    {
      "cell_type": "code",
      "source": [
        "df_metrics"
      ],
      "metadata": {
        "id": "beciGKSGSu-U"
      },
      "execution_count": null,
      "outputs": []
    },
    {
      "cell_type": "code",
      "source": [
        "df_old = pd.DataFrame()"
      ],
      "metadata": {
        "id": "9K7DZrvnZt70"
      },
      "execution_count": null,
      "outputs": []
    },
    {
      "cell_type": "code",
      "source": [
        "df_old = pd.read_csv(path_base + study_name + \"_COMPLETE_SORT.csv\")\n",
        "print(\"Old trials: \", len(df_old))"
      ],
      "metadata": {
        "id": "x9nvclWeZ1gc"
      },
      "execution_count": null,
      "outputs": []
    },
    {
      "cell_type": "code",
      "source": [
        "# Seleccionar los valores de df_optuna que no están ya en df_old\n",
        "if len(df_optuna)-len(df_metrics) == len(df_old):\n",
        "    df_optuna_filter = df_optuna.tail(len(df_metrics)).reset_index(drop=True)\n",
        "else:\n",
        "    # Seleccionar los valores de df_optuna que no están ya en df_old\n",
        "    mask = ~df_optuna['value'].isin(df_old['value'])\n",
        "    df_optuna_filter = df_optuna[mask].reset_index(drop=True)\n",
        "    print(len(df_optuna_filter))"
      ],
      "metadata": {
        "id": "d8OF3gFAZ3Nk"
      },
      "execution_count": null,
      "outputs": []
    },
    {
      "cell_type": "code",
      "source": [
        "def concat(df_optuna_filter, df_metrics, df_old):\n",
        "  # Unir dataframe de metrics con dataframe de optuna de forma horizontal y manejar los valores inexistentes\n",
        "  df_join = pd.concat([df_optuna_filter, df_metrics], axis=1, sort=False)\n",
        "  # Unir dataframe de metrics con dataframe de optuna de forma vertical y manejar los valores inexistentes\n",
        "  df_complete_updated = pd.concat([df_old, df_join], axis=0, sort=False).drop_duplicates()\n",
        "  print(\"All trials: \", len(df_complete_updated))\n",
        "  assert len(df_join) + len(df_old) == len(df_complete_updated)\n",
        "  return df_complete_updated"
      ],
      "metadata": {
        "id": "wS3H4F8GZ5iB"
      },
      "execution_count": null,
      "outputs": []
    },
    {
      "cell_type": "code",
      "source": [
        "if len(df_optuna_filter) == len(df_metrics):\n",
        "  df_complete_updated = concat(df_optuna_filter, df_metrics, df_old).dropna(subset=['train_loss', 'value'])\n",
        "\n",
        "if len(df_optuna_filter) > len(df_metrics):\n",
        "  num_rows_to_add = len(df_optuna_filter) - len(df_metrics)\n",
        "  new_rows = [[np.nan] * len(df_metrics.columns) for i in range(num_rows_to_add)]\n",
        "  new_df = pd.DataFrame(new_rows, columns=df_metrics.columns)\n",
        "  df_metrics = pd.concat([new_df, df_metrics], ignore_index=True)\n",
        "  df_complete_updated = concat(df_optuna_filter, df_metrics, df_old).dropna(subset=['train_loss','value'])"
      ],
      "metadata": {
        "id": "7dAZ3rhaZ8O8"
      },
      "execution_count": null,
      "outputs": []
    },
    {
      "cell_type": "code",
      "source": [
        "if len(df_optuna) == len(df_metrics):\n",
        "  df_complete_updated = pd.concat([df_optuna, df_metrics], axis=1, sort=False)"
      ],
      "metadata": {
        "id": "N8MpOp4e8iY9"
      },
      "execution_count": null,
      "outputs": []
    },
    {
      "cell_type": "code",
      "source": [
        "df_complete_updated"
      ],
      "metadata": {
        "id": "1sOhGFHTLPf2"
      },
      "execution_count": null,
      "outputs": []
    },
    {
      "cell_type": "code",
      "source": [
        "# Ordenar el DataFrame unido por valor\n",
        "df = df_complete_updated.sort_values(by='value', ascending=True)\n",
        "# Obtener la prueba con el mejor valor\n",
        "best_trial = df.iloc[0]\n",
        "print(\"Best trial: \")\n",
        "print(best_trial)"
      ],
      "metadata": {
        "id": "MxQ5fxnEaAGo",
        "colab": {
          "base_uri": "https://localhost:8080/"
        },
        "outputId": "43e14f53-17b0-42cc-fd50-82ca8bdf546d"
      },
      "execution_count": null,
      "outputs": [
        {
          "output_type": "stream",
          "name": "stdout",
          "text": [
            "Best trial: \n",
            "number                                                                  14\n",
            "value                                                             0.250218\n",
            "params_dropout_lstm                                               0.673773\n",
            "params_dropout_output                                              0.32452\n",
            "params_freeze                                                        False\n",
            "params_learning_rate                                              0.000025\n",
            "params_num_layer                                                         1\n",
            "params_optimizer                                                      Adam\n",
            "state                                                             COMPLETE\n",
            "train_loss               [1.4989120154072055, 0.2628681266800963, 0.166...\n",
            "valid_loss               [0.4139465820044279, 0.26903006434440613, 0.30...\n",
            "spearman_train           [0.41744902318206883, 0.7948516397133611, 0.87...\n",
            "spearman_val             [0.7989038598196733, 0.8120247280141295, 0.807...\n",
            "pearson_train            [0.3773682315278816, 0.8667738814817852, 0.917...\n",
            "pearson_val              [0.8460861155571369, 0.8607583891458277, 0.860...\n",
            "Name: 14, dtype: object\n"
          ]
        }
      ]
    },
    {
      "cell_type": "code",
      "source": [
        "#Guardar CSV completo y ordenado\n",
        "# ruta de acceso a la carpeta de Google Drive montada\n",
        "#os.remove(path_base + study_name + \"_COMPLETE_SORT.csv\")\n",
        "path_ = path_base + study_name + \"_COMPLETE_SORT.csv\"\n",
        "# guardar el archivo CSV en Google Drive\n",
        "df.to_csv(path_, index=False)\n",
        "files.download(path_)\n",
        "#os.remove(path_metrics)"
      ],
      "metadata": {
        "id": "IKMYJGgMaCCY",
        "colab": {
          "base_uri": "https://localhost:8080/",
          "height": 17
        },
        "outputId": "c58f7836-3491-4853-e3e4-61e985335292"
      },
      "execution_count": null,
      "outputs": [
        {
          "output_type": "display_data",
          "data": {
            "text/plain": [
              "<IPython.core.display.Javascript object>"
            ],
            "application/javascript": [
              "\n",
              "    async function download(id, filename, size) {\n",
              "      if (!google.colab.kernel.accessAllowed) {\n",
              "        return;\n",
              "      }\n",
              "      const div = document.createElement('div');\n",
              "      const label = document.createElement('label');\n",
              "      label.textContent = `Downloading \"${filename}\": `;\n",
              "      div.appendChild(label);\n",
              "      const progress = document.createElement('progress');\n",
              "      progress.max = size;\n",
              "      div.appendChild(progress);\n",
              "      document.body.appendChild(div);\n",
              "\n",
              "      const buffers = [];\n",
              "      let downloaded = 0;\n",
              "\n",
              "      const channel = await google.colab.kernel.comms.open(id);\n",
              "      // Send a message to notify the kernel that we're ready.\n",
              "      channel.send({})\n",
              "\n",
              "      for await (const message of channel.messages) {\n",
              "        // Send a message to notify the kernel that we're ready.\n",
              "        channel.send({})\n",
              "        if (message.buffers) {\n",
              "          for (const buffer of message.buffers) {\n",
              "            buffers.push(buffer);\n",
              "            downloaded += buffer.byteLength;\n",
              "            progress.value = downloaded;\n",
              "          }\n",
              "        }\n",
              "      }\n",
              "      const blob = new Blob(buffers, {type: 'application/binary'});\n",
              "      const a = document.createElement('a');\n",
              "      a.href = window.URL.createObjectURL(blob);\n",
              "      a.download = filename;\n",
              "      div.appendChild(a);\n",
              "      a.click();\n",
              "      div.remove();\n",
              "    }\n",
              "  "
            ]
          },
          "metadata": {}
        },
        {
          "output_type": "display_data",
          "data": {
            "text/plain": [
              "<IPython.core.display.Javascript object>"
            ],
            "application/javascript": [
              "download(\"download_6658a68e-ac82-48b5-a586-c5f459d0fa27\", \"study-bert-bilstm-output-base-sick_COMPLETE_SORT.csv\", 11154)"
            ]
          },
          "metadata": {}
        }
      ]
    }
  ],
  "metadata": {
    "colab": {
      "provenance": [],
      "gpuType": "T4"
    },
    "gpuClass": "standard",
    "kernelspec": {
      "display_name": "Python 3",
      "name": "python3"
    },
    "language_info": {
      "codemirror_mode": {
        "name": "ipython",
        "version": 3
      },
      "file_extension": ".py",
      "mimetype": "text/x-python",
      "name": "python",
      "nbconvert_exporter": "python",
      "pygments_lexer": "ipython3",
      "version": "3.9.4"
    },
    "accelerator": "GPU",
    "widgets": {
      "application/vnd.jupyter.widget-state+json": {
        "2f6e1294acd44f86b72c709a357671ad": {
          "model_module": "@jupyter-widgets/controls",
          "model_name": "HBoxModel",
          "model_module_version": "1.5.0",
          "state": {
            "_dom_classes": [],
            "_model_module": "@jupyter-widgets/controls",
            "_model_module_version": "1.5.0",
            "_model_name": "HBoxModel",
            "_view_count": null,
            "_view_module": "@jupyter-widgets/controls",
            "_view_module_version": "1.5.0",
            "_view_name": "HBoxView",
            "box_style": "",
            "children": [
              "IPY_MODEL_768713e0a65b4cd98ea3b83b789679c3",
              "IPY_MODEL_824a031ea49e4c12badc3674b95b41fb",
              "IPY_MODEL_85fd19def15b47ba81fc963dada0edb8"
            ],
            "layout": "IPY_MODEL_137d3a84f4d54950b7edcf807308f87e"
          }
        },
        "768713e0a65b4cd98ea3b83b789679c3": {
          "model_module": "@jupyter-widgets/controls",
          "model_name": "HTMLModel",
          "model_module_version": "1.5.0",
          "state": {
            "_dom_classes": [],
            "_model_module": "@jupyter-widgets/controls",
            "_model_module_version": "1.5.0",
            "_model_name": "HTMLModel",
            "_view_count": null,
            "_view_module": "@jupyter-widgets/controls",
            "_view_module_version": "1.5.0",
            "_view_name": "HTMLView",
            "description": "",
            "description_tooltip": null,
            "layout": "IPY_MODEL_7d848c9e1e954fcd85df24545ad8afa2",
            "placeholder": "​",
            "style": "IPY_MODEL_e9489429753c461b9840ab1e6368c0cc",
            "value": "(…)cased/resolve/main/tokenizer_config.json: 100%"
          }
        },
        "824a031ea49e4c12badc3674b95b41fb": {
          "model_module": "@jupyter-widgets/controls",
          "model_name": "FloatProgressModel",
          "model_module_version": "1.5.0",
          "state": {
            "_dom_classes": [],
            "_model_module": "@jupyter-widgets/controls",
            "_model_module_version": "1.5.0",
            "_model_name": "FloatProgressModel",
            "_view_count": null,
            "_view_module": "@jupyter-widgets/controls",
            "_view_module_version": "1.5.0",
            "_view_name": "ProgressView",
            "bar_style": "success",
            "description": "",
            "description_tooltip": null,
            "layout": "IPY_MODEL_12b91d73b10643f8b3da6211b37cdafd",
            "max": 28,
            "min": 0,
            "orientation": "horizontal",
            "style": "IPY_MODEL_7501299b35fd47719b1594d7b9316f73",
            "value": 28
          }
        },
        "85fd19def15b47ba81fc963dada0edb8": {
          "model_module": "@jupyter-widgets/controls",
          "model_name": "HTMLModel",
          "model_module_version": "1.5.0",
          "state": {
            "_dom_classes": [],
            "_model_module": "@jupyter-widgets/controls",
            "_model_module_version": "1.5.0",
            "_model_name": "HTMLModel",
            "_view_count": null,
            "_view_module": "@jupyter-widgets/controls",
            "_view_module_version": "1.5.0",
            "_view_name": "HTMLView",
            "description": "",
            "description_tooltip": null,
            "layout": "IPY_MODEL_40f47ff73f8546d9a445d8e67cb8b364",
            "placeholder": "​",
            "style": "IPY_MODEL_4507db709c7249d28a77fc6562bb7874",
            "value": " 28.0/28.0 [00:00&lt;00:00, 761B/s]"
          }
        },
        "137d3a84f4d54950b7edcf807308f87e": {
          "model_module": "@jupyter-widgets/base",
          "model_name": "LayoutModel",
          "model_module_version": "1.2.0",
          "state": {
            "_model_module": "@jupyter-widgets/base",
            "_model_module_version": "1.2.0",
            "_model_name": "LayoutModel",
            "_view_count": null,
            "_view_module": "@jupyter-widgets/base",
            "_view_module_version": "1.2.0",
            "_view_name": "LayoutView",
            "align_content": null,
            "align_items": null,
            "align_self": null,
            "border": null,
            "bottom": null,
            "display": null,
            "flex": null,
            "flex_flow": null,
            "grid_area": null,
            "grid_auto_columns": null,
            "grid_auto_flow": null,
            "grid_auto_rows": null,
            "grid_column": null,
            "grid_gap": null,
            "grid_row": null,
            "grid_template_areas": null,
            "grid_template_columns": null,
            "grid_template_rows": null,
            "height": null,
            "justify_content": null,
            "justify_items": null,
            "left": null,
            "margin": null,
            "max_height": null,
            "max_width": null,
            "min_height": null,
            "min_width": null,
            "object_fit": null,
            "object_position": null,
            "order": null,
            "overflow": null,
            "overflow_x": null,
            "overflow_y": null,
            "padding": null,
            "right": null,
            "top": null,
            "visibility": null,
            "width": null
          }
        },
        "7d848c9e1e954fcd85df24545ad8afa2": {
          "model_module": "@jupyter-widgets/base",
          "model_name": "LayoutModel",
          "model_module_version": "1.2.0",
          "state": {
            "_model_module": "@jupyter-widgets/base",
            "_model_module_version": "1.2.0",
            "_model_name": "LayoutModel",
            "_view_count": null,
            "_view_module": "@jupyter-widgets/base",
            "_view_module_version": "1.2.0",
            "_view_name": "LayoutView",
            "align_content": null,
            "align_items": null,
            "align_self": null,
            "border": null,
            "bottom": null,
            "display": null,
            "flex": null,
            "flex_flow": null,
            "grid_area": null,
            "grid_auto_columns": null,
            "grid_auto_flow": null,
            "grid_auto_rows": null,
            "grid_column": null,
            "grid_gap": null,
            "grid_row": null,
            "grid_template_areas": null,
            "grid_template_columns": null,
            "grid_template_rows": null,
            "height": null,
            "justify_content": null,
            "justify_items": null,
            "left": null,
            "margin": null,
            "max_height": null,
            "max_width": null,
            "min_height": null,
            "min_width": null,
            "object_fit": null,
            "object_position": null,
            "order": null,
            "overflow": null,
            "overflow_x": null,
            "overflow_y": null,
            "padding": null,
            "right": null,
            "top": null,
            "visibility": null,
            "width": null
          }
        },
        "e9489429753c461b9840ab1e6368c0cc": {
          "model_module": "@jupyter-widgets/controls",
          "model_name": "DescriptionStyleModel",
          "model_module_version": "1.5.0",
          "state": {
            "_model_module": "@jupyter-widgets/controls",
            "_model_module_version": "1.5.0",
            "_model_name": "DescriptionStyleModel",
            "_view_count": null,
            "_view_module": "@jupyter-widgets/base",
            "_view_module_version": "1.2.0",
            "_view_name": "StyleView",
            "description_width": ""
          }
        },
        "12b91d73b10643f8b3da6211b37cdafd": {
          "model_module": "@jupyter-widgets/base",
          "model_name": "LayoutModel",
          "model_module_version": "1.2.0",
          "state": {
            "_model_module": "@jupyter-widgets/base",
            "_model_module_version": "1.2.0",
            "_model_name": "LayoutModel",
            "_view_count": null,
            "_view_module": "@jupyter-widgets/base",
            "_view_module_version": "1.2.0",
            "_view_name": "LayoutView",
            "align_content": null,
            "align_items": null,
            "align_self": null,
            "border": null,
            "bottom": null,
            "display": null,
            "flex": null,
            "flex_flow": null,
            "grid_area": null,
            "grid_auto_columns": null,
            "grid_auto_flow": null,
            "grid_auto_rows": null,
            "grid_column": null,
            "grid_gap": null,
            "grid_row": null,
            "grid_template_areas": null,
            "grid_template_columns": null,
            "grid_template_rows": null,
            "height": null,
            "justify_content": null,
            "justify_items": null,
            "left": null,
            "margin": null,
            "max_height": null,
            "max_width": null,
            "min_height": null,
            "min_width": null,
            "object_fit": null,
            "object_position": null,
            "order": null,
            "overflow": null,
            "overflow_x": null,
            "overflow_y": null,
            "padding": null,
            "right": null,
            "top": null,
            "visibility": null,
            "width": null
          }
        },
        "7501299b35fd47719b1594d7b9316f73": {
          "model_module": "@jupyter-widgets/controls",
          "model_name": "ProgressStyleModel",
          "model_module_version": "1.5.0",
          "state": {
            "_model_module": "@jupyter-widgets/controls",
            "_model_module_version": "1.5.0",
            "_model_name": "ProgressStyleModel",
            "_view_count": null,
            "_view_module": "@jupyter-widgets/base",
            "_view_module_version": "1.2.0",
            "_view_name": "StyleView",
            "bar_color": null,
            "description_width": ""
          }
        },
        "40f47ff73f8546d9a445d8e67cb8b364": {
          "model_module": "@jupyter-widgets/base",
          "model_name": "LayoutModel",
          "model_module_version": "1.2.0",
          "state": {
            "_model_module": "@jupyter-widgets/base",
            "_model_module_version": "1.2.0",
            "_model_name": "LayoutModel",
            "_view_count": null,
            "_view_module": "@jupyter-widgets/base",
            "_view_module_version": "1.2.0",
            "_view_name": "LayoutView",
            "align_content": null,
            "align_items": null,
            "align_self": null,
            "border": null,
            "bottom": null,
            "display": null,
            "flex": null,
            "flex_flow": null,
            "grid_area": null,
            "grid_auto_columns": null,
            "grid_auto_flow": null,
            "grid_auto_rows": null,
            "grid_column": null,
            "grid_gap": null,
            "grid_row": null,
            "grid_template_areas": null,
            "grid_template_columns": null,
            "grid_template_rows": null,
            "height": null,
            "justify_content": null,
            "justify_items": null,
            "left": null,
            "margin": null,
            "max_height": null,
            "max_width": null,
            "min_height": null,
            "min_width": null,
            "object_fit": null,
            "object_position": null,
            "order": null,
            "overflow": null,
            "overflow_x": null,
            "overflow_y": null,
            "padding": null,
            "right": null,
            "top": null,
            "visibility": null,
            "width": null
          }
        },
        "4507db709c7249d28a77fc6562bb7874": {
          "model_module": "@jupyter-widgets/controls",
          "model_name": "DescriptionStyleModel",
          "model_module_version": "1.5.0",
          "state": {
            "_model_module": "@jupyter-widgets/controls",
            "_model_module_version": "1.5.0",
            "_model_name": "DescriptionStyleModel",
            "_view_count": null,
            "_view_module": "@jupyter-widgets/base",
            "_view_module_version": "1.2.0",
            "_view_name": "StyleView",
            "description_width": ""
          }
        },
        "8361bac0312040889209f93193c10bdd": {
          "model_module": "@jupyter-widgets/controls",
          "model_name": "HBoxModel",
          "model_module_version": "1.5.0",
          "state": {
            "_dom_classes": [],
            "_model_module": "@jupyter-widgets/controls",
            "_model_module_version": "1.5.0",
            "_model_name": "HBoxModel",
            "_view_count": null,
            "_view_module": "@jupyter-widgets/controls",
            "_view_module_version": "1.5.0",
            "_view_name": "HBoxView",
            "box_style": "",
            "children": [
              "IPY_MODEL_3093d53a7eba4c26871c1a4a2912aa66",
              "IPY_MODEL_f9cd94541fb1479d8571a02443332fa5",
              "IPY_MODEL_4c1ac874eba542faa3abe438b8aaa3d7"
            ],
            "layout": "IPY_MODEL_0fdf642868ad48f8b6a9bc74b91ffb66"
          }
        },
        "3093d53a7eba4c26871c1a4a2912aa66": {
          "model_module": "@jupyter-widgets/controls",
          "model_name": "HTMLModel",
          "model_module_version": "1.5.0",
          "state": {
            "_dom_classes": [],
            "_model_module": "@jupyter-widgets/controls",
            "_model_module_version": "1.5.0",
            "_model_name": "HTMLModel",
            "_view_count": null,
            "_view_module": "@jupyter-widgets/controls",
            "_view_module_version": "1.5.0",
            "_view_name": "HTMLView",
            "description": "",
            "description_tooltip": null,
            "layout": "IPY_MODEL_f4fa097cc9674870ba873918764fb8c7",
            "placeholder": "​",
            "style": "IPY_MODEL_1a315acfd5584b91b79b30e08dbfbded",
            "value": "(…)bert-base-uncased/resolve/main/vocab.txt: 100%"
          }
        },
        "f9cd94541fb1479d8571a02443332fa5": {
          "model_module": "@jupyter-widgets/controls",
          "model_name": "FloatProgressModel",
          "model_module_version": "1.5.0",
          "state": {
            "_dom_classes": [],
            "_model_module": "@jupyter-widgets/controls",
            "_model_module_version": "1.5.0",
            "_model_name": "FloatProgressModel",
            "_view_count": null,
            "_view_module": "@jupyter-widgets/controls",
            "_view_module_version": "1.5.0",
            "_view_name": "ProgressView",
            "bar_style": "success",
            "description": "",
            "description_tooltip": null,
            "layout": "IPY_MODEL_e23a64e5b9734b338f68133c07c1b16d",
            "max": 231508,
            "min": 0,
            "orientation": "horizontal",
            "style": "IPY_MODEL_a26513e3b9854c8985c081a94d732ead",
            "value": 231508
          }
        },
        "4c1ac874eba542faa3abe438b8aaa3d7": {
          "model_module": "@jupyter-widgets/controls",
          "model_name": "HTMLModel",
          "model_module_version": "1.5.0",
          "state": {
            "_dom_classes": [],
            "_model_module": "@jupyter-widgets/controls",
            "_model_module_version": "1.5.0",
            "_model_name": "HTMLModel",
            "_view_count": null,
            "_view_module": "@jupyter-widgets/controls",
            "_view_module_version": "1.5.0",
            "_view_name": "HTMLView",
            "description": "",
            "description_tooltip": null,
            "layout": "IPY_MODEL_ed633994e17a4ab5b52893a15cf64385",
            "placeholder": "​",
            "style": "IPY_MODEL_4f3022ad722546068d560c304bc14258",
            "value": " 232k/232k [00:00&lt;00:00, 3.38MB/s]"
          }
        },
        "0fdf642868ad48f8b6a9bc74b91ffb66": {
          "model_module": "@jupyter-widgets/base",
          "model_name": "LayoutModel",
          "model_module_version": "1.2.0",
          "state": {
            "_model_module": "@jupyter-widgets/base",
            "_model_module_version": "1.2.0",
            "_model_name": "LayoutModel",
            "_view_count": null,
            "_view_module": "@jupyter-widgets/base",
            "_view_module_version": "1.2.0",
            "_view_name": "LayoutView",
            "align_content": null,
            "align_items": null,
            "align_self": null,
            "border": null,
            "bottom": null,
            "display": null,
            "flex": null,
            "flex_flow": null,
            "grid_area": null,
            "grid_auto_columns": null,
            "grid_auto_flow": null,
            "grid_auto_rows": null,
            "grid_column": null,
            "grid_gap": null,
            "grid_row": null,
            "grid_template_areas": null,
            "grid_template_columns": null,
            "grid_template_rows": null,
            "height": null,
            "justify_content": null,
            "justify_items": null,
            "left": null,
            "margin": null,
            "max_height": null,
            "max_width": null,
            "min_height": null,
            "min_width": null,
            "object_fit": null,
            "object_position": null,
            "order": null,
            "overflow": null,
            "overflow_x": null,
            "overflow_y": null,
            "padding": null,
            "right": null,
            "top": null,
            "visibility": null,
            "width": null
          }
        },
        "f4fa097cc9674870ba873918764fb8c7": {
          "model_module": "@jupyter-widgets/base",
          "model_name": "LayoutModel",
          "model_module_version": "1.2.0",
          "state": {
            "_model_module": "@jupyter-widgets/base",
            "_model_module_version": "1.2.0",
            "_model_name": "LayoutModel",
            "_view_count": null,
            "_view_module": "@jupyter-widgets/base",
            "_view_module_version": "1.2.0",
            "_view_name": "LayoutView",
            "align_content": null,
            "align_items": null,
            "align_self": null,
            "border": null,
            "bottom": null,
            "display": null,
            "flex": null,
            "flex_flow": null,
            "grid_area": null,
            "grid_auto_columns": null,
            "grid_auto_flow": null,
            "grid_auto_rows": null,
            "grid_column": null,
            "grid_gap": null,
            "grid_row": null,
            "grid_template_areas": null,
            "grid_template_columns": null,
            "grid_template_rows": null,
            "height": null,
            "justify_content": null,
            "justify_items": null,
            "left": null,
            "margin": null,
            "max_height": null,
            "max_width": null,
            "min_height": null,
            "min_width": null,
            "object_fit": null,
            "object_position": null,
            "order": null,
            "overflow": null,
            "overflow_x": null,
            "overflow_y": null,
            "padding": null,
            "right": null,
            "top": null,
            "visibility": null,
            "width": null
          }
        },
        "1a315acfd5584b91b79b30e08dbfbded": {
          "model_module": "@jupyter-widgets/controls",
          "model_name": "DescriptionStyleModel",
          "model_module_version": "1.5.0",
          "state": {
            "_model_module": "@jupyter-widgets/controls",
            "_model_module_version": "1.5.0",
            "_model_name": "DescriptionStyleModel",
            "_view_count": null,
            "_view_module": "@jupyter-widgets/base",
            "_view_module_version": "1.2.0",
            "_view_name": "StyleView",
            "description_width": ""
          }
        },
        "e23a64e5b9734b338f68133c07c1b16d": {
          "model_module": "@jupyter-widgets/base",
          "model_name": "LayoutModel",
          "model_module_version": "1.2.0",
          "state": {
            "_model_module": "@jupyter-widgets/base",
            "_model_module_version": "1.2.0",
            "_model_name": "LayoutModel",
            "_view_count": null,
            "_view_module": "@jupyter-widgets/base",
            "_view_module_version": "1.2.0",
            "_view_name": "LayoutView",
            "align_content": null,
            "align_items": null,
            "align_self": null,
            "border": null,
            "bottom": null,
            "display": null,
            "flex": null,
            "flex_flow": null,
            "grid_area": null,
            "grid_auto_columns": null,
            "grid_auto_flow": null,
            "grid_auto_rows": null,
            "grid_column": null,
            "grid_gap": null,
            "grid_row": null,
            "grid_template_areas": null,
            "grid_template_columns": null,
            "grid_template_rows": null,
            "height": null,
            "justify_content": null,
            "justify_items": null,
            "left": null,
            "margin": null,
            "max_height": null,
            "max_width": null,
            "min_height": null,
            "min_width": null,
            "object_fit": null,
            "object_position": null,
            "order": null,
            "overflow": null,
            "overflow_x": null,
            "overflow_y": null,
            "padding": null,
            "right": null,
            "top": null,
            "visibility": null,
            "width": null
          }
        },
        "a26513e3b9854c8985c081a94d732ead": {
          "model_module": "@jupyter-widgets/controls",
          "model_name": "ProgressStyleModel",
          "model_module_version": "1.5.0",
          "state": {
            "_model_module": "@jupyter-widgets/controls",
            "_model_module_version": "1.5.0",
            "_model_name": "ProgressStyleModel",
            "_view_count": null,
            "_view_module": "@jupyter-widgets/base",
            "_view_module_version": "1.2.0",
            "_view_name": "StyleView",
            "bar_color": null,
            "description_width": ""
          }
        },
        "ed633994e17a4ab5b52893a15cf64385": {
          "model_module": "@jupyter-widgets/base",
          "model_name": "LayoutModel",
          "model_module_version": "1.2.0",
          "state": {
            "_model_module": "@jupyter-widgets/base",
            "_model_module_version": "1.2.0",
            "_model_name": "LayoutModel",
            "_view_count": null,
            "_view_module": "@jupyter-widgets/base",
            "_view_module_version": "1.2.0",
            "_view_name": "LayoutView",
            "align_content": null,
            "align_items": null,
            "align_self": null,
            "border": null,
            "bottom": null,
            "display": null,
            "flex": null,
            "flex_flow": null,
            "grid_area": null,
            "grid_auto_columns": null,
            "grid_auto_flow": null,
            "grid_auto_rows": null,
            "grid_column": null,
            "grid_gap": null,
            "grid_row": null,
            "grid_template_areas": null,
            "grid_template_columns": null,
            "grid_template_rows": null,
            "height": null,
            "justify_content": null,
            "justify_items": null,
            "left": null,
            "margin": null,
            "max_height": null,
            "max_width": null,
            "min_height": null,
            "min_width": null,
            "object_fit": null,
            "object_position": null,
            "order": null,
            "overflow": null,
            "overflow_x": null,
            "overflow_y": null,
            "padding": null,
            "right": null,
            "top": null,
            "visibility": null,
            "width": null
          }
        },
        "4f3022ad722546068d560c304bc14258": {
          "model_module": "@jupyter-widgets/controls",
          "model_name": "DescriptionStyleModel",
          "model_module_version": "1.5.0",
          "state": {
            "_model_module": "@jupyter-widgets/controls",
            "_model_module_version": "1.5.0",
            "_model_name": "DescriptionStyleModel",
            "_view_count": null,
            "_view_module": "@jupyter-widgets/base",
            "_view_module_version": "1.2.0",
            "_view_name": "StyleView",
            "description_width": ""
          }
        },
        "56cc475bcba14870a4ac39f96487a28d": {
          "model_module": "@jupyter-widgets/controls",
          "model_name": "HBoxModel",
          "model_module_version": "1.5.0",
          "state": {
            "_dom_classes": [],
            "_model_module": "@jupyter-widgets/controls",
            "_model_module_version": "1.5.0",
            "_model_name": "HBoxModel",
            "_view_count": null,
            "_view_module": "@jupyter-widgets/controls",
            "_view_module_version": "1.5.0",
            "_view_name": "HBoxView",
            "box_style": "",
            "children": [
              "IPY_MODEL_3c5f81cff8f649a58d17f367d44ffde9",
              "IPY_MODEL_abcdda39f69a414da44ae9f25624f25c",
              "IPY_MODEL_c73372b91f16448095eddbe87a48d251"
            ],
            "layout": "IPY_MODEL_4b5ae52372204b70a54e5c0aa50a4548"
          }
        },
        "3c5f81cff8f649a58d17f367d44ffde9": {
          "model_module": "@jupyter-widgets/controls",
          "model_name": "HTMLModel",
          "model_module_version": "1.5.0",
          "state": {
            "_dom_classes": [],
            "_model_module": "@jupyter-widgets/controls",
            "_model_module_version": "1.5.0",
            "_model_name": "HTMLModel",
            "_view_count": null,
            "_view_module": "@jupyter-widgets/controls",
            "_view_module_version": "1.5.0",
            "_view_name": "HTMLView",
            "description": "",
            "description_tooltip": null,
            "layout": "IPY_MODEL_f9f8730bf7a947f3a779fdbd45769cdf",
            "placeholder": "​",
            "style": "IPY_MODEL_4c36f81e2fcf450aa4e1c9d707282803",
            "value": "(…)base-uncased/resolve/main/tokenizer.json: 100%"
          }
        },
        "abcdda39f69a414da44ae9f25624f25c": {
          "model_module": "@jupyter-widgets/controls",
          "model_name": "FloatProgressModel",
          "model_module_version": "1.5.0",
          "state": {
            "_dom_classes": [],
            "_model_module": "@jupyter-widgets/controls",
            "_model_module_version": "1.5.0",
            "_model_name": "FloatProgressModel",
            "_view_count": null,
            "_view_module": "@jupyter-widgets/controls",
            "_view_module_version": "1.5.0",
            "_view_name": "ProgressView",
            "bar_style": "success",
            "description": "",
            "description_tooltip": null,
            "layout": "IPY_MODEL_44067936fb384728ad43141d739b803a",
            "max": 466062,
            "min": 0,
            "orientation": "horizontal",
            "style": "IPY_MODEL_ff6a8cc8667848df981d15c1cec28c93",
            "value": 466062
          }
        },
        "c73372b91f16448095eddbe87a48d251": {
          "model_module": "@jupyter-widgets/controls",
          "model_name": "HTMLModel",
          "model_module_version": "1.5.0",
          "state": {
            "_dom_classes": [],
            "_model_module": "@jupyter-widgets/controls",
            "_model_module_version": "1.5.0",
            "_model_name": "HTMLModel",
            "_view_count": null,
            "_view_module": "@jupyter-widgets/controls",
            "_view_module_version": "1.5.0",
            "_view_name": "HTMLView",
            "description": "",
            "description_tooltip": null,
            "layout": "IPY_MODEL_ea8d07fb0e8c4acab45e9c8d3c515bab",
            "placeholder": "​",
            "style": "IPY_MODEL_9b0d0a5e4dea4d0bbce56cdd9cc906db",
            "value": " 466k/466k [00:00&lt;00:00, 8.71MB/s]"
          }
        },
        "4b5ae52372204b70a54e5c0aa50a4548": {
          "model_module": "@jupyter-widgets/base",
          "model_name": "LayoutModel",
          "model_module_version": "1.2.0",
          "state": {
            "_model_module": "@jupyter-widgets/base",
            "_model_module_version": "1.2.0",
            "_model_name": "LayoutModel",
            "_view_count": null,
            "_view_module": "@jupyter-widgets/base",
            "_view_module_version": "1.2.0",
            "_view_name": "LayoutView",
            "align_content": null,
            "align_items": null,
            "align_self": null,
            "border": null,
            "bottom": null,
            "display": null,
            "flex": null,
            "flex_flow": null,
            "grid_area": null,
            "grid_auto_columns": null,
            "grid_auto_flow": null,
            "grid_auto_rows": null,
            "grid_column": null,
            "grid_gap": null,
            "grid_row": null,
            "grid_template_areas": null,
            "grid_template_columns": null,
            "grid_template_rows": null,
            "height": null,
            "justify_content": null,
            "justify_items": null,
            "left": null,
            "margin": null,
            "max_height": null,
            "max_width": null,
            "min_height": null,
            "min_width": null,
            "object_fit": null,
            "object_position": null,
            "order": null,
            "overflow": null,
            "overflow_x": null,
            "overflow_y": null,
            "padding": null,
            "right": null,
            "top": null,
            "visibility": null,
            "width": null
          }
        },
        "f9f8730bf7a947f3a779fdbd45769cdf": {
          "model_module": "@jupyter-widgets/base",
          "model_name": "LayoutModel",
          "model_module_version": "1.2.0",
          "state": {
            "_model_module": "@jupyter-widgets/base",
            "_model_module_version": "1.2.0",
            "_model_name": "LayoutModel",
            "_view_count": null,
            "_view_module": "@jupyter-widgets/base",
            "_view_module_version": "1.2.0",
            "_view_name": "LayoutView",
            "align_content": null,
            "align_items": null,
            "align_self": null,
            "border": null,
            "bottom": null,
            "display": null,
            "flex": null,
            "flex_flow": null,
            "grid_area": null,
            "grid_auto_columns": null,
            "grid_auto_flow": null,
            "grid_auto_rows": null,
            "grid_column": null,
            "grid_gap": null,
            "grid_row": null,
            "grid_template_areas": null,
            "grid_template_columns": null,
            "grid_template_rows": null,
            "height": null,
            "justify_content": null,
            "justify_items": null,
            "left": null,
            "margin": null,
            "max_height": null,
            "max_width": null,
            "min_height": null,
            "min_width": null,
            "object_fit": null,
            "object_position": null,
            "order": null,
            "overflow": null,
            "overflow_x": null,
            "overflow_y": null,
            "padding": null,
            "right": null,
            "top": null,
            "visibility": null,
            "width": null
          }
        },
        "4c36f81e2fcf450aa4e1c9d707282803": {
          "model_module": "@jupyter-widgets/controls",
          "model_name": "DescriptionStyleModel",
          "model_module_version": "1.5.0",
          "state": {
            "_model_module": "@jupyter-widgets/controls",
            "_model_module_version": "1.5.0",
            "_model_name": "DescriptionStyleModel",
            "_view_count": null,
            "_view_module": "@jupyter-widgets/base",
            "_view_module_version": "1.2.0",
            "_view_name": "StyleView",
            "description_width": ""
          }
        },
        "44067936fb384728ad43141d739b803a": {
          "model_module": "@jupyter-widgets/base",
          "model_name": "LayoutModel",
          "model_module_version": "1.2.0",
          "state": {
            "_model_module": "@jupyter-widgets/base",
            "_model_module_version": "1.2.0",
            "_model_name": "LayoutModel",
            "_view_count": null,
            "_view_module": "@jupyter-widgets/base",
            "_view_module_version": "1.2.0",
            "_view_name": "LayoutView",
            "align_content": null,
            "align_items": null,
            "align_self": null,
            "border": null,
            "bottom": null,
            "display": null,
            "flex": null,
            "flex_flow": null,
            "grid_area": null,
            "grid_auto_columns": null,
            "grid_auto_flow": null,
            "grid_auto_rows": null,
            "grid_column": null,
            "grid_gap": null,
            "grid_row": null,
            "grid_template_areas": null,
            "grid_template_columns": null,
            "grid_template_rows": null,
            "height": null,
            "justify_content": null,
            "justify_items": null,
            "left": null,
            "margin": null,
            "max_height": null,
            "max_width": null,
            "min_height": null,
            "min_width": null,
            "object_fit": null,
            "object_position": null,
            "order": null,
            "overflow": null,
            "overflow_x": null,
            "overflow_y": null,
            "padding": null,
            "right": null,
            "top": null,
            "visibility": null,
            "width": null
          }
        },
        "ff6a8cc8667848df981d15c1cec28c93": {
          "model_module": "@jupyter-widgets/controls",
          "model_name": "ProgressStyleModel",
          "model_module_version": "1.5.0",
          "state": {
            "_model_module": "@jupyter-widgets/controls",
            "_model_module_version": "1.5.0",
            "_model_name": "ProgressStyleModel",
            "_view_count": null,
            "_view_module": "@jupyter-widgets/base",
            "_view_module_version": "1.2.0",
            "_view_name": "StyleView",
            "bar_color": null,
            "description_width": ""
          }
        },
        "ea8d07fb0e8c4acab45e9c8d3c515bab": {
          "model_module": "@jupyter-widgets/base",
          "model_name": "LayoutModel",
          "model_module_version": "1.2.0",
          "state": {
            "_model_module": "@jupyter-widgets/base",
            "_model_module_version": "1.2.0",
            "_model_name": "LayoutModel",
            "_view_count": null,
            "_view_module": "@jupyter-widgets/base",
            "_view_module_version": "1.2.0",
            "_view_name": "LayoutView",
            "align_content": null,
            "align_items": null,
            "align_self": null,
            "border": null,
            "bottom": null,
            "display": null,
            "flex": null,
            "flex_flow": null,
            "grid_area": null,
            "grid_auto_columns": null,
            "grid_auto_flow": null,
            "grid_auto_rows": null,
            "grid_column": null,
            "grid_gap": null,
            "grid_row": null,
            "grid_template_areas": null,
            "grid_template_columns": null,
            "grid_template_rows": null,
            "height": null,
            "justify_content": null,
            "justify_items": null,
            "left": null,
            "margin": null,
            "max_height": null,
            "max_width": null,
            "min_height": null,
            "min_width": null,
            "object_fit": null,
            "object_position": null,
            "order": null,
            "overflow": null,
            "overflow_x": null,
            "overflow_y": null,
            "padding": null,
            "right": null,
            "top": null,
            "visibility": null,
            "width": null
          }
        },
        "9b0d0a5e4dea4d0bbce56cdd9cc906db": {
          "model_module": "@jupyter-widgets/controls",
          "model_name": "DescriptionStyleModel",
          "model_module_version": "1.5.0",
          "state": {
            "_model_module": "@jupyter-widgets/controls",
            "_model_module_version": "1.5.0",
            "_model_name": "DescriptionStyleModel",
            "_view_count": null,
            "_view_module": "@jupyter-widgets/base",
            "_view_module_version": "1.2.0",
            "_view_name": "StyleView",
            "description_width": ""
          }
        },
        "8ea27db2dc164c858e6def90d6111664": {
          "model_module": "@jupyter-widgets/controls",
          "model_name": "HBoxModel",
          "model_module_version": "1.5.0",
          "state": {
            "_dom_classes": [],
            "_model_module": "@jupyter-widgets/controls",
            "_model_module_version": "1.5.0",
            "_model_name": "HBoxModel",
            "_view_count": null,
            "_view_module": "@jupyter-widgets/controls",
            "_view_module_version": "1.5.0",
            "_view_name": "HBoxView",
            "box_style": "",
            "children": [
              "IPY_MODEL_68c562266357419189d77dbb5b581ce4",
              "IPY_MODEL_08fb3434e36b4378a22e8b0b8d5690ef",
              "IPY_MODEL_41fbd2c80e444a8b849adcdae8b105e6"
            ],
            "layout": "IPY_MODEL_b968ee6d52b14981a7905602215f4200"
          }
        },
        "68c562266357419189d77dbb5b581ce4": {
          "model_module": "@jupyter-widgets/controls",
          "model_name": "HTMLModel",
          "model_module_version": "1.5.0",
          "state": {
            "_dom_classes": [],
            "_model_module": "@jupyter-widgets/controls",
            "_model_module_version": "1.5.0",
            "_model_name": "HTMLModel",
            "_view_count": null,
            "_view_module": "@jupyter-widgets/controls",
            "_view_module_version": "1.5.0",
            "_view_name": "HTMLView",
            "description": "",
            "description_tooltip": null,
            "layout": "IPY_MODEL_632e09c855f74936a538b9023d9ffc98",
            "placeholder": "​",
            "style": "IPY_MODEL_609cb1393393418ba99bf9ac70eda655",
            "value": "(…)rt-base-uncased/resolve/main/config.json: 100%"
          }
        },
        "08fb3434e36b4378a22e8b0b8d5690ef": {
          "model_module": "@jupyter-widgets/controls",
          "model_name": "FloatProgressModel",
          "model_module_version": "1.5.0",
          "state": {
            "_dom_classes": [],
            "_model_module": "@jupyter-widgets/controls",
            "_model_module_version": "1.5.0",
            "_model_name": "FloatProgressModel",
            "_view_count": null,
            "_view_module": "@jupyter-widgets/controls",
            "_view_module_version": "1.5.0",
            "_view_name": "ProgressView",
            "bar_style": "success",
            "description": "",
            "description_tooltip": null,
            "layout": "IPY_MODEL_970cb3e27c2548018574accab309441c",
            "max": 570,
            "min": 0,
            "orientation": "horizontal",
            "style": "IPY_MODEL_16f5f467423342afb830b956ade4cdc6",
            "value": 570
          }
        },
        "41fbd2c80e444a8b849adcdae8b105e6": {
          "model_module": "@jupyter-widgets/controls",
          "model_name": "HTMLModel",
          "model_module_version": "1.5.0",
          "state": {
            "_dom_classes": [],
            "_model_module": "@jupyter-widgets/controls",
            "_model_module_version": "1.5.0",
            "_model_name": "HTMLModel",
            "_view_count": null,
            "_view_module": "@jupyter-widgets/controls",
            "_view_module_version": "1.5.0",
            "_view_name": "HTMLView",
            "description": "",
            "description_tooltip": null,
            "layout": "IPY_MODEL_908b686199724fde9c1ed7dac8776015",
            "placeholder": "​",
            "style": "IPY_MODEL_1af41a29b3084665a1affd040914b212",
            "value": " 570/570 [00:00&lt;00:00, 21.4kB/s]"
          }
        },
        "b968ee6d52b14981a7905602215f4200": {
          "model_module": "@jupyter-widgets/base",
          "model_name": "LayoutModel",
          "model_module_version": "1.2.0",
          "state": {
            "_model_module": "@jupyter-widgets/base",
            "_model_module_version": "1.2.0",
            "_model_name": "LayoutModel",
            "_view_count": null,
            "_view_module": "@jupyter-widgets/base",
            "_view_module_version": "1.2.0",
            "_view_name": "LayoutView",
            "align_content": null,
            "align_items": null,
            "align_self": null,
            "border": null,
            "bottom": null,
            "display": null,
            "flex": null,
            "flex_flow": null,
            "grid_area": null,
            "grid_auto_columns": null,
            "grid_auto_flow": null,
            "grid_auto_rows": null,
            "grid_column": null,
            "grid_gap": null,
            "grid_row": null,
            "grid_template_areas": null,
            "grid_template_columns": null,
            "grid_template_rows": null,
            "height": null,
            "justify_content": null,
            "justify_items": null,
            "left": null,
            "margin": null,
            "max_height": null,
            "max_width": null,
            "min_height": null,
            "min_width": null,
            "object_fit": null,
            "object_position": null,
            "order": null,
            "overflow": null,
            "overflow_x": null,
            "overflow_y": null,
            "padding": null,
            "right": null,
            "top": null,
            "visibility": null,
            "width": null
          }
        },
        "632e09c855f74936a538b9023d9ffc98": {
          "model_module": "@jupyter-widgets/base",
          "model_name": "LayoutModel",
          "model_module_version": "1.2.0",
          "state": {
            "_model_module": "@jupyter-widgets/base",
            "_model_module_version": "1.2.0",
            "_model_name": "LayoutModel",
            "_view_count": null,
            "_view_module": "@jupyter-widgets/base",
            "_view_module_version": "1.2.0",
            "_view_name": "LayoutView",
            "align_content": null,
            "align_items": null,
            "align_self": null,
            "border": null,
            "bottom": null,
            "display": null,
            "flex": null,
            "flex_flow": null,
            "grid_area": null,
            "grid_auto_columns": null,
            "grid_auto_flow": null,
            "grid_auto_rows": null,
            "grid_column": null,
            "grid_gap": null,
            "grid_row": null,
            "grid_template_areas": null,
            "grid_template_columns": null,
            "grid_template_rows": null,
            "height": null,
            "justify_content": null,
            "justify_items": null,
            "left": null,
            "margin": null,
            "max_height": null,
            "max_width": null,
            "min_height": null,
            "min_width": null,
            "object_fit": null,
            "object_position": null,
            "order": null,
            "overflow": null,
            "overflow_x": null,
            "overflow_y": null,
            "padding": null,
            "right": null,
            "top": null,
            "visibility": null,
            "width": null
          }
        },
        "609cb1393393418ba99bf9ac70eda655": {
          "model_module": "@jupyter-widgets/controls",
          "model_name": "DescriptionStyleModel",
          "model_module_version": "1.5.0",
          "state": {
            "_model_module": "@jupyter-widgets/controls",
            "_model_module_version": "1.5.0",
            "_model_name": "DescriptionStyleModel",
            "_view_count": null,
            "_view_module": "@jupyter-widgets/base",
            "_view_module_version": "1.2.0",
            "_view_name": "StyleView",
            "description_width": ""
          }
        },
        "970cb3e27c2548018574accab309441c": {
          "model_module": "@jupyter-widgets/base",
          "model_name": "LayoutModel",
          "model_module_version": "1.2.0",
          "state": {
            "_model_module": "@jupyter-widgets/base",
            "_model_module_version": "1.2.0",
            "_model_name": "LayoutModel",
            "_view_count": null,
            "_view_module": "@jupyter-widgets/base",
            "_view_module_version": "1.2.0",
            "_view_name": "LayoutView",
            "align_content": null,
            "align_items": null,
            "align_self": null,
            "border": null,
            "bottom": null,
            "display": null,
            "flex": null,
            "flex_flow": null,
            "grid_area": null,
            "grid_auto_columns": null,
            "grid_auto_flow": null,
            "grid_auto_rows": null,
            "grid_column": null,
            "grid_gap": null,
            "grid_row": null,
            "grid_template_areas": null,
            "grid_template_columns": null,
            "grid_template_rows": null,
            "height": null,
            "justify_content": null,
            "justify_items": null,
            "left": null,
            "margin": null,
            "max_height": null,
            "max_width": null,
            "min_height": null,
            "min_width": null,
            "object_fit": null,
            "object_position": null,
            "order": null,
            "overflow": null,
            "overflow_x": null,
            "overflow_y": null,
            "padding": null,
            "right": null,
            "top": null,
            "visibility": null,
            "width": null
          }
        },
        "16f5f467423342afb830b956ade4cdc6": {
          "model_module": "@jupyter-widgets/controls",
          "model_name": "ProgressStyleModel",
          "model_module_version": "1.5.0",
          "state": {
            "_model_module": "@jupyter-widgets/controls",
            "_model_module_version": "1.5.0",
            "_model_name": "ProgressStyleModel",
            "_view_count": null,
            "_view_module": "@jupyter-widgets/base",
            "_view_module_version": "1.2.0",
            "_view_name": "StyleView",
            "bar_color": null,
            "description_width": ""
          }
        },
        "908b686199724fde9c1ed7dac8776015": {
          "model_module": "@jupyter-widgets/base",
          "model_name": "LayoutModel",
          "model_module_version": "1.2.0",
          "state": {
            "_model_module": "@jupyter-widgets/base",
            "_model_module_version": "1.2.0",
            "_model_name": "LayoutModel",
            "_view_count": null,
            "_view_module": "@jupyter-widgets/base",
            "_view_module_version": "1.2.0",
            "_view_name": "LayoutView",
            "align_content": null,
            "align_items": null,
            "align_self": null,
            "border": null,
            "bottom": null,
            "display": null,
            "flex": null,
            "flex_flow": null,
            "grid_area": null,
            "grid_auto_columns": null,
            "grid_auto_flow": null,
            "grid_auto_rows": null,
            "grid_column": null,
            "grid_gap": null,
            "grid_row": null,
            "grid_template_areas": null,
            "grid_template_columns": null,
            "grid_template_rows": null,
            "height": null,
            "justify_content": null,
            "justify_items": null,
            "left": null,
            "margin": null,
            "max_height": null,
            "max_width": null,
            "min_height": null,
            "min_width": null,
            "object_fit": null,
            "object_position": null,
            "order": null,
            "overflow": null,
            "overflow_x": null,
            "overflow_y": null,
            "padding": null,
            "right": null,
            "top": null,
            "visibility": null,
            "width": null
          }
        },
        "1af41a29b3084665a1affd040914b212": {
          "model_module": "@jupyter-widgets/controls",
          "model_name": "DescriptionStyleModel",
          "model_module_version": "1.5.0",
          "state": {
            "_model_module": "@jupyter-widgets/controls",
            "_model_module_version": "1.5.0",
            "_model_name": "DescriptionStyleModel",
            "_view_count": null,
            "_view_module": "@jupyter-widgets/base",
            "_view_module_version": "1.2.0",
            "_view_name": "StyleView",
            "description_width": ""
          }
        },
        "753f0b0a8f934fe0896a90b1dc78fea0": {
          "model_module": "@jupyter-widgets/controls",
          "model_name": "HBoxModel",
          "model_module_version": "1.5.0",
          "state": {
            "_dom_classes": [],
            "_model_module": "@jupyter-widgets/controls",
            "_model_module_version": "1.5.0",
            "_model_name": "HBoxModel",
            "_view_count": null,
            "_view_module": "@jupyter-widgets/controls",
            "_view_module_version": "1.5.0",
            "_view_name": "HBoxView",
            "box_style": "",
            "children": [
              "IPY_MODEL_2520c88f25d24468b364c40fb3e346f6",
              "IPY_MODEL_8a44de35ee87462294b6365e71a31f7d",
              "IPY_MODEL_e25a734e51c34fad801236ab79afd5e5"
            ],
            "layout": "IPY_MODEL_327fccb192c546ee9c431e99e56a8689"
          }
        },
        "2520c88f25d24468b364c40fb3e346f6": {
          "model_module": "@jupyter-widgets/controls",
          "model_name": "HTMLModel",
          "model_module_version": "1.5.0",
          "state": {
            "_dom_classes": [],
            "_model_module": "@jupyter-widgets/controls",
            "_model_module_version": "1.5.0",
            "_model_name": "HTMLModel",
            "_view_count": null,
            "_view_module": "@jupyter-widgets/controls",
            "_view_module_version": "1.5.0",
            "_view_name": "HTMLView",
            "description": "",
            "description_tooltip": null,
            "layout": "IPY_MODEL_3d420828ed0f481a91c13714973defa4",
            "placeholder": "​",
            "style": "IPY_MODEL_442e4efff1f74cf8bb37e7d73b4db1be",
            "value": "model.safetensors: 100%"
          }
        },
        "8a44de35ee87462294b6365e71a31f7d": {
          "model_module": "@jupyter-widgets/controls",
          "model_name": "FloatProgressModel",
          "model_module_version": "1.5.0",
          "state": {
            "_dom_classes": [],
            "_model_module": "@jupyter-widgets/controls",
            "_model_module_version": "1.5.0",
            "_model_name": "FloatProgressModel",
            "_view_count": null,
            "_view_module": "@jupyter-widgets/controls",
            "_view_module_version": "1.5.0",
            "_view_name": "ProgressView",
            "bar_style": "success",
            "description": "",
            "description_tooltip": null,
            "layout": "IPY_MODEL_ee90bda9d54e4933a29fa96ef771f4dc",
            "max": 440449768,
            "min": 0,
            "orientation": "horizontal",
            "style": "IPY_MODEL_54aa496529c0453792710eb3c77e50d2",
            "value": 440449768
          }
        },
        "e25a734e51c34fad801236ab79afd5e5": {
          "model_module": "@jupyter-widgets/controls",
          "model_name": "HTMLModel",
          "model_module_version": "1.5.0",
          "state": {
            "_dom_classes": [],
            "_model_module": "@jupyter-widgets/controls",
            "_model_module_version": "1.5.0",
            "_model_name": "HTMLModel",
            "_view_count": null,
            "_view_module": "@jupyter-widgets/controls",
            "_view_module_version": "1.5.0",
            "_view_name": "HTMLView",
            "description": "",
            "description_tooltip": null,
            "layout": "IPY_MODEL_90944623496f47d781634c9bfa2a0797",
            "placeholder": "​",
            "style": "IPY_MODEL_08209f5fdef94e168dd5a918a1ef57f0",
            "value": " 440M/440M [00:04&lt;00:00, 104MB/s]"
          }
        },
        "327fccb192c546ee9c431e99e56a8689": {
          "model_module": "@jupyter-widgets/base",
          "model_name": "LayoutModel",
          "model_module_version": "1.2.0",
          "state": {
            "_model_module": "@jupyter-widgets/base",
            "_model_module_version": "1.2.0",
            "_model_name": "LayoutModel",
            "_view_count": null,
            "_view_module": "@jupyter-widgets/base",
            "_view_module_version": "1.2.0",
            "_view_name": "LayoutView",
            "align_content": null,
            "align_items": null,
            "align_self": null,
            "border": null,
            "bottom": null,
            "display": null,
            "flex": null,
            "flex_flow": null,
            "grid_area": null,
            "grid_auto_columns": null,
            "grid_auto_flow": null,
            "grid_auto_rows": null,
            "grid_column": null,
            "grid_gap": null,
            "grid_row": null,
            "grid_template_areas": null,
            "grid_template_columns": null,
            "grid_template_rows": null,
            "height": null,
            "justify_content": null,
            "justify_items": null,
            "left": null,
            "margin": null,
            "max_height": null,
            "max_width": null,
            "min_height": null,
            "min_width": null,
            "object_fit": null,
            "object_position": null,
            "order": null,
            "overflow": null,
            "overflow_x": null,
            "overflow_y": null,
            "padding": null,
            "right": null,
            "top": null,
            "visibility": null,
            "width": null
          }
        },
        "3d420828ed0f481a91c13714973defa4": {
          "model_module": "@jupyter-widgets/base",
          "model_name": "LayoutModel",
          "model_module_version": "1.2.0",
          "state": {
            "_model_module": "@jupyter-widgets/base",
            "_model_module_version": "1.2.0",
            "_model_name": "LayoutModel",
            "_view_count": null,
            "_view_module": "@jupyter-widgets/base",
            "_view_module_version": "1.2.0",
            "_view_name": "LayoutView",
            "align_content": null,
            "align_items": null,
            "align_self": null,
            "border": null,
            "bottom": null,
            "display": null,
            "flex": null,
            "flex_flow": null,
            "grid_area": null,
            "grid_auto_columns": null,
            "grid_auto_flow": null,
            "grid_auto_rows": null,
            "grid_column": null,
            "grid_gap": null,
            "grid_row": null,
            "grid_template_areas": null,
            "grid_template_columns": null,
            "grid_template_rows": null,
            "height": null,
            "justify_content": null,
            "justify_items": null,
            "left": null,
            "margin": null,
            "max_height": null,
            "max_width": null,
            "min_height": null,
            "min_width": null,
            "object_fit": null,
            "object_position": null,
            "order": null,
            "overflow": null,
            "overflow_x": null,
            "overflow_y": null,
            "padding": null,
            "right": null,
            "top": null,
            "visibility": null,
            "width": null
          }
        },
        "442e4efff1f74cf8bb37e7d73b4db1be": {
          "model_module": "@jupyter-widgets/controls",
          "model_name": "DescriptionStyleModel",
          "model_module_version": "1.5.0",
          "state": {
            "_model_module": "@jupyter-widgets/controls",
            "_model_module_version": "1.5.0",
            "_model_name": "DescriptionStyleModel",
            "_view_count": null,
            "_view_module": "@jupyter-widgets/base",
            "_view_module_version": "1.2.0",
            "_view_name": "StyleView",
            "description_width": ""
          }
        },
        "ee90bda9d54e4933a29fa96ef771f4dc": {
          "model_module": "@jupyter-widgets/base",
          "model_name": "LayoutModel",
          "model_module_version": "1.2.0",
          "state": {
            "_model_module": "@jupyter-widgets/base",
            "_model_module_version": "1.2.0",
            "_model_name": "LayoutModel",
            "_view_count": null,
            "_view_module": "@jupyter-widgets/base",
            "_view_module_version": "1.2.0",
            "_view_name": "LayoutView",
            "align_content": null,
            "align_items": null,
            "align_self": null,
            "border": null,
            "bottom": null,
            "display": null,
            "flex": null,
            "flex_flow": null,
            "grid_area": null,
            "grid_auto_columns": null,
            "grid_auto_flow": null,
            "grid_auto_rows": null,
            "grid_column": null,
            "grid_gap": null,
            "grid_row": null,
            "grid_template_areas": null,
            "grid_template_columns": null,
            "grid_template_rows": null,
            "height": null,
            "justify_content": null,
            "justify_items": null,
            "left": null,
            "margin": null,
            "max_height": null,
            "max_width": null,
            "min_height": null,
            "min_width": null,
            "object_fit": null,
            "object_position": null,
            "order": null,
            "overflow": null,
            "overflow_x": null,
            "overflow_y": null,
            "padding": null,
            "right": null,
            "top": null,
            "visibility": null,
            "width": null
          }
        },
        "54aa496529c0453792710eb3c77e50d2": {
          "model_module": "@jupyter-widgets/controls",
          "model_name": "ProgressStyleModel",
          "model_module_version": "1.5.0",
          "state": {
            "_model_module": "@jupyter-widgets/controls",
            "_model_module_version": "1.5.0",
            "_model_name": "ProgressStyleModel",
            "_view_count": null,
            "_view_module": "@jupyter-widgets/base",
            "_view_module_version": "1.2.0",
            "_view_name": "StyleView",
            "bar_color": null,
            "description_width": ""
          }
        },
        "90944623496f47d781634c9bfa2a0797": {
          "model_module": "@jupyter-widgets/base",
          "model_name": "LayoutModel",
          "model_module_version": "1.2.0",
          "state": {
            "_model_module": "@jupyter-widgets/base",
            "_model_module_version": "1.2.0",
            "_model_name": "LayoutModel",
            "_view_count": null,
            "_view_module": "@jupyter-widgets/base",
            "_view_module_version": "1.2.0",
            "_view_name": "LayoutView",
            "align_content": null,
            "align_items": null,
            "align_self": null,
            "border": null,
            "bottom": null,
            "display": null,
            "flex": null,
            "flex_flow": null,
            "grid_area": null,
            "grid_auto_columns": null,
            "grid_auto_flow": null,
            "grid_auto_rows": null,
            "grid_column": null,
            "grid_gap": null,
            "grid_row": null,
            "grid_template_areas": null,
            "grid_template_columns": null,
            "grid_template_rows": null,
            "height": null,
            "justify_content": null,
            "justify_items": null,
            "left": null,
            "margin": null,
            "max_height": null,
            "max_width": null,
            "min_height": null,
            "min_width": null,
            "object_fit": null,
            "object_position": null,
            "order": null,
            "overflow": null,
            "overflow_x": null,
            "overflow_y": null,
            "padding": null,
            "right": null,
            "top": null,
            "visibility": null,
            "width": null
          }
        },
        "08209f5fdef94e168dd5a918a1ef57f0": {
          "model_module": "@jupyter-widgets/controls",
          "model_name": "DescriptionStyleModel",
          "model_module_version": "1.5.0",
          "state": {
            "_model_module": "@jupyter-widgets/controls",
            "_model_module_version": "1.5.0",
            "_model_name": "DescriptionStyleModel",
            "_view_count": null,
            "_view_module": "@jupyter-widgets/base",
            "_view_module_version": "1.2.0",
            "_view_name": "StyleView",
            "description_width": ""
          }
        }
      }
    }
  },
  "nbformat": 4,
  "nbformat_minor": 0
}