{
  "cells": [
    {
      "cell_type": "code",
      "execution_count": 1,
      "metadata": {
        "id": "qc0QMDk40uHK"
      },
      "outputs": [],
      "source": [
        "import locale\n",
        "def getpreferredencoding(do_setlocale = True):\n",
        "    return \"UTF-8\"\n",
        "locale.getpreferredencoding = getpreferredencoding"
      ]
    },
    {
      "cell_type": "code",
      "execution_count": 2,
      "metadata": {
        "colab": {
          "base_uri": "https://localhost:8080/"
        },
        "id": "-bc_vxzLzGWU",
        "outputId": "bd9090e5-b5f9-4e1b-a085-10c1dcb04afd"
      },
      "outputs": [
        {
          "output_type": "stream",
          "name": "stdout",
          "text": [
            "Requirement already satisfied: transformers in /usr/local/lib/python3.10/dist-packages (4.35.2)\n",
            "Requirement already satisfied: filelock in /usr/local/lib/python3.10/dist-packages (from transformers) (3.13.1)\n",
            "Requirement already satisfied: huggingface-hub<1.0,>=0.16.4 in /usr/local/lib/python3.10/dist-packages (from transformers) (0.20.3)\n",
            "Requirement already satisfied: numpy>=1.17 in /usr/local/lib/python3.10/dist-packages (from transformers) (1.23.5)\n",
            "Requirement already satisfied: packaging>=20.0 in /usr/local/lib/python3.10/dist-packages (from transformers) (23.2)\n",
            "Requirement already satisfied: pyyaml>=5.1 in /usr/local/lib/python3.10/dist-packages (from transformers) (6.0.1)\n",
            "Requirement already satisfied: regex!=2019.12.17 in /usr/local/lib/python3.10/dist-packages (from transformers) (2023.6.3)\n",
            "Requirement already satisfied: requests in /usr/local/lib/python3.10/dist-packages (from transformers) (2.31.0)\n",
            "Requirement already satisfied: tokenizers<0.19,>=0.14 in /usr/local/lib/python3.10/dist-packages (from transformers) (0.15.1)\n",
            "Requirement already satisfied: safetensors>=0.3.1 in /usr/local/lib/python3.10/dist-packages (from transformers) (0.4.1)\n",
            "Requirement already satisfied: tqdm>=4.27 in /usr/local/lib/python3.10/dist-packages (from transformers) (4.66.1)\n",
            "Requirement already satisfied: fsspec>=2023.5.0 in /usr/local/lib/python3.10/dist-packages (from huggingface-hub<1.0,>=0.16.4->transformers) (2023.6.0)\n",
            "Requirement already satisfied: typing-extensions>=3.7.4.3 in /usr/local/lib/python3.10/dist-packages (from huggingface-hub<1.0,>=0.16.4->transformers) (4.5.0)\n",
            "Requirement already satisfied: charset-normalizer<4,>=2 in /usr/local/lib/python3.10/dist-packages (from requests->transformers) (3.3.2)\n",
            "Requirement already satisfied: idna<4,>=2.5 in /usr/local/lib/python3.10/dist-packages (from requests->transformers) (3.6)\n",
            "Requirement already satisfied: urllib3<3,>=1.21.1 in /usr/local/lib/python3.10/dist-packages (from requests->transformers) (2.0.7)\n",
            "Requirement already satisfied: certifi>=2017.4.17 in /usr/local/lib/python3.10/dist-packages (from requests->transformers) (2023.11.17)\n",
            "Collecting bertviz\n",
            "  Downloading bertviz-1.4.0-py3-none-any.whl (157 kB)\n",
            "\u001b[2K     \u001b[90m━━━━━━━━━━━━━━━━━━━━━━━━━━━━━━━━━━━━━━━━\u001b[0m \u001b[32m157.6/157.6 kB\u001b[0m \u001b[31m2.9 MB/s\u001b[0m eta \u001b[36m0:00:00\u001b[0m\n",
            "\u001b[?25hRequirement already satisfied: transformers>=2.0 in /usr/local/lib/python3.10/dist-packages (from bertviz) (4.35.2)\n",
            "Requirement already satisfied: torch>=1.0 in /usr/local/lib/python3.10/dist-packages (from bertviz) (2.1.0+cu121)\n",
            "Requirement already satisfied: tqdm in /usr/local/lib/python3.10/dist-packages (from bertviz) (4.66.1)\n",
            "Collecting boto3 (from bertviz)\n",
            "  Downloading boto3-1.34.29-py3-none-any.whl (139 kB)\n",
            "\u001b[2K     \u001b[90m━━━━━━━━━━━━━━━━━━━━━━━━━━━━━━━━━━━━━━━━\u001b[0m \u001b[32m139.3/139.3 kB\u001b[0m \u001b[31m6.7 MB/s\u001b[0m eta \u001b[36m0:00:00\u001b[0m\n",
            "\u001b[?25hRequirement already satisfied: requests in /usr/local/lib/python3.10/dist-packages (from bertviz) (2.31.0)\n",
            "Requirement already satisfied: regex in /usr/local/lib/python3.10/dist-packages (from bertviz) (2023.6.3)\n",
            "Collecting sentencepiece (from bertviz)\n",
            "  Downloading sentencepiece-0.1.99-cp310-cp310-manylinux_2_17_x86_64.manylinux2014_x86_64.whl (1.3 MB)\n",
            "\u001b[2K     \u001b[90m━━━━━━━━━━━━━━━━━━━━━━━━━━━━━━━━━━━━━━━━\u001b[0m \u001b[32m1.3/1.3 MB\u001b[0m \u001b[31m8.9 MB/s\u001b[0m eta \u001b[36m0:00:00\u001b[0m\n",
            "\u001b[?25hRequirement already satisfied: filelock in /usr/local/lib/python3.10/dist-packages (from torch>=1.0->bertviz) (3.13.1)\n",
            "Requirement already satisfied: typing-extensions in /usr/local/lib/python3.10/dist-packages (from torch>=1.0->bertviz) (4.5.0)\n",
            "Requirement already satisfied: sympy in /usr/local/lib/python3.10/dist-packages (from torch>=1.0->bertviz) (1.12)\n",
            "Requirement already satisfied: networkx in /usr/local/lib/python3.10/dist-packages (from torch>=1.0->bertviz) (3.2.1)\n",
            "Requirement already satisfied: jinja2 in /usr/local/lib/python3.10/dist-packages (from torch>=1.0->bertviz) (3.1.3)\n",
            "Requirement already satisfied: fsspec in /usr/local/lib/python3.10/dist-packages (from torch>=1.0->bertviz) (2023.6.0)\n",
            "Requirement already satisfied: triton==2.1.0 in /usr/local/lib/python3.10/dist-packages (from torch>=1.0->bertviz) (2.1.0)\n",
            "Requirement already satisfied: huggingface-hub<1.0,>=0.16.4 in /usr/local/lib/python3.10/dist-packages (from transformers>=2.0->bertviz) (0.20.3)\n",
            "Requirement already satisfied: numpy>=1.17 in /usr/local/lib/python3.10/dist-packages (from transformers>=2.0->bertviz) (1.23.5)\n",
            "Requirement already satisfied: packaging>=20.0 in /usr/local/lib/python3.10/dist-packages (from transformers>=2.0->bertviz) (23.2)\n",
            "Requirement already satisfied: pyyaml>=5.1 in /usr/local/lib/python3.10/dist-packages (from transformers>=2.0->bertviz) (6.0.1)\n",
            "Requirement already satisfied: tokenizers<0.19,>=0.14 in /usr/local/lib/python3.10/dist-packages (from transformers>=2.0->bertviz) (0.15.1)\n",
            "Requirement already satisfied: safetensors>=0.3.1 in /usr/local/lib/python3.10/dist-packages (from transformers>=2.0->bertviz) (0.4.1)\n",
            "Collecting botocore<1.35.0,>=1.34.29 (from boto3->bertviz)\n",
            "  Downloading botocore-1.34.29-py3-none-any.whl (11.9 MB)\n",
            "\u001b[2K     \u001b[90m━━━━━━━━━━━━━━━━━━━━━━━━━━━━━━━━━━━━━━━━\u001b[0m \u001b[32m11.9/11.9 MB\u001b[0m \u001b[31m12.1 MB/s\u001b[0m eta \u001b[36m0:00:00\u001b[0m\n",
            "\u001b[?25hCollecting jmespath<2.0.0,>=0.7.1 (from boto3->bertviz)\n",
            "  Downloading jmespath-1.0.1-py3-none-any.whl (20 kB)\n",
            "Collecting s3transfer<0.11.0,>=0.10.0 (from boto3->bertviz)\n",
            "  Downloading s3transfer-0.10.0-py3-none-any.whl (82 kB)\n",
            "\u001b[2K     \u001b[90m━━━━━━━━━━━━━━━━━━━━━━━━━━━━━━━━━━━━━━━━\u001b[0m \u001b[32m82.1/82.1 kB\u001b[0m \u001b[31m8.9 MB/s\u001b[0m eta \u001b[36m0:00:00\u001b[0m\n",
            "\u001b[?25hRequirement already satisfied: charset-normalizer<4,>=2 in /usr/local/lib/python3.10/dist-packages (from requests->bertviz) (3.3.2)\n",
            "Requirement already satisfied: idna<4,>=2.5 in /usr/local/lib/python3.10/dist-packages (from requests->bertviz) (3.6)\n",
            "Requirement already satisfied: urllib3<3,>=1.21.1 in /usr/local/lib/python3.10/dist-packages (from requests->bertviz) (2.0.7)\n",
            "Requirement already satisfied: certifi>=2017.4.17 in /usr/local/lib/python3.10/dist-packages (from requests->bertviz) (2023.11.17)\n",
            "Requirement already satisfied: python-dateutil<3.0.0,>=2.1 in /usr/local/lib/python3.10/dist-packages (from botocore<1.35.0,>=1.34.29->boto3->bertviz) (2.8.2)\n",
            "Requirement already satisfied: MarkupSafe>=2.0 in /usr/local/lib/python3.10/dist-packages (from jinja2->torch>=1.0->bertviz) (2.1.4)\n",
            "Requirement already satisfied: mpmath>=0.19 in /usr/local/lib/python3.10/dist-packages (from sympy->torch>=1.0->bertviz) (1.3.0)\n",
            "Requirement already satisfied: six>=1.5 in /usr/local/lib/python3.10/dist-packages (from python-dateutil<3.0.0,>=2.1->botocore<1.35.0,>=1.34.29->boto3->bertviz) (1.16.0)\n",
            "Installing collected packages: sentencepiece, jmespath, botocore, s3transfer, boto3, bertviz\n",
            "Successfully installed bertviz-1.4.0 boto3-1.34.29 botocore-1.34.29 jmespath-1.0.1 s3transfer-0.10.0 sentencepiece-0.1.99\n"
          ]
        }
      ],
      "source": [
        "import pandas as pd\n",
        "import torch\n",
        "import numpy as np\n",
        "import random\n",
        "import re\n",
        "import spacy\n",
        "import shutil\n",
        "import matplotlib.pyplot as plt\n",
        "!pip install transformers\n",
        "!pip install bertviz\n",
        "import torch.nn as nn\n",
        "import torch.optim as optim\n",
        "from transformers import AutoTokenizer, BertTokenizer, AutoModel, BertModel\n",
        "from torch.utils.data import Dataset, TensorDataset, DataLoader, random_split, RandomSampler, SequentialSampler\n",
        "import time\n",
        "from scipy.stats import spearmanr"
      ]
    },
    {
      "cell_type": "code",
      "execution_count": 3,
      "metadata": {
        "colab": {
          "base_uri": "https://localhost:8080/"
        },
        "id": "Dy2Cy1hZz_JJ",
        "outputId": "32a35fbc-ff70-4f32-946d-86c1d8d53481"
      },
      "outputs": [
        {
          "output_type": "stream",
          "name": "stdout",
          "text": [
            "Mounted at /content/drive\n"
          ]
        }
      ],
      "source": [
        "from google.colab import drive\n",
        "\n",
        "drive.mount('/content/drive')"
      ]
    },
    {
      "cell_type": "code",
      "source": [
        "file_root = '/content/drive/MyDrive/Tesis/SICK/uncase_based/SICK.txt'\n",
        "with open(file_root, 'r') as temp_f:\n",
        "    # get No of columns in each line\n",
        "    col_count = [ len(l.split(\"\\t\")) for l in temp_f.readlines() ]"
      ],
      "metadata": {
        "id": "5udKKFTzZMn-"
      },
      "execution_count": 4,
      "outputs": []
    },
    {
      "cell_type": "code",
      "source": [
        "### Generate column names  (names will be 0, 1, 2, ..., maximum columns - 1)\n",
        "column_names = [i for i in range(0, max(col_count))]\n",
        "### Read csv\n",
        "cleaned_df = pd.read_csv(file_root, header=None, delimiter=\"\\t\", names=column_names)\n",
        "len(cleaned_df)"
      ],
      "metadata": {
        "colab": {
          "base_uri": "https://localhost:8080/"
        },
        "id": "qAc-xaoqaA-j",
        "outputId": "de4580c1-1bf6-49ce-b66d-5640009123f8"
      },
      "execution_count": 5,
      "outputs": [
        {
          "output_type": "execute_result",
          "data": {
            "text/plain": [
              "9841"
            ]
          },
          "metadata": {},
          "execution_count": 5
        }
      ]
    },
    {
      "cell_type": "code",
      "execution_count": 6,
      "metadata": {
        "id": "jaSIxSSCw5AY"
      },
      "outputs": [],
      "source": [
        "def getSICKSents(filename='sts-train.csv', set_type='TRAIN', encoding='utf-8'):\n",
        "  f = open(filename, 'r', encoding=encoding)\n",
        "  s1, s2, target = [], [], []\n",
        "  for i, line in enumerate(f):\n",
        "    example = re.split(r'\\t+', line)\n",
        "    if i >= 1:\n",
        "      if example[-1].strip() == set_type:\n",
        "        s2.append(example[1])\n",
        "        s1.append(example[2])\n",
        "        target.append(float(example[4]))\n",
        "  print(\"samples: {}\".format(len(target)))\n",
        "  return s1, s2, target"
      ]
    },
    {
      "cell_type": "code",
      "execution_count": 7,
      "metadata": {
        "colab": {
          "base_uri": "https://localhost:8080/"
        },
        "id": "F_j7JTGEzZyz",
        "outputId": "8edbd370-1d16-44e2-a874-6b12b4d468df"
      },
      "outputs": [
        {
          "output_type": "stream",
          "name": "stdout",
          "text": [
            "samples: 4439\n"
          ]
        }
      ],
      "source": [
        "s1_train,s2_train,target_train = getSICKSents(file_root, 'TRAIN')"
      ]
    },
    {
      "cell_type": "code",
      "execution_count": 8,
      "metadata": {
        "colab": {
          "base_uri": "https://localhost:8080/"
        },
        "id": "u_wBVbk6zwRF",
        "outputId": "6b86ac10-fd27-4ef0-995b-e8067869d503"
      },
      "outputs": [
        {
          "output_type": "stream",
          "name": "stdout",
          "text": [
            "samples: 4906\n"
          ]
        }
      ],
      "source": [
        "s1_test,s2_test,target_test= getSICKSents(file_root, 'TEST')"
      ]
    },
    {
      "cell_type": "code",
      "execution_count": 9,
      "metadata": {
        "colab": {
          "base_uri": "https://localhost:8080/"
        },
        "id": "HCAYUG03z14L",
        "outputId": "f16a103c-ec4d-4ae1-af64-9b304223d5ac"
      },
      "outputs": [
        {
          "output_type": "stream",
          "name": "stdout",
          "text": [
            "samples: 495\n"
          ]
        }
      ],
      "source": [
        "s1_dev,s2_dev,target_dev= getSICKSents(file_root, 'TRIAL')"
      ]
    },
    {
      "cell_type": "code",
      "execution_count": 10,
      "metadata": {
        "colab": {
          "base_uri": "https://localhost:8080/"
        },
        "id": "X8TBNqYyCj-u",
        "outputId": "d29cc133-d0b7-4a5d-ee62-c9ad93d8434d"
      },
      "outputs": [
        {
          "output_type": "stream",
          "name": "stdout",
          "text": [
            "Device: cuda\n"
          ]
        }
      ],
      "source": [
        "device = 'cuda' if torch.cuda.is_available() else 'cpu'\n",
        "print(f'Device: {device}')"
      ]
    },
    {
      "cell_type": "code",
      "execution_count": 11,
      "metadata": {
        "id": "HQf5A_IsCu9I"
      },
      "outputs": [],
      "source": [
        "BATCH_SIZE = 32\n",
        "MAX_LEN = 128\n",
        "CORPUS = 'STS-B'\n",
        "BERT_PATH = \"bert-base-uncased\"\n",
        "root_drive = '/content/drive/MyDrive/Tesis/SICK/transformer_tunned_BERT/uncase_base/'\n",
        "MODEL_FILE_NAME = CORPUS+'_'+BERT_PATH+'_'+str(MAX_LEN)+'_tunned_model_sick.pt'"
      ]
    },
    {
      "cell_type": "code",
      "execution_count": 12,
      "metadata": {
        "colab": {
          "base_uri": "https://localhost:8080/",
          "height": 269,
          "referenced_widgets": [
            "f927d3a153374700adb4acf80a5694e6",
            "2b2896a956254be3865330927aff8c16",
            "b524528b41c24509a26df213158c911e",
            "4f094d25f72e4e2a8025843bf7d3bca1",
            "0eae842ed85e473aae7805396fd0eab5",
            "77f951584264489592e8b201239c1049",
            "6c7e64cd74ad4415ae5e2fc1e2315ba8",
            "ae41d6206e5148cbbc53119384c0a3b1",
            "f0bba56443714b0d87c028cbaf4d5950",
            "587fab453cff4a93bd76a2445a1507f4",
            "e2456d0b8ea543d2aa5d3ae970c1172e",
            "f436676afaa44b4a9447d9ad0db04ada",
            "fd45f224612c4478b5e57b3a4a9bd9b4",
            "633c43874d5c4e21bd635ef08a8784ec",
            "39ed88d201b34bbc89198d3da88204d2",
            "0ec8ba42f6264bf88a03e018c013caa4",
            "1f76ddc48321408d96a7b9c71a45dc3c",
            "8ee3195460a0467281333f5118a15126",
            "a3d5e7734b8440508e399701ee0a0b7e",
            "0f8a9769c19a4f318a6389505fb8a6ba",
            "f817046fcad54956afa34fe0933e6c6b",
            "133f5d922b69427c93ae07323ce885e9",
            "833952e0ecb94007be9bce14eb6027df",
            "60f0fb46ec3b4d84a3367357ec54d5b7",
            "ddeced5f992a400c9e4ee12b60819b1b",
            "34a937a2a731447daa535216d5da9dfc",
            "5a322f8628184cb2bfc785b01589e810",
            "03bf94ec854446bd95c58854c31f9bd2",
            "fe568bc42c6a4ad2ab196b87edab42aa",
            "a81c8e49517d402da6dcf652e1c5cc7b",
            "6d54bc6a4e2a4c738df54f95011f6109",
            "89fdd7231fcd4e91a6c07be1e358fbc5",
            "49986cb345cd4cbda48181176da8b871",
            "abf3fb80ceb340bc90489a40e3e497b0",
            "8a7a5e721958409693dec0c7c19652eb",
            "f301b816b2794aa6a210ae4b0ad14742",
            "e5f3a2b9454d43c2804d3ccc1798c029",
            "51bb4be967f142e8967c02e53819117e",
            "334321e5056e45398541bc313a3577df",
            "e4e75e20b90e43d59a46a4a81f243bb4",
            "5ed592fcad2541c4b534667005770c73",
            "661cbd44f0c642a6bda250fdc034f3ef",
            "8fdf8d72858e45aca38a2a116b3665de",
            "47c17725d96a486d9236e1d72d2df4a7"
          ]
        },
        "id": "z600WMjxHnOJ",
        "outputId": "6aa86dd3-8a6e-4140-991d-0467000f0dcc"
      },
      "outputs": [
        {
          "output_type": "stream",
          "name": "stderr",
          "text": [
            "/usr/local/lib/python3.10/dist-packages/huggingface_hub/utils/_token.py:88: UserWarning: \n",
            "The secret `HF_TOKEN` does not exist in your Colab secrets.\n",
            "To authenticate with the Hugging Face Hub, create a token in your settings tab (https://huggingface.co/settings/tokens), set it as secret in your Google Colab and restart your session.\n",
            "You will be able to reuse this secret in all of your notebooks.\n",
            "Please note that authentication is recommended but still optional to access public models or datasets.\n",
            "  warnings.warn(\n"
          ]
        },
        {
          "output_type": "display_data",
          "data": {
            "text/plain": [
              "tokenizer_config.json:   0%|          | 0.00/28.0 [00:00<?, ?B/s]"
            ],
            "application/vnd.jupyter.widget-view+json": {
              "version_major": 2,
              "version_minor": 0,
              "model_id": "f927d3a153374700adb4acf80a5694e6"
            }
          },
          "metadata": {}
        },
        {
          "output_type": "display_data",
          "data": {
            "text/plain": [
              "vocab.txt:   0%|          | 0.00/232k [00:00<?, ?B/s]"
            ],
            "application/vnd.jupyter.widget-view+json": {
              "version_major": 2,
              "version_minor": 0,
              "model_id": "f436676afaa44b4a9447d9ad0db04ada"
            }
          },
          "metadata": {}
        },
        {
          "output_type": "display_data",
          "data": {
            "text/plain": [
              "tokenizer.json:   0%|          | 0.00/466k [00:00<?, ?B/s]"
            ],
            "application/vnd.jupyter.widget-view+json": {
              "version_major": 2,
              "version_minor": 0,
              "model_id": "833952e0ecb94007be9bce14eb6027df"
            }
          },
          "metadata": {}
        },
        {
          "output_type": "display_data",
          "data": {
            "text/plain": [
              "config.json:   0%|          | 0.00/570 [00:00<?, ?B/s]"
            ],
            "application/vnd.jupyter.widget-view+json": {
              "version_major": 2,
              "version_minor": 0,
              "model_id": "abf3fb80ceb340bc90489a40e3e497b0"
            }
          },
          "metadata": {}
        }
      ],
      "source": [
        "TOKENIZER = BertTokenizer.from_pretrained(BERT_PATH, do_lower_case=True)"
      ]
    },
    {
      "cell_type": "code",
      "execution_count": 13,
      "metadata": {
        "id": "pVdOQNbvVnln"
      },
      "outputs": [],
      "source": [
        "def encode_sents(sents1, sents2):\n",
        "    input_ids_ = []\n",
        "    attention_masks_ = []\n",
        "    type_ids_ = []\n",
        "    for i, sent1 in enumerate(sents1):\n",
        "        encoded_dict = TOKENIZER.encode_plus(\n",
        "                            sent1,                      # Sentence 1 to encode.\n",
        "                            sents2[i],                  # Sentence 2 to encode.\n",
        "                            add_special_tokens = True,  # Add '[CLS]' and '[SEP]'\n",
        "                            truncation = True,\n",
        "                            max_length = MAX_LEN,       # Pad & truncate all sentences.\n",
        "                            pad_to_max_length = True,\n",
        "                            return_attention_mask = True,   # Construct attn. masks.\n",
        "                            return_tensors = 'pt',     # Return pytorch tensors.\n",
        "                      )\n",
        "\n",
        "        # Add the encoded sentence to the list.\n",
        "        input_ids_.append(encoded_dict['input_ids'])\n",
        "\n",
        "        # And its attention mask (simply differentiates padding from non-padding).\n",
        "        attention_masks_.append(encoded_dict['attention_mask'])\n",
        "\n",
        "        type_ids_.append(encoded_dict['token_type_ids'])\n",
        "    return input_ids_, attention_masks_, type_ids_"
      ]
    },
    {
      "cell_type": "code",
      "execution_count": 14,
      "metadata": {
        "id": "906LtLLC9Y_Z"
      },
      "outputs": [],
      "source": [
        "def getEncodedTensors(s1, s2, labels):\n",
        "    input_ids, attention_masks, type_ids = encode_sents(s1, s2)\n",
        "    input_ids = torch.cat(input_ids, dim=0)\n",
        "    attention_masks = torch.cat(attention_masks, dim=0)\n",
        "    type_ids = torch.cat(type_ids, dim=0)\n",
        "    labels = torch.tensor(labels)\n",
        "    return input_ids, attention_masks, type_ids, labels"
      ]
    },
    {
      "cell_type": "code",
      "execution_count": 15,
      "metadata": {
        "colab": {
          "base_uri": "https://localhost:8080/"
        },
        "id": "t6ru4f5S9-qd",
        "outputId": "9ebf41ab-6a9f-4fdb-e0c8-a75d60c348d0"
      },
      "outputs": [
        {
          "output_type": "stream",
          "name": "stderr",
          "text": [
            "/usr/local/lib/python3.10/dist-packages/transformers/tokenization_utils_base.py:2614: FutureWarning: The `pad_to_max_length` argument is deprecated and will be removed in a future version, use `padding=True` or `padding='longest'` to pad to the longest sequence in the batch, or use `padding='max_length'` to pad to a max length. In this case, you can give a specific length with `max_length` (e.g. `max_length=45`) or leave max_length to None to pad to the maximal input size of the model (e.g. 512 for Bert).\n",
            "  warnings.warn(\n"
          ]
        }
      ],
      "source": [
        "input_ids_train,attention_masks_train,type_ids_train,labels_train = getEncodedTensors(s1_train,s2_train,target_train)"
      ]
    },
    {
      "cell_type": "code",
      "execution_count": 16,
      "metadata": {
        "id": "-bL1MWnB_-9d"
      },
      "outputs": [],
      "source": [
        "input_ids_eval, attention_masks_eval, type_ids_eval, labels_eval = getEncodedTensors(s1_dev, s2_dev, target_dev)"
      ]
    },
    {
      "cell_type": "code",
      "execution_count": 17,
      "metadata": {
        "id": "adsDoOZNdgVR"
      },
      "outputs": [],
      "source": [
        "# Combine the training inputs into a TensorDataset.\n",
        "train_dataset = TensorDataset(input_ids_train, attention_masks_train, type_ids_train, labels_train)\n",
        "val_dataset = TensorDataset(input_ids_eval, attention_masks_eval, type_ids_eval, labels_eval)"
      ]
    },
    {
      "cell_type": "code",
      "execution_count": 18,
      "metadata": {
        "id": "4L0SrB_JlaCY"
      },
      "outputs": [],
      "source": [
        "# Create the DataLoaders for our training and test sets.\n",
        "# We'll take training samples in random order.\n",
        "torch.manual_seed(42)\n",
        "train_loader = DataLoader(\n",
        "            train_dataset,  # The training samples.\n",
        "            sampler = RandomSampler(train_dataset), # Select batches randomly\n",
        "            batch_size = BATCH_SIZE # Trains with this batch size.\n",
        "            #num_workers=2\n",
        "        )\n",
        "torch.manual_seed(42)\n",
        "val_loader = DataLoader(\n",
        "            val_dataset, # The validation samples.\n",
        "            sampler = SequentialSampler(val_dataset), # Pull out batches sequentially.\n",
        "            batch_size = BATCH_SIZE # Evaluate with this batch size.\n",
        "            #num_workers=2\n",
        "        )"
      ]
    },
    {
      "cell_type": "code",
      "execution_count": 19,
      "metadata": {
        "colab": {
          "base_uri": "https://localhost:8080/"
        },
        "id": "nMWrY0KxnEMi",
        "outputId": "16c96ff3-54f5-4a4c-9fcb-b261fb0e6dd7"
      },
      "outputs": [
        {
          "output_type": "stream",
          "name": "stdout",
          "text": [
            "Number of train batches: 139\n",
            "Number of evaluation batches: 16\n"
          ]
        }
      ],
      "source": [
        "# See first batch\n",
        "#batch = next(iter(train_loader))\n",
        "#print(batch[0]) # 0 -> input_ids , 1 -> attention_masks, 2 -> type_ids, 3 -> targets\n",
        "#print(train_loader.batch_size) #tamaño del batch\n",
        "print('Number of train batches: {}'.format(len(train_loader)))# número de batches\n",
        "print('Number of evaluation batches: {}'.format(len(val_loader)))"
      ]
    },
    {
      "cell_type": "code",
      "execution_count": 20,
      "metadata": {
        "id": "KkXY8l6PqLwi"
      },
      "outputs": [],
      "source": [
        "class BertBaseUncasedRegressor(nn.Module):\n",
        "  def __init__(self, num_classes = 1, dropout=0.1, has_attentions=True, has_hidden_states = True, n_layers = 0):\n",
        "      super().__init__()\n",
        "      self.bert = BertModel.from_pretrained(BERT_PATH, output_attentions=has_attentions, output_hidden_states = has_hidden_states) #load the model\n",
        "      # Return:\n",
        "      # last_hidden_state.shape -> [batch_size, num_tokens_in_sequence,hidden_size] (bert_base hidden_size = 768)\n",
        "      # pooler_output.shape -> [batch_size, hidden_size] se utiliza una capa de pooling simple que aplica una transformación\n",
        "      # lineal seguida de una función de activación tangente hiperbólica (tanh) a la última representación oculta (last_hidden_state) del token [CLS].\n",
        "      layers = []\n",
        "      for _ in range(n_layers):\n",
        "          layers.append(nn.Linear(self.bert.config.hidden_size, self.bert.config.hidden_size)) #self.bert.config.hidden_size -> nos da el tamaño oculto\n",
        "          layers.append(nn.Dropout(dropout))\n",
        "      layers.append(nn.Linear(self.bert.config.hidden_size, num_classes)) #self.bert.config.hidden_size -> nos da el tamaño oculto\n",
        "\n",
        "      self.regressor = nn.Sequential(*layers)\n",
        "\n",
        "\n",
        "  def forward(self, input_ids, type_ids, mask, layer_index_HS=12):\n",
        "      bert_output =self.bert(input_ids=input_ids, token_type_ids = type_ids, attention_mask= mask)\n",
        "\n",
        "      #output = bert_output.pooler_output\n",
        "      if type(layer_index_HS) == str:\n",
        "        output = bert_output.last_hidden_state[:, 0, :]\n",
        "      else:\n",
        "        output = bert_output.hidden_states[layer_index_HS][:, 0, :]\n",
        "      logits = self.regressor(output)\n",
        "      #logits = self.regressor(output_drop)\n",
        "      return logits, bert_output"
      ]
    },
    {
      "cell_type": "code",
      "execution_count": 21,
      "metadata": {
        "colab": {
          "base_uri": "https://localhost:8080/",
          "height": 49,
          "referenced_widgets": [
            "3324bc689cb2401883eadbd9b38d7760",
            "0b894b4bf146472a9e9757083768f8bc",
            "2df495330cc8441abc7c8968ebb2fc37",
            "fe4d76e1d1b84a54bd8018350650f538",
            "72a1c060361e44a1857a15f4fd5d2649",
            "af5a19dc8a5045f1b59c3c3d98a91d6b",
            "53503790b2bd499cba56a5fb6a797143",
            "f0f5d7b86bac4a61b59f538ff246772a",
            "10a3b68913c14f53af833585f933b3f7",
            "9962541e233e47de9af261e971c4e50d",
            "0c6c4f3b36d740118edcd26d66fb71a8"
          ]
        },
        "id": "gm5OXHZoGZ6V",
        "outputId": "afb683ba-33a8-4354-c73e-5e4516cc41c1"
      },
      "outputs": [
        {
          "output_type": "display_data",
          "data": {
            "text/plain": [
              "model.safetensors:   0%|          | 0.00/440M [00:00<?, ?B/s]"
            ],
            "application/vnd.jupyter.widget-view+json": {
              "version_major": 2,
              "version_minor": 0,
              "model_id": "3324bc689cb2401883eadbd9b38d7760"
            }
          },
          "metadata": {}
        }
      ],
      "source": [
        "model = BertBaseUncasedRegressor(n_layers = 2, dropout=0.20155960971087494).to(device)"
      ]
    },
    {
      "cell_type": "code",
      "execution_count": 22,
      "metadata": {
        "id": "vx7UQjL5GJLu"
      },
      "outputs": [],
      "source": [
        "criterion = nn.MSELoss()\n",
        "LEARNING_RATE = 2.67e-5 #2.45e-05 #3.36e-5\n",
        "optimizer = optim.RMSprop(model.parameters(), lr=LEARNING_RATE)"
      ]
    },
    {
      "cell_type": "code",
      "execution_count": 23,
      "metadata": {
        "id": "n3ur6ZV3_Gb6"
      },
      "outputs": [],
      "source": [
        "def pearson_corr(y_pred, y_true):\n",
        "    all_preds = np.concatenate(y_pred)\n",
        "    all_targets = np.concatenate(y_true)\n",
        "    return np.corrcoef(all_preds, all_targets)[0, 1]"
      ]
    },
    {
      "cell_type": "code",
      "execution_count": 24,
      "metadata": {
        "id": "P6-Jax0r_Mhf"
      },
      "outputs": [],
      "source": [
        "def spearman_corr(y_pred, y_true):\n",
        "    all_preds = np.concatenate(y_pred)\n",
        "    all_targets = np.concatenate(y_true)\n",
        "\n",
        "    corr, _ = spearmanr(all_preds, all_targets)\n",
        "    return corr"
      ]
    },
    {
      "cell_type": "code",
      "execution_count": 25,
      "metadata": {
        "id": "fdInbGmYrUfw"
      },
      "outputs": [],
      "source": [
        "def train_loop(model,loader,optimizer,criterion,device,layer_idx ='last_hidden_state',clip = 1.0):\n",
        "    #Training loop\n",
        "    model.train()\n",
        "    loss_sum = 0\n",
        "    all_preds = []\n",
        "    all_targets = []\n",
        "    seed = 42\n",
        "    np.random.seed(seed)\n",
        "    random.seed(seed)\n",
        "    torch.manual_seed(seed)\n",
        "    torch.cuda.manual_seed_all(seed)\n",
        "\n",
        "    for i, batch in enumerate(loader):\n",
        "\n",
        "        b_input_ids = batch[0].to(device)\n",
        "        b_attention_mask = batch[1].to(device)\n",
        "        b_type_ids = batch[2].to(device)\n",
        "        labels = batch[3].to(device)\n",
        "\n",
        "        optimizer.zero_grad()\n",
        "        #Forward\n",
        "        outputs, _ = model(input_ids=b_input_ids, type_ids = b_type_ids, mask = b_attention_mask, layer_index_HS=layer_idx)\n",
        "        outputs = outputs.squeeze(-1)\n",
        "        #Loss\n",
        "        loss = criterion(outputs.view(-1), labels.float())\n",
        "        #Backprop\n",
        "        loss.backward()\n",
        "        #prevent gradients from exploding\n",
        "        torch.nn.utils.clip_grad_norm_(model.parameters(), clip)\n",
        "        #Update params\n",
        "        optimizer.step()\n",
        "\n",
        "        loss_sum += loss.item()\n",
        "\n",
        "        all_preds.append(outputs.detach().cpu().numpy())\n",
        "        all_targets.append(labels.float().detach().cpu().numpy())\n",
        "\n",
        "    epoch_train_loss = loss_sum / len(loader)\n",
        "    epoch_train_pearson = pearson_corr(all_preds, all_targets)\n",
        "    epoch_train_spearman = spearman_corr(all_preds, all_targets)\n",
        "\n",
        "    return epoch_train_loss, epoch_train_pearson, epoch_train_spearman\n"
      ]
    },
    {
      "cell_type": "code",
      "execution_count": 26,
      "metadata": {
        "id": "CxO7AgRRtnnk"
      },
      "outputs": [],
      "source": [
        "def evaluation_loop(model,loader,criterion,device,layer_idx ='last_hidden_state'):\n",
        "    #Evaluation loop\n",
        "    seed = 42\n",
        "    np.random.seed(seed)\n",
        "    random.seed(seed)\n",
        "    torch.manual_seed(seed)\n",
        "    torch.cuda.manual_seed_all(seed)\n",
        "    model.eval()\n",
        "    with torch.no_grad():\n",
        "        loss_sum = 0\n",
        "        all_preds = []\n",
        "        all_targets = []\n",
        "\n",
        "        for i, batch in enumerate(loader):\n",
        "            b_input_ids = batch[0].to(device)\n",
        "            b_attention_mask = batch[1].to(device)\n",
        "            b_type_ids = batch[2].to(device)\n",
        "            labels = batch[3].to(device)\n",
        "\n",
        "            #Forward\n",
        "            outputs, _ = model(input_ids=b_input_ids, type_ids = b_type_ids, mask = b_attention_mask, layer_index_HS=layer_idx)\n",
        "            outputs = outputs.squeeze(-1)\n",
        "            #Loss\n",
        "            loss = criterion(outputs.view(-1), labels.float())\n",
        "\n",
        "            loss_sum += loss.item()\n",
        "\n",
        "            all_preds.append(outputs.detach().cpu().numpy())\n",
        "            all_targets.append(labels.float().detach().cpu().numpy())\n",
        "\n",
        "        epoch_dev_loss = loss_sum / len(loader)\n",
        "        epoch_dev_pearson = pearson_corr(all_preds, all_targets)\n",
        "        epoch_dev_spearman = spearman_corr(all_preds, all_targets)\n",
        "\n",
        "    return epoch_dev_loss, epoch_dev_pearson, epoch_dev_spearman"
      ]
    },
    {
      "cell_type": "code",
      "execution_count": 27,
      "metadata": {
        "colab": {
          "base_uri": "https://localhost:8080/"
        },
        "id": "cZV4ok1BImGs",
        "outputId": "fc5107fc-3df4-4bdf-e297-7fd3cc9ccbdc"
      },
      "outputs": [
        {
          "output_type": "stream",
          "name": "stdout",
          "text": [
            "--------------------------------------------------------------------------------\n",
            "Epoch: 001/5 | Time: 84.8850s | Train loss: 0.6883 | Dev loss: 0.2752\n",
            "Train Pearson Coef: 0.6611 | Dev Pearson Coef: 0.8710\n",
            "Train Spearman Coef: 0.5820 | Dev Spearman Coef: 0.8307\n",
            "--------------------------------------------------------------------------------\n",
            "Epoch: 002/5 | Time: 84.1353s | Train loss: 0.2103 | Dev loss: 0.5045\n",
            "Train Pearson Coef: 0.8960 | Dev Pearson Coef: 0.8832\n",
            "Train Spearman Coef: 0.8460 | Dev Spearman Coef: 0.8391\n",
            "--------------------------------------------------------------------------------\n",
            "Epoch: 003/5 | Time: 86.4741s | Train loss: 0.1184 | Dev loss: 0.4746\n",
            "Train Pearson Coef: 0.9426 | Dev Pearson Coef: 0.8879\n",
            "Train Spearman Coef: 0.9136 | Dev Spearman Coef: 0.8459\n",
            "--------------------------------------------------------------------------------\n",
            "Epoch: 004/5 | Time: 87.5156s | Train loss: 0.0875 | Dev loss: 0.2596\n",
            "Train Pearson Coef: 0.9582 | Dev Pearson Coef: 0.8895\n",
            "Train Spearman Coef: 0.9371 | Dev Spearman Coef: 0.8432\n",
            "--------------------------------------------------------------------------------\n",
            "Epoch: 005/5 | Time: 87.8370s | Train loss: 0.0685 | Dev loss: 0.2088\n",
            "Train Pearson Coef: 0.9672 | Dev Pearson Coef: 0.8936\n",
            "Train Spearman Coef: 0.9512 | Dev Spearman Coef: 0.8531\n"
          ]
        }
      ],
      "source": [
        "NUM_EPOCHS = 5\n",
        "root_drive = '/content/drive/MyDrive/Tesis/SICK/transformer_tunned_BERT/uncase_base/'\n",
        "best_valid_loss = float('inf')\n",
        "MODEL_FILE_NAME = CORPUS+'_'+BERT_PATH+'_'+str(MAX_LEN)+'_tunned_model.pt'\n",
        "history = {\"train\": {\"loss\": [],\"pearson\": [],'spearman':[]}, \"val\": {\"loss\": [],\"pearson\": [],'spearman':[]}}\n",
        "layer_HS_idx = 12 # from 1 to 12 in the base model\n",
        "torch.cuda.empty_cache()\n",
        "\n",
        "seed = 78\n",
        "np.random.seed(seed)\n",
        "random.seed(seed)\n",
        "torch.manual_seed(seed)\n",
        "torch.cuda.manual_seed_all(seed)\n",
        "\n",
        "for epoch in range(NUM_EPOCHS):\n",
        "\n",
        "    start_time = time.time()\n",
        "\n",
        "    epoch_train_loss, epoch_train_pearson, epoch_train_spearman = train_loop(model,train_loader,optimizer,criterion,device,layer_HS_idx)\n",
        "    epoch_dev_loss, epoch_dev_pearson, epoch_dev_spearman = evaluation_loop(model,val_loader,criterion,device,layer_HS_idx)\n",
        "\n",
        "    elapsed_time = time.time() - start_time\n",
        "\n",
        "    #nos quedamos con el modelo que tiene mejor pérdida de validación\n",
        "    if epoch_dev_loss < best_valid_loss:\n",
        "      best_valid_loss = epoch_dev_loss\n",
        "      torch.save(model.state_dict(), root_drive + MODEL_FILE_NAME)\n",
        "\n",
        "\n",
        "    history[\"train\"][\"loss\"].append(round(epoch_train_loss,4))\n",
        "    history[\"val\"][\"loss\"].append(round(epoch_dev_loss,4))\n",
        "    history[\"train\"][\"pearson\"].append(round(epoch_train_pearson,4))\n",
        "    history[\"val\"][\"pearson\"].append(round(epoch_dev_pearson,4))\n",
        "    history[\"train\"][\"spearman\"].append(round(epoch_train_spearman,4))\n",
        "    history[\"val\"][\"spearman\"].append(round(epoch_dev_spearman,4))\n",
        "\n",
        "    print('-' * 80)\n",
        "    print(f'Epoch: {epoch+1:03}/{NUM_EPOCHS} | Time: {elapsed_time:.4f}s | Train loss: {epoch_train_loss:.4f} | Dev loss: {epoch_dev_loss:.4f}')\n",
        "    print(f'Train Pearson Coef: {epoch_train_pearson:.4f} | Dev Pearson Coef: {epoch_dev_pearson:.4f}')\n",
        "    print(f'Train Spearman Coef: {epoch_train_spearman:.4f} | Dev Spearman Coef: {epoch_dev_spearman:.4f}')"
      ]
    },
    {
      "cell_type": "markdown",
      "metadata": {
        "id": "9f9fTylvyepB"
      },
      "source": [
        "TEST"
      ]
    },
    {
      "cell_type": "code",
      "execution_count": 28,
      "metadata": {
        "id": "T-6FZZEiyepD",
        "colab": {
          "base_uri": "https://localhost:8080/"
        },
        "outputId": "d4e7764c-f49e-42e5-f9e2-f70b49d515a0"
      },
      "outputs": [
        {
          "output_type": "stream",
          "name": "stderr",
          "text": [
            "/usr/local/lib/python3.10/dist-packages/transformers/tokenization_utils_base.py:2614: FutureWarning: The `pad_to_max_length` argument is deprecated and will be removed in a future version, use `padding=True` or `padding='longest'` to pad to the longest sequence in the batch, or use `padding='max_length'` to pad to a max length. In this case, you can give a specific length with `max_length` (e.g. `max_length=45`) or leave max_length to None to pad to the maximal input size of the model (e.g. 512 for Bert).\n",
            "  warnings.warn(\n"
          ]
        },
        {
          "output_type": "stream",
          "name": "stdout",
          "text": [
            "Test Loss: 0.215\n",
            "Test Pearson: 0.889\n",
            "Test Spearman: 0.833\n"
          ]
        }
      ],
      "source": [
        "model.load_state_dict(torch.load(root_drive + MODEL_FILE_NAME, map_location=torch.device(device)))\n",
        "layer_HS_idx = 12\n",
        "input_ids_test, attention_masks_test, type_ids_test, labels_test = getEncodedTensors(s1_test, s2_test, target_test)\n",
        "test_dataset = TensorDataset(input_ids_test, attention_masks_test, type_ids_test, labels_test)\n",
        "\n",
        "torch.manual_seed(42)\n",
        "test_iterator = DataLoader(\n",
        "                test_dataset, # The validation samples.\n",
        "                sampler = SequentialSampler(test_dataset), # Pull out batches sequentially.\n",
        "                batch_size = BATCH_SIZE # Evaluate with this batch size.\n",
        "                #num_workers=2\n",
        "                )\n",
        "\n",
        "test_loss, test_pearson, test_spearman = evaluation_loop(model,test_iterator,criterion,device,layer_HS_idx)\n",
        "print(f'Test Loss: {test_loss:.3f}')\n",
        "print(f'Test Pearson: {test_pearson:.3f}')\n",
        "print(f'Test Spearman: {test_spearman:.3f}')"
      ]
    },
    {
      "cell_type": "code",
      "execution_count": 29,
      "metadata": {
        "id": "yj-d6AF_K-0P"
      },
      "outputs": [],
      "source": [
        "test = list(zip(s1_test,s2_test,target_test))"
      ]
    },
    {
      "cell_type": "code",
      "execution_count": 30,
      "metadata": {
        "id": "jjA4BgefCFxb"
      },
      "outputs": [],
      "source": [
        "def similarity_test(test_dataset, num_example, model, device, layer_idx):\n",
        "\n",
        "    sents1, sents2, targets = zip(*test_dataset)\n",
        "    print(\"Sent 1: \", sents1[num_example])\n",
        "    print(\"Sent 2: \", sents2[num_example])\n",
        "    encode_inputs, encode_att_mask, encode_type = encode_sents([sents1[num_example]], [sents2[num_example]])\n",
        "\n",
        "    input_ids_test = torch.cat(encode_inputs, dim=0)\n",
        "    attention_masks_test = torch.cat(encode_att_mask, dim=0)\n",
        "    type_ids_test = torch.cat(encode_type, dim=0)\n",
        "    labels_test = torch.tensor(targets[num_example])\n",
        "\n",
        "    #ejecución de encoder con oración origen y máscara origen\n",
        "    with torch.no_grad():\n",
        "        output, bert = model(input_ids=input_ids_test.to(device),type_ids=type_ids_test.to(device),mask=attention_masks_test.to(device),layer_index_HS=layer_idx)\n",
        "        output =output.squeeze(1)\n",
        "        #attention\n",
        "        # Obtener los pesos de atención para la primera capa de atención\n",
        "        #attention_weights = bert.attentions[attention_layer]\n",
        "    print(\"Predicted Class: \", round(output.item(),3))\n",
        "    print(\"Target Class: \", round(labels_test.item(),3))\n",
        "    return sents1[num_example], sents2[num_example], bert, input_ids_test\n"
      ]
    },
    {
      "cell_type": "code",
      "execution_count": 31,
      "metadata": {
        "id": "NZwwEqZcgWBK"
      },
      "outputs": [],
      "source": [
        "def trim_attention(att, input_ids):\n",
        "    # Obtener la longitud de la secuencia de entrada sin el relleno\n",
        "    input_len = np.count_nonzero(input_ids != 0)\n",
        "\n",
        "    # Recortar la atención para eliminar el relleno\n",
        "    att_trimmed = att[:input_len, :input_len]\n",
        "\n",
        "    # Normalizar la atención para que las filas sumen 1\n",
        "    att_trimmed = att_trimmed / att_trimmed.sum(axis=-1, keepdims=True)\n",
        "    return att_trimmed, input_len"
      ]
    },
    {
      "cell_type": "code",
      "execution_count": 32,
      "metadata": {
        "id": "NJHBHDZfcvBE"
      },
      "outputs": [],
      "source": [
        "def view_attention(bert, input_ids, attention_layer):\n",
        "    \"\"\"\n",
        "    Cuando se encuentra una palabra que no está en el vocabulario, el tokenizador de BERT la divide en\n",
        "    subpalabras más pequeñas y agrega el prefijo \"#\" a cada subpalabra para indicar que es parte de la\n",
        "     misma palabra original. Por ejemplo, la palabra \"running\" podría ser dividida en \"run\" y \"##ning\".\n",
        "    \"\"\"\n",
        "    # Obtener los pesos de atención (batch_size, num_heads, sequence_length, sequence_length)\n",
        "    batch_idx = 0 #always 0 for test a sequence\n",
        "    num_head =0\n",
        "    fig, axs = plt.subplots(3, 4, figsize=(12, 9))\n",
        "    for i, ax in enumerate(axs.flat):\n",
        "      attention = bert.attentions[attention_layer][batch_idx][i].cpu().detach().numpy()\n",
        "      # Recortar la matriz de atención\n",
        "      att_trimmed, sent_dim = trim_attention(attention, input_ids)\n",
        "      sent = TOKENIZER.convert_ids_to_tokens(input_ids.squeeze().tolist())[:sent_dim]\n",
        "      # Visualizar la matriz de atención recortada\n",
        "      ax.matshow(att_trimmed, cmap='viridis')\n",
        "      ax.set_title('Head ' + str(i+1))\n",
        "      #axs[0].matshow(att_trimmed, cmap='hot')\n",
        "      ax.set_xticks(np.arange(len(sent)), sent, rotation=90)\n",
        "      ax.set_yticks(np.arange(len(sent)), sent)\n",
        "      #plt.title('Atención del modelo BERT para dos oraciones')\n",
        "    plt.tight_layout()\n",
        "    plt.show()"
      ]
    },
    {
      "cell_type": "code",
      "execution_count": 33,
      "metadata": {
        "id": "3C0pw40xkFzN"
      },
      "outputs": [],
      "source": [
        "def save_attentions(test_dataset, model, device, layer_idx = 12):\n",
        "    sents1, sents2, targets = zip(*test_dataset)\n",
        "    all_attentions = {}\n",
        "    dimensions = {}\n",
        "    for i in range(len(test_dataset)):\n",
        "      encode_inputs, encode_att_mask, encode_type = encode_sents([sents1[i]], [sents2[i]])\n",
        "      input_ids = torch.cat(encode_inputs, dim=0)\n",
        "      attention_masks = torch.cat(encode_att_mask, dim=0)\n",
        "      type_ids = torch.cat(encode_type, dim=0)\n",
        "      labels = torch.tensor(targets[i])\n",
        "\n",
        "      #ejecución de encoder con oración origen y máscara origen\n",
        "      with torch.no_grad():\n",
        "          output, bert = model(input_ids=input_ids.to(device),type_ids=type_ids.to(device),mask=attention_masks.to(device),layer_index_HS=layer_idx)\n",
        "          output =output.squeeze(1)\n",
        "\n",
        "      for attention_layer in range(12):\n",
        "          for head in range(12):\n",
        "              attention = bert.attentions[attention_layer][0][head].cpu().detach().numpy()\n",
        "              # Recortar la matriz de atención\n",
        "              att_trimmed, sent_dim = trim_attention(attention, input_ids)\n",
        "              all_attentions[(i,attention_layer,head)] = {'vectors' : att_trimmed, 'sequence': 's1: ' + sents1[i] + ' s2: ' + sents2[i].replace(\"\\n\", \"\"), 'label' : targets[i], 'dimension' : sent_dim}\n",
        "              dimensions[i] = sent_dim\n",
        "    return all_attentions"
      ]
    },
    {
      "cell_type": "code",
      "execution_count": 34,
      "metadata": {
        "id": "VXVkHH-g65nl"
      },
      "outputs": [],
      "source": [
        "def save_outputs(test_dataset, model, device, layer_idx = 12): #save encoder outputs\n",
        "    sents1, sents2, targets = zip(*test_dataset)\n",
        "    hidden_states_outputs = {}\n",
        "    for i in range(len(test_dataset)):\n",
        "      encode_inputs, encode_att_mask, encode_type = encode_sents([sents1[i]], [sents2[i]])\n",
        "      input_ids = torch.cat(encode_inputs, dim=0)\n",
        "      attention_masks = torch.cat(encode_att_mask, dim=0)\n",
        "      type_ids = torch.cat(encode_type, dim=0)\n",
        "      labels = torch.tensor(targets[i])\n",
        "\n",
        "      #ejecución de encoder con oración origen y máscara origen\n",
        "      with torch.no_grad():\n",
        "          output, bert = model(input_ids=input_ids.to(device),type_ids=type_ids.to(device),mask=attention_masks.to(device),layer_index_HS=layer_idx)\n",
        "          output =output.squeeze(1)\n",
        "      for layer, hidden_state in enumerate(bert.hidden_states):\n",
        "          if layer > 0 : #the first layer is embedding\n",
        "            hidden_states_outputs[(i,layer)] = {'hidden_state' : hidden_state, 'label' : targets[i]} #all outputs have (1,128,768)\n",
        "    return hidden_states_outputs"
      ]
    },
    {
      "cell_type": "code",
      "source": [
        "def save_CLS_outputs(test_dataset, model, device, layer_idx = 12): #save encoder outputs\n",
        "    sents1, sents2, targets = zip(*test_dataset)\n",
        "    CLS_outputs_vectors, CLS_outputs = {}, {}\n",
        "    sent_dim = 0\n",
        "    for i in range(len(test_dataset)):\n",
        "      encode_inputs, encode_att_mask, encode_type = encode_sents([sents1[i]], [sents2[i]])\n",
        "      input_ids = torch.cat(encode_inputs, dim=0)\n",
        "      attention_masks = torch.cat(encode_att_mask, dim=0)\n",
        "      type_ids = torch.cat(encode_type, dim=0)\n",
        "      labels = torch.tensor(targets[i])\n",
        "\n",
        "      #ejecución de encoder con oración origen y máscara origen\n",
        "      with torch.no_grad():\n",
        "          output, bert = model(input_ids=input_ids.to(device),type_ids=type_ids.to(device),mask=attention_masks.to(device),layer_index_HS=layer_idx)\n",
        "          output =output.squeeze(1)\n",
        "\n",
        "      for attention_layer in range(12):\n",
        "          for head in range(12):\n",
        "              attention = bert.attentions[attention_layer][0][head].cpu().detach().numpy()\n",
        "              # Recortar la matriz de atención\n",
        "              att_trimmed, sent_dim = trim_attention(attention, input_ids)\n",
        "\n",
        "      for layer, hidden_state in enumerate(bert.hidden_states):\n",
        "          if layer > 0 : #the first layer is embedding\n",
        "            CLS_outputs_vectors[(i,layer-1)] = {'vectors' : hidden_state[:, 0, :], 'sequence': 's1: ' + sents1[i] + ' s2: ' + sents2[i].replace(\"\\n\", \"\"), 'label' : targets[i], 'dimension' : sent_dim}\n",
        "            CLS_outputs[(i,layer-1)] = {'CLS_vectors' : hidden_state[:, 0, :], 'sequence': 's1: ' + sents1[i] + ' s2: ' + sents2[i].replace(\"\\n\", \"\"), 'label' : targets[i], 'dimension' : sent_dim}\n",
        "    return CLS_outputs_vectors, CLS_outputs"
      ],
      "metadata": {
        "id": "K0LyxAHN4d2y"
      },
      "execution_count": 35,
      "outputs": []
    },
    {
      "cell_type": "code",
      "execution_count": 36,
      "metadata": {
        "id": "1WriRf0orKsn"
      },
      "outputs": [],
      "source": [
        "all_attentions = save_attentions(test, model, device)"
      ]
    },
    {
      "cell_type": "code",
      "execution_count": 37,
      "metadata": {
        "colab": {
          "base_uri": "https://localhost:8080/"
        },
        "id": "bOCPR8S-1ksU",
        "outputId": "a68c2c70-fe4b-44dd-a46c-c687db0b83da"
      },
      "outputs": [
        {
          "output_type": "execute_result",
          "data": {
            "text/plain": [
              "{'vectors': array([[4.7486811e-03, 6.0694222e-04, 7.2904053e-04, ..., 2.2548886e-03,\n",
              "         9.7009309e-02, 2.9886866e-01],\n",
              "        [2.5232833e-02, 1.9788058e-02, 3.3813100e-03, ..., 6.9922731e-05,\n",
              "         5.3743594e-03, 2.5765824e-01],\n",
              "        [2.1617224e-02, 2.0026742e-03, 1.4395312e-02, ..., 7.0182405e-06,\n",
              "         5.3089904e-04, 3.8518474e-01],\n",
              "        ...,\n",
              "        [1.2166573e-02, 2.5704156e-05, 2.2813157e-07, ..., 2.8580809e-02,\n",
              "         4.4968352e-02, 3.6958772e-01],\n",
              "        [3.7792516e-03, 4.8627749e-05, 5.2947898e-06, ..., 1.6918494e-03,\n",
              "         4.1050740e-02, 4.0679932e-01],\n",
              "        [4.3493588e-03, 1.3157238e-04, 4.6976027e-05, ..., 9.0972528e-05,\n",
              "         1.4798732e-03, 4.4394675e-01]], dtype=float32),\n",
              " 'sequence': 's1: The young boys are playing outdoors and the man is smiling nearby s2: A group of boys in a yard is playing and a man is standing in the background',\n",
              " 'label': 3.7,\n",
              " 'dimension': 32}"
            ]
          },
          "metadata": {},
          "execution_count": 37
        }
      ],
      "source": [
        "all_attentions[(1,5,5)] #[(example_num, layer, head)]"
      ]
    },
    {
      "cell_type": "code",
      "execution_count": null,
      "metadata": {
        "id": "HnpDP0TGrm0b"
      },
      "outputs": [],
      "source": [
        "# Save the dictionary to a file\n",
        "# Memory problem\n",
        "#torch.save(all_attentions, root_drive + BERT_PATH + '_all_attentions_test_sick.pth', pickle_module=pickle_module)"
      ]
    },
    {
      "cell_type": "code",
      "execution_count": null,
      "metadata": {
        "id": "3i4MRQnos162"
      },
      "outputs": [],
      "source": [
        "# Read dictionary from file\n",
        "# Memory problem\n",
        "#loaded_dict = torch.load(root_drive + BERT_PATH + '_all_attentions_test_sick.pth')"
      ]
    },
    {
      "cell_type": "code",
      "execution_count": 38,
      "metadata": {
        "id": "pEUdAY6-Ciov",
        "colab": {
          "base_uri": "https://localhost:8080/"
        },
        "outputId": "49e2d3a8-b5ee-41f0-e24f-0a7c0f91a368"
      },
      "outputs": [
        {
          "output_type": "stream",
          "name": "stdout",
          "text": [
            "Sent 1:  There is no man slicing a tomato\n",
            "Sent 2:  A man is slicing a bun\n",
            "Predicted Class:  2.636\n",
            "Target Class:  3.2\n"
          ]
        }
      ],
      "source": [
        "example = 621 #95, 71 raro #73 #548, #549 lo clasifico muy bien, #552 clasifico terriblemente\n",
        "s1, s2, bert, inputs = similarity_test(test, example, model, device, 12)"
      ]
    },
    {
      "cell_type": "code",
      "execution_count": 39,
      "metadata": {
        "colab": {
          "base_uri": "https://localhost:8080/",
          "height": 794
        },
        "id": "pwpNj0_9h0n-",
        "outputId": "44e72079-9a24-47d0-97dd-480495cfa48b"
      },
      "outputs": [
        {
          "output_type": "display_data",
          "data": {
            "text/plain": [
              "<Figure size 1200x900 with 12 Axes>"
            ],
            "image/png": "[encoded data removed]"
          },
          "metadata": {}
        }
      ],
      "source": [
        "view_attention(bert, inputs, 0) #(bert_model, inputs, layer)"
      ]
    },
    {
      "cell_type": "code",
      "source": [
        "all_attentions_matrix = all_attentions"
      ],
      "metadata": {
        "id": "8IAYq0116j3G"
      },
      "execution_count": 40,
      "outputs": []
    },
    {
      "cell_type": "code",
      "source": [
        "layers = 12\n",
        "heads = 12\n",
        "#num_sentences = list(all_attentions_matrix.keys())[-1][0]+1\n",
        "num_sentences = int(len(all_attentions_matrix.keys())/(layers*heads))\n",
        "attentions_concat_heads = {}\n",
        "attentions_matrix_list = []\n",
        "attentions_list = []\n",
        "\n",
        "for i in range(num_sentences):\n",
        "  for j in range(layers):\n",
        "    tensor_list = []\n",
        "    for k in range(heads):\n",
        "      tensor_list.append(torch.tensor(all_attentions_matrix[(i,j,k)]['vectors']).flatten())\n",
        "    #attentions_concat_heads[(i,j)] = torch.stack(tensor_list).unsqueeze(0).permute(0, 2, 1)\n",
        "    stack = torch.stack(tensor_list)\n",
        "    attentions_concat_heads[(i,j)] = stack\n",
        "    attentions_matrix_list.append(stack)\n",
        "    #attentions_list.append(((i,j),all_attentions_matrix[(i,j,k)]['label'], stack))\n",
        "    attentions_list.append(((i,j),all_attentions_matrix[(i,j,k)]['sequence'],all_attentions_matrix[(i,j,k)]['label'],all_attentions_matrix[(i,j,k)]['dimension'],stack))\n",
        "attentions_list = [(id,s,label,dim,tensor.permute(1,0)) for id, s, label, dim, tensor in attentions_list]"
      ],
      "metadata": {
        "id": "gfiWYn6c61aI"
      },
      "execution_count": 41,
      "outputs": []
    },
    {
      "cell_type": "code",
      "source": [
        "len(attentions_list)"
      ],
      "metadata": {
        "colab": {
          "base_uri": "https://localhost:8080/"
        },
        "id": "Pc9GbXi067YL",
        "outputId": "3c751b69-28c1-4b7d-cdc2-0572227d21c6"
      },
      "execution_count": 42,
      "outputs": [
        {
          "output_type": "execute_result",
          "data": {
            "text/plain": [
              "58872"
            ]
          },
          "metadata": {},
          "execution_count": 42
        }
      ]
    },
    {
      "cell_type": "markdown",
      "source": [
        "Dataloader"
      ],
      "metadata": {
        "id": "d5zAJ30e6_3t"
      }
    },
    {
      "cell_type": "code",
      "source": [
        "# Crear un sampler secuencial\n",
        "# attentions_list = dataset\n",
        "# SequentialSampler does not perform any shuffling or random selection of items.\n",
        "sampler = SequentialSampler(attentions_list)\n",
        "\n",
        "# Definir el tamaño del lote\n",
        "batch_size = 12 # always 12, because it is the number of attention layers, 12 layers for the same sentence\n",
        "\n",
        "# Crear el DataLoader sin un BatchSampler\n",
        "dataloader = DataLoader(attentions_list, batch_size=batch_size, sampler=sampler)"
      ],
      "metadata": {
        "id": "9GcDpMyQ7FZV"
      },
      "execution_count": 43,
      "outputs": []
    },
    {
      "cell_type": "code",
      "source": [
        "len(dataloader)"
      ],
      "metadata": {
        "colab": {
          "base_uri": "https://localhost:8080/"
        },
        "id": "U0IeMHUs7Zw6",
        "outputId": "4d73f716-28b9-4ec9-919a-ed6bafb45f21"
      },
      "execution_count": 44,
      "outputs": [
        {
          "output_type": "execute_result",
          "data": {
            "text/plain": [
              "4906"
            ]
          },
          "metadata": {},
          "execution_count": 44
        }
      ]
    },
    {
      "cell_type": "code",
      "source": [
        "sr = next(iter(dataloader))\n",
        "sr[0] # ids (num_sent, num_layer)\n",
        "sr[1] # sequence\n",
        "sr[2] # similarity label\n",
        "sr[3] # dimension\n",
        "sr[4].shape #[batch_size, len_sentence, input_size] with attentions ([12,289,12])"
      ],
      "metadata": {
        "colab": {
          "base_uri": "https://localhost:8080/"
        },
        "id": "P425pqKX7bhI",
        "outputId": "30c4645a-07eb-4444-aa6a-8aa312d04d2c"
      },
      "execution_count": 45,
      "outputs": [
        {
          "output_type": "execute_result",
          "data": {
            "text/plain": [
              "torch.Size([12, 1089, 12])"
            ]
          },
          "metadata": {},
          "execution_count": 45
        }
      ]
    },
    {
      "cell_type": "code",
      "source": [
        "def epoch_time(start_time, end_time):\n",
        "    elapsed_time = end_time - start_time\n",
        "    elapsed_mins = int(elapsed_time / 60)\n",
        "    elapsed_secs = int(elapsed_time - (elapsed_mins * 60))\n",
        "    return elapsed_mins, elapsed_secs"
      ],
      "metadata": {
        "id": "qIgBsyfb7diR"
      },
      "execution_count": 46,
      "outputs": []
    },
    {
      "cell_type": "code",
      "source": [
        "def train_loop(model, iterator, optimizer, criterion, device=device, clip = 1.0):\n",
        "    #Training loop\n",
        "    model.train()\n",
        "    loss_sum = 0\n",
        "    seed = 42\n",
        "    torch.backends.cudnn.deterministic = True\n",
        "    torch.backends.cudnn.benchmark = False\n",
        "    torch.manual_seed(seed)\n",
        "    torch.cuda.manual_seed_all(seed)\n",
        "    np.random.seed(seed)\n",
        "    random.seed(seed)\n",
        "    #torch.cuda.set_device(0)\n",
        "\n",
        "    for i, (_,_,_,_,input) in enumerate(iterator):\n",
        "        optimizer.zero_grad()\n",
        "        output, _ = model(input)\n",
        "        loss = criterion(output, input)\n",
        "        loss.backward()\n",
        "        #prevent gradients from exploding\n",
        "        torch.nn.utils.clip_grad_norm_(model.parameters(), clip)\n",
        "        #Update params\n",
        "        optimizer.step()\n",
        "        loss_sum += loss.item()\n",
        "\n",
        "    epoch_train_loss = loss_sum * batch_size / len(iterator)\n",
        "\n",
        "    return epoch_train_loss"
      ],
      "metadata": {
        "id": "oQ_hpDYY7fPD"
      },
      "execution_count": 47,
      "outputs": []
    },
    {
      "cell_type": "code",
      "source": [
        "# Extraer el vector latente fijo de cada elemento del batch\n",
        "def extract_latent_vectors(model, dataloader, device, model_type='RNN'):\n",
        "    model.eval()\n",
        "    vector_representations = {}\n",
        "\n",
        "    with torch.no_grad():\n",
        "        for (id,s,label,dim,input) in dataloader:\n",
        "            latent_vectors = []\n",
        "            if model_type == 'RNN':\n",
        "              _, (latent_representation, _) = model.encoder(input)\n",
        "              latent = latent_representation.squeeze(0)\n",
        "            else:\n",
        "              latent_representation = model.encoder(input)\n",
        "              latent = latent_representation.squeeze(0).squeeze(1)\n",
        "            tuples = list(zip(id[0].tolist(), id[1].tolist()))\n",
        "            #latent = latent_representation.squeeze(0)\n",
        "            for i in range(latent.size(0)):\n",
        "              latent_vectors.append(latent[i].numpy())\n",
        "              vector_representations[tuples[i]] = { 'vector' : latent[i].numpy(), 'sequence': s, 'label': label, 'dimension':dim}\n",
        "\n",
        "    return vector_representations"
      ],
      "metadata": {
        "id": "JDfsNGAs7u07"
      },
      "execution_count": 48,
      "outputs": []
    },
    {
      "cell_type": "code",
      "source": [
        "# Definir la arquitectura del autoencoder con LSTM\n",
        "class AutoencoderLSTM(nn.Module):\n",
        "    def __init__(self, input_size, hidden_size, latent_size = 128):\n",
        "        super(AutoencoderLSTM, self).__init__()\n",
        "        self.encoder = nn.LSTM(input_size, hidden_size, batch_first=True)\n",
        "        self.decoder = nn.LSTM(hidden_size, input_size, batch_first=True)\n",
        "    def forward(self, x):\n",
        "        # Codificación\n",
        "        #o = [1, 12, 128] = [batch_size, len_sents, hidden_size]\n",
        "        #x = [1, 12, 289] = [batch_size, len_sents, input_size]\n",
        "        #print(x.shape)\n",
        "        o, (h_n, _) = self.encoder(x)\n",
        "        #h = [1, 1, 128] = [batch_size, num_layers * num_directions, hidden_size]\n",
        "        # Reducción a tamaño latente\n",
        "        #latent = [1, 128] = [num_layers * num_directions, hidden_size]\n",
        "        latent = h_n.squeeze(0)\n",
        "        # Decodificación\n",
        "        #output, _ = self.decoder(latent.unsqueeze(0).repeat(1, x.size(1), 1))\n",
        "        output, _ = self.decoder(o)\n",
        "        return output, latent"
      ],
      "metadata": {
        "id": "DiQjhSKp7xbk"
      },
      "execution_count": 49,
      "outputs": []
    },
    {
      "cell_type": "code",
      "source": [
        "NUM_EPOCHS = 4\n",
        "best_valid_loss = float('inf')\n",
        "model_name = 'Autoencoder_LSTM'\n",
        "train_loss_values = []\n",
        "history = {\"train\": {\"loss\": []}}\n",
        "\n",
        "input_size = 12  #due to 768 dimensión of BERT\n",
        "hidden_size = 2  # size of fixed vector #laten dim\n",
        "learning_rate = 0.001 #0.00025 #0.0007\n",
        "\n",
        "seed = 42\n",
        "torch.backends.cudnn.deterministic = True\n",
        "torch.backends.cudnn.benchmark = False\n",
        "torch.manual_seed(seed)\n",
        "torch.cuda.manual_seed_all(seed)\n",
        "np.random.seed(seed)\n",
        "random.seed(seed)\n",
        "\n",
        "\n",
        "model = AutoencoderLSTM(input_size, hidden_size)\n",
        "criterion = nn.MSELoss()\n",
        "optimizer = optim.Adam(model.parameters(), lr=learning_rate)\n",
        "\n",
        "for epoch in range(NUM_EPOCHS):\n",
        "\n",
        "    start_time = time.time()\n",
        "    epoch_train_loss = train_loop(model,dataloader,optimizer,criterion,device)\n",
        "    end_time = time.time()\n",
        "\n",
        "    epoch_mins, epoch_secs = epoch_time(start_time, end_time)\n",
        "\n",
        "    train_loss_values.append(epoch_train_loss)\n",
        "\n",
        "    history[\"train\"][\"loss\"].append(epoch_train_loss)\n",
        "\n",
        "    print('-' * 80)\n",
        "    #print(f'Epoch: {epoch+1:03}/{NUM_EPOCHS} | Epoch Time: {epoch_mins}m {epoch_secs}s | Train loss: {epoch_train_loss:.4f} | Train acc: {epoch_train_acc:.4f} | Dev loss: {epoch_dev_loss:.4f} | Dev acc: {epoch_dev_acc:.4f}')\n",
        "    print(f'Epoch: {epoch+1:03}/{NUM_EPOCHS} | Epoch Time: {epoch_mins}m {epoch_secs}s | Train loss: {epoch_train_loss:.4f}')"
      ],
      "metadata": {
        "colab": {
          "base_uri": "https://localhost:8080/"
        },
        "id": "XevrUdkw72ZO",
        "outputId": "97065a1c-dd49-43fd-d8fa-a68ad617a212"
      },
      "execution_count": 50,
      "outputs": [
        {
          "output_type": "stream",
          "name": "stdout",
          "text": [
            "--------------------------------------------------------------------------------\n",
            "Epoch: 001/4 | Epoch Time: 2m 3s | Train loss: 0.0704\n",
            "--------------------------------------------------------------------------------\n",
            "Epoch: 002/4 | Epoch Time: 2m 11s | Train loss: 0.0554\n",
            "--------------------------------------------------------------------------------\n",
            "Epoch: 003/4 | Epoch Time: 2m 7s | Train loss: 0.0531\n",
            "--------------------------------------------------------------------------------\n",
            "Epoch: 004/4 | Epoch Time: 2m 0s | Train loss: 0.0522\n"
          ]
        }
      ]
    },
    {
      "cell_type": "code",
      "source": [
        "vector_representations = extract_latent_vectors(model, dataloader, device)"
      ],
      "metadata": {
        "id": "kRcJgPhm76jM"
      },
      "execution_count": 51,
      "outputs": []
    },
    {
      "cell_type": "code",
      "source": [
        "vector_representations[(0,0)]['vector']"
      ],
      "metadata": {
        "colab": {
          "base_uri": "https://localhost:8080/"
        },
        "id": "_-k8w-HI78yP",
        "outputId": "3df10681-1e72-4a37-bc2e-41e5b05c370c"
      },
      "execution_count": 52,
      "outputs": [
        {
          "output_type": "execute_result",
          "data": {
            "text/plain": [
              "array([-0.22162506, -0.3274624 ], dtype=float32)"
            ]
          },
          "metadata": {},
          "execution_count": 52
        }
      ]
    },
    {
      "cell_type": "code",
      "source": [
        "torch.save(vector_representations, root_drive + BERT_PATH + str(hidden_size) + '_vector_representations_ATTENTIONS_2D_SICK.pth')"
      ],
      "metadata": {
        "id": "SHAopEMl79z7"
      },
      "execution_count": 54,
      "outputs": []
    },
    {
      "cell_type": "code",
      "source": [
        "#hidden_size = 2  # size of fixed vector\n",
        "vector_representations = torch.load(root_drive + BERT_PATH + str(hidden_size) + '_vector_representations_ATTENTIONS_2D_SICK.pth')"
      ],
      "metadata": {
        "id": "oMYjxINf8IMa"
      },
      "execution_count": 55,
      "outputs": []
    },
    {
      "cell_type": "code",
      "source": [
        "len(vector_representations)"
      ],
      "metadata": {
        "colab": {
          "base_uri": "https://localhost:8080/"
        },
        "id": "BAacs8v38ITu",
        "outputId": "c3c36f24-da4b-4dea-bbbb-9efd625ab7ff"
      },
      "execution_count": 56,
      "outputs": [
        {
          "output_type": "execute_result",
          "data": {
            "text/plain": [
              "58872"
            ]
          },
          "metadata": {},
          "execution_count": 56
        }
      ]
    },
    {
      "cell_type": "code",
      "source": [
        "def convert_to_num(text):\n",
        "    try:\n",
        "        # Try to convert the text to a number (int or float)\n",
        "        number = float(text)\n",
        "        # Check if the number is an integer, and if so, convert it to int\n",
        "        if number.is_integer():\n",
        "            return int(number)\n",
        "        return number\n",
        "    except ValueError:\n",
        "        # If there is a ValueError, return the original text\n",
        "        return text"
      ],
      "metadata": {
        "id": "cxYuMET5BBIK"
      },
      "execution_count": 59,
      "outputs": []
    },
    {
      "cell_type": "code",
      "source": [
        "def get_representations_per_layer(num_sentences, vector_representations, layers = 12, main_key = 'vector', add_keys = ['sequence','label','dimension']):\n",
        "  vectors_per_layer = {}\n",
        "  labels = {}\n",
        "  data = []\n",
        "  for l in range(layers):\n",
        "    vectors_per_layer[l] = np.array([vector_representations[(i,l)][main_key] for i in range(num_sentences)])\n",
        "  data.append(vectors_per_layer)\n",
        "  for j in add_keys:\n",
        "    data.append({i: vector_representations[(i, 0)][j][0].item() if isinstance(vector_representations[(i, 0)][j][0], torch.Tensor) else convert_to_num(vector_representations[(i, 0)][j][0]) for i in range(num_sentences)})\n",
        "  return tuple(data)"
      ],
      "metadata": {
        "id": "XHwXyVCe9QIx"
      },
      "execution_count": 60,
      "outputs": []
    },
    {
      "cell_type": "code",
      "source": [
        "def get_representations_per_layer(num_sentences, vector_representations, layers = 12):\n",
        "  vectors_per_layer = {}\n",
        "  labels = {}\n",
        "  for l in range(layers):\n",
        "    #vectors_per_layer[l] = np.array([vector_representations[(i,l)]['vector'].detach().numpy() for i in range(num_sentences)])\n",
        "    vectors_per_layer[l] = np.array([vector_representations[(i,l)]['vector'] for i in range(num_sentences)])\n",
        "  labels = { i: vector_representations[(i,0)]['label'][0].item() for i in range(num_sentences)}\n",
        "  sequences = { i: vector_representations[(i,0)]['sequence'][0] for i in range(num_sentences)}\n",
        "  dimensions = { i: vector_representations[(i,0)]['dimension'][0].item() for i in range(num_sentences)}\n",
        "  return vectors_per_layer, sequences, labels, dimensions"
      ],
      "metadata": {
        "id": "a4WwvWvL8RSX"
      },
      "execution_count": null,
      "outputs": []
    },
    {
      "cell_type": "code",
      "source": [
        "vectors_per_layer, sequences, labels, dimensions = get_representations_per_layer(num_sentences, vector_representations)"
      ],
      "metadata": {
        "id": "QThMJPHu8UnB"
      },
      "execution_count": 61,
      "outputs": []
    },
    {
      "cell_type": "code",
      "source": [
        "# Guardar el diccionario en un archivo\n",
        "torch.save(vectors_per_layer, root_drive + BERT_PATH + str(hidden_size) + '_vectors_per_layer_ATT_LSTM_prueba_sick_2_borrame.pth')"
      ],
      "metadata": {
        "id": "TAKP_LaQ8VP0"
      },
      "execution_count": 62,
      "outputs": []
    }
  ],
  "metadata": {
    "colab": {
      "provenance": [],
      "gpuType": "T4"
    },
    "kernelspec": {
      "display_name": "Python 3",
      "name": "python3"
    },
    "language_info": {
      "codemirror_mode": {
        "name": "ipython",
        "version": 3
      },
      "file_extension": ".py",
      "mimetype": "text/x-python",
      "name": "python",
      "nbconvert_exporter": "python",
      "pygments_lexer": "ipython3",
      "version": "3.9.4"
    },
    "widgets": {
      "application/vnd.jupyter.widget-state+json": {
        "f927d3a153374700adb4acf80a5694e6": {
          "model_module": "@jupyter-widgets/controls",
          "model_name": "HBoxModel",
          "model_module_version": "1.5.0",
          "state": {
            "_dom_classes": [],
            "_model_module": "@jupyter-widgets/controls",
            "_model_module_version": "1.5.0",
            "_model_name": "HBoxModel",
            "_view_count": null,
            "_view_module": "@jupyter-widgets/controls",
            "_view_module_version": "1.5.0",
            "_view_name": "HBoxView",
            "box_style": "",
            "children": [
              "IPY_MODEL_2b2896a956254be3865330927aff8c16",
              "IPY_MODEL_b524528b41c24509a26df213158c911e",
              "IPY_MODEL_4f094d25f72e4e2a8025843bf7d3bca1"
            ],
            "layout": "IPY_MODEL_0eae842ed85e473aae7805396fd0eab5"
          }
        },
        "2b2896a956254be3865330927aff8c16": {
          "model_module": "@jupyter-widgets/controls",
          "model_name": "HTMLModel",
          "model_module_version": "1.5.0",
          "state": {
            "_dom_classes": [],
            "_model_module": "@jupyter-widgets/controls",
            "_model_module_version": "1.5.0",
            "_model_name": "HTMLModel",
            "_view_count": null,
            "_view_module": "@jupyter-widgets/controls",
            "_view_module_version": "1.5.0",
            "_view_name": "HTMLView",
            "description": "",
            "description_tooltip": null,
            "layout": "IPY_MODEL_77f951584264489592e8b201239c1049",
            "placeholder": "​",
            "style": "IPY_MODEL_6c7e64cd74ad4415ae5e2fc1e2315ba8",
            "value": "tokenizer_config.json: 100%"
          }
        },
        "b524528b41c24509a26df213158c911e": {
          "model_module": "@jupyter-widgets/controls",
          "model_name": "FloatProgressModel",
          "model_module_version": "1.5.0",
          "state": {
            "_dom_classes": [],
            "_model_module": "@jupyter-widgets/controls",
            "_model_module_version": "1.5.0",
            "_model_name": "FloatProgressModel",
            "_view_count": null,
            "_view_module": "@jupyter-widgets/controls",
            "_view_module_version": "1.5.0",
            "_view_name": "ProgressView",
            "bar_style": "success",
            "description": "",
            "description_tooltip": null,
            "layout": "IPY_MODEL_ae41d6206e5148cbbc53119384c0a3b1",
            "max": 28,
            "min": 0,
            "orientation": "horizontal",
            "style": "IPY_MODEL_f0bba56443714b0d87c028cbaf4d5950",
            "value": 28
          }
        },
        "4f094d25f72e4e2a8025843bf7d3bca1": {
          "model_module": "@jupyter-widgets/controls",
          "model_name": "HTMLModel",
          "model_module_version": "1.5.0",
          "state": {
            "_dom_classes": [],
            "_model_module": "@jupyter-widgets/controls",
            "_model_module_version": "1.5.0",
            "_model_name": "HTMLModel",
            "_view_count": null,
            "_view_module": "@jupyter-widgets/controls",
            "_view_module_version": "1.5.0",
            "_view_name": "HTMLView",
            "description": "",
            "description_tooltip": null,
            "layout": "IPY_MODEL_587fab453cff4a93bd76a2445a1507f4",
            "placeholder": "​",
            "style": "IPY_MODEL_e2456d0b8ea543d2aa5d3ae970c1172e",
            "value": " 28.0/28.0 [00:00&lt;00:00, 947B/s]"
          }
        },
        "0eae842ed85e473aae7805396fd0eab5": {
          "model_module": "@jupyter-widgets/base",
          "model_name": "LayoutModel",
          "model_module_version": "1.2.0",
          "state": {
            "_model_module": "@jupyter-widgets/base",
            "_model_module_version": "1.2.0",
            "_model_name": "LayoutModel",
            "_view_count": null,
            "_view_module": "@jupyter-widgets/base",
            "_view_module_version": "1.2.0",
            "_view_name": "LayoutView",
            "align_content": null,
            "align_items": null,
            "align_self": null,
            "border": null,
            "bottom": null,
            "display": null,
            "flex": null,
            "flex_flow": null,
            "grid_area": null,
            "grid_auto_columns": null,
            "grid_auto_flow": null,
            "grid_auto_rows": null,
            "grid_column": null,
            "grid_gap": null,
            "grid_row": null,
            "grid_template_areas": null,
            "grid_template_columns": null,
            "grid_template_rows": null,
            "height": null,
            "justify_content": null,
            "justify_items": null,
            "left": null,
            "margin": null,
            "max_height": null,
            "max_width": null,
            "min_height": null,
            "min_width": null,
            "object_fit": null,
            "object_position": null,
            "order": null,
            "overflow": null,
            "overflow_x": null,
            "overflow_y": null,
            "padding": null,
            "right": null,
            "top": null,
            "visibility": null,
            "width": null
          }
        },
        "77f951584264489592e8b201239c1049": {
          "model_module": "@jupyter-widgets/base",
          "model_name": "LayoutModel",
          "model_module_version": "1.2.0",
          "state": {
            "_model_module": "@jupyter-widgets/base",
            "_model_module_version": "1.2.0",
            "_model_name": "LayoutModel",
            "_view_count": null,
            "_view_module": "@jupyter-widgets/base",
            "_view_module_version": "1.2.0",
            "_view_name": "LayoutView",
            "align_content": null,
            "align_items": null,
            "align_self": null,
            "border": null,
            "bottom": null,
            "display": null,
            "flex": null,
            "flex_flow": null,
            "grid_area": null,
            "grid_auto_columns": null,
            "grid_auto_flow": null,
            "grid_auto_rows": null,
            "grid_column": null,
            "grid_gap": null,
            "grid_row": null,
            "grid_template_areas": null,
            "grid_template_columns": null,
            "grid_template_rows": null,
            "height": null,
            "justify_content": null,
            "justify_items": null,
            "left": null,
            "margin": null,
            "max_height": null,
            "max_width": null,
            "min_height": null,
            "min_width": null,
            "object_fit": null,
            "object_position": null,
            "order": null,
            "overflow": null,
            "overflow_x": null,
            "overflow_y": null,
            "padding": null,
            "right": null,
            "top": null,
            "visibility": null,
            "width": null
          }
        },
        "6c7e64cd74ad4415ae5e2fc1e2315ba8": {
          "model_module": "@jupyter-widgets/controls",
          "model_name": "DescriptionStyleModel",
          "model_module_version": "1.5.0",
          "state": {
            "_model_module": "@jupyter-widgets/controls",
            "_model_module_version": "1.5.0",
            "_model_name": "DescriptionStyleModel",
            "_view_count": null,
            "_view_module": "@jupyter-widgets/base",
            "_view_module_version": "1.2.0",
            "_view_name": "StyleView",
            "description_width": ""
          }
        },
        "ae41d6206e5148cbbc53119384c0a3b1": {
          "model_module": "@jupyter-widgets/base",
          "model_name": "LayoutModel",
          "model_module_version": "1.2.0",
          "state": {
            "_model_module": "@jupyter-widgets/base",
            "_model_module_version": "1.2.0",
            "_model_name": "LayoutModel",
            "_view_count": null,
            "_view_module": "@jupyter-widgets/base",
            "_view_module_version": "1.2.0",
            "_view_name": "LayoutView",
            "align_content": null,
            "align_items": null,
            "align_self": null,
            "border": null,
            "bottom": null,
            "display": null,
            "flex": null,
            "flex_flow": null,
            "grid_area": null,
            "grid_auto_columns": null,
            "grid_auto_flow": null,
            "grid_auto_rows": null,
            "grid_column": null,
            "grid_gap": null,
            "grid_row": null,
            "grid_template_areas": null,
            "grid_template_columns": null,
            "grid_template_rows": null,
            "height": null,
            "justify_content": null,
            "justify_items": null,
            "left": null,
            "margin": null,
            "max_height": null,
            "max_width": null,
            "min_height": null,
            "min_width": null,
            "object_fit": null,
            "object_position": null,
            "order": null,
            "overflow": null,
            "overflow_x": null,
            "overflow_y": null,
            "padding": null,
            "right": null,
            "top": null,
            "visibility": null,
            "width": null
          }
        },
        "f0bba56443714b0d87c028cbaf4d5950": {
          "model_module": "@jupyter-widgets/controls",
          "model_name": "ProgressStyleModel",
          "model_module_version": "1.5.0",
          "state": {
            "_model_module": "@jupyter-widgets/controls",
            "_model_module_version": "1.5.0",
            "_model_name": "ProgressStyleModel",
            "_view_count": null,
            "_view_module": "@jupyter-widgets/base",
            "_view_module_version": "1.2.0",
            "_view_name": "StyleView",
            "bar_color": null,
            "description_width": ""
          }
        },
        "587fab453cff4a93bd76a2445a1507f4": {
          "model_module": "@jupyter-widgets/base",
          "model_name": "LayoutModel",
          "model_module_version": "1.2.0",
          "state": {
            "_model_module": "@jupyter-widgets/base",
            "_model_module_version": "1.2.0",
            "_model_name": "LayoutModel",
            "_view_count": null,
            "_view_module": "@jupyter-widgets/base",
            "_view_module_version": "1.2.0",
            "_view_name": "LayoutView",
            "align_content": null,
            "align_items": null,
            "align_self": null,
            "border": null,
            "bottom": null,
            "display": null,
            "flex": null,
            "flex_flow": null,
            "grid_area": null,
            "grid_auto_columns": null,
            "grid_auto_flow": null,
            "grid_auto_rows": null,
            "grid_column": null,
            "grid_gap": null,
            "grid_row": null,
            "grid_template_areas": null,
            "grid_template_columns": null,
            "grid_template_rows": null,
            "height": null,
            "justify_content": null,
            "justify_items": null,
            "left": null,
            "margin": null,
            "max_height": null,
            "max_width": null,
            "min_height": null,
            "min_width": null,
            "object_fit": null,
            "object_position": null,
            "order": null,
            "overflow": null,
            "overflow_x": null,
            "overflow_y": null,
            "padding": null,
            "right": null,
            "top": null,
            "visibility": null,
            "width": null
          }
        },
        "e2456d0b8ea543d2aa5d3ae970c1172e": {
          "model_module": "@jupyter-widgets/controls",
          "model_name": "DescriptionStyleModel",
          "model_module_version": "1.5.0",
          "state": {
            "_model_module": "@jupyter-widgets/controls",
            "_model_module_version": "1.5.0",
            "_model_name": "DescriptionStyleModel",
            "_view_count": null,
            "_view_module": "@jupyter-widgets/base",
            "_view_module_version": "1.2.0",
            "_view_name": "StyleView",
            "description_width": ""
          }
        },
        "f436676afaa44b4a9447d9ad0db04ada": {
          "model_module": "@jupyter-widgets/controls",
          "model_name": "HBoxModel",
          "model_module_version": "1.5.0",
          "state": {
            "_dom_classes": [],
            "_model_module": "@jupyter-widgets/controls",
            "_model_module_version": "1.5.0",
            "_model_name": "HBoxModel",
            "_view_count": null,
            "_view_module": "@jupyter-widgets/controls",
            "_view_module_version": "1.5.0",
            "_view_name": "HBoxView",
            "box_style": "",
            "children": [
              "IPY_MODEL_fd45f224612c4478b5e57b3a4a9bd9b4",
              "IPY_MODEL_633c43874d5c4e21bd635ef08a8784ec",
              "IPY_MODEL_39ed88d201b34bbc89198d3da88204d2"
            ],
            "layout": "IPY_MODEL_0ec8ba42f6264bf88a03e018c013caa4"
          }
        },
        "fd45f224612c4478b5e57b3a4a9bd9b4": {
          "model_module": "@jupyter-widgets/controls",
          "model_name": "HTMLModel",
          "model_module_version": "1.5.0",
          "state": {
            "_dom_classes": [],
            "_model_module": "@jupyter-widgets/controls",
            "_model_module_version": "1.5.0",
            "_model_name": "HTMLModel",
            "_view_count": null,
            "_view_module": "@jupyter-widgets/controls",
            "_view_module_version": "1.5.0",
            "_view_name": "HTMLView",
            "description": "",
            "description_tooltip": null,
            "layout": "IPY_MODEL_1f76ddc48321408d96a7b9c71a45dc3c",
            "placeholder": "​",
            "style": "IPY_MODEL_8ee3195460a0467281333f5118a15126",
            "value": "vocab.txt: 100%"
          }
        },
        "633c43874d5c4e21bd635ef08a8784ec": {
          "model_module": "@jupyter-widgets/controls",
          "model_name": "FloatProgressModel",
          "model_module_version": "1.5.0",
          "state": {
            "_dom_classes": [],
            "_model_module": "@jupyter-widgets/controls",
            "_model_module_version": "1.5.0",
            "_model_name": "FloatProgressModel",
            "_view_count": null,
            "_view_module": "@jupyter-widgets/controls",
            "_view_module_version": "1.5.0",
            "_view_name": "ProgressView",
            "bar_style": "success",
            "description": "",
            "description_tooltip": null,
            "layout": "IPY_MODEL_a3d5e7734b8440508e399701ee0a0b7e",
            "max": 231508,
            "min": 0,
            "orientation": "horizontal",
            "style": "IPY_MODEL_0f8a9769c19a4f318a6389505fb8a6ba",
            "value": 231508
          }
        },
        "39ed88d201b34bbc89198d3da88204d2": {
          "model_module": "@jupyter-widgets/controls",
          "model_name": "HTMLModel",
          "model_module_version": "1.5.0",
          "state": {
            "_dom_classes": [],
            "_model_module": "@jupyter-widgets/controls",
            "_model_module_version": "1.5.0",
            "_model_name": "HTMLModel",
            "_view_count": null,
            "_view_module": "@jupyter-widgets/controls",
            "_view_module_version": "1.5.0",
            "_view_name": "HTMLView",
            "description": "",
            "description_tooltip": null,
            "layout": "IPY_MODEL_f817046fcad54956afa34fe0933e6c6b",
            "placeholder": "​",
            "style": "IPY_MODEL_133f5d922b69427c93ae07323ce885e9",
            "value": " 232k/232k [00:00&lt;00:00, 594kB/s]"
          }
        },
        "0ec8ba42f6264bf88a03e018c013caa4": {
          "model_module": "@jupyter-widgets/base",
          "model_name": "LayoutModel",
          "model_module_version": "1.2.0",
          "state": {
            "_model_module": "@jupyter-widgets/base",
            "_model_module_version": "1.2.0",
            "_model_name": "LayoutModel",
            "_view_count": null,
            "_view_module": "@jupyter-widgets/base",
            "_view_module_version": "1.2.0",
            "_view_name": "LayoutView",
            "align_content": null,
            "align_items": null,
            "align_self": null,
            "border": null,
            "bottom": null,
            "display": null,
            "flex": null,
            "flex_flow": null,
            "grid_area": null,
            "grid_auto_columns": null,
            "grid_auto_flow": null,
            "grid_auto_rows": null,
            "grid_column": null,
            "grid_gap": null,
            "grid_row": null,
            "grid_template_areas": null,
            "grid_template_columns": null,
            "grid_template_rows": null,
            "height": null,
            "justify_content": null,
            "justify_items": null,
            "left": null,
            "margin": null,
            "max_height": null,
            "max_width": null,
            "min_height": null,
            "min_width": null,
            "object_fit": null,
            "object_position": null,
            "order": null,
            "overflow": null,
            "overflow_x": null,
            "overflow_y": null,
            "padding": null,
            "right": null,
            "top": null,
            "visibility": null,
            "width": null
          }
        },
        "1f76ddc48321408d96a7b9c71a45dc3c": {
          "model_module": "@jupyter-widgets/base",
          "model_name": "LayoutModel",
          "model_module_version": "1.2.0",
          "state": {
            "_model_module": "@jupyter-widgets/base",
            "_model_module_version": "1.2.0",
            "_model_name": "LayoutModel",
            "_view_count": null,
            "_view_module": "@jupyter-widgets/base",
            "_view_module_version": "1.2.0",
            "_view_name": "LayoutView",
            "align_content": null,
            "align_items": null,
            "align_self": null,
            "border": null,
            "bottom": null,
            "display": null,
            "flex": null,
            "flex_flow": null,
            "grid_area": null,
            "grid_auto_columns": null,
            "grid_auto_flow": null,
            "grid_auto_rows": null,
            "grid_column": null,
            "grid_gap": null,
            "grid_row": null,
            "grid_template_areas": null,
            "grid_template_columns": null,
            "grid_template_rows": null,
            "height": null,
            "justify_content": null,
            "justify_items": null,
            "left": null,
            "margin": null,
            "max_height": null,
            "max_width": null,
            "min_height": null,
            "min_width": null,
            "object_fit": null,
            "object_position": null,
            "order": null,
            "overflow": null,
            "overflow_x": null,
            "overflow_y": null,
            "padding": null,
            "right": null,
            "top": null,
            "visibility": null,
            "width": null
          }
        },
        "8ee3195460a0467281333f5118a15126": {
          "model_module": "@jupyter-widgets/controls",
          "model_name": "DescriptionStyleModel",
          "model_module_version": "1.5.0",
          "state": {
            "_model_module": "@jupyter-widgets/controls",
            "_model_module_version": "1.5.0",
            "_model_name": "DescriptionStyleModel",
            "_view_count": null,
            "_view_module": "@jupyter-widgets/base",
            "_view_module_version": "1.2.0",
            "_view_name": "StyleView",
            "description_width": ""
          }
        },
        "a3d5e7734b8440508e399701ee0a0b7e": {
          "model_module": "@jupyter-widgets/base",
          "model_name": "LayoutModel",
          "model_module_version": "1.2.0",
          "state": {
            "_model_module": "@jupyter-widgets/base",
            "_model_module_version": "1.2.0",
            "_model_name": "LayoutModel",
            "_view_count": null,
            "_view_module": "@jupyter-widgets/base",
            "_view_module_version": "1.2.0",
            "_view_name": "LayoutView",
            "align_content": null,
            "align_items": null,
            "align_self": null,
            "border": null,
            "bottom": null,
            "display": null,
            "flex": null,
            "flex_flow": null,
            "grid_area": null,
            "grid_auto_columns": null,
            "grid_auto_flow": null,
            "grid_auto_rows": null,
            "grid_column": null,
            "grid_gap": null,
            "grid_row": null,
            "grid_template_areas": null,
            "grid_template_columns": null,
            "grid_template_rows": null,
            "height": null,
            "justify_content": null,
            "justify_items": null,
            "left": null,
            "margin": null,
            "max_height": null,
            "max_width": null,
            "min_height": null,
            "min_width": null,
            "object_fit": null,
            "object_position": null,
            "order": null,
            "overflow": null,
            "overflow_x": null,
            "overflow_y": null,
            "padding": null,
            "right": null,
            "top": null,
            "visibility": null,
            "width": null
          }
        },
        "0f8a9769c19a4f318a6389505fb8a6ba": {
          "model_module": "@jupyter-widgets/controls",
          "model_name": "ProgressStyleModel",
          "model_module_version": "1.5.0",
          "state": {
            "_model_module": "@jupyter-widgets/controls",
            "_model_module_version": "1.5.0",
            "_model_name": "ProgressStyleModel",
            "_view_count": null,
            "_view_module": "@jupyter-widgets/base",
            "_view_module_version": "1.2.0",
            "_view_name": "StyleView",
            "bar_color": null,
            "description_width": ""
          }
        },
        "f817046fcad54956afa34fe0933e6c6b": {
          "model_module": "@jupyter-widgets/base",
          "model_name": "LayoutModel",
          "model_module_version": "1.2.0",
          "state": {
            "_model_module": "@jupyter-widgets/base",
            "_model_module_version": "1.2.0",
            "_model_name": "LayoutModel",
            "_view_count": null,
            "_view_module": "@jupyter-widgets/base",
            "_view_module_version": "1.2.0",
            "_view_name": "LayoutView",
            "align_content": null,
            "align_items": null,
            "align_self": null,
            "border": null,
            "bottom": null,
            "display": null,
            "flex": null,
            "flex_flow": null,
            "grid_area": null,
            "grid_auto_columns": null,
            "grid_auto_flow": null,
            "grid_auto_rows": null,
            "grid_column": null,
            "grid_gap": null,
            "grid_row": null,
            "grid_template_areas": null,
            "grid_template_columns": null,
            "grid_template_rows": null,
            "height": null,
            "justify_content": null,
            "justify_items": null,
            "left": null,
            "margin": null,
            "max_height": null,
            "max_width": null,
            "min_height": null,
            "min_width": null,
            "object_fit": null,
            "object_position": null,
            "order": null,
            "overflow": null,
            "overflow_x": null,
            "overflow_y": null,
            "padding": null,
            "right": null,
            "top": null,
            "visibility": null,
            "width": null
          }
        },
        "133f5d922b69427c93ae07323ce885e9": {
          "model_module": "@jupyter-widgets/controls",
          "model_name": "DescriptionStyleModel",
          "model_module_version": "1.5.0",
          "state": {
            "_model_module": "@jupyter-widgets/controls",
            "_model_module_version": "1.5.0",
            "_model_name": "DescriptionStyleModel",
            "_view_count": null,
            "_view_module": "@jupyter-widgets/base",
            "_view_module_version": "1.2.0",
            "_view_name": "StyleView",
            "description_width": ""
          }
        },
        "833952e0ecb94007be9bce14eb6027df": {
          "model_module": "@jupyter-widgets/controls",
          "model_name": "HBoxModel",
          "model_module_version": "1.5.0",
          "state": {
            "_dom_classes": [],
            "_model_module": "@jupyter-widgets/controls",
            "_model_module_version": "1.5.0",
            "_model_name": "HBoxModel",
            "_view_count": null,
            "_view_module": "@jupyter-widgets/controls",
            "_view_module_version": "1.5.0",
            "_view_name": "HBoxView",
            "box_style": "",
            "children": [
              "IPY_MODEL_60f0fb46ec3b4d84a3367357ec54d5b7",
              "IPY_MODEL_ddeced5f992a400c9e4ee12b60819b1b",
              "IPY_MODEL_34a937a2a731447daa535216d5da9dfc"
            ],
            "layout": "IPY_MODEL_5a322f8628184cb2bfc785b01589e810"
          }
        },
        "60f0fb46ec3b4d84a3367357ec54d5b7": {
          "model_module": "@jupyter-widgets/controls",
          "model_name": "HTMLModel",
          "model_module_version": "1.5.0",
          "state": {
            "_dom_classes": [],
            "_model_module": "@jupyter-widgets/controls",
            "_model_module_version": "1.5.0",
            "_model_name": "HTMLModel",
            "_view_count": null,
            "_view_module": "@jupyter-widgets/controls",
            "_view_module_version": "1.5.0",
            "_view_name": "HTMLView",
            "description": "",
            "description_tooltip": null,
            "layout": "IPY_MODEL_03bf94ec854446bd95c58854c31f9bd2",
            "placeholder": "​",
            "style": "IPY_MODEL_fe568bc42c6a4ad2ab196b87edab42aa",
            "value": "tokenizer.json: 100%"
          }
        },
        "ddeced5f992a400c9e4ee12b60819b1b": {
          "model_module": "@jupyter-widgets/controls",
          "model_name": "FloatProgressModel",
          "model_module_version": "1.5.0",
          "state": {
            "_dom_classes": [],
            "_model_module": "@jupyter-widgets/controls",
            "_model_module_version": "1.5.0",
            "_model_name": "FloatProgressModel",
            "_view_count": null,
            "_view_module": "@jupyter-widgets/controls",
            "_view_module_version": "1.5.0",
            "_view_name": "ProgressView",
            "bar_style": "success",
            "description": "",
            "description_tooltip": null,
            "layout": "IPY_MODEL_a81c8e49517d402da6dcf652e1c5cc7b",
            "max": 466062,
            "min": 0,
            "orientation": "horizontal",
            "style": "IPY_MODEL_6d54bc6a4e2a4c738df54f95011f6109",
            "value": 466062
          }
        },
        "34a937a2a731447daa535216d5da9dfc": {
          "model_module": "@jupyter-widgets/controls",
          "model_name": "HTMLModel",
          "model_module_version": "1.5.0",
          "state": {
            "_dom_classes": [],
            "_model_module": "@jupyter-widgets/controls",
            "_model_module_version": "1.5.0",
            "_model_name": "HTMLModel",
            "_view_count": null,
            "_view_module": "@jupyter-widgets/controls",
            "_view_module_version": "1.5.0",
            "_view_name": "HTMLView",
            "description": "",
            "description_tooltip": null,
            "layout": "IPY_MODEL_89fdd7231fcd4e91a6c07be1e358fbc5",
            "placeholder": "​",
            "style": "IPY_MODEL_49986cb345cd4cbda48181176da8b871",
            "value": " 466k/466k [00:00&lt;00:00, 803kB/s]"
          }
        },
        "5a322f8628184cb2bfc785b01589e810": {
          "model_module": "@jupyter-widgets/base",
          "model_name": "LayoutModel",
          "model_module_version": "1.2.0",
          "state": {
            "_model_module": "@jupyter-widgets/base",
            "_model_module_version": "1.2.0",
            "_model_name": "LayoutModel",
            "_view_count": null,
            "_view_module": "@jupyter-widgets/base",
            "_view_module_version": "1.2.0",
            "_view_name": "LayoutView",
            "align_content": null,
            "align_items": null,
            "align_self": null,
            "border": null,
            "bottom": null,
            "display": null,
            "flex": null,
            "flex_flow": null,
            "grid_area": null,
            "grid_auto_columns": null,
            "grid_auto_flow": null,
            "grid_auto_rows": null,
            "grid_column": null,
            "grid_gap": null,
            "grid_row": null,
            "grid_template_areas": null,
            "grid_template_columns": null,
            "grid_template_rows": null,
            "height": null,
            "justify_content": null,
            "justify_items": null,
            "left": null,
            "margin": null,
            "max_height": null,
            "max_width": null,
            "min_height": null,
            "min_width": null,
            "object_fit": null,
            "object_position": null,
            "order": null,
            "overflow": null,
            "overflow_x": null,
            "overflow_y": null,
            "padding": null,
            "right": null,
            "top": null,
            "visibility": null,
            "width": null
          }
        },
        "03bf94ec854446bd95c58854c31f9bd2": {
          "model_module": "@jupyter-widgets/base",
          "model_name": "LayoutModel",
          "model_module_version": "1.2.0",
          "state": {
            "_model_module": "@jupyter-widgets/base",
            "_model_module_version": "1.2.0",
            "_model_name": "LayoutModel",
            "_view_count": null,
            "_view_module": "@jupyter-widgets/base",
            "_view_module_version": "1.2.0",
            "_view_name": "LayoutView",
            "align_content": null,
            "align_items": null,
            "align_self": null,
            "border": null,
            "bottom": null,
            "display": null,
            "flex": null,
            "flex_flow": null,
            "grid_area": null,
            "grid_auto_columns": null,
            "grid_auto_flow": null,
            "grid_auto_rows": null,
            "grid_column": null,
            "grid_gap": null,
            "grid_row": null,
            "grid_template_areas": null,
            "grid_template_columns": null,
            "grid_template_rows": null,
            "height": null,
            "justify_content": null,
            "justify_items": null,
            "left": null,
            "margin": null,
            "max_height": null,
            "max_width": null,
            "min_height": null,
            "min_width": null,
            "object_fit": null,
            "object_position": null,
            "order": null,
            "overflow": null,
            "overflow_x": null,
            "overflow_y": null,
            "padding": null,
            "right": null,
            "top": null,
            "visibility": null,
            "width": null
          }
        },
        "fe568bc42c6a4ad2ab196b87edab42aa": {
          "model_module": "@jupyter-widgets/controls",
          "model_name": "DescriptionStyleModel",
          "model_module_version": "1.5.0",
          "state": {
            "_model_module": "@jupyter-widgets/controls",
            "_model_module_version": "1.5.0",
            "_model_name": "DescriptionStyleModel",
            "_view_count": null,
            "_view_module": "@jupyter-widgets/base",
            "_view_module_version": "1.2.0",
            "_view_name": "StyleView",
            "description_width": ""
          }
        },
        "a81c8e49517d402da6dcf652e1c5cc7b": {
          "model_module": "@jupyter-widgets/base",
          "model_name": "LayoutModel",
          "model_module_version": "1.2.0",
          "state": {
            "_model_module": "@jupyter-widgets/base",
            "_model_module_version": "1.2.0",
            "_model_name": "LayoutModel",
            "_view_count": null,
            "_view_module": "@jupyter-widgets/base",
            "_view_module_version": "1.2.0",
            "_view_name": "LayoutView",
            "align_content": null,
            "align_items": null,
            "align_self": null,
            "border": null,
            "bottom": null,
            "display": null,
            "flex": null,
            "flex_flow": null,
            "grid_area": null,
            "grid_auto_columns": null,
            "grid_auto_flow": null,
            "grid_auto_rows": null,
            "grid_column": null,
            "grid_gap": null,
            "grid_row": null,
            "grid_template_areas": null,
            "grid_template_columns": null,
            "grid_template_rows": null,
            "height": null,
            "justify_content": null,
            "justify_items": null,
            "left": null,
            "margin": null,
            "max_height": null,
            "max_width": null,
            "min_height": null,
            "min_width": null,
            "object_fit": null,
            "object_position": null,
            "order": null,
            "overflow": null,
            "overflow_x": null,
            "overflow_y": null,
            "padding": null,
            "right": null,
            "top": null,
            "visibility": null,
            "width": null
          }
        },
        "6d54bc6a4e2a4c738df54f95011f6109": {
          "model_module": "@jupyter-widgets/controls",
          "model_name": "ProgressStyleModel",
          "model_module_version": "1.5.0",
          "state": {
            "_model_module": "@jupyter-widgets/controls",
            "_model_module_version": "1.5.0",
            "_model_name": "ProgressStyleModel",
            "_view_count": null,
            "_view_module": "@jupyter-widgets/base",
            "_view_module_version": "1.2.0",
            "_view_name": "StyleView",
            "bar_color": null,
            "description_width": ""
          }
        },
        "89fdd7231fcd4e91a6c07be1e358fbc5": {
          "model_module": "@jupyter-widgets/base",
          "model_name": "LayoutModel",
          "model_module_version": "1.2.0",
          "state": {
            "_model_module": "@jupyter-widgets/base",
            "_model_module_version": "1.2.0",
            "_model_name": "LayoutModel",
            "_view_count": null,
            "_view_module": "@jupyter-widgets/base",
            "_view_module_version": "1.2.0",
            "_view_name": "LayoutView",
            "align_content": null,
            "align_items": null,
            "align_self": null,
            "border": null,
            "bottom": null,
            "display": null,
            "flex": null,
            "flex_flow": null,
            "grid_area": null,
            "grid_auto_columns": null,
            "grid_auto_flow": null,
            "grid_auto_rows": null,
            "grid_column": null,
            "grid_gap": null,
            "grid_row": null,
            "grid_template_areas": null,
            "grid_template_columns": null,
            "grid_template_rows": null,
            "height": null,
            "justify_content": null,
            "justify_items": null,
            "left": null,
            "margin": null,
            "max_height": null,
            "max_width": null,
            "min_height": null,
            "min_width": null,
            "object_fit": null,
            "object_position": null,
            "order": null,
            "overflow": null,
            "overflow_x": null,
            "overflow_y": null,
            "padding": null,
            "right": null,
            "top": null,
            "visibility": null,
            "width": null
          }
        },
        "49986cb345cd4cbda48181176da8b871": {
          "model_module": "@jupyter-widgets/controls",
          "model_name": "DescriptionStyleModel",
          "model_module_version": "1.5.0",
          "state": {
            "_model_module": "@jupyter-widgets/controls",
            "_model_module_version": "1.5.0",
            "_model_name": "DescriptionStyleModel",
            "_view_count": null,
            "_view_module": "@jupyter-widgets/base",
            "_view_module_version": "1.2.0",
            "_view_name": "StyleView",
            "description_width": ""
          }
        },
        "abf3fb80ceb340bc90489a40e3e497b0": {
          "model_module": "@jupyter-widgets/controls",
          "model_name": "HBoxModel",
          "model_module_version": "1.5.0",
          "state": {
            "_dom_classes": [],
            "_model_module": "@jupyter-widgets/controls",
            "_model_module_version": "1.5.0",
            "_model_name": "HBoxModel",
            "_view_count": null,
            "_view_module": "@jupyter-widgets/controls",
            "_view_module_version": "1.5.0",
            "_view_name": "HBoxView",
            "box_style": "",
            "children": [
              "IPY_MODEL_8a7a5e721958409693dec0c7c19652eb",
              "IPY_MODEL_f301b816b2794aa6a210ae4b0ad14742",
              "IPY_MODEL_e5f3a2b9454d43c2804d3ccc1798c029"
            ],
            "layout": "IPY_MODEL_51bb4be967f142e8967c02e53819117e"
          }
        },
        "8a7a5e721958409693dec0c7c19652eb": {
          "model_module": "@jupyter-widgets/controls",
          "model_name": "HTMLModel",
          "model_module_version": "1.5.0",
          "state": {
            "_dom_classes": [],
            "_model_module": "@jupyter-widgets/controls",
            "_model_module_version": "1.5.0",
            "_model_name": "HTMLModel",
            "_view_count": null,
            "_view_module": "@jupyter-widgets/controls",
            "_view_module_version": "1.5.0",
            "_view_name": "HTMLView",
            "description": "",
            "description_tooltip": null,
            "layout": "IPY_MODEL_334321e5056e45398541bc313a3577df",
            "placeholder": "​",
            "style": "IPY_MODEL_e4e75e20b90e43d59a46a4a81f243bb4",
            "value": "config.json: 100%"
          }
        },
        "f301b816b2794aa6a210ae4b0ad14742": {
          "model_module": "@jupyter-widgets/controls",
          "model_name": "FloatProgressModel",
          "model_module_version": "1.5.0",
          "state": {
            "_dom_classes": [],
            "_model_module": "@jupyter-widgets/controls",
            "_model_module_version": "1.5.0",
            "_model_name": "FloatProgressModel",
            "_view_count": null,
            "_view_module": "@jupyter-widgets/controls",
            "_view_module_version": "1.5.0",
            "_view_name": "ProgressView",
            "bar_style": "success",
            "description": "",
            "description_tooltip": null,
            "layout": "IPY_MODEL_5ed592fcad2541c4b534667005770c73",
            "max": 570,
            "min": 0,
            "orientation": "horizontal",
            "style": "IPY_MODEL_661cbd44f0c642a6bda250fdc034f3ef",
            "value": 570
          }
        },
        "e5f3a2b9454d43c2804d3ccc1798c029": {
          "model_module": "@jupyter-widgets/controls",
          "model_name": "HTMLModel",
          "model_module_version": "1.5.0",
          "state": {
            "_dom_classes": [],
            "_model_module": "@jupyter-widgets/controls",
            "_model_module_version": "1.5.0",
            "_model_name": "HTMLModel",
            "_view_count": null,
            "_view_module": "@jupyter-widgets/controls",
            "_view_module_version": "1.5.0",
            "_view_name": "HTMLView",
            "description": "",
            "description_tooltip": null,
            "layout": "IPY_MODEL_8fdf8d72858e45aca38a2a116b3665de",
            "placeholder": "​",
            "style": "IPY_MODEL_47c17725d96a486d9236e1d72d2df4a7",
            "value": " 570/570 [00:00&lt;00:00, 10.6kB/s]"
          }
        },
        "51bb4be967f142e8967c02e53819117e": {
          "model_module": "@jupyter-widgets/base",
          "model_name": "LayoutModel",
          "model_module_version": "1.2.0",
          "state": {
            "_model_module": "@jupyter-widgets/base",
            "_model_module_version": "1.2.0",
            "_model_name": "LayoutModel",
            "_view_count": null,
            "_view_module": "@jupyter-widgets/base",
            "_view_module_version": "1.2.0",
            "_view_name": "LayoutView",
            "align_content": null,
            "align_items": null,
            "align_self": null,
            "border": null,
            "bottom": null,
            "display": null,
            "flex": null,
            "flex_flow": null,
            "grid_area": null,
            "grid_auto_columns": null,
            "grid_auto_flow": null,
            "grid_auto_rows": null,
            "grid_column": null,
            "grid_gap": null,
            "grid_row": null,
            "grid_template_areas": null,
            "grid_template_columns": null,
            "grid_template_rows": null,
            "height": null,
            "justify_content": null,
            "justify_items": null,
            "left": null,
            "margin": null,
            "max_height": null,
            "max_width": null,
            "min_height": null,
            "min_width": null,
            "object_fit": null,
            "object_position": null,
            "order": null,
            "overflow": null,
            "overflow_x": null,
            "overflow_y": null,
            "padding": null,
            "right": null,
            "top": null,
            "visibility": null,
            "width": null
          }
        },
        "334321e5056e45398541bc313a3577df": {
          "model_module": "@jupyter-widgets/base",
          "model_name": "LayoutModel",
          "model_module_version": "1.2.0",
          "state": {
            "_model_module": "@jupyter-widgets/base",
            "_model_module_version": "1.2.0",
            "_model_name": "LayoutModel",
            "_view_count": null,
            "_view_module": "@jupyter-widgets/base",
            "_view_module_version": "1.2.0",
            "_view_name": "LayoutView",
            "align_content": null,
            "align_items": null,
            "align_self": null,
            "border": null,
            "bottom": null,
            "display": null,
            "flex": null,
            "flex_flow": null,
            "grid_area": null,
            "grid_auto_columns": null,
            "grid_auto_flow": null,
            "grid_auto_rows": null,
            "grid_column": null,
            "grid_gap": null,
            "grid_row": null,
            "grid_template_areas": null,
            "grid_template_columns": null,
            "grid_template_rows": null,
            "height": null,
            "justify_content": null,
            "justify_items": null,
            "left": null,
            "margin": null,
            "max_height": null,
            "max_width": null,
            "min_height": null,
            "min_width": null,
            "object_fit": null,
            "object_position": null,
            "order": null,
            "overflow": null,
            "overflow_x": null,
            "overflow_y": null,
            "padding": null,
            "right": null,
            "top": null,
            "visibility": null,
            "width": null
          }
        },
        "e4e75e20b90e43d59a46a4a81f243bb4": {
          "model_module": "@jupyter-widgets/controls",
          "model_name": "DescriptionStyleModel",
          "model_module_version": "1.5.0",
          "state": {
            "_model_module": "@jupyter-widgets/controls",
            "_model_module_version": "1.5.0",
            "_model_name": "DescriptionStyleModel",
            "_view_count": null,
            "_view_module": "@jupyter-widgets/base",
            "_view_module_version": "1.2.0",
            "_view_name": "StyleView",
            "description_width": ""
          }
        },
        "5ed592fcad2541c4b534667005770c73": {
          "model_module": "@jupyter-widgets/base",
          "model_name": "LayoutModel",
          "model_module_version": "1.2.0",
          "state": {
            "_model_module": "@jupyter-widgets/base",
            "_model_module_version": "1.2.0",
            "_model_name": "LayoutModel",
            "_view_count": null,
            "_view_module": "@jupyter-widgets/base",
            "_view_module_version": "1.2.0",
            "_view_name": "LayoutView",
            "align_content": null,
            "align_items": null,
            "align_self": null,
            "border": null,
            "bottom": null,
            "display": null,
            "flex": null,
            "flex_flow": null,
            "grid_area": null,
            "grid_auto_columns": null,
            "grid_auto_flow": null,
            "grid_auto_rows": null,
            "grid_column": null,
            "grid_gap": null,
            "grid_row": null,
            "grid_template_areas": null,
            "grid_template_columns": null,
            "grid_template_rows": null,
            "height": null,
            "justify_content": null,
            "justify_items": null,
            "left": null,
            "margin": null,
            "max_height": null,
            "max_width": null,
            "min_height": null,
            "min_width": null,
            "object_fit": null,
            "object_position": null,
            "order": null,
            "overflow": null,
            "overflow_x": null,
            "overflow_y": null,
            "padding": null,
            "right": null,
            "top": null,
            "visibility": null,
            "width": null
          }
        },
        "661cbd44f0c642a6bda250fdc034f3ef": {
          "model_module": "@jupyter-widgets/controls",
          "model_name": "ProgressStyleModel",
          "model_module_version": "1.5.0",
          "state": {
            "_model_module": "@jupyter-widgets/controls",
            "_model_module_version": "1.5.0",
            "_model_name": "ProgressStyleModel",
            "_view_count": null,
            "_view_module": "@jupyter-widgets/base",
            "_view_module_version": "1.2.0",
            "_view_name": "StyleView",
            "bar_color": null,
            "description_width": ""
          }
        },
        "8fdf8d72858e45aca38a2a116b3665de": {
          "model_module": "@jupyter-widgets/base",
          "model_name": "LayoutModel",
          "model_module_version": "1.2.0",
          "state": {
            "_model_module": "@jupyter-widgets/base",
            "_model_module_version": "1.2.0",
            "_model_name": "LayoutModel",
            "_view_count": null,
            "_view_module": "@jupyter-widgets/base",
            "_view_module_version": "1.2.0",
            "_view_name": "LayoutView",
            "align_content": null,
            "align_items": null,
            "align_self": null,
            "border": null,
            "bottom": null,
            "display": null,
            "flex": null,
            "flex_flow": null,
            "grid_area": null,
            "grid_auto_columns": null,
            "grid_auto_flow": null,
            "grid_auto_rows": null,
            "grid_column": null,
            "grid_gap": null,
            "grid_row": null,
            "grid_template_areas": null,
            "grid_template_columns": null,
            "grid_template_rows": null,
            "height": null,
            "justify_content": null,
            "justify_items": null,
            "left": null,
            "margin": null,
            "max_height": null,
            "max_width": null,
            "min_height": null,
            "min_width": null,
            "object_fit": null,
            "object_position": null,
            "order": null,
            "overflow": null,
            "overflow_x": null,
            "overflow_y": null,
            "padding": null,
            "right": null,
            "top": null,
            "visibility": null,
            "width": null
          }
        },
        "47c17725d96a486d9236e1d72d2df4a7": {
          "model_module": "@jupyter-widgets/controls",
          "model_name": "DescriptionStyleModel",
          "model_module_version": "1.5.0",
          "state": {
            "_model_module": "@jupyter-widgets/controls",
            "_model_module_version": "1.5.0",
            "_model_name": "DescriptionStyleModel",
            "_view_count": null,
            "_view_module": "@jupyter-widgets/base",
            "_view_module_version": "1.2.0",
            "_view_name": "StyleView",
            "description_width": ""
          }
        },
        "3324bc689cb2401883eadbd9b38d7760": {
          "model_module": "@jupyter-widgets/controls",
          "model_name": "HBoxModel",
          "model_module_version": "1.5.0",
          "state": {
            "_dom_classes": [],
            "_model_module": "@jupyter-widgets/controls",
            "_model_module_version": "1.5.0",
            "_model_name": "HBoxModel",
            "_view_count": null,
            "_view_module": "@jupyter-widgets/controls",
            "_view_module_version": "1.5.0",
            "_view_name": "HBoxView",
            "box_style": "",
            "children": [
              "IPY_MODEL_0b894b4bf146472a9e9757083768f8bc",
              "IPY_MODEL_2df495330cc8441abc7c8968ebb2fc37",
              "IPY_MODEL_fe4d76e1d1b84a54bd8018350650f538"
            ],
            "layout": "IPY_MODEL_72a1c060361e44a1857a15f4fd5d2649"
          }
        },
        "0b894b4bf146472a9e9757083768f8bc": {
          "model_module": "@jupyter-widgets/controls",
          "model_name": "HTMLModel",
          "model_module_version": "1.5.0",
          "state": {
            "_dom_classes": [],
            "_model_module": "@jupyter-widgets/controls",
            "_model_module_version": "1.5.0",
            "_model_name": "HTMLModel",
            "_view_count": null,
            "_view_module": "@jupyter-widgets/controls",
            "_view_module_version": "1.5.0",
            "_view_name": "HTMLView",
            "description": "",
            "description_tooltip": null,
            "layout": "IPY_MODEL_af5a19dc8a5045f1b59c3c3d98a91d6b",
            "placeholder": "​",
            "style": "IPY_MODEL_53503790b2bd499cba56a5fb6a797143",
            "value": "model.safetensors: 100%"
          }
        },
        "2df495330cc8441abc7c8968ebb2fc37": {
          "model_module": "@jupyter-widgets/controls",
          "model_name": "FloatProgressModel",
          "model_module_version": "1.5.0",
          "state": {
            "_dom_classes": [],
            "_model_module": "@jupyter-widgets/controls",
            "_model_module_version": "1.5.0",
            "_model_name": "FloatProgressModel",
            "_view_count": null,
            "_view_module": "@jupyter-widgets/controls",
            "_view_module_version": "1.5.0",
            "_view_name": "ProgressView",
            "bar_style": "success",
            "description": "",
            "description_tooltip": null,
            "layout": "IPY_MODEL_f0f5d7b86bac4a61b59f538ff246772a",
            "max": 440449768,
            "min": 0,
            "orientation": "horizontal",
            "style": "IPY_MODEL_10a3b68913c14f53af833585f933b3f7",
            "value": 440449768
          }
        },
        "fe4d76e1d1b84a54bd8018350650f538": {
          "model_module": "@jupyter-widgets/controls",
          "model_name": "HTMLModel",
          "model_module_version": "1.5.0",
          "state": {
            "_dom_classes": [],
            "_model_module": "@jupyter-widgets/controls",
            "_model_module_version": "1.5.0",
            "_model_name": "HTMLModel",
            "_view_count": null,
            "_view_module": "@jupyter-widgets/controls",
            "_view_module_version": "1.5.0",
            "_view_name": "HTMLView",
            "description": "",
            "description_tooltip": null,
            "layout": "IPY_MODEL_9962541e233e47de9af261e971c4e50d",
            "placeholder": "​",
            "style": "IPY_MODEL_0c6c4f3b36d740118edcd26d66fb71a8",
            "value": " 440M/440M [00:06&lt;00:00, 117MB/s]"
          }
        },
        "72a1c060361e44a1857a15f4fd5d2649": {
          "model_module": "@jupyter-widgets/base",
          "model_name": "LayoutModel",
          "model_module_version": "1.2.0",
          "state": {
            "_model_module": "@jupyter-widgets/base",
            "_model_module_version": "1.2.0",
            "_model_name": "LayoutModel",
            "_view_count": null,
            "_view_module": "@jupyter-widgets/base",
            "_view_module_version": "1.2.0",
            "_view_name": "LayoutView",
            "align_content": null,
            "align_items": null,
            "align_self": null,
            "border": null,
            "bottom": null,
            "display": null,
            "flex": null,
            "flex_flow": null,
            "grid_area": null,
            "grid_auto_columns": null,
            "grid_auto_flow": null,
            "grid_auto_rows": null,
            "grid_column": null,
            "grid_gap": null,
            "grid_row": null,
            "grid_template_areas": null,
            "grid_template_columns": null,
            "grid_template_rows": null,
            "height": null,
            "justify_content": null,
            "justify_items": null,
            "left": null,
            "margin": null,
            "max_height": null,
            "max_width": null,
            "min_height": null,
            "min_width": null,
            "object_fit": null,
            "object_position": null,
            "order": null,
            "overflow": null,
            "overflow_x": null,
            "overflow_y": null,
            "padding": null,
            "right": null,
            "top": null,
            "visibility": null,
            "width": null
          }
        },
        "af5a19dc8a5045f1b59c3c3d98a91d6b": {
          "model_module": "@jupyter-widgets/base",
          "model_name": "LayoutModel",
          "model_module_version": "1.2.0",
          "state": {
            "_model_module": "@jupyter-widgets/base",
            "_model_module_version": "1.2.0",
            "_model_name": "LayoutModel",
            "_view_count": null,
            "_view_module": "@jupyter-widgets/base",
            "_view_module_version": "1.2.0",
            "_view_name": "LayoutView",
            "align_content": null,
            "align_items": null,
            "align_self": null,
            "border": null,
            "bottom": null,
            "display": null,
            "flex": null,
            "flex_flow": null,
            "grid_area": null,
            "grid_auto_columns": null,
            "grid_auto_flow": null,
            "grid_auto_rows": null,
            "grid_column": null,
            "grid_gap": null,
            "grid_row": null,
            "grid_template_areas": null,
            "grid_template_columns": null,
            "grid_template_rows": null,
            "height": null,
            "justify_content": null,
            "justify_items": null,
            "left": null,
            "margin": null,
            "max_height": null,
            "max_width": null,
            "min_height": null,
            "min_width": null,
            "object_fit": null,
            "object_position": null,
            "order": null,
            "overflow": null,
            "overflow_x": null,
            "overflow_y": null,
            "padding": null,
            "right": null,
            "top": null,
            "visibility": null,
            "width": null
          }
        },
        "53503790b2bd499cba56a5fb6a797143": {
          "model_module": "@jupyter-widgets/controls",
          "model_name": "DescriptionStyleModel",
          "model_module_version": "1.5.0",
          "state": {
            "_model_module": "@jupyter-widgets/controls",
            "_model_module_version": "1.5.0",
            "_model_name": "DescriptionStyleModel",
            "_view_count": null,
            "_view_module": "@jupyter-widgets/base",
            "_view_module_version": "1.2.0",
            "_view_name": "StyleView",
            "description_width": ""
          }
        },
        "f0f5d7b86bac4a61b59f538ff246772a": {
          "model_module": "@jupyter-widgets/base",
          "model_name": "LayoutModel",
          "model_module_version": "1.2.0",
          "state": {
            "_model_module": "@jupyter-widgets/base",
            "_model_module_version": "1.2.0",
            "_model_name": "LayoutModel",
            "_view_count": null,
            "_view_module": "@jupyter-widgets/base",
            "_view_module_version": "1.2.0",
            "_view_name": "LayoutView",
            "align_content": null,
            "align_items": null,
            "align_self": null,
            "border": null,
            "bottom": null,
            "display": null,
            "flex": null,
            "flex_flow": null,
            "grid_area": null,
            "grid_auto_columns": null,
            "grid_auto_flow": null,
            "grid_auto_rows": null,
            "grid_column": null,
            "grid_gap": null,
            "grid_row": null,
            "grid_template_areas": null,
            "grid_template_columns": null,
            "grid_template_rows": null,
            "height": null,
            "justify_content": null,
            "justify_items": null,
            "left": null,
            "margin": null,
            "max_height": null,
            "max_width": null,
            "min_height": null,
            "min_width": null,
            "object_fit": null,
            "object_position": null,
            "order": null,
            "overflow": null,
            "overflow_x": null,
            "overflow_y": null,
            "padding": null,
            "right": null,
            "top": null,
            "visibility": null,
            "width": null
          }
        },
        "10a3b68913c14f53af833585f933b3f7": {
          "model_module": "@jupyter-widgets/controls",
          "model_name": "ProgressStyleModel",
          "model_module_version": "1.5.0",
          "state": {
            "_model_module": "@jupyter-widgets/controls",
            "_model_module_version": "1.5.0",
            "_model_name": "ProgressStyleModel",
            "_view_count": null,
            "_view_module": "@jupyter-widgets/base",
            "_view_module_version": "1.2.0",
            "_view_name": "StyleView",
            "bar_color": null,
            "description_width": ""
          }
        },
        "9962541e233e47de9af261e971c4e50d": {
          "model_module": "@jupyter-widgets/base",
          "model_name": "LayoutModel",
          "model_module_version": "1.2.0",
          "state": {
            "_model_module": "@jupyter-widgets/base",
            "_model_module_version": "1.2.0",
            "_model_name": "LayoutModel",
            "_view_count": null,
            "_view_module": "@jupyter-widgets/base",
            "_view_module_version": "1.2.0",
            "_view_name": "LayoutView",
            "align_content": null,
            "align_items": null,
            "align_self": null,
            "border": null,
            "bottom": null,
            "display": null,
            "flex": null,
            "flex_flow": null,
            "grid_area": null,
            "grid_auto_columns": null,
            "grid_auto_flow": null,
            "grid_auto_rows": null,
            "grid_column": null,
            "grid_gap": null,
            "grid_row": null,
            "grid_template_areas": null,
            "grid_template_columns": null,
            "grid_template_rows": null,
            "height": null,
            "justify_content": null,
            "justify_items": null,
            "left": null,
            "margin": null,
            "max_height": null,
            "max_width": null,
            "min_height": null,
            "min_width": null,
            "object_fit": null,
            "object_position": null,
            "order": null,
            "overflow": null,
            "overflow_x": null,
            "overflow_y": null,
            "padding": null,
            "right": null,
            "top": null,
            "visibility": null,
            "width": null
          }
        },
        "0c6c4f3b36d740118edcd26d66fb71a8": {
          "model_module": "@jupyter-widgets/controls",
          "model_name": "DescriptionStyleModel",
          "model_module_version": "1.5.0",
          "state": {
            "_model_module": "@jupyter-widgets/controls",
            "_model_module_version": "1.5.0",
            "_model_name": "DescriptionStyleModel",
            "_view_count": null,
            "_view_module": "@jupyter-widgets/base",
            "_view_module_version": "1.2.0",
            "_view_name": "StyleView",
            "description_width": ""
          }
        }
      }
    },
    "accelerator": "GPU"
  },
  "nbformat": 4,
  "nbformat_minor": 0
}