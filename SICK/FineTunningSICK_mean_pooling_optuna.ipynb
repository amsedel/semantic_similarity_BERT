{
  "cells": [
    {
      "cell_type": "code",
      "source": [
        "import locale\n",
        "def getpreferredencoding(do_setlocale = True):\n",
        "    return \"UTF-8\"\n",
        "locale.getpreferredencoding = getpreferredencoding"
      ],
      "metadata": {
        "id": "qc0QMDk40uHK"
      },
      "execution_count": null,
      "outputs": []
    },
    {
      "cell_type": "code",
      "execution_count": null,
      "metadata": {
        "id": "-bc_vxzLzGWU",
        "colab": {
          "base_uri": "https://localhost:8080/"
        },
        "outputId": "a2a52e24-3313-4a07-ea10-f38be7d10090"
      },
      "outputs": [
        {
          "output_type": "stream",
          "name": "stdout",
          "text": [
            "Requirement already satisfied: transformers in /usr/local/lib/python3.10/dist-packages (4.35.2)\n",
            "Requirement already satisfied: filelock in /usr/local/lib/python3.10/dist-packages (from transformers) (3.13.1)\n",
            "Requirement already satisfied: huggingface-hub<1.0,>=0.16.4 in /usr/local/lib/python3.10/dist-packages (from transformers) (0.19.3)\n",
            "Requirement already satisfied: numpy>=1.17 in /usr/local/lib/python3.10/dist-packages (from transformers) (1.23.5)\n",
            "Requirement already satisfied: packaging>=20.0 in /usr/local/lib/python3.10/dist-packages (from transformers) (23.2)\n",
            "Requirement already satisfied: pyyaml>=5.1 in /usr/local/lib/python3.10/dist-packages (from transformers) (6.0.1)\n",
            "Requirement already satisfied: regex!=2019.12.17 in /usr/local/lib/python3.10/dist-packages (from transformers) (2023.6.3)\n",
            "Requirement already satisfied: requests in /usr/local/lib/python3.10/dist-packages (from transformers) (2.31.0)\n",
            "Requirement already satisfied: tokenizers<0.19,>=0.14 in /usr/local/lib/python3.10/dist-packages (from transformers) (0.15.0)\n",
            "Requirement already satisfied: safetensors>=0.3.1 in /usr/local/lib/python3.10/dist-packages (from transformers) (0.4.0)\n",
            "Requirement already satisfied: tqdm>=4.27 in /usr/local/lib/python3.10/dist-packages (from transformers) (4.66.1)\n",
            "Requirement already satisfied: fsspec>=2023.5.0 in /usr/local/lib/python3.10/dist-packages (from huggingface-hub<1.0,>=0.16.4->transformers) (2023.6.0)\n",
            "Requirement already satisfied: typing-extensions>=3.7.4.3 in /usr/local/lib/python3.10/dist-packages (from huggingface-hub<1.0,>=0.16.4->transformers) (4.5.0)\n",
            "Requirement already satisfied: charset-normalizer<4,>=2 in /usr/local/lib/python3.10/dist-packages (from requests->transformers) (3.3.2)\n",
            "Requirement already satisfied: idna<4,>=2.5 in /usr/local/lib/python3.10/dist-packages (from requests->transformers) (3.4)\n",
            "Requirement already satisfied: urllib3<3,>=1.21.1 in /usr/local/lib/python3.10/dist-packages (from requests->transformers) (2.0.7)\n",
            "Requirement already satisfied: certifi>=2017.4.17 in /usr/local/lib/python3.10/dist-packages (from requests->transformers) (2023.7.22)\n",
            "Collecting optuna\n",
            "  Downloading optuna-3.4.0-py3-none-any.whl (409 kB)\n",
            "\u001b[2K     \u001b[90m━━━━━━━━━━━━━━━━━━━━━━━━━━━━━━━━━━━━━━━━\u001b[0m \u001b[32m409.6/409.6 kB\u001b[0m \u001b[31m4.8 MB/s\u001b[0m eta \u001b[36m0:00:00\u001b[0m\n",
            "\u001b[?25hCollecting alembic>=1.5.0 (from optuna)\n",
            "  Downloading alembic-1.12.1-py3-none-any.whl (226 kB)\n",
            "\u001b[2K     \u001b[90m━━━━━━━━━━━━━━━━━━━━━━━━━━━━━━━━━━━━━━━━\u001b[0m \u001b[32m226.8/226.8 kB\u001b[0m \u001b[31m6.6 MB/s\u001b[0m eta \u001b[36m0:00:00\u001b[0m\n",
            "\u001b[?25hCollecting colorlog (from optuna)\n",
            "  Downloading colorlog-6.7.0-py2.py3-none-any.whl (11 kB)\n",
            "Requirement already satisfied: numpy in /usr/local/lib/python3.10/dist-packages (from optuna) (1.23.5)\n",
            "Requirement already satisfied: packaging>=20.0 in /usr/local/lib/python3.10/dist-packages (from optuna) (23.2)\n",
            "Requirement already satisfied: sqlalchemy>=1.3.0 in /usr/local/lib/python3.10/dist-packages (from optuna) (2.0.23)\n",
            "Requirement already satisfied: tqdm in /usr/local/lib/python3.10/dist-packages (from optuna) (4.66.1)\n",
            "Requirement already satisfied: PyYAML in /usr/local/lib/python3.10/dist-packages (from optuna) (6.0.1)\n",
            "Collecting Mako (from alembic>=1.5.0->optuna)\n",
            "  Downloading Mako-1.3.0-py3-none-any.whl (78 kB)\n",
            "\u001b[2K     \u001b[90m━━━━━━━━━━━━━━━━━━━━━━━━━━━━━━━━━━━━━━━━\u001b[0m \u001b[32m78.6/78.6 kB\u001b[0m \u001b[31m8.7 MB/s\u001b[0m eta \u001b[36m0:00:00\u001b[0m\n",
            "\u001b[?25hRequirement already satisfied: typing-extensions>=4 in /usr/local/lib/python3.10/dist-packages (from alembic>=1.5.0->optuna) (4.5.0)\n",
            "Requirement already satisfied: greenlet!=0.4.17 in /usr/local/lib/python3.10/dist-packages (from sqlalchemy>=1.3.0->optuna) (3.0.1)\n",
            "Requirement already satisfied: MarkupSafe>=0.9.2 in /usr/local/lib/python3.10/dist-packages (from Mako->alembic>=1.5.0->optuna) (2.1.3)\n",
            "Installing collected packages: Mako, colorlog, alembic, optuna\n",
            "Successfully installed Mako-1.3.0 alembic-1.12.1 colorlog-6.7.0 optuna-3.4.0\n",
            "Mounted at /content/drive\n"
          ]
        }
      ],
      "source": [
        "import pandas as pd\n",
        "import torch\n",
        "import numpy as np\n",
        "import random\n",
        "import re\n",
        "import spacy\n",
        "import shutil\n",
        "import matplotlib.pyplot as plt\n",
        "!pip install transformers\n",
        "!pip install optuna\n",
        "import torch.nn as nn\n",
        "import torch.optim as optim\n",
        "from transformers import AutoTokenizer, BertTokenizer, AutoModel, BertModel\n",
        "from torch.utils.data import Dataset, TensorDataset, DataLoader, random_split, RandomSampler, SequentialSampler\n",
        "import time\n",
        "import optuna\n",
        "from scipy.stats import spearmanr\n",
        "import psycopg2\n",
        "import csv\n",
        "import math\n",
        "import os\n",
        "from sqlalchemy import create_engine\n",
        "from optuna.storages import RDBStorage\n",
        "from google.colab import drive\n",
        "from google.colab import files\n",
        "drive.mount('/content/drive')"
      ]
    },
    {
      "cell_type": "code",
      "source": [
        "path_base = '/content/drive/MyDrive/Tesis/SICK/transformer_tunned_BERT/uncase_base/study_optuna/'\n",
        "file_root = '/content/drive/MyDrive/Tesis/SICK/uncase_based/SICK.txt'\n",
        "with open(file_root, 'r') as temp_f:\n",
        "    # get No of columns in each line\n",
        "    col_count = [ len(l.split(\"\\t\")) for l in temp_f.readlines() ]"
      ],
      "metadata": {
        "id": "pHJ0GN88YjNV"
      },
      "execution_count": null,
      "outputs": []
    },
    {
      "cell_type": "code",
      "execution_count": null,
      "metadata": {
        "colab": {
          "base_uri": "https://localhost:8080/"
        },
        "id": "Dy2Cy1hZz_JJ",
        "outputId": "26ea8049-174a-4f94-be4a-94023c85a78a"
      },
      "outputs": [
        {
          "output_type": "stream",
          "name": "stdout",
          "text": [
            "Drive already mounted at /content/drive; to attempt to forcibly remount, call drive.mount(\"/content/drive\", force_remount=True).\n"
          ]
        }
      ],
      "source": [
        "from google.colab import drive\n",
        "drive.mount('/content/drive')"
      ]
    },
    {
      "cell_type": "code",
      "source": [
        "def getSICKSents(filename='sts-train.csv', set_type='TRAIN', encoding='utf-8'):\n",
        "  f = open(filename, 'r', encoding=encoding)\n",
        "  s1, s2, target = [], [], []\n",
        "  for i, line in enumerate(f):\n",
        "    example = re.split(r'\\t+', line)\n",
        "    if i >= 1:\n",
        "      if example[-1].strip() == set_type:\n",
        "        s2.append(example[1])\n",
        "        s1.append(example[2])\n",
        "        target.append(float(example[4]))\n",
        "  print(\"samples: {}\".format(len(target)))\n",
        "  return s1, s2, target"
      ],
      "metadata": {
        "id": "jaSIxSSCw5AY"
      },
      "execution_count": null,
      "outputs": []
    },
    {
      "cell_type": "code",
      "source": [
        "s1_train,s2_train,target_train = getSICKSents(file_root, 'TRAIN')"
      ],
      "metadata": {
        "colab": {
          "base_uri": "https://localhost:8080/"
        },
        "id": "F_j7JTGEzZyz",
        "outputId": "336f0e60-9274-440b-c476-b91606e8571c"
      },
      "execution_count": null,
      "outputs": [
        {
          "output_type": "stream",
          "name": "stdout",
          "text": [
            "samples: 4439\n"
          ]
        }
      ]
    },
    {
      "cell_type": "code",
      "source": [
        "s1_test,s2_test,target_test= getSICKSents(file_root, 'TEST')"
      ],
      "metadata": {
        "colab": {
          "base_uri": "https://localhost:8080/"
        },
        "id": "u_wBVbk6zwRF",
        "outputId": "ed6478f0-ae79-4baa-d976-c0738e4826db"
      },
      "execution_count": null,
      "outputs": [
        {
          "output_type": "stream",
          "name": "stdout",
          "text": [
            "samples: 4906\n"
          ]
        }
      ]
    },
    {
      "cell_type": "code",
      "source": [
        "s1_dev,s2_dev,target_dev= getSICKSents(file_root, 'TRIAL')"
      ],
      "metadata": {
        "colab": {
          "base_uri": "https://localhost:8080/"
        },
        "id": "HCAYUG03z14L",
        "outputId": "c5441064-a941-44e2-b088-84782bb531bd"
      },
      "execution_count": null,
      "outputs": [
        {
          "output_type": "stream",
          "name": "stdout",
          "text": [
            "samples: 495\n"
          ]
        }
      ]
    },
    {
      "cell_type": "code",
      "execution_count": null,
      "metadata": {
        "id": "X8TBNqYyCj-u",
        "colab": {
          "base_uri": "https://localhost:8080/"
        },
        "outputId": "89090ef1-cbe4-4531-b66c-8f33b6971313"
      },
      "outputs": [
        {
          "output_type": "stream",
          "name": "stdout",
          "text": [
            "Device: cuda\n"
          ]
        }
      ],
      "source": [
        "device = 'cuda' if torch.cuda.is_available() else 'cpu'\n",
        "print(f'Device: {device}')"
      ]
    },
    {
      "cell_type": "code",
      "execution_count": null,
      "metadata": {
        "id": "HQf5A_IsCu9I"
      },
      "outputs": [],
      "source": [
        "BATCH_SIZE = 32\n",
        "MAX_LEN = 128\n",
        "CORPUS = 'SICK'\n",
        "BERT_PATH = \"bert-base-uncased\""
      ]
    },
    {
      "cell_type": "code",
      "execution_count": null,
      "metadata": {
        "id": "z600WMjxHnOJ",
        "colab": {
          "base_uri": "https://localhost:8080/",
          "height": 145,
          "referenced_widgets": [
            "fe4615a7cf1b4a8eb0ac1464cef4575a",
            "ccae70777b5e4336b4b038a03a024bd8",
            "4c9126d7cb644106a4444cb5289983b6",
            "94b8524d84084063adeb15568cca0d06",
            "cf59cd78773a4e779b504b57220ed2ed",
            "c1a717f0dc2245c5ab100b8a6fd0fe7a",
            "c0719b99250f413f9512b13d490e3c13",
            "d0b06af239fb44cf9e84772bb7bf1357",
            "b7247114ef1241adb0f06cde7ad02fdc",
            "39d9857b9a39433280b16d946a62a11d",
            "7f1fe6dc356640ed846205af19dc7d44",
            "e7cf1b321fc24417a6c685ab3560fce3",
            "1cddd630b6f243369ba6f686dbc3ac4b",
            "bf29a104913f4d77af02ac0fa8594b27",
            "e6fdc817b7a44071a868d3ec859658b7",
            "e6bf90a09ea643d8b903a1a7886f9faf",
            "4e9df1d8477b4956a64e7b3229ecb1a7",
            "21e0cd30b80c4e9d8c454d66dad10c32",
            "dd721f2bd0b54f2482adb9b978c3aad3",
            "8eb558bc85434df0b2643dfeabedcf2c",
            "2158313a00b6404da57cd2d87fd5149e",
            "7fea10369db64d8db0a5d92d9fae5e14",
            "8cafa650243d44d7b78fef98af718e7f",
            "51d5d5ee18ff4ed78387bf6d20e404fe",
            "3a5ecc481ca2455ab0c8450eed139a14",
            "47426be8b18442ab8641bdf6295df7a5",
            "33ebdc86b8484df69514ebe567519c38",
            "12a4ed06d49b44d4882f7c49944c4a6f",
            "09c9b7233f5e4fa2b25f6613eea20430",
            "76efa06b8aec4e24a13de07dfe6b4538",
            "62463b7d6efc4a39957620eaddcdd2e0",
            "540253e4268b495d98b7586c8938ab83",
            "e2fe2299fc904faea69a6694cb40bf0d",
            "e1b560c327aa45a28a9a8ce0ba15d202",
            "d5e8239541454998aca4acb660b38312",
            "201a68b705c944688c8cd864eed5fd9f",
            "93d753e95388489a8c6e7e6d4fd3d44e",
            "e17aa1d11c0d4bc89451bc27f377c231",
            "5a8cab6a4ade4e16959bfb268db244e8",
            "73ed44c3b9024004a59bd08a95c61bac",
            "08e03cc733e048a18af661cff002d321",
            "d85cbcb655c6478498ab63c17eabb319",
            "44b85f89ef0044da839b0a8658fc1997",
            "6be177c3c85245018648c0d1af5d0ad3"
          ]
        },
        "outputId": "ed12cbdb-f8a5-4cfc-bb03-57462075c746"
      },
      "outputs": [
        {
          "output_type": "display_data",
          "data": {
            "text/plain": [
              "tokenizer_config.json:   0%|          | 0.00/28.0 [00:00<?, ?B/s]"
            ],
            "application/vnd.jupyter.widget-view+json": {
              "version_major": 2,
              "version_minor": 0,
              "model_id": "fe4615a7cf1b4a8eb0ac1464cef4575a"
            }
          },
          "metadata": {}
        },
        {
          "output_type": "display_data",
          "data": {
            "text/plain": [
              "vocab.txt:   0%|          | 0.00/232k [00:00<?, ?B/s]"
            ],
            "application/vnd.jupyter.widget-view+json": {
              "version_major": 2,
              "version_minor": 0,
              "model_id": "e7cf1b321fc24417a6c685ab3560fce3"
            }
          },
          "metadata": {}
        },
        {
          "output_type": "display_data",
          "data": {
            "text/plain": [
              "tokenizer.json:   0%|          | 0.00/466k [00:00<?, ?B/s]"
            ],
            "application/vnd.jupyter.widget-view+json": {
              "version_major": 2,
              "version_minor": 0,
              "model_id": "8cafa650243d44d7b78fef98af718e7f"
            }
          },
          "metadata": {}
        },
        {
          "output_type": "display_data",
          "data": {
            "text/plain": [
              "config.json:   0%|          | 0.00/570 [00:00<?, ?B/s]"
            ],
            "application/vnd.jupyter.widget-view+json": {
              "version_major": 2,
              "version_minor": 0,
              "model_id": "e1b560c327aa45a28a9a8ce0ba15d202"
            }
          },
          "metadata": {}
        }
      ],
      "source": [
        "TOKENIZER = BertTokenizer.from_pretrained(BERT_PATH, do_lower_case=True)"
      ]
    },
    {
      "cell_type": "code",
      "execution_count": null,
      "metadata": {
        "id": "pVdOQNbvVnln"
      },
      "outputs": [],
      "source": [
        "def encode_sents(sents1, sents2):\n",
        "    input_ids_ = []\n",
        "    attention_masks_ = []\n",
        "    type_ids_ = []\n",
        "    for i, sent1 in enumerate(sents1):\n",
        "        encoded_dict = TOKENIZER.encode_plus(\n",
        "                            sent1,                      # Sentence 1 to encode.\n",
        "                            sents2[i],                  # Sentence 2 to encode.\n",
        "                            add_special_tokens = True,  # Add '[CLS]' and '[SEP]'\n",
        "                            truncation = True,\n",
        "                            max_length = MAX_LEN,       # Pad & truncate all sentences.\n",
        "                            pad_to_max_length = True,\n",
        "                            return_attention_mask = True,   # Construct attn. masks.\n",
        "                            return_tensors = 'pt',     # Return pytorch tensors.\n",
        "                      )\n",
        "\n",
        "        # Add the encoded sentence to the list.\n",
        "        input_ids_.append(encoded_dict['input_ids'])\n",
        "\n",
        "        # And its attention mask (simply differentiates padding from non-padding).\n",
        "        attention_masks_.append(encoded_dict['attention_mask'])\n",
        "\n",
        "        type_ids_.append(encoded_dict['token_type_ids'])\n",
        "    return input_ids_, attention_masks_, type_ids_"
      ]
    },
    {
      "cell_type": "code",
      "source": [
        "def getEncodedTensors(s1, s2, labels):\n",
        "    input_ids, attention_masks, type_ids = encode_sents(s1, s2)\n",
        "    input_ids = torch.cat(input_ids, dim=0)\n",
        "    attention_masks = torch.cat(attention_masks, dim=0)\n",
        "    type_ids = torch.cat(type_ids, dim=0)\n",
        "    labels = torch.tensor(labels)\n",
        "    return input_ids, attention_masks, type_ids, labels"
      ],
      "metadata": {
        "id": "906LtLLC9Y_Z"
      },
      "execution_count": null,
      "outputs": []
    },
    {
      "cell_type": "code",
      "source": [
        "input_ids_train,attention_masks_train,type_ids_train,labels_train = getEncodedTensors(s1_train,s2_train,target_train)"
      ],
      "metadata": {
        "id": "t6ru4f5S9-qd",
        "colab": {
          "base_uri": "https://localhost:8080/"
        },
        "outputId": "31ea7f93-7617-4954-d8e2-3e2bba913543"
      },
      "execution_count": null,
      "outputs": [
        {
          "output_type": "stream",
          "name": "stderr",
          "text": [
            "/usr/local/lib/python3.10/dist-packages/transformers/tokenization_utils_base.py:2614: FutureWarning: The `pad_to_max_length` argument is deprecated and will be removed in a future version, use `padding=True` or `padding='longest'` to pad to the longest sequence in the batch, or use `padding='max_length'` to pad to a max length. In this case, you can give a specific length with `max_length` (e.g. `max_length=45`) or leave max_length to None to pad to the maximal input size of the model (e.g. 512 for Bert).\n",
            "  warnings.warn(\n"
          ]
        }
      ]
    },
    {
      "cell_type": "code",
      "source": [
        "input_ids_eval, attention_masks_eval, type_ids_eval, labels_eval = getEncodedTensors(s1_dev, s2_dev, target_dev)"
      ],
      "metadata": {
        "id": "-bL1MWnB_-9d"
      },
      "execution_count": null,
      "outputs": []
    },
    {
      "cell_type": "code",
      "execution_count": null,
      "metadata": {
        "id": "adsDoOZNdgVR"
      },
      "outputs": [],
      "source": [
        "# Combine the training inputs into a TensorDataset.\n",
        "train_dataset = TensorDataset(input_ids_train, attention_masks_train, type_ids_train, labels_train)\n",
        "val_dataset = TensorDataset(input_ids_eval, attention_masks_eval, type_ids_eval, labels_eval)"
      ]
    },
    {
      "cell_type": "code",
      "execution_count": null,
      "metadata": {
        "id": "4L0SrB_JlaCY"
      },
      "outputs": [],
      "source": [
        "# Create the DataLoaders for our training and test sets.\n",
        "# We'll take training samples in random order.\n",
        "torch.manual_seed(42)\n",
        "train_loader = DataLoader(\n",
        "            train_dataset,  # The training samples.\n",
        "            sampler = RandomSampler(train_dataset), # Select batches randomly\n",
        "            batch_size = BATCH_SIZE # Trains with this batch size.\n",
        "            #num_workers=2\n",
        "        )\n",
        "torch.manual_seed(42)\n",
        "val_loader = DataLoader(\n",
        "            val_dataset, # The validation samples.\n",
        "            sampler = SequentialSampler(val_dataset), # Pull out batches sequentially.\n",
        "            batch_size = BATCH_SIZE # Evaluate with this batch size.\n",
        "            #num_workers=2\n",
        "        )"
      ]
    },
    {
      "cell_type": "code",
      "execution_count": null,
      "metadata": {
        "id": "nMWrY0KxnEMi",
        "colab": {
          "base_uri": "https://localhost:8080/"
        },
        "outputId": "721c91ac-b407-491b-8fb9-12840696a294"
      },
      "outputs": [
        {
          "output_type": "stream",
          "name": "stdout",
          "text": [
            "Number of train batches: 139\n",
            "Number of evaluation batches: 16\n"
          ]
        }
      ],
      "source": [
        "# See first batch\n",
        "#batch = next(iter(train_loader))\n",
        "#print(batch[0]) # 0 -> input_ids , 1 -> attention_masks, 2 -> type_ids, 3 -> targets\n",
        "#print(train_loader.batch_size) #tamaño del batch\n",
        "print('Number of train batches: {}'.format(len(train_loader)))# número de batches\n",
        "print('Number of evaluation batches: {}'.format(len(val_loader)))"
      ]
    },
    {
      "cell_type": "code",
      "execution_count": null,
      "metadata": {
        "id": "KkXY8l6PqLwi"
      },
      "outputs": [],
      "source": [
        "class BertBaseUncasedRegressor(nn.Module):\n",
        "  def __init__(self, num_classes = 1, dropout=0.1, attentions=True, n_layers = 0):\n",
        "      super().__init__()\n",
        "      self.bert = BertModel.from_pretrained(BERT_PATH, output_attentions=attentions) #load the model\n",
        "      # Return:\n",
        "      # last_hidden_state.shape -> [batch_size, num_tokens_in_sequence,hidden_size] (bert_base hidden_size = 768)\n",
        "      # pooler_output.shape -> [batch_size, hidden_size] se utiliza una capa de pooling simple que aplica una transformación\n",
        "      # lineal seguida de una función de activación tangente hiperbólica (tanh) a la última representación oculta (last_hidden_state) del token [CLS].\n",
        "      layers = []\n",
        "      for _ in range(n_layers):\n",
        "          layers.append(nn.Linear(self.bert.config.hidden_size, self.bert.config.hidden_size)) #self.bert.config.hidden_size -> nos da el tamaño oculto\n",
        "          layers.append(nn.Dropout(dropout))\n",
        "      layers.append(nn.Linear(self.bert.config.hidden_size, num_classes)) #self.bert.config.hidden_size -> nos da el tamaño oculto\n",
        "\n",
        "      self.regressor = nn.Sequential(*layers)\n",
        "\n",
        "\n",
        "  def forward(self, input_ids, type_ids, mask):\n",
        "      bert_output =self.bert(input_ids=input_ids, token_type_ids = type_ids, attention_mask= mask)\n",
        "      attention_mask = mask.unsqueeze(-1).expand(bert_output.last_hidden_state.shape).float()\n",
        "      embeddings = bert_output.last_hidden_state * attention_mask\n",
        "      embeddings_sum = torch.sum(embeddings, dim=1)\n",
        "      counts = torch.clamp(attention_mask.sum(1), min=1e-9)\n",
        "      output_mean_pooling = embeddings_sum / counts\n",
        "      #output = bert_output.pooler_output\n",
        "      #output = bert_output.last_hidden_state[:, 0, :]\n",
        "      logits = self.regressor(output_mean_pooling)\n",
        "      #logits = self.regressor(output_drop)\n",
        "      return logits, bert_output"
      ]
    },
    {
      "cell_type": "code",
      "source": [
        "pp = torch.tensor([[[1,2,3],[4,5,6]],[[11,12,13],[14,15,16]]])\n",
        "pp2 = torch.tensor([[[1,1,1],[1,1,0]],[[1,1,1],[1,0,0]]])\n",
        "ma = pp*pp2\n",
        "sum = torch.sum(ma, dim=1)\n",
        "print(ma)\n",
        "print(ma.shape)\n",
        "print(sum)\n",
        "print(sum.shape)\n",
        "counts = torch.clamp(pp2.sum(1), min=1e-9)\n",
        "print(counts)\n",
        "print(sum/counts)"
      ],
      "metadata": {
        "id": "RXBGZb2Xc2yc"
      },
      "execution_count": null,
      "outputs": []
    },
    {
      "cell_type": "code",
      "execution_count": null,
      "metadata": {
        "colab": {
          "base_uri": "https://localhost:8080/"
        },
        "id": "gm5OXHZoGZ6V",
        "outputId": "93ed376b-a80b-405b-9afb-23aa0f7dc577"
      },
      "outputs": [
        {
          "output_type": "stream",
          "name": "stderr",
          "text": [
            "Some weights of the model checkpoint at bert-base-uncased were not used when initializing BertModel: ['cls.predictions.bias', 'cls.predictions.transform.LayerNorm.bias', 'cls.seq_relationship.bias', 'cls.predictions.transform.dense.bias', 'cls.seq_relationship.weight', 'cls.predictions.decoder.weight', 'cls.predictions.transform.LayerNorm.weight', 'cls.predictions.transform.dense.weight']\n",
            "- This IS expected if you are initializing BertModel from the checkpoint of a model trained on another task or with another architecture (e.g. initializing a BertForSequenceClassification model from a BertForPreTraining model).\n",
            "- This IS NOT expected if you are initializing BertModel from the checkpoint of a model that you expect to be exactly identical (initializing a BertForSequenceClassification model from a BertForSequenceClassification model).\n"
          ]
        }
      ],
      "source": [
        "\"\"\"model = BertBaseUncasedRegressor().to(device)\"\"\""
      ]
    },
    {
      "cell_type": "code",
      "execution_count": null,
      "metadata": {
        "id": "vx7UQjL5GJLu"
      },
      "outputs": [],
      "source": [
        "\"\"\"\n",
        "criterion = nn.MSELoss()\n",
        "LEARNING_RATE = 0.0001\n",
        "optimizer = optim.Adam(model.parameters(), lr=LEARNING_RATE)\n",
        "\"\"\""
      ]
    },
    {
      "cell_type": "code",
      "source": [
        "def pearson_corr(y_pred, y_true):\n",
        "    all_preds = np.concatenate(y_pred)\n",
        "    all_targets = np.concatenate(y_true)\n",
        "    return np.corrcoef(all_preds, all_targets)[0, 1]"
      ],
      "metadata": {
        "id": "n3ur6ZV3_Gb6"
      },
      "execution_count": null,
      "outputs": []
    },
    {
      "cell_type": "code",
      "source": [
        "def spearman_corr(y_pred, y_true):\n",
        "    all_preds = np.concatenate(y_pred)\n",
        "    all_targets = np.concatenate(y_true)\n",
        "\n",
        "    corr, _ = spearmanr(all_preds, all_targets)\n",
        "    return corr"
      ],
      "metadata": {
        "id": "P6-Jax0r_Mhf"
      },
      "execution_count": null,
      "outputs": []
    },
    {
      "cell_type": "code",
      "execution_count": null,
      "metadata": {
        "id": "fdInbGmYrUfw"
      },
      "outputs": [],
      "source": [
        "def train_loop(model,loader,optimizer,criterion,device,clip = 1.0):\n",
        "    #Training loop\n",
        "    model.train()\n",
        "    loss_sum = 0\n",
        "    all_preds = []\n",
        "    all_targets = []\n",
        "    seed = 42\n",
        "    torch.backends.cudnn.deterministic = True\n",
        "    torch.backends.cudnn.benchmark = False\n",
        "    torch.manual_seed(seed)\n",
        "    torch.cuda.manual_seed_all(seed)\n",
        "    np.random.seed(seed)\n",
        "    random.seed(seed)\n",
        "\n",
        "\n",
        "\n",
        "    for i, batch in enumerate(loader):\n",
        "\n",
        "        b_input_ids = batch[0].to(device)\n",
        "        b_attention_mask = batch[1].to(device)\n",
        "        b_type_ids = batch[2].to(device)\n",
        "        labels = batch[3].to(device)\n",
        "\n",
        "        optimizer.zero_grad()\n",
        "        #Forward\n",
        "        outputs, _ = model(input_ids=b_input_ids, type_ids = b_type_ids, mask = b_attention_mask)\n",
        "        outputs = outputs.squeeze(-1)\n",
        "        #Loss\n",
        "        loss = criterion(outputs.view(-1), labels.float())\n",
        "        #Backprop\n",
        "        loss.backward()\n",
        "        #prevent gradients from exploding\n",
        "        torch.nn.utils.clip_grad_norm_(model.parameters(), clip)\n",
        "        #Update params\n",
        "        optimizer.step()\n",
        "\n",
        "        loss_sum += loss.item()\n",
        "\n",
        "        all_preds.append(outputs.detach().cpu().numpy())\n",
        "        all_targets.append(labels.float().detach().cpu().numpy())\n",
        "\n",
        "    epoch_train_loss = loss_sum / len(loader)\n",
        "    epoch_train_pearson = pearson_corr(all_preds, all_targets)\n",
        "    epoch_train_spearman = spearman_corr(all_preds, all_targets)\n",
        "\n",
        "    return epoch_train_loss, epoch_train_pearson, epoch_train_spearman\n"
      ]
    },
    {
      "cell_type": "code",
      "execution_count": null,
      "metadata": {
        "id": "CxO7AgRRtnnk"
      },
      "outputs": [],
      "source": [
        "def evaluation_loop(model,loader,criterion,device):\n",
        "    #Evaluation loop\n",
        "    seed = 42\n",
        "    torch.backends.cudnn.deterministic = True\n",
        "    torch.backends.cudnn.benchmark = False\n",
        "    torch.manual_seed(seed)\n",
        "    torch.cuda.manual_seed_all(seed)\n",
        "    np.random.seed(seed)\n",
        "    random.seed(seed)\n",
        "\n",
        "\n",
        "    model.eval()\n",
        "    with torch.no_grad():\n",
        "        loss_sum = 0\n",
        "        all_preds = []\n",
        "        all_targets = []\n",
        "\n",
        "        for i, batch in enumerate(loader):\n",
        "            b_input_ids = batch[0].to(device)\n",
        "            b_attention_mask = batch[1].to(device)\n",
        "            b_type_ids = batch[2].to(device)\n",
        "            labels = batch[3].to(device)\n",
        "\n",
        "            #Forward\n",
        "            outputs, _ = model(input_ids=b_input_ids, type_ids = b_type_ids, mask = b_attention_mask)\n",
        "            outputs = outputs.squeeze(-1)\n",
        "            #Loss\n",
        "            loss = criterion(outputs.view(-1), labels.float())\n",
        "\n",
        "            loss_sum += loss.item()\n",
        "\n",
        "            all_preds.append(outputs.detach().cpu().numpy())\n",
        "            all_targets.append(labels.float().detach().cpu().numpy())\n",
        "\n",
        "        epoch_dev_loss = loss_sum / len(loader)\n",
        "        epoch_dev_pearson = pearson_corr(all_preds, all_targets)\n",
        "        epoch_dev_spearman = spearman_corr(all_preds, all_targets)\n",
        "\n",
        "    return epoch_dev_loss, epoch_dev_pearson, epoch_dev_spearman"
      ]
    },
    {
      "cell_type": "code",
      "source": [
        "def save_metrics_dataframe(metrics_dict, study_name, path_base):\n",
        "  # Abrir archivo en modo escritura y especificar el separador de campos\n",
        "  path = path_base + 'metrics_' + study_name + \".csv\"\n",
        "  with open(path, \"a+\", newline=\"\") as f:\n",
        "      metrics = [metrics_dict]\n",
        "      # Crear objeto escritor CSV y especificar el separador de campos\n",
        "      metrics_csv = csv.DictWriter(f, fieldnames=['train_loss','valid_loss','spearman_train','spearman_val','pearson_train','pearson_val'],delimiter=\",\")\n",
        "\n",
        "      # Verificar si se ha escrito el encabezado del archivo\n",
        "      if f.tell() == 0:\n",
        "        metrics_csv.writeheader()\n",
        "\n",
        "      # Escribir cada fila de datos\n",
        "      for metric in metrics:\n",
        "          metrics_csv.writerow(metric)"
      ],
      "metadata": {
        "id": "dxgbOy7GY0I_"
      },
      "execution_count": null,
      "outputs": []
    },
    {
      "cell_type": "code",
      "source": [
        "study_name = 'study-bert-mean-pooling-base-sick'"
      ],
      "metadata": {
        "id": "Meh7L_p3ZXm-"
      },
      "execution_count": null,
      "outputs": []
    },
    {
      "cell_type": "code",
      "source": [
        "def isNan(value):\n",
        "  return 0 if math.isnan(value) else value"
      ],
      "metadata": {
        "id": "9dZeuPPWZV-R"
      },
      "execution_count": null,
      "outputs": []
    },
    {
      "cell_type": "code",
      "source": [
        "def objective(trial):\n",
        "  params = {\n",
        "      \"num_layers\": trial.suggest_int(\"num_layer\", 0, 2),\n",
        "      \"dropout\": trial.suggest_uniform(\"dropout\", 0, 0.7),\n",
        "      \"optimizer\": trial.suggest_categorical(\"optimizer\", [\"Adam\", \"RMSprop\", \"SGD\"]),\n",
        "      \"learning_rate\": trial.suggest_loguniform(\"learning_rate\",1e-5, 1e-4)\n",
        "  }\n",
        "\n",
        "  model = BertBaseUncasedRegressor(dropout=params[\"dropout\"], n_layers = params[\"num_layers\"]).to(device)\n",
        "  criterion = nn.MSELoss()\n",
        "  optimizer = getattr(optim, params[\"optimizer\"])(model.parameters(), lr=params[\"learning_rate\"])\n",
        "\n",
        "  NUM_EPOCHS = 5\n",
        "  best_valid_loss = float('inf')\n",
        "  MODEL_FILE_NAME = CORPUS+'_'+BERT_PATH+'_'+str(MAX_LEN)+'_tunned_model.pt'\n",
        "  history = {\"train\": {\"loss\": []}, \"test\": {\"loss\": []}}\n",
        "\n",
        "  torch.cuda.empty_cache()\n",
        "  seed = 42\n",
        "  torch.backends.cudnn.deterministic = True\n",
        "  torch.backends.cudnn.benchmark = False\n",
        "  torch.manual_seed(seed)\n",
        "  torch.cuda.manual_seed_all(seed)\n",
        "  np.random.seed(seed)\n",
        "  random.seed(seed)\n",
        "\n",
        "\n",
        "\n",
        "  train_loss_list, val_loss_list, spearman_train, spearman_val, pearson_train, pearson_val = [], [], [], [], [], []\n",
        "\n",
        "  for epoch in range(NUM_EPOCHS):\n",
        "\n",
        "    start_time = time.time()\n",
        "\n",
        "    epoch_train_loss, epoch_train_pearson, epoch_train_spearman = train_loop(model,train_loader,optimizer,criterion,device)\n",
        "    epoch_dev_loss, epoch_dev_pearson, epoch_dev_spearman = evaluation_loop(model,val_loader,criterion,device)\n",
        "\n",
        "    elapsed_time = time.time() - start_time\n",
        "\n",
        "    if trial.should_prune():\n",
        "      raise optuna.exceptions.TrialPruned()\n",
        "\n",
        "    #nos quedamos con el modelo que tiene mejor pérdida de validación\n",
        "    if epoch_dev_loss < best_valid_loss:\n",
        "      best_valid_loss = epoch_dev_loss\n",
        "      torch.save(model.state_dict(), MODEL_FILE_NAME)\n",
        "\n",
        "    train_loss_list.append(isNan(epoch_train_loss))\n",
        "    val_loss_list.append(isNan(epoch_dev_loss))\n",
        "    spearman_train.append(isNan(epoch_train_spearman))\n",
        "    spearman_val.append(isNan(epoch_dev_spearman))\n",
        "    pearson_train.append(isNan(epoch_train_pearson))\n",
        "    pearson_val.append(isNan(epoch_dev_pearson))\n",
        "\n",
        "    history[\"train\"][\"loss\"].append(epoch_train_loss)\n",
        "    history[\"test\"][\"loss\"].append(epoch_dev_loss)\n",
        "\n",
        "    print('-' * 80)\n",
        "    print(f'Epoch: {epoch+1:03}/{NUM_EPOCHS} | Time: {elapsed_time:.4f}s | Train loss: {epoch_train_loss:.4f} | Dev loss: {epoch_dev_loss:.4f}')\n",
        "    print(f'Train Pearson Coef: {epoch_train_pearson:.4f} | Dev Pearson Coef: {epoch_dev_pearson:.4f}')\n",
        "    print(f'Train Spearman Coef: {epoch_train_spearman:.4f} | Dev Spearman Coef: {epoch_dev_spearman:.4f}')\n",
        "\n",
        "  metrics_dict = {\n",
        "      'train_loss' : train_loss_list,\n",
        "      'valid_loss' : val_loss_list,\n",
        "      'spearman_train': spearman_train,\n",
        "      'spearman_val': spearman_val,\n",
        "      'pearson_train': pearson_train,\n",
        "      'pearson_val': pearson_val\n",
        "  }\n",
        "\n",
        "  save_metrics_dataframe(metrics_dict, study_name, path_base)\n",
        "\n",
        "  return best_valid_loss"
      ],
      "metadata": {
        "id": "owIEB8g8YyFT"
      },
      "execution_count": null,
      "outputs": []
    },
    {
      "cell_type": "code",
      "source": [
        "storage_path = path_base + \"optuna_study_mean_pooling_SICK_.db\""
      ],
      "metadata": {
        "id": "5ECnYOjOeqN4"
      },
      "execution_count": null,
      "outputs": []
    },
    {
      "cell_type": "code",
      "source": [
        "# Define el estudio de Optuna utilizando el storage\n",
        "study = optuna.create_study(study_name=study_name, direction=\"minimize\", storage=f\"sqlite:///{storage_path}\", load_if_exists=True)"
      ],
      "metadata": {
        "id": "kFkzJHFSZRAz",
        "colab": {
          "base_uri": "https://localhost:8080/"
        },
        "outputId": "fac83b76-0f82-451d-961f-052391b81d07"
      },
      "execution_count": null,
      "outputs": [
        {
          "output_type": "stream",
          "name": "stderr",
          "text": [
            "[I 2023-11-17 19:32:57,348] Using an existing study with name 'study-bert-mean-pooling-base-sick' instead of creating a new one.\n"
          ]
        }
      ]
    },
    {
      "cell_type": "code",
      "source": [
        "study.optimize(objective, n_trials=15)"
      ],
      "metadata": {
        "id": "Cun6M9lVY1WH",
        "colab": {
          "base_uri": "https://localhost:8080/",
          "height": 1000,
          "referenced_widgets": [
            "f6332883abba4dcab4622f73c56e3f0f",
            "27255217473d40ca819f591bcb568617",
            "0a63eec5b5f441d68a140f0d1fdbd562",
            "da92b306b6aa45c8807f4d8e6508f1d1",
            "56bd7ff61f6f4aa2809cfd4a214701ef",
            "26d2037f999945b594130b28af320202",
            "569d1a5605614cc7981ce98a5b0b2828",
            "e0bcb96e16a24dc29cca397fe296c408",
            "6d1a291083f6410bb6bc69c566b0dd2b",
            "ed3af751a2a046dcbad865946edb84a9",
            "bc350c0f2c89445991ce04ed0d2d1ce7"
          ]
        },
        "outputId": "2268e8a1-6039-42b0-a878-f6a373a0c824"
      },
      "execution_count": null,
      "outputs": [
        {
          "metadata": {
            "tags": null
          },
          "name": "stderr",
          "output_type": "stream",
          "text": [
            "<ipython-input-27-f4670a8167f8>:4: FutureWarning: suggest_uniform has been deprecated in v3.0.0. This feature will be removed in v6.0.0. See https://github.com/optuna/optuna/releases/tag/v3.0.0. Use suggest_float instead.\n",
            "  \"dropout\": trial.suggest_uniform(\"dropout\", 0, 0.7),\n",
            "<ipython-input-27-f4670a8167f8>:6: FutureWarning: suggest_loguniform has been deprecated in v3.0.0. This feature will be removed in v6.0.0. See https://github.com/optuna/optuna/releases/tag/v3.0.0. Use suggest_float(..., log=True) instead.\n",
            "  \"learning_rate\": trial.suggest_loguniform(\"learning_rate\",1e-5, 1e-4)\n"
          ]
        },
        {
          "data": {
            "application/vnd.jupyter.widget-view+json": {
              "model_id": "f6332883abba4dcab4622f73c56e3f0f",
              "version_major": 2,
              "version_minor": 0
            },
            "text/plain": [
              "model.safetensors:   0%|          | 0.00/440M [00:00<?, ?B/s]"
            ]
          },
          "metadata": {},
          "output_type": "display_data"
        },
        {
          "metadata": {
            "tags": null
          },
          "name": "stdout",
          "output_type": "stream",
          "text": [
            "--------------------------------------------------------------------------------\n",
            "Epoch: 001/5 | Time: 93.6108s | Train loss: 0.6434 | Dev loss: 0.3401\n",
            "Train Pearson Coef: 0.6586 | Dev Pearson Coef: 0.8636\n",
            "Train Spearman Coef: 0.6147 | Dev Spearman Coef: 0.8158\n",
            "--------------------------------------------------------------------------------\n",
            "Epoch: 002/5 | Time: 94.9673s | Train loss: 0.1975 | Dev loss: 0.2554\n",
            "Train Pearson Coef: 0.9014 | Dev Pearson Coef: 0.8800\n",
            "Train Spearman Coef: 0.8479 | Dev Spearman Coef: 0.8280\n",
            "--------------------------------------------------------------------------------\n",
            "Epoch: 003/5 | Time: 94.5764s | Train loss: 0.1117 | Dev loss: 0.3860\n",
            "Train Pearson Coef: 0.9456 | Dev Pearson Coef: 0.8730\n",
            "Train Spearman Coef: 0.9155 | Dev Spearman Coef: 0.8186\n",
            "--------------------------------------------------------------------------------\n",
            "Epoch: 004/5 | Time: 94.7673s | Train loss: 0.0689 | Dev loss: 0.2523\n",
            "Train Pearson Coef: 0.9670 | Dev Pearson Coef: 0.8744\n",
            "Train Spearman Coef: 0.9506 | Dev Spearman Coef: 0.8204\n",
            "--------------------------------------------------------------------------------\n",
            "Epoch: 005/5 | Time: 94.5506s | Train loss: 0.0532 | Dev loss: 0.3587\n",
            "Train Pearson Coef: 0.9745 | Dev Pearson Coef: 0.8725\n",
            "Train Spearman Coef: 0.9625 | Dev Spearman Coef: 0.8185\n"
          ]
        },
        {
          "metadata": {
            "tags": null
          },
          "name": "stderr",
          "output_type": "stream",
          "text": [
            "[I 2023-11-17 19:41:18,359] Trial 15 finished with value: 0.2523246016353369 and parameters: {'num_layer': 0, 'dropout': 0.3756659966495096, 'optimizer': 'RMSprop', 'learning_rate': 2.0987793186969648e-05}. Best is trial 14 with value: 0.22891508135944605.\n",
            "<ipython-input-27-f4670a8167f8>:4: FutureWarning: suggest_uniform has been deprecated in v3.0.0. This feature will be removed in v6.0.0. See https://github.com/optuna/optuna/releases/tag/v3.0.0. Use suggest_float instead.\n",
            "  \"dropout\": trial.suggest_uniform(\"dropout\", 0, 0.7),\n",
            "<ipython-input-27-f4670a8167f8>:6: FutureWarning: suggest_loguniform has been deprecated in v3.0.0. This feature will be removed in v6.0.0. See https://github.com/optuna/optuna/releases/tag/v3.0.0. Use suggest_float(..., log=True) instead.\n",
            "  \"learning_rate\": trial.suggest_loguniform(\"learning_rate\",1e-5, 1e-4)\n"
          ]
        },
        {
          "metadata": {
            "tags": null
          },
          "name": "stdout",
          "output_type": "stream",
          "text": [
            "--------------------------------------------------------------------------------\n",
            "Epoch: 001/5 | Time: 94.6446s | Train loss: 0.5899 | Dev loss: 0.2465\n",
            "Train Pearson Coef: 0.6891 | Dev Pearson Coef: 0.8744\n",
            "Train Spearman Coef: 0.6432 | Dev Spearman Coef: 0.8202\n",
            "--------------------------------------------------------------------------------\n",
            "Epoch: 002/5 | Time: 94.7717s | Train loss: 0.1837 | Dev loss: 0.3916\n",
            "Train Pearson Coef: 0.9089 | Dev Pearson Coef: 0.8714\n",
            "Train Spearman Coef: 0.8605 | Dev Spearman Coef: 0.8141\n",
            "--------------------------------------------------------------------------------\n",
            "Epoch: 003/5 | Time: 94.5913s | Train loss: 0.0964 | Dev loss: 0.3673\n",
            "Train Pearson Coef: 0.9534 | Dev Pearson Coef: 0.8801\n",
            "Train Spearman Coef: 0.9291 | Dev Spearman Coef: 0.8311\n",
            "--------------------------------------------------------------------------------\n",
            "Epoch: 004/5 | Time: 94.7188s | Train loss: 0.0609 | Dev loss: 0.2857\n",
            "Train Pearson Coef: 0.9708 | Dev Pearson Coef: 0.8789\n",
            "Train Spearman Coef: 0.9564 | Dev Spearman Coef: 0.8270\n"
          ]
        },
        {
          "metadata": {
            "tags": null
          },
          "name": "stderr",
          "output_type": "stream",
          "text": [
            "[I 2023-11-17 19:49:15,577] Trial 16 finished with value: 0.24646844808012247 and parameters: {'num_layer': 0, 'dropout': 0.2482593218154796, 'optimizer': 'RMSprop', 'learning_rate': 2.3721212510073336e-05}. Best is trial 14 with value: 0.22891508135944605.\n"
          ]
        },
        {
          "metadata": {
            "tags": null
          },
          "name": "stdout",
          "output_type": "stream",
          "text": [
            "--------------------------------------------------------------------------------\n",
            "Epoch: 005/5 | Time: 94.8805s | Train loss: 0.0488 | Dev loss: 0.2480\n",
            "Train Pearson Coef: 0.9767 | Dev Pearson Coef: 0.8773\n",
            "Train Spearman Coef: 0.9660 | Dev Spearman Coef: 0.8202\n",
            "--------------------------------------------------------------------------------\n",
            "Epoch: 001/5 | Time: 94.6294s | Train loss: 0.6792 | Dev loss: 0.3038\n",
            "Train Pearson Coef: 0.6372 | Dev Pearson Coef: 0.8659\n",
            "Train Spearman Coef: 0.5941 | Dev Spearman Coef: 0.8144\n",
            "--------------------------------------------------------------------------------\n",
            "Epoch: 002/5 | Time: 94.5990s | Train loss: 0.2171 | Dev loss: 0.4958\n",
            "Train Pearson Coef: 0.8909 | Dev Pearson Coef: 0.8762\n",
            "Train Spearman Coef: 0.8305 | Dev Spearman Coef: 0.8243\n",
            "--------------------------------------------------------------------------------\n",
            "Epoch: 003/5 | Time: 94.8928s | Train loss: 0.1294 | Dev loss: 0.4617\n",
            "Train Pearson Coef: 0.9366 | Dev Pearson Coef: 0.8764\n",
            "Train Spearman Coef: 0.8996 | Dev Spearman Coef: 0.8255\n",
            "--------------------------------------------------------------------------------\n",
            "Epoch: 004/5 | Time: 94.5368s | Train loss: 0.0856 | Dev loss: 0.2989\n",
            "Train Pearson Coef: 0.9587 | Dev Pearson Coef: 0.8726\n",
            "Train Spearman Coef: 0.9379 | Dev Spearman Coef: 0.8195\n"
          ]
        },
        {
          "metadata": {
            "tags": null
          },
          "name": "stderr",
          "output_type": "stream",
          "text": [
            "[I 2023-11-17 19:57:19,060] Trial 17 finished with value: 0.2988689709454775 and parameters: {'num_layer': 0, 'dropout': 0.33117802072908453, 'optimizer': 'RMSprop', 'learning_rate': 1.5336265809269994e-05}. Best is trial 14 with value: 0.22891508135944605.\n"
          ]
        },
        {
          "metadata": {
            "tags": null
          },
          "name": "stdout",
          "output_type": "stream",
          "text": [
            "--------------------------------------------------------------------------------\n",
            "Epoch: 005/5 | Time: 94.9118s | Train loss: 0.0588 | Dev loss: 0.3665\n",
            "Train Pearson Coef: 0.9718 | Dev Pearson Coef: 0.8778\n",
            "Train Spearman Coef: 0.9576 | Dev Spearman Coef: 0.8284\n",
            "--------------------------------------------------------------------------------\n",
            "Epoch: 001/5 | Time: 92.1680s | Train loss: 12.1704 | Dev loss: 12.2924\n",
            "Train Pearson Coef: -0.0074 | Dev Pearson Coef: 0.0439\n",
            "Train Spearman Coef: 0.0107 | Dev Spearman Coef: 0.0565\n",
            "--------------------------------------------------------------------------------\n",
            "Epoch: 002/5 | Time: 92.1098s | Train loss: 12.0729 | Dev loss: 12.1905\n",
            "Train Pearson Coef: -0.0065 | Dev Pearson Coef: 0.0449\n",
            "Train Spearman Coef: 0.0117 | Dev Spearman Coef: 0.0583\n",
            "--------------------------------------------------------------------------------\n",
            "Epoch: 003/5 | Time: 92.1148s | Train loss: 11.9757 | Dev loss: 12.0888\n",
            "Train Pearson Coef: -0.0055 | Dev Pearson Coef: 0.0460\n",
            "Train Spearman Coef: 0.0127 | Dev Spearman Coef: 0.0591\n",
            "--------------------------------------------------------------------------------\n",
            "Epoch: 004/5 | Time: 92.1512s | Train loss: 11.8789 | Dev loss: 11.9875\n",
            "Train Pearson Coef: -0.0046 | Dev Pearson Coef: 0.0470\n",
            "Train Spearman Coef: 0.0138 | Dev Spearman Coef: 0.0598\n"
          ]
        },
        {
          "metadata": {
            "tags": null
          },
          "name": "stderr",
          "output_type": "stream",
          "text": [
            "[I 2023-11-17 20:05:08,396] Trial 18 finished with value: 11.886580184102058 and parameters: {'num_layer': 0, 'dropout': 0.1356518007459182, 'optimizer': 'SGD', 'learning_rate': 1.0380520764550495e-05}. Best is trial 14 with value: 0.22891508135944605.\n"
          ]
        },
        {
          "metadata": {
            "tags": null
          },
          "name": "stdout",
          "output_type": "stream",
          "text": [
            "--------------------------------------------------------------------------------\n",
            "Epoch: 005/5 | Time: 92.0708s | Train loss: 11.7824 | Dev loss: 11.8866\n",
            "Train Pearson Coef: -0.0037 | Dev Pearson Coef: 0.0480\n",
            "Train Spearman Coef: 0.0148 | Dev Spearman Coef: 0.0610\n",
            "--------------------------------------------------------------------------------\n",
            "Epoch: 001/5 | Time: 94.6805s | Train loss: 0.6075 | Dev loss: 0.2522\n",
            "Train Pearson Coef: 0.6821 | Dev Pearson Coef: 0.8708\n",
            "Train Spearman Coef: 0.6396 | Dev Spearman Coef: 0.8233\n",
            "--------------------------------------------------------------------------------\n",
            "Epoch: 002/5 | Time: 94.8373s | Train loss: 0.1821 | Dev loss: 0.4389\n",
            "Train Pearson Coef: 0.9095 | Dev Pearson Coef: 0.8754\n",
            "Train Spearman Coef: 0.8586 | Dev Spearman Coef: 0.8213\n",
            "--------------------------------------------------------------------------------\n",
            "Epoch: 003/5 | Time: 94.7386s | Train loss: 0.0995 | Dev loss: 0.2724\n",
            "Train Pearson Coef: 0.9519 | Dev Pearson Coef: 0.8738\n",
            "Train Spearman Coef: 0.9251 | Dev Spearman Coef: 0.8203\n",
            "--------------------------------------------------------------------------------\n",
            "Epoch: 004/5 | Time: 94.7874s | Train loss: 0.0662 | Dev loss: 0.2500\n",
            "Train Pearson Coef: 0.9682 | Dev Pearson Coef: 0.8762\n",
            "Train Spearman Coef: 0.9529 | Dev Spearman Coef: 0.8208\n"
          ]
        },
        {
          "metadata": {
            "tags": null
          },
          "name": "stderr",
          "output_type": "stream",
          "text": [
            "[I 2023-11-17 20:13:11,951] Trial 19 finished with value: 0.25004532001912594 and parameters: {'num_layer': 0, 'dropout': 0.2669497046218891, 'optimizer': 'RMSprop', 'learning_rate': 2.1423862729849018e-05}. Best is trial 14 with value: 0.22891508135944605.\n"
          ]
        },
        {
          "metadata": {
            "tags": null
          },
          "name": "stdout",
          "output_type": "stream",
          "text": [
            "--------------------------------------------------------------------------------\n",
            "Epoch: 005/5 | Time: 94.8187s | Train loss: 0.0459 | Dev loss: 0.2660\n",
            "Train Pearson Coef: 0.9782 | Dev Pearson Coef: 0.8705\n",
            "Train Spearman Coef: 0.9676 | Dev Spearman Coef: 0.8130\n",
            "--------------------------------------------------------------------------------\n",
            "Epoch: 001/5 | Time: 94.7995s | Train loss: 0.6989 | Dev loss: 0.2807\n",
            "Train Pearson Coef: 0.6231 | Dev Pearson Coef: 0.8508\n",
            "Train Spearman Coef: 0.5701 | Dev Spearman Coef: 0.8063\n",
            "--------------------------------------------------------------------------------\n",
            "Epoch: 002/5 | Time: 94.8297s | Train loss: 0.2298 | Dev loss: 0.3503\n",
            "Train Pearson Coef: 0.8848 | Dev Pearson Coef: 0.8647\n",
            "Train Spearman Coef: 0.8228 | Dev Spearman Coef: 0.8135\n",
            "--------------------------------------------------------------------------------\n",
            "Epoch: 003/5 | Time: 94.5080s | Train loss: 0.1257 | Dev loss: 0.3379\n",
            "Train Pearson Coef: 0.9390 | Dev Pearson Coef: 0.8730\n",
            "Train Spearman Coef: 0.9063 | Dev Spearman Coef: 0.8186\n",
            "--------------------------------------------------------------------------------\n",
            "Epoch: 004/5 | Time: 94.7697s | Train loss: 0.0820 | Dev loss: 0.2655\n",
            "Train Pearson Coef: 0.9607 | Dev Pearson Coef: 0.8696\n",
            "Train Spearman Coef: 0.9415 | Dev Spearman Coef: 0.8215\n"
          ]
        },
        {
          "metadata": {
            "tags": null
          },
          "name": "stderr",
          "output_type": "stream",
          "text": [
            "[I 2023-11-17 20:21:10,835] Trial 20 finished with value: 0.26550447940826416 and parameters: {'num_layer': 1, 'dropout': 0.3934931194820991, 'optimizer': 'RMSprop', 'learning_rate': 1.704351009319212e-05}. Best is trial 14 with value: 0.22891508135944605.\n"
          ]
        },
        {
          "metadata": {
            "tags": null
          },
          "name": "stdout",
          "output_type": "stream",
          "text": [
            "--------------------------------------------------------------------------------\n",
            "Epoch: 005/5 | Time: 94.8127s | Train loss: 0.0580 | Dev loss: 0.3816\n",
            "Train Pearson Coef: 0.9722 | Dev Pearson Coef: 0.8727\n",
            "Train Spearman Coef: 0.9599 | Dev Spearman Coef: 0.8182\n",
            "--------------------------------------------------------------------------------\n",
            "Epoch: 001/5 | Time: 94.7620s | Train loss: 0.6028 | Dev loss: 0.2704\n",
            "Train Pearson Coef: 0.6831 | Dev Pearson Coef: 0.8713\n",
            "Train Spearman Coef: 0.6471 | Dev Spearman Coef: 0.8243\n",
            "--------------------------------------------------------------------------------\n",
            "Epoch: 002/5 | Time: 94.9314s | Train loss: 0.1912 | Dev loss: 0.4629\n",
            "Train Pearson Coef: 0.9048 | Dev Pearson Coef: 0.8721\n",
            "Train Spearman Coef: 0.8542 | Dev Spearman Coef: 0.8172\n",
            "--------------------------------------------------------------------------------\n",
            "Epoch: 003/5 | Time: 94.8808s | Train loss: 0.0997 | Dev loss: 0.2813\n",
            "Train Pearson Coef: 0.9518 | Dev Pearson Coef: 0.8748\n",
            "Train Spearman Coef: 0.9268 | Dev Spearman Coef: 0.8194\n",
            "--------------------------------------------------------------------------------\n",
            "Epoch: 004/5 | Time: 94.8655s | Train loss: 0.0645 | Dev loss: 0.2330\n",
            "Train Pearson Coef: 0.9691 | Dev Pearson Coef: 0.8800\n",
            "Train Spearman Coef: 0.9542 | Dev Spearman Coef: 0.8314\n"
          ]
        },
        {
          "metadata": {
            "tags": null
          },
          "name": "stderr",
          "output_type": "stream",
          "text": [
            "[I 2023-11-17 20:29:09,193] Trial 21 finished with value: 0.23303266242146492 and parameters: {'num_layer': 0, 'dropout': 0.28985530383390157, 'optimizer': 'RMSprop', 'learning_rate': 2.429091244350318e-05}. Best is trial 14 with value: 0.22891508135944605.\n"
          ]
        },
        {
          "metadata": {
            "tags": null
          },
          "name": "stdout",
          "output_type": "stream",
          "text": [
            "--------------------------------------------------------------------------------\n",
            "Epoch: 005/5 | Time: 94.8537s | Train loss: 0.0483 | Dev loss: 0.2949\n",
            "Train Pearson Coef: 0.9770 | Dev Pearson Coef: 0.8817\n",
            "Train Spearman Coef: 0.9668 | Dev Spearman Coef: 0.8324\n",
            "--------------------------------------------------------------------------------\n",
            "Epoch: 001/5 | Time: 94.6559s | Train loss: 0.6063 | Dev loss: 0.2674\n",
            "Train Pearson Coef: 0.6849 | Dev Pearson Coef: 0.8747\n",
            "Train Spearman Coef: 0.6504 | Dev Spearman Coef: 0.8246\n",
            "--------------------------------------------------------------------------------\n",
            "Epoch: 002/5 | Time: 94.7140s | Train loss: 0.1783 | Dev loss: 0.3534\n",
            "Train Pearson Coef: 0.9117 | Dev Pearson Coef: 0.8797\n",
            "Train Spearman Coef: 0.8684 | Dev Spearman Coef: 0.8264\n",
            "--------------------------------------------------------------------------------\n",
            "Epoch: 003/5 | Time: 94.4990s | Train loss: 0.0900 | Dev loss: 0.2338\n",
            "Train Pearson Coef: 0.9564 | Dev Pearson Coef: 0.8839\n",
            "Train Spearman Coef: 0.9350 | Dev Spearman Coef: 0.8354\n",
            "--------------------------------------------------------------------------------\n",
            "Epoch: 004/5 | Time: 94.7353s | Train loss: 0.0591 | Dev loss: 0.2686\n",
            "Train Pearson Coef: 0.9717 | Dev Pearson Coef: 0.8836\n",
            "Train Spearman Coef: 0.9593 | Dev Spearman Coef: 0.8376\n"
          ]
        },
        {
          "metadata": {
            "tags": null
          },
          "name": "stderr",
          "output_type": "stream",
          "text": [
            "[I 2023-11-17 20:37:08,466] Trial 22 finished with value: 0.21849243296310306 and parameters: {'num_layer': 0, 'dropout': 0.3253371366891878, 'optimizer': 'RMSprop', 'learning_rate': 2.6470404917373603e-05}. Best is trial 22 with value: 0.21849243296310306.\n"
          ]
        },
        {
          "metadata": {
            "tags": null
          },
          "name": "stdout",
          "output_type": "stream",
          "text": [
            "--------------------------------------------------------------------------------\n",
            "Epoch: 005/5 | Time: 94.8825s | Train loss: 0.0479 | Dev loss: 0.2185\n",
            "Train Pearson Coef: 0.9771 | Dev Pearson Coef: 0.8877\n",
            "Train Spearman Coef: 0.9675 | Dev Spearman Coef: 0.8416\n",
            "--------------------------------------------------------------------------------\n",
            "Epoch: 001/5 | Time: 94.7966s | Train loss: 0.6271 | Dev loss: 0.2600\n",
            "Train Pearson Coef: 0.6727 | Dev Pearson Coef: 0.8683\n",
            "Train Spearman Coef: 0.6420 | Dev Spearman Coef: 0.8250\n",
            "--------------------------------------------------------------------------------\n",
            "Epoch: 002/5 | Time: 94.8164s | Train loss: 0.1892 | Dev loss: 0.2919\n",
            "Train Pearson Coef: 0.9060 | Dev Pearson Coef: 0.8744\n",
            "Train Spearman Coef: 0.8622 | Dev Spearman Coef: 0.8265\n",
            "--------------------------------------------------------------------------------\n",
            "Epoch: 003/5 | Time: 94.5982s | Train loss: 0.0929 | Dev loss: 0.3404\n",
            "Train Pearson Coef: 0.9550 | Dev Pearson Coef: 0.8710\n",
            "Train Spearman Coef: 0.9343 | Dev Spearman Coef: 0.8269\n",
            "--------------------------------------------------------------------------------\n",
            "Epoch: 004/5 | Time: 94.6942s | Train loss: 0.0656 | Dev loss: 0.2826\n",
            "Train Pearson Coef: 0.9685 | Dev Pearson Coef: 0.8752\n",
            "Train Spearman Coef: 0.9559 | Dev Spearman Coef: 0.8255\n"
          ]
        },
        {
          "metadata": {
            "tags": null
          },
          "name": "stderr",
          "output_type": "stream",
          "text": [
            "[I 2023-11-17 20:45:06,417] Trial 23 finished with value: 0.23754541971720755 and parameters: {'num_layer': 0, 'dropout': 0.29072921437013083, 'optimizer': 'RMSprop', 'learning_rate': 2.793923995877553e-05}. Best is trial 22 with value: 0.21849243296310306.\n"
          ]
        },
        {
          "metadata": {
            "tags": null
          },
          "name": "stdout",
          "output_type": "stream",
          "text": [
            "--------------------------------------------------------------------------------\n",
            "Epoch: 005/5 | Time: 94.7581s | Train loss: 0.0479 | Dev loss: 0.2375\n",
            "Train Pearson Coef: 0.9771 | Dev Pearson Coef: 0.8775\n",
            "Train Spearman Coef: 0.9669 | Dev Spearman Coef: 0.8305\n",
            "--------------------------------------------------------------------------------\n",
            "Epoch: 001/5 | Time: 94.6338s | Train loss: 0.6337 | Dev loss: 0.2624\n",
            "Train Pearson Coef: 0.6661 | Dev Pearson Coef: 0.8735\n",
            "Train Spearman Coef: 0.6339 | Dev Spearman Coef: 0.8301\n",
            "--------------------------------------------------------------------------------\n",
            "Epoch: 002/5 | Time: 94.6767s | Train loss: 0.1832 | Dev loss: 0.2771\n",
            "Train Pearson Coef: 0.9091 | Dev Pearson Coef: 0.8855\n",
            "Train Spearman Coef: 0.8628 | Dev Spearman Coef: 0.8328\n",
            "--------------------------------------------------------------------------------\n",
            "Epoch: 003/5 | Time: 94.7116s | Train loss: 0.0937 | Dev loss: 0.2249\n",
            "Train Pearson Coef: 0.9545 | Dev Pearson Coef: 0.8827\n",
            "Train Spearman Coef: 0.9323 | Dev Spearman Coef: 0.8324\n",
            "--------------------------------------------------------------------------------\n",
            "Epoch: 004/5 | Time: 94.9278s | Train loss: 0.0645 | Dev loss: 0.3372\n",
            "Train Pearson Coef: 0.9691 | Dev Pearson Coef: 0.8799\n",
            "Train Spearman Coef: 0.9551 | Dev Spearman Coef: 0.8275\n"
          ]
        },
        {
          "metadata": {
            "tags": null
          },
          "name": "stderr",
          "output_type": "stream",
          "text": [
            "[I 2023-11-17 20:53:05,291] Trial 24 finished with value: 0.22490024426952004 and parameters: {'num_layer': 0, 'dropout': 0.3719248900097957, 'optimizer': 'RMSprop', 'learning_rate': 2.5609497037110907e-05}. Best is trial 22 with value: 0.21849243296310306.\n"
          ]
        },
        {
          "metadata": {
            "tags": null
          },
          "name": "stdout",
          "output_type": "stream",
          "text": [
            "--------------------------------------------------------------------------------\n",
            "Epoch: 005/5 | Time: 94.7893s | Train loss: 0.0474 | Dev loss: 0.2978\n",
            "Train Pearson Coef: 0.9774 | Dev Pearson Coef: 0.8811\n",
            "Train Spearman Coef: 0.9677 | Dev Spearman Coef: 0.8362\n",
            "--------------------------------------------------------------------------------\n",
            "Epoch: 001/5 | Time: 92.2516s | Train loss: 12.0344 | Dev loss: 12.0070\n",
            "Train Pearson Coef: -0.0043 | Dev Pearson Coef: 0.0470\n",
            "Train Spearman Coef: 0.0131 | Dev Spearman Coef: 0.0599\n",
            "--------------------------------------------------------------------------------\n",
            "Epoch: 002/5 | Time: 92.3517s | Train loss: 11.6664 | Dev loss: 11.6241\n",
            "Train Pearson Coef: -0.0007 | Dev Pearson Coef: 0.0509\n",
            "Train Spearman Coef: 0.0173 | Dev Spearman Coef: 0.0639\n",
            "--------------------------------------------------------------------------------\n",
            "Epoch: 003/5 | Time: 92.1236s | Train loss: 11.3030 | Dev loss: 11.2460\n",
            "Train Pearson Coef: 0.0029 | Dev Pearson Coef: 0.0548\n",
            "Train Spearman Coef: 0.0215 | Dev Spearman Coef: 0.0674\n",
            "--------------------------------------------------------------------------------\n",
            "Epoch: 004/5 | Time: 92.3503s | Train loss: 10.9440 | Dev loss: 10.8724\n",
            "Train Pearson Coef: 0.0065 | Dev Pearson Coef: 0.0585\n",
            "Train Spearman Coef: 0.0255 | Dev Spearman Coef: 0.0716\n"
          ]
        },
        {
          "metadata": {
            "tags": null
          },
          "name": "stderr",
          "output_type": "stream",
          "text": [
            "[I 2023-11-17 21:00:59,626] Trial 25 finished with value: 10.503153055906296 and parameters: {'num_layer': 0, 'dropout': 0.44455460734629004, 'optimizer': 'SGD', 'learning_rate': 3.8404150714746564e-05}. Best is trial 22 with value: 0.21849243296310306.\n"
          ]
        },
        {
          "metadata": {
            "tags": null
          },
          "name": "stdout",
          "output_type": "stream",
          "text": [
            "--------------------------------------------------------------------------------\n",
            "Epoch: 005/5 | Time: 92.3294s | Train loss: 10.5892 | Dev loss: 10.5032\n",
            "Train Pearson Coef: 0.0100 | Dev Pearson Coef: 0.0620\n",
            "Train Spearman Coef: 0.0295 | Dev Spearman Coef: 0.0752\n",
            "--------------------------------------------------------------------------------\n",
            "Epoch: 001/5 | Time: 94.6240s | Train loss: 0.7207 | Dev loss: 0.3254\n",
            "Train Pearson Coef: 0.6144 | Dev Pearson Coef: 0.8529\n",
            "Train Spearman Coef: 0.5611 | Dev Spearman Coef: 0.8018\n",
            "--------------------------------------------------------------------------------\n",
            "Epoch: 002/5 | Time: 94.6913s | Train loss: 0.2275 | Dev loss: 0.5523\n",
            "Train Pearson Coef: 0.8855 | Dev Pearson Coef: 0.8638\n",
            "Train Spearman Coef: 0.8202 | Dev Spearman Coef: 0.8103\n",
            "--------------------------------------------------------------------------------\n",
            "Epoch: 003/5 | Time: 94.7056s | Train loss: 0.1268 | Dev loss: 0.4754\n",
            "Train Pearson Coef: 0.9379 | Dev Pearson Coef: 0.8688\n",
            "Train Spearman Coef: 0.9030 | Dev Spearman Coef: 0.8139\n",
            "--------------------------------------------------------------------------------\n",
            "Epoch: 004/5 | Time: 94.8673s | Train loss: 0.0825 | Dev loss: 0.4445\n",
            "Train Pearson Coef: 0.9601 | Dev Pearson Coef: 0.8703\n",
            "Train Spearman Coef: 0.9404 | Dev Spearman Coef: 0.8134\n"
          ]
        },
        {
          "metadata": {
            "tags": null
          },
          "name": "stderr",
          "output_type": "stream",
          "text": [
            "[I 2023-11-17 21:08:56,463] Trial 26 finished with value: 0.3253776691854 and parameters: {'num_layer': 0, 'dropout': 0.3764256718644101, 'optimizer': 'RMSprop', 'learning_rate': 1.8769393660718067e-05}. Best is trial 22 with value: 0.21849243296310306.\n"
          ]
        },
        {
          "metadata": {
            "tags": null
          },
          "name": "stdout",
          "output_type": "stream",
          "text": [
            "--------------------------------------------------------------------------------\n",
            "Epoch: 005/5 | Time: 94.7626s | Train loss: 0.0532 | Dev loss: 0.4031\n",
            "Train Pearson Coef: 0.9745 | Dev Pearson Coef: 0.8735\n",
            "Train Spearman Coef: 0.9631 | Dev Spearman Coef: 0.8199\n",
            "--------------------------------------------------------------------------------\n",
            "Epoch: 001/5 | Time: 94.9013s | Train loss: 0.7341 | Dev loss: 0.2591\n",
            "Train Pearson Coef: 0.6198 | Dev Pearson Coef: 0.8706\n",
            "Train Spearman Coef: 0.5593 | Dev Spearman Coef: 0.8305\n",
            "--------------------------------------------------------------------------------\n",
            "Epoch: 002/5 | Time: 94.8293s | Train loss: 0.2305 | Dev loss: 0.4878\n",
            "Train Pearson Coef: 0.8854 | Dev Pearson Coef: 0.8748\n",
            "Train Spearman Coef: 0.8292 | Dev Spearman Coef: 0.8287\n",
            "--------------------------------------------------------------------------------\n",
            "Epoch: 003/5 | Time: 94.5781s | Train loss: 0.1229 | Dev loss: 0.4275\n",
            "Train Pearson Coef: 0.9403 | Dev Pearson Coef: 0.8792\n",
            "Train Spearman Coef: 0.9122 | Dev Spearman Coef: 0.8331\n",
            "--------------------------------------------------------------------------------\n",
            "Epoch: 004/5 | Time: 94.9138s | Train loss: 0.0857 | Dev loss: 0.3340\n",
            "Train Pearson Coef: 0.9590 | Dev Pearson Coef: 0.8736\n",
            "Train Spearman Coef: 0.9385 | Dev Spearman Coef: 0.8193\n"
          ]
        },
        {
          "metadata": {
            "tags": null
          },
          "name": "stderr",
          "output_type": "stream",
          "text": [
            "[I 2023-11-17 21:16:59,216] Trial 27 finished with value: 0.22889344627037644 and parameters: {'num_layer': 1, 'dropout': 0.4795724573562925, 'optimizer': 'RMSprop', 'learning_rate': 2.8531003963147673e-05}. Best is trial 22 with value: 0.21849243296310306.\n"
          ]
        },
        {
          "metadata": {
            "tags": null
          },
          "name": "stdout",
          "output_type": "stream",
          "text": [
            "--------------------------------------------------------------------------------\n",
            "Epoch: 005/5 | Time: 94.5379s | Train loss: 0.0680 | Dev loss: 0.2289\n",
            "Train Pearson Coef: 0.9676 | Dev Pearson Coef: 0.8808\n",
            "Train Spearman Coef: 0.9521 | Dev Spearman Coef: 0.8298\n",
            "--------------------------------------------------------------------------------\n",
            "Epoch: 001/5 | Time: 95.0212s | Train loss: 0.7988 | Dev loss: 0.2683\n",
            "Train Pearson Coef: 0.5748 | Dev Pearson Coef: 0.8630\n",
            "Train Spearman Coef: 0.5167 | Dev Spearman Coef: 0.8206\n",
            "--------------------------------------------------------------------------------\n",
            "Epoch: 002/5 | Time: 94.8607s | Train loss: 0.2319 | Dev loss: 0.3543\n",
            "Train Pearson Coef: 0.8840 | Dev Pearson Coef: 0.8741\n",
            "Train Spearman Coef: 0.8244 | Dev Spearman Coef: 0.8274\n",
            "--------------------------------------------------------------------------------\n",
            "Epoch: 003/5 | Time: 94.9492s | Train loss: 0.1396 | Dev loss: 0.4565\n",
            "Train Pearson Coef: 0.9321 | Dev Pearson Coef: 0.8750\n",
            "Train Spearman Coef: 0.8977 | Dev Spearman Coef: 0.8253\n",
            "--------------------------------------------------------------------------------\n",
            "Epoch: 004/5 | Time: 94.7746s | Train loss: 0.0917 | Dev loss: 0.3889\n",
            "Train Pearson Coef: 0.9558 | Dev Pearson Coef: 0.8743\n",
            "Train Spearman Coef: 0.9352 | Dev Spearman Coef: 0.8260\n"
          ]
        },
        {
          "metadata": {
            "tags": null
          },
          "name": "stderr",
          "output_type": "stream",
          "text": [
            "[I 2023-11-17 21:24:57,158] Trial 28 finished with value: 0.2683083498850465 and parameters: {'num_layer': 1, 'dropout': 0.4790996483628157, 'optimizer': 'RMSprop', 'learning_rate': 2.7597108923430253e-05}. Best is trial 22 with value: 0.21849243296310306.\n"
          ]
        },
        {
          "output_type": "stream",
          "name": "stdout",
          "text": [
            "--------------------------------------------------------------------------------\n",
            "Epoch: 005/5 | Time: 94.6782s | Train loss: 0.0735 | Dev loss: 0.2704\n",
            "Train Pearson Coef: 0.9650 | Dev Pearson Coef: 0.8806\n",
            "Train Spearman Coef: 0.9484 | Dev Spearman Coef: 0.8314\n",
            "--------------------------------------------------------------------------------\n",
            "Epoch: 001/5 | Time: 92.2411s | Train loss: 12.7658 | Dev loss: 12.7503\n",
            "Train Pearson Coef: 0.0073 | Dev Pearson Coef: 0.0628\n",
            "Train Spearman Coef: -0.0006 | Dev Spearman Coef: 0.0456\n",
            "--------------------------------------------------------------------------------\n",
            "Epoch: 002/5 | Time: 92.5292s | Train loss: 12.5313 | Dev loss: 12.5065\n",
            "Train Pearson Coef: 0.0086 | Dev Pearson Coef: 0.0654\n",
            "Train Spearman Coef: 0.0012 | Dev Spearman Coef: 0.0514\n",
            "--------------------------------------------------------------------------------\n",
            "Epoch: 003/5 | Time: 92.3334s | Train loss: 12.2981 | Dev loss: 12.2640\n",
            "Train Pearson Coef: 0.0098 | Dev Pearson Coef: 0.0675\n",
            "Train Spearman Coef: 0.0030 | Dev Spearman Coef: 0.0575\n",
            "--------------------------------------------------------------------------------\n",
            "Epoch: 004/5 | Time: 92.2761s | Train loss: 12.0660 | Dev loss: 12.0226\n",
            "Train Pearson Coef: 0.0109 | Dev Pearson Coef: 0.0695\n",
            "Train Spearman Coef: 0.0048 | Dev Spearman Coef: 0.0627\n"
          ]
        },
        {
          "output_type": "stream",
          "name": "stderr",
          "text": [
            "[I 2023-11-17 21:32:53,666] Trial 29 finished with value: 11.782268702983856 and parameters: {'num_layer': 1, 'dropout': 0.37585747726213736, 'optimizer': 'SGD', 'learning_rate': 3.238480346711476e-05}. Best is trial 22 with value: 0.21849243296310306.\n"
          ]
        },
        {
          "output_type": "stream",
          "name": "stdout",
          "text": [
            "--------------------------------------------------------------------------------\n",
            "Epoch: 005/5 | Time: 92.3318s | Train loss: 11.8349 | Dev loss: 11.7823\n",
            "Train Pearson Coef: 0.0121 | Dev Pearson Coef: 0.0714\n",
            "Train Spearman Coef: 0.0066 | Dev Spearman Coef: 0.0666\n"
          ]
        }
      ]
    },
    {
      "cell_type": "code",
      "source": [
        "df_optuna = study.trials_dataframe(attrs=(\"number\", \"value\", \"params\", \"state\")).dropna(subset=['value']) #eliminar valores NaN\n",
        "# Leer el archivo metrics.CSV y crear un DataFrame\n",
        "path_metrics = path_base + 'metrics_' + study_name + \".csv\"\n",
        "df_metrics = pd.read_csv(path_metrics).dropna(subset=['train_loss'])\n",
        "print(len(df_optuna))\n",
        "print(len(df_metrics ))"
      ],
      "metadata": {
        "id": "QgLFZ3WuZnpZ",
        "colab": {
          "base_uri": "https://localhost:8080/"
        },
        "outputId": "54d4885e-7184-4148-982f-d7089406fd9a"
      },
      "execution_count": null,
      "outputs": [
        {
          "output_type": "stream",
          "name": "stdout",
          "text": [
            "30\n",
            "30\n"
          ]
        }
      ]
    },
    {
      "cell_type": "code",
      "source": [
        "#df_metrics = df_metrics[['train_loss', 'valid_loss', 'pearson_train', 'pearson_val', 'spearman_train', 'spearman_val']]"
      ],
      "metadata": {
        "id": "EUzeE8-9R-Jm"
      },
      "execution_count": null,
      "outputs": []
    },
    {
      "cell_type": "code",
      "source": [
        "#df_metrics = df_metrics.rename(columns={'train_loss': 'train_loss', 'valid_loss': 'val_loss', 'pearson_train': 'Pearson_train','pearson_val': 'Pearson_val', 'spearman_train': 'Spearman_train', 'spearman_val': 'Spearman_val'})"
      ],
      "metadata": {
        "id": "4zknzTnaL17p"
      },
      "execution_count": null,
      "outputs": []
    },
    {
      "cell_type": "code",
      "source": [
        "df_metrics"
      ],
      "metadata": {
        "id": "beciGKSGSu-U"
      },
      "execution_count": null,
      "outputs": []
    },
    {
      "cell_type": "code",
      "source": [
        "df_old = pd.read_csv(path_base + study_name + \"_COMPLETE_SORT.csv\")\n",
        "print(\"Old trials: \", len(df_old))"
      ],
      "metadata": {
        "id": "x9nvclWeZ1gc",
        "colab": {
          "base_uri": "https://localhost:8080/"
        },
        "outputId": "0c78a022-5b84-4dd8-dfb4-ddcaf834abf6"
      },
      "execution_count": null,
      "outputs": [
        {
          "output_type": "stream",
          "name": "stdout",
          "text": [
            "Old trials:  15\n"
          ]
        }
      ]
    },
    {
      "cell_type": "code",
      "source": [
        "#df_old = df_old[['number','value','params_dropout','params_learning_rate','params_num_layer','params_optimizer','state','train_loss', 'val_loss', 'Spearman_train','Spearman_val','Pearson_train','Pearson_val']]"
      ],
      "metadata": {
        "id": "QaQZ0s9dpxho"
      },
      "execution_count": null,
      "outputs": []
    },
    {
      "cell_type": "code",
      "source": [
        "#df_old = df_old.rename(columns={'val_loss': 'valid_loss', 'Spearman_train': 'spearman_train', 'Spearman_val': 'spearman_val', 'Pearson_train':'pearson_train','Pearson_val':'pearson_val'})\n"
      ],
      "metadata": {
        "id": "rRON1DZuqejf"
      },
      "execution_count": null,
      "outputs": []
    },
    {
      "cell_type": "code",
      "source": [
        "# Seleccionar los valores de df_optuna que no están ya en df_old\n",
        "if len(df_optuna)-len(df_metrics) == len(df_old):\n",
        "    df_optuna_filter = df_optuna.tail(len(df_metrics)).reset_index(drop=True)\n",
        "else:\n",
        "    # Seleccionar los valores de df_optuna que no están ya en df_old\n",
        "    mask = ~df_optuna['value'].isin(df_old['value'])\n",
        "    df_optuna_filter = df_optuna[mask].reset_index(drop=True)\n",
        "    print(len(df_optuna_filter))"
      ],
      "metadata": {
        "id": "d8OF3gFAZ3Nk",
        "colab": {
          "base_uri": "https://localhost:8080/"
        },
        "outputId": "b5ff4fe7-4e69-41ef-813e-5a2e2cc4c9ba"
      },
      "execution_count": null,
      "outputs": [
        {
          "output_type": "stream",
          "name": "stdout",
          "text": [
            "21\n"
          ]
        }
      ]
    },
    {
      "cell_type": "code",
      "source": [
        "def concat(df_optuna_filter, df_metrics, df_old):\n",
        "  # Unir dataframe de metrics con dataframe de optuna de forma horizontal y manejar los valores inexistentes\n",
        "  df_join = pd.concat([df_optuna_filter, df_metrics], axis=1, sort=False)\n",
        "  # Unir dataframe de metrics con dataframe de optuna de forma vertical y manejar los valores inexistentes\n",
        "  df_complete_updated = pd.concat([df_old, df_join], axis=0, sort=False).drop_duplicates()\n",
        "  print(\"All trials: \", len(df_complete_updated))\n",
        "  assert len(df_join) + len(df_old) == len(df_complete_updated)\n",
        "  return df_complete_updated"
      ],
      "metadata": {
        "id": "wS3H4F8GZ5iB"
      },
      "execution_count": null,
      "outputs": []
    },
    {
      "cell_type": "code",
      "source": [
        "if len(df_optuna_filter) == len(df_metrics):\n",
        "  df_complete_updated = concat(df_optuna_filter, df_metrics, df_old).dropna(subset=['train_loss', 'value'])\n",
        "\n",
        "if len(df_optuna_filter) > len(df_metrics):\n",
        "  num_rows_to_add = len(df_optuna_filter) - len(df_metrics)\n",
        "  new_rows = [[np.nan] * len(df_metrics.columns) for i in range(num_rows_to_add)]\n",
        "  new_df = pd.DataFrame(new_rows, columns=df_metrics.columns)\n",
        "  df_metrics = pd.concat([new_df, df_metrics], ignore_index=True)\n",
        "  df_complete_updated = concat(df_optuna_filter, df_metrics, df_old).dropna(subset=['train_loss','value'])"
      ],
      "metadata": {
        "id": "7dAZ3rhaZ8O8"
      },
      "execution_count": null,
      "outputs": []
    },
    {
      "cell_type": "code",
      "source": [
        "if len(df_optuna) == len(df_metrics):\n",
        "  df_complete_updated = pd.concat([df_optuna, df_metrics], axis=1, sort=False)"
      ],
      "metadata": {
        "id": "Meffcc_37T0g"
      },
      "execution_count": null,
      "outputs": []
    },
    {
      "cell_type": "code",
      "source": [
        "df_complete_updated"
      ],
      "metadata": {
        "id": "1sOhGFHTLPf2"
      },
      "execution_count": null,
      "outputs": []
    },
    {
      "cell_type": "code",
      "source": [
        "# Ordenar el DataFrame unido por valor\n",
        "df = df_complete_updated.sort_values(by='value', ascending=True)\n",
        "# Obtener la prueba con el mejor valor\n",
        "best_trial = df.iloc[0]\n",
        "print(\"Best trial: \")\n",
        "print(best_trial)"
      ],
      "metadata": {
        "id": "MxQ5fxnEaAGo",
        "colab": {
          "base_uri": "https://localhost:8080/"
        },
        "outputId": "f80577ef-41aa-4807-c493-a4c59843d454"
      },
      "execution_count": null,
      "outputs": [
        {
          "output_type": "stream",
          "name": "stdout",
          "text": [
            "Best trial: \n",
            "number                                                                 22\n",
            "value                                                            0.218492\n",
            "params_dropout                                                   0.325337\n",
            "params_learning_rate                                             0.000026\n",
            "params_num_layer                                                        0\n",
            "params_optimizer                                                  RMSprop\n",
            "state                                                            COMPLETE\n",
            "train_loss              [0.6062887161970139, 0.17827804059647828, 0.08...\n",
            "valid_loss              [0.2674328852444887, 0.35335296764969826, 0.23...\n",
            "spearman_train          [0.6504019766387401, 0.868394690266739, 0.9349...\n",
            "spearman_val            [0.8245921715010127, 0.8264217401228285, 0.835...\n",
            "pearson_train           [0.684871116208399, 0.911718797236082, 0.95635...\n",
            "pearson_val             [0.8746574743293634, 0.8797325323184438, 0.883...\n",
            "Name: 22, dtype: object\n"
          ]
        }
      ]
    },
    {
      "cell_type": "code",
      "source": [
        "#Guardar CSV completo y ordenado\n",
        "# ruta de acceso a la carpeta de Google Drive montada\n",
        "#os.remove(path_base + study_name + \"_COMPLETE_SORT.csv\")\n",
        "path_ = path_base + study_name + \"_COMPLETE_SORT.csv\"\n",
        "# guardar el archivo CSV en Google Drive\n",
        "df.to_csv(path_, index=False)\n",
        "files.download(path_)\n",
        "#os.remove(path_metrics)"
      ],
      "metadata": {
        "id": "IKMYJGgMaCCY",
        "colab": {
          "base_uri": "https://localhost:8080/",
          "height": 17
        },
        "outputId": "5f792fce-9213-41f1-d7ad-1bd542a40a32"
      },
      "execution_count": null,
      "outputs": [
        {
          "output_type": "display_data",
          "data": {
            "text/plain": [
              "<IPython.core.display.Javascript object>"
            ],
            "application/javascript": [
              "\n",
              "    async function download(id, filename, size) {\n",
              "      if (!google.colab.kernel.accessAllowed) {\n",
              "        return;\n",
              "      }\n",
              "      const div = document.createElement('div');\n",
              "      const label = document.createElement('label');\n",
              "      label.textContent = `Downloading \"${filename}\": `;\n",
              "      div.appendChild(label);\n",
              "      const progress = document.createElement('progress');\n",
              "      progress.max = size;\n",
              "      div.appendChild(progress);\n",
              "      document.body.appendChild(div);\n",
              "\n",
              "      const buffers = [];\n",
              "      let downloaded = 0;\n",
              "\n",
              "      const channel = await google.colab.kernel.comms.open(id);\n",
              "      // Send a message to notify the kernel that we're ready.\n",
              "      channel.send({})\n",
              "\n",
              "      for await (const message of channel.messages) {\n",
              "        // Send a message to notify the kernel that we're ready.\n",
              "        channel.send({})\n",
              "        if (message.buffers) {\n",
              "          for (const buffer of message.buffers) {\n",
              "            buffers.push(buffer);\n",
              "            downloaded += buffer.byteLength;\n",
              "            progress.value = downloaded;\n",
              "          }\n",
              "        }\n",
              "      }\n",
              "      const blob = new Blob(buffers, {type: 'application/binary'});\n",
              "      const a = document.createElement('a');\n",
              "      a.href = window.URL.createObjectURL(blob);\n",
              "      a.download = filename;\n",
              "      div.appendChild(a);\n",
              "      a.click();\n",
              "      div.remove();\n",
              "    }\n",
              "  "
            ]
          },
          "metadata": {}
        },
        {
          "output_type": "display_data",
          "data": {
            "text/plain": [
              "<IPython.core.display.Javascript object>"
            ],
            "application/javascript": [
              "download(\"download_3732da70-842f-4a57-8ac7-49b8e92a2cba\", \"study-bert-mean-pooling-base-sick_COMPLETE_SORT.csv\", 21399)"
            ]
          },
          "metadata": {}
        }
      ]
    }
  ],
  "metadata": {
    "colab": {
      "provenance": [],
      "gpuType": "T4"
    },
    "gpuClass": "standard",
    "kernelspec": {
      "display_name": "Python 3",
      "name": "python3"
    },
    "language_info": {
      "codemirror_mode": {
        "name": "ipython",
        "version": 3
      },
      "file_extension": ".py",
      "mimetype": "text/x-python",
      "name": "python",
      "nbconvert_exporter": "python",
      "pygments_lexer": "ipython3",
      "version": "3.9.4"
    },
    "accelerator": "GPU",
    "widgets": {
      "application/vnd.jupyter.widget-state+json": {
        "fe4615a7cf1b4a8eb0ac1464cef4575a": {
          "model_module": "@jupyter-widgets/controls",
          "model_name": "HBoxModel",
          "model_module_version": "1.5.0",
          "state": {
            "_dom_classes": [],
            "_model_module": "@jupyter-widgets/controls",
            "_model_module_version": "1.5.0",
            "_model_name": "HBoxModel",
            "_view_count": null,
            "_view_module": "@jupyter-widgets/controls",
            "_view_module_version": "1.5.0",
            "_view_name": "HBoxView",
            "box_style": "",
            "children": [
              "IPY_MODEL_ccae70777b5e4336b4b038a03a024bd8",
              "IPY_MODEL_4c9126d7cb644106a4444cb5289983b6",
              "IPY_MODEL_94b8524d84084063adeb15568cca0d06"
            ],
            "layout": "IPY_MODEL_cf59cd78773a4e779b504b57220ed2ed"
          }
        },
        "ccae70777b5e4336b4b038a03a024bd8": {
          "model_module": "@jupyter-widgets/controls",
          "model_name": "HTMLModel",
          "model_module_version": "1.5.0",
          "state": {
            "_dom_classes": [],
            "_model_module": "@jupyter-widgets/controls",
            "_model_module_version": "1.5.0",
            "_model_name": "HTMLModel",
            "_view_count": null,
            "_view_module": "@jupyter-widgets/controls",
            "_view_module_version": "1.5.0",
            "_view_name": "HTMLView",
            "description": "",
            "description_tooltip": null,
            "layout": "IPY_MODEL_c1a717f0dc2245c5ab100b8a6fd0fe7a",
            "placeholder": "​",
            "style": "IPY_MODEL_c0719b99250f413f9512b13d490e3c13",
            "value": "tokenizer_config.json: 100%"
          }
        },
        "4c9126d7cb644106a4444cb5289983b6": {
          "model_module": "@jupyter-widgets/controls",
          "model_name": "FloatProgressModel",
          "model_module_version": "1.5.0",
          "state": {
            "_dom_classes": [],
            "_model_module": "@jupyter-widgets/controls",
            "_model_module_version": "1.5.0",
            "_model_name": "FloatProgressModel",
            "_view_count": null,
            "_view_module": "@jupyter-widgets/controls",
            "_view_module_version": "1.5.0",
            "_view_name": "ProgressView",
            "bar_style": "success",
            "description": "",
            "description_tooltip": null,
            "layout": "IPY_MODEL_d0b06af239fb44cf9e84772bb7bf1357",
            "max": 28,
            "min": 0,
            "orientation": "horizontal",
            "style": "IPY_MODEL_b7247114ef1241adb0f06cde7ad02fdc",
            "value": 28
          }
        },
        "94b8524d84084063adeb15568cca0d06": {
          "model_module": "@jupyter-widgets/controls",
          "model_name": "HTMLModel",
          "model_module_version": "1.5.0",
          "state": {
            "_dom_classes": [],
            "_model_module": "@jupyter-widgets/controls",
            "_model_module_version": "1.5.0",
            "_model_name": "HTMLModel",
            "_view_count": null,
            "_view_module": "@jupyter-widgets/controls",
            "_view_module_version": "1.5.0",
            "_view_name": "HTMLView",
            "description": "",
            "description_tooltip": null,
            "layout": "IPY_MODEL_39d9857b9a39433280b16d946a62a11d",
            "placeholder": "​",
            "style": "IPY_MODEL_7f1fe6dc356640ed846205af19dc7d44",
            "value": " 28.0/28.0 [00:00&lt;00:00, 1.51kB/s]"
          }
        },
        "cf59cd78773a4e779b504b57220ed2ed": {
          "model_module": "@jupyter-widgets/base",
          "model_name": "LayoutModel",
          "model_module_version": "1.2.0",
          "state": {
            "_model_module": "@jupyter-widgets/base",
            "_model_module_version": "1.2.0",
            "_model_name": "LayoutModel",
            "_view_count": null,
            "_view_module": "@jupyter-widgets/base",
            "_view_module_version": "1.2.0",
            "_view_name": "LayoutView",
            "align_content": null,
            "align_items": null,
            "align_self": null,
            "border": null,
            "bottom": null,
            "display": null,
            "flex": null,
            "flex_flow": null,
            "grid_area": null,
            "grid_auto_columns": null,
            "grid_auto_flow": null,
            "grid_auto_rows": null,
            "grid_column": null,
            "grid_gap": null,
            "grid_row": null,
            "grid_template_areas": null,
            "grid_template_columns": null,
            "grid_template_rows": null,
            "height": null,
            "justify_content": null,
            "justify_items": null,
            "left": null,
            "margin": null,
            "max_height": null,
            "max_width": null,
            "min_height": null,
            "min_width": null,
            "object_fit": null,
            "object_position": null,
            "order": null,
            "overflow": null,
            "overflow_x": null,
            "overflow_y": null,
            "padding": null,
            "right": null,
            "top": null,
            "visibility": null,
            "width": null
          }
        },
        "c1a717f0dc2245c5ab100b8a6fd0fe7a": {
          "model_module": "@jupyter-widgets/base",
          "model_name": "LayoutModel",
          "model_module_version": "1.2.0",
          "state": {
            "_model_module": "@jupyter-widgets/base",
            "_model_module_version": "1.2.0",
            "_model_name": "LayoutModel",
            "_view_count": null,
            "_view_module": "@jupyter-widgets/base",
            "_view_module_version": "1.2.0",
            "_view_name": "LayoutView",
            "align_content": null,
            "align_items": null,
            "align_self": null,
            "border": null,
            "bottom": null,
            "display": null,
            "flex": null,
            "flex_flow": null,
            "grid_area": null,
            "grid_auto_columns": null,
            "grid_auto_flow": null,
            "grid_auto_rows": null,
            "grid_column": null,
            "grid_gap": null,
            "grid_row": null,
            "grid_template_areas": null,
            "grid_template_columns": null,
            "grid_template_rows": null,
            "height": null,
            "justify_content": null,
            "justify_items": null,
            "left": null,
            "margin": null,
            "max_height": null,
            "max_width": null,
            "min_height": null,
            "min_width": null,
            "object_fit": null,
            "object_position": null,
            "order": null,
            "overflow": null,
            "overflow_x": null,
            "overflow_y": null,
            "padding": null,
            "right": null,
            "top": null,
            "visibility": null,
            "width": null
          }
        },
        "c0719b99250f413f9512b13d490e3c13": {
          "model_module": "@jupyter-widgets/controls",
          "model_name": "DescriptionStyleModel",
          "model_module_version": "1.5.0",
          "state": {
            "_model_module": "@jupyter-widgets/controls",
            "_model_module_version": "1.5.0",
            "_model_name": "DescriptionStyleModel",
            "_view_count": null,
            "_view_module": "@jupyter-widgets/base",
            "_view_module_version": "1.2.0",
            "_view_name": "StyleView",
            "description_width": ""
          }
        },
        "d0b06af239fb44cf9e84772bb7bf1357": {
          "model_module": "@jupyter-widgets/base",
          "model_name": "LayoutModel",
          "model_module_version": "1.2.0",
          "state": {
            "_model_module": "@jupyter-widgets/base",
            "_model_module_version": "1.2.0",
            "_model_name": "LayoutModel",
            "_view_count": null,
            "_view_module": "@jupyter-widgets/base",
            "_view_module_version": "1.2.0",
            "_view_name": "LayoutView",
            "align_content": null,
            "align_items": null,
            "align_self": null,
            "border": null,
            "bottom": null,
            "display": null,
            "flex": null,
            "flex_flow": null,
            "grid_area": null,
            "grid_auto_columns": null,
            "grid_auto_flow": null,
            "grid_auto_rows": null,
            "grid_column": null,
            "grid_gap": null,
            "grid_row": null,
            "grid_template_areas": null,
            "grid_template_columns": null,
            "grid_template_rows": null,
            "height": null,
            "justify_content": null,
            "justify_items": null,
            "left": null,
            "margin": null,
            "max_height": null,
            "max_width": null,
            "min_height": null,
            "min_width": null,
            "object_fit": null,
            "object_position": null,
            "order": null,
            "overflow": null,
            "overflow_x": null,
            "overflow_y": null,
            "padding": null,
            "right": null,
            "top": null,
            "visibility": null,
            "width": null
          }
        },
        "b7247114ef1241adb0f06cde7ad02fdc": {
          "model_module": "@jupyter-widgets/controls",
          "model_name": "ProgressStyleModel",
          "model_module_version": "1.5.0",
          "state": {
            "_model_module": "@jupyter-widgets/controls",
            "_model_module_version": "1.5.0",
            "_model_name": "ProgressStyleModel",
            "_view_count": null,
            "_view_module": "@jupyter-widgets/base",
            "_view_module_version": "1.2.0",
            "_view_name": "StyleView",
            "bar_color": null,
            "description_width": ""
          }
        },
        "39d9857b9a39433280b16d946a62a11d": {
          "model_module": "@jupyter-widgets/base",
          "model_name": "LayoutModel",
          "model_module_version": "1.2.0",
          "state": {
            "_model_module": "@jupyter-widgets/base",
            "_model_module_version": "1.2.0",
            "_model_name": "LayoutModel",
            "_view_count": null,
            "_view_module": "@jupyter-widgets/base",
            "_view_module_version": "1.2.0",
            "_view_name": "LayoutView",
            "align_content": null,
            "align_items": null,
            "align_self": null,
            "border": null,
            "bottom": null,
            "display": null,
            "flex": null,
            "flex_flow": null,
            "grid_area": null,
            "grid_auto_columns": null,
            "grid_auto_flow": null,
            "grid_auto_rows": null,
            "grid_column": null,
            "grid_gap": null,
            "grid_row": null,
            "grid_template_areas": null,
            "grid_template_columns": null,
            "grid_template_rows": null,
            "height": null,
            "justify_content": null,
            "justify_items": null,
            "left": null,
            "margin": null,
            "max_height": null,
            "max_width": null,
            "min_height": null,
            "min_width": null,
            "object_fit": null,
            "object_position": null,
            "order": null,
            "overflow": null,
            "overflow_x": null,
            "overflow_y": null,
            "padding": null,
            "right": null,
            "top": null,
            "visibility": null,
            "width": null
          }
        },
        "7f1fe6dc356640ed846205af19dc7d44": {
          "model_module": "@jupyter-widgets/controls",
          "model_name": "DescriptionStyleModel",
          "model_module_version": "1.5.0",
          "state": {
            "_model_module": "@jupyter-widgets/controls",
            "_model_module_version": "1.5.0",
            "_model_name": "DescriptionStyleModel",
            "_view_count": null,
            "_view_module": "@jupyter-widgets/base",
            "_view_module_version": "1.2.0",
            "_view_name": "StyleView",
            "description_width": ""
          }
        },
        "e7cf1b321fc24417a6c685ab3560fce3": {
          "model_module": "@jupyter-widgets/controls",
          "model_name": "HBoxModel",
          "model_module_version": "1.5.0",
          "state": {
            "_dom_classes": [],
            "_model_module": "@jupyter-widgets/controls",
            "_model_module_version": "1.5.0",
            "_model_name": "HBoxModel",
            "_view_count": null,
            "_view_module": "@jupyter-widgets/controls",
            "_view_module_version": "1.5.0",
            "_view_name": "HBoxView",
            "box_style": "",
            "children": [
              "IPY_MODEL_1cddd630b6f243369ba6f686dbc3ac4b",
              "IPY_MODEL_bf29a104913f4d77af02ac0fa8594b27",
              "IPY_MODEL_e6fdc817b7a44071a868d3ec859658b7"
            ],
            "layout": "IPY_MODEL_e6bf90a09ea643d8b903a1a7886f9faf"
          }
        },
        "1cddd630b6f243369ba6f686dbc3ac4b": {
          "model_module": "@jupyter-widgets/controls",
          "model_name": "HTMLModel",
          "model_module_version": "1.5.0",
          "state": {
            "_dom_classes": [],
            "_model_module": "@jupyter-widgets/controls",
            "_model_module_version": "1.5.0",
            "_model_name": "HTMLModel",
            "_view_count": null,
            "_view_module": "@jupyter-widgets/controls",
            "_view_module_version": "1.5.0",
            "_view_name": "HTMLView",
            "description": "",
            "description_tooltip": null,
            "layout": "IPY_MODEL_4e9df1d8477b4956a64e7b3229ecb1a7",
            "placeholder": "​",
            "style": "IPY_MODEL_21e0cd30b80c4e9d8c454d66dad10c32",
            "value": "vocab.txt: 100%"
          }
        },
        "bf29a104913f4d77af02ac0fa8594b27": {
          "model_module": "@jupyter-widgets/controls",
          "model_name": "FloatProgressModel",
          "model_module_version": "1.5.0",
          "state": {
            "_dom_classes": [],
            "_model_module": "@jupyter-widgets/controls",
            "_model_module_version": "1.5.0",
            "_model_name": "FloatProgressModel",
            "_view_count": null,
            "_view_module": "@jupyter-widgets/controls",
            "_view_module_version": "1.5.0",
            "_view_name": "ProgressView",
            "bar_style": "success",
            "description": "",
            "description_tooltip": null,
            "layout": "IPY_MODEL_dd721f2bd0b54f2482adb9b978c3aad3",
            "max": 231508,
            "min": 0,
            "orientation": "horizontal",
            "style": "IPY_MODEL_8eb558bc85434df0b2643dfeabedcf2c",
            "value": 231508
          }
        },
        "e6fdc817b7a44071a868d3ec859658b7": {
          "model_module": "@jupyter-widgets/controls",
          "model_name": "HTMLModel",
          "model_module_version": "1.5.0",
          "state": {
            "_dom_classes": [],
            "_model_module": "@jupyter-widgets/controls",
            "_model_module_version": "1.5.0",
            "_model_name": "HTMLModel",
            "_view_count": null,
            "_view_module": "@jupyter-widgets/controls",
            "_view_module_version": "1.5.0",
            "_view_name": "HTMLView",
            "description": "",
            "description_tooltip": null,
            "layout": "IPY_MODEL_2158313a00b6404da57cd2d87fd5149e",
            "placeholder": "​",
            "style": "IPY_MODEL_7fea10369db64d8db0a5d92d9fae5e14",
            "value": " 232k/232k [00:00&lt;00:00, 5.12MB/s]"
          }
        },
        "e6bf90a09ea643d8b903a1a7886f9faf": {
          "model_module": "@jupyter-widgets/base",
          "model_name": "LayoutModel",
          "model_module_version": "1.2.0",
          "state": {
            "_model_module": "@jupyter-widgets/base",
            "_model_module_version": "1.2.0",
            "_model_name": "LayoutModel",
            "_view_count": null,
            "_view_module": "@jupyter-widgets/base",
            "_view_module_version": "1.2.0",
            "_view_name": "LayoutView",
            "align_content": null,
            "align_items": null,
            "align_self": null,
            "border": null,
            "bottom": null,
            "display": null,
            "flex": null,
            "flex_flow": null,
            "grid_area": null,
            "grid_auto_columns": null,
            "grid_auto_flow": null,
            "grid_auto_rows": null,
            "grid_column": null,
            "grid_gap": null,
            "grid_row": null,
            "grid_template_areas": null,
            "grid_template_columns": null,
            "grid_template_rows": null,
            "height": null,
            "justify_content": null,
            "justify_items": null,
            "left": null,
            "margin": null,
            "max_height": null,
            "max_width": null,
            "min_height": null,
            "min_width": null,
            "object_fit": null,
            "object_position": null,
            "order": null,
            "overflow": null,
            "overflow_x": null,
            "overflow_y": null,
            "padding": null,
            "right": null,
            "top": null,
            "visibility": null,
            "width": null
          }
        },
        "4e9df1d8477b4956a64e7b3229ecb1a7": {
          "model_module": "@jupyter-widgets/base",
          "model_name": "LayoutModel",
          "model_module_version": "1.2.0",
          "state": {
            "_model_module": "@jupyter-widgets/base",
            "_model_module_version": "1.2.0",
            "_model_name": "LayoutModel",
            "_view_count": null,
            "_view_module": "@jupyter-widgets/base",
            "_view_module_version": "1.2.0",
            "_view_name": "LayoutView",
            "align_content": null,
            "align_items": null,
            "align_self": null,
            "border": null,
            "bottom": null,
            "display": null,
            "flex": null,
            "flex_flow": null,
            "grid_area": null,
            "grid_auto_columns": null,
            "grid_auto_flow": null,
            "grid_auto_rows": null,
            "grid_column": null,
            "grid_gap": null,
            "grid_row": null,
            "grid_template_areas": null,
            "grid_template_columns": null,
            "grid_template_rows": null,
            "height": null,
            "justify_content": null,
            "justify_items": null,
            "left": null,
            "margin": null,
            "max_height": null,
            "max_width": null,
            "min_height": null,
            "min_width": null,
            "object_fit": null,
            "object_position": null,
            "order": null,
            "overflow": null,
            "overflow_x": null,
            "overflow_y": null,
            "padding": null,
            "right": null,
            "top": null,
            "visibility": null,
            "width": null
          }
        },
        "21e0cd30b80c4e9d8c454d66dad10c32": {
          "model_module": "@jupyter-widgets/controls",
          "model_name": "DescriptionStyleModel",
          "model_module_version": "1.5.0",
          "state": {
            "_model_module": "@jupyter-widgets/controls",
            "_model_module_version": "1.5.0",
            "_model_name": "DescriptionStyleModel",
            "_view_count": null,
            "_view_module": "@jupyter-widgets/base",
            "_view_module_version": "1.2.0",
            "_view_name": "StyleView",
            "description_width": ""
          }
        },
        "dd721f2bd0b54f2482adb9b978c3aad3": {
          "model_module": "@jupyter-widgets/base",
          "model_name": "LayoutModel",
          "model_module_version": "1.2.0",
          "state": {
            "_model_module": "@jupyter-widgets/base",
            "_model_module_version": "1.2.0",
            "_model_name": "LayoutModel",
            "_view_count": null,
            "_view_module": "@jupyter-widgets/base",
            "_view_module_version": "1.2.0",
            "_view_name": "LayoutView",
            "align_content": null,
            "align_items": null,
            "align_self": null,
            "border": null,
            "bottom": null,
            "display": null,
            "flex": null,
            "flex_flow": null,
            "grid_area": null,
            "grid_auto_columns": null,
            "grid_auto_flow": null,
            "grid_auto_rows": null,
            "grid_column": null,
            "grid_gap": null,
            "grid_row": null,
            "grid_template_areas": null,
            "grid_template_columns": null,
            "grid_template_rows": null,
            "height": null,
            "justify_content": null,
            "justify_items": null,
            "left": null,
            "margin": null,
            "max_height": null,
            "max_width": null,
            "min_height": null,
            "min_width": null,
            "object_fit": null,
            "object_position": null,
            "order": null,
            "overflow": null,
            "overflow_x": null,
            "overflow_y": null,
            "padding": null,
            "right": null,
            "top": null,
            "visibility": null,
            "width": null
          }
        },
        "8eb558bc85434df0b2643dfeabedcf2c": {
          "model_module": "@jupyter-widgets/controls",
          "model_name": "ProgressStyleModel",
          "model_module_version": "1.5.0",
          "state": {
            "_model_module": "@jupyter-widgets/controls",
            "_model_module_version": "1.5.0",
            "_model_name": "ProgressStyleModel",
            "_view_count": null,
            "_view_module": "@jupyter-widgets/base",
            "_view_module_version": "1.2.0",
            "_view_name": "StyleView",
            "bar_color": null,
            "description_width": ""
          }
        },
        "2158313a00b6404da57cd2d87fd5149e": {
          "model_module": "@jupyter-widgets/base",
          "model_name": "LayoutModel",
          "model_module_version": "1.2.0",
          "state": {
            "_model_module": "@jupyter-widgets/base",
            "_model_module_version": "1.2.0",
            "_model_name": "LayoutModel",
            "_view_count": null,
            "_view_module": "@jupyter-widgets/base",
            "_view_module_version": "1.2.0",
            "_view_name": "LayoutView",
            "align_content": null,
            "align_items": null,
            "align_self": null,
            "border": null,
            "bottom": null,
            "display": null,
            "flex": null,
            "flex_flow": null,
            "grid_area": null,
            "grid_auto_columns": null,
            "grid_auto_flow": null,
            "grid_auto_rows": null,
            "grid_column": null,
            "grid_gap": null,
            "grid_row": null,
            "grid_template_areas": null,
            "grid_template_columns": null,
            "grid_template_rows": null,
            "height": null,
            "justify_content": null,
            "justify_items": null,
            "left": null,
            "margin": null,
            "max_height": null,
            "max_width": null,
            "min_height": null,
            "min_width": null,
            "object_fit": null,
            "object_position": null,
            "order": null,
            "overflow": null,
            "overflow_x": null,
            "overflow_y": null,
            "padding": null,
            "right": null,
            "top": null,
            "visibility": null,
            "width": null
          }
        },
        "7fea10369db64d8db0a5d92d9fae5e14": {
          "model_module": "@jupyter-widgets/controls",
          "model_name": "DescriptionStyleModel",
          "model_module_version": "1.5.0",
          "state": {
            "_model_module": "@jupyter-widgets/controls",
            "_model_module_version": "1.5.0",
            "_model_name": "DescriptionStyleModel",
            "_view_count": null,
            "_view_module": "@jupyter-widgets/base",
            "_view_module_version": "1.2.0",
            "_view_name": "StyleView",
            "description_width": ""
          }
        },
        "8cafa650243d44d7b78fef98af718e7f": {
          "model_module": "@jupyter-widgets/controls",
          "model_name": "HBoxModel",
          "model_module_version": "1.5.0",
          "state": {
            "_dom_classes": [],
            "_model_module": "@jupyter-widgets/controls",
            "_model_module_version": "1.5.0",
            "_model_name": "HBoxModel",
            "_view_count": null,
            "_view_module": "@jupyter-widgets/controls",
            "_view_module_version": "1.5.0",
            "_view_name": "HBoxView",
            "box_style": "",
            "children": [
              "IPY_MODEL_51d5d5ee18ff4ed78387bf6d20e404fe",
              "IPY_MODEL_3a5ecc481ca2455ab0c8450eed139a14",
              "IPY_MODEL_47426be8b18442ab8641bdf6295df7a5"
            ],
            "layout": "IPY_MODEL_33ebdc86b8484df69514ebe567519c38"
          }
        },
        "51d5d5ee18ff4ed78387bf6d20e404fe": {
          "model_module": "@jupyter-widgets/controls",
          "model_name": "HTMLModel",
          "model_module_version": "1.5.0",
          "state": {
            "_dom_classes": [],
            "_model_module": "@jupyter-widgets/controls",
            "_model_module_version": "1.5.0",
            "_model_name": "HTMLModel",
            "_view_count": null,
            "_view_module": "@jupyter-widgets/controls",
            "_view_module_version": "1.5.0",
            "_view_name": "HTMLView",
            "description": "",
            "description_tooltip": null,
            "layout": "IPY_MODEL_12a4ed06d49b44d4882f7c49944c4a6f",
            "placeholder": "​",
            "style": "IPY_MODEL_09c9b7233f5e4fa2b25f6613eea20430",
            "value": "tokenizer.json: 100%"
          }
        },
        "3a5ecc481ca2455ab0c8450eed139a14": {
          "model_module": "@jupyter-widgets/controls",
          "model_name": "FloatProgressModel",
          "model_module_version": "1.5.0",
          "state": {
            "_dom_classes": [],
            "_model_module": "@jupyter-widgets/controls",
            "_model_module_version": "1.5.0",
            "_model_name": "FloatProgressModel",
            "_view_count": null,
            "_view_module": "@jupyter-widgets/controls",
            "_view_module_version": "1.5.0",
            "_view_name": "ProgressView",
            "bar_style": "success",
            "description": "",
            "description_tooltip": null,
            "layout": "IPY_MODEL_76efa06b8aec4e24a13de07dfe6b4538",
            "max": 466062,
            "min": 0,
            "orientation": "horizontal",
            "style": "IPY_MODEL_62463b7d6efc4a39957620eaddcdd2e0",
            "value": 466062
          }
        },
        "47426be8b18442ab8641bdf6295df7a5": {
          "model_module": "@jupyter-widgets/controls",
          "model_name": "HTMLModel",
          "model_module_version": "1.5.0",
          "state": {
            "_dom_classes": [],
            "_model_module": "@jupyter-widgets/controls",
            "_model_module_version": "1.5.0",
            "_model_name": "HTMLModel",
            "_view_count": null,
            "_view_module": "@jupyter-widgets/controls",
            "_view_module_version": "1.5.0",
            "_view_name": "HTMLView",
            "description": "",
            "description_tooltip": null,
            "layout": "IPY_MODEL_540253e4268b495d98b7586c8938ab83",
            "placeholder": "​",
            "style": "IPY_MODEL_e2fe2299fc904faea69a6694cb40bf0d",
            "value": " 466k/466k [00:00&lt;00:00, 9.75MB/s]"
          }
        },
        "33ebdc86b8484df69514ebe567519c38": {
          "model_module": "@jupyter-widgets/base",
          "model_name": "LayoutModel",
          "model_module_version": "1.2.0",
          "state": {
            "_model_module": "@jupyter-widgets/base",
            "_model_module_version": "1.2.0",
            "_model_name": "LayoutModel",
            "_view_count": null,
            "_view_module": "@jupyter-widgets/base",
            "_view_module_version": "1.2.0",
            "_view_name": "LayoutView",
            "align_content": null,
            "align_items": null,
            "align_self": null,
            "border": null,
            "bottom": null,
            "display": null,
            "flex": null,
            "flex_flow": null,
            "grid_area": null,
            "grid_auto_columns": null,
            "grid_auto_flow": null,
            "grid_auto_rows": null,
            "grid_column": null,
            "grid_gap": null,
            "grid_row": null,
            "grid_template_areas": null,
            "grid_template_columns": null,
            "grid_template_rows": null,
            "height": null,
            "justify_content": null,
            "justify_items": null,
            "left": null,
            "margin": null,
            "max_height": null,
            "max_width": null,
            "min_height": null,
            "min_width": null,
            "object_fit": null,
            "object_position": null,
            "order": null,
            "overflow": null,
            "overflow_x": null,
            "overflow_y": null,
            "padding": null,
            "right": null,
            "top": null,
            "visibility": null,
            "width": null
          }
        },
        "12a4ed06d49b44d4882f7c49944c4a6f": {
          "model_module": "@jupyter-widgets/base",
          "model_name": "LayoutModel",
          "model_module_version": "1.2.0",
          "state": {
            "_model_module": "@jupyter-widgets/base",
            "_model_module_version": "1.2.0",
            "_model_name": "LayoutModel",
            "_view_count": null,
            "_view_module": "@jupyter-widgets/base",
            "_view_module_version": "1.2.0",
            "_view_name": "LayoutView",
            "align_content": null,
            "align_items": null,
            "align_self": null,
            "border": null,
            "bottom": null,
            "display": null,
            "flex": null,
            "flex_flow": null,
            "grid_area": null,
            "grid_auto_columns": null,
            "grid_auto_flow": null,
            "grid_auto_rows": null,
            "grid_column": null,
            "grid_gap": null,
            "grid_row": null,
            "grid_template_areas": null,
            "grid_template_columns": null,
            "grid_template_rows": null,
            "height": null,
            "justify_content": null,
            "justify_items": null,
            "left": null,
            "margin": null,
            "max_height": null,
            "max_width": null,
            "min_height": null,
            "min_width": null,
            "object_fit": null,
            "object_position": null,
            "order": null,
            "overflow": null,
            "overflow_x": null,
            "overflow_y": null,
            "padding": null,
            "right": null,
            "top": null,
            "visibility": null,
            "width": null
          }
        },
        "09c9b7233f5e4fa2b25f6613eea20430": {
          "model_module": "@jupyter-widgets/controls",
          "model_name": "DescriptionStyleModel",
          "model_module_version": "1.5.0",
          "state": {
            "_model_module": "@jupyter-widgets/controls",
            "_model_module_version": "1.5.0",
            "_model_name": "DescriptionStyleModel",
            "_view_count": null,
            "_view_module": "@jupyter-widgets/base",
            "_view_module_version": "1.2.0",
            "_view_name": "StyleView",
            "description_width": ""
          }
        },
        "76efa06b8aec4e24a13de07dfe6b4538": {
          "model_module": "@jupyter-widgets/base",
          "model_name": "LayoutModel",
          "model_module_version": "1.2.0",
          "state": {
            "_model_module": "@jupyter-widgets/base",
            "_model_module_version": "1.2.0",
            "_model_name": "LayoutModel",
            "_view_count": null,
            "_view_module": "@jupyter-widgets/base",
            "_view_module_version": "1.2.0",
            "_view_name": "LayoutView",
            "align_content": null,
            "align_items": null,
            "align_self": null,
            "border": null,
            "bottom": null,
            "display": null,
            "flex": null,
            "flex_flow": null,
            "grid_area": null,
            "grid_auto_columns": null,
            "grid_auto_flow": null,
            "grid_auto_rows": null,
            "grid_column": null,
            "grid_gap": null,
            "grid_row": null,
            "grid_template_areas": null,
            "grid_template_columns": null,
            "grid_template_rows": null,
            "height": null,
            "justify_content": null,
            "justify_items": null,
            "left": null,
            "margin": null,
            "max_height": null,
            "max_width": null,
            "min_height": null,
            "min_width": null,
            "object_fit": null,
            "object_position": null,
            "order": null,
            "overflow": null,
            "overflow_x": null,
            "overflow_y": null,
            "padding": null,
            "right": null,
            "top": null,
            "visibility": null,
            "width": null
          }
        },
        "62463b7d6efc4a39957620eaddcdd2e0": {
          "model_module": "@jupyter-widgets/controls",
          "model_name": "ProgressStyleModel",
          "model_module_version": "1.5.0",
          "state": {
            "_model_module": "@jupyter-widgets/controls",
            "_model_module_version": "1.5.0",
            "_model_name": "ProgressStyleModel",
            "_view_count": null,
            "_view_module": "@jupyter-widgets/base",
            "_view_module_version": "1.2.0",
            "_view_name": "StyleView",
            "bar_color": null,
            "description_width": ""
          }
        },
        "540253e4268b495d98b7586c8938ab83": {
          "model_module": "@jupyter-widgets/base",
          "model_name": "LayoutModel",
          "model_module_version": "1.2.0",
          "state": {
            "_model_module": "@jupyter-widgets/base",
            "_model_module_version": "1.2.0",
            "_model_name": "LayoutModel",
            "_view_count": null,
            "_view_module": "@jupyter-widgets/base",
            "_view_module_version": "1.2.0",
            "_view_name": "LayoutView",
            "align_content": null,
            "align_items": null,
            "align_self": null,
            "border": null,
            "bottom": null,
            "display": null,
            "flex": null,
            "flex_flow": null,
            "grid_area": null,
            "grid_auto_columns": null,
            "grid_auto_flow": null,
            "grid_auto_rows": null,
            "grid_column": null,
            "grid_gap": null,
            "grid_row": null,
            "grid_template_areas": null,
            "grid_template_columns": null,
            "grid_template_rows": null,
            "height": null,
            "justify_content": null,
            "justify_items": null,
            "left": null,
            "margin": null,
            "max_height": null,
            "max_width": null,
            "min_height": null,
            "min_width": null,
            "object_fit": null,
            "object_position": null,
            "order": null,
            "overflow": null,
            "overflow_x": null,
            "overflow_y": null,
            "padding": null,
            "right": null,
            "top": null,
            "visibility": null,
            "width": null
          }
        },
        "e2fe2299fc904faea69a6694cb40bf0d": {
          "model_module": "@jupyter-widgets/controls",
          "model_name": "DescriptionStyleModel",
          "model_module_version": "1.5.0",
          "state": {
            "_model_module": "@jupyter-widgets/controls",
            "_model_module_version": "1.5.0",
            "_model_name": "DescriptionStyleModel",
            "_view_count": null,
            "_view_module": "@jupyter-widgets/base",
            "_view_module_version": "1.2.0",
            "_view_name": "StyleView",
            "description_width": ""
          }
        },
        "e1b560c327aa45a28a9a8ce0ba15d202": {
          "model_module": "@jupyter-widgets/controls",
          "model_name": "HBoxModel",
          "model_module_version": "1.5.0",
          "state": {
            "_dom_classes": [],
            "_model_module": "@jupyter-widgets/controls",
            "_model_module_version": "1.5.0",
            "_model_name": "HBoxModel",
            "_view_count": null,
            "_view_module": "@jupyter-widgets/controls",
            "_view_module_version": "1.5.0",
            "_view_name": "HBoxView",
            "box_style": "",
            "children": [
              "IPY_MODEL_d5e8239541454998aca4acb660b38312",
              "IPY_MODEL_201a68b705c944688c8cd864eed5fd9f",
              "IPY_MODEL_93d753e95388489a8c6e7e6d4fd3d44e"
            ],
            "layout": "IPY_MODEL_e17aa1d11c0d4bc89451bc27f377c231"
          }
        },
        "d5e8239541454998aca4acb660b38312": {
          "model_module": "@jupyter-widgets/controls",
          "model_name": "HTMLModel",
          "model_module_version": "1.5.0",
          "state": {
            "_dom_classes": [],
            "_model_module": "@jupyter-widgets/controls",
            "_model_module_version": "1.5.0",
            "_model_name": "HTMLModel",
            "_view_count": null,
            "_view_module": "@jupyter-widgets/controls",
            "_view_module_version": "1.5.0",
            "_view_name": "HTMLView",
            "description": "",
            "description_tooltip": null,
            "layout": "IPY_MODEL_5a8cab6a4ade4e16959bfb268db244e8",
            "placeholder": "​",
            "style": "IPY_MODEL_73ed44c3b9024004a59bd08a95c61bac",
            "value": "config.json: 100%"
          }
        },
        "201a68b705c944688c8cd864eed5fd9f": {
          "model_module": "@jupyter-widgets/controls",
          "model_name": "FloatProgressModel",
          "model_module_version": "1.5.0",
          "state": {
            "_dom_classes": [],
            "_model_module": "@jupyter-widgets/controls",
            "_model_module_version": "1.5.0",
            "_model_name": "FloatProgressModel",
            "_view_count": null,
            "_view_module": "@jupyter-widgets/controls",
            "_view_module_version": "1.5.0",
            "_view_name": "ProgressView",
            "bar_style": "success",
            "description": "",
            "description_tooltip": null,
            "layout": "IPY_MODEL_08e03cc733e048a18af661cff002d321",
            "max": 570,
            "min": 0,
            "orientation": "horizontal",
            "style": "IPY_MODEL_d85cbcb655c6478498ab63c17eabb319",
            "value": 570
          }
        },
        "93d753e95388489a8c6e7e6d4fd3d44e": {
          "model_module": "@jupyter-widgets/controls",
          "model_name": "HTMLModel",
          "model_module_version": "1.5.0",
          "state": {
            "_dom_classes": [],
            "_model_module": "@jupyter-widgets/controls",
            "_model_module_version": "1.5.0",
            "_model_name": "HTMLModel",
            "_view_count": null,
            "_view_module": "@jupyter-widgets/controls",
            "_view_module_version": "1.5.0",
            "_view_name": "HTMLView",
            "description": "",
            "description_tooltip": null,
            "layout": "IPY_MODEL_44b85f89ef0044da839b0a8658fc1997",
            "placeholder": "​",
            "style": "IPY_MODEL_6be177c3c85245018648c0d1af5d0ad3",
            "value": " 570/570 [00:00&lt;00:00, 43.8kB/s]"
          }
        },
        "e17aa1d11c0d4bc89451bc27f377c231": {
          "model_module": "@jupyter-widgets/base",
          "model_name": "LayoutModel",
          "model_module_version": "1.2.0",
          "state": {
            "_model_module": "@jupyter-widgets/base",
            "_model_module_version": "1.2.0",
            "_model_name": "LayoutModel",
            "_view_count": null,
            "_view_module": "@jupyter-widgets/base",
            "_view_module_version": "1.2.0",
            "_view_name": "LayoutView",
            "align_content": null,
            "align_items": null,
            "align_self": null,
            "border": null,
            "bottom": null,
            "display": null,
            "flex": null,
            "flex_flow": null,
            "grid_area": null,
            "grid_auto_columns": null,
            "grid_auto_flow": null,
            "grid_auto_rows": null,
            "grid_column": null,
            "grid_gap": null,
            "grid_row": null,
            "grid_template_areas": null,
            "grid_template_columns": null,
            "grid_template_rows": null,
            "height": null,
            "justify_content": null,
            "justify_items": null,
            "left": null,
            "margin": null,
            "max_height": null,
            "max_width": null,
            "min_height": null,
            "min_width": null,
            "object_fit": null,
            "object_position": null,
            "order": null,
            "overflow": null,
            "overflow_x": null,
            "overflow_y": null,
            "padding": null,
            "right": null,
            "top": null,
            "visibility": null,
            "width": null
          }
        },
        "5a8cab6a4ade4e16959bfb268db244e8": {
          "model_module": "@jupyter-widgets/base",
          "model_name": "LayoutModel",
          "model_module_version": "1.2.0",
          "state": {
            "_model_module": "@jupyter-widgets/base",
            "_model_module_version": "1.2.0",
            "_model_name": "LayoutModel",
            "_view_count": null,
            "_view_module": "@jupyter-widgets/base",
            "_view_module_version": "1.2.0",
            "_view_name": "LayoutView",
            "align_content": null,
            "align_items": null,
            "align_self": null,
            "border": null,
            "bottom": null,
            "display": null,
            "flex": null,
            "flex_flow": null,
            "grid_area": null,
            "grid_auto_columns": null,
            "grid_auto_flow": null,
            "grid_auto_rows": null,
            "grid_column": null,
            "grid_gap": null,
            "grid_row": null,
            "grid_template_areas": null,
            "grid_template_columns": null,
            "grid_template_rows": null,
            "height": null,
            "justify_content": null,
            "justify_items": null,
            "left": null,
            "margin": null,
            "max_height": null,
            "max_width": null,
            "min_height": null,
            "min_width": null,
            "object_fit": null,
            "object_position": null,
            "order": null,
            "overflow": null,
            "overflow_x": null,
            "overflow_y": null,
            "padding": null,
            "right": null,
            "top": null,
            "visibility": null,
            "width": null
          }
        },
        "73ed44c3b9024004a59bd08a95c61bac": {
          "model_module": "@jupyter-widgets/controls",
          "model_name": "DescriptionStyleModel",
          "model_module_version": "1.5.0",
          "state": {
            "_model_module": "@jupyter-widgets/controls",
            "_model_module_version": "1.5.0",
            "_model_name": "DescriptionStyleModel",
            "_view_count": null,
            "_view_module": "@jupyter-widgets/base",
            "_view_module_version": "1.2.0",
            "_view_name": "StyleView",
            "description_width": ""
          }
        },
        "08e03cc733e048a18af661cff002d321": {
          "model_module": "@jupyter-widgets/base",
          "model_name": "LayoutModel",
          "model_module_version": "1.2.0",
          "state": {
            "_model_module": "@jupyter-widgets/base",
            "_model_module_version": "1.2.0",
            "_model_name": "LayoutModel",
            "_view_count": null,
            "_view_module": "@jupyter-widgets/base",
            "_view_module_version": "1.2.0",
            "_view_name": "LayoutView",
            "align_content": null,
            "align_items": null,
            "align_self": null,
            "border": null,
            "bottom": null,
            "display": null,
            "flex": null,
            "flex_flow": null,
            "grid_area": null,
            "grid_auto_columns": null,
            "grid_auto_flow": null,
            "grid_auto_rows": null,
            "grid_column": null,
            "grid_gap": null,
            "grid_row": null,
            "grid_template_areas": null,
            "grid_template_columns": null,
            "grid_template_rows": null,
            "height": null,
            "justify_content": null,
            "justify_items": null,
            "left": null,
            "margin": null,
            "max_height": null,
            "max_width": null,
            "min_height": null,
            "min_width": null,
            "object_fit": null,
            "object_position": null,
            "order": null,
            "overflow": null,
            "overflow_x": null,
            "overflow_y": null,
            "padding": null,
            "right": null,
            "top": null,
            "visibility": null,
            "width": null
          }
        },
        "d85cbcb655c6478498ab63c17eabb319": {
          "model_module": "@jupyter-widgets/controls",
          "model_name": "ProgressStyleModel",
          "model_module_version": "1.5.0",
          "state": {
            "_model_module": "@jupyter-widgets/controls",
            "_model_module_version": "1.5.0",
            "_model_name": "ProgressStyleModel",
            "_view_count": null,
            "_view_module": "@jupyter-widgets/base",
            "_view_module_version": "1.2.0",
            "_view_name": "StyleView",
            "bar_color": null,
            "description_width": ""
          }
        },
        "44b85f89ef0044da839b0a8658fc1997": {
          "model_module": "@jupyter-widgets/base",
          "model_name": "LayoutModel",
          "model_module_version": "1.2.0",
          "state": {
            "_model_module": "@jupyter-widgets/base",
            "_model_module_version": "1.2.0",
            "_model_name": "LayoutModel",
            "_view_count": null,
            "_view_module": "@jupyter-widgets/base",
            "_view_module_version": "1.2.0",
            "_view_name": "LayoutView",
            "align_content": null,
            "align_items": null,
            "align_self": null,
            "border": null,
            "bottom": null,
            "display": null,
            "flex": null,
            "flex_flow": null,
            "grid_area": null,
            "grid_auto_columns": null,
            "grid_auto_flow": null,
            "grid_auto_rows": null,
            "grid_column": null,
            "grid_gap": null,
            "grid_row": null,
            "grid_template_areas": null,
            "grid_template_columns": null,
            "grid_template_rows": null,
            "height": null,
            "justify_content": null,
            "justify_items": null,
            "left": null,
            "margin": null,
            "max_height": null,
            "max_width": null,
            "min_height": null,
            "min_width": null,
            "object_fit": null,
            "object_position": null,
            "order": null,
            "overflow": null,
            "overflow_x": null,
            "overflow_y": null,
            "padding": null,
            "right": null,
            "top": null,
            "visibility": null,
            "width": null
          }
        },
        "6be177c3c85245018648c0d1af5d0ad3": {
          "model_module": "@jupyter-widgets/controls",
          "model_name": "DescriptionStyleModel",
          "model_module_version": "1.5.0",
          "state": {
            "_model_module": "@jupyter-widgets/controls",
            "_model_module_version": "1.5.0",
            "_model_name": "DescriptionStyleModel",
            "_view_count": null,
            "_view_module": "@jupyter-widgets/base",
            "_view_module_version": "1.2.0",
            "_view_name": "StyleView",
            "description_width": ""
          }
        },
        "f6332883abba4dcab4622f73c56e3f0f": {
          "model_module": "@jupyter-widgets/controls",
          "model_name": "HBoxModel",
          "model_module_version": "1.5.0",
          "state": {
            "_dom_classes": [],
            "_model_module": "@jupyter-widgets/controls",
            "_model_module_version": "1.5.0",
            "_model_name": "HBoxModel",
            "_view_count": null,
            "_view_module": "@jupyter-widgets/controls",
            "_view_module_version": "1.5.0",
            "_view_name": "HBoxView",
            "box_style": "",
            "children": [
              "IPY_MODEL_27255217473d40ca819f591bcb568617",
              "IPY_MODEL_0a63eec5b5f441d68a140f0d1fdbd562",
              "IPY_MODEL_da92b306b6aa45c8807f4d8e6508f1d1"
            ],
            "layout": "IPY_MODEL_56bd7ff61f6f4aa2809cfd4a214701ef"
          }
        },
        "27255217473d40ca819f591bcb568617": {
          "model_module": "@jupyter-widgets/controls",
          "model_name": "HTMLModel",
          "model_module_version": "1.5.0",
          "state": {
            "_dom_classes": [],
            "_model_module": "@jupyter-widgets/controls",
            "_model_module_version": "1.5.0",
            "_model_name": "HTMLModel",
            "_view_count": null,
            "_view_module": "@jupyter-widgets/controls",
            "_view_module_version": "1.5.0",
            "_view_name": "HTMLView",
            "description": "",
            "description_tooltip": null,
            "layout": "IPY_MODEL_26d2037f999945b594130b28af320202",
            "placeholder": "​",
            "style": "IPY_MODEL_569d1a5605614cc7981ce98a5b0b2828",
            "value": "model.safetensors: 100%"
          }
        },
        "0a63eec5b5f441d68a140f0d1fdbd562": {
          "model_module": "@jupyter-widgets/controls",
          "model_name": "FloatProgressModel",
          "model_module_version": "1.5.0",
          "state": {
            "_dom_classes": [],
            "_model_module": "@jupyter-widgets/controls",
            "_model_module_version": "1.5.0",
            "_model_name": "FloatProgressModel",
            "_view_count": null,
            "_view_module": "@jupyter-widgets/controls",
            "_view_module_version": "1.5.0",
            "_view_name": "ProgressView",
            "bar_style": "success",
            "description": "",
            "description_tooltip": null,
            "layout": "IPY_MODEL_e0bcb96e16a24dc29cca397fe296c408",
            "max": 440449768,
            "min": 0,
            "orientation": "horizontal",
            "style": "IPY_MODEL_6d1a291083f6410bb6bc69c566b0dd2b",
            "value": 440449768
          }
        },
        "da92b306b6aa45c8807f4d8e6508f1d1": {
          "model_module": "@jupyter-widgets/controls",
          "model_name": "HTMLModel",
          "model_module_version": "1.5.0",
          "state": {
            "_dom_classes": [],
            "_model_module": "@jupyter-widgets/controls",
            "_model_module_version": "1.5.0",
            "_model_name": "HTMLModel",
            "_view_count": null,
            "_view_module": "@jupyter-widgets/controls",
            "_view_module_version": "1.5.0",
            "_view_name": "HTMLView",
            "description": "",
            "description_tooltip": null,
            "layout": "IPY_MODEL_ed3af751a2a046dcbad865946edb84a9",
            "placeholder": "​",
            "style": "IPY_MODEL_bc350c0f2c89445991ce04ed0d2d1ce7",
            "value": " 440M/440M [00:02&lt;00:00, 227MB/s]"
          }
        },
        "56bd7ff61f6f4aa2809cfd4a214701ef": {
          "model_module": "@jupyter-widgets/base",
          "model_name": "LayoutModel",
          "model_module_version": "1.2.0",
          "state": {
            "_model_module": "@jupyter-widgets/base",
            "_model_module_version": "1.2.0",
            "_model_name": "LayoutModel",
            "_view_count": null,
            "_view_module": "@jupyter-widgets/base",
            "_view_module_version": "1.2.0",
            "_view_name": "LayoutView",
            "align_content": null,
            "align_items": null,
            "align_self": null,
            "border": null,
            "bottom": null,
            "display": null,
            "flex": null,
            "flex_flow": null,
            "grid_area": null,
            "grid_auto_columns": null,
            "grid_auto_flow": null,
            "grid_auto_rows": null,
            "grid_column": null,
            "grid_gap": null,
            "grid_row": null,
            "grid_template_areas": null,
            "grid_template_columns": null,
            "grid_template_rows": null,
            "height": null,
            "justify_content": null,
            "justify_items": null,
            "left": null,
            "margin": null,
            "max_height": null,
            "max_width": null,
            "min_height": null,
            "min_width": null,
            "object_fit": null,
            "object_position": null,
            "order": null,
            "overflow": null,
            "overflow_x": null,
            "overflow_y": null,
            "padding": null,
            "right": null,
            "top": null,
            "visibility": null,
            "width": null
          }
        },
        "26d2037f999945b594130b28af320202": {
          "model_module": "@jupyter-widgets/base",
          "model_name": "LayoutModel",
          "model_module_version": "1.2.0",
          "state": {
            "_model_module": "@jupyter-widgets/base",
            "_model_module_version": "1.2.0",
            "_model_name": "LayoutModel",
            "_view_count": null,
            "_view_module": "@jupyter-widgets/base",
            "_view_module_version": "1.2.0",
            "_view_name": "LayoutView",
            "align_content": null,
            "align_items": null,
            "align_self": null,
            "border": null,
            "bottom": null,
            "display": null,
            "flex": null,
            "flex_flow": null,
            "grid_area": null,
            "grid_auto_columns": null,
            "grid_auto_flow": null,
            "grid_auto_rows": null,
            "grid_column": null,
            "grid_gap": null,
            "grid_row": null,
            "grid_template_areas": null,
            "grid_template_columns": null,
            "grid_template_rows": null,
            "height": null,
            "justify_content": null,
            "justify_items": null,
            "left": null,
            "margin": null,
            "max_height": null,
            "max_width": null,
            "min_height": null,
            "min_width": null,
            "object_fit": null,
            "object_position": null,
            "order": null,
            "overflow": null,
            "overflow_x": null,
            "overflow_y": null,
            "padding": null,
            "right": null,
            "top": null,
            "visibility": null,
            "width": null
          }
        },
        "569d1a5605614cc7981ce98a5b0b2828": {
          "model_module": "@jupyter-widgets/controls",
          "model_name": "DescriptionStyleModel",
          "model_module_version": "1.5.0",
          "state": {
            "_model_module": "@jupyter-widgets/controls",
            "_model_module_version": "1.5.0",
            "_model_name": "DescriptionStyleModel",
            "_view_count": null,
            "_view_module": "@jupyter-widgets/base",
            "_view_module_version": "1.2.0",
            "_view_name": "StyleView",
            "description_width": ""
          }
        },
        "e0bcb96e16a24dc29cca397fe296c408": {
          "model_module": "@jupyter-widgets/base",
          "model_name": "LayoutModel",
          "model_module_version": "1.2.0",
          "state": {
            "_model_module": "@jupyter-widgets/base",
            "_model_module_version": "1.2.0",
            "_model_name": "LayoutModel",
            "_view_count": null,
            "_view_module": "@jupyter-widgets/base",
            "_view_module_version": "1.2.0",
            "_view_name": "LayoutView",
            "align_content": null,
            "align_items": null,
            "align_self": null,
            "border": null,
            "bottom": null,
            "display": null,
            "flex": null,
            "flex_flow": null,
            "grid_area": null,
            "grid_auto_columns": null,
            "grid_auto_flow": null,
            "grid_auto_rows": null,
            "grid_column": null,
            "grid_gap": null,
            "grid_row": null,
            "grid_template_areas": null,
            "grid_template_columns": null,
            "grid_template_rows": null,
            "height": null,
            "justify_content": null,
            "justify_items": null,
            "left": null,
            "margin": null,
            "max_height": null,
            "max_width": null,
            "min_height": null,
            "min_width": null,
            "object_fit": null,
            "object_position": null,
            "order": null,
            "overflow": null,
            "overflow_x": null,
            "overflow_y": null,
            "padding": null,
            "right": null,
            "top": null,
            "visibility": null,
            "width": null
          }
        },
        "6d1a291083f6410bb6bc69c566b0dd2b": {
          "model_module": "@jupyter-widgets/controls",
          "model_name": "ProgressStyleModel",
          "model_module_version": "1.5.0",
          "state": {
            "_model_module": "@jupyter-widgets/controls",
            "_model_module_version": "1.5.0",
            "_model_name": "ProgressStyleModel",
            "_view_count": null,
            "_view_module": "@jupyter-widgets/base",
            "_view_module_version": "1.2.0",
            "_view_name": "StyleView",
            "bar_color": null,
            "description_width": ""
          }
        },
        "ed3af751a2a046dcbad865946edb84a9": {
          "model_module": "@jupyter-widgets/base",
          "model_name": "LayoutModel",
          "model_module_version": "1.2.0",
          "state": {
            "_model_module": "@jupyter-widgets/base",
            "_model_module_version": "1.2.0",
            "_model_name": "LayoutModel",
            "_view_count": null,
            "_view_module": "@jupyter-widgets/base",
            "_view_module_version": "1.2.0",
            "_view_name": "LayoutView",
            "align_content": null,
            "align_items": null,
            "align_self": null,
            "border": null,
            "bottom": null,
            "display": null,
            "flex": null,
            "flex_flow": null,
            "grid_area": null,
            "grid_auto_columns": null,
            "grid_auto_flow": null,
            "grid_auto_rows": null,
            "grid_column": null,
            "grid_gap": null,
            "grid_row": null,
            "grid_template_areas": null,
            "grid_template_columns": null,
            "grid_template_rows": null,
            "height": null,
            "justify_content": null,
            "justify_items": null,
            "left": null,
            "margin": null,
            "max_height": null,
            "max_width": null,
            "min_height": null,
            "min_width": null,
            "object_fit": null,
            "object_position": null,
            "order": null,
            "overflow": null,
            "overflow_x": null,
            "overflow_y": null,
            "padding": null,
            "right": null,
            "top": null,
            "visibility": null,
            "width": null
          }
        },
        "bc350c0f2c89445991ce04ed0d2d1ce7": {
          "model_module": "@jupyter-widgets/controls",
          "model_name": "DescriptionStyleModel",
          "model_module_version": "1.5.0",
          "state": {
            "_model_module": "@jupyter-widgets/controls",
            "_model_module_version": "1.5.0",
            "_model_name": "DescriptionStyleModel",
            "_view_count": null,
            "_view_module": "@jupyter-widgets/base",
            "_view_module_version": "1.2.0",
            "_view_name": "StyleView",
            "description_width": ""
          }
        }
      }
    }
  },
  "nbformat": 4,
  "nbformat_minor": 0
}